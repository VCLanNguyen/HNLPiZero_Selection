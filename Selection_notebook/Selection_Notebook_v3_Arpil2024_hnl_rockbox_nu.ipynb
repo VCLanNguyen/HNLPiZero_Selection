{
 "cells": [
  {
   "cell_type": "code",
   "execution_count": null,
   "metadata": {},
   "outputs": [],
   "source": [
    "# Add the relevant scripts from LArMachineLearningData\n",
    "# Nice the process so it can run with lots of cores on low priority\n",
    "import os\n",
    "os.nice(20)\n",
    "\n",
    "# Add local paths\n",
    "import sys\n",
    "hnlDIR = os.environ['_']\n",
    "sys.path.append('../pyscript')\n",
    "\n",
    "# From pyscript Library\n",
    "from Plotting import *\n",
    "from Dictionary import *\n",
    "from HelperFunctions import *\n",
    "from CutFunctions import *\n",
    "\n",
    "import pickle\n",
    "import numpy as np\n",
    "import pandas as pd\n",
    "import matplotlib.pyplot as plt\n",
    "\n",
    "import warnings\n",
    "warnings.filterwarnings(\"ignore\")"
   ]
  },
  {
   "cell_type": "markdown",
   "metadata": {},
   "source": [
    "<h1>Specify Mass</h1>"
   ]
  },
  {
   "cell_type": "code",
   "execution_count": null,
   "metadata": {},
   "outputs": [],
   "source": [
    "m = 200"
   ]
  },
  {
   "cell_type": "markdown",
   "metadata": {},
   "source": [
    "<h1>Configuration Stuff Here</h1>"
   ]
  },
  {
   "cell_type": "code",
   "execution_count": null,
   "metadata": {},
   "outputs": [],
   "source": [
    "ifSave = True\n",
    "savePath = \"../plot_files/14April2024_m\"+str(m)+\"_v3/\""
   ]
  },
  {
   "cell_type": "code",
   "execution_count": null,
   "metadata": {},
   "outputs": [],
   "source": [
    "ifCut = True"
   ]
  },
  {
   "cell_type": "code",
   "execution_count": null,
   "metadata": {},
   "outputs": [],
   "source": [
    "ifTune = False\n",
    "\n",
    "TuneCut = {}\n",
    " \n",
    "if m == 200:\n",
    "    TuneCut = {\n",
    "    'beamSpillBegin': 367 - 16\n",
    "    , 'beamSpillEnd': 367 + 1600 + 16\n",
    "    , 'crumbs': 0 \n",
    "    , 'Muon' : 0.04\n",
    "    , 'Proton' : 0.96\n",
    "    , 'Pion' : 0.86\n",
    "    , 'Electron' : 0.96\n",
    "    , 'Photon' : 0.04\n",
    "    , 'ShowerEnergy': 20 \n",
    "    , 'PE': 2500\n",
    "    , 'OneShowerFracMore': -0.1 #0\n",
    "    , 'OneShowerFracLess': 0.44\n",
    "    , 'TwoShowerFracMore': 0 #0\n",
    "    , 'TwoShowerFracLess': 0.44    \n",
    "    , 'OneShowerTheta': 20#19 #13.2 #19\n",
    "    , 'TwoShowerTheta': 30 #30 #27 #16.8 #25\n",
    "    }"
   ]
  },
  {
   "cell_type": "markdown",
   "metadata": {},
   "source": [
    "<h1> Read in PKL Dataframe </h1>"
   ]
  },
  {
   "cell_type": "markdown",
   "metadata": {},
   "source": [
    "<h3> HNL </h3>"
   ]
  },
  {
   "cell_type": "code",
   "execution_count": null,
   "metadata": {},
   "outputs": [],
   "source": [
    "df_hnl = pd.DataFrame()\n",
    "\n",
    "for i in range(0, 4):\n",
    "    hnl_path = \"../pkl_files/v3_April2024/hnl_m\"+str(m)+\"_slc_{}.pkl\".format(i)\n",
    "    print(hnl_path)\n",
    "    \n",
    "    file = open(hnl_path, 'rb')\n",
    "    df = pickle.load(file)\n",
    "    \n",
    "    df_hnl = pd.concat((df_hnl, df), ignore_index=True)\n",
    "    file.close()\n",
    "    \n",
    "#--------------------------------------------------#\n",
    "dfsubrun_hnl = pd.DataFrame()\n",
    "\n",
    "for i in range(0, 4):\n",
    "    hnl_path = \"../pkl_files/v3_April2024/hnl_m\"+str(m)+\"_subrun_{}.pkl\".format(i)\n",
    "    print(hnl_path)\n",
    "    \n",
    "    file = open(hnl_path, 'rb')\n",
    "    df = pickle.load(file)\n",
    "    \n",
    "    dfsubrun_hnl = pd.concat((dfsubrun_hnl, df), ignore_index=True)\n",
    "    file.close()"
   ]
  },
  {
   "cell_type": "code",
   "execution_count": null,
   "metadata": {},
   "outputs": [],
   "source": [
    "for c in df_hnl.columns:\n",
    "    print(c)"
   ]
  },
  {
   "cell_type": "markdown",
   "metadata": {},
   "source": [
    "<h3> Rcokbox Neutrino </h3>"
   ]
  },
  {
   "cell_type": "code",
   "execution_count": null,
   "metadata": {},
   "outputs": [],
   "source": [
    "df_nu = pd.DataFrame()\n",
    "\n",
    "for i in range(0, 51):\n",
    "    nu_path = \"../pkl_files/v3_April2024/rockbox_slc_{}.pkl\".format(i)\n",
    "    print(nu_path)\n",
    "    \n",
    "    file = open(nu_path, 'rb')\n",
    "    df = pickle.load(file)\n",
    "    \n",
    "    df_nu = pd.concat((df_nu, df), ignore_index=True)\n",
    "    file.close()\n",
    "    \n",
    "#--------------------------------------------------#\n",
    "dfsubrun_nu = pd.DataFrame()\n",
    "\n",
    "for i in range(0, 51):\n",
    "    nu_path = \"../pkl_files/v3_April2024/rockbox_subrun_{}.pkl\".format(i)\n",
    "    print(nu_path)\n",
    "    \n",
    "    file = open(nu_path, 'rb')\n",
    "    df = pickle.load(file)\n",
    "    \n",
    "    dfsubrun_nu = pd.concat((dfsubrun_nu, df), ignore_index=True)\n",
    "    file.close()"
   ]
  },
  {
   "cell_type": "markdown",
   "metadata": {},
   "source": [
    "<h3> NCPi0 </h3>"
   ]
  },
  {
   "cell_type": "code",
   "execution_count": null,
   "metadata": {},
   "outputs": [],
   "source": [
    "df_ncpi0 = pd.DataFrame()\n",
    "\n",
    "for i in range(0, 15):\n",
    "    nu_path = \"../pkl_files/v3_April2024/ncpi0_slc_{}.pkl\".format(i)\n",
    "    print(nu_path)\n",
    "    \n",
    "    file = open(nu_path, 'rb')\n",
    "    df = pickle.load(file)\n",
    "    \n",
    "    df_ncpi0 = pd.concat((df_ncpi0, df), ignore_index=True)\n",
    "    file.close()\n",
    "    \n",
    "#--------------------------------------------------#\n",
    "dfsubrun_ncpi0 = pd.DataFrame()\n",
    "\n",
    "for i in range(0, 15):\n",
    "    nu_path = \"../pkl_files/v3_April2024/ncpi0_subrun_{}.pkl\".format(i)\n",
    "    print(nu_path)\n",
    "    \n",
    "    file = open(nu_path, 'rb')\n",
    "    df = pickle.load(file)\n",
    "    \n",
    "    dfsubrun_ncpi0 = pd.concat((dfsubrun_ncpi0, df), ignore_index=True)\n",
    "    file.close()"
   ]
  },
  {
   "cell_type": "markdown",
   "metadata": {},
   "source": [
    "<h3> Intime Cosmics </h3>"
   ]
  },
  {
   "cell_type": "code",
   "execution_count": null,
   "metadata": {},
   "outputs": [],
   "source": [
    "df_cos = pd.DataFrame()\n",
    "\n",
    "for i in range(0, 3):\n",
    "    cos_path = \"../pkl_files/v3_April2024/intime_cosmic_slc_{}.pkl\".format(i)\n",
    "    print(cos_path)\n",
    "    \n",
    "    file = open(cos_path, 'rb')\n",
    "    df = pickle.load(file)\n",
    "    \n",
    "    df_cos = pd.concat((df_cos, df), ignore_index=True)\n",
    "    file.close()\n",
    "    \n",
    "#--------------------------------------------------#\n",
    "dfsubrun_cos = pd.DataFrame()\n",
    "\n",
    "for i in range(0, 3):\n",
    "    cos_path = \"../pkl_files/v3_April2024/intime_cosmic_subrun_{}.pkl\".format(i)\n",
    "    print(cos_path)\n",
    "    \n",
    "    file = open(cos_path, 'rb')\n",
    "    df = pickle.load(file)\n",
    "    \n",
    "    dfsubrun_cos = pd.concat((dfsubrun_cos, df), ignore_index=True)\n",
    "    file.close()"
   ]
  },
  {
   "cell_type": "markdown",
   "metadata": {},
   "source": [
    "<h1>Some Scaling Voodoo</h1>"
   ]
  },
  {
   "cell_type": "markdown",
   "metadata": {},
   "source": [
    "<h3>HNL</h3>"
   ]
  },
  {
   "cell_type": "code",
   "execution_count": null,
   "metadata": {},
   "outputs": [],
   "source": [
    "true_signals = 1\n",
    "true_nonfv_signals = 1\n",
    "total_true_signals = 1\n",
    "start_signals = 1\n",
    "start_nonfv_signals = 1\n",
    "total_start_signals = 1\n",
    "    \n",
    "if m == 200:\n",
    "    true_signals = 14560 + 13929 + 12594 + 573\n",
    "    true_nonfv_signals = 6440 + 6071 + 5506 + 277\n",
    "    total_true_signals = 21000 + 20000 + 18100 + 850\n",
    "    start_signals = 13871 + 13237 + 12007 + 545\n",
    "    start_nonfv_signals = 5400 + 5021 + 4601 + 229\n",
    "    total_start_signals = 19271 + 18258 + 16608 + 774"
   ]
  },
  {
   "cell_type": "code",
   "execution_count": null,
   "metadata": {},
   "outputs": [],
   "source": [
    "#Sanity Check: ifScale == 1 i.e. Umu = 1e-7 and 3 years POT\n",
    "#true counts ~1.5k\n",
    "#start counts ~1.4k\n",
    "scale_pot_hnl, hnl_spills = calc_scaling_pot(dfsubrun_hnl, df_hnl, ifScale = 1)\n",
    "\n",
    "true_signals = true_signals * scale_pot_hnl\n",
    "true_nonfv_signals = true_nonfv_signals * scale_pot_hnl\n",
    "total_true_signals = total_true_signals * scale_pot_hnl\n",
    "\n",
    "start_signals = start_signals * scale_pot_hnl\n",
    "start_nonfv_signals = start_nonfv_signals * scale_pot_hnl\n",
    "total_start_signals = total_start_signals * scale_pot_hnl\n",
    "\n",
    "true_counts = total_true_signals\n",
    "start_counts = total_start_signals\n",
    "print(\"true counts = \" + str(true_counts))\n",
    "print(\"start counts = \" + str(start_counts))"
   ]
  },
  {
   "cell_type": "code",
   "execution_count": null,
   "metadata": {},
   "outputs": [],
   "source": [
    "simU = 1 #already squared\n",
    "\n",
    "if m == 140:\n",
    "    simU = 1e-5\n",
    "if m == 200:\n",
    "    simU = 1e-7\n",
    "if m == 240:\n",
    "    simU = 1e-7\n",
    "    \n",
    "scaleHNLPlot = 1\n",
    "\n",
    "if m ==140:    \n",
    "    scaleHNLPlot = 3.7\n",
    "if m ==200:    \n",
    "    scaleHNLPlot = 100\n",
    "if m ==240:    \n",
    "    scaleHNLPlot = 17.2"
   ]
  },
  {
   "cell_type": "code",
   "execution_count": null,
   "metadata": {},
   "outputs": [],
   "source": [
    "plotU = getUfromScaleFactor(simU, scaleHNLPlot)\n",
    "\n",
    "true_counts = true_counts * scaleHNLPlot\n",
    "start_counts =  start_counts * scaleHNLPlot\n",
    "\n",
    "print(\"Sim Umu = \" +str(simU))\n",
    "print(\"Scale Umu by \" + str(scaleHNLPlot))\n",
    "print(\"Scaled Umu = \" + str(plotU))\n",
    "\n",
    "print(\"Scaled true counts = \" + str(true_counts))\n",
    "print(\"Scaled start counts = \" + str(start_counts))"
   ]
  },
  {
   "cell_type": "code",
   "execution_count": null,
   "metadata": {},
   "outputs": [],
   "source": [
    "scale_pot_hnl, hnl_spill = calc_scaling_pot(dfsubrun_hnl, df_hnl, ifScale = scaleHNLPlot)\n",
    "df_hnl['simU'] = simU\n",
    "df_hnl['scaledU'] = plotU"
   ]
  },
  {
   "cell_type": "markdown",
   "metadata": {},
   "source": [
    "<h3>Rock Box Neutrino</h3>"
   ]
  },
  {
   "cell_type": "code",
   "execution_count": null,
   "metadata": {},
   "outputs": [],
   "source": [
    "scale_pot_nu, nu_spill = calc_scaling_pot(dfsubrun_nu, df_nu)\n"
   ]
  },
  {
   "cell_type": "code",
   "execution_count": null,
   "metadata": {},
   "outputs": [],
   "source": [
    "#check if an event contains a slice true event == 3 \n",
    "def has3(lst):\n",
    "    if 3 in lst:\n",
    "        return True\n",
    "    return False"
   ]
  },
  {
   "cell_type": "code",
   "execution_count": null,
   "metadata": {},
   "outputs": [],
   "source": [
    "#Separate at event-level (NOT slice!) event type == 3 i.e. NCPi0 in FV\n",
    "\n",
    "dfnu_event =  pd.DataFrame()\n",
    "dfnu_event = df_nu.groupby(['run','subrun', 'event','scale_pot'])[\"slc_true_event_type\"].apply(list).reset_index(name = 'list')\n",
    "\n",
    "dfnu_event['has3'] = np.vectorize(has3)(dfnu_event.list)\n",
    "\n",
    "print(\"# of NCPi0 events in rockbox = {}\".format(len(dfnu_event[dfnu_event['has3'] == True])))\n",
    "print(\"# of other events in rockbox = {}\".format(len(dfnu_event[dfnu_event['has3'] == False])))\n",
    "\n",
    "dfnu_YesNCpi0 = dfnu_event[dfnu_event['has3'] == True]\n",
    "dfnu_NoNCpi0 = dfnu_event[dfnu_event['has3'] == False]\n",
    "\n",
    "del dfnu_event"
   ]
  },
  {
   "cell_type": "code",
   "execution_count": null,
   "metadata": {},
   "outputs": [],
   "source": [
    "#remove event type == 3 from rockbox sample\n",
    "dfnu_NoNCpi0 = dfnu_NoNCpi0[['run','subrun', 'event']]\n",
    "\n",
    "df_nu_NoNCpi0 = df_nu.merge(dfnu_NoNCpi0, on = ['run','subrun', 'event'])\n",
    "\n",
    "del dfnu_NoNCpi0\n",
    "\n",
    "print(len(df_nu_NoNCpi0[df_nu_NoNCpi0['slc_true_event_type'] == 3]))\n",
    "\n",
    "\n",
    "#keep only event type == 3 in rockbox\n",
    "dfnu_YesNCpi0 = dfnu_YesNCpi0[['run','subrun', 'event']]\n",
    "\n",
    "df_nu_YesNCpi0 = df_nu.merge(dfnu_YesNCpi0, on = ['run','subrun', 'event'])\n",
    "\n",
    "del dfnu_YesNCpi0\n",
    "\n",
    "print(len(df_nu_YesNCpi0[df_nu_YesNCpi0['slc_true_event_type'] == 3]))\n",
    "print(len(df_nu_YesNCpi0[df_nu_YesNCpi0['slc_true_event_type'] != 3]))"
   ]
  },
  {
   "cell_type": "code",
   "execution_count": null,
   "metadata": {},
   "outputs": [],
   "source": [
    "#Separate at event-level (NOT slice!) event type == 3 i.e. NCPi0 in FV\n",
    "dfncpi0_event =  pd.DataFrame()\n",
    "dfncpi0_event = df_ncpi0.groupby(['run','subrun', 'event'])[\"slc_true_event_type\"].apply(list).reset_index(name = 'list')\n",
    "\n",
    "dfncpi0_event['has3'] = np.vectorize(has3)(dfncpi0_event.list)\n",
    "dfncpi0_event = dfncpi0_event[dfncpi0_event['has3'] == True]\n",
    "\n",
    "print(\"# of NCPi0 events in ncpi0 filter sample = {}\".format(len(dfncpi0_event[dfncpi0_event['has3'] == True])))"
   ]
  },
  {
   "cell_type": "code",
   "execution_count": null,
   "metadata": {},
   "outputs": [],
   "source": [
    "#keep only event type == 3 in NCpi0 sample\n",
    "dfncpi0_event = dfncpi0_event[['run','subrun', 'event']]\n",
    "df_ncpi0 = df_ncpi0.merge(dfncpi0_event, on = ['run','subrun', 'event'])\n",
    "\n",
    "del dfncpi0_event\n",
    "\n",
    "print(len(df_ncpi0[df_ncpi0['slc_true_event_type'] != 3]))\n",
    "print(len(df_ncpi0[df_ncpi0['slc_true_event_type'] == 3]))"
   ]
  },
  {
   "cell_type": "code",
   "execution_count": null,
   "metadata": {},
   "outputs": [],
   "source": [
    "#merge NCpi0 from rockbox and filter sample into 1\n",
    "\n",
    "df_ncpi0 = pd.concat([df_nu_YesNCpi0, df_ncpi0])"
   ]
  },
  {
   "cell_type": "code",
   "execution_count": null,
   "metadata": {},
   "outputs": [],
   "source": [
    "#calculate the POT per event for rockbox sample\n",
    "total_pot = df_nu['scale_pot'].sum() \n",
    "pot_YesNCPi0 = df_nu_YesNCpi0['scale_pot'].sum() \n",
    "pot_NoNCPi0 = df_nu_NoNCpi0['scale_pot'].sum()\n",
    "\n",
    "print(\"total pot = \" + str(total_pot))\n",
    "print(\"Yes + No NCPi0 POT = \" + str(pot_YesNCPi0 +  pot_NoNCPi0))\n",
    "print(\"pot Yes NCPI0 = \" + str(pot_YesNCPi0))\n",
    "print(\"pot No NCPI0 = \" + str(pot_NoNCPi0))"
   ]
  },
  {
   "cell_type": "code",
   "execution_count": null,
   "metadata": {},
   "outputs": [],
   "source": [
    "#calculate the POT per event for NCPi0 sample\n",
    "nEvent_NCPi0Only = len(df_ncpi0['slc_id'])\n",
    "nEvent_nuNCPi0 = len(df_nu_YesNCpi0['slc_id'])\n",
    "\n",
    "scale_pot_NCPi0 =  nEvent_nuNCPi0 / nEvent_NCPi0Only * (pot_YesNCPi0/nEvent_nuNCPi0)\n",
    "\n",
    "df_ncpi0['scale_pot'] = scale_pot_NCPi0\n",
    "\n",
    "print(nEvent_NCPi0Only)\n",
    "print(nEvent_nuNCPi0)\n",
    "print(scale_pot_NCPi0)"
   ]
  },
  {
   "cell_type": "code",
   "execution_count": null,
   "metadata": {},
   "outputs": [],
   "source": [
    "#concat rockbox with ncpi0 \n",
    "df_new_nu = pd.concat([df_nu_NoNCpi0, df_ncpi0])\n",
    "df_new_nu = df_new_nu.reset_index()\n",
    "\n",
    "df_nu = df_new_nu"
   ]
  },
  {
   "cell_type": "code",
   "execution_count": null,
   "metadata": {},
   "outputs": [],
   "source": [
    "del df_new_nu\n",
    "del df_nu_NoNCpi0\n",
    "del df_nu_YesNCpi0\n",
    "del df_ncpi0"
   ]
  },
  {
   "cell_type": "markdown",
   "metadata": {},
   "source": [
    "<h3>Intime Cosmics</h3>"
   ]
  },
  {
   "cell_type": "code",
   "execution_count": null,
   "metadata": {},
   "outputs": [],
   "source": [
    "scale_pot_cosmics = calc_scaling_spill(dfsubrun_cos, df_cos, hnl_spill, nu_spill)"
   ]
  },
  {
   "cell_type": "code",
   "execution_count": null,
   "metadata": {},
   "outputs": [],
   "source": [
    "del dfsubrun_nu\n",
    "del dfsubrun_hnl\n",
    "del dfsubrun_cos"
   ]
  },
  {
   "cell_type": "markdown",
   "metadata": {},
   "source": [
    "<h1>Combine FV and Non-FV HNL</h1>"
   ]
  },
  {
   "cell_type": "code",
   "execution_count": null,
   "metadata": {},
   "outputs": [],
   "source": [
    "df_hnl['slc_true_event_type'][df_hnl['slc_true_event_type'] == 1] = 0\n",
    "df_nu['slc_true_event_type'][df_nu['slc_true_event_type'] == 1] = 0\n",
    "df_cos['slc_true_event_type'][df_cos['slc_true_event_type'] == 1] = 0"
   ]
  },
  {
   "cell_type": "markdown",
   "metadata": {},
   "source": [
    "<h1> Make Beam Bucket - Post Non-clear cosmics </h1>"
   ]
  },
  {
   "cell_type": "code",
   "execution_count": null,
   "metadata": {},
   "outputs": [],
   "source": [
    "label = str(m) + ' MeV HNL ${\\pi}^{0}$' + '\\n' + '|U$_{{\\mu 4}}$|$^{{2}}$ = ' +str(sci_notation(plotU,0,0))\n",
    "print(label)"
   ]
  },
  {
   "cell_type": "code",
   "execution_count": null,
   "metadata": {},
   "outputs": [],
   "source": [
    "width = 18.936\n",
    "\n",
    "df_hnl['mod_t'] = df_hnl['slc_opt0_time_corrected_Z_pandora']%width\n",
    "df_nu['mod_t'] = df_nu['slc_opt0_time_corrected_Z_pandora']%width\n",
    "df_cos['mod_t'] = df_cos['slc_opt0_time_corrected_Z_pandora']%width\n",
    "#----------------------------------------------\n",
    "hist, bins = plot_slc_var(df_hnl, df_nu, df_cos,\n",
    "                    true_counts, start_counts, \n",
    "                    'mod_t', \n",
    "                    xmin = 0, xmax = 30, xnbin = 30,\n",
    "                    xtitle = 'Opt0 Time Corrected Z % ' + str(width) + ' [ns]',\n",
    "                    ifAddLegend = True, addLegend = label\n",
    "                    )\n",
    "#-----------------------------------#\n",
    "if ifSave:\n",
    "    #fig.tight_layout()\n",
    "    plt.savefig(savePath+\"beam_bucket_post_nonclearcosmics.png\", dpi = 200)\n",
    "#-----------------------------------#\n",
    "plt.show()"
   ]
  },
  {
   "cell_type": "markdown",
   "metadata": {},
   "source": [
    "<h3> Save Purity and Eff </h3>"
   ]
  },
  {
   "cell_type": "code",
   "execution_count": null,
   "metadata": {},
   "outputs": [],
   "source": [
    "purity_arr, eff_arr, cut_arr = [], [], []"
   ]
  },
  {
   "cell_type": "code",
   "execution_count": null,
   "metadata": {},
   "outputs": [],
   "source": [
    "purity, eff = calc_purity_eff(df_hnl, df_nu, df_cos, true_counts, start_counts)\n",
    "\n",
    "\n",
    "purity_arr.append(purity)\n",
    "eff_arr.append(eff)\n",
    "cut_arr.append(\"Clear Cosmics Cut\")\n",
    "\n",
    "print(purity_arr)\n",
    "print(eff_arr)\n",
    "print(cut_arr)"
   ]
  },
  {
   "cell_type": "markdown",
   "metadata": {},
   "source": [
    "<h1> Beam Spill </h1>"
   ]
  },
  {
   "cell_type": "code",
   "execution_count": null,
   "metadata": {},
   "outputs": [],
   "source": [
    "light_speed_cm_us = 29979.2458 # cm/ns\n",
    "\n",
    "df_hnl['slc_opt0_time'] = df_hnl['slc_opt0_time_corrected_Z_pandora'] + df_hnl['slc_vtx_z']/light_speed_cm_us\n",
    "df_nu['slc_opt0_time'] = df_nu['slc_opt0_time_corrected_Z_pandora'] + df_nu['slc_vtx_z']/light_speed_cm_us\n",
    "df_cos['slc_opt0_time'] = df_cos['slc_opt0_time_corrected_Z_pandora'] + df_cos['slc_vtx_z']/light_speed_cm_us\n",
    "#-----------------------------------#\n",
    "hist, bins = plot_slc_var(df_hnl, df_nu, df_cos,\n",
    "                    true_counts, start_counts, \n",
    "                    'slc_opt0_time', \n",
    "                    xmin = 0, xmax = 3200, xnbin = 100,\n",
    "                    xtitle = 'Opt0 Time [ns]',\n",
    "                    ifAddLegend = True, addLegend = label\n",
    "                    )\n",
    "\n",
    "plt.axvline(x = TuneCut['beamSpillBegin'], c = 'r', linestyle = '--', lw = 1.5)\n",
    "plt.axvline(x = TuneCut['beamSpillEnd'], c = 'r', linestyle = '--', lw = 1.5)\n",
    "\n",
    "plt.ylim(0, 1.25e6)\n",
    "#-----------------------------------#\n",
    "if ifSave:\n",
    "    #fig.tight_layout()\n",
    "    plt.savefig(savePath+\"beamspill.png\", dpi = 200)\n",
    "#-----------------------------------#\n",
    "plt.show()"
   ]
  },
  {
   "cell_type": "markdown",
   "metadata": {},
   "source": [
    "<h3>Apply Cut</h3>"
   ]
  },
  {
   "cell_type": "code",
   "execution_count": null,
   "metadata": {},
   "outputs": [],
   "source": [
    "if ifCut:\n",
    "    df_hnl = cutBeamGate(df_hnl, gateBegin = TuneCut['beamSpillBegin'], gateEnd = TuneCut['beamSpillEnd'])\n",
    "    df_nu = cutBeamGate(df_nu, gateBegin = TuneCut['beamSpillBegin'], gateEnd = TuneCut['beamSpillEnd'])\n",
    "    df_cos = cutBeamGate(df_cos, gateBegin = TuneCut['beamSpillBegin'], gateEnd = TuneCut['beamSpillEnd'])"
   ]
  },
  {
   "cell_type": "markdown",
   "metadata": {},
   "source": [
    "<h3>Save Purity/Eff</h3>"
   ]
  },
  {
   "cell_type": "code",
   "execution_count": null,
   "metadata": {},
   "outputs": [],
   "source": [
    "purity, eff = calc_purity_eff(df_hnl, df_nu, df_cos, true_counts, start_counts)\n",
    "\n",
    "purity_arr.append(purity)\n",
    "eff_arr.append(eff)\n",
    "cut_arr.append(\"Beam Spill\")\n",
    "\n",
    "print(purity_arr)\n",
    "print(eff_arr)\n",
    "print(cut_arr)"
   ]
  },
  {
   "cell_type": "markdown",
   "metadata": {},
   "source": [
    "<h1> Make Beam Bucket - Post Beam Spill</h1>"
   ]
  },
  {
   "cell_type": "code",
   "execution_count": null,
   "metadata": {},
   "outputs": [],
   "source": [
    "hist, bins = plot_slc_var(df_hnl, df_nu, df_cos,\n",
    "                    true_counts, start_counts, \n",
    "                    'mod_t', \n",
    "                    xmin = 0, xmax = 30, xnbin = 30,\n",
    "                    xtitle = 'Opt0 Time Corrected Z % ' + str(width) + ' [ns]',\n",
    "                    ifAddLegend = True, addLegend = label\n",
    "                    )\n",
    "#-----------------------------------#\n",
    "if ifSave:\n",
    "    #fig.tight_layout()\n",
    "    plt.savefig(savePath+\"beam_bucket_post_beamspill.png\", dpi = 200)\n",
    "#-----------------------------------#\n",
    "plt.show()"
   ]
  },
  {
   "cell_type": "markdown",
   "metadata": {},
   "source": [
    "<h1> CRUMBS </h1>"
   ]
  },
  {
   "cell_type": "code",
   "execution_count": null,
   "metadata": {},
   "outputs": [],
   "source": [
    "plot_slc_var(df_hnl, df_nu, df_cos,\n",
    "                    true_counts, start_counts, \n",
    "                    'slc_crumbs_score', \n",
    "                    xmin = -2, xmax =1, xnbin = 30,\n",
    "                    xtitle = 'CRUMBS Score',\n",
    "                    ifAddLegend = True, addLegend = label\n",
    "                    )\n",
    "\n",
    "plt.axvline(x = TuneCut['crumbs'], c = 'r', linestyle = '--', lw = 1.5)\n",
    "\n",
    "plt.annotate(\"\", xy=(0, 4.5e6), xytext=(0.4, 4.5e6)\n",
    "             , arrowprops=dict(arrowstyle= '<|-',\n",
    "                             color='r',\n",
    "                             lw=1.5,\n",
    "                             ls='--'))\n",
    "\n",
    "plt.ylim(0, 5e6)\n",
    "#-----------------------------------#\n",
    "if ifSave:\n",
    "    #fig.tight_layout()\n",
    "    plt.savefig(savePath+\"crumbs_precut.png\", dpi = 200)\n",
    "#-----------------------------------#\n",
    "plt.show()"
   ]
  },
  {
   "cell_type": "code",
   "execution_count": null,
   "metadata": {},
   "outputs": [],
   "source": [
    "if ifTune:\n",
    "    vary_crumbsScore(df_hnl, df_nu, df_cos, true_counts, start_counts)\n",
    "    \n",
    "    if ifSave:\n",
    "        plt.savefig(savePath+\"/crumbs_tuning.png\", dpi =200)"
   ]
  },
  {
   "cell_type": "markdown",
   "metadata": {},
   "source": [
    "<h3>Apply Cut</h3>"
   ]
  },
  {
   "cell_type": "code",
   "execution_count": null,
   "metadata": {},
   "outputs": [],
   "source": [
    "score = TuneCut['crumbs']\n",
    "\n",
    "print(score)\n",
    "\n",
    "if ifCut:\n",
    "    df_hnl = cutCosmics(df_hnl, crumbsScore = score)\n",
    "    df_nu = cutCosmics(df_nu, crumbsScore = score)\n",
    "    df_cos = cutCosmics(df_cos, crumbsScore = score)"
   ]
  },
  {
   "cell_type": "markdown",
   "metadata": {},
   "source": [
    "<h3>Save Purity/Eff</h3>"
   ]
  },
  {
   "cell_type": "code",
   "execution_count": null,
   "metadata": {},
   "outputs": [],
   "source": [
    "purity, eff = calc_purity_eff(df_hnl, df_nu, df_cos, true_counts, start_counts)\n",
    "\n",
    "purity_arr.append(purity)\n",
    "eff_arr.append(eff)\n",
    "cut_arr.append(\"CRUMBS\")\n",
    "\n",
    "print(purity_arr)\n",
    "print(eff_arr)\n",
    "print(cut_arr)"
   ]
  },
  {
   "cell_type": "markdown",
   "metadata": {},
   "source": [
    "<h1> Make Beam Bucket - Post Crumbs</h1>"
   ]
  },
  {
   "cell_type": "code",
   "execution_count": null,
   "metadata": {},
   "outputs": [],
   "source": [
    "hist, bins = plot_slc_var(df_hnl, df_nu, df_cos,\n",
    "                    true_counts, start_counts, \n",
    "                    'mod_t', \n",
    "                    xmin = 0, xmax = 30, xnbin = 30,\n",
    "                    xtitle = 'Opt0 Time Corrected Z % ' + str(width) + \" [ns]\",\n",
    "                    ifAddLegend = True, addLegend = label\n",
    "                    )\n",
    "#-----------------------------------#\n",
    "if ifSave:\n",
    "    #fig.tight_layout()\n",
    "    plt.savefig(savePath+\"beam_bucket_post_crumbs.png\", dpi = 200)\n",
    "#-----------------------------------#\n",
    "plt.show()"
   ]
  },
  {
   "cell_type": "markdown",
   "metadata": {},
   "source": [
    "<h1> Fiducial Volume </h1>"
   ]
  },
  {
   "cell_type": "code",
   "execution_count": null,
   "metadata": {},
   "outputs": [],
   "source": [
    "plot_slc_var(df_hnl, df_nu, df_cos,\n",
    "                    true_counts, start_counts, \n",
    "                    'slc_is_fv', \n",
    "                    xmin = -0.5, xmax = 2.5, xnbin = 40,\n",
    "                    xtitle = 'Vertex is in Fiducial Volume',\n",
    "                     ifAddLegend = True, addLegend = label\n",
    "                    )\n",
    "\n",
    "plt.xticks(range(0, 2), labels=[\"False\", \"True\"])\n",
    "\n",
    "plt.axvline(x = 0.5, c = 'r', linestyle = '--', lw = 1.5)\n",
    "\n",
    "plt.annotate(\"\", xy=(0.5, 1.6e7), xytext=(0.9, 1.6e7)\n",
    "             , arrowprops=dict(arrowstyle= '<|-',\n",
    "                             color='r',\n",
    "                             lw=1.5,\n",
    "                             ls='--'))\n",
    "plt.ylim(0, 1.8e7)\n",
    "#-----------------------------------#\n",
    "if ifSave:\n",
    "    #fig.tight_layout()\n",
    "    plt.savefig(savePath+\"fv_precut.png\", dpi = 200)\n",
    "#-----------------------------------#\n",
    "plt.show()"
   ]
  },
  {
   "cell_type": "markdown",
   "metadata": {},
   "source": [
    "<h3>Apply Cut</h3>"
   ]
  },
  {
   "cell_type": "code",
   "execution_count": null,
   "metadata": {},
   "outputs": [],
   "source": [
    "if ifCut:\n",
    "    df_hnl = cutFV(df_hnl)\n",
    "    df_nu = cutFV(df_nu)\n",
    "    df_cos = cutFV(df_cos)"
   ]
  },
  {
   "cell_type": "markdown",
   "metadata": {},
   "source": [
    "<h3>Save Purity/Eff</h3>"
   ]
  },
  {
   "cell_type": "code",
   "execution_count": null,
   "metadata": {},
   "outputs": [],
   "source": [
    "purity, eff = calc_purity_eff(df_hnl, df_nu, df_cos, true_counts, start_counts)\n",
    "\n",
    "purity_arr.append(purity)\n",
    "eff_arr.append(eff)\n",
    "cut_arr.append(\"Vertex In FV\")\n",
    "\n",
    "print(purity_arr)\n",
    "print(eff_arr)\n",
    "print(cut_arr)"
   ]
  },
  {
   "cell_type": "markdown",
   "metadata": {},
   "source": [
    "<h1> Make Beam Bucket - Post FV</h1>"
   ]
  },
  {
   "cell_type": "code",
   "execution_count": null,
   "metadata": {},
   "outputs": [],
   "source": [
    "hist, bins = plot_slc_var(df_hnl, df_nu, df_cos,\n",
    "                    true_counts, start_counts, \n",
    "                    'mod_t', \n",
    "                    xmin = 0, xmax = 30, xnbin = 30,\n",
    "                    xtitle = 'Opt0 Time Corrected Z % ' + str(width) + \" [ns]\",\n",
    "                     ifAddLegend = True, addLegend = label\n",
    "                    )\n",
    "#-----------------------------------#\n",
    "if ifSave:\n",
    "    #fig.tight_layout()\n",
    "    plt.savefig(savePath+\"beam_bucket_post_FV.png\", dpi = 200)\n",
    "#-----------------------------------#\n",
    "plt.show()"
   ]
  },
  {
   "cell_type": "markdown",
   "metadata": {},
   "source": [
    "<h1> Containment</h1>"
   ]
  },
  {
   "cell_type": "raw",
   "metadata": {},
   "source": [
    "plot_slc_var(df_hnl[df_hnl['slc_pfp_track_score'] < 0.5]\n",
    "             , df_nu[df_nu['slc_pfp_track_score'] < 0.5]\n",
    "             , df_cos[df_cos['slc_pfp_track_score'] < 0.5],\n",
    "                    true_counts, start_counts, \n",
    "                    'slc_pfp_shower_contained', \n",
    "                    xmin = -1, xmax = 3, xnbin = 40,\n",
    "                    xtitle = 'Shower is contained'\n",
    "                    )\n",
    "#-----------------------------------#\n",
    "if ifSave:\n",
    "    #fig.tight_layout()\n",
    "    plt.savefig(savePath+\"shower_contained_precut.png\", dpi = 200)\n",
    "#-----------------------------------#\n",
    "plt.show()"
   ]
  },
  {
   "cell_type": "raw",
   "metadata": {},
   "source": [
    "plot_slc_var(df_hnl[df_hnl['slc_pfp_track_score'] > 0.5]\n",
    "             , df_nu[df_nu['slc_pfp_track_score'] > 0.5]\n",
    "             , df_cos[df_cos['slc_pfp_track_score'] > 0.5],\n",
    "                    true_counts, start_counts, \n",
    "                    'slc_pfp_track_contained', \n",
    "                    xmin = -1, xmax = 3, xnbin = 40,\n",
    "                    xtitle = 'Track is contained'\n",
    "                    )\n",
    "#-----------------------------------#\n",
    "if ifSave:\n",
    "    #fig.tight_layout()\n",
    "    plt.savefig(savePath+\"track_contained_precut.png\", dpi = 200)\n",
    "#-----------------------------------#\n",
    "plt.show()"
   ]
  },
  {
   "cell_type": "markdown",
   "metadata": {},
   "source": [
    "<h3>Apply Cut</h3>"
   ]
  },
  {
   "cell_type": "raw",
   "metadata": {},
   "source": [
    "if ifCut:\n",
    "    df_hnl = cutContainment_v2(df_hnl, ifShwCont = False)\n",
    "    df_nu = cutContainment_v2(df_nu, ifShwCont = False)\n",
    "    df_cos = cutContainment_v2(df_cos, ifShwCont = False)"
   ]
  },
  {
   "cell_type": "markdown",
   "metadata": {},
   "source": [
    "<h3>Save Purity/Eff</h3>"
   ]
  },
  {
   "cell_type": "raw",
   "metadata": {},
   "source": [
    "purity, eff = calc_purity_eff(df_hnl, df_nu, df_cos, true_counts, start_counts)\n",
    "\n",
    "purity_arr.append(purity)\n",
    "eff_arr.append(eff)\n",
    "cut_arr.append(\"Containment\")\n",
    "\n",
    "print(purity_arr)\n",
    "print(eff_arr)\n",
    "print(cut_arr)"
   ]
  },
  {
   "cell_type": "markdown",
   "metadata": {},
   "source": [
    "<h1> Make Beam Bucket - Post Containment</h1>"
   ]
  },
  {
   "cell_type": "raw",
   "metadata": {},
   "source": [
    "hist, bins = plot_slc_var(df_hnl, df_nu, df_cos,\n",
    "                    true_counts, start_counts, \n",
    "                    'mod_t', \n",
    "                    xmin = 0, xmax = 22, xnbin = 22,\n",
    "                    xtitle = 'Opt0 Time Corrected Z % ' + str(width) + \" [ns]\"\n",
    "                    )\n",
    "#-----------------------------------#\n",
    "if ifSave:\n",
    "    #fig.tight_layout()\n",
    "    plt.savefig(savePath+\"beam_bucket_postcosmics_postFV_postContainment.png\", dpi = 200)\n",
    "#-----------------------------------#\n",
    "plt.show()"
   ]
  },
  {
   "cell_type": "code",
   "execution_count": null,
   "metadata": {},
   "outputs": [],
   "source": [
    "print(len(df_nu[df_nu['slc_true_event_type'] == 9]))\n",
    "print(len(df_hnl[df_hnl['slc_true_event_type'] == 9]))\n",
    "print(len(df_cos[df_cos['slc_true_event_type'] == 9]))"
   ]
  },
  {
   "cell_type": "markdown",
   "metadata": {},
   "source": [
    "<h1>Muon Rejection</h1>"
   ]
  },
  {
   "cell_type": "code",
   "execution_count": null,
   "metadata": {},
   "outputs": [],
   "source": [
    "plot_slc_var(df_hnl, df_nu, df_cos,\n",
    "                    true_counts, start_counts, \n",
    "                    'slc_n_razzled_muons', \n",
    "                    xmin = 0, xmax = 6, xnbin = 6,\n",
    "                    xtitle = 'n Razzled Muons',\n",
    "                     ifAddLegend = True, addLegend = label\n",
    "                    )\n",
    "\n",
    "plt.axvline(x = 1, c = 'r', linestyle = '--', lw = 1.5)\n",
    "plt.annotate(\"\", xy=(0.5, 8.5e6), xytext=(1, 8.5e6)\n",
    "             , arrowprops=dict(arrowstyle= '-|>',\n",
    "                             color='r',\n",
    "                             lw=1.5,\n",
    "                             ls='--'))\n",
    "plt.ylim(0, 9e6)\n",
    "#-----------------------------------#\n",
    "if ifSave:\n",
    "    #fig.tight_layout()\n",
    "    plt.savefig(savePath+\"nrazzled_muon_precut.png\", dpi = 200)\n",
    "#-----------------------------------#\n",
    "plt.show()\n",
    "#----------------------------------------------\n",
    "plot_slc_var(df_hnl, df_nu, df_cos,\n",
    "                    true_counts, start_counts, \n",
    "                    'slc_pfp_razzled_muon_score', \n",
    "                    xmin = 0, xmax = 1, xnbin = 50,\n",
    "                    xtitle = 'PFP Razzled Muon Score',\n",
    "                     ifAddLegend = True, addLegend = label\n",
    "                    )\n",
    "plt.axvline(x =  TuneCut['Muon'], c = 'r', linestyle = '--', lw = 1.5)\n",
    "\n",
    "plt.annotate(\"\", xy=(0.0, 8.5e6), xytext=(0.04, 8.5e6)\n",
    "             , arrowprops=dict(arrowstyle= '-|>',\n",
    "                             color='r',\n",
    "                             lw=1.5,\n",
    "                             ls='--'))\n",
    "plt.ylim(0, 9e6)\n",
    "#-----------------------------------#\n",
    "if ifSave:\n",
    "    #fig.tight_layout()\n",
    "    plt.savefig(savePath+\"razzled_muon_score_precut.png\", dpi = 200)\n",
    "#-----------------------------------#\n",
    "plt.show()"
   ]
  },
  {
   "cell_type": "code",
   "execution_count": null,
   "metadata": {},
   "outputs": [],
   "source": [
    "if ifTune:\n",
    "    vary_MuonScore(df_hnl, df_nu, df_cos , true_counts, start_counts)\n",
    "    if ifSave:\n",
    "        plt.savefig(savePath+\"/muon_tuning.png\", dpi =200)"
   ]
  },
  {
   "cell_type": "markdown",
   "metadata": {},
   "source": [
    "<h3> Apply Cut</h3>"
   ]
  },
  {
   "cell_type": "code",
   "execution_count": null,
   "metadata": {},
   "outputs": [],
   "source": [
    "muonScore = TuneCut['Muon']\n",
    "\n",
    "print(muonScore)\n",
    "\n",
    "if ifCut:\n",
    "    df_hnl = cutMuon(df_hnl, muonScore =muonScore)\n",
    "    df_nu = cutMuon(df_nu, muonScore =muonScore)\n",
    "    df_cos = cutMuon(df_cos,muonScore =muonScore)"
   ]
  },
  {
   "cell_type": "markdown",
   "metadata": {},
   "source": [
    "<h3>Save Purity/Eff</h3>"
   ]
  },
  {
   "cell_type": "code",
   "execution_count": null,
   "metadata": {},
   "outputs": [],
   "source": [
    "purity, eff = calc_purity_eff(df_hnl, df_nu, df_cos, true_counts, start_counts)\n",
    "\n",
    "purity_arr.append(purity)\n",
    "eff_arr.append(eff)\n",
    "cut_arr.append(\"Muon Cut\")\n",
    "\n",
    "print(purity_arr)\n",
    "print(eff_arr)\n",
    "print(cut_arr)"
   ]
  },
  {
   "cell_type": "markdown",
   "metadata": {},
   "source": [
    "<h1> Make Beam Bucket - Post Muon</h1>"
   ]
  },
  {
   "cell_type": "code",
   "execution_count": null,
   "metadata": {},
   "outputs": [],
   "source": [
    "hist, bins = plot_slc_var(df_hnl, df_nu, df_cos,\n",
    "                    true_counts, start_counts, \n",
    "                    'mod_t', \n",
    "                    xmin = 0, xmax = 30, xnbin = 30,\n",
    "                    xtitle = 'Opt0 Time Corrected Z % ' + str(width) + \" [ns]\",\n",
    "                     ifAddLegend = True, addLegend = label\n",
    "                    )\n",
    "#-----------------------------------#\n",
    "if ifSave:\n",
    "    #fig.tight_layout()\n",
    "    plt.savefig(savePath+\"beam_bucket_postcosmics_postmuon.png\", dpi = 200)\n",
    "#-----------------------------------#\n",
    "plt.show()"
   ]
  },
  {
   "cell_type": "markdown",
   "metadata": {},
   "source": [
    "<h1>Proton Rejection</h1>"
   ]
  },
  {
   "cell_type": "code",
   "execution_count": null,
   "metadata": {},
   "outputs": [],
   "source": [
    "plot_slc_var(df_hnl, df_nu, df_cos,\n",
    "                    true_counts, start_counts, \n",
    "                    'slc_n_razzled_protons_thresh', \n",
    "                    xmin = 0, xmax = 6, xnbin = 6,\n",
    "                    xtitle = 'n Razzled Protons',\n",
    "                     ifAddLegend = True, addLegend = label\n",
    "                    )\n",
    "\n",
    "plt.axvline(x = 1, c = 'r', linestyle = '--', lw = 1.5)\n",
    "plt.annotate(\"\", xy=(0.5, 8.5e5), xytext=(1, 8.5e5)\n",
    "             , arrowprops=dict(arrowstyle= '-|>',\n",
    "                             color='r',\n",
    "                             lw=1.5,\n",
    "                             ls='--'))\n",
    "plt.ylim(0, 9e5)\n",
    "#-----------------------------------#\n",
    "if ifSave:\n",
    "    #fig.tight_layout()\n",
    "    plt.savefig(savePath+\"nrazzled_proton_precut.png\", dpi = 200)\n",
    "#-----------------------------------#\n",
    "plt.show()\n",
    "#----------------------------------------------\n",
    "plot_slc_var(df_hnl, df_nu, df_cos,\n",
    "                    true_counts, start_counts, \n",
    "                    'slc_pfp_razzled_proton_score', \n",
    "                    xmin = 0, xmax = 1, xnbin = 50,\n",
    "                    xtitle = 'PFP Razzled Proton Score',\n",
    "                      ifAddLegend = True, addLegend = label\n",
    "                    )\n",
    "\n",
    "plt.axvline(x =  TuneCut['Proton'], c = 'r', linestyle = '--', lw = 1.5)\n",
    "\n",
    "plt.annotate(\"\", xy=(TuneCut['Proton'], 6.5e5), xytext=(TuneCut['Proton'] - 0.1, 6.5e5)\n",
    "             , arrowprops=dict(arrowstyle= '<|-',\n",
    "                             color='r',\n",
    "                             lw=1.5,\n",
    "                             ls='--'))\n",
    "plt.ylim(0, 7e5)\n",
    "#-----------------------------------#\n",
    "if ifSave:\n",
    "    #fig.tight_layout()\n",
    "    plt.savefig(savePath+\"razzled_proton_score_precut.png\", dpi = 200)\n",
    "#-----------------------------------#\n",
    "plt.show()"
   ]
  },
  {
   "cell_type": "code",
   "execution_count": null,
   "metadata": {},
   "outputs": [],
   "source": [
    "if ifTune:\n",
    "    vary_ProtonScore(df_hnl, df_nu, df_cos, true_counts, start_counts)\n",
    "    if ifSave:\n",
    "        plt.savefig(savePath+\"/proton_tuning.png\", dpi =200)"
   ]
  },
  {
   "cell_type": "markdown",
   "metadata": {},
   "source": [
    "<h3>Apply Cut</h3>"
   ]
  },
  {
   "cell_type": "code",
   "execution_count": null,
   "metadata": {},
   "outputs": [],
   "source": [
    "protonScore = TuneCut['Proton']\n",
    "\n",
    "print(protonScore)\n",
    "\n",
    "if ifCut:\n",
    "    df_hnl = cutProton(df_hnl, nProton = 0, protonScore = protonScore)\n",
    "    df_nu = cutProton(df_nu, nProton = 0, protonScore = protonScore)\n",
    "    df_cos = cutProton(df_cos, nProton = 0, protonScore = protonScore)"
   ]
  },
  {
   "cell_type": "markdown",
   "metadata": {},
   "source": [
    "<h3>Save Purity/Eff</h3>"
   ]
  },
  {
   "cell_type": "code",
   "execution_count": null,
   "metadata": {},
   "outputs": [],
   "source": [
    "purity, eff = calc_purity_eff(df_hnl, df_nu, df_cos, true_counts, start_counts)\n",
    "\n",
    "purity_arr.append(purity)\n",
    "eff_arr.append(eff)\n",
    "cut_arr.append(\"Proton Cut\")\n",
    "\n",
    "print(purity_arr)\n",
    "print(eff_arr)\n",
    "print(cut_arr)"
   ]
  },
  {
   "cell_type": "markdown",
   "metadata": {},
   "source": [
    "<h1> Make Beam Bucket - Post Proton</h1>"
   ]
  },
  {
   "cell_type": "code",
   "execution_count": null,
   "metadata": {},
   "outputs": [],
   "source": [
    "hist, bins = plot_slc_var(df_hnl, df_nu, df_cos,\n",
    "                    true_counts, start_counts, \n",
    "                    'mod_t', \n",
    "                    xmin = 0, xmax = 30, xnbin = 30,\n",
    "                    xtitle = 'Opt0 Time Corrected Z % ' + str(width) + \" [ns]\",\n",
    "                 ifAddLegend = True, addLegend = label\n",
    "                    )\n",
    "#-----------------------------------#\n",
    "if ifSave:\n",
    "    #fig.tight_layout()\n",
    "    plt.savefig(savePath+\"beam_bucket_postcosmics_postproton.png\", dpi = 200)\n",
    "#-----------------------------------#\n",
    "plt.show()"
   ]
  },
  {
   "cell_type": "markdown",
   "metadata": {},
   "source": [
    "<h1>Pion Rejection</h1>"
   ]
  },
  {
   "cell_type": "code",
   "execution_count": null,
   "metadata": {},
   "outputs": [],
   "source": [
    "plot_slc_var(df_hnl, df_nu, df_cos,\n",
    "                    true_counts, start_counts, \n",
    "                    'slc_n_razzled_pions_thresh', \n",
    "                    xmin = 0, xmax = 6, xnbin = 6,\n",
    "                    xtitle = 'n Razzled Pions',\n",
    "                      ifAddLegend = True, addLegend = label\n",
    "                    )\n",
    "\n",
    "plt.axvline(x = 1, c = 'r', linestyle = '--', lw = 1.5)\n",
    "plt.annotate(\"\", xy=(0.5, 5.5e5), xytext=(1, 5.5e5)\n",
    "             , arrowprops=dict(arrowstyle= '-|>',\n",
    "                             color='r',\n",
    "                             lw=1.5,\n",
    "                             ls='--'))\n",
    "plt.ylim(0, 6e5)\n",
    "#-----------------------------------#\n",
    "if ifSave:\n",
    "    #fig.tight_layout()\n",
    "    plt.savefig(savePath+\"nrazzled_pion_precut.png\", dpi = 200)\n",
    "#-----------------------------------#\n",
    "plt.show()\n",
    "#----------------------------------------------\n",
    "plot_slc_var(df_hnl, df_nu, df_cos,\n",
    "                    true_counts, start_counts, \n",
    "                    'slc_pfp_razzled_pion_score', \n",
    "                    xmin = 0, xmax = 1, xnbin = 50,\n",
    "                    xtitle = 'PFP Razzled Pion Score',\n",
    "                      ifAddLegend = True, addLegend = label\n",
    "                    )\n",
    "\n",
    "plt.axvline(x =  TuneCut['Pion'], c = 'r', linestyle = '--', lw = 1.5)\n",
    "\n",
    "plt.annotate(\"\", xy=(TuneCut['Pion'], 2e5), xytext=(TuneCut['Pion'] - 0.1, 2e5)\n",
    "             , arrowprops=dict(arrowstyle= '<|-',\n",
    "                             color='r',\n",
    "                             lw=1.5,\n",
    "                             ls='--'))\n",
    "plt.ylim(0, 2.5e5)\n",
    "\n",
    "#-----------------------------------#\n",
    "if ifSave:\n",
    "    #fig.tight_layout()\n",
    "    plt.savefig(savePath+\"razzled_pion_score_precut.png\", dpi = 200)\n",
    "#-----------------------------------#\n",
    "plt.show()"
   ]
  },
  {
   "cell_type": "code",
   "execution_count": null,
   "metadata": {},
   "outputs": [],
   "source": [
    "if ifTune:\n",
    "    vary_PionScore(df_hnl, df_nu, df_cos, true_counts, start_counts)\n",
    "    if ifSave:\n",
    "        plt.savefig(savePath+\"/pion_tuning.png\", dpi =200)"
   ]
  },
  {
   "cell_type": "markdown",
   "metadata": {},
   "source": [
    "<h3>Apply Cut </h3>"
   ]
  },
  {
   "cell_type": "code",
   "execution_count": null,
   "metadata": {},
   "outputs": [],
   "source": [
    "pionScore = TuneCut['Pion']\n",
    "\n",
    "print(pionScore)\n",
    "\n",
    "if ifCut:\n",
    "    df_hnl = cutPion(df_hnl, nPion = 0, pionScore = pionScore)\n",
    "    df_nu = cutPion(df_nu, nPion = 0, pionScore = pionScore)\n",
    "    df_cos = cutPion(df_cos, nPion = 0, pionScore = pionScore)"
   ]
  },
  {
   "cell_type": "markdown",
   "metadata": {},
   "source": [
    "<h3>Save Purity/Eff</h3>"
   ]
  },
  {
   "cell_type": "code",
   "execution_count": null,
   "metadata": {},
   "outputs": [],
   "source": [
    "purity, eff = calc_purity_eff(df_hnl, df_nu, df_cos, true_counts, start_counts)\n",
    "\n",
    "purity_arr.append(purity)\n",
    "eff_arr.append(eff)\n",
    "cut_arr.append(\"Pion Cut\")\n",
    "\n",
    "print(purity_arr)\n",
    "print(eff_arr)\n",
    "print(cut_arr)"
   ]
  },
  {
   "cell_type": "markdown",
   "metadata": {},
   "source": [
    "<h1> Make Beam Bucket - Post Pion</h1>"
   ]
  },
  {
   "cell_type": "code",
   "execution_count": null,
   "metadata": {},
   "outputs": [],
   "source": [
    "hist, bins = plot_slc_var(df_hnl, df_nu, df_cos,\n",
    "                    true_counts, start_counts, \n",
    "                    'mod_t', \n",
    "                    xmin = 0, xmax = 30, xnbin = 30,\n",
    "                    xtitle = 'Opt0 Time Corrected Z % ' + str(width) + \" [ns]\",\n",
    "                     ifAddLegend = True, addLegend = label\n",
    "                    )\n",
    "#-----------------------------------#\n",
    "if ifSave:\n",
    "    #fig.tight_layout()\n",
    "    plt.savefig(savePath+\"beam_bucket_postcosmics_postpion.png\", dpi = 200)\n",
    "#-----------------------------------#\n",
    "plt.show()"
   ]
  },
  {
   "cell_type": "markdown",
   "metadata": {},
   "source": [
    "<h1>Electron Rejection</h1>"
   ]
  },
  {
   "cell_type": "markdown",
   "metadata": {},
   "source": [
    "<h3> Get Primary Shower </h3>"
   ]
  },
  {
   "cell_type": "code",
   "execution_count": null,
   "metadata": {},
   "outputs": [],
   "source": [
    "df_hnl_prim = get_primary_shw_df(df_hnl)\n",
    "\n",
    "df_nu_prim = get_primary_shw_df(df_nu)\n",
    "\n",
    "df_cos_prim = get_primary_shw_df(df_cos)"
   ]
  },
  {
   "cell_type": "markdown",
   "metadata": {},
   "source": [
    "<h3> Primary Shower </h3>"
   ]
  },
  {
   "cell_type": "code",
   "execution_count": null,
   "metadata": {},
   "outputs": [],
   "source": [
    "#----------------------------------------------\n",
    "plot_slc_var(df_hnl_prim[df_hnl_prim['slc_pfp_razzled_electron_score'] < 2]\n",
    "            , df_nu_prim[df_nu_prim['slc_pfp_razzled_electron_score'] < 2]\n",
    "             , df_cos_prim[df_cos_prim['slc_pfp_razzled_electron_score'] < 2],\n",
    "                    true_counts, start_counts, \n",
    "                    'slc_pfp_razzled_electron_score', \n",
    "                    xmin = 0, xmax = 1, xnbin = 50,\n",
    "                    xtitle = 'PFP Razzled Electron Score',\n",
    "                  ifAddLegend = True, addLegend = label\n",
    "                    )\n",
    "\n",
    "plt.axvline(x =  TuneCut['Electron'], c = 'r', linestyle = '--', lw = 1.5)\n",
    "\n",
    "plt.annotate(\"\", xy=(TuneCut['Electron'], 2.5e4), xytext=(TuneCut['Electron'] - 0.1, 2.5e4)\n",
    "             , arrowprops=dict(arrowstyle= '<|-',\n",
    "                             color='r',\n",
    "                             lw=1.5,\n",
    "                             ls='--'))\n",
    "plt.ylim(0, 3e4)\n",
    "#-----------------------------------#\n",
    "if ifSave:\n",
    "    #fig.tight_layout()\n",
    "    plt.savefig(savePath+\"razzled_electron_score_prim_shw_precut.png\", dpi = 200)\n",
    "#-----------------------------------#\n",
    "plt.show()"
   ]
  },
  {
   "cell_type": "markdown",
   "metadata": {},
   "source": [
    "<h3> Apply Cut </h3>"
   ]
  },
  {
   "cell_type": "code",
   "execution_count": null,
   "metadata": {},
   "outputs": [],
   "source": [
    "eScore = TuneCut['Electron']\n",
    "\n",
    "print(eScore)\n",
    "\n",
    "if ifCut:\n",
    "    df_hnl_prim = cutElectronLess(df_hnl_prim, ifnElectron = False, electronScore = eScore)\n",
    "    df_nu_prim = cutElectronLess(df_nu_prim, ifnElectron = False, electronScore = eScore)\n",
    "    df_cos_prim = cutElectronLess(df_cos_prim, ifnElectron = False, electronScore = eScore)"
   ]
  },
  {
   "cell_type": "code",
   "execution_count": null,
   "metadata": {},
   "outputs": [],
   "source": [
    "df_hnl = merge_df_prim(df_hnl, df_hnl_prim)\n",
    "\n",
    "df_nu = merge_df_prim(df_nu, df_nu_prim)\n",
    "\n",
    "df_cos = merge_df_prim(df_cos, df_cos_prim)"
   ]
  },
  {
   "cell_type": "markdown",
   "metadata": {},
   "source": [
    "<h3>Save Purity/Eff</h3>"
   ]
  },
  {
   "cell_type": "code",
   "execution_count": null,
   "metadata": {},
   "outputs": [],
   "source": [
    "purity, eff = calc_purity_eff(df_hnl, df_nu, df_cos, true_counts, start_counts)\n",
    "\n",
    "purity_arr.append(purity)\n",
    "eff_arr.append(eff)\n",
    "cut_arr.append(\"Electron Cut\")\n",
    "\n",
    "print(purity_arr)\n",
    "print(eff_arr)\n",
    "print(cut_arr)"
   ]
  },
  {
   "cell_type": "markdown",
   "metadata": {},
   "source": [
    "<h1> Make Beam Bucket - Post Electron</h1>"
   ]
  },
  {
   "cell_type": "code",
   "execution_count": null,
   "metadata": {},
   "outputs": [],
   "source": [
    "hist, bins = plot_slc_var(df_hnl, df_nu, df_cos,\n",
    "                    true_counts, start_counts, \n",
    "                    'mod_t', \n",
    "                    xmin = 0, xmax = 30, xnbin = 30,\n",
    "                    xtitle = 'Opt0 Time Corrected Z % ' + str(width) + \" [ns]\",\n",
    "                     ifAddLegend = True, addLegend = label\n",
    "                    )\n",
    "#-----------------------------------#\n",
    "if ifSave:\n",
    "    #fig.tight_layout()\n",
    "    plt.savefig(savePath+\"beam_bucket_postcosmics_postelectron.png\", dpi = 200)\n",
    "#-----------------------------------#\n",
    "plt.show()"
   ]
  },
  {
   "cell_type": "markdown",
   "metadata": {},
   "source": [
    "<h1>Photon Selection (?)</h1>"
   ]
  },
  {
   "cell_type": "markdown",
   "metadata": {},
   "source": [
    "<h3> Get Primary Shower </h3>"
   ]
  },
  {
   "cell_type": "code",
   "execution_count": null,
   "metadata": {},
   "outputs": [],
   "source": [
    "df_hnl_prim = get_primary_shw_df(df_hnl)\n",
    "\n",
    "df_nu_prim = get_primary_shw_df(df_nu)\n",
    "\n",
    "df_cos_prim = get_primary_shw_df(df_cos)"
   ]
  },
  {
   "cell_type": "code",
   "execution_count": null,
   "metadata": {},
   "outputs": [],
   "source": [
    "#----------------------------------------------\n",
    "plot_slc_var(df_hnl_prim[df_hnl_prim['slc_pfp_razzled_photon_score'] < 2]\n",
    "            , df_nu_prim[df_nu_prim['slc_pfp_razzled_photon_score'] < 2]\n",
    "             , df_cos_prim[df_cos_prim['slc_pfp_razzled_photon_score'] < 2],\n",
    "                    true_counts, start_counts, \n",
    "                    'slc_pfp_razzled_photon_score', \n",
    "                    xmin = 0, xmax = 1, xnbin = 50,\n",
    "                    xtitle = 'PFP Razzled Photon Score',\n",
    "                     ifAddLegend = True, addLegend = label\n",
    "                    )\n",
    "\n",
    "plt.axvline(x =  TuneCut['Photon'], c = 'r', linestyle = '--', lw = 1.5)\n",
    "\n",
    "plt.annotate(\"\", xy=(TuneCut['Photon'], 2.5e4), xytext=(TuneCut['Photon'] + 0.1, 2.5e4)\n",
    "             , arrowprops=dict(arrowstyle= '<|-',\n",
    "                             color='r',\n",
    "                             lw=1.5,\n",
    "                             ls='--'))\n",
    "plt.ylim(0, 3e4)\n",
    "#-----------------------------------#\n",
    "if ifSave:\n",
    "    #fig.tight_layout()\n",
    "    plt.savefig(savePath+\"razzled_photon_score_prim_shw_precut.png\", dpi = 200)\n",
    "#-----------------------------------#\n",
    "plt.show()"
   ]
  },
  {
   "cell_type": "markdown",
   "metadata": {},
   "source": [
    "<h3> Apply Cut </h3>"
   ]
  },
  {
   "cell_type": "code",
   "execution_count": null,
   "metadata": {},
   "outputs": [],
   "source": [
    "pScore = TuneCut['Photon']\n",
    "\n",
    "print(pScore)\n",
    "\n",
    "if ifCut:\n",
    "    df_hnl_prim = cutPhotonMore(df_hnl_prim, ifnPhoton = False, photonScore = pScore)\n",
    "    df_nu_prim = cutPhotonMore(df_nu_prim, ifnPhoton = False, photonScore = pScore)\n",
    "    df_cos_prim = cutPhotonMore(df_cos_prim, ifnPhoton = False, photonScore = pScore)"
   ]
  },
  {
   "cell_type": "code",
   "execution_count": null,
   "metadata": {},
   "outputs": [],
   "source": [
    "df_hnl = merge_df_prim(df_hnl, df_hnl_prim)\n",
    "\n",
    "df_nu = merge_df_prim(df_nu, df_nu_prim)\n",
    "\n",
    "df_cos = merge_df_prim(df_cos, df_cos_prim)"
   ]
  },
  {
   "cell_type": "markdown",
   "metadata": {},
   "source": [
    "<h3>Save Purity/Eff</h3>"
   ]
  },
  {
   "cell_type": "code",
   "execution_count": null,
   "metadata": {},
   "outputs": [],
   "source": [
    "purity, eff = calc_purity_eff(df_hnl, df_nu, df_cos, true_counts, start_counts)\n",
    "\n",
    "purity_arr.append(purity)\n",
    "eff_arr.append(eff)\n",
    "cut_arr.append(\"Photon Cut\")\n",
    "\n",
    "print(purity_arr)\n",
    "print(eff_arr)\n",
    "print(cut_arr)"
   ]
  },
  {
   "cell_type": "markdown",
   "metadata": {},
   "source": [
    "<h1> Make Beam Bucket - Post Photon</h1>"
   ]
  },
  {
   "cell_type": "code",
   "execution_count": null,
   "metadata": {},
   "outputs": [],
   "source": [
    "hist, bins = plot_slc_var(df_hnl, df_nu, df_cos,\n",
    "                    true_counts, start_counts, \n",
    "                    'mod_t', \n",
    "                    xmin = 0, xmax = 30, xnbin = 30,\n",
    "                    xtitle = 'Opt0 Time Corrected Z % ' + str(width) + \" [ns]\",\n",
    "                     ifAddLegend = True, addLegend = label\n",
    "                    )\n",
    "#-----------------------------------#\n",
    "if ifSave:\n",
    "    #fig.tight_layout()\n",
    "    plt.savefig(savePath+\"beam_bucket_postcosmics_postphoton.png\", dpi = 200)\n",
    "#-----------------------------------#\n",
    "plt.show()"
   ]
  },
  {
   "cell_type": "markdown",
   "metadata": {},
   "source": [
    "<h1>Opt0 Measured PE </h1>"
   ]
  },
  {
   "cell_type": "markdown",
   "metadata": {},
   "source": [
    "<h3>Both 1 and 2+ Shower in Slice</h3>"
   ]
  },
  {
   "cell_type": "code",
   "execution_count": null,
   "metadata": {},
   "outputs": [],
   "source": [
    "plot_slc_var(df_hnl, df_nu, df_cos,\n",
    "                    true_counts, start_counts, \n",
    "                    'slc_opt0_measPE', \n",
    "                    xmin = 0, xmax = 100000, xnbin = 40,\n",
    "                    xtitle = 'Opt0 Measured PE',\n",
    "                      ifAddLegend = True, addLegend = label\n",
    "                    )\n",
    "\n",
    "plt.axvline(x =  TuneCut['PE'], c = 'r', linestyle = '--', lw = 1.5)\n",
    "\n",
    "plt.annotate(\"\", xy=(TuneCut['PE'], 8e4), xytext=(TuneCut['PE'] + 7500, 8e4)\n",
    "             , arrowprops=dict(arrowstyle= '<|-',\n",
    "                             color='r',\n",
    "                             lw=1.5,\n",
    "                             ls='--'))\n",
    "plt.ylim(0, 8.5e4)\n",
    "#-----------------------------------#\n",
    "if ifSave:\n",
    "    #fig.tight_layout()\n",
    "    plt.savefig(savePath+\"opt0PE_precut.png\", dpi = 200)\n",
    "#-----------------------------------#\n",
    "plt.show()"
   ]
  },
  {
   "cell_type": "markdown",
   "metadata": {},
   "source": [
    "<h3> Split 1 and 2+ shower cases </h3>"
   ]
  },
  {
   "cell_type": "code",
   "execution_count": null,
   "metadata": {},
   "outputs": [],
   "source": [
    "df_hnl_shw1, df_hnl_shw2 = split_my_df(df_hnl)\n",
    "\n",
    "df_nu_shw1, df_nu_shw2 = split_my_df(df_nu)\n",
    "\n",
    "df_cos_shw1, df_cos_shw2 = split_my_df(df_cos)"
   ]
  },
  {
   "cell_type": "markdown",
   "metadata": {},
   "source": [
    "<h3> 1 shower cases </h3>"
   ]
  },
  {
   "cell_type": "code",
   "execution_count": null,
   "metadata": {},
   "outputs": [],
   "source": [
    "#plot_slc_var(df_hnl_shw1, df_nu_shw1, df_cos,\n",
    "plot_slc_var(df_hnl_shw1, df_nu_shw1, df_cos_shw1,\n",
    "                    true_counts, start_counts, \n",
    "                    'slc_opt0_measPE', \n",
    "                    xmin = 0, xmax = 100000, xnbin = 40,\n",
    "                    xtitle = 'Opt0 Measured PE',\n",
    "                      ifAddLegend = True, addLegend = label\n",
    "                    )\n",
    "\n",
    "plt.axvline(x =  TuneCut['PE'], c = 'r', linestyle = '--', lw = 1.5)\n",
    "\n",
    "plt.annotate(\"\", xy=(TuneCut['PE'], 1e4), xytext=(TuneCut['PE'] + 7500, 1e4)\n",
    "             , arrowprops=dict(arrowstyle= '<|-',\n",
    "                             color='r',\n",
    "                             lw=1.5,\n",
    "                             ls='--'))\n",
    "plt.ylim(0, 1.5e4)\n",
    "#-----------------------------------#\n",
    "if ifSave:\n",
    "    #fig.tight_layout()\n",
    "    plt.savefig(savePath+\"one_shower_opt0PE_precut.png\", dpi = 200)\n",
    "#-----------------------------------#\n",
    "plt.show()"
   ]
  },
  {
   "cell_type": "markdown",
   "metadata": {},
   "source": [
    "<h3> 2+ shower cases </h3>"
   ]
  },
  {
   "cell_type": "code",
   "execution_count": null,
   "metadata": {},
   "outputs": [],
   "source": [
    "#plot_slc_var(df_hnl_shw2, df_nu_shw2, df_cos,\n",
    "plot_slc_var(df_hnl_shw2, df_nu_shw2, df_cos_shw2,\n",
    "                    true_counts, start_counts, \n",
    "                    'slc_opt0_measPE', \n",
    "                    xmin = 0, xmax = 100000, xnbin = 40,\n",
    "                    xtitle = 'Opt0 Measured PE',\n",
    "                     ifAddLegend = True, addLegend = label\n",
    "                    )\n",
    "\n",
    "plt.axvline(x =  TuneCut['PE'], c = 'r', linestyle = '--', lw = 1.5)\n",
    "\n",
    "plt.annotate(\"\", xy=(TuneCut['PE'], 2.5e4), xytext=(TuneCut['PE'] + 7500, 2.5e4)\n",
    "             , arrowprops=dict(arrowstyle= '<|-',\n",
    "                             color='r',\n",
    "                             lw=1.5,\n",
    "                             ls='--'))\n",
    "plt.ylim(0, 3e4)\n",
    "#-----------------------------------#\n",
    "if ifSave:\n",
    "    #fig.tight_layout()\n",
    "    plt.savefig(savePath+\"one_shower_opt0PE_precut.png\", dpi = 200)\n",
    "#-----------------------------------#\n",
    "plt.show()"
   ]
  },
  {
   "cell_type": "markdown",
   "metadata": {},
   "source": [
    "<h3>Apply Cut</h3>"
   ]
  },
  {
   "cell_type": "code",
   "execution_count": null,
   "metadata": {},
   "outputs": [],
   "source": [
    "PE = TuneCut['PE']\n",
    "\n",
    "print(PE)\n",
    "\n",
    "if ifCut:\n",
    "    df_hnl = df_hnl[df_hnl['slc_opt0_measPE'] >= PE]\n",
    "    df_nu = df_nu[df_nu['slc_opt0_measPE'] >= PE]\n",
    "    df_cos = df_cos[df_cos['slc_opt0_measPE'] >= PE]"
   ]
  },
  {
   "cell_type": "markdown",
   "metadata": {},
   "source": [
    "<h3>Save Purity/Eff</h3>"
   ]
  },
  {
   "cell_type": "code",
   "execution_count": null,
   "metadata": {},
   "outputs": [],
   "source": [
    "purity, eff = calc_purity_eff(df_hnl, df_nu, df_cos, true_counts, start_counts)\n",
    "\n",
    "purity_arr.append(purity)\n",
    "eff_arr.append(eff)\n",
    "cut_arr.append(\"Minimum PE\")\n",
    "\n",
    "print(purity_arr)\n",
    "print(eff_arr)\n",
    "print(cut_arr)"
   ]
  },
  {
   "cell_type": "markdown",
   "metadata": {},
   "source": [
    "<h1> Make Beam Bucket - Post PE</h1>"
   ]
  },
  {
   "cell_type": "code",
   "execution_count": null,
   "metadata": {},
   "outputs": [],
   "source": [
    "hist, bins = plot_slc_var(df_hnl, df_nu, df_cos,\n",
    "                    true_counts, start_counts, \n",
    "                    'mod_t', \n",
    "                    xmin = 0, xmax = 30, xnbin = 30,\n",
    "                    xtitle = 'Opt0 Time Corrected Z % ' + str(width) + \" [ns]\",\n",
    "                    ifAddLegend = True, addLegend = label\n",
    "                         )\n",
    "#-----------------------------------#\n",
    "if ifSave:\n",
    "    #fig.tight_layout()\n",
    "    plt.savefig(savePath+\"beam_bucket_postcosmics_postPE.png\", dpi = 200)\n",
    "#-----------------------------------#\n",
    "plt.show()"
   ]
  },
  {
   "cell_type": "markdown",
   "metadata": {},
   "source": [
    "<h1>Shower Energy, dEdx and Conversion Gap</h1>"
   ]
  },
  {
   "cell_type": "markdown",
   "metadata": {},
   "source": [
    "<h3> Primary Showers of both 1 and 2+ shower cases </h3>"
   ]
  },
  {
   "cell_type": "code",
   "execution_count": null,
   "metadata": {},
   "outputs": [],
   "source": [
    "plot_slc_var(df_hnl_prim, df_nu_prim, df_cos_prim,\n",
    "                    true_counts, start_counts, \n",
    "                    'slc_pfp_shower_energy', \n",
    "                    xmin = 0, xmax = 1000, xnbin = 50,\n",
    "                    xtitle = 'Shower Energy [MeV]',\n",
    "                      ifAddLegend = True, addLegend = label\n",
    "                         )\n",
    "\n",
    "plt.axvline(x =  TuneCut['ShowerEnergy'], c = 'r', linestyle = '--', lw = 1.5)\n",
    "\n",
    "plt.annotate(\"\", xy=(TuneCut['ShowerEnergy'], 1.75e4), xytext=(TuneCut['ShowerEnergy'] + 100, 1.75e4)\n",
    "             , arrowprops=dict(arrowstyle= '<|-',\n",
    "                             color='r',\n",
    "                             lw=1.5,\n",
    "                             ls='--'))\n",
    "plt.ylim(0, 2e4)\n",
    "\n",
    "#-----------------------------------#\n",
    "if ifSave:\n",
    "    #fig.tight_layout()\n",
    "    plt.savefig(savePath+\"prim_shower_energy_postpid.png\", dpi = 200)\n",
    "#-----------------------------------#\n",
    "plt.show()\n",
    "\n",
    "#================================================#\n",
    "plot_slc_var(df_hnl_prim, df_nu_prim, df_cos_prim,\n",
    "                    true_counts, start_counts, \n",
    "                    'slc_pfp_shower_dedx', \n",
    "                    xmin = 0, xmax = 15, xnbin = 40,\n",
    "                    xtitle = 'Shower Energy [MeV]',\n",
    "                      ifAddLegend = True, addLegend = label\n",
    "                         )\n",
    "#-----------------------------------#\n",
    "if ifSave:\n",
    "    #fig.tight_layout()\n",
    "    plt.savefig(savePath+\"prim_shower_dedx_postpid.png\", dpi = 200)\n",
    "#-----------------------------------#\n",
    "plt.show()    \n",
    "    \n",
    "#================================================#\n",
    "plot_slc_var(df_hnl_prim, df_nu_prim, df_cos_prim,\n",
    "                    true_counts, start_counts, \n",
    "                    'slc_pfp_shower_conv_gap', \n",
    "                    xmin = 0, xmax = 5, xnbin = 40,\n",
    "                    xtitle = 'Shower Conversion Gap [cm]',\n",
    "                      ifAddLegend = True, addLegend = label\n",
    "                         )\n",
    "#-----------------------------------#\n",
    "if ifSave:\n",
    "    #fig.tight_layout()\n",
    "    plt.savefig(savePath+\"prim_shower_convgap_postpid.png\", dpi = 200)\n",
    "#-----------------------------------#\n",
    "plt.show()"
   ]
  },
  {
   "cell_type": "markdown",
   "metadata": {},
   "source": [
    "<h3> Split into 1 shower and multi shower case </h3>"
   ]
  },
  {
   "cell_type": "code",
   "execution_count": null,
   "metadata": {},
   "outputs": [],
   "source": [
    "df_hnl_shw1, df_hnl_shw2 = split_my_df(df_hnl)\n",
    "\n",
    "df_nu_shw1, df_nu_shw2 = split_my_df(df_nu)\n",
    "\n",
    "df_cos_shw1, df_cos_shw2 = split_my_df(df_cos)"
   ]
  },
  {
   "cell_type": "markdown",
   "metadata": {},
   "source": [
    "<h3> Primary Showers of 1 shower cases </h3>"
   ]
  },
  {
   "cell_type": "code",
   "execution_count": null,
   "metadata": {},
   "outputs": [],
   "source": [
    "plot_slc_var(df_hnl_shw1, df_nu_shw1, df_cos_shw1,\n",
    "#plot_slc_var(df_hnl_shw1, df_nu_shw1, df_cos,\n",
    "                    true_counts, start_counts, \n",
    "                    'slc_pfp_shower_energy', \n",
    "                    xmin = 0, xmax = 1000, xnbin = 50,\n",
    "                    xtitle = 'Shower Energy [MeV]',\n",
    "                      ifAddLegend = True, addLegend = label\n",
    "                         )\n",
    "\n",
    "plt.axvline(x =  TuneCut['ShowerEnergy'], c = 'r', linestyle = '--', lw = 1.5)\n",
    "\n",
    "plt.annotate(\"\", xy=(TuneCut['ShowerEnergy'], 7.5e3), xytext=(TuneCut['ShowerEnergy'] + 100,  7.5e3)\n",
    "             , arrowprops=dict(arrowstyle= '<|-',\n",
    "                             color='r',\n",
    "                             lw=1.5,\n",
    "                             ls='--'))\n",
    "plt.ylim(0, 8e3)\n",
    "#-----------------------------------#\n",
    "if ifSave:\n",
    "    #fig.tight_layout()\n",
    "    plt.savefig(savePath+\"one_shower_energy_postpid.png\", dpi = 200)\n",
    "#-----------------------------------#\n",
    "plt.show()\n",
    "#================================================#\n",
    "plot_slc_var(df_hnl_shw1, df_nu_shw1, df_cos_shw1,\n",
    "#plot_slc_var(df_hnl_shw1, df_nu_shw1, df_cos,\n",
    "                    true_counts, start_counts, \n",
    "                    'slc_pfp_shower_dedx', \n",
    "                    xmin = 0, xmax = 15, xnbin = 40,\n",
    "                    xtitle = 'Shower dE/dx [MeV]',\n",
    "                      ifAddLegend = True, addLegend = label\n",
    "                         )\n",
    "#-----------------------------------#\n",
    "if ifSave:\n",
    "    #fig.tight_layout()\n",
    "    plt.savefig(savePath+\"one_shower_dedx_postpid.png\", dpi = 200)\n",
    "#-----------------------------------#\n",
    "plt.show()    \n",
    "    \n",
    "#================================================#\n",
    "plot_slc_var(df_hnl_shw1, df_nu_shw1, df_cos_shw1,\n",
    "#plot_slc_var(df_hnl_shw1, df_nu_shw1, df_cos,\n",
    "                    true_counts, start_counts, \n",
    "                    'slc_pfp_shower_conv_gap', \n",
    "                    xmin = 0, xmax = 5, xnbin = 40,\n",
    "                    xtitle = 'Shower Conversion Gap [cm]',\n",
    "                      ifAddLegend = True, addLegend = label\n",
    "                         )\n",
    "#-----------------------------------#\n",
    "if ifSave:\n",
    "    #fig.tight_layout()\n",
    "    plt.savefig(savePath+\"one_shower_convgap_postpid.png\", dpi = 200)\n",
    "#-----------------------------------#\n",
    "plt.show()"
   ]
  },
  {
   "cell_type": "markdown",
   "metadata": {},
   "source": [
    "<h3> Primary Showers of 2+ shower cases </h3>"
   ]
  },
  {
   "cell_type": "code",
   "execution_count": null,
   "metadata": {},
   "outputs": [],
   "source": [
    "df_nu_shw2 = df_nu_shw2.apply(pd.Series.explode).reset_index()\n",
    "df_hnl_shw2 = df_hnl_shw2.apply(pd.Series.explode).reset_index()\n",
    "df_cos_shw2 = df_cos_shw2.apply(pd.Series.explode).reset_index()"
   ]
  },
  {
   "cell_type": "code",
   "execution_count": null,
   "metadata": {},
   "outputs": [],
   "source": [
    "df_hnl_prim_shw2 = get_primary_shw_df(df_hnl_shw2)\n",
    "\n",
    "df_nu_prim_shw2 = get_primary_shw_df(df_nu_shw2)\n",
    "\n",
    "df_cos_prim_shw2 = get_primary_shw_df(df_cos_shw2)\n",
    "#df_cos_prim_shw2 = get_primary_shw_df(df_cos)"
   ]
  },
  {
   "cell_type": "code",
   "execution_count": null,
   "metadata": {},
   "outputs": [],
   "source": [
    "plot_slc_var(df_hnl_prim_shw2, df_nu_prim_shw2, df_cos_prim_shw2,\n",
    "                    true_counts, start_counts, \n",
    "                    'slc_pfp_shower_energy', \n",
    "                    xmin = 0, xmax = 1000, xnbin = 50,\n",
    "                    xtitle = 'Shower Energy [MeV]',\n",
    "                      ifAddLegend = True, addLegend = label\n",
    "                         )\n",
    "\n",
    "plt.axvline(x =  TuneCut['ShowerEnergy'], c = 'r', linestyle = '--', lw = 1.5)\n",
    "\n",
    "plt.annotate(\"\", xy=(TuneCut['ShowerEnergy'], 1.1e4), xytext=(TuneCut['ShowerEnergy'] + 100,  1.1e4)\n",
    "             , arrowprops=dict(arrowstyle= '<|-',\n",
    "                             color='r',\n",
    "                             lw=1.5,\n",
    "                             ls='--'))\n",
    "plt.ylim(0, 1.2e4)\n",
    "#-----------------------------------#\n",
    "if ifSave:\n",
    "    #fig.tight_layout()\n",
    "    plt.savefig(savePath+\"two_prim_shower_energy_postpid.png\", dpi = 200)\n",
    "#-----------------------------------#\n",
    "plt.show()\n",
    "\n",
    "#================================================#\n",
    "plot_slc_var(df_hnl_prim_shw2, df_nu_prim_shw2, df_cos_prim_shw2,\n",
    "                    true_counts, start_counts, \n",
    "                    'slc_pfp_shower_dedx', \n",
    "                    xmin = 0, xmax = 15, xnbin = 40,\n",
    "                    xtitle = 'Shower dE/dx [MeV]',\n",
    "                      ifAddLegend = True, addLegend = label\n",
    "                         )\n",
    "#-----------------------------------#\n",
    "if ifSave:\n",
    "    #fig.tight_layout()\n",
    "    plt.savefig(savePath+\"two_prim_shower_dedx_postpid.png\", dpi = 200)\n",
    "#-----------------------------------#\n",
    "plt.show()    \n",
    "    \n",
    "#================================================#\n",
    "plot_slc_var(df_hnl_prim_shw2, df_nu_prim_shw2, df_cos_prim_shw2,\n",
    "                    true_counts, start_counts, \n",
    "                    'slc_pfp_shower_conv_gap', \n",
    "                    xmin = 0, xmax = 5, xnbin = 40,\n",
    "                    xtitle = 'Shower Conversion Gap [cm]',\n",
    "                      ifAddLegend = True, addLegend = label\n",
    "                         )\n",
    "#-----------------------------------#\n",
    "if ifSave:\n",
    "    #fig.tight_layout()\n",
    "    plt.savefig(savePath+\"two_prim_shower_convgap_postpid.png\", dpi = 200)\n",
    "#-----------------------------------#\n",
    "plt.show()"
   ]
  },
  {
   "cell_type": "markdown",
   "metadata": {},
   "source": [
    "<h3>Apply Cut</h3>"
   ]
  },
  {
   "cell_type": "code",
   "execution_count": null,
   "metadata": {},
   "outputs": [],
   "source": [
    "energy = TuneCut['ShowerEnergy']\n",
    "\n",
    "print(energy)\n",
    "\n",
    "if ifCut:\n",
    "    df_hnl_prim = df_hnl_prim[df_hnl_prim['slc_pfp_shower_energy'] >= energy]\n",
    "    df_nu_prim = df_nu_prim[df_nu_prim['slc_pfp_shower_energy'] >= energy]\n",
    "    df_cos_prim = df_cos_prim[df_cos_prim['slc_pfp_shower_energy'] >= energy]"
   ]
  },
  {
   "cell_type": "code",
   "execution_count": null,
   "metadata": {},
   "outputs": [],
   "source": [
    "df_hnl = merge_df_prim(df_hnl, df_hnl_prim)\n",
    "\n",
    "df_nu = merge_df_prim(df_nu, df_nu_prim)\n",
    "\n",
    "df_cos = merge_df_prim(df_cos, df_cos_prim)"
   ]
  },
  {
   "cell_type": "markdown",
   "metadata": {},
   "source": [
    "<h3>Save Purity/Eff</h3>"
   ]
  },
  {
   "cell_type": "code",
   "execution_count": null,
   "metadata": {},
   "outputs": [],
   "source": [
    "purity, eff = calc_purity_eff(df_hnl, df_nu, df_cos, true_counts, start_counts)\n",
    "\n",
    "purity_arr.append(purity)\n",
    "eff_arr.append(eff)\n",
    "cut_arr.append(\"Minimum Energy\")\n",
    "\n",
    "print(purity_arr)\n",
    "print(eff_arr)\n",
    "print(cut_arr)"
   ]
  },
  {
   "cell_type": "markdown",
   "metadata": {},
   "source": [
    "<h1> Make Beam Bucket - Post Shower Energy</h1>"
   ]
  },
  {
   "cell_type": "code",
   "execution_count": null,
   "metadata": {},
   "outputs": [],
   "source": [
    "hist, bins = plot_slc_var(df_hnl, df_nu, df_cos,\n",
    "                    true_counts, start_counts, \n",
    "                    'mod_t', \n",
    "                    xmin = 0, xmax = 30, xnbin = 30,\n",
    "                    xtitle = 'Opt0 Time Corrected Z % ' + str(width) + ' [ns]',\n",
    "                    ifAddLegend = True, addLegend = label\n",
    "                    )\n",
    "\n",
    "#-----------------------------------#\n",
    "if ifSave:\n",
    "    #fig.tight_layout()\n",
    "    plt.savefig(savePath+\"beam_bucket_postShwE.png\", dpi = 200)\n",
    "#-----------------------------------#\n",
    "plt.show()"
   ]
  },
  {
   "cell_type": "markdown",
   "metadata": {},
   "source": [
    "<h1>Opt0 Frac </h1>"
   ]
  },
  {
   "cell_type": "markdown",
   "metadata": {},
   "source": [
    "<h3>Both 1 and 2+ Shower in Slice</h3>"
   ]
  },
  {
   "cell_type": "code",
   "execution_count": null,
   "metadata": {},
   "outputs": [],
   "source": [
    "plot_slc_var(df_hnl, df_nu, df_cos,\n",
    "                    true_counts, start_counts, \n",
    "                    'slc_opt0_frac', \n",
    "                    xmin = -1, xmax = 2, xnbin = 40,\n",
    "                    xtitle = 'Opt0 Fraction',\n",
    "                  ifAddLegend = True, addLegend = label\n",
    "                    )\n",
    "#-----------------------------------#\n",
    "if ifSave:\n",
    "    #fig.tight_layout()\n",
    "    plt.savefig(savePath+\"opt0frac_precut.png\", dpi = 200)\n",
    "#-----------------------------------#\n",
    "plt.show()"
   ]
  },
  {
   "cell_type": "code",
   "execution_count": null,
   "metadata": {},
   "outputs": [],
   "source": [
    "if ifTune:\n",
    "    vary_OpT0FracMore(df_hnl, df_nu, df_cos, true_counts, start_counts)\n",
    "    if ifSave:\n",
    "        plt.savefig(savePath+\"/opt0frac_more_one_shw_tuning.png\", dpi =200)"
   ]
  },
  {
   "cell_type": "markdown",
   "metadata": {},
   "source": [
    "<h3> Split 1 and 2+ shower cases </h3>"
   ]
  },
  {
   "cell_type": "code",
   "execution_count": null,
   "metadata": {},
   "outputs": [],
   "source": [
    "df_hnl_shw1, df_hnl_shw2 = split_my_df(df_hnl)\n",
    "\n",
    "df_nu_shw1, df_nu_shw2 = split_my_df(df_nu)\n",
    "\n",
    "df_cos_shw1, df_cos_shw2 = split_my_df(df_cos)"
   ]
  },
  {
   "cell_type": "markdown",
   "metadata": {},
   "source": [
    "<h3> 1 shower cases </h3>"
   ]
  },
  {
   "cell_type": "code",
   "execution_count": null,
   "metadata": {},
   "outputs": [],
   "source": [
    "plot_slc_var(df_hnl_shw1, df_nu_shw1, df_cos_shw1,\n",
    "                    true_counts, start_counts, \n",
    "                    'slc_opt0_frac', \n",
    "                    xmin = -1, xmax = 2, xnbin = 40,\n",
    "                    xtitle = 'Opt0 Fraction',\n",
    "                  ifAddLegend = True, addLegend = label\n",
    "                    )\n",
    "plt.axvline(x =  TuneCut['OneShowerFracMore'], c = 'r', linestyle = '--')\n",
    "plt.axvline(x =  TuneCut['OneShowerFracLess'], c = 'r', linestyle = '--')\n",
    "#-----------------------------------#\n",
    "if ifSave:\n",
    "    #fig.tight_layout()\n",
    "    plt.savefig(savePath+\"opt0frac_one_shw_precut.png\", dpi = 200)\n",
    "#-----------------------------------#\n",
    "plt.show()"
   ]
  },
  {
   "cell_type": "code",
   "execution_count": null,
   "metadata": {},
   "outputs": [],
   "source": [
    "if ifTune:\n",
    "    vary_OpT0FracMore(df_hnl_shw1, df_nu_shw1, df_cos_shw1, true_counts, start_counts)\n",
    "    if ifSave:\n",
    "        plt.savefig(savePath+\"/opt0frac_more_one_shw_tuning.png\", dpi =200)"
   ]
  },
  {
   "cell_type": "code",
   "execution_count": null,
   "metadata": {},
   "outputs": [],
   "source": [
    "if ifTune:\n",
    "    vary_OpT0FracLess(df_hnl_shw1, df_nu_shw1, df_cos_shw1, true_counts, start_counts)\n",
    "    if ifSave:\n",
    "        plt.savefig(savePath+\"/opt0frac_less_one_shw_tuning.png\", dpi =200)"
   ]
  },
  {
   "cell_type": "markdown",
   "metadata": {},
   "source": [
    "<h3> 2+ shower cases </h3>"
   ]
  },
  {
   "cell_type": "code",
   "execution_count": null,
   "metadata": {},
   "outputs": [],
   "source": [
    "plot_slc_var(df_hnl_shw2, df_nu_shw2, df_cos_shw2,\n",
    "                    true_counts, start_counts, \n",
    "                    'slc_opt0_frac', \n",
    "                    xmin = -1, xmax = 2, xnbin = 40,\n",
    "                    xtitle = 'Opt0 Fraction',\n",
    "                  ifAddLegend = True, addLegend = label\n",
    "                    )\n",
    "plt.axvline(x =  TuneCut['TwoShowerFracMore'], c = 'r', linestyle = '--')\n",
    "plt.axvline(x =  TuneCut['TwoShowerFracLess'], c = 'r', linestyle = '--')\n",
    "#-----------------------------------#\n",
    "if ifSave:\n",
    "    #fig.tight_layout()\n",
    "    plt.savefig(savePath+\"opt0frac_two_shw_precut.png\", dpi = 200)\n",
    "#-----------------------------------#\n",
    "plt.show()"
   ]
  },
  {
   "cell_type": "code",
   "execution_count": null,
   "metadata": {},
   "outputs": [],
   "source": [
    "if ifTune:\n",
    "    vary_OpT0FracMore(df_hnl_shw2, df_nu_shw2, df_cos_shw2, true_counts, start_counts)\n",
    "    if ifSave:\n",
    "        plt.savefig(savePath+\"/opt0frac_more_two_shw_tuning.png\", dpi =200)"
   ]
  },
  {
   "cell_type": "code",
   "execution_count": null,
   "metadata": {},
   "outputs": [],
   "source": [
    "if ifTune:\n",
    "    vary_OpT0FracLess(df_hnl_shw2, df_nu_shw2, df_cos_shw2, true_counts, start_counts)\n",
    "    if ifSave:\n",
    "        plt.savefig(savePath+\"/opt0frac_less_two_shw_tuning.png\", dpi =200)"
   ]
  },
  {
   "cell_type": "markdown",
   "metadata": {},
   "source": [
    "<h3> Apply Cut </h3>"
   ]
  },
  {
   "cell_type": "markdown",
   "metadata": {},
   "source": [
    "<h3> 1 shower only: harsh cut</h3>"
   ]
  },
  {
   "cell_type": "code",
   "execution_count": null,
   "metadata": {},
   "outputs": [],
   "source": [
    "fracMore = TuneCut['OneShowerFracMore']\n",
    "print(fracMore)\n",
    "fracLess = TuneCut['OneShowerFracLess']\n",
    "print(fracLess)\n",
    "\n",
    "if ifCut:\n",
    "    df_hnl_shw1 = cutOpt0Frac(df_hnl_shw1, Opt0FracMore = fracMore, Opt0FracLess = fracLess)\n",
    "    df_nu_shw1 = cutOpt0Frac(df_nu_shw1, Opt0FracMore = fracMore, Opt0FracLess = fracLess)\n",
    "    df_cos_shw1 = cutOpt0Frac(df_cos_shw1, Opt0FracMore = fracMore, Opt0FracLess = fracLess)"
   ]
  },
  {
   "cell_type": "markdown",
   "metadata": {},
   "source": [
    "<h3> 2+ showers: cut on primary + less harsh cut </h3>"
   ]
  },
  {
   "cell_type": "code",
   "execution_count": null,
   "metadata": {},
   "outputs": [],
   "source": [
    "#fracMore = TuneCut['Opt0FracMore']\n",
    "fracMore = TuneCut['TwoShowerFracMore']\n",
    "print(fracMore)\n",
    "fracLess = TuneCut['TwoShowerFracLess']\n",
    "print(fracLess)\n",
    "\n",
    "if ifCut:\n",
    "    df_hnl_shw2 = cutOpt0Frac(df_hnl_shw2, Opt0FracMore = fracMore, Opt0FracLess = fracLess)\n",
    "    df_nu_shw2 = cutOpt0Frac(df_nu_shw2, Opt0FracMore = fracMore, Opt0FracLess = fracLess)\n",
    "    df_cos_shw2 = cutOpt0Frac(df_cos_shw2, Opt0FracMore = fracMore, Opt0FracLess = fracLess)"
   ]
  },
  {
   "cell_type": "code",
   "execution_count": null,
   "metadata": {},
   "outputs": [],
   "source": [
    "df_hnl = apply_shower_cut(df_hnl, df_hnl_shw1, df_hnl_shw2)\n",
    "\n",
    "df_nu = apply_shower_cut(df_nu, df_nu_shw1, df_nu_shw2)\n",
    "\n",
    "df_cos = apply_shower_cut(df_cos, df_cos_shw1, df_cos_shw2)"
   ]
  },
  {
   "cell_type": "markdown",
   "metadata": {},
   "source": [
    "<h3>Save Purity/Eff</h3>"
   ]
  },
  {
   "cell_type": "code",
   "execution_count": null,
   "metadata": {},
   "outputs": [],
   "source": [
    "purity, eff = calc_purity_eff(df_hnl, df_nu, df_cos, true_counts, start_counts)\n",
    "\n",
    "purity_arr.append(purity)\n",
    "eff_arr.append(eff)\n",
    "cut_arr.append(\"Opt0 Fraction Cut\")\n",
    "\n",
    "print(purity_arr)\n",
    "print(eff_arr)\n",
    "print(cut_arr)"
   ]
  },
  {
   "cell_type": "markdown",
   "metadata": {},
   "source": [
    "<h1> Make Beam Bucket - Post Opt0 Frac</h1>"
   ]
  },
  {
   "cell_type": "code",
   "execution_count": null,
   "metadata": {},
   "outputs": [],
   "source": [
    "hist, bins = plot_slc_var(df_hnl, df_nu, df_cos,\n",
    "                    true_counts, start_counts, \n",
    "                    'mod_t', \n",
    "                    xmin = 0, xmax = 30, xnbin = 30,\n",
    "                    xtitle = 'Opt0 Time Corrected Z % ' + str(width) + ' [ns]',\n",
    "                  ifAddLegend = True, addLegend = label\n",
    "                    )\n",
    "#-----------------------------------#\n",
    "if ifSave:\n",
    "    #fig.tight_layout()\n",
    "    plt.savefig(savePath+\"beam_bucket_postopt0.png\", dpi = 200)\n",
    "#-----------------------------------#\n",
    "plt.show()"
   ]
  },
  {
   "cell_type": "markdown",
   "metadata": {},
   "source": [
    "<h1>Shower Theta</h1>"
   ]
  },
  {
   "cell_type": "markdown",
   "metadata": {},
   "source": [
    "<h3> Get Primary Shower </h3>"
   ]
  },
  {
   "cell_type": "code",
   "execution_count": null,
   "metadata": {},
   "outputs": [],
   "source": [
    "df_hnl_prim = get_primary_shw_df(df_hnl)\n",
    "\n",
    "df_nu_prim = get_primary_shw_df(df_nu)\n",
    "\n",
    "df_cos_prim = get_primary_shw_df(df_cos)"
   ]
  },
  {
   "cell_type": "markdown",
   "metadata": {},
   "source": [
    "<h3> Primary Showers of both 1 and 2+ shower cases </h3>"
   ]
  },
  {
   "cell_type": "code",
   "execution_count": null,
   "metadata": {},
   "outputs": [],
   "source": [
    "plot_slc_var(df_hnl_prim, df_nu_prim, df_cos_prim,\n",
    "                    true_counts, start_counts, \n",
    "                    'slc_pfp_shower_theta', \n",
    "                    xmin = 0, xmax = 180, xnbin = 20,\n",
    "                    xtitle = 'Shower Theta',\n",
    "                  ifAddLegend = True, addLegend = label\n",
    "                    )\n",
    "#-----------------------------------#\n",
    "if ifSave:\n",
    "    #fig.tight_layout()\n",
    "    plt.savefig(savePath+\"shower_theta_precut.png\", dpi = 200)\n",
    "#-----------------------------------#\n",
    "plt.show()\n"
   ]
  },
  {
   "cell_type": "markdown",
   "metadata": {},
   "source": [
    "<h3> Split 1 and 2+ shower cases </h3>"
   ]
  },
  {
   "cell_type": "code",
   "execution_count": null,
   "metadata": {},
   "outputs": [],
   "source": [
    "df_hnl_shw1, df_hnl_shw2 = split_my_df(df_hnl)\n",
    "\n",
    "df_nu_shw1, df_nu_shw2 = split_my_df(df_nu)\n",
    "\n",
    "df_cos_shw1, df_cos_shw2 = split_my_df(df_cos)"
   ]
  },
  {
   "cell_type": "markdown",
   "metadata": {},
   "source": [
    "<h3> Primary Showers of 1 shower cases </h3>"
   ]
  },
  {
   "cell_type": "code",
   "execution_count": null,
   "metadata": {},
   "outputs": [],
   "source": [
    "plot_slc_var(df_hnl_shw1, df_nu_shw1, df_cos_shw1,\n",
    "#plot_slc_var(df_hnl_shw1, df_nu_shw1, df_cos,\n",
    "                    true_counts, start_counts, \n",
    "                    'slc_pfp_shower_theta', \n",
    "                    xmin = 0, xmax = 180, xnbin = 36,\n",
    "                    xtitle = 'Shower Theta',\n",
    "                  ifAddLegend = True, addLegend = label\n",
    "                    )\n",
    "\n",
    "plt.axvline(x =  TuneCut['OneShowerTheta'], c = 'r', linestyle = '--', lw = 1.5)\n",
    "\n",
    "plt.annotate(\"\", xy=(TuneCut['OneShowerTheta'], 8.5e3), xytext=(TuneCut['OneShowerTheta'] - 15, 8.5e3)\n",
    "             , arrowprops=dict(arrowstyle= '<|-',\n",
    "                             color='r',\n",
    "                             lw=1.5,\n",
    "                             ls='--'))\n",
    "plt.ylim(0, 9e3)\n",
    "#-----------------------------------#\n",
    "if ifSave:\n",
    "    #fig.tight_layout()\n",
    "    plt.savefig(savePath+\"one_shower_theta_precut.png\", dpi = 200)\n",
    "#-----------------------------------#\n",
    "plt.show()\n"
   ]
  },
  {
   "cell_type": "code",
   "execution_count": null,
   "metadata": {},
   "outputs": [],
   "source": [
    "if ifTune:\n",
    "    vary_Theta(df_hnl_shw1, df_nu_shw1, df_cos_shw1, true_counts, start_counts)\n",
    "    if ifSave:\n",
    "        plt.savefig(savePath+\"/one_shower_theta_tuning.png\", dpi =200)"
   ]
  },
  {
   "cell_type": "markdown",
   "metadata": {},
   "source": [
    "<h3> Primary Showers of 2+ shower cases </h3>"
   ]
  },
  {
   "cell_type": "code",
   "execution_count": null,
   "metadata": {},
   "outputs": [],
   "source": [
    "df_nu_shw2 = df_nu_shw2.apply(pd.Series.explode).reset_index()\n",
    "df_hnl_shw2 = df_hnl_shw2.apply(pd.Series.explode).reset_index()\n",
    "df_cos_shw2 = df_cos_shw2.apply(pd.Series.explode).reset_index()"
   ]
  },
  {
   "cell_type": "code",
   "execution_count": null,
   "metadata": {},
   "outputs": [],
   "source": [
    "df_hnl_prim_shw2 = get_primary_shw_df(df_hnl_shw2)\n",
    "\n",
    "df_nu_prim_shw2 = get_primary_shw_df(df_nu_shw2)\n",
    "\n",
    "df_cos_prim_shw2 = get_primary_shw_df(df_cos_shw2)"
   ]
  },
  {
   "cell_type": "code",
   "execution_count": null,
   "metadata": {},
   "outputs": [],
   "source": [
    "plot_slc_var(df_hnl_prim_shw2, df_nu_prim_shw2, df_cos_prim_shw2,\n",
    "#plot_slc_var(df_hnl_shw2, df_nu_shw2, df_cos,\n",
    "                    true_counts, start_counts, \n",
    "                    'slc_pfp_shower_theta', \n",
    "                    xmin = 0, xmax = 180, xnbin = 36,\n",
    "                    xtitle = 'Shower Theta',\n",
    "                  ifAddLegend = True, addLegend = label\n",
    "                    )\n",
    "\n",
    "\n",
    "plt.axvline(x =  TuneCut['TwoShowerTheta'], c = 'r', linestyle = '--', lw = 1.5)\n",
    "\n",
    "plt.annotate(\"\", xy=(TuneCut['TwoShowerTheta'], 8.5e3), xytext=(TuneCut['TwoShowerTheta'] - 15, 8.5e3)\n",
    "             , arrowprops=dict(arrowstyle= '<|-',\n",
    "                             color='r',\n",
    "                             lw=1.5,\n",
    "                             ls='--'))\n",
    "plt.ylim(0, 9e3)\n",
    "#-----------------------------------#\n",
    "if ifSave:\n",
    "    #fig.tight_layout()\n",
    "    plt.savefig(savePath+\"two_shower_primary_theta_precut.png\", dpi = 200)\n",
    "#-----------------------------------#\n",
    "plt.show()\n"
   ]
  },
  {
   "cell_type": "code",
   "execution_count": null,
   "metadata": {},
   "outputs": [],
   "source": [
    "if ifTune:\n",
    "    vary_Theta(df_hnl_prim_shw2, df_nu_prim_shw2, df_cos_prim_shw2, true_counts, start_counts)\n",
    "    if ifSave:\n",
    "        plt.savefig(savePath+\"/two_shower_prim_theta_tuning.png\", dpi =200)"
   ]
  },
  {
   "cell_type": "markdown",
   "metadata": {},
   "source": [
    "<h3>Apply Cut</h3>"
   ]
  },
  {
   "cell_type": "markdown",
   "metadata": {},
   "source": [
    "<h3> 1 shower only: harsh cut</h3>"
   ]
  },
  {
   "cell_type": "code",
   "execution_count": null,
   "metadata": {},
   "outputs": [],
   "source": [
    "angle = TuneCut['OneShowerTheta']\n",
    "print(angle)\n",
    "\n",
    "if ifCut:\n",
    "    df_hnl_shw1 = cutThetaAngle(df_hnl_shw1, thetaAngle = angle) \n",
    "    df_nu_shw1 = cutThetaAngle(df_nu_shw1, thetaAngle = angle) \n",
    "    df_cos_shw1 = cutThetaAngle(df_cos_shw1, thetaAngle = angle) \n",
    "#df_cos = cutThetaAngle(df_cos, thetaAngle = angle) "
   ]
  },
  {
   "cell_type": "markdown",
   "metadata": {},
   "source": [
    "<h3> 2+ showers: cut on primary + less harsh cut </h3>"
   ]
  },
  {
   "cell_type": "code",
   "execution_count": null,
   "metadata": {},
   "outputs": [],
   "source": [
    "angle = TuneCut['TwoShowerTheta']\n",
    "\n",
    "print(angle)\n",
    "\n",
    "if ifCut:\n",
    "    df_hnl_prim_shw2 = cutThetaAngle(df_hnl_prim_shw2, thetaAngle = angle) \n",
    "    df_nu_prim_shw2 = cutThetaAngle(df_nu_prim_shw2, thetaAngle = angle) \n",
    "    df_cos_prim_shw2 = cutThetaAngle(df_cos_prim_shw2, thetaAngle = angle) \n",
    "#df_cos = cutThetaAngle(df_cos, thetaAngle = angle) "
   ]
  },
  {
   "cell_type": "code",
   "execution_count": null,
   "metadata": {},
   "outputs": [],
   "source": [
    "df_hnl_shw2 = merge_df_prim(df_hnl_shw2, df_hnl_prim_shw2)\n",
    "\n",
    "df_nu_shw2 = merge_df_prim(df_nu_shw2, df_nu_prim_shw2)\n",
    "\n",
    "df_cos_shw2 = merge_df_prim(df_cos_shw2, df_cos_prim_shw2)"
   ]
  },
  {
   "cell_type": "code",
   "execution_count": null,
   "metadata": {},
   "outputs": [],
   "source": [
    "df_hnl = apply_shower_cut(df_hnl, df_hnl_shw1, df_hnl_shw2)\n",
    "\n",
    "df_nu = apply_shower_cut(df_nu, df_nu_shw1, df_nu_shw2)\n",
    "\n",
    "df_cos = apply_shower_cut(df_cos, df_cos_shw1, df_cos_shw2)"
   ]
  },
  {
   "cell_type": "markdown",
   "metadata": {},
   "source": [
    "<h3>Save Purity/Eff</h3>"
   ]
  },
  {
   "cell_type": "code",
   "execution_count": null,
   "metadata": {},
   "outputs": [],
   "source": [
    "purity, eff = calc_purity_eff(df_hnl, df_nu, df_cos, true_counts, start_counts)\n",
    "\n",
    "purity_arr.append(purity)\n",
    "eff_arr.append(eff)\n",
    "cut_arr.append(\"Shower Theta Cut\")\n",
    "\n",
    "print(purity_arr)\n",
    "print(eff_arr)\n",
    "print(cut_arr)"
   ]
  },
  {
   "cell_type": "markdown",
   "metadata": {},
   "source": [
    "<h1> Make Beam Bucket - Post Shower Theta</h1>"
   ]
  },
  {
   "cell_type": "code",
   "execution_count": null,
   "metadata": {},
   "outputs": [],
   "source": [
    "hist, bins = plot_slc_var(df_hnl, df_nu, df_cos,\n",
    "                    true_counts, start_counts, \n",
    "                    'mod_t', \n",
    "                    xmin = 0, xmax = 30, xnbin = 30,\n",
    "                    xtitle = 'Opt0 Time Corrected Z % ' + str(width) + ' [ns]',\n",
    "                  ifAddLegend = True, addLegend = label\n",
    "                    )\n",
    "\n",
    "#-----------------------------------#\n",
    "if ifSave:\n",
    "    #fig.tight_layout()\n",
    "    plt.savefig(savePath+\"beam_bucket_postshowertheta.png\", dpi = 200)\n",
    "#-----------------------------------#\n",
    "plt.show()"
   ]
  },
  {
   "cell_type": "markdown",
   "metadata": {},
   "source": [
    "<h1>PFP N Hits</h1>"
   ]
  },
  {
   "cell_type": "code",
   "execution_count": null,
   "metadata": {},
   "outputs": [],
   "source": [
    "plot_slc_var(df_hnl, df_nu, df_cos,\n",
    "                    true_counts, start_counts, \n",
    "                    'slc_pfp_n_hits', \n",
    "                    xmin = 0, xmax = 5000, xnbin = 50,\n",
    "                    xtitle = 'PFP N Hits',\n",
    "                  ifAddLegend = True, addLegend = label\n",
    "                    )\n",
    "#-----------------------------------#\n",
    "if ifSave:\n",
    "    #fig.tight_layout()\n",
    "    plt.savefig(savePath+\"pfp_nhits.png\", dpi = 200)\n",
    "#-----------------------------------#\n",
    "plt.show()"
   ]
  },
  {
   "cell_type": "markdown",
   "metadata": {},
   "source": [
    "<h1>Track Score</h1>"
   ]
  },
  {
   "cell_type": "code",
   "execution_count": null,
   "metadata": {},
   "outputs": [],
   "source": [
    "plot_slc_var(df_hnl, df_nu, df_cos,\n",
    "                    true_counts, start_counts, \n",
    "                    'slc_pfp_track_score', \n",
    "                    xmin = 0, xmax = 1, xnbin = 40,\n",
    "                    xtitle = 'PFP Track Score',\n",
    "                  ifAddLegend = True, addLegend = label\n",
    "                    )\n",
    "#-----------------------------------#\n",
    "if ifSave:\n",
    "    #fig.tight_layout()\n",
    "    plt.savefig(savePath+\"track_score.png\", dpi = 200)\n",
    "#-----------------------------------#\n",
    "plt.show()"
   ]
  },
  {
   "cell_type": "markdown",
   "metadata": {},
   "source": [
    "<h1>Multiplicity</h1>"
   ]
  },
  {
   "cell_type": "code",
   "execution_count": null,
   "metadata": {},
   "outputs": [],
   "source": [
    "plot_slc_var(df_hnl, df_nu, df_cos,\n",
    "                    true_counts, start_counts, \n",
    "                    'slc_n_stub', \n",
    "                    xmin = 0, xmax = 10, xnbin = 10,\n",
    "                    xtitle = 'n Stubs',\n",
    "                  ifAddLegend = True, addLegend = label\n",
    "                    )\n",
    "#-----------------------------------#\n",
    "if ifSave:\n",
    "    #fig.tight_layout()\n",
    "    plt.savefig(savePath+\"nStub.png\", dpi = 200)\n",
    "#-----------------------------------#\n",
    "plt.show()\n",
    "\n",
    "#==========================================#\n",
    "plot_slc_var(df_hnl, df_nu, df_cos,\n",
    "                    true_counts, start_counts, \n",
    "                    'slc_n_trks', \n",
    "                    xmin = 0, xmax = 10, xnbin = 10,\n",
    "                    xtitle = 'n Tracks',\n",
    "                  ifAddLegend = True, addLegend = label\n",
    "                    )\n",
    "#-----------------------------------#\n",
    "if ifSave:\n",
    "    #fig.tight_layout()\n",
    "    plt.savefig(savePath+\"nTrk.png\", dpi = 200)\n",
    "#-----------------------------------#\n",
    "plt.show()\n",
    "\n",
    "#==========================================#\n",
    "plot_slc_var(df_hnl, df_nu, df_cos,\n",
    "                    true_counts, start_counts, \n",
    "                    'slc_n_shws', \n",
    "                    xmin = 0, xmax = 10, xnbin = 10,\n",
    "                    xtitle = 'n Showers',\n",
    "                  ifAddLegend = True, addLegend = label\n",
    "                    )\n",
    "#-----------------------------------#\n",
    "if ifSave:\n",
    "    #fig.tight_layout()\n",
    "    plt.savefig(savePath+\"nShw.png\", dpi = 200)\n",
    "#-----------------------------------#\n",
    "plt.show()"
   ]
  },
  {
   "cell_type": "code",
   "execution_count": null,
   "metadata": {},
   "outputs": [],
   "source": [
    "#==========================================#\n",
    "plot_slc_var(df_hnl, df_nu, df_cos,\n",
    "                    true_counts, start_counts, \n",
    "                    'slc_n_primary_trks', \n",
    "                    xmin = 0, xmax = 10, xnbin = 10,\n",
    "                    xtitle = 'n Primary Tracks',\n",
    "                  ifAddLegend = True, addLegend = label\n",
    "                    )\n",
    "#-----------------------------------#\n",
    "if ifSave:\n",
    "    #fig.tight_layout()\n",
    "    plt.savefig(savePath+\"nPrimaryTrk.png\", dpi = 200)\n",
    "#-----------------------------------#\n",
    "plt.show()\n",
    "\n",
    "#==========================================#\n",
    "plot_slc_var(df_hnl, df_nu, df_cos,\n",
    "                    true_counts, start_counts, \n",
    "                    'slc_n_primary_shws', \n",
    "                    xmin = 0, xmax = 10, xnbin = 10,\n",
    "                    xtitle = 'n Primary Showers',\n",
    "                  ifAddLegend = True, addLegend = label\n",
    "                    )\n",
    "#-----------------------------------#\n",
    "if ifSave:\n",
    "    #fig.tight_layout()\n",
    "    plt.savefig(savePath+\"nPrimaryShw.png\", dpi = 200)\n",
    "#-----------------------------------#\n",
    "plt.show()"
   ]
  },
  {
   "cell_type": "code",
   "execution_count": null,
   "metadata": {},
   "outputs": [],
   "source": [
    "#==========================================#\n",
    "plot_slc_var(df_hnl, df_nu, df_cos,\n",
    "                    true_counts, start_counts, \n",
    "                    'slc_n_primary_razzled_muons', \n",
    "                    xmin = 0, xmax = 10, xnbin = 10,\n",
    "                    xtitle = 'n Primary Razzled Muons',\n",
    "                  ifAddLegend = True, addLegend = label\n",
    "                    )\n",
    "#-----------------------------------#\n",
    "if ifSave:\n",
    "    #fig.tight_layout()\n",
    "    plt.savefig(savePath+\"nPrimaryRazzledMuons.png\", dpi = 200)\n",
    "#-----------------------------------#\n",
    "plt.show()\n",
    "\n",
    "#==========================================#\n",
    "plot_slc_var(df_hnl, df_nu, df_cos,\n",
    "                    true_counts, start_counts, \n",
    "                    'slc_n_primary_razzled_protons_thresh', \n",
    "                    xmin = 0, xmax = 10, xnbin = 10,\n",
    "                    xtitle = 'n Primary Razzled Protons',\n",
    "                  ifAddLegend = True, addLegend = label\n",
    "                    )\n",
    "#-----------------------------------#\n",
    "if ifSave:\n",
    "    #fig.tight_layout()\n",
    "    plt.savefig(savePath+\"nPrimaryRazzledProtons.png\", dpi = 200)\n",
    "#-----------------------------------#\n",
    "plt.show()\n",
    "\n",
    "#==========================================#\n",
    "plot_slc_var(df_hnl, df_nu, df_cos,\n",
    "                    true_counts, start_counts, \n",
    "                    'slc_n_primary_razzled_pions_thresh', \n",
    "                    xmin = 0, xmax = 10, xnbin = 10,\n",
    "                    xtitle = 'n Primary Razzled Pions',\n",
    "                  ifAddLegend = True, addLegend = label\n",
    "                    )\n",
    "#-----------------------------------#\n",
    "if ifSave:\n",
    "    #fig.tight_layout()\n",
    "    plt.savefig(savePath+\"nPrimaryRazzledPions.png\", dpi = 200)\n",
    "#-----------------------------------#\n",
    "plt.show()\n",
    "\n",
    "#==========================================#\n",
    "plot_slc_var(df_hnl, df_nu, df_cos,\n",
    "                    true_counts, start_counts, \n",
    "                    'slc_n_primary_razzled_electrons', \n",
    "                    xmin = 0, xmax = 10, xnbin = 10,\n",
    "                    xtitle = 'n Primary Razzled Electrons',\n",
    "                  ifAddLegend = True, addLegend = label\n",
    "                    )\n",
    "#-----------------------------------#\n",
    "if ifSave:\n",
    "    #fig.tight_layout()\n",
    "    plt.savefig(savePath+\"nPrimaryRazzledElectrons.png\", dpi = 200)\n",
    "#-----------------------------------#\n",
    "plt.show()\n",
    "\n",
    "#==========================================#\n",
    "plot_slc_var(df_hnl, df_nu, df_cos,\n",
    "                    true_counts, start_counts, \n",
    "                    'slc_n_primary_razzled_photons', \n",
    "                    xmin = 0, xmax = 10, xnbin = 10,\n",
    "                    xtitle = 'n Primary Razzled Photons',\n",
    "                  ifAddLegend = True, addLegend = label\n",
    "                    )\n",
    "#-----------------------------------#\n",
    "if ifSave:\n",
    "    #fig.tight_layout()\n",
    "    plt.savefig(savePath+\"nPrimaryRazzledPhotons.png\", dpi = 200)\n",
    "#-----------------------------------#\n",
    "plt.show()"
   ]
  },
  {
   "cell_type": "markdown",
   "metadata": {},
   "source": [
    "<h1>2 Shower Case: Pi0 Mass </h1>"
   ]
  },
  {
   "cell_type": "markdown",
   "metadata": {},
   "source": [
    "<h3> Split into 1 shower and multi shower case again! </h3>"
   ]
  },
  {
   "cell_type": "code",
   "execution_count": null,
   "metadata": {},
   "outputs": [],
   "source": [
    "df_hnl_shw1, df_hnl_shw2 = split_my_df(df_hnl)\n",
    "\n",
    "df_nu_shw1, df_nu_shw2 = split_my_df(df_nu)\n",
    "\n",
    "#df_cos_shw1, df_cos_shw2 = split_my_df(df_cos)"
   ]
  },
  {
   "cell_type": "code",
   "execution_count": null,
   "metadata": {},
   "outputs": [],
   "source": [
    "df_hnl_shw2['pi0_mass'] = df_hnl_shw2.apply(lambda row: pi0mass(row), axis = 1)\n",
    "\n",
    "df_nu_shw2['pi0_mass'] = df_nu_shw2.apply(lambda row: pi0mass(row), axis = 1)\n",
    "\n",
    "df_cos['pi0_mass']  = \"\"\n",
    "#df_cos_shw2['pi0_mass'] = df_cos_shw2.apply(lambda row: pi0mass(row), axis = 1)\n"
   ]
  },
  {
   "cell_type": "code",
   "execution_count": null,
   "metadata": {},
   "outputs": [],
   "source": [
    "df_hnl_prim_shw2 = get_primary_shw_df(df_hnl_shw2)\n",
    "\n",
    "df_nu_prim_shw2 = get_primary_shw_df(df_nu_shw2)\n",
    "\n",
    "#df_cos_prim_shw2 = get_primary_shw_df(df_cos_shw2)\n",
    "#df_cos_prim_shw2 = get_primary_shw_df(df_cos)"
   ]
  },
  {
   "cell_type": "code",
   "execution_count": null,
   "metadata": {},
   "outputs": [],
   "source": [
    "plot_slc_var(df_hnl_prim_shw2, df_nu_prim_shw2, df_cos,\n",
    "#plot_slc_var(df_hnl_prim_shw2, df_nu_prim_shw2, df_cos_prim_shw2,\n",
    "                    true_counts, start_counts, \n",
    "                    'pi0_mass', \n",
    "                    xmin = 0, xmax = 600, xnbin = 30,\n",
    "                    xtitle = 'Pi 0 Mass [MeV]',\n",
    "                  ifAddLegend = True, addLegend = label\n",
    "                    )\n",
    "# only one line may be specified; full height\n",
    "plt.axvline(x = 135, color = 'r', linewidth = 1.5, ls = '--')\n",
    "\n",
    "#-----------------------------------#\n",
    "if ifSave:\n",
    "    #fig.tight_layout()\n",
    "    plt.savefig(savePath+\"pizero_mass_precut.png\", dpi = 200)\n",
    "#-----------------------------------#\n",
    "\n",
    "plt.show()"
   ]
  },
  {
   "cell_type": "markdown",
   "metadata": {},
   "source": [
    "<h1>Beam Bucket Final Distribution</h1>"
   ]
  },
  {
   "cell_type": "code",
   "execution_count": null,
   "metadata": {},
   "outputs": [],
   "source": [
    "hist, bins = plot_slc_var(\n",
    "                    df_hnl\n",
    "                    , df_nu\n",
    "                    , df_cos\n",
    "                    , true_counts, start_counts, \n",
    "                    'mod_t', \n",
    "                    xmin = 0, xmax = 30, xnbin = 30,\n",
    "                    xtitle = 'Opt0 Time Corrected Z % ' + str(width) + ' [ns]',\n",
    "                  ifAddLegend = True, addLegend = label\n",
    "                    )\n",
    "\n",
    "#-----------------------------------#\n",
    "if ifSave:\n",
    "    #fig.tight_layout()\n",
    "    plt.savefig(savePath+\"beam_bucket_precut.png\", dpi = 200)\n",
    "#-----------------------------------#\n",
    "plt.show()"
   ]
  },
  {
   "cell_type": "markdown",
   "metadata": {},
   "source": [
    "<h1>Plot Purity/Efficiency </h1>"
   ]
  },
  {
   "cell_type": "code",
   "execution_count": null,
   "metadata": {},
   "outputs": [],
   "source": [
    "print(eff_arr)\n",
    "print(purity_arr)\n",
    "print(cut_arr)"
   ]
  },
  {
   "cell_type": "code",
   "execution_count": null,
   "metadata": {},
   "outputs": [],
   "source": [
    "fig, ax1 = plt.subplots(1, 1, figsize=(10, 6), sharex = True)\n",
    "ax2 = ax1.twinx()\n",
    "\n",
    "t = np.arange(0, len(cut_arr) , 1)\n",
    "\n",
    "effcol = col_dict['MintGreen']\n",
    "pcol = col_dict['Flamingo']\n",
    "\n",
    "ax1.plot(t, eff_arr, c = effcol, marker = 'o', markersize = 5, ls='--')\n",
    "ax2.plot(t, purity_arr, c = pcol, marker = 'o', markersize = 5, ls='--')\n",
    "\n",
    "ax1.set_ylim(-5,105)\n",
    "ax2.set_ylim(-5,105)\n",
    "\n",
    "ax1.grid(color='gainsboro', which='both', axis='both', linestyle='--')\n",
    "\n",
    "ax1.set_ylabel(\"Selection Effciency [%]\", c = effcol, fontsize = 16)\n",
    "ax2.set_ylabel(\"Purity [%]\", c = pcol, fontsize = 16)\n",
    "\n",
    "plt.xticks(range(0, len(t)))\n",
    "ax1.set_xticklabels(cut_arr, rotation = 45, ha=\"right\", fontsize = 16)\n",
    "\n",
    "ax1.tick_params(bottom = True, top = True, left = True, right = False)\n",
    "ax2.tick_params(bottom = True, top = True, left = False, right = True)\n",
    "\n",
    "ax1.tick_params(axis = 'x', labelsize = 16, direction = 'in')\n",
    "ax1.tick_params(axis = 'y', labelsize = 16, direction = 'in')\n",
    "ax2.tick_params(axis = 'y', labelsize = 16, direction = 'in')\n",
    "\n",
    "ax1.set_title(label, y=1.0, pad=-55, fontsize = 16)\n",
    "fig.tight_layout()\n",
    "\n",
    "#-----------------------------------#\n",
    "if ifSave:\n",
    "    plt.savefig(savePath+\"peff.png\", dpi = 200)\n",
    "#-----------------------------------#\n",
    "plt.show()"
   ]
  },
  {
   "cell_type": "markdown",
   "metadata": {},
   "source": [
    "<h1>Save Only Primary Showers </h1>"
   ]
  },
  {
   "cell_type": "code",
   "execution_count": null,
   "metadata": {},
   "outputs": [],
   "source": [
    "df_hnl = get_primary_shw_df(df_hnl)\n",
    "\n",
    "df_nu = get_primary_shw_df(df_nu)\n",
    "\n",
    "df_cos = get_primary_shw_df(df_cos)\n",
    "#df_cos_prim_shw2 = get_primary_shw_df(df_cos)"
   ]
  },
  {
   "cell_type": "code",
   "execution_count": null,
   "metadata": {},
   "outputs": [],
   "source": [
    "df_hnl[df_hnl['slc_true_event_type'] == 9]"
   ]
  },
  {
   "cell_type": "code",
   "execution_count": null,
   "metadata": {},
   "outputs": [],
   "source": [
    "df_nu[df_nu['slc_true_event_type'] == 9]"
   ]
  },
  {
   "cell_type": "code",
   "execution_count": null,
   "metadata": {},
   "outputs": [],
   "source": [
    "df_cos"
   ]
  },
  {
   "cell_type": "markdown",
   "metadata": {},
   "source": [
    "<h1> Save Cut Dataframe to Pickle</h1>"
   ]
  },
  {
   "cell_type": "code",
   "execution_count": null,
   "metadata": {},
   "outputs": [],
   "source": [
    "df_hnl.to_pickle(\"../pkl_files/v3_April2024/df_m\"+str(m)+\"_v3_hnl.pkl\", protocol = 5)"
   ]
  },
  {
   "cell_type": "code",
   "execution_count": null,
   "metadata": {},
   "outputs": [],
   "source": [
    "df_nu.to_pickle(\"../pkl_files/v3_April2024/df_m\"+str(m)+\"_v3_nu.pkl\", protocol = 5)"
   ]
  },
  {
   "cell_type": "code",
   "execution_count": null,
   "metadata": {},
   "outputs": [],
   "source": [
    "df_cos.to_pickle(\"../pkl_files/v3_April2024/df_m\"+str(m)+\"_v3_cos.pkl\", protocol = 5)"
   ]
  },
  {
   "cell_type": "code",
   "execution_count": null,
   "metadata": {},
   "outputs": [],
   "source": []
  }
 ],
 "metadata": {
  "kernelspec": {
   "display_name": "Python 3 (ipykernel)",
   "language": "python",
   "name": "python3"
  },
  "language_info": {
   "codemirror_mode": {
    "name": "ipython",
    "version": 3
   },
   "file_extension": ".py",
   "mimetype": "text/x-python",
   "name": "python",
   "nbconvert_exporter": "python",
   "pygments_lexer": "ipython3",
   "version": "3.9.7"
  }
 },
 "nbformat": 4,
 "nbformat_minor": 4
}
