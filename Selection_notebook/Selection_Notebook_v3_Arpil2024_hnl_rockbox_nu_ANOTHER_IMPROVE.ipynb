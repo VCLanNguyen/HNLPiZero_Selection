{
 "cells": [
  {
   "cell_type": "code",
   "execution_count": null,
   "metadata": {},
   "outputs": [],
   "source": [
    "# Add the relevant scripts from LArMachineLearningData\n",
    "# Nice the process so it can run with lots of cores on low priority\n",
    "import os\n",
    "os.nice(20)\n",
    "\n",
    "# Add local paths\n",
    "import sys\n",
    "hnlDIR = os.environ['_']\n",
    "sys.path.append('../pyscript')\n",
    "\n",
    "# From pyscript Library\n",
    "from Plotting import *\n",
    "from Dictionary import *\n",
    "from HelperFunctions import *\n",
    "from CutFunctions import *\n",
    "\n",
    "import pickle\n",
    "import numpy as np\n",
    "import pandas as pd\n",
    "import matplotlib.pyplot as plt\n",
    "\n",
    "import warnings\n",
    "warnings.filterwarnings(\"ignore\")"
   ]
  },
  {
   "cell_type": "markdown",
   "metadata": {},
   "source": [
    "<h1>Specify Mass</h1>"
   ]
  },
  {
   "cell_type": "code",
   "execution_count": null,
   "metadata": {},
   "outputs": [],
   "source": [
    "m = 240"
   ]
  },
  {
   "cell_type": "markdown",
   "metadata": {},
   "source": [
    "<h1>Configuration Stuff Here</h1>"
   ]
  },
  {
   "cell_type": "code",
   "execution_count": null,
   "metadata": {},
   "outputs": [],
   "source": [
    "ifSave = True\n",
    "savePath = \"../../plot_files/14April2024_m\"+str(m)+\"_v3_selection/\""
   ]
  },
  {
   "cell_type": "code",
   "execution_count": null,
   "metadata": {},
   "outputs": [],
   "source": [
    "ifCut = True"
   ]
  },
  {
   "cell_type": "code",
   "execution_count": null,
   "metadata": {},
   "outputs": [],
   "source": [
    "ifTune = False\n",
    "\n",
    "#Common cut value\n",
    "TuneCut = {\n",
    "    'beamSpillBegin': 367 - 16\n",
    "    , 'beamSpillEnd': 367 + 1600 + 16\n",
    "    , 'crumbs': 0 \n",
    "    , 'Muon' : 0.04\n",
    "    , 'Proton' : 0.96\n",
    "    , 'Pion' : 0.82 \n",
    "    , 'Electron' : 0.98 \n",
    "    #, 'Photon' : 0.02 \n",
    "    , 'ShowerEnergy': 50 \n",
    "    #, 'PE': 2500\n",
    "    , 'OneShowerFracMore': -0.12\n",
    "    , 'OneShowerFracLess': 0.4\n",
    "    , 'TwoShowerFracMore': 0\n",
    "    , 'TwoShowerFracLess': 0.4    \n",
    "    , 'OneShowerTheta': 20\n",
    "    , 'TwoShowerTheta': 30 \n",
    "    }\n"
   ]
  },
  {
   "cell_type": "markdown",
   "metadata": {},
   "source": [
    "<h1> Read in PKL Dataframe </h1>"
   ]
  },
  {
   "cell_type": "markdown",
   "metadata": {},
   "source": [
    "<h3> HNL </h3>"
   ]
  },
  {
   "cell_type": "code",
   "execution_count": null,
   "metadata": {},
   "outputs": [],
   "source": [
    "hnl_path =\"../../pkl_files/v3_April2024/df_preselect_m\"+str(m)+\"_v3_hnl.pkl\"\n",
    "print(hnl_path)\n",
    "    \n",
    "file_hnl = open(hnl_path, 'rb')\n",
    "df_hnl = pickle.load(file_hnl)\n",
    "\n",
    "del hnl_path\n",
    "file_hnl.close()"
   ]
  },
  {
   "cell_type": "markdown",
   "metadata": {},
   "source": [
    "<h3> Neutrino </h3>"
   ]
  },
  {
   "cell_type": "code",
   "execution_count": null,
   "metadata": {},
   "outputs": [],
   "source": [
    "nu_path =\"../../pkl_files/v3_April2024/df_preselect_v3_nu.pkl\"\n",
    "print(nu_path)\n",
    "    \n",
    "file_nu = open(nu_path, 'rb')\n",
    "df_nu = pickle.load(file_nu)\n",
    "\n",
    "del nu_path\n",
    "file_nu.close()"
   ]
  },
  {
   "cell_type": "markdown",
   "metadata": {},
   "source": [
    "<h3> Intime Cosmics </h3>"
   ]
  },
  {
   "cell_type": "code",
   "execution_count": null,
   "metadata": {},
   "outputs": [],
   "source": [
    "cos_path =\"../../pkl_files/v3_April2024/df_preselect_v3_cos.pkl\"\n",
    "print(cos_path)\n",
    "    \n",
    "file_cos = open(cos_path, 'rb')\n",
    "df_cos = pickle.load(file_cos)\n",
    "\n",
    "del cos_path\n",
    "file_cos.close()"
   ]
  },
  {
   "cell_type": "markdown",
   "metadata": {},
   "source": [
    "<h1>Combine FV and Non-FV HNL</h1>"
   ]
  },
  {
   "cell_type": "code",
   "execution_count": null,
   "metadata": {},
   "outputs": [],
   "source": [
    "df_hnl['slc_true_event_type'][df_hnl['slc_true_event_type'] == 1] = 0\n",
    "df_nu['slc_true_event_type'][df_nu['slc_true_event_type'] == 1] = 0\n",
    "df_cos['slc_true_event_type'][df_cos['slc_true_event_type'] == 1] = 0"
   ]
  },
  {
   "cell_type": "markdown",
   "metadata": {},
   "source": [
    "<h1>Scale HNL for Plotting</h1>"
   ]
  },
  {
   "cell_type": "code",
   "execution_count": null,
   "metadata": {},
   "outputs": [],
   "source": [
    "simU = df_hnl['simU'][0]\n",
    "true_counts = df_hnl['true_counts'][0]\n",
    "start_counts = df_hnl['start_counts'][0]\n",
    "\n",
    "\n",
    "scaleHNLPlot = 1\n",
    "    \n",
    "if m ==200:    \n",
    "    scaleHNLPlot = 100\n",
    "else:\n",
    "    scaleHNLPlot = 148118.81420359976 / true_counts\n",
    "\n",
    "print(\"Sim Umu = \" +str(simU))\n",
    "print(\"true counts = \" + str(true_counts))\n",
    "print(\"start counts = \" + str(start_counts))    \n",
    "print(\"Scale factor \" + str(scaleHNLPlot))"
   ]
  },
  {
   "cell_type": "code",
   "execution_count": null,
   "metadata": {},
   "outputs": [],
   "source": [
    "plotU = getUfromScaleFactor(simU, scaleHNLPlot)\n",
    "\n",
    "true_counts = true_counts * scaleHNLPlot\n",
    "start_counts =  start_counts * scaleHNLPlot\n",
    "\n",
    "\n",
    "print(\"Scaled Umu = \" + str(plotU))\n",
    "print(\"Scaled true counts = \" + str(true_counts))\n",
    "print(\"Scaled start counts = \" + str(start_counts))"
   ]
  },
  {
   "cell_type": "code",
   "execution_count": null,
   "metadata": {},
   "outputs": [],
   "source": [
    "df_hnl['sim_scale_pot'] = df_hnl['scale_pot']\n",
    "df_hnl['scale_pot'] = df_hnl['sim_scale_pot'] * scaleHNLPlot\n",
    "df_hnl['plotU'] = plotU"
   ]
  },
  {
   "cell_type": "code",
   "execution_count": null,
   "metadata": {},
   "outputs": [],
   "source": [
    "label = str(m) + ' MeV HNL ${\\pi}^{0}$' + '\\n' + '|U$_{{\\mu 4}}$|$^{{2}}$ = ' +str(sci_notation(plotU,2,2))\n",
    "print(label)"
   ]
  },
  {
   "cell_type": "markdown",
   "metadata": {},
   "source": [
    "<h1> Make Beam Bucket - Post Non-clear cosmics </h1>"
   ]
  },
  {
   "cell_type": "code",
   "execution_count": null,
   "metadata": {},
   "outputs": [],
   "source": [
    "width = 18.936\n",
    "\n",
    "df_hnl['mod_t'] = df_hnl['slc_opt0_time_corrected_Z_pandora']%width\n",
    "df_nu['mod_t'] = df_nu['slc_opt0_time_corrected_Z_pandora']%width\n",
    "df_cos['mod_t'] = df_cos['slc_opt0_time_corrected_Z_pandora']%width\n",
    "#----------------------------------------------\n",
    "hist, bins = plot_slc_var(df_hnl, df_nu, df_cos,\n",
    "                    true_counts, start_counts, \n",
    "                    'mod_t', \n",
    "                    xmin = 0, xmax = 30, xnbin = 30,\n",
    "                    xtitle = 'Opt0 Time Corrected Z % ' + str(width) + ' [ns]',\n",
    "                    ifAddLegend = True, addLegend = label\n",
    "                    )\n",
    "#-----------------------------------#\n",
    "if ifSave:\n",
    "    #fig.tight_layout()\n",
    "    plt.savefig(savePath+\"beam_bucket_post_nonclearcosmics.png\", dpi = 200)\n",
    "#-----------------------------------#\n",
    "plt.show()"
   ]
  },
  {
   "cell_type": "markdown",
   "metadata": {},
   "source": [
    "<h3> Save Purity and Eff </h3>"
   ]
  },
  {
   "cell_type": "code",
   "execution_count": null,
   "metadata": {},
   "outputs": [],
   "source": [
    "purity_arr, eff_arr, cut_arr = [], [], []"
   ]
  },
  {
   "cell_type": "code",
   "execution_count": null,
   "metadata": {},
   "outputs": [],
   "source": [
    "purity, eff = calc_purity_eff(df_hnl, df_nu, df_cos, true_counts, start_counts)\n",
    "\n",
    "\n",
    "purity_arr.append(purity)\n",
    "eff_arr.append(eff)\n",
    "cut_arr.append(\"Clear Cosmics Cut\")\n",
    "\n",
    "print(purity_arr)\n",
    "print(eff_arr)\n",
    "print(cut_arr)"
   ]
  },
  {
   "cell_type": "markdown",
   "metadata": {},
   "source": [
    "<h1> Beam Spill </h1>"
   ]
  },
  {
   "cell_type": "code",
   "execution_count": null,
   "metadata": {},
   "outputs": [],
   "source": [
    "light_speed_cm_us = 29979.2458 # cm/ns\n",
    "\n",
    "df_hnl['slc_opt0_time'] = df_hnl['slc_opt0_time_corrected_Z_pandora'] + df_hnl['slc_vtx_z']/light_speed_cm_us\n",
    "df_nu['slc_opt0_time'] = df_nu['slc_opt0_time_corrected_Z_pandora'] + df_nu['slc_vtx_z']/light_speed_cm_us\n",
    "df_cos['slc_opt0_time'] = df_cos['slc_opt0_time_corrected_Z_pandora'] + df_cos['slc_vtx_z']/light_speed_cm_us\n",
    "#-----------------------------------#\n",
    "hist, bins = plot_slc_var(df_hnl, df_nu, df_cos,\n",
    "                    true_counts, start_counts, \n",
    "                    'slc_opt0_time', \n",
    "                    xmin = 0, xmax = 3200, xnbin = 100,\n",
    "                    xtitle = 'Opt0 Time [ns]',\n",
    "                    ifAddLegend = True, addLegend = label\n",
    "                    )\n",
    "\n",
    "plt.axvline(x = TuneCut['beamSpillBegin'], c = 'r', linestyle = '--', lw = 1.5)\n",
    "plt.axvline(x = TuneCut['beamSpillEnd'], c = 'r', linestyle = '--', lw = 1.5)\n",
    "\n",
    "plt.ylim(0, 1.25e6)\n",
    "#-----------------------------------#\n",
    "if ifSave:\n",
    "    #fig.tight_layout()\n",
    "    plt.savefig(savePath+\"beamspill.png\", dpi = 200)\n",
    "#-----------------------------------#\n",
    "plt.show()"
   ]
  },
  {
   "cell_type": "markdown",
   "metadata": {},
   "source": [
    "<h3>Apply Cut</h3>"
   ]
  },
  {
   "cell_type": "code",
   "execution_count": null,
   "metadata": {},
   "outputs": [],
   "source": [
    "if ifCut:\n",
    "    df_hnl = cutBeamGate(df_hnl, gateBegin = TuneCut['beamSpillBegin'], gateEnd = TuneCut['beamSpillEnd'])\n",
    "    df_nu = cutBeamGate(df_nu, gateBegin = TuneCut['beamSpillBegin'], gateEnd = TuneCut['beamSpillEnd'])\n",
    "    df_cos = cutBeamGate(df_cos, gateBegin = TuneCut['beamSpillBegin'], gateEnd = TuneCut['beamSpillEnd'])"
   ]
  },
  {
   "cell_type": "markdown",
   "metadata": {},
   "source": [
    "<h3>Save Purity/Eff</h3>"
   ]
  },
  {
   "cell_type": "code",
   "execution_count": null,
   "metadata": {},
   "outputs": [],
   "source": [
    "purity, eff = calc_purity_eff(df_hnl, df_nu, df_cos, true_counts, start_counts)\n",
    "\n",
    "purity_arr.append(purity)\n",
    "eff_arr.append(eff)\n",
    "cut_arr.append(\"Beam Spill\")\n",
    "\n",
    "print(purity_arr)\n",
    "print(eff_arr)\n",
    "print(cut_arr)"
   ]
  },
  {
   "cell_type": "markdown",
   "metadata": {},
   "source": [
    "<h1> Make Beam Bucket - Post Beam Spill</h1>"
   ]
  },
  {
   "cell_type": "code",
   "execution_count": null,
   "metadata": {},
   "outputs": [],
   "source": [
    "hist, bins = plot_slc_var(df_hnl, df_nu, df_cos,\n",
    "                    true_counts, start_counts, \n",
    "                    'mod_t', \n",
    "                    xmin = 0, xmax = 30, xnbin = 30,\n",
    "                    xtitle = 'Opt0 Time Corrected Z % ' + str(width) + ' [ns]',\n",
    "                    ifAddLegend = True, addLegend = label\n",
    "                    )\n",
    "#-----------------------------------#\n",
    "if ifSave:\n",
    "    #fig.tight_layout()\n",
    "    plt.savefig(savePath+\"beam_bucket_post_beamspill.png\", dpi = 200)\n",
    "#-----------------------------------#\n",
    "plt.show()"
   ]
  },
  {
   "cell_type": "markdown",
   "metadata": {},
   "source": [
    "<h1> CRUMBS </h1>"
   ]
  },
  {
   "cell_type": "code",
   "execution_count": null,
   "metadata": {},
   "outputs": [],
   "source": [
    "plot_slc_var(df_hnl, df_nu, df_cos,\n",
    "                    true_counts, start_counts, \n",
    "                    'slc_crumbs_score', \n",
    "                    xmin = -2, xmax =1, xnbin = 30,\n",
    "                    xtitle = 'CRUMBS Score',\n",
    "                    ifAddLegend = True, addLegend = label\n",
    "                    )\n",
    "\n",
    "plt.axvline(x = TuneCut['crumbs'], c = 'r', linestyle = '--', lw = 1.5)\n",
    "\n",
    "plt.annotate(\"\", xy=(0, 4.5e6), xytext=(0.4, 4.5e6)\n",
    "             , arrowprops=dict(arrowstyle= '<|-',\n",
    "                             color='r',\n",
    "                             lw=1.5,\n",
    "                             ls='--'))\n",
    "\n",
    "plt.ylim(0, 5e6)\n",
    "#-----------------------------------#\n",
    "if ifSave:\n",
    "    #fig.tight_layout()\n",
    "    plt.savefig(savePath+\"crumbs_precut.png\", dpi = 200)\n",
    "#-----------------------------------#\n",
    "plt.show()"
   ]
  },
  {
   "cell_type": "raw",
   "metadata": {},
   "source": [
    "if ifTune:\n",
    "    vary_crumbsScore(df_hnl, df_nu, df_cos, true_counts, start_counts)\n",
    "    \n",
    "    if ifSave:\n",
    "        plt.savefig(savePath+\"/crumbs_tuning.png\", dpi =200)"
   ]
  },
  {
   "cell_type": "markdown",
   "metadata": {},
   "source": [
    "<h3>Apply Cut</h3>"
   ]
  },
  {
   "cell_type": "code",
   "execution_count": null,
   "metadata": {},
   "outputs": [],
   "source": [
    "score = TuneCut['crumbs']\n",
    "\n",
    "print(score)\n",
    "\n",
    "if ifCut:\n",
    "    df_hnl = cutCosmics(df_hnl, crumbsScore = score)\n",
    "    df_nu = cutCosmics(df_nu, crumbsScore = score)\n",
    "    df_cos = cutCosmics(df_cos, crumbsScore = score)"
   ]
  },
  {
   "cell_type": "markdown",
   "metadata": {},
   "source": [
    "<h3>Save Purity/Eff</h3>"
   ]
  },
  {
   "cell_type": "code",
   "execution_count": null,
   "metadata": {},
   "outputs": [],
   "source": [
    "purity, eff = calc_purity_eff(df_hnl, df_nu, df_cos, true_counts, start_counts)\n",
    "\n",
    "purity_arr.append(purity)\n",
    "eff_arr.append(eff)\n",
    "cut_arr.append(\"CRUMBS\")\n",
    "\n",
    "print(purity_arr)\n",
    "print(eff_arr)\n",
    "print(cut_arr)"
   ]
  },
  {
   "cell_type": "markdown",
   "metadata": {},
   "source": [
    "<h1> Make Beam Bucket - Post Crumbs</h1>"
   ]
  },
  {
   "cell_type": "code",
   "execution_count": null,
   "metadata": {},
   "outputs": [],
   "source": [
    "hist, bins = plot_slc_var(df_hnl, df_nu, df_cos,\n",
    "                    true_counts, start_counts, \n",
    "                    'mod_t', \n",
    "                    xmin = 0, xmax = 30, xnbin = 30,\n",
    "                    xtitle = 'Opt0 Time Corrected Z % ' + str(width) + \" [ns]\",\n",
    "                    ifAddLegend = True, addLegend = label\n",
    "                    )\n",
    "#-----------------------------------#\n",
    "if ifSave:\n",
    "    #fig.tight_layout()\n",
    "    plt.savefig(savePath+\"beam_bucket_post_crumbs.png\", dpi = 200)\n",
    "#-----------------------------------#\n",
    "plt.show()"
   ]
  },
  {
   "cell_type": "markdown",
   "metadata": {},
   "source": [
    "<h1> Fiducial Volume </h1>"
   ]
  },
  {
   "cell_type": "code",
   "execution_count": null,
   "metadata": {},
   "outputs": [],
   "source": [
    "plot_slc_var(df_hnl, df_nu, df_cos,\n",
    "                    true_counts, start_counts, \n",
    "                    'slc_is_fv', \n",
    "                    xmin = -0.5, xmax = 2.5, xnbin = 40,\n",
    "                    xtitle = 'Vertex is in Fiducial Volume',\n",
    "                     ifAddLegend = True, addLegend = label\n",
    "                    )\n",
    "\n",
    "plt.xticks(range(0, 2), labels=[\"False\", \"True\"])\n",
    "\n",
    "plt.axvline(x = 0.5, c = 'r', linestyle = '--', lw = 1.5)\n",
    "\n",
    "plt.annotate(\"\", xy=(0.5, 1.6e7), xytext=(0.9, 1.6e7)\n",
    "             , arrowprops=dict(arrowstyle= '<|-',\n",
    "                             color='r',\n",
    "                             lw=1.5,\n",
    "                             ls='--'))\n",
    "plt.ylim(0, 1.8e7)\n",
    "#-----------------------------------#\n",
    "if ifSave:\n",
    "    #fig.tight_layout()\n",
    "    plt.savefig(savePath+\"fv_precut.png\", dpi = 200)\n",
    "#-----------------------------------#\n",
    "plt.show()"
   ]
  },
  {
   "cell_type": "markdown",
   "metadata": {},
   "source": [
    "<h3>Apply Cut</h3>"
   ]
  },
  {
   "cell_type": "code",
   "execution_count": null,
   "metadata": {},
   "outputs": [],
   "source": [
    "if ifCut:\n",
    "    df_hnl = cutFV(df_hnl)\n",
    "    df_nu = cutFV(df_nu)\n",
    "    df_cos = cutFV(df_cos)"
   ]
  },
  {
   "cell_type": "markdown",
   "metadata": {},
   "source": [
    "<h3>Save Purity/Eff</h3>"
   ]
  },
  {
   "cell_type": "code",
   "execution_count": null,
   "metadata": {},
   "outputs": [],
   "source": [
    "purity, eff = calc_purity_eff(df_hnl, df_nu, df_cos, true_counts, start_counts)\n",
    "\n",
    "purity_arr.append(purity)\n",
    "eff_arr.append(eff)\n",
    "cut_arr.append(\"Vertex In FV\")\n",
    "\n",
    "print(purity_arr)\n",
    "print(eff_arr)\n",
    "print(cut_arr)"
   ]
  },
  {
   "cell_type": "markdown",
   "metadata": {},
   "source": [
    "<h1> Make Beam Bucket - Post FV</h1>"
   ]
  },
  {
   "cell_type": "code",
   "execution_count": null,
   "metadata": {},
   "outputs": [],
   "source": [
    "hist, bins = plot_slc_var(df_hnl, df_nu, df_cos,\n",
    "                    true_counts, start_counts, \n",
    "                    'mod_t', \n",
    "                    xmin = 0, xmax = 30, xnbin = 30,\n",
    "                    xtitle = 'Opt0 Time Corrected Z % ' + str(width) + \" [ns]\",\n",
    "                     ifAddLegend = True, addLegend = label\n",
    "                    )\n",
    "#-----------------------------------#\n",
    "if ifSave:\n",
    "    #fig.tight_layout()\n",
    "    plt.savefig(savePath+\"beam_bucket_post_FV.png\", dpi = 200)\n",
    "#-----------------------------------#\n",
    "plt.show()"
   ]
  },
  {
   "cell_type": "markdown",
   "metadata": {},
   "source": [
    "<h1> Containment</h1>"
   ]
  },
  {
   "cell_type": "raw",
   "metadata": {},
   "source": [
    "plot_slc_var(df_hnl[df_hnl['slc_pfp_track_score'] < 0.5]\n",
    "             , df_nu[df_nu['slc_pfp_track_score'] < 0.5]\n",
    "             , df_cos[df_cos['slc_pfp_track_score'] < 0.5],\n",
    "                    true_counts, start_counts, \n",
    "                    'slc_pfp_shower_contained', \n",
    "                    xmin = -1, xmax = 3, xnbin = 40,\n",
    "                    xtitle = 'Shower is contained'\n",
    "                    )\n",
    "#-----------------------------------#\n",
    "if ifSave:\n",
    "    #fig.tight_layout()\n",
    "    plt.savefig(savePath+\"shower_contained_precut.png\", dpi = 200)\n",
    "#-----------------------------------#\n",
    "plt.show()"
   ]
  },
  {
   "cell_type": "raw",
   "metadata": {},
   "source": [
    "plot_slc_var(df_hnl[df_hnl['slc_pfp_track_score'] > 0.5]\n",
    "             , df_nu[df_nu['slc_pfp_track_score'] > 0.5]\n",
    "             , df_cos[df_cos['slc_pfp_track_score'] > 0.5],\n",
    "                    true_counts, start_counts, \n",
    "                    'slc_pfp_track_contained', \n",
    "                    xmin = -1, xmax = 3, xnbin = 40,\n",
    "                    xtitle = 'Track is contained'\n",
    "                    )\n",
    "#-----------------------------------#\n",
    "if ifSave:\n",
    "    #fig.tight_layout()\n",
    "    plt.savefig(savePath+\"track_contained_precut.png\", dpi = 200)\n",
    "#-----------------------------------#\n",
    "plt.show()"
   ]
  },
  {
   "cell_type": "markdown",
   "metadata": {},
   "source": [
    "<h3>Apply Cut</h3>"
   ]
  },
  {
   "cell_type": "raw",
   "metadata": {},
   "source": [
    "if ifCut:\n",
    "    df_hnl = cutContainment_v2(df_hnl, ifShwCont = False)\n",
    "    df_nu = cutContainment_v2(df_nu, ifShwCont = False)\n",
    "    df_cos = cutContainment_v2(df_cos, ifShwCont = False)"
   ]
  },
  {
   "cell_type": "markdown",
   "metadata": {},
   "source": [
    "<h3>Save Purity/Eff</h3>"
   ]
  },
  {
   "cell_type": "raw",
   "metadata": {},
   "source": [
    "purity, eff = calc_purity_eff(df_hnl, df_nu, df_cos, true_counts, start_counts)\n",
    "\n",
    "purity_arr.append(purity)\n",
    "eff_arr.append(eff)\n",
    "cut_arr.append(\"Containment\")\n",
    "\n",
    "print(purity_arr)\n",
    "print(eff_arr)\n",
    "print(cut_arr)"
   ]
  },
  {
   "cell_type": "markdown",
   "metadata": {},
   "source": [
    "<h1> Make Beam Bucket - Post Containment</h1>"
   ]
  },
  {
   "cell_type": "raw",
   "metadata": {},
   "source": [
    "hist, bins = plot_slc_var(df_hnl, df_nu, df_cos,\n",
    "                    true_counts, start_counts, \n",
    "                    'mod_t', \n",
    "                    xmin = 0, xmax = 22, xnbin = 22,\n",
    "                    xtitle = 'Opt0 Time Corrected Z % ' + str(width) + \" [ns]\"\n",
    "                    )\n",
    "#-----------------------------------#\n",
    "if ifSave:\n",
    "    #fig.tight_layout()\n",
    "    plt.savefig(savePath+\"beam_bucket_postcosmics_postFV_postContainment.png\", dpi = 200)\n",
    "#-----------------------------------#\n",
    "plt.show()"
   ]
  },
  {
   "cell_type": "markdown",
   "metadata": {},
   "source": [
    "<h1>Muon Rejection</h1>"
   ]
  },
  {
   "cell_type": "code",
   "execution_count": null,
   "metadata": {},
   "outputs": [],
   "source": [
    "plot_slc_var(df_hnl, df_nu, df_cos,\n",
    "                    true_counts, start_counts, \n",
    "                    'slc_n_razzled_muons', \n",
    "                    xmin = 0, xmax = 6, xnbin = 6,\n",
    "                    xtitle = 'n Razzled Muons',\n",
    "                     ifAddLegend = True, addLegend = label\n",
    "                    )\n",
    "\n",
    "plt.axvline(x = 1, c = 'r', linestyle = '--', lw = 1.5)\n",
    "plt.annotate(\"\", xy=(0.5, 8.5e6), xytext=(1, 8.5e6)\n",
    "             , arrowprops=dict(arrowstyle= '-|>',\n",
    "                             color='r',\n",
    "                             lw=1.5,\n",
    "                             ls='--'))\n",
    "plt.ylim(0, 9e6)\n",
    "#-----------------------------------#\n",
    "if ifSave:\n",
    "    #fig.tight_layout()\n",
    "    plt.savefig(savePath+\"nrazzled_muon_precut.png\", dpi = 200)\n",
    "#-----------------------------------#\n",
    "plt.show()\n",
    "#----------------------------------------------\n",
    "plot_slc_var(df_hnl, df_nu, df_cos,\n",
    "                    true_counts, start_counts, \n",
    "                    'slc_pfp_razzled_muon_score', \n",
    "                    xmin = 0, xmax = 1, xnbin = 50,\n",
    "                    xtitle = 'PFP Razzled Muon Score',\n",
    "                     ifAddLegend = True, addLegend = label\n",
    "                    )\n",
    "plt.axvline(x =  TuneCut['Muon'], c = 'r', linestyle = '--', lw = 1.5)\n",
    "\n",
    "plt.annotate(\"\", xy=(0.0, 8.5e6), xytext=(TuneCut['Muon'], 8.5e6)\n",
    "             , arrowprops=dict(arrowstyle= '-|>',\n",
    "                             color='r',\n",
    "                             lw=1.5,\n",
    "                             ls='--'))\n",
    "plt.ylim(0, 9e6)\n",
    "#-----------------------------------#\n",
    "if ifSave:\n",
    "    #fig.tight_layout()\n",
    "    plt.savefig(savePath+\"razzled_muon_score_precut.png\", dpi = 200)\n",
    "#-----------------------------------#\n",
    "plt.show()"
   ]
  },
  {
   "cell_type": "raw",
   "metadata": {},
   "source": [
    "if ifTune:\n",
    "    vary_MuonScore(df_hnl, df_nu, df_cos , true_counts, start_counts)\n",
    "    if ifSave:\n",
    "        plt.savefig(savePath+\"/muon_tuning.png\", dpi =200)"
   ]
  },
  {
   "cell_type": "markdown",
   "metadata": {},
   "source": [
    "<h3> Apply Cut</h3>"
   ]
  },
  {
   "cell_type": "code",
   "execution_count": null,
   "metadata": {},
   "outputs": [],
   "source": [
    "muonScore = TuneCut['Muon']\n",
    "\n",
    "print(muonScore)\n",
    "\n",
    "if ifCut:\n",
    "    df_hnl = cutMuon(df_hnl, muonScore =muonScore)\n",
    "    df_nu = cutMuon(df_nu, muonScore =muonScore)\n",
    "    df_cos = cutMuon(df_cos,muonScore =muonScore)"
   ]
  },
  {
   "cell_type": "markdown",
   "metadata": {},
   "source": [
    "<h3>Save Purity/Eff</h3>"
   ]
  },
  {
   "cell_type": "code",
   "execution_count": null,
   "metadata": {},
   "outputs": [],
   "source": [
    "purity, eff = calc_purity_eff(df_hnl, df_nu, df_cos, true_counts, start_counts)\n",
    "\n",
    "purity_arr.append(purity)\n",
    "eff_arr.append(eff)\n",
    "cut_arr.append(\"Muon Cut\")\n",
    "\n",
    "print(purity_arr)\n",
    "print(eff_arr)\n",
    "print(cut_arr)"
   ]
  },
  {
   "cell_type": "markdown",
   "metadata": {},
   "source": [
    "<h1> Make Beam Bucket - Post Muon</h1>"
   ]
  },
  {
   "cell_type": "code",
   "execution_count": null,
   "metadata": {},
   "outputs": [],
   "source": [
    "hist, bins = plot_slc_var(df_hnl, df_nu, df_cos,\n",
    "                    true_counts, start_counts, \n",
    "                    'mod_t', \n",
    "                    xmin = 0, xmax = 30, xnbin = 30,\n",
    "                    xtitle = 'Opt0 Time Corrected Z % ' + str(width) + \" [ns]\",\n",
    "                     ifAddLegend = True, addLegend = label\n",
    "                    )\n",
    "#-----------------------------------#\n",
    "if ifSave:\n",
    "    #fig.tight_layout()\n",
    "    plt.savefig(savePath+\"beam_bucket_postcosmics_postmuon.png\", dpi = 200)\n",
    "#-----------------------------------#\n",
    "plt.show()"
   ]
  },
  {
   "cell_type": "markdown",
   "metadata": {},
   "source": [
    "<h1>Proton Rejection</h1>"
   ]
  },
  {
   "cell_type": "code",
   "execution_count": null,
   "metadata": {},
   "outputs": [],
   "source": [
    "plot_slc_var(df_hnl, df_nu, df_cos,\n",
    "                    true_counts, start_counts, \n",
    "                    'slc_n_razzled_protons_thresh', \n",
    "                    xmin = 0, xmax = 6, xnbin = 6,\n",
    "                    xtitle = 'n Razzled Protons',\n",
    "                     ifAddLegend = True, addLegend = label\n",
    "                    )\n",
    "\n",
    "plt.axvline(x = 1, c = 'r', linestyle = '--', lw = 1.5)\n",
    "plt.annotate(\"\", xy=(0.5, 9.5e5), xytext=(1, 9.5e5)\n",
    "             , arrowprops=dict(arrowstyle= '-|>',\n",
    "                             color='r',\n",
    "                             lw=1.5,\n",
    "                             ls='--'))\n",
    "plt.ylim(0, 1e6)\n",
    "#-----------------------------------#\n",
    "if ifSave:\n",
    "    #fig.tight_layout()\n",
    "    plt.savefig(savePath+\"nrazzled_proton_precut.png\", dpi = 200)\n",
    "#-----------------------------------#\n",
    "plt.show()\n",
    "#----------------------------------------------\n",
    "plot_slc_var(df_hnl, df_nu, df_cos,\n",
    "                    true_counts, start_counts, \n",
    "                    'slc_pfp_razzled_proton_score', \n",
    "                    xmin = 0, xmax = 1, xnbin = 50,\n",
    "                    xtitle = 'PFP Razzled Proton Score',\n",
    "                      ifAddLegend = True, addLegend = label, LegendLoc = 'upper center'\n",
    "                    )\n",
    "\n",
    "plt.axvline(x =  TuneCut['Proton'], c = 'r', linestyle = '--', lw = 1.5)\n",
    "\n",
    "plt.annotate(\"\", xy=(TuneCut['Proton'], 7.5e5), xytext=(TuneCut['Proton'] - 0.1, 7.5e5)\n",
    "             , arrowprops=dict(arrowstyle= '<|-',\n",
    "                             color='r',\n",
    "                             lw=1.5,\n",
    "                             ls='--'))\n",
    "plt.ylim(0, 8e5)\n",
    "#-----------------------------------#\n",
    "if ifSave:\n",
    "    #fig.tight_layout()\n",
    "    plt.savefig(savePath+\"razzled_proton_score_precut.png\", dpi = 200)\n",
    "#-----------------------------------#\n",
    "plt.show()"
   ]
  },
  {
   "cell_type": "raw",
   "metadata": {},
   "source": [
    "if ifTune:\n",
    "    vary_ProtonScore(df_hnl, df_nu, df_cos, true_counts, start_counts)\n",
    "    if ifSave:\n",
    "        plt.savefig(savePath+\"/proton_tuning.png\", dpi =200)"
   ]
  },
  {
   "cell_type": "markdown",
   "metadata": {},
   "source": [
    "<h3>Apply Cut</h3>"
   ]
  },
  {
   "cell_type": "code",
   "execution_count": null,
   "metadata": {},
   "outputs": [],
   "source": [
    "protonScore = TuneCut['Proton']\n",
    "\n",
    "print(protonScore)\n",
    "\n",
    "if ifCut:\n",
    "    df_hnl = cutProton(df_hnl, nProton = 0, protonScore = protonScore)\n",
    "    df_nu = cutProton(df_nu, nProton = 0, protonScore = protonScore)\n",
    "    df_cos = cutProton(df_cos, nProton = 0, protonScore = protonScore)"
   ]
  },
  {
   "cell_type": "markdown",
   "metadata": {},
   "source": [
    "<h3>Save Purity/Eff</h3>"
   ]
  },
  {
   "cell_type": "code",
   "execution_count": null,
   "metadata": {},
   "outputs": [],
   "source": [
    "purity, eff = calc_purity_eff(df_hnl, df_nu, df_cos, true_counts, start_counts)\n",
    "\n",
    "purity_arr.append(purity)\n",
    "eff_arr.append(eff)\n",
    "cut_arr.append(\"Proton Cut\")\n",
    "\n",
    "print(purity_arr)\n",
    "print(eff_arr)\n",
    "print(cut_arr)"
   ]
  },
  {
   "cell_type": "markdown",
   "metadata": {},
   "source": [
    "<h1> Make Beam Bucket - Post Proton</h1>"
   ]
  },
  {
   "cell_type": "code",
   "execution_count": null,
   "metadata": {},
   "outputs": [],
   "source": [
    "hist, bins = plot_slc_var(df_hnl, df_nu, df_cos,\n",
    "                    true_counts, start_counts, \n",
    "                    'mod_t', \n",
    "                    xmin = 0, xmax = 30, xnbin = 30,\n",
    "                    xtitle = 'Opt0 Time Corrected Z % ' + str(width) + \" [ns]\",\n",
    "                 ifAddLegend = True, addLegend = label\n",
    "                    )\n",
    "#-----------------------------------#\n",
    "if ifSave:\n",
    "    #fig.tight_layout()\n",
    "    plt.savefig(savePath+\"beam_bucket_postcosmics_postproton.png\", dpi = 200)\n",
    "#-----------------------------------#\n",
    "plt.show()"
   ]
  },
  {
   "cell_type": "markdown",
   "metadata": {},
   "source": [
    "<h1>Pion Rejection</h1>"
   ]
  },
  {
   "cell_type": "code",
   "execution_count": null,
   "metadata": {},
   "outputs": [],
   "source": [
    "plot_slc_var(df_hnl, df_nu, df_cos,\n",
    "                    true_counts, start_counts, \n",
    "                    'slc_n_razzled_pions_thresh', \n",
    "                    xmin = 0, xmax = 6, xnbin = 6,\n",
    "                    xtitle = 'n Razzled Pions',\n",
    "                      ifAddLegend = True, addLegend = label\n",
    "                    )\n",
    "\n",
    "plt.axvline(x = 1, c = 'r', linestyle = '--', lw = 1.5)\n",
    "plt.annotate(\"\", xy=(0.5, 6.5e5), xytext=(1, 6.5e5)\n",
    "             , arrowprops=dict(arrowstyle= '-|>',\n",
    "                             color='r',\n",
    "                             lw=1.5,\n",
    "                             ls='--'))\n",
    "plt.ylim(0, 7e5)\n",
    "#-----------------------------------#\n",
    "if ifSave:\n",
    "    #fig.tight_layout()\n",
    "    plt.savefig(savePath+\"nrazzled_pion_precut.png\", dpi = 200)\n",
    "#-----------------------------------#\n",
    "plt.show()\n",
    "#----------------------------------------------\n",
    "plot_slc_var(df_hnl, df_nu, df_cos,\n",
    "                    true_counts, start_counts, \n",
    "                    'slc_pfp_razzled_pion_score', \n",
    "                    xmin = 0, xmax = 1, xnbin = 50,\n",
    "                    xtitle = 'PFP Razzled Pion Score',\n",
    "                      ifAddLegend = True, addLegend = label, LegendLoc = 'upper center'\n",
    "                    )\n",
    "\n",
    "plt.axvline(x =  TuneCut['Pion'], c = 'r', linestyle = '--', lw = 1.5)\n",
    "\n",
    "plt.annotate(\"\", xy=(TuneCut['Pion'], 2.5e5), xytext=(TuneCut['Pion'] - 0.1, 2.5e5)\n",
    "             , arrowprops=dict(arrowstyle= '<|-',\n",
    "                             color='r',\n",
    "                             lw=1.5,\n",
    "                             ls='--'))\n",
    "plt.ylim(0, 3e5)\n",
    "\n",
    "#-----------------------------------#\n",
    "if ifSave:\n",
    "    #fig.tight_layout()\n",
    "    plt.savefig(savePath+\"razzled_pion_score_precut.png\", dpi = 200)\n",
    "#-----------------------------------#\n",
    "plt.show()"
   ]
  },
  {
   "cell_type": "raw",
   "metadata": {},
   "source": [
    "if ifTune:\n",
    "    vary_PionScore(df_hnl, df_nu, df_cos, true_counts, start_counts)\n",
    "    if ifSave:\n",
    "        plt.savefig(savePath+\"/pion_tuning.png\", dpi =200)"
   ]
  },
  {
   "cell_type": "markdown",
   "metadata": {},
   "source": [
    "<h3>Apply Cut </h3>"
   ]
  },
  {
   "cell_type": "code",
   "execution_count": null,
   "metadata": {},
   "outputs": [],
   "source": [
    "pionScore = TuneCut['Pion']\n",
    "\n",
    "print(pionScore)\n",
    "\n",
    "if ifCut:\n",
    "    df_hnl = cutPion(df_hnl, nPion = 0, pionScore = pionScore)\n",
    "    df_nu = cutPion(df_nu, nPion = 0, pionScore = pionScore)\n",
    "    df_cos = cutPion(df_cos, nPion = 0, pionScore = pionScore)"
   ]
  },
  {
   "cell_type": "markdown",
   "metadata": {},
   "source": [
    "<h3>Save Purity/Eff</h3>"
   ]
  },
  {
   "cell_type": "code",
   "execution_count": null,
   "metadata": {},
   "outputs": [],
   "source": [
    "purity, eff = calc_purity_eff(df_hnl, df_nu, df_cos, true_counts, start_counts)\n",
    "\n",
    "purity_arr.append(purity)\n",
    "eff_arr.append(eff)\n",
    "cut_arr.append(\"Pion Cut\")\n",
    "\n",
    "print(purity_arr)\n",
    "print(eff_arr)\n",
    "print(cut_arr)"
   ]
  },
  {
   "cell_type": "markdown",
   "metadata": {},
   "source": [
    "<h1> Make Beam Bucket - Post Pion</h1>"
   ]
  },
  {
   "cell_type": "code",
   "execution_count": null,
   "metadata": {},
   "outputs": [],
   "source": [
    "hist, bins = plot_slc_var(df_hnl, df_nu, df_cos,\n",
    "                    true_counts, start_counts, \n",
    "                    'mod_t', \n",
    "                    xmin = 0, xmax = 30, xnbin = 30,\n",
    "                    xtitle = 'Opt0 Time Corrected Z % ' + str(width) + \" [ns]\",\n",
    "                     ifAddLegend = True, addLegend = label\n",
    "                    )\n",
    "#-----------------------------------#\n",
    "if ifSave:\n",
    "    #fig.tight_layout()\n",
    "    plt.savefig(savePath+\"beam_bucket_postcosmics_postpion.png\", dpi = 200)\n",
    "#-----------------------------------#\n",
    "plt.show()"
   ]
  },
  {
   "cell_type": "markdown",
   "metadata": {},
   "source": [
    "<h1>Electron Rejection</h1>"
   ]
  },
  {
   "cell_type": "markdown",
   "metadata": {},
   "source": [
    "<h3> Get Primary Shower </h3>"
   ]
  },
  {
   "cell_type": "code",
   "execution_count": null,
   "metadata": {},
   "outputs": [],
   "source": [
    "df_hnl_prim = get_primary_shw_df(df_hnl)\n",
    "\n",
    "df_nu_prim = get_primary_shw_df(df_nu)\n",
    "\n",
    "df_cos_prim = get_primary_shw_df(df_cos)"
   ]
  },
  {
   "cell_type": "markdown",
   "metadata": {},
   "source": [
    "<h3> Primary Shower </h3>"
   ]
  },
  {
   "cell_type": "code",
   "execution_count": null,
   "metadata": {},
   "outputs": [],
   "source": [
    "#----------------------------------------------\n",
    "plot_slc_var(df_hnl_prim[df_hnl_prim['slc_pfp_razzled_electron_score'] < 2]\n",
    "            , df_nu_prim[df_nu_prim['slc_pfp_razzled_electron_score'] < 2]\n",
    "             , df_cos_prim[df_cos_prim['slc_pfp_razzled_electron_score'] < 2],\n",
    "                    true_counts, start_counts, \n",
    "                    'slc_pfp_razzled_electron_score', \n",
    "                    xmin = 0, xmax = 1, xnbin = 50,\n",
    "                    xtitle = 'PFP Razzled Electron Score',\n",
    "                  ifAddLegend = True, addLegend = label, LegendLoc ='upper center'\n",
    "                    )\n",
    "\n",
    "plt.axvline(x =  TuneCut['Electron'], c = 'r', linestyle = '--', lw = 1.5)\n",
    "\n",
    "plt.annotate(\"\", xy=(TuneCut['Electron'], 3.5e4), xytext=(TuneCut['Electron'] - 0.1, 3.5e4)\n",
    "             , arrowprops=dict(arrowstyle= '<|-',\n",
    "                             color='r',\n",
    "                             lw=1.5,\n",
    "                             ls='--'))\n",
    "plt.ylim(0, 4e4)\n",
    "#-----------------------------------#\n",
    "if ifSave:\n",
    "    #fig.tight_layout()\n",
    "    plt.savefig(savePath+\"razzled_electron_score_prim_shw_precut.png\", dpi = 200)\n",
    "#-----------------------------------#\n",
    "plt.show()"
   ]
  },
  {
   "cell_type": "markdown",
   "metadata": {},
   "source": [
    "<h3> Apply Cut </h3>"
   ]
  },
  {
   "cell_type": "code",
   "execution_count": null,
   "metadata": {},
   "outputs": [],
   "source": [
    "eScore = TuneCut['Electron']\n",
    "\n",
    "print(eScore)\n",
    "\n",
    "if ifCut:\n",
    "    df_hnl_prim = cutElectronLess(df_hnl_prim, ifnElectron = False, electronScore = eScore)\n",
    "    df_nu_prim = cutElectronLess(df_nu_prim, ifnElectron = False, electronScore = eScore)\n",
    "    df_cos_prim = cutElectronLess(df_cos_prim, ifnElectron = False, electronScore = eScore)"
   ]
  },
  {
   "cell_type": "code",
   "execution_count": null,
   "metadata": {},
   "outputs": [],
   "source": [
    "df_hnl = merge_df_prim(df_hnl, df_hnl_prim)\n",
    "\n",
    "df_nu = merge_df_prim(df_nu, df_nu_prim)\n",
    "\n",
    "df_cos = merge_df_prim(df_cos, df_cos_prim)"
   ]
  },
  {
   "cell_type": "markdown",
   "metadata": {},
   "source": [
    "<h3>Save Purity/Eff</h3>"
   ]
  },
  {
   "cell_type": "code",
   "execution_count": null,
   "metadata": {},
   "outputs": [],
   "source": [
    "purity, eff = calc_purity_eff(df_hnl, df_nu, df_cos, true_counts, start_counts)\n",
    "\n",
    "purity_arr.append(purity)\n",
    "eff_arr.append(eff)\n",
    "cut_arr.append(\"Electron Cut\")\n",
    "\n",
    "print(purity_arr)\n",
    "print(eff_arr)\n",
    "print(cut_arr)"
   ]
  },
  {
   "cell_type": "markdown",
   "metadata": {},
   "source": [
    "<h1> Make Beam Bucket - Post Electron</h1>"
   ]
  },
  {
   "cell_type": "code",
   "execution_count": null,
   "metadata": {},
   "outputs": [],
   "source": [
    "hist, bins = plot_slc_var(df_hnl, df_nu, df_cos,\n",
    "                    true_counts, start_counts, \n",
    "                    'mod_t', \n",
    "                    xmin = 0, xmax = 30, xnbin = 30,\n",
    "                    xtitle = 'Opt0 Time Corrected Z % ' + str(width) + \" [ns]\",\n",
    "                     ifAddLegend = True, addLegend = label\n",
    "                    )\n",
    "#-----------------------------------#\n",
    "if ifSave:\n",
    "    #fig.tight_layout()\n",
    "    plt.savefig(savePath+\"beam_bucket_postcosmics_postelectron.png\", dpi = 200)\n",
    "#-----------------------------------#\n",
    "plt.show()"
   ]
  },
  {
   "cell_type": "markdown",
   "metadata": {},
   "source": [
    "<h1>Photon Selection (?)</h1>"
   ]
  },
  {
   "cell_type": "markdown",
   "metadata": {},
   "source": [
    "<h3> Get Primary Shower </h3>"
   ]
  },
  {
   "cell_type": "raw",
   "metadata": {},
   "source": [
    "df_hnl_prim = get_primary_shw_df(df_hnl)\n",
    "\n",
    "df_nu_prim = get_primary_shw_df(df_nu)\n",
    "\n",
    "df_cos_prim = get_primary_shw_df(df_cos)"
   ]
  },
  {
   "cell_type": "raw",
   "metadata": {},
   "source": [
    "#----------------------------------------------\n",
    "plot_slc_var(df_hnl_prim[df_hnl_prim['slc_pfp_razzled_photon_score'] < 2]\n",
    "            , df_nu_prim[df_nu_prim['slc_pfp_razzled_photon_score'] < 2]\n",
    "             , df_cos_prim[df_cos_prim['slc_pfp_razzled_photon_score'] < 2],\n",
    "                    true_counts, start_counts, \n",
    "                    'slc_pfp_razzled_photon_score', \n",
    "                    xmin = 0, xmax =1, xnbin = 50,\n",
    "                    xtitle = 'PFP Razzled Photon Score',\n",
    "                     ifAddLegend = True, addLegend = label\n",
    "                    )\n",
    "\n",
    "#plt.axvline(x =  TuneCut['Photon'], c = 'r', linestyle = '--', lw = 1.5)\n",
    "\n",
    "#plt.annotate(\"\", xy=(TuneCut['Photon'], 3.5e4), xytext=(TuneCut['Photon'] + 0.1, 3.5e4)\n",
    "#             , arrowprops=dict(arrowstyle= '<|-',\n",
    "#                             color='r',\n",
    "#                             lw=1.5,\n",
    "#                             ls='--'))\n",
    "plt.ylim(0, 4.5e4)\n",
    "#-----------------------------------#\n",
    "if ifSave:\n",
    "    #fig.tight_layout()\n",
    "    plt.savefig(savePath+\"razzled_photon_score_prim_shw_precut.png\", dpi = 200)\n",
    "#-----------------------------------#\n",
    "plt.show()"
   ]
  },
  {
   "cell_type": "markdown",
   "metadata": {},
   "source": [
    "<h3> Apply Cut </h3>"
   ]
  },
  {
   "cell_type": "raw",
   "metadata": {},
   "source": [
    "pScore = TuneCut['Photon']\n",
    "\n",
    "print(pScore)\n",
    "\n",
    "if ifCut:\n",
    "    df_hnl_prim = cutPhotonMore(df_hnl_prim, ifnPhoton = False, photonScore = pScore)\n",
    "    df_nu_prim = cutPhotonMore(df_nu_prim, ifnPhoton = False, photonScore = pScore)\n",
    "    df_cos_prim = cutPhotonMore(df_cos_prim, ifnPhoton = False, photonScore = pScore)"
   ]
  },
  {
   "cell_type": "raw",
   "metadata": {},
   "source": [
    "df_hnl = merge_df_prim(df_hnl, df_hnl_prim)\n",
    "\n",
    "df_nu = merge_df_prim(df_nu, df_nu_prim)\n",
    "\n",
    "df_cos = merge_df_prim(df_cos, df_cos_prim)"
   ]
  },
  {
   "cell_type": "markdown",
   "metadata": {},
   "source": [
    "<h3>Save Purity/Eff</h3>"
   ]
  },
  {
   "cell_type": "raw",
   "metadata": {},
   "source": [
    "purity, eff = calc_purity_eff(df_hnl, df_nu, df_cos, true_counts, start_counts)\n",
    "\n",
    "purity_arr.append(purity)\n",
    "eff_arr.append(eff)\n",
    "cut_arr.append(\"Photon Cut\")\n",
    "\n",
    "print(purity_arr)\n",
    "print(eff_arr)\n",
    "print(cut_arr)"
   ]
  },
  {
   "cell_type": "markdown",
   "metadata": {},
   "source": [
    "<h1> Make Beam Bucket - Post Photon</h1>"
   ]
  },
  {
   "cell_type": "raw",
   "metadata": {},
   "source": [
    "hist, bins = plot_slc_var(df_hnl, df_nu, df_cos,\n",
    "                    true_counts, start_counts, \n",
    "                    'mod_t', \n",
    "                    xmin = 0, xmax = 30, xnbin = 30,\n",
    "                    xtitle = 'Opt0 Time Corrected Z % ' + str(width) + \" [ns]\",\n",
    "                     ifAddLegend = True, addLegend = label\n",
    "                    )\n",
    "#-----------------------------------#\n",
    "if ifSave:\n",
    "    #fig.tight_layout()\n",
    "    plt.savefig(savePath+\"beam_bucket_postcosmics_postphoton.png\", dpi = 200)\n",
    "#-----------------------------------#\n",
    "plt.show()"
   ]
  },
  {
   "cell_type": "markdown",
   "metadata": {},
   "source": [
    "<h1>Opt0 Measured PE </h1>"
   ]
  },
  {
   "cell_type": "markdown",
   "metadata": {},
   "source": [
    "<h3>Both 1 and 2+ Shower in Slice</h3>"
   ]
  },
  {
   "cell_type": "raw",
   "metadata": {},
   "source": [
    "plot_slc_var(df_hnl, df_nu, df_cos,\n",
    "                    true_counts, start_counts, \n",
    "                    'slc_opt0_measPE', \n",
    "                    xmin = 0, xmax = 100000, xnbin = 40,\n",
    "                    xtitle = 'Opt0 Measured PE',\n",
    "                      ifAddLegend = True, addLegend = label\n",
    "                    )\n",
    "\n",
    "#plt.axvline(x =  TuneCut['PE'], c = 'r', linestyle = '--', lw = 1.5)\n",
    "\n",
    "#plt.annotate(\"\", xy=(TuneCut['PE'], 8e4), xytext=(TuneCut['PE'] + 7500, 8e4)\n",
    "#             , arrowprops=dict(arrowstyle= '<|-',\n",
    "#                             color='r',\n",
    "#                             lw=1.5,\n",
    "#                             ls='--'))\n",
    "#plt.ylim(0, 8.5e4)\n",
    "#-----------------------------------#\n",
    "if ifSave:\n",
    "    #fig.tight_layout()\n",
    "    plt.savefig(savePath+\"opt0PE_precut.png\", dpi = 200)\n",
    "#-----------------------------------#\n",
    "plt.show()"
   ]
  },
  {
   "cell_type": "markdown",
   "metadata": {},
   "source": [
    "<h3> Split 1 and 2+ shower cases </h3>"
   ]
  },
  {
   "cell_type": "code",
   "execution_count": null,
   "metadata": {},
   "outputs": [],
   "source": [
    "df_hnl_shw1, df_hnl_shw2 = split_my_df(df_hnl)\n",
    "\n",
    "df_nu_shw1, df_nu_shw2 = split_my_df(df_nu)\n",
    "\n",
    "df_cos_shw1, df_cos_shw2 = split_my_df(df_cos)"
   ]
  },
  {
   "cell_type": "markdown",
   "metadata": {},
   "source": [
    "<h3> 1 shower cases </h3>"
   ]
  },
  {
   "cell_type": "code",
   "execution_count": null,
   "metadata": {},
   "outputs": [],
   "source": [
    "#plot_slc_var(df_hnl_shw1, df_nu_shw1, df_cos,\n",
    "plot_slc_var(df_hnl_shw1, df_nu_shw1, df_cos_shw1,\n",
    "                    true_counts, start_counts, \n",
    "                    'slc_opt0_measPE', \n",
    "                    xmin = 0, xmax = 100000, xnbin = 40,\n",
    "                    xtitle = 'Opt0 Measured PE',\n",
    "                      ifAddLegend = True, addLegend = label\n",
    "                    )\n",
    "\n",
    "#plt.axvline(x =  TuneCut['PE'], c = 'r', linestyle = '--', lw = 1.5)\n",
    "\n",
    "#plt.annotate(\"\", xy=(TuneCut['PE'], 1e4), xytext=(TuneCut['PE'] + 7500, 1e4)\n",
    "#             , arrowprops=dict(arrowstyle= '<|-',\n",
    "#                             color='r',\n",
    "#                             lw=1.5,\n",
    "#                             ls='--'))\n",
    "#plt.ylim(0, 1.5e4)\n",
    "#-----------------------------------#\n",
    "if ifSave:\n",
    "    #fig.tight_layout()\n",
    "    plt.savefig(savePath+\"one_shower_opt0PE_precut.png\", dpi = 200)\n",
    "#-----------------------------------#\n",
    "plt.show()"
   ]
  },
  {
   "cell_type": "markdown",
   "metadata": {},
   "source": [
    "<h3> 2+ shower cases </h3>"
   ]
  },
  {
   "cell_type": "code",
   "execution_count": null,
   "metadata": {},
   "outputs": [],
   "source": [
    "#plot_slc_var(df_hnl_shw2, df_nu_shw2, df_cos,\n",
    "plot_slc_var(df_hnl_shw2, df_nu_shw2, df_cos_shw2,\n",
    "                    true_counts, start_counts, \n",
    "                    'slc_opt0_measPE', \n",
    "                    xmin = 0, xmax = 100000, xnbin = 40,\n",
    "                    xtitle = 'Opt0 Measured PE',\n",
    "                     ifAddLegend = True, addLegend = label\n",
    "                    )\n",
    "\n",
    "#plt.axvline(x =  TuneCut['PE'], c = 'r', linestyle = '--', lw = 1.5)\n",
    "\n",
    "#plt.annotate(\"\", xy=(TuneCut['PE'], 2.5e4), xytext=(TuneCut['PE'] + 7500, 2.5e4)\n",
    "#             , arrowprops=dict(arrowstyle= '<|-',\n",
    "#                             color='r',\n",
    "#                             lw=1.5,\n",
    "#                             ls='--'))\n",
    "#plt.ylim(0, 3e4)\n",
    "#-----------------------------------#\n",
    "if ifSave:\n",
    "    #fig.tight_layout()\n",
    "    plt.savefig(savePath+\"one_shower_opt0PE_precut.png\", dpi = 200)\n",
    "#-----------------------------------#\n",
    "plt.show()"
   ]
  },
  {
   "cell_type": "markdown",
   "metadata": {},
   "source": [
    "<h3>Apply Cut</h3>"
   ]
  },
  {
   "cell_type": "raw",
   "metadata": {},
   "source": [
    "PE = TuneCut['PE']\n",
    "\n",
    "print(PE)\n",
    "\n",
    "if ifCut:\n",
    "    df_hnl = df_hnl[df_hnl['slc_opt0_measPE'] >= PE]\n",
    "    df_nu = df_nu[df_nu['slc_opt0_measPE'] >= PE]\n",
    "    df_cos = df_cos[df_cos['slc_opt0_measPE'] >= PE]"
   ]
  },
  {
   "cell_type": "markdown",
   "metadata": {},
   "source": [
    "<h3>Save Purity/Eff</h3>"
   ]
  },
  {
   "cell_type": "raw",
   "metadata": {},
   "source": [
    "purity, eff = calc_purity_eff(df_hnl, df_nu, df_cos, true_counts, start_counts)\n",
    "\n",
    "purity_arr.append(purity)\n",
    "eff_arr.append(eff)\n",
    "cut_arr.append(\"Minimum PE\")\n",
    "\n",
    "print(purity_arr)\n",
    "print(eff_arr)\n",
    "print(cut_arr)"
   ]
  },
  {
   "cell_type": "markdown",
   "metadata": {},
   "source": [
    "<h1> Make Beam Bucket - Post PE</h1>"
   ]
  },
  {
   "cell_type": "raw",
   "metadata": {},
   "source": [
    "hist, bins = plot_slc_var(df_hnl, df_nu, df_cos,\n",
    "                    true_counts, start_counts, \n",
    "                    'mod_t', \n",
    "                    xmin = 0, xmax = 30, xnbin = 30,\n",
    "                    xtitle = 'Opt0 Time Corrected Z % ' + str(width) + \" [ns]\",\n",
    "                    ifAddLegend = True, addLegend = label\n",
    "                         )\n",
    "#-----------------------------------#\n",
    "if ifSave:\n",
    "    #fig.tight_layout()\n",
    "    plt.savefig(savePath+\"beam_bucket_postcosmics_postPE.png\", dpi = 200)\n",
    "#-----------------------------------#\n",
    "plt.show()"
   ]
  },
  {
   "cell_type": "markdown",
   "metadata": {},
   "source": [
    "<h1>Shower Energy, dEdx and Conversion Gap</h1>"
   ]
  },
  {
   "cell_type": "markdown",
   "metadata": {},
   "source": [
    "<h3> Get Primary Shower </h3>"
   ]
  },
  {
   "cell_type": "code",
   "execution_count": null,
   "metadata": {},
   "outputs": [],
   "source": [
    "df_hnl_prim = get_primary_shw_df(df_hnl)\n",
    "\n",
    "df_nu_prim = get_primary_shw_df(df_nu)\n",
    "\n",
    "df_cos_prim = get_primary_shw_df(df_cos)"
   ]
  },
  {
   "cell_type": "markdown",
   "metadata": {},
   "source": [
    "<h3> Primary Showers of both 1 and 2+ shower cases </h3>"
   ]
  },
  {
   "cell_type": "raw",
   "metadata": {},
   "source": [
    "plot_slc_var(df_hnl_prim, df_nu_prim, df_cos_prim,\n",
    "                    true_counts, start_counts, \n",
    "                    'slc_pfp_shower_energy', \n",
    "                    xmin = 0, xmax = 2000, xnbin = 40,\n",
    "                    xtitle = 'Shower Energy [MeV]',\n",
    "                      ifAddLegend = True, addLegend = label\n",
    "                         )\n",
    "\n",
    "plt.axvline(x =  TuneCut['ShowerEnergy'], c = 'r', linestyle = '--', lw = 1.5)\n",
    "\n",
    "plt.annotate(\"\", xy=(TuneCut['ShowerEnergy'], 3.95e4), xytext=(TuneCut['ShowerEnergy'] + 100, 3.95e4)\n",
    "             , arrowprops=dict(arrowstyle= '<|-',\n",
    "                             color='r',\n",
    "                             lw=1.5,\n",
    "                             ls='--'))\n",
    "plt.ylim(0, 4.5e4)\n",
    "\n",
    "#-----------------------------------#\n",
    "if ifSave:\n",
    "    #fig.tight_layout()\n",
    "    plt.savefig(savePath+\"prim_shower_energy_postpid.png\", dpi = 200)\n",
    "#-----------------------------------#\n",
    "plt.show()\n",
    "\n",
    "#================================================#\n",
    "plot_slc_var(df_hnl_prim, df_nu_prim, df_cos_prim,\n",
    "                    true_counts, start_counts, \n",
    "                    'slc_pfp_shower_dedx', \n",
    "                    xmin = 0, xmax = 15, xnbin = 40,\n",
    "                    xtitle = 'Shower Energy [MeV]',\n",
    "                      ifAddLegend = True, addLegend = label\n",
    "                         )\n",
    "#-----------------------------------#\n",
    "if ifSave:\n",
    "    #fig.tight_layout()\n",
    "    plt.savefig(savePath+\"prim_shower_dedx_postpid.png\", dpi = 200)\n",
    "#-----------------------------------#\n",
    "plt.show()    \n",
    "    \n",
    "#================================================#\n",
    "plot_slc_var(df_hnl_prim, df_nu_prim, df_cos_prim,\n",
    "                    true_counts, start_counts, \n",
    "                    'slc_pfp_shower_conv_gap', \n",
    "                    xmin = 0, xmax = 5, xnbin = 40,\n",
    "                    xtitle = 'Shower Conversion Gap [cm]',\n",
    "                      ifAddLegend = True, addLegend = label\n",
    "                         )\n",
    "#-----------------------------------#\n",
    "if ifSave:\n",
    "    #fig.tight_layout()\n",
    "    plt.savefig(savePath+\"prim_shower_convgap_postpid.png\", dpi = 200)\n",
    "#-----------------------------------#\n",
    "plt.show()"
   ]
  },
  {
   "cell_type": "markdown",
   "metadata": {},
   "source": [
    "<h3> Split into 1 shower and multi shower case </h3>"
   ]
  },
  {
   "cell_type": "code",
   "execution_count": null,
   "metadata": {},
   "outputs": [],
   "source": [
    "df_hnl_shw1, df_hnl_shw2 = split_my_df(df_hnl)\n",
    "\n",
    "df_nu_shw1, df_nu_shw2 = split_my_df(df_nu)\n",
    "\n",
    "df_cos_shw1, df_cos_shw2 = split_my_df(df_cos)"
   ]
  },
  {
   "cell_type": "markdown",
   "metadata": {},
   "source": [
    "<h3> Primary Showers of 1 shower cases </h3>"
   ]
  },
  {
   "cell_type": "code",
   "execution_count": null,
   "metadata": {},
   "outputs": [],
   "source": [
    "plot_slc_var(df_hnl_shw1, df_nu_shw1, df_cos_shw1,\n",
    "#plot_slc_var(df_hnl_shw1, df_nu_shw1, df_cos,\n",
    "                    true_counts, start_counts, \n",
    "                    'slc_pfp_shower_energy', \n",
    "                    xmin = 0, xmax = 2000, xnbin = 40,\n",
    "                    xtitle = 'Shower Energy [MeV]',\n",
    "                      ifAddLegend = True, addLegend = label\n",
    "                         )\n",
    "\n",
    "plt.axvline(x =  TuneCut['ShowerEnergy'], c = 'r', linestyle = '--', lw = 1.5)\n",
    "\n",
    "plt.annotate(\"\", xy=(TuneCut['ShowerEnergy'], 1.1e4), xytext=(TuneCut['ShowerEnergy'] + 100,  1.1e4)\n",
    "             , arrowprops=dict(arrowstyle= '<|-',\n",
    "                             color='r',\n",
    "                             lw=1.5,\n",
    "                             ls='--'))\n",
    "plt.ylim(0, 1.2e4)\n",
    "#-----------------------------------#\n",
    "if ifSave:\n",
    "    #fig.tight_layout()\n",
    "    plt.savefig(savePath+\"one_shower_energy_postpid.png\", dpi = 200)\n",
    "#-----------------------------------#\n",
    "plt.show()\n",
    "#================================================#\n",
    "plot_slc_var(df_hnl_shw1, df_nu_shw1, df_cos_shw1,\n",
    "#plot_slc_var(df_hnl_shw1, df_nu_shw1, df_cos,\n",
    "                    true_counts, start_counts, \n",
    "                    'slc_pfp_shower_dedx', \n",
    "                    xmin = 0, xmax = 15, xnbin = 40,\n",
    "                    xtitle = 'Shower dE/dx [MeV]',\n",
    "                      ifAddLegend = True, addLegend = label\n",
    "                         )\n",
    "#-----------------------------------#\n",
    "if ifSave:\n",
    "    #fig.tight_layout()\n",
    "    plt.savefig(savePath+\"one_shower_dedx_postpid.png\", dpi = 200)\n",
    "#-----------------------------------#\n",
    "plt.show()    \n",
    "    \n",
    "#================================================#\n",
    "plot_slc_var(df_hnl_shw1, df_nu_shw1, df_cos_shw1,\n",
    "#plot_slc_var(df_hnl_shw1, df_nu_shw1, df_cos,\n",
    "                    true_counts, start_counts, \n",
    "                    'slc_pfp_shower_conv_gap', \n",
    "                    xmin = 0, xmax = 5, xnbin = 40,\n",
    "                    xtitle = 'Shower Conversion Gap [cm]',\n",
    "                      ifAddLegend = True, addLegend = label\n",
    "                         )\n",
    "#-----------------------------------#\n",
    "if ifSave:\n",
    "    #fig.tight_layout()\n",
    "    plt.savefig(savePath+\"one_shower_convgap_postpid.png\", dpi = 200)\n",
    "#-----------------------------------#\n",
    "plt.show()"
   ]
  },
  {
   "cell_type": "markdown",
   "metadata": {},
   "source": [
    "<h3> Primary Showers of 2+ shower cases </h3>"
   ]
  },
  {
   "cell_type": "code",
   "execution_count": null,
   "metadata": {},
   "outputs": [],
   "source": [
    "df_nu_shw2 = df_nu_shw2.apply(pd.Series.explode).reset_index()\n",
    "df_hnl_shw2 = df_hnl_shw2.apply(pd.Series.explode).reset_index()\n",
    "df_cos_shw2 = df_cos_shw2.apply(pd.Series.explode).reset_index()"
   ]
  },
  {
   "cell_type": "code",
   "execution_count": null,
   "metadata": {},
   "outputs": [],
   "source": [
    "df_hnl_prim_shw2 = get_primary_shw_df(df_hnl_shw2)\n",
    "\n",
    "df_nu_prim_shw2 = get_primary_shw_df(df_nu_shw2)\n",
    "\n",
    "df_cos_prim_shw2 = get_primary_shw_df(df_cos_shw2)\n",
    "#df_cos_prim_shw2 = get_primary_shw_df(df_cos)"
   ]
  },
  {
   "cell_type": "code",
   "execution_count": null,
   "metadata": {},
   "outputs": [],
   "source": [
    "plot_slc_var(df_hnl_prim_shw2, df_nu_prim_shw2, df_cos_prim_shw2,\n",
    "                    true_counts, start_counts, \n",
    "                    'slc_pfp_shower_energy', \n",
    "                    xmin = 0, xmax = 2000, xnbin = 40,\n",
    "                    xtitle = 'Shower Energy [MeV]',\n",
    "                      ifAddLegend = True, addLegend = label\n",
    "                         )\n",
    "\n",
    "plt.axvline(x =  TuneCut['ShowerEnergy'], c = 'r', linestyle = '--', lw = 1.5)\n",
    "\n",
    "plt.annotate(\"\", xy=(TuneCut['ShowerEnergy'], 3e4), xytext=(TuneCut['ShowerEnergy'] + 100,  3e4)\n",
    "             , arrowprops=dict(arrowstyle= '<|-',\n",
    "                             color='r',\n",
    "                             lw=1.5,\n",
    "                             ls='--'))\n",
    "plt.ylim(0, 3.1e4)\n",
    "#-----------------------------------#\n",
    "if ifSave:\n",
    "    #fig.tight_layout()\n",
    "    plt.savefig(savePath+\"two_prim_shower_energy_postpid.png\", dpi = 200)\n",
    "#-----------------------------------#\n",
    "plt.show()\n",
    "\n",
    "#================================================#\n",
    "plot_slc_var(df_hnl_prim_shw2, df_nu_prim_shw2, df_cos_prim_shw2,\n",
    "                    true_counts, start_counts, \n",
    "                    'slc_pfp_shower_dedx', \n",
    "                    xmin = 0, xmax = 15, xnbin = 40,\n",
    "                    xtitle = 'Shower dE/dx [MeV]',\n",
    "                      ifAddLegend = True, addLegend = label\n",
    "                         )\n",
    "#-----------------------------------#\n",
    "if ifSave:\n",
    "    #fig.tight_layout()\n",
    "    plt.savefig(savePath+\"two_prim_shower_dedx_postpid.png\", dpi = 200)\n",
    "#-----------------------------------#\n",
    "plt.show()    \n",
    "    \n",
    "#================================================#\n",
    "plot_slc_var(df_hnl_prim_shw2, df_nu_prim_shw2, df_cos_prim_shw2,\n",
    "                    true_counts, start_counts, \n",
    "                    'slc_pfp_shower_conv_gap', \n",
    "                    xmin = 0, xmax = 5, xnbin = 40,\n",
    "                    xtitle = 'Shower Conversion Gap [cm]',\n",
    "                      ifAddLegend = True, addLegend = label\n",
    "                         )\n",
    "#-----------------------------------#\n",
    "if ifSave:\n",
    "    #fig.tight_layout()\n",
    "    plt.savefig(savePath+\"two_prim_shower_convgap_postpid.png\", dpi = 200)\n",
    "#-----------------------------------#\n",
    "plt.show()"
   ]
  },
  {
   "cell_type": "markdown",
   "metadata": {},
   "source": [
    "<h3>Apply Cut</h3>"
   ]
  },
  {
   "cell_type": "code",
   "execution_count": null,
   "metadata": {},
   "outputs": [],
   "source": [
    "energy = TuneCut['ShowerEnergy']\n",
    "\n",
    "print(energy)\n",
    "\n",
    "if ifCut:\n",
    "    df_hnl_prim = df_hnl_prim[df_hnl_prim['slc_pfp_shower_energy'] >= energy]\n",
    "    df_nu_prim = df_nu_prim[df_nu_prim['slc_pfp_shower_energy'] >= energy]\n",
    "    df_cos_prim = df_cos_prim[df_cos_prim['slc_pfp_shower_energy'] >= energy]"
   ]
  },
  {
   "cell_type": "code",
   "execution_count": null,
   "metadata": {},
   "outputs": [],
   "source": [
    "df_hnl = merge_df_prim(df_hnl, df_hnl_prim)\n",
    "\n",
    "df_nu = merge_df_prim(df_nu, df_nu_prim)\n",
    "\n",
    "df_cos = merge_df_prim(df_cos, df_cos_prim)"
   ]
  },
  {
   "cell_type": "markdown",
   "metadata": {},
   "source": [
    "<h3>Save Purity/Eff</h3>"
   ]
  },
  {
   "cell_type": "code",
   "execution_count": null,
   "metadata": {},
   "outputs": [],
   "source": [
    "purity, eff = calc_purity_eff(df_hnl, df_nu, df_cos, true_counts, start_counts)\n",
    "\n",
    "purity_arr.append(purity)\n",
    "eff_arr.append(eff)\n",
    "cut_arr.append(\"Minimum Energy\")\n",
    "\n",
    "print(purity_arr)\n",
    "print(eff_arr)\n",
    "print(cut_arr)"
   ]
  },
  {
   "cell_type": "markdown",
   "metadata": {},
   "source": [
    "<h1> Make Beam Bucket - Post Shower Energy</h1>"
   ]
  },
  {
   "cell_type": "code",
   "execution_count": null,
   "metadata": {},
   "outputs": [],
   "source": [
    "hist, bins = plot_slc_var(df_hnl, df_nu, df_cos,\n",
    "                    true_counts, start_counts, \n",
    "                    'mod_t', \n",
    "                    xmin = 0, xmax = 30, xnbin = 30,\n",
    "                    xtitle = 'Opt0 Time Corrected Z % ' + str(width) + ' [ns]',\n",
    "                    ifAddLegend = True, addLegend = label\n",
    "                    )\n",
    "\n",
    "#-----------------------------------#\n",
    "if ifSave:\n",
    "    #fig.tight_layout()\n",
    "    plt.savefig(savePath+\"beam_bucket_postShwE.png\", dpi = 200)\n",
    "#-----------------------------------#\n",
    "plt.show()"
   ]
  },
  {
   "cell_type": "markdown",
   "metadata": {},
   "source": [
    "<h1>Opt0 Frac </h1>"
   ]
  },
  {
   "cell_type": "markdown",
   "metadata": {},
   "source": [
    "<h3>Both 1 and 2+ Shower in Slice</h3>"
   ]
  },
  {
   "cell_type": "raw",
   "metadata": {},
   "source": [
    "plot_slc_var(df_hnl, df_nu, df_cos,\n",
    "                    true_counts, start_counts, \n",
    "                    'slc_opt0_frac', \n",
    "                    xmin = -1, xmax = 2, xnbin = 40,\n",
    "                    xtitle = 'Opt0 Fraction',\n",
    "                  ifAddLegend = True, addLegend = label\n",
    "                    )\n",
    "#-----------------------------------#\n",
    "if ifSave:\n",
    "    #fig.tight_layout()\n",
    "    plt.savefig(savePath+\"opt0frac_precut.png\", dpi = 200)\n",
    "#-----------------------------------#\n",
    "plt.show()"
   ]
  },
  {
   "cell_type": "raw",
   "metadata": {},
   "source": [
    "if ifTune:\n",
    "    vary_OpT0FracMore(df_hnl, df_nu, df_cos, true_counts, start_counts)\n",
    "    if ifSave:\n",
    "        plt.savefig(savePath+\"/opt0frac_more_one_shw_tuning.png\", dpi =200)"
   ]
  },
  {
   "cell_type": "markdown",
   "metadata": {},
   "source": [
    "<h3> Split 1 and 2+ shower cases </h3>"
   ]
  },
  {
   "cell_type": "code",
   "execution_count": null,
   "metadata": {},
   "outputs": [],
   "source": [
    "df_hnl_shw1, df_hnl_shw2 = split_my_df(df_hnl)\n",
    "\n",
    "df_nu_shw1, df_nu_shw2 = split_my_df(df_nu)\n",
    "\n",
    "df_cos_shw1, df_cos_shw2 = split_my_df(df_cos)"
   ]
  },
  {
   "cell_type": "markdown",
   "metadata": {},
   "source": [
    "<h3> 1 shower cases </h3>"
   ]
  },
  {
   "cell_type": "code",
   "execution_count": null,
   "metadata": {},
   "outputs": [],
   "source": [
    "plot_slc_var(df_hnl_shw1, df_nu_shw1, df_cos_shw1,\n",
    "                    true_counts, start_counts, \n",
    "                    'slc_opt0_frac', \n",
    "                    xmin = -1, xmax = 2, xnbin = 40,\n",
    "                    xtitle = 'Opt0 Fraction',\n",
    "                  ifAddLegend = True, addLegend = label\n",
    "                    )\n",
    "plt.axvline(x =  TuneCut['OneShowerFracMore'], c = 'r', linestyle = '--')\n",
    "plt.axvline(x =  TuneCut['OneShowerFracLess'], c = 'r', linestyle = '--')\n",
    "#-----------------------------------#\n",
    "if ifSave:\n",
    "    #fig.tight_layout()\n",
    "    plt.savefig(savePath+\"opt0frac_one_shw_precut.png\", dpi = 200)\n",
    "#-----------------------------------#\n",
    "plt.show()\n",
    "\n",
    "print( TuneCut['OneShowerFracMore'])"
   ]
  },
  {
   "cell_type": "code",
   "execution_count": null,
   "metadata": {},
   "outputs": [],
   "source": [
    "if ifTune:\n",
    "    vary_OpT0FracMore(df_hnl_shw1, df_nu_shw1, df_cos_shw1, true_counts, start_counts)\n",
    "    if ifSave:\n",
    "        plt.savefig(savePath+\"/opt0frac_more_one_shw_tuning.png\", dpi =200)"
   ]
  },
  {
   "cell_type": "raw",
   "metadata": {},
   "source": [
    "if ifTune:\n",
    "    vary_OpT0FracLess(df_hnl_shw1, df_nu_shw1, df_cos_shw1, true_counts, start_counts)\n",
    "    if ifSave:\n",
    "        plt.savefig(savePath+\"/opt0frac_less_one_shw_tuning.png\", dpi =200)"
   ]
  },
  {
   "cell_type": "markdown",
   "metadata": {},
   "source": [
    "<h3> 2+ shower cases </h3>"
   ]
  },
  {
   "cell_type": "code",
   "execution_count": null,
   "metadata": {},
   "outputs": [],
   "source": [
    "plot_slc_var(df_hnl_shw2, df_nu_shw2, df_cos_shw2,\n",
    "                    true_counts, start_counts, \n",
    "                    'slc_opt0_frac', \n",
    "                    xmin = -1, xmax = 2, xnbin = 40,\n",
    "                    xtitle = 'Opt0 Fraction',\n",
    "                  ifAddLegend = True, addLegend = label\n",
    "                    )\n",
    "plt.axvline(x =  TuneCut['TwoShowerFracMore'], c = 'r', linestyle = '--')\n",
    "plt.axvline(x =  TuneCut['TwoShowerFracLess'], c = 'r', linestyle = '--')\n",
    "#-----------------------------------#\n",
    "if ifSave:\n",
    "    #fig.tight_layout()\n",
    "    plt.savefig(savePath+\"opt0frac_two_shw_precut.png\", dpi = 200)\n",
    "#-----------------------------------#\n",
    "plt.show()\n",
    "\n",
    "print( TuneCut['TwoShowerFracMore'])"
   ]
  },
  {
   "cell_type": "code",
   "execution_count": null,
   "metadata": {},
   "outputs": [],
   "source": [
    "if ifTune:\n",
    "    vary_OpT0FracMore(df_hnl_shw2, df_nu_shw2, df_cos_shw2, true_counts, start_counts)\n",
    "    if ifSave:\n",
    "        plt.savefig(savePath+\"/opt0frac_more_two_shw_tuning.png\", dpi =200)"
   ]
  },
  {
   "cell_type": "raw",
   "metadata": {},
   "source": [
    "if ifTune:\n",
    "    vary_OpT0FracLess(df_hnl_shw2, df_nu_shw2, df_cos_shw2, true_counts, start_counts)\n",
    "    if ifSave:\n",
    "        plt.savefig(savePath+\"/opt0frac_less_two_shw_tuning.png\", dpi =200)"
   ]
  },
  {
   "cell_type": "markdown",
   "metadata": {},
   "source": [
    "<h3> Apply Cut </h3>"
   ]
  },
  {
   "cell_type": "markdown",
   "metadata": {},
   "source": [
    "<h3> 1 shower only: harsh cut</h3>"
   ]
  },
  {
   "cell_type": "code",
   "execution_count": null,
   "metadata": {},
   "outputs": [],
   "source": [
    "fracMore = TuneCut['OneShowerFracMore']\n",
    "print(fracMore)\n",
    "fracLess = TuneCut['OneShowerFracLess']\n",
    "print(fracLess)\n",
    "\n",
    "if ifCut:\n",
    "    df_hnl_shw1 = cutOpt0Frac(df_hnl_shw1, Opt0FracMore = fracMore, Opt0FracLess = fracLess)\n",
    "    df_nu_shw1 = cutOpt0Frac(df_nu_shw1, Opt0FracMore = fracMore, Opt0FracLess = fracLess)\n",
    "    df_cos_shw1 = cutOpt0Frac(df_cos_shw1, Opt0FracMore = fracMore, Opt0FracLess = fracLess)"
   ]
  },
  {
   "cell_type": "markdown",
   "metadata": {},
   "source": [
    "<h3> 2+ showers: cut on primary + less harsh cut </h3>"
   ]
  },
  {
   "cell_type": "code",
   "execution_count": null,
   "metadata": {},
   "outputs": [],
   "source": [
    "#fracMore = TuneCut['Opt0FracMore']\n",
    "fracMore = TuneCut['TwoShowerFracMore']\n",
    "print(fracMore)\n",
    "fracLess = TuneCut['TwoShowerFracLess']\n",
    "print(fracLess)\n",
    "\n",
    "if ifCut:\n",
    "    df_hnl_shw2 = cutOpt0Frac(df_hnl_shw2, Opt0FracMore = fracMore, Opt0FracLess = fracLess)\n",
    "    df_nu_shw2 = cutOpt0Frac(df_nu_shw2, Opt0FracMore = fracMore, Opt0FracLess = fracLess)\n",
    "    df_cos_shw2 = cutOpt0Frac(df_cos_shw2, Opt0FracMore = fracMore, Opt0FracLess = fracLess)"
   ]
  },
  {
   "cell_type": "code",
   "execution_count": null,
   "metadata": {},
   "outputs": [],
   "source": [
    "df_hnl = apply_shower_cut(df_hnl, df_hnl_shw1, df_hnl_shw2)\n",
    "\n",
    "df_nu = apply_shower_cut(df_nu, df_nu_shw1, df_nu_shw2)\n",
    "\n",
    "df_cos = apply_shower_cut(df_cos, df_cos_shw1, df_cos_shw2)"
   ]
  },
  {
   "cell_type": "markdown",
   "metadata": {},
   "source": [
    "<h3>Save Purity/Eff</h3>"
   ]
  },
  {
   "cell_type": "code",
   "execution_count": null,
   "metadata": {},
   "outputs": [],
   "source": [
    "purity, eff = calc_purity_eff(df_hnl, df_nu, df_cos, true_counts, start_counts)\n",
    "\n",
    "purity_arr.append(purity)\n",
    "eff_arr.append(eff)\n",
    "cut_arr.append(\"Opt0 Fraction Cut\")\n",
    "\n",
    "print(purity_arr)\n",
    "print(eff_arr)\n",
    "print(cut_arr)"
   ]
  },
  {
   "cell_type": "markdown",
   "metadata": {},
   "source": [
    "<h1> Make Beam Bucket - Post Opt0 Frac</h1>"
   ]
  },
  {
   "cell_type": "code",
   "execution_count": null,
   "metadata": {},
   "outputs": [],
   "source": [
    "hist, bins = plot_slc_var(df_hnl, df_nu, df_cos,\n",
    "                    true_counts, start_counts, \n",
    "                    'mod_t', \n",
    "                    xmin = 0, xmax = 30, xnbin = 30,\n",
    "                    xtitle = 'Opt0 Time Corrected Z % ' + str(width) + ' [ns]',\n",
    "                  ifAddLegend = True, addLegend = label\n",
    "                    )\n",
    "#-----------------------------------#\n",
    "if ifSave:\n",
    "    #fig.tight_layout()\n",
    "    plt.savefig(savePath+\"beam_bucket_postopt0.png\", dpi = 200)\n",
    "#-----------------------------------#\n",
    "plt.show()"
   ]
  },
  {
   "cell_type": "markdown",
   "metadata": {},
   "source": [
    "<h1>Shower Theta</h1>"
   ]
  },
  {
   "cell_type": "markdown",
   "metadata": {},
   "source": [
    "<h3> Get Primary Shower </h3>"
   ]
  },
  {
   "cell_type": "code",
   "execution_count": null,
   "metadata": {},
   "outputs": [],
   "source": [
    "df_hnl_prim = get_primary_shw_df(df_hnl)\n",
    "\n",
    "df_nu_prim = get_primary_shw_df(df_nu)\n",
    "\n",
    "df_cos_prim = get_primary_shw_df(df_cos)"
   ]
  },
  {
   "cell_type": "markdown",
   "metadata": {},
   "source": [
    "<h3> Split 1 and 2+ shower cases </h3>"
   ]
  },
  {
   "cell_type": "code",
   "execution_count": null,
   "metadata": {},
   "outputs": [],
   "source": [
    "df_hnl_shw1, df_hnl_shw2 = split_my_df(df_hnl)\n",
    "\n",
    "df_nu_shw1, df_nu_shw2 = split_my_df(df_nu)\n",
    "\n",
    "df_cos_shw1, df_cos_shw2 = split_my_df(df_cos)"
   ]
  },
  {
   "cell_type": "markdown",
   "metadata": {},
   "source": [
    "<h3> Primary Showers of 1 shower cases </h3>"
   ]
  },
  {
   "cell_type": "code",
   "execution_count": null,
   "metadata": {},
   "outputs": [],
   "source": [
    "plot_slc_var(df_hnl_shw1, df_nu_shw1, df_cos_shw1,\n",
    "#plot_slc_var(df_hnl_shw1, df_nu_shw1, df_cos,\n",
    "                    true_counts, start_counts, \n",
    "                    'slc_pfp_shower_theta', \n",
    "                    xmin = 0, xmax = 180, xnbin = 36,\n",
    "                    xtitle = 'Shower Theta',\n",
    "                  ifAddLegend = True, addLegend = label\n",
    "                    )\n",
    "\n",
    "plt.axvline(x =  TuneCut['OneShowerTheta'], c = 'r', linestyle = '--', lw = 1.5)\n",
    "\n",
    "plt.annotate(\"\", xy=(TuneCut['OneShowerTheta'], 1.4e4), xytext=(TuneCut['OneShowerTheta'] - 15, 1.4e4)\n",
    "             , arrowprops=dict(arrowstyle= '<|-',\n",
    "                             color='r',\n",
    "                             lw=1.5,\n",
    "                             ls='--'))\n",
    "plt.ylim(0, 1.5e4)\n",
    "#-----------------------------------#\n",
    "if ifSave:\n",
    "    #fig.tight_layout()\n",
    "    plt.savefig(savePath+\"one_shower_theta_precut.png\", dpi = 200)\n",
    "#-----------------------------------#\n",
    "plt.show()\n",
    "\n",
    "print(TuneCut['OneShowerTheta'])"
   ]
  },
  {
   "cell_type": "code",
   "execution_count": null,
   "metadata": {},
   "outputs": [],
   "source": [
    "if ifTune:\n",
    "    vary_Theta(df_hnl_shw1, df_nu_shw1, df_cos_shw1, true_counts, start_counts)\n",
    "    if ifSave:\n",
    "        plt.savefig(savePath+\"/one_shower_theta_tuning.png\", dpi =200)"
   ]
  },
  {
   "cell_type": "markdown",
   "metadata": {},
   "source": [
    "<h3> Primary Showers of 2+ shower cases </h3>"
   ]
  },
  {
   "cell_type": "code",
   "execution_count": null,
   "metadata": {},
   "outputs": [],
   "source": [
    "df_nu_shw2 = df_nu_shw2.apply(pd.Series.explode).reset_index()\n",
    "df_hnl_shw2 = df_hnl_shw2.apply(pd.Series.explode).reset_index()\n",
    "df_cos_shw2 = df_cos_shw2.apply(pd.Series.explode).reset_index()"
   ]
  },
  {
   "cell_type": "code",
   "execution_count": null,
   "metadata": {},
   "outputs": [],
   "source": [
    "df_hnl_prim_shw2 = get_primary_shw_df(df_hnl_shw2)\n",
    "\n",
    "df_nu_prim_shw2 = get_primary_shw_df(df_nu_shw2)\n",
    "\n",
    "df_cos_prim_shw2 = get_primary_shw_df(df_cos_shw2)"
   ]
  },
  {
   "cell_type": "code",
   "execution_count": null,
   "metadata": {},
   "outputs": [],
   "source": [
    "plot_slc_var(df_hnl_prim_shw2, df_nu_prim_shw2, df_cos_prim_shw2,\n",
    "#plot_slc_var(df_hnl_shw2, df_nu_shw2, df_cos,\n",
    "                    true_counts, start_counts, \n",
    "                    'slc_pfp_shower_theta', \n",
    "                    xmin = 0, xmax = 180, xnbin = 36,\n",
    "                    xtitle = 'Shower Theta',\n",
    "                  ifAddLegend = True, addLegend = label\n",
    "                    )\n",
    "\n",
    "\n",
    "plt.axvline(x =  TuneCut['TwoShowerTheta'], c = 'r', linestyle = '--', lw = 1.5)\n",
    "\n",
    "plt.annotate(\"\", xy=(TuneCut['TwoShowerTheta'], 9.5e3), xytext=(TuneCut['TwoShowerTheta'] - 15, 9.5e3)\n",
    "             , arrowprops=dict(arrowstyle= '<|-',\n",
    "                             color='r',\n",
    "                             lw=1.5,\n",
    "                             ls='--'))\n",
    "plt.ylim(0, 1e4)\n",
    "#-----------------------------------#\n",
    "if ifSave:\n",
    "    #fig.tight_layout()\n",
    "    plt.savefig(savePath+\"two_shower_primary_theta_precut.png\", dpi = 200)\n",
    "#-----------------------------------#\n",
    "plt.show()\n",
    "\n",
    "print(TuneCut['TwoShowerTheta'])"
   ]
  },
  {
   "cell_type": "code",
   "execution_count": null,
   "metadata": {},
   "outputs": [],
   "source": [
    "if ifTune:\n",
    "    vary_Theta(df_hnl_prim_shw2, df_nu_prim_shw2, df_cos_prim_shw2, true_counts, start_counts)\n",
    "    if ifSave:\n",
    "        plt.savefig(savePath+\"/two_shower_prim_theta_tuning.png\", dpi =200)"
   ]
  },
  {
   "cell_type": "markdown",
   "metadata": {},
   "source": [
    "<h3>Apply Cut</h3>"
   ]
  },
  {
   "cell_type": "markdown",
   "metadata": {},
   "source": [
    "<h3> 1 shower only: harsh cut</h3>"
   ]
  },
  {
   "cell_type": "code",
   "execution_count": null,
   "metadata": {},
   "outputs": [],
   "source": [
    "angle = TuneCut['OneShowerTheta']\n",
    "print(angle)\n",
    "\n",
    "if ifCut:\n",
    "    df_hnl_shw1 = cutThetaAngle(df_hnl_shw1, thetaAngle = angle) \n",
    "    df_nu_shw1 = cutThetaAngle(df_nu_shw1, thetaAngle = angle) \n",
    "    df_cos_shw1 = cutThetaAngle(df_cos_shw1, thetaAngle = angle) \n",
    "#df_cos = cutThetaAngle(df_cos, thetaAngle = angle) "
   ]
  },
  {
   "cell_type": "markdown",
   "metadata": {},
   "source": [
    "<h3> 2+ showers: cut on primary + less harsh cut </h3>"
   ]
  },
  {
   "cell_type": "code",
   "execution_count": null,
   "metadata": {},
   "outputs": [],
   "source": [
    "angle = TuneCut['TwoShowerTheta']\n",
    "\n",
    "print(angle)\n",
    "\n",
    "if ifCut:\n",
    "    df_hnl_prim_shw2 = cutThetaAngle(df_hnl_prim_shw2, thetaAngle = angle) \n",
    "    df_nu_prim_shw2 = cutThetaAngle(df_nu_prim_shw2, thetaAngle = angle) \n",
    "    df_cos_prim_shw2 = cutThetaAngle(df_cos_prim_shw2, thetaAngle = angle) \n",
    "#df_cos = cutThetaAngle(df_cos, thetaAngle = angle) "
   ]
  },
  {
   "cell_type": "code",
   "execution_count": null,
   "metadata": {},
   "outputs": [],
   "source": [
    "df_hnl_shw2 = merge_df_prim(df_hnl_shw2, df_hnl_prim_shw2)\n",
    "\n",
    "df_nu_shw2 = merge_df_prim(df_nu_shw2, df_nu_prim_shw2)\n",
    "\n",
    "df_cos_shw2 = merge_df_prim(df_cos_shw2, df_cos_prim_shw2)"
   ]
  },
  {
   "cell_type": "code",
   "execution_count": null,
   "metadata": {},
   "outputs": [],
   "source": [
    "df_hnl = apply_shower_cut(df_hnl, df_hnl_shw1, df_hnl_shw2)\n",
    "\n",
    "df_nu = apply_shower_cut(df_nu, df_nu_shw1, df_nu_shw2)\n",
    "\n",
    "df_cos = apply_shower_cut(df_cos, df_cos_shw1, df_cos_shw2)"
   ]
  },
  {
   "cell_type": "markdown",
   "metadata": {},
   "source": [
    "<h3>Save Purity/Eff</h3>"
   ]
  },
  {
   "cell_type": "code",
   "execution_count": null,
   "metadata": {},
   "outputs": [],
   "source": [
    "purity, eff = calc_purity_eff(df_hnl, df_nu, df_cos, true_counts, start_counts)\n",
    "\n",
    "purity_arr.append(purity)\n",
    "eff_arr.append(eff)\n",
    "cut_arr.append(\"Shower Theta Cut\")\n",
    "\n",
    "print(purity_arr)\n",
    "print(eff_arr)\n",
    "print(cut_arr)"
   ]
  },
  {
   "cell_type": "markdown",
   "metadata": {},
   "source": [
    "<h1> Make Beam Bucket - Post Shower Theta</h1>"
   ]
  },
  {
   "cell_type": "code",
   "execution_count": null,
   "metadata": {},
   "outputs": [],
   "source": [
    "hist, bins = plot_slc_var(df_hnl, df_nu, df_cos,\n",
    "                    true_counts, start_counts, \n",
    "                    'mod_t', \n",
    "                    xmin = 0, xmax = 30, xnbin = 30,\n",
    "                    xtitle = 'Opt0 Time Corrected Z % ' + str(width) + ' [ns]',\n",
    "                  ifAddLegend = True, addLegend = label\n",
    "                    )\n",
    "\n",
    "#-----------------------------------#\n",
    "if ifSave:\n",
    "    #fig.tight_layout()\n",
    "    plt.savefig(savePath+\"beam_bucket_postshowertheta.png\", dpi = 200)\n",
    "#-----------------------------------#\n",
    "plt.show()"
   ]
  },
  {
   "cell_type": "markdown",
   "metadata": {},
   "source": [
    "<h1>PFP N Hits</h1>"
   ]
  },
  {
   "cell_type": "code",
   "execution_count": null,
   "metadata": {},
   "outputs": [],
   "source": [
    "plot_slc_var(df_hnl, df_nu, df_cos,\n",
    "                    true_counts, start_counts, \n",
    "                    'slc_pfp_n_hits', \n",
    "                    xmin = 0, xmax = 5000, xnbin = 50,\n",
    "                    xtitle = 'PFP N Hits',\n",
    "                  ifAddLegend = True, addLegend = label\n",
    "                    )\n",
    "#-----------------------------------#\n",
    "if ifSave:\n",
    "    #fig.tight_layout()\n",
    "    plt.savefig(savePath+\"pfp_nhits.png\", dpi = 200)\n",
    "#-----------------------------------#\n",
    "plt.show()"
   ]
  },
  {
   "cell_type": "markdown",
   "metadata": {},
   "source": [
    "<h1>Track Score</h1>"
   ]
  },
  {
   "cell_type": "code",
   "execution_count": null,
   "metadata": {},
   "outputs": [],
   "source": [
    "plot_slc_var(df_hnl, df_nu, df_cos,\n",
    "                    true_counts, start_counts, \n",
    "                    'slc_pfp_track_score', \n",
    "                    xmin = 0, xmax = 1, xnbin = 40,\n",
    "                    xtitle = 'PFP Track Score',\n",
    "                  ifAddLegend = True, addLegend = label\n",
    "                    )\n",
    "#-----------------------------------#\n",
    "if ifSave:\n",
    "    #fig.tight_layout()\n",
    "    plt.savefig(savePath+\"track_score.png\", dpi = 200)\n",
    "#-----------------------------------#\n",
    "plt.show()"
   ]
  },
  {
   "cell_type": "markdown",
   "metadata": {},
   "source": [
    "<h1>Multiplicity</h1>"
   ]
  },
  {
   "cell_type": "code",
   "execution_count": null,
   "metadata": {},
   "outputs": [],
   "source": [
    "plot_slc_var(df_hnl, df_nu, df_cos,\n",
    "                    true_counts, start_counts, \n",
    "                    'slc_n_stub', \n",
    "                    xmin = 0, xmax = 10, xnbin = 10,\n",
    "                    xtitle = 'n Stubs',\n",
    "                  ifAddLegend = True, addLegend = label\n",
    "                    )\n",
    "#-----------------------------------#\n",
    "if ifSave:\n",
    "    #fig.tight_layout()\n",
    "    plt.savefig(savePath+\"nStub.png\", dpi = 200)\n",
    "#-----------------------------------#\n",
    "plt.show()\n",
    "\n",
    "#==========================================#\n",
    "plot_slc_var(df_hnl, df_nu, df_cos,\n",
    "                    true_counts, start_counts, \n",
    "                    'slc_n_trks', \n",
    "                    xmin = 0, xmax = 10, xnbin = 10,\n",
    "                    xtitle = 'n Tracks',\n",
    "                  ifAddLegend = True, addLegend = label\n",
    "                    )\n",
    "#-----------------------------------#\n",
    "if ifSave:\n",
    "    #fig.tight_layout()\n",
    "    plt.savefig(savePath+\"nTrk.png\", dpi = 200)\n",
    "#-----------------------------------#\n",
    "plt.show()\n",
    "\n",
    "#==========================================#\n",
    "plot_slc_var(df_hnl, df_nu, df_cos,\n",
    "                    true_counts, start_counts, \n",
    "                    'slc_n_shws', \n",
    "                    xmin = 0, xmax = 10, xnbin = 10,\n",
    "                    xtitle = 'n Showers',\n",
    "                  ifAddLegend = True, addLegend = label\n",
    "                    )\n",
    "#-----------------------------------#\n",
    "if ifSave:\n",
    "    #fig.tight_layout()\n",
    "    plt.savefig(savePath+\"nShw.png\", dpi = 200)\n",
    "#-----------------------------------#\n",
    "plt.show()"
   ]
  },
  {
   "cell_type": "code",
   "execution_count": null,
   "metadata": {},
   "outputs": [],
   "source": [
    "#==========================================#\n",
    "plot_slc_var(df_hnl, df_nu, df_cos,\n",
    "                    true_counts, start_counts, \n",
    "                    'slc_n_trks', \n",
    "                    xmin = 0, xmax = 10, xnbin = 10,\n",
    "                    xtitle = 'n Tracks',\n",
    "                  ifAddLegend = True, addLegend = label\n",
    "                    )\n",
    "#-----------------------------------#\n",
    "if ifSave:\n",
    "    #fig.tight_layout()\n",
    "    plt.savefig(savePath+\"nTrk.png\", dpi = 200)\n",
    "#-----------------------------------#\n",
    "plt.show()\n",
    "\n",
    "#==========================================#\n",
    "plot_slc_var(df_hnl, df_nu, df_cos,\n",
    "                    true_counts, start_counts, \n",
    "                    'slc_n_shws', \n",
    "                    xmin = 0, xmax = 10, xnbin = 10,\n",
    "                    xtitle = 'n Showers',\n",
    "                  ifAddLegend = True, addLegend = label\n",
    "                    )\n",
    "#-----------------------------------#\n",
    "if ifSave:\n",
    "    #fig.tight_layout()\n",
    "    plt.savefig(savePath+\"nShw.png\", dpi = 200)\n",
    "#-----------------------------------#\n",
    "plt.show()"
   ]
  },
  {
   "cell_type": "markdown",
   "metadata": {},
   "source": [
    "<h1>2 Shower Case: Pi0 Mass </h1>"
   ]
  },
  {
   "cell_type": "markdown",
   "metadata": {},
   "source": [
    "<h3> Split into 1 shower and multi shower case again! </h3>"
   ]
  },
  {
   "cell_type": "code",
   "execution_count": null,
   "metadata": {},
   "outputs": [],
   "source": [
    "df_cos"
   ]
  },
  {
   "cell_type": "code",
   "execution_count": null,
   "metadata": {},
   "outputs": [],
   "source": [
    "df_hnl_shw1, df_hnl_shw2 = split_my_df(df_hnl)\n",
    "\n",
    "df_nu_shw1, df_nu_shw2 = split_my_df(df_nu)\n",
    "\n",
    "#df_cos_shw1, df_cos_shw2 = split_my_df(df_cos)"
   ]
  },
  {
   "cell_type": "code",
   "execution_count": null,
   "metadata": {},
   "outputs": [],
   "source": [
    "df_hnl_shw2['pi0_mass'] = df_hnl_shw2.apply(lambda row: pi0mass(row), axis = 1)\n",
    "\n",
    "df_nu_shw2['pi0_mass'] = df_nu_shw2.apply(lambda row: pi0mass(row), axis = 1)\n",
    "\n",
    "df_cos['pi0_mass']  = \"\"\n",
    "#df_cos_shw2['pi0_mass'] = df_cos_shw2.apply(lambda row: pi0mass(row), axis = 1)\n"
   ]
  },
  {
   "cell_type": "code",
   "execution_count": null,
   "metadata": {},
   "outputs": [],
   "source": [
    "df_hnl_prim_shw2 = get_primary_shw_df(df_hnl_shw2)\n",
    "\n",
    "df_nu_prim_shw2 = get_primary_shw_df(df_nu_shw2)\n",
    "\n",
    "#df_cos_prim_shw2 = get_primary_shw_df(df_cos_shw2)\n",
    "#df_cos_prim_shw2 = get_primary_shw_df(df_cos)"
   ]
  },
  {
   "cell_type": "code",
   "execution_count": null,
   "metadata": {},
   "outputs": [],
   "source": [
    "plot_slc_var(df_hnl_prim_shw2, df_nu_prim_shw2, df_cos,\n",
    "#plot_slc_var(df_hnl_prim_shw2, df_nu_prim_shw2, df_cos_prim_shw2,\n",
    "                    true_counts, start_counts, \n",
    "                    'pi0_mass', \n",
    "                    xmin = 0, xmax = 600, xnbin = 30,\n",
    "                    xtitle = 'Pi 0 Mass [MeV]',\n",
    "                  ifAddLegend = True, addLegend = label\n",
    "                    )\n",
    "# only one line may be specified; full height\n",
    "plt.axvline(x = 135, color = 'r', linewidth = 1.5, ls = '--')\n",
    "\n",
    "#-----------------------------------#\n",
    "if ifSave:\n",
    "    #fig.tight_layout()\n",
    "    plt.savefig(savePath+\"pizero_mass_precut.png\", dpi = 200)\n",
    "#-----------------------------------#\n",
    "\n",
    "plt.show()"
   ]
  },
  {
   "cell_type": "markdown",
   "metadata": {},
   "source": [
    "<h1>Beam Bucket Final Distribution</h1>"
   ]
  },
  {
   "cell_type": "code",
   "execution_count": null,
   "metadata": {},
   "outputs": [],
   "source": [
    "hist, bins = plot_slc_var(\n",
    "                    df_hnl\n",
    "                    , df_nu\n",
    "                    , df_cos\n",
    "                    , true_counts, start_counts, \n",
    "                    'mod_t', \n",
    "                    xmin = 0, xmax = 30, xnbin = 30,\n",
    "                    xtitle = 'Opt0 Time Corrected Z % ' + str(width) + ' [ns]',\n",
    "                  ifAddLegend = True, addLegend = label\n",
    "                    )\n",
    "\n",
    "#-----------------------------------#\n",
    "if ifSave:\n",
    "    #fig.tight_layout()\n",
    "    plt.savefig(savePath+\"beam_bucket_final.png\", dpi = 200)\n",
    "#-----------------------------------#\n",
    "plt.show()"
   ]
  },
  {
   "cell_type": "markdown",
   "metadata": {},
   "source": [
    "<h1>Plot Purity/Efficiency </h1>"
   ]
  },
  {
   "cell_type": "code",
   "execution_count": null,
   "metadata": {},
   "outputs": [],
   "source": [
    "print(eff_arr)\n",
    "print(purity_arr)\n",
    "print(cut_arr)"
   ]
  },
  {
   "cell_type": "code",
   "execution_count": null,
   "metadata": {},
   "outputs": [],
   "source": [
    "fig, ax1 = plt.subplots(1, 1, figsize=(10, 6), sharex = True)\n",
    "ax2 = ax1.twinx()\n",
    "\n",
    "t = np.arange(0, len(cut_arr) , 1)\n",
    "\n",
    "effcol = col_dict['MintGreen']\n",
    "pcol = col_dict['Flamingo']\n",
    "\n",
    "ax1.plot(t, eff_arr, c = effcol, marker = 'o', markersize = 5, ls='--')\n",
    "ax2.plot(t, purity_arr, c = pcol, marker = 'o', markersize = 5, ls='--')\n",
    "\n",
    "ax1.set_ylim(-5,105)\n",
    "ax2.set_ylim(-5,105)\n",
    "\n",
    "ax1.grid(color='gainsboro', which='both', axis='both', linestyle='--')\n",
    "\n",
    "ax1.set_ylabel(\"Selection Effciency [%]\", c = effcol, fontsize = 16)\n",
    "ax2.set_ylabel(\"Purity [%]\", c = pcol, fontsize = 16)\n",
    "\n",
    "plt.xticks(range(0, len(t)))\n",
    "ax1.set_xticklabels(cut_arr, rotation = 45, ha=\"right\", fontsize = 16)\n",
    "\n",
    "ax1.tick_params(bottom = True, top = True, left = True, right = False)\n",
    "ax2.tick_params(bottom = True, top = True, left = False, right = True)\n",
    "\n",
    "ax1.tick_params(axis = 'x', labelsize = 16, direction = 'in')\n",
    "ax1.tick_params(axis = 'y', labelsize = 16, direction = 'in')\n",
    "ax2.tick_params(axis = 'y', labelsize = 16, direction = 'in')\n",
    "\n",
    "ax1.set_title(label, y=1.0, pad=-55, fontsize = 16)\n",
    "fig.tight_layout()\n",
    "\n",
    "#-----------------------------------#\n",
    "if ifSave:\n",
    "    plt.savefig(savePath+\"peff.png\", dpi = 200)\n",
    "#-----------------------------------#\n",
    "plt.show()"
   ]
  },
  {
   "cell_type": "markdown",
   "metadata": {},
   "source": [
    "<h1>Save Only Primary Showers </h1>"
   ]
  },
  {
   "cell_type": "code",
   "execution_count": null,
   "metadata": {},
   "outputs": [],
   "source": [
    "df_hnl = get_primary_shw_df(df_hnl)\n",
    "\n",
    "df_nu = get_primary_shw_df(df_nu)\n",
    "\n",
    "df_cos = get_primary_shw_df(df_cos)\n",
    "#df_cos_prim_shw2 = get_primary_shw_df(df_cos)"
   ]
  },
  {
   "cell_type": "code",
   "execution_count": null,
   "metadata": {},
   "outputs": [],
   "source": [
    "df_hnl[df_hnl['slc_true_event_type'] == 9]"
   ]
  },
  {
   "cell_type": "code",
   "execution_count": null,
   "metadata": {},
   "outputs": [],
   "source": [
    "df_nu[df_nu['slc_true_event_type'] == 9]"
   ]
  },
  {
   "cell_type": "code",
   "execution_count": null,
   "metadata": {},
   "outputs": [],
   "source": [
    "df_cos"
   ]
  },
  {
   "cell_type": "markdown",
   "metadata": {},
   "source": [
    "<h1> Save Cut Dataframe to Pickle</h1>"
   ]
  },
  {
   "cell_type": "code",
   "execution_count": null,
   "metadata": {},
   "outputs": [],
   "source": [
    "df_hnl.to_pickle(\"../../pkl_files/v3_April2024/df_postselect_m\"+str(m)+\"_v3_hnl.pkl\", protocol = 5)"
   ]
  },
  {
   "cell_type": "code",
   "execution_count": null,
   "metadata": {},
   "outputs": [],
   "source": [
    "df_nu.to_pickle(\"../../pkl_files/v3_April2024/df_postselect_m\"+str(m)+\"_v3_nu.pkl\", protocol = 5)"
   ]
  },
  {
   "cell_type": "code",
   "execution_count": null,
   "metadata": {},
   "outputs": [],
   "source": [
    "df_cos.to_pickle(\"../../pkl_files/v3_April2024/df_postselect_m\"+str(m)+\"_v3_cos.pkl\", protocol = 5)"
   ]
  },
  {
   "cell_type": "code",
   "execution_count": null,
   "metadata": {},
   "outputs": [],
   "source": []
  }
 ],
 "metadata": {
  "kernelspec": {
   "display_name": "Python 3 (ipykernel)",
   "language": "python",
   "name": "python3"
  },
  "language_info": {
   "codemirror_mode": {
    "name": "ipython",
    "version": 3
   },
   "file_extension": ".py",
   "mimetype": "text/x-python",
   "name": "python",
   "nbconvert_exporter": "python",
   "pygments_lexer": "ipython3",
   "version": "3.9.7"
  }
 },
 "nbformat": 4,
 "nbformat_minor": 4
}
