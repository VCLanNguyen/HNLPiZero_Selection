{
 "cells": [
  {
   "cell_type": "code",
   "execution_count": null,
   "metadata": {},
   "outputs": [],
   "source": [
    "# Add the relevant scripts from LArMachineLearningData\n",
    "# Nice the process so it can run with lots of cores on low priority\n",
    "import os\n",
    "os.nice(20)\n",
    "\n",
    "# Add local paths\n",
    "import sys\n",
    "hnlDIR = os.environ['_']\n",
    "sys.path.append('../pyscript')\n",
    "\n",
    "# From pyscript Library\n",
    "from Plotting import *\n",
    "from Dictionary import *\n",
    "from HelperFunctions import *\n",
    "from CutFunctions import *\n",
    "\n",
    "import pickle\n",
    "import numpy as np\n",
    "import pandas as pd\n",
    "import matplotlib.pyplot as plt\n",
    "\n",
    "import warnings\n",
    "warnings.filterwarnings(\"ignore\")"
   ]
  },
  {
   "cell_type": "markdown",
   "metadata": {},
   "source": [
    "<h1>Configuration Stuff Here</h1>"
   ]
  },
  {
   "cell_type": "code",
   "execution_count": null,
   "metadata": {},
   "outputs": [],
   "source": [
    "ifSave = True\n",
    "savePath = \"../plot_files/28Feb2024_m200_swap_cut_order/\""
   ]
  },
  {
   "cell_type": "code",
   "execution_count": null,
   "metadata": {},
   "outputs": [],
   "source": [
    "ifCut = True"
   ]
  },
  {
   "cell_type": "code",
   "execution_count": null,
   "metadata": {},
   "outputs": [],
   "source": [
    "ifTune = False\n",
    "\n",
    "TuneCut = {\n",
    "    'crumbs': 0 #0.14\n",
    "    , 'Muon' : 0.04\n",
    "    , 'Proton' : 9.8 \n",
    "    , 'Pion' : 0.8\n",
    "    #, 'Opt0Score': 1550\n",
    "    , 'Opt0FracMore': -0.2\n",
    "    , 'Opt0FracLess': 0.68\n",
    "    , 'OneShowerTheta': 18\n",
    "    , 'TwoShowerTheta': 24\n",
    "    }\n",
    "    "
   ]
  },
  {
   "cell_type": "markdown",
   "metadata": {},
   "source": [
    "<h1> Read in PKL Dataframe </h1>"
   ]
  },
  {
   "cell_type": "markdown",
   "metadata": {},
   "source": [
    "<h3> HNL </h3>"
   ]
  },
  {
   "cell_type": "code",
   "execution_count": null,
   "metadata": {},
   "outputs": [],
   "source": [
    "df_hnl = pd.DataFrame()\n",
    "\n",
    "for i in range(0, 5):\n",
    "    hnl_path = \"../pkl_files/v2/hnl_m200_50k_v2_slc_{}.pkl\".format(i)\n",
    "    print(hnl_path)\n",
    "    \n",
    "    file = open(hnl_path, 'rb')\n",
    "    df = pickle.load(file)\n",
    "    \n",
    "    df_hnl = pd.concat((df_hnl, df), ignore_index=True)\n",
    "    file.close()\n",
    "    \n",
    "#--------------------------------------------------#\n",
    "dfsubrun_hnl = pd.DataFrame()\n",
    "\n",
    "for i in range(0, 5):\n",
    "    hnl_path = \"../pkl_files/v2/hnl_m200_50k_v2_subrun_{}.pkl\".format(i)\n",
    "    print(hnl_path)\n",
    "    \n",
    "    file = open(hnl_path, 'rb')\n",
    "    df = pickle.load(file)\n",
    "    \n",
    "    dfsubrun_hnl = pd.concat((dfsubrun_hnl, df), ignore_index=True)\n",
    "    file.close()"
   ]
  },
  {
   "cell_type": "markdown",
   "metadata": {},
   "source": [
    "<h3> TPC Neutrino </h3>"
   ]
  },
  {
   "cell_type": "code",
   "execution_count": null,
   "metadata": {},
   "outputs": [],
   "source": [
    "df_nu = pd.DataFrame()\n",
    "\n",
    "for i in range(0, 10):\n",
    "    nu_path = \"../pkl_files/v2/nu_rockbox_100k_v2_slc_{}.pkl\".format(i)\n",
    "    print(nu_path)\n",
    "    \n",
    "    file = open(nu_path, 'rb')\n",
    "    df = pickle.load(file)\n",
    "    \n",
    "    df_nu = pd.concat((df_nu, df), ignore_index=True)\n",
    "    file.close()\n",
    "    \n",
    "#--------------------------------------------------#\n",
    "dfsubrun_nu = pd.DataFrame()\n",
    "\n",
    "for i in range(0, 10):\n",
    "    nu_path = \"../pkl_files/v2/nu_rockbox_100k_v2_subrun_{}.pkl\".format(i)\n",
    "    print(nu_path)\n",
    "    \n",
    "    file = open(nu_path, 'rb')\n",
    "    df = pickle.load(file)\n",
    "    \n",
    "    dfsubrun_nu = pd.concat((dfsubrun_nu, df), ignore_index=True)\n",
    "    file.close()"
   ]
  },
  {
   "cell_type": "markdown",
   "metadata": {},
   "source": [
    "<h3> Intime Cosmics </h3>"
   ]
  },
  {
   "cell_type": "code",
   "execution_count": null,
   "metadata": {},
   "outputs": [],
   "source": [
    "df_cos = pd.DataFrame()\n",
    "\n",
    "for i in range(0, 5):\n",
    "    cos_path = \"../pkl_files/v2/intime_cosmics_50k_v2_slc_{}.pkl\".format(i)\n",
    "    print(cos_path)\n",
    "    \n",
    "    file = open(cos_path, 'rb')\n",
    "    df = pickle.load(file)\n",
    "    \n",
    "    df_cos = pd.concat((df_cos, df), ignore_index=True)\n",
    "    file.close()\n",
    "    \n",
    "#--------------------------------------------------#\n",
    "dfsubrun_cos = pd.DataFrame()\n",
    "\n",
    "for i in range(0, 5):\n",
    "    cos_path = \"../pkl_files/v2/intime_cosmics_50k_v2_subrun_{}.pkl\".format(i)\n",
    "    print(cos_path)\n",
    "    \n",
    "    file = open(cos_path, 'rb')\n",
    "    df = pickle.load(file)\n",
    "    \n",
    "    dfsubrun_cos = pd.concat((dfsubrun_cos, df), ignore_index=True)\n",
    "    file.close()"
   ]
  },
  {
   "cell_type": "markdown",
   "metadata": {},
   "source": [
    "<h1>Some Scaling Voodoo</h1>"
   ]
  },
  {
   "cell_type": "markdown",
   "metadata": {},
   "source": [
    "<h3>HNL</h3>"
   ]
  },
  {
   "cell_type": "code",
   "execution_count": null,
   "metadata": {},
   "outputs": [],
   "source": [
    "true_signals = 7005 + 6986 + 6923 + 7010 + 6909\n",
    "true_nonfv_signals = 3045 + 3014 + 3077 + 2990 + 2991\n",
    "total_true_signals = 10050 + 10000 + 10000 + 10000 + 9900\n",
    "start_signals = 6668 + 6680 + 6626 + 6701 + 6591\n",
    "start_nonfv_signals = 2568 + 2530 + 2569 + 2515 + 2502\n",
    "total_start_signals = 9236 + 9210 + 9195 + 9216 + 9093"
   ]
  },
  {
   "cell_type": "code",
   "execution_count": null,
   "metadata": {},
   "outputs": [],
   "source": [
    "#Sanity Check: ifScale == 1 i.e. Umu = 1e-7 and 3 years POT\n",
    "#true counts ~1.5k\n",
    "#start counts ~1.4k\n",
    "scale_pot_hnl, hnl_spill = calc_scaling_pot(dfsubrun_hnl, df_hnl, ifScale = 1)\n",
    "\n",
    "true_signals = true_signals * scale_pot_hnl\n",
    "true_nonfv_signals = true_nonfv_signals * scale_pot_hnl\n",
    "total_true_signals = total_true_signals * scale_pot_hnl\n",
    "start_signals = start_signals * scale_pot_hnl\n",
    "start_nonfv_signals = start_nonfv_signals * scale_pot_hnl\n",
    "total_start_signals = total_start_signals * scale_pot_hnl\n",
    "\n",
    "true_counts = total_true_signals\n",
    "start_counts = total_start_signals\n",
    "print(\"true counts = \" + str(true_counts))\n",
    "print(\"start counts = \" + str(start_counts))"
   ]
  },
  {
   "cell_type": "code",
   "execution_count": null,
   "metadata": {},
   "outputs": [],
   "source": [
    "simU = 1e-7 #already squared\n",
    "scaleHNLPlot = 80"
   ]
  },
  {
   "cell_type": "code",
   "execution_count": null,
   "metadata": {},
   "outputs": [],
   "source": [
    "plotU = getUfromScaleFactor(simU, scaleHNLPlot)\n",
    "true_counts = true_counts * scaleHNLPlot\n",
    "start_counts =  start_counts * scaleHNLPlot\n",
    "\n",
    "print(\"Scale Umu by \" + str(scaleHNLPlot))\n",
    "print(\"Scaled Umu = \" + str(plotU))\n",
    "print(\"Scaled true counts = \" + str(true_counts))\n",
    "print(\"Scaled start counts = \" + str(start_counts))"
   ]
  },
  {
   "cell_type": "code",
   "execution_count": null,
   "metadata": {},
   "outputs": [],
   "source": [
    "scale_pot_hnl, hnl_spill = calc_scaling_pot(dfsubrun_hnl, df_hnl, ifScale = scaleHNLPlot)\n",
    "\n",
    "del dfsubrun_hnl"
   ]
  },
  {
   "cell_type": "markdown",
   "metadata": {},
   "source": [
    "<h3>Rock Box Neutrino</h3>"
   ]
  },
  {
   "cell_type": "code",
   "execution_count": null,
   "metadata": {},
   "outputs": [],
   "source": [
    "scale_pot_nu, nu_spill = calc_scaling_pot(dfsubrun_nu, df_nu)\n",
    "\n",
    "del  dfsubrun_nu"
   ]
  },
  {
   "cell_type": "markdown",
   "metadata": {},
   "source": [
    "<h3>Intime Cosmics</h3>"
   ]
  },
  {
   "cell_type": "code",
   "execution_count": null,
   "metadata": {},
   "outputs": [],
   "source": [
    "scale_pot_cosmics = calc_scaling_spill(dfsubrun_cos, df_cos, hnl_spill, nu_spill)\n",
    "\n",
    "del  dfsubrun_cos"
   ]
  },
  {
   "cell_type": "markdown",
   "metadata": {},
   "source": [
    "<h1> Make Beam Bucket - Pre Cosmics </h1>"
   ]
  },
  {
   "cell_type": "code",
   "execution_count": null,
   "metadata": {},
   "outputs": [],
   "source": [
    "width = 19.00\n",
    "\n",
    "df_hnl['mod_t'] = df_hnl['slc_opt0_time_corrected_Z_pandora']%width\n",
    "df_nu['mod_t'] = df_nu['slc_opt0_time_corrected_Z_pandora']%width\n",
    "df_cos['mod_t'] = df_cos['slc_opt0_time_corrected_Z_pandora']%width\n",
    "#----------------------------------------------\n",
    "hist, bins = plot_slc_var(df_hnl, df_nu, df_cos,\n",
    "                    true_counts, start_counts, \n",
    "                    'mod_t', \n",
    "                    scaleHNLPlot,\n",
    "                    xmin = 0, xmax = 19, xnbin = 19,\n",
    "                    xtitle = 'Opt0 Time Corrected Z % ' + str(width) + ' [ns]'\n",
    "                    )\n",
    "#-----------------------------------#\n",
    "if ifSave:\n",
    "    #fig.tight_layout()\n",
    "    plt.savefig(savePath+\"beam_bucket_precosmics.png\", dpi = 200)\n",
    "#-----------------------------------#\n",
    "plt.show()"
   ]
  },
  {
   "cell_type": "markdown",
   "metadata": {},
   "source": [
    "<h1> Save Purity and Eff </h1>"
   ]
  },
  {
   "cell_type": "code",
   "execution_count": null,
   "metadata": {},
   "outputs": [],
   "source": [
    "purity_arr, eff_arr, cut_arr = [], [], []"
   ]
  },
  {
   "cell_type": "code",
   "execution_count": null,
   "metadata": {},
   "outputs": [],
   "source": [
    "purity, eff = calc_purity_eff(df_hnl, df_nu, df_cos, true_counts, start_counts)\n",
    "\n",
    "\n",
    "purity_arr.append(purity)\n",
    "eff_arr.append(eff)\n",
    "cut_arr.append(\"Clear Cosmics Removal\")\n",
    "\n",
    "print(purity_arr)\n",
    "print(eff_arr)\n",
    "print(cut_arr)"
   ]
  },
  {
   "cell_type": "markdown",
   "metadata": {},
   "source": [
    "<h1> CRUMBS </h1>"
   ]
  },
  {
   "cell_type": "code",
   "execution_count": null,
   "metadata": {},
   "outputs": [],
   "source": [
    "plot_slc_var(df_hnl, df_nu, df_cos,\n",
    "                    true_counts, start_counts, \n",
    "                    'slc_crumbs_score', \n",
    "                    scaleHNLPlot,\n",
    "                    xmin = -2.5, xmax =1, xnbin = 40,\n",
    "                    xtitle = 'CRUMBS Score'\n",
    "                    )\n",
    "#-----------------------------------#\n",
    "if ifSave:\n",
    "    #fig.tight_layout()\n",
    "    plt.savefig(savePath+\"crumbs_precut.png\", dpi = 200)\n",
    "#-----------------------------------#\n",
    "plt.show()"
   ]
  },
  {
   "cell_type": "code",
   "execution_count": null,
   "metadata": {},
   "outputs": [],
   "source": [
    "if ifTune:\n",
    "    vary_crumbsScore(df_hnl, df_nu, df_cos, true_counts, start_counts)\n",
    "    \n",
    "    if ifSave:\n",
    "        plt.savefig(savePath+\"/crumbs_tuning.png\", dpi =200)"
   ]
  },
  {
   "cell_type": "markdown",
   "metadata": {},
   "source": [
    "<h3>Apply Cut</h3>"
   ]
  },
  {
   "cell_type": "code",
   "execution_count": null,
   "metadata": {},
   "outputs": [],
   "source": [
    "#score = TuneCut['crumbs']\n",
    "score = 0.00\n",
    "print(score)\n",
    "\n",
    "if ifCut:\n",
    "    df_hnl = cutCosmics(df_hnl, crumbsScore = score)\n",
    "    df_nu = cutCosmics(df_nu, crumbsScore = score)\n",
    "    df_cos = cutCosmics(df_cos, crumbsScore = score)"
   ]
  },
  {
   "cell_type": "markdown",
   "metadata": {},
   "source": [
    "<h3>Save Purity/Eff</h3>"
   ]
  },
  {
   "cell_type": "code",
   "execution_count": null,
   "metadata": {},
   "outputs": [],
   "source": [
    "purity, eff = calc_purity_eff(df_hnl, df_nu, df_cos, true_counts, start_counts)\n",
    "\n",
    "purity_arr.append(purity)\n",
    "eff_arr.append(eff)\n",
    "cut_arr.append(\"CRUMBS\")\n",
    "\n",
    "print(purity_arr)\n",
    "print(eff_arr)\n",
    "print(cut_arr)"
   ]
  },
  {
   "cell_type": "code",
   "execution_count": null,
   "metadata": {},
   "outputs": [],
   "source": [
    "plot_slc_var(df_hnl, df_nu, df_cos,\n",
    "                    true_counts, start_counts, \n",
    "                    'slc_crumbs_score', \n",
    "                    scaleHNLPlot,\n",
    "                    xmin = -2.5, xmax =1, xnbin = 40,\n",
    "                    xtitle = 'CRUMBS Score'\n",
    "                    )\n",
    "#-----------------------------------#\n",
    "if ifSave:\n",
    "    #fig.tight_layout()\n",
    "    plt.savefig(savePath+\"crumbs_postcut.png\", dpi = 200)\n",
    "#-----------------------------------#\n",
    "\n",
    "plt.show()"
   ]
  },
  {
   "cell_type": "markdown",
   "metadata": {},
   "source": [
    "<h1> Make Beam Bucket - Post Crumbs</h1>"
   ]
  },
  {
   "cell_type": "code",
   "execution_count": null,
   "metadata": {},
   "outputs": [],
   "source": [
    "hist, bins = plot_slc_var(df_hnl, df_nu, df_cos,\n",
    "                    true_counts, start_counts, \n",
    "                    'mod_t', \n",
    "                    scaleHNLPlot,\n",
    "                    xmin = 0, xmax = 19, xnbin = 19,\n",
    "                    xtitle = 'Opt0 Time Corrected Z % ' + str(width) + \" [ns]\"\n",
    "                    )\n",
    "#-----------------------------------#\n",
    "if ifSave:\n",
    "    #fig.tight_layout()\n",
    "    plt.savefig(savePath+\"beam_bucket_postcosmics_postcrumbs.png\", dpi = 200)\n",
    "#-----------------------------------#\n",
    "plt.show()"
   ]
  },
  {
   "cell_type": "markdown",
   "metadata": {},
   "source": [
    "<h1> Fiducial Volume </h1>"
   ]
  },
  {
   "cell_type": "code",
   "execution_count": null,
   "metadata": {},
   "outputs": [],
   "source": [
    "plot_slc_var(df_hnl, df_nu, df_cos,\n",
    "                    true_counts, start_counts, \n",
    "                    'slc_is_fv', \n",
    "                    scaleHNLPlot,\n",
    "                    xmin = -1, xmax = 3, xnbin = 40,\n",
    "                    xtitle = 'Vertex is in Fiducial Volume'\n",
    "                    )\n",
    "#-----------------------------------#\n",
    "if ifSave:\n",
    "    #fig.tight_layout()\n",
    "    plt.savefig(savePath+\"fv_precut.png\", dpi = 200)\n",
    "#-----------------------------------#\n",
    "plt.show()"
   ]
  },
  {
   "cell_type": "markdown",
   "metadata": {},
   "source": [
    "<h3>Apply Cut</h3>"
   ]
  },
  {
   "cell_type": "code",
   "execution_count": null,
   "metadata": {},
   "outputs": [],
   "source": [
    "if ifCut:\n",
    "    df_hnl = cutFV(df_hnl)\n",
    "    df_nu = cutFV(df_nu)\n",
    "    df_cos = cutFV(df_cos)"
   ]
  },
  {
   "cell_type": "markdown",
   "metadata": {},
   "source": [
    "<h3>Save Purity/Eff</h3>"
   ]
  },
  {
   "cell_type": "code",
   "execution_count": null,
   "metadata": {},
   "outputs": [],
   "source": [
    "purity, eff = calc_purity_eff(df_hnl, df_nu, df_cos, true_counts, start_counts)\n",
    "\n",
    "purity_arr.append(purity)\n",
    "eff_arr.append(eff)\n",
    "cut_arr.append(\"Vertex In FV\")\n",
    "\n",
    "print(purity_arr)\n",
    "print(eff_arr)\n",
    "print(cut_arr)"
   ]
  },
  {
   "cell_type": "code",
   "execution_count": null,
   "metadata": {},
   "outputs": [],
   "source": [
    "plot_slc_var(df_hnl, df_nu, df_cos,\n",
    "                    true_counts, start_counts, \n",
    "                    'slc_is_fv', \n",
    "                    scaleHNLPlot,\n",
    "                    xmin = -1, xmax = 3, xnbin = 40,\n",
    "                    xtitle = 'Vertex is in Fiducial Volume'\n",
    "                    )\n",
    "#-----------------------------------#\n",
    "if ifSave:\n",
    "    #fig.tight_layout()\n",
    "    plt.savefig(savePath+\"fv_postcut.png\", dpi = 200)\n",
    "#-----------------------------------#\n",
    "plt.show()"
   ]
  },
  {
   "cell_type": "markdown",
   "metadata": {},
   "source": [
    "<h1> Make Beam Bucket - Post FV</h1>"
   ]
  },
  {
   "cell_type": "code",
   "execution_count": null,
   "metadata": {},
   "outputs": [],
   "source": [
    "hist, bins = plot_slc_var(df_hnl, df_nu, df_cos,\n",
    "                    true_counts, start_counts, \n",
    "                    'mod_t', \n",
    "                    scaleHNLPlot,\n",
    "                    xmin = 0, xmax = 19, xnbin = 19,\n",
    "                    xtitle = 'Opt0 Time Corrected Z % ' + str(width) + \" [ns]\"\n",
    "                    )\n",
    "#-----------------------------------#\n",
    "if ifSave:\n",
    "    #fig.tight_layout()\n",
    "    plt.savefig(savePath+\"beam_bucket_postcosmics_postFV.png\", dpi = 200)\n",
    "#-----------------------------------#\n",
    "plt.show()"
   ]
  },
  {
   "cell_type": "markdown",
   "metadata": {},
   "source": [
    "<h1>Muon Rejection</h1>"
   ]
  },
  {
   "cell_type": "code",
   "execution_count": null,
   "metadata": {},
   "outputs": [],
   "source": [
    "plot_slc_var(df_hnl, df_nu, df_cos,\n",
    "                    true_counts, start_counts, \n",
    "                    'slc_n_razzled_muons', \n",
    "                    scaleHNLPlot,\n",
    "                    xmin = 0, xmax = 5, xnbin = 5,\n",
    "                    xtitle = 'n Razzled Muons'\n",
    "                    )\n",
    "#-----------------------------------#\n",
    "if ifSave:\n",
    "    #fig.tight_layout()\n",
    "    plt.savefig(savePath+\"nrazzled_muon_precut.png\", dpi = 200)\n",
    "#-----------------------------------#\n",
    "plt.show()\n",
    "#----------------------------------------------\n",
    "plot_slc_var(df_hnl, df_nu, df_cos,\n",
    "                    true_counts, start_counts, \n",
    "                    'slc_pfp_razzled_muon_score', \n",
    "                    scaleHNLPlot,\n",
    "                    xmin = 0, xmax = 1, xnbin = 40,\n",
    "                    xtitle = 'PFP Razzled Muon Score'\n",
    "                    )\n",
    "#-----------------------------------#\n",
    "if ifSave:\n",
    "    #fig.tight_layout()\n",
    "    plt.savefig(savePath+\"razzled_muon_score_precut.png\", dpi = 200)\n",
    "#-----------------------------------#\n",
    "plt.show()"
   ]
  },
  {
   "cell_type": "code",
   "execution_count": null,
   "metadata": {},
   "outputs": [],
   "source": [
    "if ifTune:\n",
    "    vary_MuonScore(df_hnl, df_nu, df_cos , true_counts, start_counts)\n",
    "    if ifSave:\n",
    "        plt.savefig(savePath+\"/muon_tuning.png\", dpi =200)"
   ]
  },
  {
   "cell_type": "markdown",
   "metadata": {},
   "source": [
    "<h3> Apply Cut</h3>"
   ]
  },
  {
   "cell_type": "code",
   "execution_count": null,
   "metadata": {},
   "outputs": [],
   "source": [
    "#muonScore = TuneCut['Muon']\n",
    "muonScore = 0.04\n",
    "print(muonScore)\n",
    "\n",
    "if ifCut:\n",
    "    df_hnl = cutMuon(df_hnl, muonScore =muonScore)\n",
    "    df_nu = cutMuon(df_nu, muonScore =muonScore)\n",
    "    df_cos = cutMuon(df_cos,muonScore =muonScore)"
   ]
  },
  {
   "cell_type": "markdown",
   "metadata": {},
   "source": [
    "<h3>Save Purity/Eff</h3>"
   ]
  },
  {
   "cell_type": "code",
   "execution_count": null,
   "metadata": {},
   "outputs": [],
   "source": [
    "purity, eff = calc_purity_eff(df_hnl, df_nu, df_cos, true_counts, start_counts)\n",
    "\n",
    "purity_arr.append(purity)\n",
    "eff_arr.append(eff)\n",
    "cut_arr.append(\"Muon Cut\")\n",
    "\n",
    "print(purity_arr)\n",
    "print(eff_arr)\n",
    "print(cut_arr)"
   ]
  },
  {
   "cell_type": "code",
   "execution_count": null,
   "metadata": {},
   "outputs": [],
   "source": [
    "plot_slc_var(df_hnl, df_nu, df_cos,\n",
    "                    true_counts, start_counts, \n",
    "                    'slc_n_razzled_muons', \n",
    "                    scaleHNLPlot,\n",
    "                    xmin = 0, xmax = 5, xnbin = 5,\n",
    "                    xtitle = 'n Razzled Muons'\n",
    "                    )\n",
    "#-----------------------------------#\n",
    "if ifSave:\n",
    "    #fig.tight_layout()\n",
    "    plt.savefig(savePath+\"nrazzled_muon_postcut.png\", dpi = 200)\n",
    "#-----------------------------------#\n",
    "plt.show()\n",
    "#----------------------------------------------\n",
    "plot_slc_var(df_hnl, df_nu, df_cos,\n",
    "                    true_counts, start_counts, \n",
    "                    'slc_pfp_razzled_muon_score', \n",
    "                    scaleHNLPlot,\n",
    "                    xmin = 0, xmax = 1, xnbin = 40,\n",
    "                    xtitle = 'PFP Razzled Muon Score'\n",
    "                    )\n",
    "#-----------------------------------#\n",
    "if ifSave:\n",
    "    #fig.tight_layout()\n",
    "    plt.savefig(savePath+\"razzled_muon_score_postcut.png\", dpi = 200)\n",
    "#-----------------------------------#\n",
    "plt.show()"
   ]
  },
  {
   "cell_type": "markdown",
   "metadata": {},
   "source": [
    "<h1> Make Beam Bucket - Post Muon</h1>"
   ]
  },
  {
   "cell_type": "code",
   "execution_count": null,
   "metadata": {},
   "outputs": [],
   "source": [
    "hist, bins = plot_slc_var(df_hnl, df_nu, df_cos,\n",
    "                    true_counts, start_counts, \n",
    "                    'mod_t', \n",
    "                    scaleHNLPlot,\n",
    "                    xmin = 0, xmax = 19, xnbin = 19,\n",
    "                    xtitle = 'Opt0 Time Corrected Z % ' + str(width) + \" [ns]\"\n",
    "                    )\n",
    "#-----------------------------------#\n",
    "if ifSave:\n",
    "    #fig.tight_layout()\n",
    "    plt.savefig(savePath+\"beam_bucket_postcosmics_postmuon.png\", dpi = 200)\n",
    "#-----------------------------------#\n",
    "plt.show()"
   ]
  },
  {
   "cell_type": "markdown",
   "metadata": {},
   "source": [
    "<h1>Proton Rejection</h1>"
   ]
  },
  {
   "cell_type": "code",
   "execution_count": null,
   "metadata": {},
   "outputs": [],
   "source": [
    "plot_slc_var(df_hnl, df_nu, df_cos,\n",
    "                    true_counts, start_counts, \n",
    "                    'slc_n_razzled_protons_thresh', \n",
    "                    scaleHNLPlot,\n",
    "                    xmin = 0, xmax = 5, xnbin = 5,\n",
    "                    xtitle = 'n Razzled Protons'\n",
    "                    )\n",
    "#-----------------------------------#\n",
    "if ifSave:\n",
    "    #fig.tight_layout()\n",
    "    plt.savefig(savePath+\"nrazzled_proton_precut.png\", dpi = 200)\n",
    "#-----------------------------------#\n",
    "plt.show()\n",
    "#----------------------------------------------\n",
    "plot_slc_var(df_hnl, df_nu, df_cos,\n",
    "                    true_counts, start_counts, \n",
    "                    'slc_pfp_razzled_proton_score', \n",
    "                    scaleHNLPlot,\n",
    "                    xmin = 0, xmax = 1, xnbin = 40,\n",
    "                    xtitle = 'PFP Razzled Proton Score'\n",
    "                    )\n",
    "#-----------------------------------#\n",
    "if ifSave:\n",
    "    #fig.tight_layout()\n",
    "    plt.savefig(savePath+\"razzled_proton_score_precut.png\", dpi = 200)\n",
    "#-----------------------------------#\n",
    "plt.show()"
   ]
  },
  {
   "cell_type": "code",
   "execution_count": null,
   "metadata": {},
   "outputs": [],
   "source": [
    "if ifTune:\n",
    "    vary_ProtonScore(df_hnl, df_nu, df_cos, true_counts, start_counts)\n",
    "    if ifSave:\n",
    "        plt.savefig(savePath+\"/proton_tuning.png\", dpi =200)"
   ]
  },
  {
   "cell_type": "markdown",
   "metadata": {},
   "source": [
    "<h3>Apply Cut</h3>"
   ]
  },
  {
   "cell_type": "code",
   "execution_count": null,
   "metadata": {},
   "outputs": [],
   "source": [
    "#protonScore = TuneCut['Proton']\n",
    "protonScore = 1\n",
    "print(protonScore)\n",
    "\n",
    "if ifCut:\n",
    "    df_hnl = cutProton(df_hnl, nProton = 0, protonScore = protonScore)\n",
    "    df_nu = cutProton(df_nu, nProton = 0, protonScore = protonScore)\n",
    "    df_cos = cutProton(df_cos, nProton = 0, protonScore = protonScore)"
   ]
  },
  {
   "cell_type": "markdown",
   "metadata": {},
   "source": [
    "<h3>Save Purity/Eff</h3>"
   ]
  },
  {
   "cell_type": "code",
   "execution_count": null,
   "metadata": {},
   "outputs": [],
   "source": [
    "purity, eff = calc_purity_eff(df_hnl, df_nu, df_cos, true_counts, start_counts)\n",
    "\n",
    "purity_arr.append(purity)\n",
    "eff_arr.append(eff)\n",
    "cut_arr.append(\"Proton Cut\")\n",
    "\n",
    "print(purity_arr)\n",
    "print(eff_arr)\n",
    "print(cut_arr)"
   ]
  },
  {
   "cell_type": "code",
   "execution_count": null,
   "metadata": {},
   "outputs": [],
   "source": [
    "plot_slc_var(df_hnl, df_nu, df_cos,\n",
    "                    true_counts, start_counts, \n",
    "                    'slc_n_razzled_protons_thresh', \n",
    "                    scaleHNLPlot,\n",
    "                    xmin = 0, xmax = 5, xnbin = 5,\n",
    "                    xtitle = 'n Razzled Protons'\n",
    "                    )\n",
    "#-----------------------------------#\n",
    "if ifSave:\n",
    "    #fig.tight_layout()\n",
    "    plt.savefig(savePath+\"nrazzled_proton_postcut.png\", dpi = 200)\n",
    "#-----------------------------------#\n",
    "plt.show()\n",
    "#----------------------------------------------\n",
    "plot_slc_var(df_hnl, df_nu, df_cos,\n",
    "                    true_counts, start_counts, \n",
    "                    'slc_pfp_razzled_proton_score', \n",
    "                    scaleHNLPlot,\n",
    "                    xmin = 0, xmax = 1, xnbin = 40,\n",
    "                    xtitle = 'PFP Razzled Proton Score'\n",
    "                    )\n",
    "#-----------------------------------#\n",
    "if ifSave:\n",
    "    #fig.tight_layout()\n",
    "    plt.savefig(savePath+\"razzled_proton_score_postcut.png\", dpi = 200)\n",
    "#-----------------------------------#\n",
    "plt.show()"
   ]
  },
  {
   "cell_type": "markdown",
   "metadata": {},
   "source": [
    "<h1> Make Beam Bucket - Post Proton</h1>"
   ]
  },
  {
   "cell_type": "code",
   "execution_count": null,
   "metadata": {},
   "outputs": [],
   "source": [
    "hist, bins = plot_slc_var(df_hnl, df_nu, df_cos,\n",
    "                    true_counts, start_counts, \n",
    "                    'mod_t', \n",
    "                    scaleHNLPlot,\n",
    "                    xmin = 0, xmax = 19, xnbin = 19,\n",
    "                    xtitle = 'Opt0 Time Corrected Z % ' + str(width) + \" [ns]\"\n",
    "                    )\n",
    "#-----------------------------------#\n",
    "if ifSave:\n",
    "    #fig.tight_layout()\n",
    "    plt.savefig(savePath+\"beam_bucket_postcosmics_postproton.png\", dpi = 200)\n",
    "#-----------------------------------#\n",
    "plt.show()"
   ]
  },
  {
   "cell_type": "markdown",
   "metadata": {},
   "source": [
    "<h1>Pion Rejection</h1>"
   ]
  },
  {
   "cell_type": "code",
   "execution_count": null,
   "metadata": {},
   "outputs": [],
   "source": [
    "plot_slc_var(df_hnl, df_nu, df_cos,\n",
    "                    true_counts, start_counts, \n",
    "                    'slc_n_razzled_pions_thresh', \n",
    "                    scaleHNLPlot,\n",
    "                    xmin = 0, xmax = 5, xnbin = 5,\n",
    "                    xtitle = 'n Razzled Pions'\n",
    "                    )\n",
    "#-----------------------------------#\n",
    "if ifSave:\n",
    "    #fig.tight_layout()\n",
    "    plt.savefig(savePath+\"nrazzled_pion_precut.png\", dpi = 200)\n",
    "#-----------------------------------#\n",
    "plt.show()\n",
    "#----------------------------------------------\n",
    "plot_slc_var(df_hnl, df_nu, df_cos,\n",
    "                    true_counts, start_counts, \n",
    "                    'slc_pfp_razzled_pion_score', \n",
    "                    scaleHNLPlot,\n",
    "                    xmin = 0, xmax = 1, xnbin = 40,\n",
    "                    xtitle = 'PFP Razzled Pion Score'\n",
    "                    )\n",
    "#-----------------------------------#\n",
    "if ifSave:\n",
    "    #fig.tight_layout()\n",
    "    plt.savefig(savePath+\"razzled_pion_score_precut.png\", dpi = 200)\n",
    "#-----------------------------------#\n",
    "plt.show()"
   ]
  },
  {
   "cell_type": "code",
   "execution_count": null,
   "metadata": {},
   "outputs": [],
   "source": [
    "if ifTune:\n",
    "    vary_PionScore(df_hnl, df_nu, df_cos, true_counts, start_counts)\n",
    "    if ifSave:\n",
    "        plt.savefig(savePath+\"/pion_tuning.png\", dpi =200)"
   ]
  },
  {
   "cell_type": "markdown",
   "metadata": {},
   "source": [
    "<h3>Apply Cut </h3>"
   ]
  },
  {
   "cell_type": "code",
   "execution_count": null,
   "metadata": {},
   "outputs": [],
   "source": [
    "#pionScore = TuneCut['Pion']\n",
    "pionScore = 0.8\n",
    "print(pionScore)\n",
    "\n",
    "if ifCut:\n",
    "    df_hnl = cutPion(df_hnl, nPion = 0, pionScore = pionScore)\n",
    "    df_nu = cutPion(df_nu, nPion = 0, pionScore = pionScore)\n",
    "    df_cos = cutPion(df_cos, nPion = 0, pionScore = pionScore)"
   ]
  },
  {
   "cell_type": "markdown",
   "metadata": {},
   "source": [
    "<h3>Save Purity/Eff</h3>"
   ]
  },
  {
   "cell_type": "code",
   "execution_count": null,
   "metadata": {},
   "outputs": [],
   "source": [
    "purity, eff = calc_purity_eff(df_hnl, df_nu, df_cos, true_counts, start_counts)\n",
    "\n",
    "purity_arr.append(purity)\n",
    "eff_arr.append(eff)\n",
    "cut_arr.append(\"Pion Cut\")\n",
    "\n",
    "print(purity_arr)\n",
    "print(eff_arr)\n",
    "print(cut_arr)"
   ]
  },
  {
   "cell_type": "code",
   "execution_count": null,
   "metadata": {},
   "outputs": [],
   "source": [
    "plot_slc_var(df_hnl, df_nu, df_cos,\n",
    "                    true_counts, start_counts, \n",
    "                    'slc_n_razzled_pions_thresh', \n",
    "                    scaleHNLPlot,\n",
    "                    xmin = 0, xmax = 5, xnbin = 5,\n",
    "                    xtitle = 'n Razzled Pions'\n",
    "                    )\n",
    "#-----------------------------------#\n",
    "if ifSave:\n",
    "    #fig.tight_layout()\n",
    "    plt.savefig(savePath+\"nrazzled_pion_postcut.png\", dpi = 200)\n",
    "#-----------------------------------#\n",
    "plt.show()\n",
    "#----------------------------------------------\n",
    "plot_slc_var(df_hnl, df_nu, df_cos,\n",
    "                    true_counts, start_counts, \n",
    "                    'slc_pfp_razzled_pion_score', \n",
    "                    scaleHNLPlot,\n",
    "                    xmin = 0, xmax = 1, xnbin = 40,\n",
    "                    xtitle = 'PFP Razzled Pion Score'\n",
    "                    )\n",
    "#-----------------------------------#\n",
    "if ifSave:\n",
    "    #fig.tight_layout()\n",
    "    plt.savefig(savePath+\"razzled_pion_score_postcut.png\", dpi = 200)\n",
    "#-----------------------------------#\n",
    "plt.show()"
   ]
  },
  {
   "cell_type": "markdown",
   "metadata": {},
   "source": [
    "<h1> Make Beam Bucket - Post Pion</h1>"
   ]
  },
  {
   "cell_type": "code",
   "execution_count": null,
   "metadata": {},
   "outputs": [],
   "source": [
    "hist, bins = plot_slc_var(df_hnl, df_nu, df_cos,\n",
    "                    true_counts, start_counts, \n",
    "                    'mod_t', \n",
    "                    scaleHNLPlot,\n",
    "                    xmin = 0, xmax = 19, xnbin = 19,\n",
    "                    xtitle = 'Opt0 Time Corrected Z % ' + str(width) + \" [ns]\"\n",
    "                    )\n",
    "#-----------------------------------#\n",
    "if ifSave:\n",
    "    #fig.tight_layout()\n",
    "    plt.savefig(savePath+\"beam_bucket_postcosmics_postpion.png\", dpi = 200)\n",
    "#-----------------------------------#\n",
    "plt.show()"
   ]
  },
  {
   "cell_type": "markdown",
   "metadata": {},
   "source": [
    "<h1>Electron Rejection (?)</h1>"
   ]
  },
  {
   "cell_type": "markdown",
   "metadata": {},
   "source": [
    "<h3> All PFP Shower </h3>"
   ]
  },
  {
   "cell_type": "code",
   "execution_count": null,
   "metadata": {},
   "outputs": [],
   "source": [
    "plot_slc_var(df_hnl, df_nu, df_cos,\n",
    "                    true_counts, start_counts, \n",
    "                    'slc_n_razzled_electrons', \n",
    "                    scaleHNLPlot,\n",
    "                    xmin = 0, xmax = 5, xnbin = 5,\n",
    "                    xtitle = 'n Razzled Electrons'\n",
    "                    )\n",
    "#-----------------------------------#\n",
    "if ifSave:\n",
    "    #fig.tight_layout()\n",
    "    plt.savefig(savePath+\"nrazzled_electron_precut.png\", dpi = 200)\n",
    "#-----------------------------------#\n",
    "plt.show()\n",
    "#----------------------------------------------\n",
    "plot_slc_var(df_hnl, df_nu, df_cos,\n",
    "                    true_counts, start_counts, \n",
    "                    'slc_pfp_razzled_electron_score', \n",
    "                    scaleHNLPlot,\n",
    "                    xmin = 0, xmax = 1, xnbin = 40,\n",
    "                    xtitle = 'PFP Razzled Electron Score'\n",
    "                    )\n",
    "#-----------------------------------#\n",
    "if ifSave:\n",
    "    #fig.tight_layout()\n",
    "    plt.savefig(savePath+\"razzled_electron_score_precut.png\", dpi = 200)\n",
    "#-----------------------------------#\n",
    "plt.show()"
   ]
  },
  {
   "cell_type": "markdown",
   "metadata": {},
   "source": [
    "<h3> Get Primary Shower </h3>"
   ]
  },
  {
   "cell_type": "code",
   "execution_count": null,
   "metadata": {},
   "outputs": [],
   "source": [
    "df_hnl_prim = get_primary_shw_df(df_hnl)\n",
    "\n",
    "df_nu_prim = get_primary_shw_df(df_nu)\n",
    "\n",
    "df_cos_prim = get_primary_shw_df(df_cos)"
   ]
  },
  {
   "cell_type": "markdown",
   "metadata": {},
   "source": [
    "<h3> Primary Shower </h3>"
   ]
  },
  {
   "cell_type": "code",
   "execution_count": null,
   "metadata": {},
   "outputs": [],
   "source": [
    "plot_slc_var(df_hnl_prim, df_nu_prim, df_cos_prim,\n",
    "                    true_counts, start_counts, \n",
    "                    'slc_n_razzled_electrons', \n",
    "                    scaleHNLPlot,\n",
    "                    xmin = 0, xmax = 5, xnbin = 5,\n",
    "                    xtitle = 'n Razzled Electrons'\n",
    "                    )\n",
    "#-----------------------------------#\n",
    "if ifSave:\n",
    "    #fig.tight_layout()\n",
    "    plt.savefig(savePath+\"nrazzled_electron_prim_shw_precut.png\", dpi = 200)\n",
    "#-----------------------------------#\n",
    "plt.show()\n",
    "#----------------------------------------------\n",
    "plot_slc_var(df_hnl_prim[df_hnl_prim['slc_pfp_razzled_electron_score'] < 0.95]\n",
    "            , df_nu_prim[df_nu_prim['slc_pfp_razzled_electron_score'] < 0.95]\n",
    "             , df_cos_prim[df_cos_prim['slc_pfp_razzled_electron_score'] < 0.95],\n",
    "                    true_counts, start_counts, \n",
    "                    'slc_pfp_razzled_electron_score', \n",
    "                    scaleHNLPlot,\n",
    "                    xmin = 0.90, xmax = 1, xnbin = 40,\n",
    "                    xtitle = 'PFP Razzled Electron Score'\n",
    "                    )\n",
    "#-----------------------------------#\n",
    "if ifSave:\n",
    "    #fig.tight_layout()\n",
    "    plt.savefig(savePath+\"razzled_electron_score_prim_shw_precut.png\", dpi = 200)\n",
    "#-----------------------------------#\n",
    "plt.show()"
   ]
  },
  {
   "cell_type": "markdown",
   "metadata": {},
   "source": [
    "<h1>Photon Selection (?)</h1>"
   ]
  },
  {
   "cell_type": "markdown",
   "metadata": {},
   "source": [
    "<h3> All PFP Shower </h3>"
   ]
  },
  {
   "cell_type": "code",
   "execution_count": null,
   "metadata": {},
   "outputs": [],
   "source": [
    "plot_slc_var(df_hnl, df_nu, df_cos,\n",
    "                    true_counts, start_counts, \n",
    "                    'slc_n_razzled_photons', \n",
    "                    scaleHNLPlot,\n",
    "                    xmin = 0, xmax = 10, xnbin = 10,\n",
    "                    xtitle = 'n Razzled Photons'\n",
    "                    )\n",
    "#-----------------------------------#\n",
    "if ifSave:\n",
    "    #fig.tight_layout()\n",
    "    plt.savefig(savePath+\"nrazzled_photon_precut.png\", dpi = 200)\n",
    "#-----------------------------------#\n",
    "plt.show()\n",
    "#----------------------------------------------\n",
    "plot_slc_var(df_hnl, df_nu, df_cos,\n",
    "                    true_counts, start_counts, \n",
    "                    'slc_pfp_razzled_photon_score', \n",
    "                    scaleHNLPlot,\n",
    "                    xmin = 0, xmax = 1, xnbin = 40,\n",
    "                    xtitle = 'PFP Razzled Photon Score'\n",
    "                    )\n",
    "#-----------------------------------#\n",
    "if ifSave:\n",
    "    #fig.tight_layout()\n",
    "    plt.savefig(savePath+\"razzled_photon_score_precut.png\", dpi = 200)\n",
    "#-----------------------------------#\n",
    "plt.show()"
   ]
  },
  {
   "cell_type": "markdown",
   "metadata": {},
   "source": [
    "<h3> Primary Shower </h3>"
   ]
  },
  {
   "cell_type": "code",
   "execution_count": null,
   "metadata": {},
   "outputs": [],
   "source": [
    "plot_slc_var(df_hnl_prim, df_nu_prim, df_cos_prim,\n",
    "                    true_counts, start_counts, \n",
    "                    'slc_n_razzled_photons', \n",
    "                    scaleHNLPlot,\n",
    "                    xmin = 0, xmax = 10, xnbin = 10,\n",
    "                    xtitle = 'n Razzled Photons'\n",
    "                    )\n",
    "#-----------------------------------#\n",
    "if ifSave:\n",
    "    #fig.tight_layout()\n",
    "    plt.savefig(savePath+\"nrazzled_photon_prim_shw_precut.png\", dpi = 200)\n",
    "#-----------------------------------#\n",
    "plt.show()\n",
    "#----------------------------------------------\n",
    "plot_slc_var(df_hnl_prim, df_nu_prim, df_cos_prim,\n",
    "                    true_counts, start_counts, \n",
    "                    'slc_pfp_razzled_photon_score', \n",
    "                    scaleHNLPlot,\n",
    "                    xmin = 0, xmax = 1, xnbin = 40,\n",
    "                    xtitle = 'PFP Razzled Photon Score'\n",
    "                    )\n",
    "#-----------------------------------#\n",
    "if ifSave:\n",
    "    #fig.tight_layout()\n",
    "    plt.savefig(savePath+\"razzled_photon_score_prim_shw_precut.png\", dpi = 200)\n",
    "#-----------------------------------#\n",
    "plt.show()"
   ]
  },
  {
   "cell_type": "markdown",
   "metadata": {},
   "source": [
    "<h1>Multiplicity</h1>"
   ]
  },
  {
   "cell_type": "raw",
   "metadata": {},
   "source": [
    "df_hnl_shw1, df_hnl_shw2 = split_my_df(df_hnl)\n",
    "\n",
    "df_nu_shw1, df_nu_shw2 = split_my_df(df_nu)\n",
    "\n",
    "df_cos_shw1, df_cos_shw2 = split_my_df(df_cos)"
   ]
  },
  {
   "cell_type": "raw",
   "metadata": {},
   "source": [
    "#plot_slc_var(df_hnl_shw2, df_nu_shw2, df_cos_shw2,\n",
    "plot_slc_var(df_hnl_shw2, df_nu_shw2, df_cos,\n",
    "                    true_counts, start_counts, \n",
    "                    'n_pfp', \n",
    "                    scaleHNLPlot,\n",
    "                    xmin = 0, xmax = 10, xnbin = 10,\n",
    "                    xtitle = 'n Razzled Photons'\n",
    "                    )\n",
    "#-----------------------------------#\n",
    "if ifSave:\n",
    "    #fig.tight_layout()\n",
    "    plt.savefig(savePath+\"npfp_two_shw_precut.png\", dpi = 200)\n",
    "#-----------------------------------#\n",
    "plt.show()"
   ]
  },
  {
   "cell_type": "markdown",
   "metadata": {},
   "source": [
    "<h1> Opt0 Score </h1>"
   ]
  },
  {
   "cell_type": "code",
   "execution_count": null,
   "metadata": {},
   "outputs": [],
   "source": [
    "plot_slc_var(df_hnl, df_nu, df_cos,\n",
    "                    true_counts, start_counts, \n",
    "                    'slc_opt0_score', \n",
    "                    scaleHNLPlot,\n",
    "                    xmin = 0, xmax = 40000, xnbin = 40,\n",
    "                    xtitle = 'Opt0 Score'\n",
    "                    )\n",
    "#-----------------------------------#\n",
    "if ifSave:\n",
    "    #fig.tight_layout()\n",
    "    plt.savefig(savePath+\"opt0score_precut.png\", dpi = 200)\n",
    "#-----------------------------------#\n",
    "plt.show()"
   ]
  },
  {
   "cell_type": "raw",
   "metadata": {},
   "source": [
    "if ifTune:\n",
    "    vary_OpT0Score(df_hnl, df_nu, df_cos, true_counts, start_counts)\n",
    "    if ifSave:\n",
    "        plt.savefig(savePath+\"/opt0score_tuning.png\", dpi =200)"
   ]
  },
  {
   "cell_type": "markdown",
   "metadata": {},
   "source": [
    "<h3> Apply Cut </h3>"
   ]
  },
  {
   "cell_type": "raw",
   "metadata": {},
   "source": [
    "score = TuneCut['Opt0Score']\n",
    "print(score)\n",
    "\n",
    "if ifCut:\n",
    "    df_hnl = cutOpt0Score(df_hnl, Opt0Score = score)\n",
    "    df_nu = cutOpt0Score(df_nu, Opt0Score = score)\n",
    "    df_cos = cutOpt0Score(df_cos, Opt0Score = score)"
   ]
  },
  {
   "cell_type": "markdown",
   "metadata": {},
   "source": [
    "<h3>Save Purity/Eff</h3>"
   ]
  },
  {
   "cell_type": "raw",
   "metadata": {},
   "source": [
    "purity, eff = calc_purity_eff(df_hnl, df_nu, df_cos, true_counts, start_counts)\n",
    "\n",
    "purity_arr.append(purity)\n",
    "eff_arr.append(eff)\n",
    "cut_arr.append(\"Opt0 Score\")\n",
    "\n",
    "print(purity_arr)\n",
    "print(eff_arr)\n",
    "print(cut_arr)"
   ]
  },
  {
   "cell_type": "raw",
   "metadata": {},
   "source": [
    "plot_slc_var(df_hnl, df_nu, df_cos,\n",
    "                    true_counts, start_counts, \n",
    "                    'slc_opt0_score', \n",
    "                    scaleHNLPlot,\n",
    "                    xmin = 0, xmax = 40000, xnbin = 40,\n",
    "                    xtitle = 'Opt0 Score'\n",
    "                    )\n",
    "#-----------------------------------#\n",
    "if ifSave:\n",
    "    #fig.tight_layout()\n",
    "    plt.savefig(savePath+\"opt0score_postcut.png\", dpi = 200)\n",
    "#-----------------------------------#\n",
    "plt.show()"
   ]
  },
  {
   "cell_type": "markdown",
   "metadata": {},
   "source": [
    "<h1>Opt0 Frac </h1>"
   ]
  },
  {
   "cell_type": "markdown",
   "metadata": {},
   "source": [
    "<h3>Both 1 and 2+ Shower in Slice</h3>"
   ]
  },
  {
   "cell_type": "code",
   "execution_count": null,
   "metadata": {},
   "outputs": [],
   "source": [
    "plot_slc_var(df_hnl, df_nu, df_cos,\n",
    "                    true_counts, start_counts, \n",
    "                    'slc_opt0_frac', \n",
    "                    scaleHNLPlot,\n",
    "                    xmin = -1, xmax = 2, xnbin = 40,\n",
    "                    xtitle = 'Opt0 Fraction'\n",
    "                    )\n",
    "#-----------------------------------#\n",
    "if ifSave:\n",
    "    #fig.tight_layout()\n",
    "    plt.savefig(savePath+\"opt0frac_precut.png\", dpi = 200)\n",
    "#-----------------------------------#\n",
    "plt.show()"
   ]
  },
  {
   "cell_type": "code",
   "execution_count": null,
   "metadata": {},
   "outputs": [],
   "source": [
    "if ifTune:\n",
    "    vary_OpT0FracMore(df_hnl, df_nu, df_cos, true_counts, start_counts)\n",
    "    if ifSave:\n",
    "        plt.savefig(savePath+\"/opt0frac_more_tuning.png\", dpi =200)"
   ]
  },
  {
   "cell_type": "code",
   "execution_count": null,
   "metadata": {},
   "outputs": [],
   "source": [
    "if ifTune:\n",
    "    vary_OpT0FracLess(df_hnl, df_nu, df_cos, true_counts, start_counts)\n",
    "    if ifSave:\n",
    "        plt.savefig(savePath+\"/opt0frac_less_tuning.png\", dpi =200)"
   ]
  },
  {
   "cell_type": "markdown",
   "metadata": {},
   "source": [
    "<h3> Split 1 and 2+ shower cases </h3>"
   ]
  },
  {
   "cell_type": "code",
   "execution_count": null,
   "metadata": {},
   "outputs": [],
   "source": [
    "df_hnl_shw1, df_hnl_shw2 = split_my_df(df_hnl)\n",
    "\n",
    "df_nu_shw1, df_nu_shw2 = split_my_df(df_nu)\n",
    "\n",
    "df_cos_shw1, df_cos_shw2 = split_my_df(df_cos)"
   ]
  },
  {
   "cell_type": "markdown",
   "metadata": {},
   "source": [
    "<h3> 1 shower cases </h3>"
   ]
  },
  {
   "cell_type": "code",
   "execution_count": null,
   "metadata": {},
   "outputs": [],
   "source": [
    "plot_slc_var(df_hnl_shw1, df_nu_shw1, df_cos_shw1,\n",
    "                    true_counts, start_counts, \n",
    "                    'slc_opt0_frac', \n",
    "                    scaleHNLPlot,\n",
    "                    xmin = -1, xmax = 2, xnbin = 40,\n",
    "                    xtitle = 'Opt0 Fraction'\n",
    "                    )\n",
    "#-----------------------------------#\n",
    "if ifSave:\n",
    "    #fig.tight_layout()\n",
    "    plt.savefig(savePath+\"opt0frac_one_shw_precut.png\", dpi = 200)\n",
    "#-----------------------------------#\n",
    "plt.show()"
   ]
  },
  {
   "cell_type": "code",
   "execution_count": null,
   "metadata": {},
   "outputs": [],
   "source": [
    "if ifTune:\n",
    "    vary_OpT0FracMore(df_hnl_shw1, df_nu_shw1, df_cos_shw1, true_counts, start_counts)\n",
    "    if ifSave:\n",
    "        plt.savefig(savePath+\"/opt0frac_more_one_shw_tuning.png\", dpi =200)"
   ]
  },
  {
   "cell_type": "code",
   "execution_count": null,
   "metadata": {},
   "outputs": [],
   "source": [
    "if ifTune:\n",
    "    vary_OpT0FracLess(df_hnl_shw1, df_nu_shw1, df_cos_shw1, true_counts, start_counts)\n",
    "    if ifSave:\n",
    "        plt.savefig(savePath+\"/opt0frac_less_one_shw_tuning.png\", dpi =200)"
   ]
  },
  {
   "cell_type": "markdown",
   "metadata": {},
   "source": [
    "<h3> 2+ shower cases </h3>"
   ]
  },
  {
   "cell_type": "code",
   "execution_count": null,
   "metadata": {},
   "outputs": [],
   "source": [
    "plot_slc_var(df_hnl_shw2, df_nu_shw2, df_cos_shw2,\n",
    "                    true_counts, start_counts, \n",
    "                    'slc_opt0_frac', \n",
    "                    scaleHNLPlot,\n",
    "                    xmin = -1, xmax = 2, xnbin = 40,\n",
    "                    xtitle = 'Opt0 Fraction'\n",
    "                    )\n",
    "#-----------------------------------#\n",
    "if ifSave:\n",
    "    #fig.tight_layout()\n",
    "    plt.savefig(savePath+\"opt0frac_two_shw_precut.png\", dpi = 200)\n",
    "#-----------------------------------#\n",
    "plt.show()"
   ]
  },
  {
   "cell_type": "code",
   "execution_count": null,
   "metadata": {},
   "outputs": [],
   "source": [
    "if ifTune:\n",
    "    vary_OpT0FracMore(df_hnl_shw2, df_nu_shw2, df_cos_shw2, true_counts, start_counts)\n",
    "    if ifSave:\n",
    "        plt.savefig(savePath+\"/opt0frac_more_two_shw_tuning.png\", dpi =200)"
   ]
  },
  {
   "cell_type": "code",
   "execution_count": null,
   "metadata": {},
   "outputs": [],
   "source": [
    "if ifTune:\n",
    "    vary_OpT0FracLess(df_hnl_shw2, df_nu_shw2, df_cos_shw2, true_counts, start_counts)\n",
    "    if ifSave:\n",
    "        plt.savefig(savePath+\"/opt0frac_less_two_shw_tuning.png\", dpi =200)"
   ]
  },
  {
   "cell_type": "markdown",
   "metadata": {},
   "source": [
    "<h3> Apply Cut </h3>"
   ]
  },
  {
   "cell_type": "markdown",
   "metadata": {},
   "source": [
    "<h3> 1 shower only: harsh cut</h3>"
   ]
  },
  {
   "cell_type": "code",
   "execution_count": null,
   "metadata": {},
   "outputs": [],
   "source": [
    "#fracMore = TuneCut['Opt0FracMore']\n",
    "fracMore = -0.14\n",
    "print(fracMore)\n",
    "fracLess = 0.6\n",
    "print(fracLess)\n",
    "\n",
    "if ifCut:\n",
    "    df_hnl_shw1 = cutOpt0Frac(df_hnl_shw1, Opt0FracMore = fracMore, Opt0FracLess = fracLess)\n",
    "    df_nu_shw1 = cutOpt0Frac(df_nu_shw1, Opt0FracMore = fracMore, Opt0FracLess = fracLess)\n",
    "    df_cos_shw1 = cutOpt0Frac(df_cos_shw1, Opt0FracMore = fracMore, Opt0FracLess = fracLess)"
   ]
  },
  {
   "cell_type": "markdown",
   "metadata": {},
   "source": [
    "<h3> 2+ showers: cut on primary + less harsh cut </h3>"
   ]
  },
  {
   "cell_type": "code",
   "execution_count": null,
   "metadata": {},
   "outputs": [],
   "source": [
    "#fracMore = TuneCut['Opt0FracMore']\n",
    "fracMore = 0\n",
    "print(fracMore)\n",
    "fracLess = 0.6\n",
    "print(fracLess)\n",
    "\n",
    "if ifCut:\n",
    "    df_hnl_shw2 = cutOpt0Frac(df_hnl_shw2, Opt0FracMore = fracMore, Opt0FracLess = fracLess)\n",
    "    df_nu_shw2 = cutOpt0Frac(df_nu_shw2, Opt0FracMore = fracMore, Opt0FracLess = fracLess)\n",
    "    df_cos_shw2 = cutOpt0Frac(df_cos_shw2, Opt0FracMore = fracMore, Opt0FracLess = fracLess)"
   ]
  },
  {
   "cell_type": "code",
   "execution_count": null,
   "metadata": {},
   "outputs": [],
   "source": [
    "df_hnl = apply_shower_cut(df_hnl, df_hnl_shw1, df_hnl_shw2)\n",
    "\n",
    "df_nu = apply_shower_cut(df_nu, df_nu_shw1, df_nu_shw2)\n",
    "\n",
    "df_cos = apply_shower_cut(df_cos, df_cos_shw1, df_cos_shw2)"
   ]
  },
  {
   "cell_type": "markdown",
   "metadata": {},
   "source": [
    "<h3>Save Purity/Eff</h3>"
   ]
  },
  {
   "cell_type": "code",
   "execution_count": null,
   "metadata": {},
   "outputs": [],
   "source": [
    "purity, eff = calc_purity_eff(df_hnl, df_nu, df_cos, true_counts, start_counts)\n",
    "\n",
    "purity_arr.append(purity)\n",
    "eff_arr.append(eff)\n",
    "cut_arr.append(\"Opt0 Fraction\")\n",
    "\n",
    "print(purity_arr)\n",
    "print(eff_arr)\n",
    "print(cut_arr)"
   ]
  },
  {
   "cell_type": "code",
   "execution_count": null,
   "metadata": {},
   "outputs": [],
   "source": [
    "plot_slc_var(df_hnl, df_nu, df_cos,\n",
    "                    true_counts, start_counts, \n",
    "                    'slc_opt0_frac', \n",
    "                    scaleHNLPlot,\n",
    "                    xmin = -1, xmax = 2, xnbin = 40,\n",
    "                    xtitle = 'Opt0 Fraction'\n",
    "                    )\n",
    "#-----------------------------------#\n",
    "if ifSave:\n",
    "    #fig.tight_layout()\n",
    "    plt.savefig(savePath+\"opt0frac_postcut.png\", dpi = 200)\n",
    "#-----------------------------------#\n",
    "plt.show()"
   ]
  },
  {
   "cell_type": "markdown",
   "metadata": {},
   "source": [
    "<h1> Make Beam Bucket - Post Opt0 Frac</h1>"
   ]
  },
  {
   "cell_type": "code",
   "execution_count": null,
   "metadata": {},
   "outputs": [],
   "source": [
    "hist, bins = plot_slc_var(df_hnl, df_nu, df_cos,\n",
    "                    true_counts, start_counts, \n",
    "                    'mod_t', \n",
    "                    scaleHNLPlot,\n",
    "                    xmin = 0, xmax = 19, xnbin = 19,\n",
    "                    xtitle = 'Opt0 Time Corrected Z % ' + str(width) + ' [ns]'\n",
    "                    )\n",
    "\n",
    "#-----------------------------------#\n",
    "if ifSave:\n",
    "    #fig.tight_layout()\n",
    "    plt.savefig(savePath+\"beam_bucket_postopt0.png\", dpi = 200)\n",
    "#-----------------------------------#\n",
    "plt.show()"
   ]
  },
  {
   "cell_type": "markdown",
   "metadata": {},
   "source": [
    "<h1>Shower Theta</h1>"
   ]
  },
  {
   "cell_type": "markdown",
   "metadata": {},
   "source": [
    "<h3> Get Primary Shower </h3>"
   ]
  },
  {
   "cell_type": "code",
   "execution_count": null,
   "metadata": {},
   "outputs": [],
   "source": [
    "df_hnl_prim = get_primary_shw_df(df_hnl)\n",
    "\n",
    "df_nu_prim = get_primary_shw_df(df_nu)\n",
    "\n",
    "df_cos_prim = get_primary_shw_df(df_cos)"
   ]
  },
  {
   "cell_type": "markdown",
   "metadata": {},
   "source": [
    "<h3> Primary Showers of both 1 and 2+ shower cases </h3>"
   ]
  },
  {
   "cell_type": "code",
   "execution_count": null,
   "metadata": {},
   "outputs": [],
   "source": [
    "plot_slc_var(df_hnl_prim, df_nu_prim, df_cos_prim,\n",
    "#plot_slc_var(df_hnl_shw1, df_nu_shw1, df_cos,\n",
    "                    true_counts, start_counts, \n",
    "                    'slc_pfp_shower_theta', \n",
    "                    scaleHNLPlot,\n",
    "                    xmin = 0, xmax = 180, xnbin = 20,\n",
    "                    xtitle = 'Shower Theta'\n",
    "                    )\n",
    "#-----------------------------------#\n",
    "if ifSave:\n",
    "    #fig.tight_layout()\n",
    "    plt.savefig(savePath+\"shower_theta_precut.png\", dpi = 200)\n",
    "#-----------------------------------#\n",
    "plt.show()\n"
   ]
  },
  {
   "cell_type": "code",
   "execution_count": null,
   "metadata": {},
   "outputs": [],
   "source": [
    "if ifTune:\n",
    "    vary_Theta(df_hnl_prim, df_nu_prim, df_cos_prim, true_counts, start_counts)\n",
    "    if ifSave:\n",
    "        plt.savefig(savePath+\"/prim_shower_theta_tuning.png\", dpi =200)"
   ]
  },
  {
   "cell_type": "markdown",
   "metadata": {},
   "source": [
    "<h3> Split 1 and 2+ shower cases </h3>"
   ]
  },
  {
   "cell_type": "code",
   "execution_count": null,
   "metadata": {},
   "outputs": [],
   "source": [
    "df_hnl_shw1, df_hnl_shw2 = split_my_df(df_hnl)\n",
    "\n",
    "df_nu_shw1, df_nu_shw2 = split_my_df(df_nu)\n",
    "\n",
    "df_cos_shw1, df_cos_shw2 = split_my_df(df_cos)"
   ]
  },
  {
   "cell_type": "markdown",
   "metadata": {},
   "source": [
    "<h3> Primary Showers of 1 shower cases </h3>"
   ]
  },
  {
   "cell_type": "code",
   "execution_count": null,
   "metadata": {},
   "outputs": [],
   "source": [
    "plot_slc_var(df_hnl_shw1, df_nu_shw1, df_cos_shw1,\n",
    "#plot_slc_var(df_hnl_shw1, df_nu_shw1, df_cos,\n",
    "                    true_counts, start_counts, \n",
    "                    'slc_pfp_shower_theta', \n",
    "                    scaleHNLPlot,\n",
    "                    xmin = 0, xmax = 180, xnbin = 20,\n",
    "                    xtitle = 'Shower Theta'\n",
    "                    )\n",
    "#-----------------------------------#\n",
    "if ifSave:\n",
    "    #fig.tight_layout()\n",
    "    plt.savefig(savePath+\"one_shower_theta_precut.png\", dpi = 200)\n",
    "#-----------------------------------#\n",
    "plt.show()\n"
   ]
  },
  {
   "cell_type": "code",
   "execution_count": null,
   "metadata": {},
   "outputs": [],
   "source": [
    "if ifTune:\n",
    "    vary_Theta(df_hnl_shw1, df_nu_shw1, df_cos_shw1, true_counts, start_counts)\n",
    "    if ifSave:\n",
    "        plt.savefig(savePath+\"/one_shower_theta_tuning.png\", dpi =200)"
   ]
  },
  {
   "cell_type": "markdown",
   "metadata": {},
   "source": [
    "<h3> All Showers of 2+ shower cases </h3>"
   ]
  },
  {
   "cell_type": "code",
   "execution_count": null,
   "metadata": {},
   "outputs": [],
   "source": [
    "df_nu_shw2 = df_nu_shw2.apply(pd.Series.explode).reset_index()\n",
    "df_hnl_shw2 = df_hnl_shw2.apply(pd.Series.explode).reset_index()\n",
    "df_cos_shw2 = df_cos_shw2.apply(pd.Series.explode).reset_index()"
   ]
  },
  {
   "cell_type": "code",
   "execution_count": null,
   "metadata": {},
   "outputs": [],
   "source": [
    "plot_slc_var(df_hnl_shw2, df_nu_shw2, df_cos_shw2,\n",
    "#plot_slc_var(df_hnl_shw2, df_nu_shw2, df_cos,\n",
    "                    true_counts, start_counts, \n",
    "                    'slc_pfp_shower_theta', \n",
    "                    scaleHNLPlot,\n",
    "                    xmin = 0, xmax = 180, xnbin = 20,\n",
    "                    xtitle = 'Shower Theta'\n",
    "                    )\n",
    "#-----------------------------------#\n",
    "if ifSave:\n",
    "    #fig.tight_layout()\n",
    "    plt.savefig(savePath+\"two_shower_theta_precut.png\", dpi = 200)\n",
    "#-----------------------------------#\n",
    "plt.show()\n"
   ]
  },
  {
   "cell_type": "code",
   "execution_count": null,
   "metadata": {},
   "outputs": [],
   "source": [
    "if ifTune:\n",
    "    vary_Theta(df_hnl_shw2, df_nu_shw2, df_cos_shw2, true_counts, start_counts)\n",
    "    if ifSave:\n",
    "        plt.savefig(savePath+\"/two_shower_theta_tuning.png\", dpi =200)"
   ]
  },
  {
   "cell_type": "markdown",
   "metadata": {},
   "source": [
    "<h3> Primary Showers of 2+ shower cases </h3>"
   ]
  },
  {
   "cell_type": "code",
   "execution_count": null,
   "metadata": {},
   "outputs": [],
   "source": [
    "df_hnl_prim_shw2 = get_primary_shw_df(df_hnl_shw2)\n",
    "\n",
    "df_nu_prim_shw2 = get_primary_shw_df(df_nu_shw2)\n",
    "\n",
    "df_cos_prim_shw2 = get_primary_shw_df(df_cos_shw2)"
   ]
  },
  {
   "cell_type": "code",
   "execution_count": null,
   "metadata": {},
   "outputs": [],
   "source": [
    "plot_slc_var(df_hnl_prim_shw2, df_nu_prim_shw2, df_cos_prim_shw2,\n",
    "#plot_slc_var(df_hnl_shw2, df_nu_shw2, df_cos,\n",
    "                    true_counts, start_counts, \n",
    "                    'slc_pfp_shower_theta', \n",
    "                    scaleHNLPlot,\n",
    "                    xmin = 0, xmax = 180, xnbin = 20,\n",
    "                    xtitle = 'Shower Theta'\n",
    "                    )\n",
    "#-----------------------------------#\n",
    "if ifSave:\n",
    "    #fig.tight_layout()\n",
    "    plt.savefig(savePath+\"two_shower_primary_theta_precut.png\", dpi = 200)\n",
    "#-----------------------------------#\n",
    "plt.show()\n"
   ]
  },
  {
   "cell_type": "code",
   "execution_count": null,
   "metadata": {},
   "outputs": [],
   "source": [
    "if ifTune:\n",
    "    vary_Theta(df_hnl_prim_shw2, df_nu_prim_shw2, df_cos_prim_shw2, true_counts, start_counts)\n",
    "    if ifSave:\n",
    "        plt.savefig(savePath+\"/two_shower_prim_theta_tuning.png\", dpi =200)"
   ]
  },
  {
   "cell_type": "markdown",
   "metadata": {},
   "source": [
    "<h3>Apply Cut</h3>"
   ]
  },
  {
   "cell_type": "markdown",
   "metadata": {},
   "source": [
    "<h3> 1 shower only: harsh cut</h3>"
   ]
  },
  {
   "cell_type": "code",
   "execution_count": null,
   "metadata": {},
   "outputs": [],
   "source": [
    "#angle = TuneCut['OneShowerTheta']\n",
    "angle = 19\n",
    "print(angle)\n",
    "\n",
    "if ifCut:\n",
    "    df_hnl_shw1 = cutThetaAngle(df_hnl_shw1, thetaAngle = angle) \n",
    "    df_nu_shw1 = cutThetaAngle(df_nu_shw1, thetaAngle = angle) \n",
    "    df_cos_shw1 = cutThetaAngle(df_cos_shw1, thetaAngle = angle) \n",
    "#df_cos = cutThetaAngle(df_cos, thetaAngle = angle) "
   ]
  },
  {
   "cell_type": "markdown",
   "metadata": {},
   "source": [
    "<h3> 2+ showers: cut on primary + less harsh cut </h3>"
   ]
  },
  {
   "cell_type": "code",
   "execution_count": null,
   "metadata": {},
   "outputs": [],
   "source": [
    "#angle = TuneCut['TwoShowerTheta']\n",
    "angle = 25\n",
    "print(angle)\n",
    "\n",
    "if ifCut:\n",
    "    df_hnl_prim_shw2 = cutThetaAngle(df_hnl_prim_shw2, thetaAngle = angle) \n",
    "    df_nu_prim_shw2 = cutThetaAngle(df_nu_prim_shw2, thetaAngle = angle) \n",
    "    df_cos_prim_shw2 = cutThetaAngle(df_cos_prim_shw2, thetaAngle = angle) \n",
    "#df_cos = cutThetaAngle(df_cos, thetaAngle = angle) "
   ]
  },
  {
   "cell_type": "code",
   "execution_count": null,
   "metadata": {},
   "outputs": [],
   "source": [
    "df_hnl_shw2 = merge_df_prim(df_hnl_shw2, df_hnl_prim_shw2)\n",
    "\n",
    "df_nu_shw2 = merge_df_prim(df_nu_shw2, df_nu_prim_shw2)\n",
    "\n",
    "df_cos_shw2 = merge_df_prim(df_cos_shw2, df_cos_prim_shw2)"
   ]
  },
  {
   "cell_type": "code",
   "execution_count": null,
   "metadata": {},
   "outputs": [],
   "source": [
    "df_hnl = apply_shower_cut(df_hnl, df_hnl_shw1, df_hnl_shw2)\n",
    "\n",
    "df_nu = apply_shower_cut(df_nu, df_nu_shw1, df_nu_shw2)\n",
    "\n",
    "df_cos = apply_shower_cut(df_cos, df_cos_shw1, df_cos_shw2)"
   ]
  },
  {
   "cell_type": "markdown",
   "metadata": {},
   "source": [
    "<h3>Save Purity/Eff</h3>"
   ]
  },
  {
   "cell_type": "code",
   "execution_count": null,
   "metadata": {},
   "outputs": [],
   "source": [
    "purity, eff = calc_purity_eff(df_hnl, df_nu, df_cos, true_counts, start_counts)\n",
    "\n",
    "purity_arr.append(purity)\n",
    "eff_arr.append(eff)\n",
    "cut_arr.append(\"Shower Theta Cut\")\n",
    "\n",
    "print(purity_arr)\n",
    "print(eff_arr)\n",
    "print(cut_arr)"
   ]
  },
  {
   "cell_type": "markdown",
   "metadata": {},
   "source": [
    "<h1> Make Beam Bucket - Post Shower Theta</h1>"
   ]
  },
  {
   "cell_type": "code",
   "execution_count": null,
   "metadata": {},
   "outputs": [],
   "source": [
    "hist, bins = plot_slc_var(df_hnl, df_nu, df_cos,\n",
    "                    true_counts, start_counts, \n",
    "                    'mod_t', \n",
    "                    scaleHNLPlot,\n",
    "                    xmin = 0, xmax = 19, xnbin = 19,\n",
    "                    xtitle = 'Opt0 Time Corrected Z % ' + str(width) + ' [ns]'\n",
    "                    )\n",
    "\n",
    "#-----------------------------------#\n",
    "if ifSave:\n",
    "    #fig.tight_layout()\n",
    "    plt.savefig(savePath+\"beam_bucket_postshowertheta.png\", dpi = 200)\n",
    "#-----------------------------------#\n",
    "plt.show()"
   ]
  },
  {
   "cell_type": "markdown",
   "metadata": {},
   "source": [
    "<h1>Shower Energy and Conversion Gap</h1>"
   ]
  },
  {
   "cell_type": "markdown",
   "metadata": {},
   "source": [
    "<h3> Get Primary Shower </h3>"
   ]
  },
  {
   "cell_type": "code",
   "execution_count": null,
   "metadata": {},
   "outputs": [],
   "source": [
    "df_hnl_prim = get_primary_shw_df(df_hnl)\n",
    "\n",
    "df_nu_prim = get_primary_shw_df(df_nu)\n",
    "\n",
    "df_cos_prim = get_primary_shw_df(df_cos)"
   ]
  },
  {
   "cell_type": "markdown",
   "metadata": {},
   "source": [
    "<h3> Primary Showers of both 1 and 2+ shower cases </h3>"
   ]
  },
  {
   "cell_type": "code",
   "execution_count": null,
   "metadata": {},
   "outputs": [],
   "source": [
    "plot_slc_var(df_hnl_prim, df_nu_prim, df_cos_prim,\n",
    "                    true_counts, start_counts, \n",
    "                    'slc_pfp_shower_energy', \n",
    "                    scaleHNLPlot,\n",
    "                    xmin = 0, xmax = 2000, xnbin = 100,\n",
    "                    xtitle = 'Shower Energy [MeV]'\n",
    "                    )\n",
    "#-----------------------------------#\n",
    "if ifSave:\n",
    "    #fig.tight_layout()\n",
    "    plt.savefig(savePath+\"prim_shower_energy_postpid.png\", dpi = 200)\n",
    "#-----------------------------------#\n",
    "plt.show()\n",
    "#-----------------------------------#\n",
    "plot_slc_var(df_hnl_prim, df_nu_prim, df_cos_prim,\n",
    "                    true_counts, start_counts, \n",
    "                    'slc_pfp_shower_conv_gap', \n",
    "                    scaleHNLPlot,\n",
    "                    xmin = 0, xmax = 5, xnbin = 40,\n",
    "                    xtitle = 'Shower Conversion Gap [cm]'\n",
    "                    )\n",
    "#-----------------------------------#\n",
    "if ifSave:\n",
    "    #fig.tight_layout()\n",
    "    plt.savefig(savePath+\"prim_shower_convgap_postpid.png\", dpi = 200)\n",
    "#-----------------------------------#\n",
    "plt.show()"
   ]
  },
  {
   "cell_type": "code",
   "execution_count": null,
   "metadata": {},
   "outputs": [],
   "source": [
    "if ifTune:\n",
    "    vary_ShowerEnergy(df_hnl_prim, df_nu_prim, df_cos_prim, true_counts, start_counts)\n",
    "    if ifSave:\n",
    "        plt.savefig(savePath+\"/prim_shower_energy_tuning.png\", dpi =200)"
   ]
  },
  {
   "cell_type": "markdown",
   "metadata": {},
   "source": [
    "<h3> Split into 1 shower and multi shower case </h3>"
   ]
  },
  {
   "cell_type": "code",
   "execution_count": null,
   "metadata": {},
   "outputs": [],
   "source": [
    "df_hnl_shw1, df_hnl_shw2 = split_my_df(df_hnl)\n",
    "\n",
    "df_nu_shw1, df_nu_shw2 = split_my_df(df_nu)\n",
    "\n",
    "#df_cos_shw1, df_cos_shw2 = split_my_df(df_cos)"
   ]
  },
  {
   "cell_type": "markdown",
   "metadata": {},
   "source": [
    "<h3> Primary Showers of 1 shower cases </h3>"
   ]
  },
  {
   "cell_type": "code",
   "execution_count": null,
   "metadata": {},
   "outputs": [],
   "source": [
    "#plot_slc_var(df_hnl_shw1, df_nu_shw1, df_cos_shw1,\n",
    "plot_slc_var(df_hnl_shw1, df_nu_shw1, df_cos,\n",
    "                    true_counts, start_counts, \n",
    "                    'slc_pfp_shower_energy', \n",
    "                    scaleHNLPlot,\n",
    "                    xmin = 0, xmax = 2000, xnbin = 100,\n",
    "                    xtitle = 'Shower Energy [MeV]'\n",
    "                    )\n",
    "#-----------------------------------#\n",
    "if ifSave:\n",
    "    #fig.tight_layout()\n",
    "    plt.savefig(savePath+\"one_shower_energy_postpid.png\", dpi = 200)\n",
    "#-----------------------------------#\n",
    "plt.show()\n",
    "#----------------------------------------------\n",
    "plot_slc_var(df_hnl_shw1, df_nu_shw1, df_cos_shw1,\n",
    "#plot_slc_var(df_hnl_shw1, df_nu_shw1, df_cos,\n",
    "                    true_counts, start_counts, \n",
    "                    'slc_pfp_shower_conv_gap', \n",
    "                    scaleHNLPlot,\n",
    "                    xmin = 0, xmax = 5, xnbin = 40,\n",
    "                    xtitle = 'Shower Conversion Gap [cm]'\n",
    "                    )\n",
    "#-----------------------------------#\n",
    "if ifSave:\n",
    "    #fig.tight_layout()\n",
    "    plt.savefig(savePath+\"one_shower_convgap_postpid.png\", dpi = 200)\n",
    "#-----------------------------------#\n",
    "plt.show()"
   ]
  },
  {
   "cell_type": "code",
   "execution_count": null,
   "metadata": {},
   "outputs": [],
   "source": [
    "if ifTune:\n",
    "    vary_ShowerEnergy(df_hnl_shw1, df_nu_shw1, df_cos_shw1, true_counts, start_counts)\n",
    "    if ifSave:\n",
    "        plt.savefig(savePath+\"/prim_one_shower_energy_tuning.png\", dpi =200)"
   ]
  },
  {
   "cell_type": "markdown",
   "metadata": {},
   "source": [
    "<h3> All Showers of 2+ shower cases </h3>"
   ]
  },
  {
   "cell_type": "code",
   "execution_count": null,
   "metadata": {},
   "outputs": [],
   "source": [
    "df_nu_shw2 = df_nu_shw2.apply(pd.Series.explode).reset_index()\n",
    "df_hnl_shw2 = df_hnl_shw2.apply(pd.Series.explode).reset_index()\n",
    "#df_cos_shw2 = df_cos_shw2.apply(pd.Series.explode).reset_index()"
   ]
  },
  {
   "cell_type": "markdown",
   "metadata": {},
   "source": [
    "<h3> All Showers of 2+ shower cases </h3>"
   ]
  },
  {
   "cell_type": "code",
   "execution_count": null,
   "metadata": {},
   "outputs": [],
   "source": [
    "#plot_slc_var(df_hnl_shw2, df_nu_shw2, df_cos_shw2,\n",
    "plot_slc_var(df_hnl_shw2, df_nu_shw2, df_cos,\n",
    "                    true_counts, start_counts, \n",
    "                    'slc_pfp_shower_energy', \n",
    "                    scaleHNLPlot,\n",
    "                    xmin = 0, xmax = 2000, xnbin = 100,\n",
    "                    xtitle = 'Shower Energy [MeV]'\n",
    "                    )\n",
    "#-----------------------------------#\n",
    "if ifSave:\n",
    "    #fig.tight_layout()\n",
    "    plt.savefig(savePath+\"two_shower_energy_postpid.png\", dpi = 200)\n",
    "#-----------------------------------#\n",
    "plt.show()\n",
    "#----------------------------------------------\n",
    "#plot_slc_var(df_hnl_shw2, df_nu_shw2, df_cos_shw2,\n",
    "plot_slc_var(df_hnl_shw2, df_nu_shw2, df_cos,\n",
    "                    true_counts, start_counts, \n",
    "                    'slc_pfp_shower_conv_gap', \n",
    "                    scaleHNLPlot,\n",
    "                    xmin = 0, xmax = 5, xnbin = 40,\n",
    "                    xtitle = 'Shower Conversion Gap [cm]'\n",
    "                    )\n",
    "#-----------------------------------#\n",
    "if ifSave:\n",
    "    #fig.tight_layout()\n",
    "    plt.savefig(savePath+\"two_shower_convgap_postpid.png\", dpi = 200)\n",
    "#-----------------------------------#\n",
    "plt.show()"
   ]
  },
  {
   "cell_type": "code",
   "execution_count": null,
   "metadata": {},
   "outputs": [],
   "source": [
    "if ifTune:\n",
    "    #vary_ShowerEnergy(df_hnl_shw2, df_nu_shw2, df_cos_shw2, true_counts, start_counts)\n",
    "    vary_ShowerEnergy(df_hnl_shw2, df_nu_shw2, df_cos, true_counts, start_counts)\n",
    "    if ifSave:\n",
    "        plt.savefig(savePath+\"/two_shower_energy_tuning.png\", dpi =200)"
   ]
  },
  {
   "cell_type": "markdown",
   "metadata": {},
   "source": [
    "<h3> Primary Showers of 2+ shower cases </h3>"
   ]
  },
  {
   "cell_type": "code",
   "execution_count": null,
   "metadata": {},
   "outputs": [],
   "source": [
    "df_hnl_prim_shw2 = get_primary_shw_df(df_hnl_shw2)\n",
    "\n",
    "df_nu_prim_shw2 = get_primary_shw_df(df_nu_shw2)\n",
    "\n",
    "#df_cos_prim_shw2 = get_primary_shw_df(df_cos_shw2)\n",
    "df_cos_prim_shw2 = get_primary_shw_df(df_cos)"
   ]
  },
  {
   "cell_type": "code",
   "execution_count": null,
   "metadata": {},
   "outputs": [],
   "source": [
    "#plot_slc_var(df_hnl_shw2, df_nu_shw2, df_cos_shw2,\n",
    "plot_slc_var(df_hnl_prim_shw2, df_nu_prim_shw2, df_cos_prim_shw2,\n",
    "                    true_counts, start_counts, \n",
    "                    'slc_pfp_shower_energy', \n",
    "                    scaleHNLPlot,\n",
    "                    xmin = 0, xmax = 2000, xnbin = 100,\n",
    "                    xtitle = 'Shower Energy [MeV]'\n",
    "                    )\n",
    "#-----------------------------------#\n",
    "if ifSave:\n",
    "    #fig.tight_layout()\n",
    "    plt.savefig(savePath+\"two_prim_shower_energy_postpid.png\", dpi = 200)\n",
    "#-----------------------------------#\n",
    "plt.show()\n",
    "#----------------------------------------------\n",
    "#plot_slc_var(df_hnl_shw2, df_nu_shw2, df_cos_shw2,\n",
    "plot_slc_var(df_hnl_prim_shw2, df_nu_prim_shw2, df_cos_prim_shw2,\n",
    "                    true_counts, start_counts, \n",
    "                    'slc_pfp_shower_conv_gap', \n",
    "                    scaleHNLPlot,\n",
    "                    xmin = 0, xmax = 5, xnbin = 40,\n",
    "                    xtitle = 'Shower Conversion Gap [cm]'\n",
    "                    )\n",
    "#-----------------------------------#\n",
    "if ifSave:\n",
    "    #fig.tight_layout()\n",
    "    plt.savefig(savePath+\"two_prim_shower_convgap_postpid.png\", dpi = 200)\n",
    "#-----------------------------------#\n",
    "plt.show()"
   ]
  },
  {
   "cell_type": "code",
   "execution_count": null,
   "metadata": {},
   "outputs": [],
   "source": [
    "if ifTune:\n",
    "    vary_ShowerEnergy(df_hnl_prim_shw2, df_nu_prim_shw2, df_cos_prim_shw2, true_counts, start_counts)\n",
    "    if ifSave:\n",
    "        plt.savefig(savePath+\"/prim_two_shower_energy_tuning.png\", dpi =200)"
   ]
  },
  {
   "cell_type": "markdown",
   "metadata": {},
   "source": [
    "<h3>Apply Cut</h3>"
   ]
  },
  {
   "cell_type": "markdown",
   "metadata": {},
   "source": [
    "<h3> 1 shower only: harsh cut</h3>"
   ]
  },
  {
   "cell_type": "raw",
   "metadata": {},
   "source": [
    "#angle = TuneCut['OneShowerTheta']\n",
    "energy = 250\n",
    "print(energy)\n",
    "\n",
    "if ifCut:\n",
    "    df_hnl_shw1 = cutShowerEnergy(df_hnl_shw1, energy = energy) \n",
    "    df_nu_shw1 = cutShowerEnergy(df_nu_shw1, energy = energy) \n",
    "    df_cos_shw1 = cutShowerEnergy(df_cos_shw1, energy = energy) "
   ]
  },
  {
   "cell_type": "markdown",
   "metadata": {},
   "source": [
    "<h3> 2+ showers: cut on primary + less harsh cut </h3>"
   ]
  },
  {
   "cell_type": "raw",
   "metadata": {},
   "source": [
    "#angle = TuneCut['TwoShowerTheta']\n",
    "energy = 100\n",
    "print(energy)\n",
    "\n",
    "if ifCut:\n",
    "    df_hnl_prim_shw2 = cutShowerEnergy(df_hnl_prim_shw2, energy = energy)\n",
    "    df_nu_prim_shw2 = cutShowerEnergy(df_nu_prim_shw2, energy = energy)\n",
    "    df_cos_prim_shw2 = cutShowerEnergy(df_cos_prim_shw2, energy = energy)"
   ]
  },
  {
   "cell_type": "raw",
   "metadata": {},
   "source": [
    "df_hnl_shw2 = merge_df_prim(df_hnl_shw2, df_hnl_prim_shw2)\n",
    "\n",
    "df_nu_shw2 = merge_df_prim(df_nu_shw2, df_nu_prim_shw2)\n",
    "\n",
    "df_cos_shw2 = merge_df_prim(df_cos_shw2, df_cos_prim_shw2)"
   ]
  },
  {
   "cell_type": "raw",
   "metadata": {},
   "source": [
    "df_hnl = apply_shower_cut(df_hnl, df_hnl_shw1, df_hnl_shw2)\n",
    "\n",
    "df_nu = apply_shower_cut(df_nu, df_nu_shw1, df_nu_shw2)\n",
    "\n",
    "df_cos = apply_shower_cut(df_cos, df_cos_shw1, df_cos_shw2)"
   ]
  },
  {
   "cell_type": "markdown",
   "metadata": {},
   "source": [
    "<h3>Save Purity/Eff</h3>"
   ]
  },
  {
   "cell_type": "raw",
   "metadata": {},
   "source": [
    "purity, eff = calc_purity_eff(df_hnl, df_nu, df_cos, true_counts, start_counts)\n",
    "\n",
    "purity_arr.append(purity)\n",
    "eff_arr.append(eff)\n",
    "cut_arr.append(\"Shower Energy Cut\")\n",
    "\n",
    "print(purity_arr)\n",
    "print(eff_arr)\n",
    "print(cut_arr)"
   ]
  },
  {
   "cell_type": "markdown",
   "metadata": {},
   "source": [
    "<h1> Make Beam Bucket - Post Shower Energy</h1>"
   ]
  },
  {
   "cell_type": "raw",
   "metadata": {},
   "source": [
    "hist, bins = plot_slc_var(df_hnl, df_nu, df_cos,\n",
    "                    true_counts, start_counts, \n",
    "                    'mod_t', \n",
    "                    scaleHNLPlot,\n",
    "                    xmin = 0, xmax = 19, xnbin = 19,\n",
    "                    xtitle = 'Opt0 Time Corrected Z % ' + str(width) + ' [ns]'\n",
    "                    )\n",
    "\n",
    "#-----------------------------------#\n",
    "if ifSave:\n",
    "    #fig.tight_layout()\n",
    "    plt.savefig(savePath+\"beam_bucket_postShowerE.png\", dpi = 200)\n",
    "#-----------------------------------#\n",
    "plt.show()"
   ]
  },
  {
   "cell_type": "markdown",
   "metadata": {},
   "source": [
    "<h1>Combine Opt0 + Shower Theta Cut</h1>"
   ]
  },
  {
   "cell_type": "markdown",
   "metadata": {},
   "source": [
    "<h3> Primary Showers of both 1 and 2+ shower cases </h3>"
   ]
  },
  {
   "cell_type": "code",
   "execution_count": null,
   "metadata": {},
   "outputs": [],
   "source": [
    "df_hnl_prim = get_primary_shw_df(df_hnl)\n",
    "\n",
    "df_nu_prim = get_primary_shw_df(df_nu)\n",
    "\n",
    "df_cos_prim = get_primary_shw_df(df_cos)"
   ]
  },
  {
   "cell_type": "code",
   "execution_count": null,
   "metadata": {},
   "outputs": [],
   "source": [
    "fig, (ax1, ax2, ax3) = plt.subplots(1, 3, figsize=(12, 4), sharey= True, sharex = True)\n",
    "\n",
    "xmin, xmax = -1,2\n",
    "xnbin = 90\n",
    "\n",
    "ymin, ymax = 0, 180\n",
    "ynbin = 90\n",
    "\n",
    "xlimmin, xlimmax = xmin, xmax\n",
    "ylimmin, ylimmax = ymin, ymax\n",
    "#----------------------------------------------\n",
    "plot_2dhist( df_nu_prim['slc_opt0_frac'], df_nu_prim['slc_pfp_shower_theta'], \n",
    "            ax1, fig, \n",
    "            xmin, xmax, ymin, ymax, xnbin, ynbin,\n",
    "            xlimmin, xlimmax, ylimmin, ylimmax,\n",
    "            ifcbar =True,\n",
    "            iflog = True, cmin= 1, cmax =200,\n",
    "            #weights = df_nu['scale_pot'],\n",
    "            title = 'Neutrino', xtitle = 'Opt0 Fraction', ytitle= 'Shower Theta'\n",
    "                )\n",
    "#----------------------------------------------\n",
    "plot_2dhist( df_hnl_prim['slc_opt0_frac'], df_hnl_prim['slc_pfp_shower_theta'], \n",
    "            ax2, fig, \n",
    "            xmin, xmax, ymin, ymax, xnbin, ynbin,\n",
    "            xlimmin, xlimmax, ylimmin, ylimmax,\n",
    "            ifcbar =True,\n",
    "            #weights = df_hnl['scale_pot'],\n",
    "            iflog = True, cmin= 1, cmax =200,\n",
    "            title = 'HNL', xtitle = 'Opt0 Fraction', ytitle= ''\n",
    "                )\n",
    "#----------------------------------------------\n",
    "plot_2dhist( df_cos_prim['slc_opt0_frac'], df_cos_prim['slc_pfp_shower_theta'], \n",
    "            ax3, fig, \n",
    "            xmin, xmax, ymin, ymax, xnbin, ynbin,\n",
    "            xlimmin, xlimmax, ylimmin, ylimmax,\n",
    "            ifcbar =True,\n",
    "            #weights = df_cos['scale_pot'],\n",
    "            iflog = True, cmin= 1, cmax =200,\n",
    "            title = 'Intime Cosmics', xtitle = 'Opt0 Fraction', ytitle= ''\n",
    "                )\n",
    "#----------------------------------------------\n",
    "#plt.ylim(0,40)\n",
    "\n",
    "ax1.tick_params(bottom = True, top = False, left = True, right = False)\n",
    "ax1.tick_params(axis = 'x', labelsize = 16, direction = 'out')\n",
    "ax1.tick_params(axis = 'y', labelsize = 16, direction = 'out')\n",
    "\n",
    "ax2.tick_params(bottom = True, top = False, left = True, right = False)\n",
    "ax2.tick_params(axis = 'x', labelsize = 16, direction = 'out')\n",
    "ax2.tick_params(axis = 'y', labelsize = 16, direction = 'out')\n",
    "\n",
    "ax3.tick_params(bottom = True, top = False, left = True, right = False)\n",
    "ax3.tick_params(axis = 'x', labelsize = 16, direction = 'out')\n",
    "ax3.tick_params(axis = 'y', labelsize = 16, direction = 'out')\n",
    "\n",
    "#----------------------------------------------\n",
    "#plt.savefig(savePath+\"opt0Score_shower_like.png\", dpi=200)\n",
    "plt.show()"
   ]
  },
  {
   "cell_type": "code",
   "execution_count": null,
   "metadata": {},
   "outputs": [],
   "source": [
    "ifTune = True\n",
    "\n",
    "if ifTune:\n",
    "    vary_ThetaFrac(df_hnl_prim, df_nu_prim, df_cos_prim, true_counts, start_counts)"
   ]
  },
  {
   "cell_type": "code",
   "execution_count": null,
   "metadata": {},
   "outputs": [],
   "source": [
    "fig, (ax1, ax2, ax3) = plt.subplots(1, 3, figsize=(12, 4), sharey= True, sharex = True)\n",
    "\n",
    "xmin, xmax = -1,2\n",
    "xnbin = 90\n",
    "\n",
    "ymin, ymax = 0, 180\n",
    "ynbin = 90\n",
    "\n",
    "xlimmin, xlimmax = xmin, xmax\n",
    "ylimmin, ylimmax = ymin, ymax\n",
    "#----------------------------------------------\n",
    "plot_2dhist( df_nu_prim['slc_opt0_frac'], df_nu_prim['slc_pfp_shower_theta'], \n",
    "            ax1, fig, \n",
    "            xmin, xmax, ymin, ymax, xnbin, ynbin,\n",
    "            xlimmin, xlimmax, ylimmin, ylimmax,\n",
    "            ifcbar =True,\n",
    "            iflog = True, cmin= 1, cmax =200,\n",
    "            #weights = df_nu['scale_pot'],\n",
    "            title = 'Neutrino', xtitle = 'Opt0 Fraction', ytitle= 'Shower Theta'\n",
    "                )\n",
    "#----------------------------------------------\n",
    "plot_2dhist( df_hnl_prim['slc_opt0_frac'], df_hnl_prim['slc_pfp_shower_theta'], \n",
    "            ax2, fig, \n",
    "            xmin, xmax, ymin, ymax, xnbin, ynbin,\n",
    "            xlimmin, xlimmax, ylimmin, ylimmax,\n",
    "            ifcbar =True,\n",
    "            #weights = df_hnl['scale_pot'],\n",
    "            iflog = True, cmin= 1, cmax =200,\n",
    "            title = 'HNL', xtitle = 'Opt0 Fraction', ytitle= ''\n",
    "                )\n",
    "#----------------------------------------------\n",
    "plot_2dhist( df_cos_prim['slc_opt0_frac'], df_cos_prim['slc_pfp_shower_theta'], \n",
    "            ax3, fig, \n",
    "            xmin, xmax, ymin, ymax, xnbin, ynbin,\n",
    "            xlimmin, xlimmax, ylimmin, ylimmax,\n",
    "            ifcbar =True,\n",
    "            #weights = df_cos['scale_pot'],\n",
    "            iflog = True, cmin= 1, cmax =200,\n",
    "            title = 'Intime Cosmics', xtitle = 'Opt0 Fraction', ytitle= ''\n",
    "                )\n",
    "#----------------------------------------------\n",
    "#plt.ylim(0,40)\n",
    "\n",
    "ax1.tick_params(bottom = True, top = False, left = True, right = False)\n",
    "ax1.tick_params(axis = 'x', labelsize = 16, direction = 'out')\n",
    "ax1.tick_params(axis = 'y', labelsize = 16, direction = 'out')\n",
    "\n",
    "ax2.tick_params(bottom = True, top = False, left = True, right = False)\n",
    "ax2.tick_params(axis = 'x', labelsize = 16, direction = 'out')\n",
    "ax2.tick_params(axis = 'y', labelsize = 16, direction = 'out')\n",
    "\n",
    "ax3.tick_params(bottom = True, top = False, left = True, right = False)\n",
    "ax3.tick_params(axis = 'x', labelsize = 16, direction = 'out')\n",
    "ax3.tick_params(axis = 'y', labelsize = 16, direction = 'out')\n",
    "#----------------------------------------------\n",
    "# Creating vectors X and Y\n",
    "x = np.linspace(-1, 2, 100)\n",
    "y = ( x + 1 ) * 20 - 4\n",
    " \n",
    "# Create the plot\n",
    "ax2.plot(x, y, color='r')\n",
    "#----------------------------------------------\n",
    "#plt.savefig(savePath+\"opt0Score_shower_like.png\", dpi=200)\n",
    "plt.show()"
   ]
  },
  {
   "cell_type": "markdown",
   "metadata": {},
   "source": [
    "<h3> Split into 1 shower and multi shower case </h3>"
   ]
  },
  {
   "cell_type": "code",
   "execution_count": null,
   "metadata": {},
   "outputs": [],
   "source": [
    "df_hnl_shw1, df_hnl_shw2 = split_my_df(df_hnl)\n",
    "\n",
    "df_nu_shw1, df_nu_shw2 = split_my_df(df_nu)\n",
    "\n",
    "df_cos_shw1, df_cos_shw2 = split_my_df(df_cos)"
   ]
  },
  {
   "cell_type": "markdown",
   "metadata": {},
   "source": [
    "<h3> Primary Showers of 1 shower cases </h3>"
   ]
  },
  {
   "cell_type": "code",
   "execution_count": null,
   "metadata": {},
   "outputs": [],
   "source": [
    "fig, (ax1, ax2, ax3) = plt.subplots(1, 3, figsize=(12, 4), sharey= True, sharex = True)\n",
    "\n",
    "xmin, xmax = -1,2\n",
    "xnbin = 90\n",
    "\n",
    "ymin, ymax = 0, 180\n",
    "ynbin = 90\n",
    "\n",
    "xlimmin, xlimmax = xmin, xmax\n",
    "ylimmin, ylimmax = ymin, ymax\n",
    "#----------------------------------------------\n",
    "plot_2dhist( df_nu_shw1['slc_opt0_frac'], df_nu_shw1['slc_pfp_shower_theta'], \n",
    "            ax1, fig, \n",
    "            xmin, xmax, ymin, ymax, xnbin, ynbin,\n",
    "            xlimmin, xlimmax, ylimmin, ylimmax,\n",
    "            ifcbar =True,\n",
    "            iflog = True, cmin= 1, cmax =200,\n",
    "            #weights = df_nu['scale_pot'],\n",
    "            title = 'Neutrino', xtitle = 'Opt0 Fraction', ytitle= 'Shower Theta'\n",
    "                )\n",
    "#----------------------------------------------\n",
    "plot_2dhist( df_hnl_shw1['slc_opt0_frac'], df_hnl_shw1['slc_pfp_shower_theta'], \n",
    "            ax2, fig, \n",
    "            xmin, xmax, ymin, ymax, xnbin, ynbin,\n",
    "            xlimmin, xlimmax, ylimmin, ylimmax,\n",
    "            ifcbar =True,\n",
    "            #weights = df_hnl['scale_pot'],\n",
    "            iflog = True, cmin= 1, cmax =200,\n",
    "            title = 'HNL', xtitle = 'Opt0 Fraction', ytitle= ''\n",
    "                )\n",
    "#----------------------------------------------\n",
    "plot_2dhist( df_cos_shw1['slc_opt0_frac'], df_cos_shw1['slc_pfp_shower_theta'], \n",
    "            ax3, fig, \n",
    "            xmin, xmax, ymin, ymax, xnbin, ynbin,\n",
    "            xlimmin, xlimmax, ylimmin, ylimmax,\n",
    "            ifcbar =True,\n",
    "            #weights = df_cos['scale_pot'],\n",
    "            iflog = True, cmin= 1, cmax =200,\n",
    "            title = 'Intime Cosmics', xtitle = 'Opt0 Fraction', ytitle= ''\n",
    "                )\n",
    "#----------------------------------------------\n",
    "#plt.ylim(0,40)\n",
    "\n",
    "ax1.tick_params(bottom = True, top = False, left = True, right = False)\n",
    "ax1.tick_params(axis = 'x', labelsize = 16, direction = 'out')\n",
    "ax1.tick_params(axis = 'y', labelsize = 16, direction = 'out')\n",
    "\n",
    "ax2.tick_params(bottom = True, top = False, left = True, right = False)\n",
    "ax2.tick_params(axis = 'x', labelsize = 16, direction = 'out')\n",
    "ax2.tick_params(axis = 'y', labelsize = 16, direction = 'out')\n",
    "\n",
    "ax3.tick_params(bottom = True, top = False, left = True, right = False)\n",
    "ax3.tick_params(axis = 'x', labelsize = 16, direction = 'out')\n",
    "ax3.tick_params(axis = 'y', labelsize = 16, direction = 'out')\n",
    "\n",
    "#----------------------------------------------\n",
    "#plt.savefig(savePath+\"opt0Score_shower_like.png\", dpi=200)\n",
    "plt.show()"
   ]
  },
  {
   "cell_type": "code",
   "execution_count": null,
   "metadata": {},
   "outputs": [],
   "source": [
    "ifTune = True\n",
    "\n",
    "if ifTune:\n",
    "    vary_ThetaFrac(df_hnl_shw1, df_nu_shw1, df_cos_shw1, true_counts, start_counts)"
   ]
  },
  {
   "cell_type": "code",
   "execution_count": null,
   "metadata": {},
   "outputs": [],
   "source": [
    "fig, (ax1, ax2, ax3) = plt.subplots(1, 3, figsize=(12, 4), sharey= True, sharex = True)\n",
    "\n",
    "xmin, xmax = -1,2\n",
    "xnbin = 90\n",
    "\n",
    "ymin, ymax = 0, 180\n",
    "ynbin = 90\n",
    "\n",
    "xlimmin, xlimmax = xmin, xmax\n",
    "ylimmin, ylimmax = ymin, ymax\n",
    "#----------------------------------------------\n",
    "plot_2dhist( df_nu_shw1['slc_opt0_frac'], df_nu_shw1['slc_pfp_shower_theta'], \n",
    "            ax1, fig, \n",
    "            xmin, xmax, ymin, ymax, xnbin, ynbin,\n",
    "            xlimmin, xlimmax, ylimmin, ylimmax,\n",
    "            ifcbar =True,\n",
    "            iflog = True, cmin= 1, cmax =200,\n",
    "            #weights = df_nu['scale_pot'],\n",
    "            title = 'Neutrino', xtitle = 'Opt0 Fraction', ytitle= 'Shower Theta'\n",
    "                )\n",
    "#----------------------------------------------\n",
    "plot_2dhist( df_hnl_shw1['slc_opt0_frac'], df_hnl_shw1['slc_pfp_shower_theta'], \n",
    "            ax2, fig, \n",
    "            xmin, xmax, ymin, ymax, xnbin, ynbin,\n",
    "            xlimmin, xlimmax, ylimmin, ylimmax,\n",
    "            ifcbar =True,\n",
    "            #weights = df_hnl['scale_pot'],\n",
    "            iflog = True, cmin= 1, cmax =200,\n",
    "            title = 'HNL', xtitle = 'Opt0 Fraction', ytitle= ''\n",
    "                )\n",
    "#----------------------------------------------\n",
    "plot_2dhist( df_cos_shw1['slc_opt0_frac'], df_cos_shw1['slc_pfp_shower_theta'], \n",
    "            ax3, fig, \n",
    "            xmin, xmax, ymin, ymax, xnbin, ynbin,\n",
    "            xlimmin, xlimmax, ylimmin, ylimmax,\n",
    "            ifcbar =True,\n",
    "            #weights = df_cos['scale_pot'],\n",
    "            iflog = True, cmin= 1, cmax =200,\n",
    "            title = 'Intime Cosmics', xtitle = 'Opt0 Fraction', ytitle= ''\n",
    "                )\n",
    "#----------------------------------------------\n",
    "#plt.ylim(0,40)\n",
    "\n",
    "ax1.tick_params(bottom = True, top = False, left = True, right = False)\n",
    "ax1.tick_params(axis = 'x', labelsize = 16, direction = 'out')\n",
    "ax1.tick_params(axis = 'y', labelsize = 16, direction = 'out')\n",
    "\n",
    "ax2.tick_params(bottom = True, top = False, left = True, right = False)\n",
    "ax2.tick_params(axis = 'x', labelsize = 16, direction = 'out')\n",
    "ax2.tick_params(axis = 'y', labelsize = 16, direction = 'out')\n",
    "\n",
    "ax3.tick_params(bottom = True, top = False, left = True, right = False)\n",
    "ax3.tick_params(axis = 'x', labelsize = 16, direction = 'out')\n",
    "ax3.tick_params(axis = 'y', labelsize = 16, direction = 'out')\n",
    "#----------------------------------------------\n",
    "# Creating vectors X and Y\n",
    "x = np.linspace(-1, 2, 100)\n",
    "y = ( x + 1 ) * 15 - 2\n",
    " \n",
    "# Create the plot\n",
    "ax2.plot(x, y, color='r')\n",
    "#----------------------------------------------\n",
    "#plt.savefig(savePath+\"opt0Score_shower_like.png\", dpi=200)\n",
    "plt.show()"
   ]
  },
  {
   "cell_type": "markdown",
   "metadata": {},
   "source": [
    "<h3> Primary Showers of 2+ shower cases </h3>"
   ]
  },
  {
   "cell_type": "code",
   "execution_count": null,
   "metadata": {},
   "outputs": [],
   "source": [
    "df_nu_shw2 = df_nu_shw2.apply(pd.Series.explode).reset_index()\n",
    "df_hnl_shw2 = df_hnl_shw2.apply(pd.Series.explode).reset_index()\n",
    "df_cos_shw2 = df_cos_shw2.apply(pd.Series.explode).reset_index()"
   ]
  },
  {
   "cell_type": "code",
   "execution_count": null,
   "metadata": {},
   "outputs": [],
   "source": [
    "df_hnl_prim_shw2 = get_primary_shw_df(df_hnl_shw2)\n",
    "\n",
    "df_nu_prim_shw2 = get_primary_shw_df(df_nu_shw2)\n",
    "\n",
    "df_cos_prim_shw2 = get_primary_shw_df(df_cos_shw2)\n",
    "#df_cos_prim_shw2 = get_primary_shw_df(df_cos)"
   ]
  },
  {
   "cell_type": "code",
   "execution_count": null,
   "metadata": {},
   "outputs": [],
   "source": [
    "df_hnl_prim_shw2"
   ]
  },
  {
   "cell_type": "code",
   "execution_count": null,
   "metadata": {},
   "outputs": [],
   "source": [
    "fig, (ax1, ax2, ax3) = plt.subplots(1, 3, figsize=(12, 4), sharey= True, sharex = True)\n",
    "\n",
    "xmin, xmax = -1,2\n",
    "xnbin = 90\n",
    "\n",
    "ymin, ymax = 0, 180\n",
    "ynbin = 90\n",
    "\n",
    "xlimmin, xlimmax = xmin, xmax\n",
    "ylimmin, ylimmax = ymin, ymax\n",
    "#----------------------------------------------\n",
    "plot_2dhist( df_nu_prim_shw2['slc_opt0_frac'], df_nu_prim_shw2['slc_pfp_shower_theta'], \n",
    "            ax1, fig, \n",
    "            xmin, xmax, ymin, ymax, xnbin, ynbin,\n",
    "            xlimmin, xlimmax, ylimmin, ylimmax,\n",
    "            ifcbar =True,\n",
    "            iflog = True, cmin= 1, cmax =200,\n",
    "            #weights = df_nu['scale_pot'],\n",
    "            title = 'Neutrino', xtitle = 'Opt0 Fraction', ytitle= 'Shower Theta'\n",
    "                )\n",
    "#----------------------------------------------\n",
    "plot_2dhist( df_hnl_prim_shw2['slc_opt0_frac'], df_hnl_prim_shw2['slc_pfp_shower_theta'], \n",
    "            ax2, fig, \n",
    "            xmin, xmax, ymin, ymax, xnbin, ynbin,\n",
    "            xlimmin, xlimmax, ylimmin, ylimmax,\n",
    "            ifcbar =True,\n",
    "            #weights = df_hnl['scale_pot'],\n",
    "            iflog = True, cmin= 1, cmax =200,\n",
    "            title = 'HNL', xtitle = 'Opt0 Fraction', ytitle= ''\n",
    "                )\n",
    "#----------------------------------------------\n",
    "plot_2dhist( df_cos_prim_shw2['slc_opt0_frac'], df_cos_prim_shw2['slc_pfp_shower_theta'], \n",
    "            ax3, fig, \n",
    "            xmin, xmax, ymin, ymax, xnbin, ynbin,\n",
    "            xlimmin, xlimmax, ylimmin, ylimmax,\n",
    "            ifcbar =True,\n",
    "            #weights = df_cos['scale_pot'],\n",
    "            iflog = True, cmin= 1, cmax =200,\n",
    "            title = 'Intime Cosmics', xtitle = 'Opt0 Fraction', ytitle= ''\n",
    "                )\n",
    "#----------------------------------------------\n",
    "#plt.ylim(0,40)\n",
    "\n",
    "ax1.tick_params(bottom = True, top = False, left = True, right = False)\n",
    "ax1.tick_params(axis = 'x', labelsize = 16, direction = 'out')\n",
    "ax1.tick_params(axis = 'y', labelsize = 16, direction = 'out')\n",
    "\n",
    "ax2.tick_params(bottom = True, top = False, left = True, right = False)\n",
    "ax2.tick_params(axis = 'x', labelsize = 16, direction = 'out')\n",
    "ax2.tick_params(axis = 'y', labelsize = 16, direction = 'out')\n",
    "\n",
    "ax3.tick_params(bottom = True, top = False, left = True, right = False)\n",
    "ax3.tick_params(axis = 'x', labelsize = 16, direction = 'out')\n",
    "ax3.tick_params(axis = 'y', labelsize = 16, direction = 'out')\n",
    "\n",
    "#----------------------------------------------\n",
    "#plt.savefig(savePath+\"opt0Score_shower_like.png\", dpi=200)\n",
    "plt.show()"
   ]
  },
  {
   "cell_type": "code",
   "execution_count": null,
   "metadata": {},
   "outputs": [],
   "source": [
    "ifTune = True\n",
    "\n",
    "if ifTune:\n",
    "    vary_ThetaFrac(df_hnl_prim_shw2, df_nu_prim_shw2, df_cos_prim_shw2, true_counts, start_counts)"
   ]
  },
  {
   "cell_type": "code",
   "execution_count": null,
   "metadata": {},
   "outputs": [],
   "source": [
    "fig, (ax1, ax2, ax3) = plt.subplots(1, 3, figsize=(12, 4), sharey= True, sharex = True)\n",
    "\n",
    "xmin, xmax = -1,2\n",
    "xnbin = 90\n",
    "\n",
    "ymin, ymax = 0, 180\n",
    "ynbin = 90\n",
    "\n",
    "xlimmin, xlimmax = xmin, xmax\n",
    "ylimmin, ylimmax = ymin, ymax\n",
    "#----------------------------------------------\n",
    "plot_2dhist( df_nu_prim_shw2['slc_opt0_frac'], df_nu_prim_shw2['slc_pfp_shower_theta'], \n",
    "            ax1, fig, \n",
    "            xmin, xmax, ymin, ymax, xnbin, ynbin,\n",
    "            xlimmin, xlimmax, ylimmin, ylimmax,\n",
    "            ifcbar =True,\n",
    "            iflog = True, cmin= 1, cmax =200,\n",
    "            #weights = df_nu['scale_pot'],\n",
    "            title = 'Neutrino', xtitle = 'Opt0 Fraction', ytitle= 'Shower Theta'\n",
    "                )\n",
    "#----------------------------------------------\n",
    "plot_2dhist( df_hnl_prim_shw2['slc_opt0_frac'], df_hnl_prim_shw2['slc_pfp_shower_theta'], \n",
    "            ax2, fig, \n",
    "            xmin, xmax, ymin, ymax, xnbin, ynbin,\n",
    "            xlimmin, xlimmax, ylimmin, ylimmax,\n",
    "            ifcbar =True,\n",
    "            #weights = df_hnl['scale_pot'],\n",
    "            iflog = True, cmin= 1, cmax =200,\n",
    "            title = 'HNL', xtitle = 'Opt0 Fraction', ytitle= ''\n",
    "                )\n",
    "#----------------------------------------------\n",
    "plot_2dhist( df_cos_prim_shw2['slc_opt0_frac'], df_cos_prim_shw2['slc_pfp_shower_theta'], \n",
    "            ax3, fig, \n",
    "            xmin, xmax, ymin, ymax, xnbin, ynbin,\n",
    "            xlimmin, xlimmax, ylimmin, ylimmax,\n",
    "            ifcbar =True,\n",
    "            #weights = df_cos['scale_pot'],\n",
    "            iflog = True, cmin= 1, cmax =200,\n",
    "            title = 'Intime Cosmics', xtitle = 'Opt0 Fraction', ytitle= ''\n",
    "                )\n",
    "#----------------------------------------------\n",
    "#plt.ylim(0,40)\n",
    "\n",
    "ax1.tick_params(bottom = True, top = False, left = True, right = False)\n",
    "ax1.tick_params(axis = 'x', labelsize = 16, direction = 'out')\n",
    "ax1.tick_params(axis = 'y', labelsize = 16, direction = 'out')\n",
    "\n",
    "ax2.tick_params(bottom = True, top = False, left = True, right = False)\n",
    "ax2.tick_params(axis = 'x', labelsize = 16, direction = 'out')\n",
    "ax2.tick_params(axis = 'y', labelsize = 16, direction = 'out')\n",
    "\n",
    "ax3.tick_params(bottom = True, top = False, left = True, right = False)\n",
    "ax3.tick_params(axis = 'x', labelsize = 16, direction = 'out')\n",
    "ax3.tick_params(axis = 'y', labelsize = 16, direction = 'out')\n",
    "#----------------------------------------------\n",
    "# Creating vectors X and Y\n",
    "x = np.linspace(-1, 2, 100)\n",
    "y = ( x + 1 ) * 19 - 0\n",
    " \n",
    "# Create the plot\n",
    "ax2.plot(x, y, color='r')\n",
    "#----------------------------------------------\n",
    "#plt.savefig(savePath+\"opt0Score_shower_like.png\", dpi=200)\n",
    "plt.show()"
   ]
  },
  {
   "cell_type": "markdown",
   "metadata": {},
   "source": [
    "<h3>Apply Cut</h3>"
   ]
  },
  {
   "cell_type": "raw",
   "metadata": {},
   "source": [
    "#harsh: m = 10, c = 0\n",
    "#not harsh m = 18, c = 0\n",
    "\n",
    "df_hnl_prim = cutThetaFrac(df_hnl_prim, 18, 0)\n",
    "\n",
    "df_nu_prim = cutThetaFrac(df_nu_prim, 18, 0)\n",
    "\n",
    "df_cos_prim = cutThetaFrac(df_cos_prim, 18, 0)"
   ]
  },
  {
   "cell_type": "markdown",
   "metadata": {},
   "source": [
    "<h3> 1 shower only: harsh cut</h3>"
   ]
  },
  {
   "cell_type": "code",
   "execution_count": null,
   "metadata": {},
   "outputs": [],
   "source": [
    "#harsh: m = 10, c = 0\n",
    "m=15\n",
    "c=-2\n",
    "\n",
    "if ifCut:\n",
    "    df_hnl_shw1 = cutThetaFrac(df_hnl_shw1, m, c)\n",
    "    df_nu_shw1 = cutThetaFrac(df_nu_shw1, m, c)\n",
    "    df_cos_shw1 = cutThetaFrac(df_cos_shw1, m, c)"
   ]
  },
  {
   "cell_type": "markdown",
   "metadata": {},
   "source": [
    "<h3> 2+ showers: cut on primary + less harsh cut </h3>"
   ]
  },
  {
   "cell_type": "code",
   "execution_count": null,
   "metadata": {},
   "outputs": [],
   "source": [
    "#angle = TuneCut['TwoShowerTheta']\n",
    "m=19\n",
    "c=0\n",
    "\n",
    "if ifCut:\n",
    "    df_hnl_prim_shw2 = cutThetaFrac(df_hnl_prim_shw2, m, c)\n",
    "    df_nu_prim_shw2 = cutThetaFrac(df_nu_prim_shw2, m, c)\n",
    "    df_cos_prim_shw2 = cutThetaFrac(df_cos_prim_shw2, m, c)"
   ]
  },
  {
   "cell_type": "code",
   "execution_count": null,
   "metadata": {},
   "outputs": [],
   "source": [
    "df_hnl_shw2 = merge_df_prim(df_hnl_shw2, df_hnl_prim_shw2)\n",
    "\n",
    "df_nu_shw2 = merge_df_prim(df_nu_shw2, df_nu_prim_shw2)\n",
    "\n",
    "df_cos_shw2 = merge_df_prim(df_cos_shw2, df_cos_prim_shw2)"
   ]
  },
  {
   "cell_type": "code",
   "execution_count": null,
   "metadata": {},
   "outputs": [],
   "source": [
    "df_hnl = apply_shower_cut(df_hnl, df_hnl_shw1, df_hnl_shw2)\n",
    "\n",
    "df_nu = apply_shower_cut(df_nu, df_nu_shw1, df_nu_shw2)\n",
    "\n",
    "df_cos = apply_shower_cut(df_cos, df_cos_shw1, df_cos_shw2)"
   ]
  },
  {
   "cell_type": "markdown",
   "metadata": {},
   "source": [
    "<h3>Save Purity/Eff</h3>"
   ]
  },
  {
   "cell_type": "code",
   "execution_count": null,
   "metadata": {},
   "outputs": [],
   "source": [
    "purity, eff = calc_purity_eff(df_hnl, df_nu, df_cos, true_counts, start_counts)\n",
    "\n",
    "purity_arr.append(purity)\n",
    "eff_arr.append(eff)\n",
    "cut_arr.append(\"Combined Theta + Opt0 Frac Cut\")\n",
    "\n",
    "print(purity_arr)\n",
    "print(eff_arr)\n",
    "print(cut_arr)"
   ]
  },
  {
   "cell_type": "markdown",
   "metadata": {},
   "source": [
    "<h1> Make Beam Bucket - Post Shower Energy</h1>"
   ]
  },
  {
   "cell_type": "code",
   "execution_count": null,
   "metadata": {},
   "outputs": [],
   "source": [
    "hist, bins = plot_slc_var(df_hnl, df_nu, df_cos,\n",
    "                    true_counts, start_counts, \n",
    "                    'mod_t', \n",
    "                    scaleHNLPlot,\n",
    "                    xmin = 0, xmax = 19, xnbin = 19,\n",
    "                    xtitle = 'Opt0 Time Corrected Z % ' + str(width) + ' [ns]'\n",
    "                    )\n",
    "\n",
    "#-----------------------------------#\n",
    "if ifSave:\n",
    "    #fig.tight_layout()\n",
    "    plt.savefig(savePath+\"beam_bucket_postCombinedThetaFrac.png\", dpi = 200)\n",
    "#-----------------------------------#\n",
    "plt.show()"
   ]
  },
  {
   "cell_type": "markdown",
   "metadata": {},
   "source": [
    "<h1>2 Shower Case: Pi0 Mass </h1>"
   ]
  },
  {
   "cell_type": "markdown",
   "metadata": {},
   "source": [
    "<h3> Split into 1 shower and multi shower case again! </h3>"
   ]
  },
  {
   "cell_type": "code",
   "execution_count": null,
   "metadata": {},
   "outputs": [],
   "source": [
    "df_hnl_shw1, df_hnl_shw2 = split_my_df(df_hnl)\n",
    "\n",
    "df_nu_shw1, df_nu_shw2 = split_my_df(df_nu)\n",
    "\n",
    "#df_cos_shw1, df_cos_shw2 = split_my_df(df_cos)"
   ]
  },
  {
   "cell_type": "code",
   "execution_count": null,
   "metadata": {},
   "outputs": [],
   "source": [
    "df_hnl_shw2['pi0_mass'] = df_hnl_shw2.apply(lambda row: pi0mass(row), axis = 1)\n",
    "\n",
    "df_nu_shw2['pi0_mass'] = df_nu_shw2.apply(lambda row: pi0mass(row), axis = 1)\n",
    "\n",
    "df_cos['pi0_mass']  = \"\"\n",
    "#df_cos_shw2['pi0_mass'] = df_cos_shw2.apply(lambda row: pi0mass(row), axis = 1)\n"
   ]
  },
  {
   "cell_type": "code",
   "execution_count": null,
   "metadata": {},
   "outputs": [],
   "source": [
    "df_hnl_prim_shw2 = get_primary_shw_df(df_hnl_shw2)\n",
    "\n",
    "df_nu_prim_shw2 = get_primary_shw_df(df_nu_shw2)\n",
    "\n",
    "#df_cos_prim_shw2 = get_primary_shw_df(df_cos_shw2)\n",
    "df_cos_prim_shw2 = get_primary_shw_df(df_cos)"
   ]
  },
  {
   "cell_type": "code",
   "execution_count": null,
   "metadata": {},
   "outputs": [],
   "source": [
    "plot_slc_var(df_hnl_prim_shw2, df_nu_prim_shw2, df_cos,\n",
    "#plot_slc_var(df_hnl_prim_shw2, df_nu_prim_shw2, df_cos_prim_shw2,\n",
    "                    true_counts, start_counts, \n",
    "                    'pi0_mass', \n",
    "                    scaleHNLPlot,\n",
    "                    xmin = 0, xmax = 600, xnbin = 50,\n",
    "                    xtitle = 'Pi 0 Mass [MeV]'\n",
    "            )\n",
    "# only one line may be specified; full height\n",
    "plt.axvline(x = 135, color = col_dict['Aqua'], linewidth = 3)\n",
    "\n",
    "#-----------------------------------#\n",
    "if ifSave:\n",
    "    #fig.tight_layout()\n",
    "    plt.savefig(savePath+\"pizero_mass_precut.png\", dpi = 200)\n",
    "#-----------------------------------#\n",
    "\n",
    "plt.show()"
   ]
  },
  {
   "cell_type": "markdown",
   "metadata": {},
   "source": [
    "<h3>Apply Cut</h3>"
   ]
  },
  {
   "cell_type": "raw",
   "metadata": {},
   "source": [
    "df_hnl_prim_shw2 = df_hnl_prim_shw2[(df_hnl_prim_shw2['pi0_mass'] > 20) &(df_hnl_prim_shw2['pi0_mass'] < 250)]\n",
    "df_nu_prim_shw2 = df_nu_prim_shw2[(df_nu_prim_shw2['pi0_mass'] > 20) &(df_nu_prim_shw2['pi0_mass'] < 250)]\n",
    "df_cos_prim_shw2 = df_cos_prim_shw2[(df_cos_prim_shw2['pi0_mass'] > 20) &(df_cos_prim_shw2['pi0_mass'] < 250)]"
   ]
  },
  {
   "cell_type": "raw",
   "metadata": {},
   "source": [
    "#plot_slc_var(df_hnl_shw2, df_nu_shw2, df_cos,\n",
    "plot_slc_var(df_hnl_prim_shw2, df_nu_prim_shw2, df_cos_prim_shw2,\n",
    "                    true_counts, start_counts, \n",
    "                    'pi0_mass', \n",
    "                    scaleHNLPlot,\n",
    "                    xmin = 0, xmax = 600, xnbin = 50,\n",
    "                    xtitle = 'Pi 0 Mass [MeV]'\n",
    "            )\n",
    "# only one line may be specified; full height\n",
    "plt.axvline(x = 135, color = col_dict['Aqua'], linewidth = 3)\n",
    "\n",
    "#-----------------------------------#\n",
    "if ifSave:\n",
    "    #fig.tight_layout()\n",
    "    plt.savefig(savePath+\"pizero_mass_postcut.png\", dpi = 200)\n",
    "#-----------------------------------#\n",
    "\n",
    "plt.show()"
   ]
  },
  {
   "cell_type": "markdown",
   "metadata": {},
   "source": [
    "<h3>Merge The Cut Back</h3>"
   ]
  },
  {
   "cell_type": "raw",
   "metadata": {},
   "source": [
    "df_hnl_shw2 = merge_df_prim(df_hnl_shw2, df_hnl_prim_shw2)\n",
    "\n",
    "df_nu_shw2 = merge_df_prim(df_nu_shw2, df_nu_prim_shw2)\n",
    "\n",
    "df_cos_shw2 = merge_df_prim(df_cos_shw2, df_cos_prim_shw2)"
   ]
  },
  {
   "cell_type": "raw",
   "metadata": {},
   "source": [
    "df_hnl = apply_shower_cut(df_hnl, df_hnl_shw1, df_hnl_shw2)\n",
    "\n",
    "df_nu = apply_shower_cut(df_nu, df_nu_shw1, df_nu_shw2)\n",
    "\n",
    "df_cos = apply_shower_cut(df_cos, df_cos_shw1, df_cos_shw2)"
   ]
  },
  {
   "cell_type": "markdown",
   "metadata": {},
   "source": [
    "<h3>Save Purity/Eff</h3>"
   ]
  },
  {
   "cell_type": "raw",
   "metadata": {},
   "source": [
    "purity, eff = calc_purity_eff(df_hnl, df_nu, df_cos, true_counts, start_counts)\n",
    "\n",
    "purity_arr.append(purity)\n",
    "eff_arr.append(eff)\n",
    "cut_arr.append(\"Pion Zero Mass\")\n",
    "\n",
    "print(purity_arr)\n",
    "print(eff_arr)\n",
    "print(cut_arr)"
   ]
  },
  {
   "cell_type": "markdown",
   "metadata": {},
   "source": [
    "<h1> Make Beam Bucket - Post PiZeroMass</h1>"
   ]
  },
  {
   "cell_type": "raw",
   "metadata": {},
   "source": [
    "hist, bins = plot_slc_var(df_hnl, df_nu, df_cos,\n",
    "                    true_counts, start_counts, \n",
    "                    'mod_t', \n",
    "                    scaleHNLPlot,\n",
    "                    xmin = 0, xmax = 19, xnbin = 19,\n",
    "                    xtitle = 'Opt0 Time Corrected Z % ' + str(width) + ' [ns]'\n",
    "                    )\n",
    "\n",
    "#-----------------------------------#\n",
    "if ifSave:\n",
    "    #fig.tight_layout()\n",
    "    plt.savefig(savePath+\"beam_bucket_postpi0mass.png\", dpi = 200)\n",
    "#-----------------------------------#\n",
    "plt.show()"
   ]
  },
  {
   "cell_type": "markdown",
   "metadata": {},
   "source": [
    "<h1>Electron</h1>"
   ]
  },
  {
   "cell_type": "code",
   "execution_count": null,
   "metadata": {},
   "outputs": [],
   "source": [
    "df_hnl_prim = get_primary_shw_df(df_hnl)\n",
    "\n",
    "df_nu_prim = get_primary_shw_df(df_nu)\n",
    "\n",
    "df_cos_prim = get_primary_shw_df(df_cos)"
   ]
  },
  {
   "cell_type": "code",
   "execution_count": null,
   "metadata": {},
   "outputs": [],
   "source": [
    "width = 19.00\n",
    "\n",
    "df_hnl_prim['mod_t'] = df_hnl_prim['slc_opt0_time_corrected_Z_pandora']%width\n",
    "df_nu_prim['mod_t'] = df_nu_prim['slc_opt0_time_corrected_Z_pandora']%width\n",
    "df_cos_prim['mod_t'] = df_cos_prim['slc_opt0_time_corrected_Z_pandora']%width\n",
    "#----------------------------------------------\n",
    "\n",
    "hist, bins = plot_slc_var(\n",
    "                    df_hnl_prim\n",
    "                    , df_nu_prim\n",
    "                    , df_cos_prim\n",
    "                    , true_counts, start_counts, \n",
    "                    'mod_t', \n",
    "                    scaleHNLPlot,\n",
    "                    xmin = 0, xmax = 19, xnbin = 19,\n",
    "                    xtitle = 'Opt0 Time Corrected Z % ' + str(width) + ' [ns]'\n",
    "                    )\n",
    "\n",
    "#-----------------------------------#\n",
    "if ifSave:\n",
    "    #fig.tight_layout()\n",
    "    plt.savefig(savePath+\"beam_bucket_razzled_electron_precut.png\", dpi = 200)\n",
    "#-----------------------------------#\n",
    "plt.show()"
   ]
  },
  {
   "cell_type": "markdown",
   "metadata": {},
   "source": [
    "<h3>Apply Cut</h3>"
   ]
  },
  {
   "cell_type": "code",
   "execution_count": null,
   "metadata": {},
   "outputs": [],
   "source": [
    "if ifCut:\n",
    "    df_hnl_prim = df_hnl_prim[df_hnl_prim['slc_pfp_razzled_electron_score'] < 0.98]\n",
    "    df_nu_prim = df_nu_prim[df_nu_prim['slc_pfp_razzled_electron_score'] < 0.98]\n",
    "    df_cos_prim = df_cos_prim[df_cos_prim['slc_pfp_razzled_electron_score'] < 0.98]"
   ]
  },
  {
   "cell_type": "code",
   "execution_count": null,
   "metadata": {},
   "outputs": [],
   "source": [
    "df_hnl = merge_df_prim(df_hnl_shw2, df_hnl_prim_shw2)\n",
    "\n",
    "df_nu_shw2 = merge_df_prim(df_nu_shw2, df_nu_prim_shw2)\n",
    "\n",
    "df_cos_shw2 = merge_df_prim(df_cos_shw2, df_cos_prim_shw2)"
   ]
  },
  {
   "cell_type": "markdown",
   "metadata": {},
   "source": [
    "<h3>Save Purity/Eff</h3>"
   ]
  },
  {
   "cell_type": "code",
   "execution_count": null,
   "metadata": {},
   "outputs": [],
   "source": [
    "purity, eff = calc_purity_eff(df_hnl, df_nu, df_cos, true_counts, start_counts)\n",
    "\n",
    "purity_arr.append(purity)\n",
    "eff_arr.append(eff)\n",
    "cut_arr.append(\"Between Bucket\")\n",
    "\n",
    "print(purity_arr)\n",
    "print(eff_arr)\n",
    "print(cut_arr)"
   ]
  },
  {
   "cell_type": "code",
   "execution_count": null,
   "metadata": {},
   "outputs": [],
   "source": [
    "width = 19.00\n",
    "\n",
    "df_hnl_prim['mod_t'] = df_hnl_prim['slc_opt0_time_corrected_Z_pandora']%width\n",
    "df_nu_prim['mod_t'] = df_nu_prim['slc_opt0_time_corrected_Z_pandora']%width\n",
    "df_cos_prim['mod_t'] = df_cos_prim['slc_opt0_time_corrected_Z_pandora']%width\n",
    "#----------------------------------------------\n",
    "\n",
    "hist, bins = plot_slc_var(\n",
    "                    df_hnl_prim\n",
    "                    , df_nu_prim\n",
    "                    , df_cos_prim\n",
    "                    , true_counts, start_counts, \n",
    "                    'mod_t', \n",
    "                    scaleHNLPlot,\n",
    "                    xmin = 0, xmax = 19, xnbin = 19,\n",
    "                    xtitle = 'Opt0 Time Corrected Z % ' + str(width) + ' [ns]'\n",
    "                    )\n",
    "\n",
    "#-----------------------------------#\n",
    "if ifSave:\n",
    "    #fig.tight_layout()\n",
    "    plt.savefig(savePath+\"beam_bucket_razzled_electron_postcut.png\", dpi = 200)\n",
    "#-----------------------------------#\n",
    "plt.show()"
   ]
  },
  {
   "cell_type": "markdown",
   "metadata": {},
   "source": [
    "<h1>Between Bucket Cut</h1>"
   ]
  },
  {
   "cell_type": "markdown",
   "metadata": {},
   "source": [
    "df_hnl_prim = get_primary_shw_df(df_hnl)\n",
    "\n",
    "df_nu_prim = get_primary_shw_df(df_nu)\n",
    "\n",
    "df_cos_prim = get_primary_shw_df(df_cos)"
   ]
  },
  {
   "cell_type": "code",
   "execution_count": null,
   "metadata": {},
   "outputs": [],
   "source": [
    "width = 19.00\n",
    "\n",
    "df_hnl_prim['mod_t'] = df_hnl_prim['slc_opt0_time_corrected_Z_pandora']%width\n",
    "df_nu_prim['mod_t'] = df_nu_prim['slc_opt0_time_corrected_Z_pandora']%width\n",
    "df_cos_prim['mod_t'] = df_cos_prim['slc_opt0_time_corrected_Z_pandora']%width\n",
    "#----------------------------------------------\n",
    "\n",
    "hist, bins = plot_slc_var(\n",
    "                    df_hnl_prim\n",
    "                    , df_nu_prim\n",
    "                    , df_cos_prim\n",
    "                    , true_counts, start_counts, \n",
    "                    'mod_t', \n",
    "                    scaleHNLPlot,\n",
    "                    xmin = 0, xmax = 19, xnbin = 19,\n",
    "                    xtitle = 'Opt0 Time Corrected Z % ' + str(width) + ' [ns]'\n",
    "                    )\n",
    "\n",
    "#-----------------------------------#\n",
    "if ifSave:\n",
    "    #fig.tight_layout()\n",
    "    plt.savefig(savePath+\"beam_bucket_precut.png\", dpi = 200)\n",
    "#-----------------------------------#\n",
    "plt.show()"
   ]
  },
  {
   "cell_type": "code",
   "execution_count": null,
   "metadata": {},
   "outputs": [],
   "source": [
    "ifTune = True\n",
    "if ifTune:\n",
    "    vary_Modt(df_hnl, df_nu, df_cos, true_counts, start_counts)\n",
    "    if ifSave:\n",
    "        plt.savefig(savePath+\"/modt_tuning.png\", dpi =200)"
   ]
  },
  {
   "cell_type": "markdown",
   "metadata": {},
   "source": [
    "<h3>Apply Cut</h3>"
   ]
  },
  {
   "cell_type": "code",
   "execution_count": null,
   "metadata": {},
   "outputs": [],
   "source": [
    "df_hnl = cutModt(df_hnl, 9)\n",
    "df_nu = cutModt(df_nu, 9)\n",
    "df_cos = cutModt(df_cos, 9)"
   ]
  },
  {
   "cell_type": "markdown",
   "metadata": {},
   "source": [
    "<h3>Save Purity/Eff</h3>"
   ]
  },
  {
   "cell_type": "code",
   "execution_count": null,
   "metadata": {},
   "outputs": [],
   "source": [
    "purity, eff = calc_purity_eff(df_hnl, df_nu, df_cos, true_counts, start_counts)\n",
    "\n",
    "purity_arr.append(purity)\n",
    "eff_arr.append(eff)\n",
    "cut_arr.append(\"Between Bucket\")\n",
    "\n",
    "print(purity_arr)\n",
    "print(eff_arr)\n",
    "print(cut_arr)"
   ]
  },
  {
   "cell_type": "code",
   "execution_count": null,
   "metadata": {},
   "outputs": [],
   "source": [
    "hist, bins = plot_slc_var(df_hnl, df_nu, df_cos,\n",
    "                    true_counts, start_counts, \n",
    "                    'mod_t', \n",
    "                    scaleHNLPlot,\n",
    "                    xmin = 0, xmax = 20, xnbin = 20,\n",
    "                    xtitle = 'Opt0 Time Corrected Z % ' + str(width) + ' [ns]'\n",
    "                    )\n",
    "\n",
    "#-----------------------------------#\n",
    "if ifSave:\n",
    "    #fig.tight_layout()\n",
    "    plt.savefig(savePath+\"beam_bucket_final.png\", dpi = 200)\n",
    "#-----------------------------------#\n",
    "plt.show()"
   ]
  },
  {
   "cell_type": "markdown",
   "metadata": {},
   "source": [
    "<h1>Plot Purity/Efficiency </h1>"
   ]
  },
  {
   "cell_type": "code",
   "execution_count": null,
   "metadata": {},
   "outputs": [],
   "source": [
    "print(eff_arr)\n",
    "print(purity_arr)\n",
    "print(cut_arr)"
   ]
  },
  {
   "cell_type": "code",
   "execution_count": null,
   "metadata": {},
   "outputs": [],
   "source": [
    "fig, ax1 = plt.subplots(1, 1, figsize=(10, 6), sharex = True)\n",
    "ax2 = ax1.twinx()\n",
    "\n",
    "t = np.arange(0, len(cut_arr) , 1)\n",
    "\n",
    "effcol = col_dict['MintGreen']\n",
    "pcol = col_dict['Flamingo']\n",
    "\n",
    "ax1.plot(t, eff_arr, c = effcol, marker = 'o', markersize = 5, ls='--')\n",
    "ax2.plot(t, purity_arr, c = pcol, marker = 'o', markersize = 5, ls='--')\n",
    "\n",
    "ax1.set_ylim(-5,105)\n",
    "ax2.set_ylim(-5,105)\n",
    "\n",
    "ax1.grid(color='gainsboro', which='both', axis='both', linestyle='--')\n",
    "\n",
    "ax1.set_ylabel(\"Selection Effciency [%]\", c = effcol, fontsize = 16)\n",
    "ax2.set_ylabel(\"Purity [%]\", c = pcol, fontsize = 16)\n",
    "\n",
    "plt.xticks(range(0, len(t)))\n",
    "ax1.set_xticklabels(cut_arr, rotation = 45, ha=\"right\", fontsize = 16)\n",
    "\n",
    "ax1.tick_params(bottom = True, top = True, left = True, right = False)\n",
    "ax2.tick_params(bottom = True, top = True, left = False, right = True)\n",
    "\n",
    "ax1.tick_params(axis = 'x', labelsize = 16, direction = 'in')\n",
    "ax1.tick_params(axis = 'y', labelsize = 16, direction = 'in')\n",
    "ax2.tick_params(axis = 'y', labelsize = 16, direction = 'in')\n",
    "\n",
    "fig.tight_layout()\n",
    "\n",
    "#-----------------------------------#\n",
    "if ifSave:\n",
    "    plt.savefig(savePath+\"peff.png\", dpi = 200)\n",
    "#-----------------------------------#\n",
    "plt.show()"
   ]
  },
  {
   "cell_type": "markdown",
   "metadata": {},
   "source": [
    "<h1>Save Only Primary Showers </h1>"
   ]
  },
  {
   "cell_type": "code",
   "execution_count": null,
   "metadata": {},
   "outputs": [],
   "source": [
    "df_hnl = get_primary_shw_df(df_hnl)\n",
    "\n",
    "df_nu = get_primary_shw_df(df_nu)\n",
    "\n",
    "df_cos = get_primary_shw_df(df_cos)\n",
    "#df_cos_prim_shw2 = get_primary_shw_df(df_cos)"
   ]
  },
  {
   "cell_type": "code",
   "execution_count": null,
   "metadata": {},
   "outputs": [],
   "source": [
    "df_hnl"
   ]
  },
  {
   "cell_type": "code",
   "execution_count": null,
   "metadata": {},
   "outputs": [],
   "source": [
    "df_nu"
   ]
  },
  {
   "cell_type": "code",
   "execution_count": null,
   "metadata": {},
   "outputs": [],
   "source": [
    "df_cos"
   ]
  },
  {
   "cell_type": "code",
   "execution_count": null,
   "metadata": {},
   "outputs": [],
   "source": [
    "df_hnl[(df_hnl['run'] == 1) & (df_hnl['subrun']==790) & (df_hnl['event']==39)]"
   ]
  },
  {
   "cell_type": "markdown",
   "metadata": {},
   "source": [
    "<h1> Save Cut Dataframe to Pickle</h1>"
   ]
  },
  {
   "cell_type": "code",
   "execution_count": null,
   "metadata": {},
   "outputs": [],
   "source": [
    "df_hnl.to_pickle(\"./df_m200_v2_hnl.pkl\", protocol = 5)"
   ]
  },
  {
   "cell_type": "code",
   "execution_count": null,
   "metadata": {},
   "outputs": [],
   "source": [
    "df_nu.to_pickle(\"./df_m200_v2_nu.pkl\", protocol = 5)"
   ]
  },
  {
   "cell_type": "code",
   "execution_count": null,
   "metadata": {},
   "outputs": [],
   "source": [
    "df_cos.to_pickle(\"./df_m200_v2_cos.pkl\", protocol = 5)"
   ]
  },
  {
   "cell_type": "code",
   "execution_count": null,
   "metadata": {},
   "outputs": [],
   "source": []
  }
 ],
 "metadata": {
  "kernelspec": {
   "display_name": "Python 3 (ipykernel)",
   "language": "python",
   "name": "python3"
  },
  "language_info": {
   "codemirror_mode": {
    "name": "ipython",
    "version": 3
   },
   "file_extension": ".py",
   "mimetype": "text/x-python",
   "name": "python",
   "nbconvert_exporter": "python",
   "pygments_lexer": "ipython3",
   "version": "3.9.7"
  }
 },
 "nbformat": 4,
 "nbformat_minor": 4
}
