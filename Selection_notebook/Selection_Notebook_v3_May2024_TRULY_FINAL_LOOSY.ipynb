{
 "cells": [
  {
   "cell_type": "code",
   "execution_count": null,
   "metadata": {},
   "outputs": [],
   "source": [
    "# Add the relevant scripts from LArMachineLearningData\n",
    "# Nice the process so it can run with lots of cores on low priority\n",
    "import os\n",
    "os.nice(20)\n",
    "\n",
    "# Add local paths\n",
    "import sys\n",
    "hnlDIR = os.environ['_']\n",
    "sys.path.append('../pyscript')\n",
    "\n",
    "# From pyscript Library\n",
    "from Plotting import *\n",
    "from Dictionary import *\n",
    "from HelperFunctions import *\n",
    "from CutFunctions import *\n",
    "\n",
    "import pickle\n",
    "import numpy as np\n",
    "import pandas as pd\n",
    "import matplotlib.pyplot as plt\n",
    "\n",
    "import warnings\n",
    "warnings.filterwarnings(\"ignore\")"
   ]
  },
  {
   "cell_type": "markdown",
   "metadata": {},
   "source": [
    "<h1>Specify Mass</h1>"
   ]
  },
  {
   "cell_type": "code",
   "execution_count": null,
   "metadata": {},
   "outputs": [],
   "source": [
    "m = 260"
   ]
  },
  {
   "cell_type": "markdown",
   "metadata": {},
   "source": [
    "<h1>Configuration Stuff Here</h1>"
   ]
  },
  {
   "cell_type": "code",
   "execution_count": null,
   "metadata": {},
   "outputs": [],
   "source": [
    "ifSave = True\n",
    "savePath = \"../../plot_files/m\"+str(m)+\"_v3_selection_truly_final_loosy/\""
   ]
  },
  {
   "cell_type": "code",
   "execution_count": null,
   "metadata": {},
   "outputs": [],
   "source": [
    "ifCut = True"
   ]
  },
  {
   "cell_type": "code",
   "execution_count": null,
   "metadata": {},
   "outputs": [],
   "source": [
    "ifTune = False\n",
    "\n",
    "#Common cut value\n",
    "TuneCut = {\n",
    "    'beamSpillBegin': 367 - 16\n",
    "    , 'beamSpillEnd': 367 + 1600 + 16\n",
    "    , 'crumbs': 0 \n",
    "    \n",
    "    , 'nHits': 50\n",
    "    \n",
    "    , 'MuonPeak' : 0.04\n",
    "    , 'MuonEdge' : 0.04\n",
    "    \n",
    "    , 'ProtonPeak' : 0.96 \n",
    "    , 'ProtonEdge' : 0.96 \n",
    "    \n",
    "    , 'PionPeak' : 0.82 \n",
    "    , 'PionEdge' : 0.82 \n",
    "    \n",
    "    , 'ElectronPeak' : 0.96 \n",
    "    , 'ElectronEdge': 0.96\n",
    "    \n",
    "    , 'OneShowerCenterTrackLess': 0.5\n",
    "    , 'OneShowerEdgeTrackLess': 0.5\n",
    "    , 'OneShowerTrackMore': 0.225\n",
    "    \n",
    "    , 'TwoShowerCenterTrackLess': 0.5\n",
    "    , 'TwoShowerEdgeTrackLess': 0.5\n",
    "    , 'TwoShowerTrackMore': 0.25    \n",
    "    \n",
    "    , 'OneShowerCenterFracMore': -0.12\n",
    "    , 'OneShowerEdgeFracMore': -0.12\n",
    "    , 'OneShowerFracLess': 0.4 \n",
    "    \n",
    "    , 'TwoShowerCenterFracMore': 0.0\n",
    "    , 'TwoShowerEdgeFracMore': 0.0\n",
    "    , 'TwoShowerFracLess': 0.4\n",
    "    \n",
    "    , 'OneShowerThetaCenter': 25\n",
    "    , 'OneShowerThetaEdge': 25\n",
    "    \n",
    "    , 'TwoShowerThetaCenter': 35\n",
    "    , 'TwoShowerThetaEdge': 35\n",
    "    }"
   ]
  },
  {
   "cell_type": "markdown",
   "metadata": {},
   "source": [
    "<h1> Read in PKL Dataframe </h1>"
   ]
  },
  {
   "cell_type": "markdown",
   "metadata": {},
   "source": [
    "<h3> HNL </h3>"
   ]
  },
  {
   "cell_type": "code",
   "execution_count": null,
   "metadata": {},
   "outputs": [],
   "source": [
    "hnl_path =\"../../pkl_files/v3_April2024/df_preselect_m\"+str(m)+\"_v3_hnl.pkl\"\n",
    "print(hnl_path)\n",
    "    \n",
    "file_hnl = open(hnl_path, 'rb')\n",
    "df_hnl = pickle.load(file_hnl)\n",
    "\n",
    "del hnl_path\n",
    "file_hnl.close()"
   ]
  },
  {
   "cell_type": "markdown",
   "metadata": {},
   "source": [
    "<h3> Neutrino </h3>"
   ]
  },
  {
   "cell_type": "code",
   "execution_count": null,
   "metadata": {},
   "outputs": [],
   "source": [
    "nu_path =\"../../pkl_files/v3_April2024/df_preselect_v3_nu.pkl\"\n",
    "print(nu_path)\n",
    "    \n",
    "file_nu = open(nu_path, 'rb')\n",
    "df_nu = pickle.load(file_nu)\n",
    "\n",
    "del nu_path\n",
    "file_nu.close()"
   ]
  },
  {
   "cell_type": "markdown",
   "metadata": {},
   "source": [
    "<h3> Intime Cosmics </h3>"
   ]
  },
  {
   "cell_type": "code",
   "execution_count": null,
   "metadata": {},
   "outputs": [],
   "source": [
    "cos_path =\"../../pkl_files/v3_April2024/df_preselect_v3_cos.pkl\"\n",
    "print(cos_path)\n",
    "    \n",
    "file_cos = open(cos_path, 'rb')\n",
    "df_cos = pickle.load(file_cos)\n",
    "\n",
    "del cos_path\n",
    "file_cos.close()"
   ]
  },
  {
   "cell_type": "markdown",
   "metadata": {},
   "source": [
    "<h1>Combine FV and Non-FV HNL</h1>"
   ]
  },
  {
   "cell_type": "code",
   "execution_count": null,
   "metadata": {},
   "outputs": [],
   "source": [
    "df_hnl['slc_true_event_type'][df_hnl['slc_true_event_type'] == 1] = 0\n",
    "df_nu['slc_true_event_type'][df_nu['slc_true_event_type'] == 1] = 0\n",
    "df_cos['slc_true_event_type'][df_cos['slc_true_event_type'] == 1] = 0"
   ]
  },
  {
   "cell_type": "markdown",
   "metadata": {},
   "source": [
    "<h1>Scale HNL for Plotting</h1>"
   ]
  },
  {
   "cell_type": "code",
   "execution_count": null,
   "metadata": {},
   "outputs": [],
   "source": [
    "simU = df_hnl['simU'][0]\n",
    "true_counts = df_hnl['true_counts'][0]\n",
    "start_counts = df_hnl['start_counts'][0]\n",
    "\n",
    "\n",
    "scaleHNLPlot = 1\n",
    "    \n",
    "if m ==200:    \n",
    "    #scaleHNLPlot = 100\n",
    "    scaleHNLPlot = 10\n",
    "    #scaleHNLPlot = 1\n",
    "else:\n",
    "    #scaleHNLPlot = 148118.81420359976 / true_counts\n",
    "    scaleHNLPlot = 14811.881420359976 / true_counts\n",
    "\n",
    "print(\"Sim Umu = \" +str(simU))\n",
    "print(\"true counts = \" + str(true_counts))\n",
    "print(\"start counts = \" + str(start_counts))    \n",
    "print(\"Scale factor \" + str(scaleHNLPlot))"
   ]
  },
  {
   "cell_type": "code",
   "execution_count": null,
   "metadata": {},
   "outputs": [],
   "source": [
    "plotU = getUfromScaleFactor(simU, scaleHNLPlot)\n",
    "\n",
    "true_counts = true_counts * scaleHNLPlot\n",
    "start_counts =  start_counts * scaleHNLPlot\n",
    "\n",
    "\n",
    "print(\"Scaled Umu = \" + str(plotU))\n",
    "print(\"Scaled true counts = \" + str(true_counts))\n",
    "print(\"Scaled start counts = \" + str(start_counts))"
   ]
  },
  {
   "cell_type": "code",
   "execution_count": null,
   "metadata": {},
   "outputs": [],
   "source": [
    "df_hnl['sim_scale_pot'] = df_hnl['scale_pot']\n",
    "df_hnl['scale_pot'] = df_hnl['sim_scale_pot'] * scaleHNLPlot\n",
    "df_hnl['plotU'] = plotU"
   ]
  },
  {
   "cell_type": "code",
   "execution_count": null,
   "metadata": {},
   "outputs": [],
   "source": [
    "label = str(m) + r' MeV HNL $\\nu\\pi^0$' + '\\n' + '|U$_{{\\mu 4}}$|$^{{2}}$ = ' +str(sci_notation(plotU,2,2))\n",
    "print(label)"
   ]
  },
  {
   "cell_type": "markdown",
   "metadata": {},
   "source": [
    "<h1> Make Beam Bucket - Post Non-clear cosmics </h1>"
   ]
  },
  {
   "cell_type": "code",
   "execution_count": null,
   "metadata": {},
   "outputs": [],
   "source": [
    "width = 18.936\n",
    "\n",
    "df_hnl['mod_t'] = df_hnl['slc_opt0_time_corrected_Z_pandora']%width\n",
    "df_nu['mod_t'] = df_nu['slc_opt0_time_corrected_Z_pandora']%width\n",
    "df_cos['mod_t'] = df_cos['slc_opt0_time_corrected_Z_pandora']%width\n",
    "#----------------------------------------------\n",
    "hist, bins = plot_slc_var(df_hnl, df_nu, df_cos,\n",
    "                    true_counts, start_counts, \n",
    "                    'mod_t', \n",
    "                    xmin = 0, xmax = 30, xnbin = 30,\n",
    "                    xtitle = 'Opt0 Time Corrected Z % ' + str(width) + ' [ns]',\n",
    "                    ifAddLegend = True, addLegend = label\n",
    "                    )\n",
    "#-----------------------------------#\n",
    "if ifSave:\n",
    "    #fig.tight_layout()\n",
    "    plt.savefig(savePath+\"beam_bucket_post_nonclearcosmics.png\", dpi = 200)\n",
    "#-----------------------------------#\n",
    "plt.show()"
   ]
  },
  {
   "cell_type": "markdown",
   "metadata": {},
   "source": [
    "<h3> Save Purity and Eff </h3>"
   ]
  },
  {
   "cell_type": "code",
   "execution_count": null,
   "metadata": {},
   "outputs": [],
   "source": [
    "purity_arr, eff_arr, cut_arr = [], [], []"
   ]
  },
  {
   "cell_type": "code",
   "execution_count": null,
   "metadata": {},
   "outputs": [],
   "source": [
    "purity, eff = calc_purity_eff(df_hnl, df_nu, df_cos, true_counts, start_counts)\n",
    "\n",
    "\n",
    "purity_arr.append(purity)\n",
    "eff_arr.append(eff)\n",
    "cut_arr.append(\"Clear Cosmics Cut\")\n",
    "\n",
    "print(purity_arr)\n",
    "print(eff_arr)\n",
    "print(cut_arr)"
   ]
  },
  {
   "cell_type": "markdown",
   "metadata": {},
   "source": [
    "<h1> Beam Spill </h1>"
   ]
  },
  {
   "cell_type": "code",
   "execution_count": null,
   "metadata": {},
   "outputs": [],
   "source": [
    "light_speed_cm_us = 29979.2458 # cm/ns\n",
    "\n",
    "df_hnl['slc_opt0_time'] = df_hnl['slc_opt0_time_corrected_Z_pandora'] + df_hnl['slc_vtx_z']/light_speed_cm_us\n",
    "df_nu['slc_opt0_time'] = df_nu['slc_opt0_time_corrected_Z_pandora'] + df_nu['slc_vtx_z']/light_speed_cm_us\n",
    "df_cos['slc_opt0_time'] = df_cos['slc_opt0_time_corrected_Z_pandora'] + df_cos['slc_vtx_z']/light_speed_cm_us\n",
    "#-----------------------------------#\n",
    "hist, bins = plot_slc_var(df_hnl, df_nu, df_cos,\n",
    "                    true_counts, start_counts, \n",
    "                    'slc_opt0_time', \n",
    "                    xmin = 0, xmax = 3200, xnbin = 100,\n",
    "                    xtitle = 'Opt0 Time [ns]',\n",
    "                    ifAddLegend = True, addLegend = label\n",
    "                    )\n",
    "\n",
    "plt.axvline(x = TuneCut['beamSpillBegin'], c = 'r', linestyle = '--', lw = 1.5)\n",
    "plt.axvline(x = TuneCut['beamSpillEnd'], c = 'r', linestyle = '--', lw = 1.5)\n",
    "\n",
    "plt.ylim(0, 1.25e6)\n",
    "#-----------------------------------#\n",
    "if ifSave:\n",
    "    #fig.tight_layout()\n",
    "    plt.savefig(savePath+\"beamspill.png\", dpi = 200)\n",
    "#-----------------------------------#\n",
    "plt.show()"
   ]
  },
  {
   "cell_type": "markdown",
   "metadata": {},
   "source": [
    "<h3>Apply Cut</h3>"
   ]
  },
  {
   "cell_type": "code",
   "execution_count": null,
   "metadata": {},
   "outputs": [],
   "source": [
    "if ifCut:\n",
    "    df_hnl = cutBeamGate(df_hnl, gateBegin = TuneCut['beamSpillBegin'], gateEnd = TuneCut['beamSpillEnd'])\n",
    "    df_nu = cutBeamGate(df_nu, gateBegin = TuneCut['beamSpillBegin'], gateEnd = TuneCut['beamSpillEnd'])\n",
    "    df_cos = cutBeamGate(df_cos, gateBegin = TuneCut['beamSpillBegin'], gateEnd = TuneCut['beamSpillEnd'])"
   ]
  },
  {
   "cell_type": "markdown",
   "metadata": {},
   "source": [
    "<h3>Save Purity/Eff</h3>"
   ]
  },
  {
   "cell_type": "code",
   "execution_count": null,
   "metadata": {},
   "outputs": [],
   "source": [
    "purity, eff = calc_purity_eff(df_hnl, df_nu, df_cos, true_counts, start_counts)\n",
    "\n",
    "purity_arr.append(purity)\n",
    "eff_arr.append(eff)\n",
    "cut_arr.append(\"Beam Spill\")\n",
    "\n",
    "print(purity_arr)\n",
    "print(eff_arr)\n",
    "print(cut_arr)"
   ]
  },
  {
   "cell_type": "markdown",
   "metadata": {},
   "source": [
    "<h1> Make Beam Bucket - Post Beam Spill</h1>"
   ]
  },
  {
   "cell_type": "code",
   "execution_count": null,
   "metadata": {},
   "outputs": [],
   "source": [
    "hist, bins = plot_slc_var(df_hnl, df_nu, df_cos,\n",
    "                    true_counts, start_counts, \n",
    "                    'mod_t', \n",
    "                    xmin = 0, xmax = 30, xnbin = 30,\n",
    "                    xtitle = 'Opt0 Time Corrected Z % ' + str(width) + ' [ns]',\n",
    "                    ifAddLegend = True, addLegend = label\n",
    "                    )\n",
    "#-----------------------------------#\n",
    "if ifSave:\n",
    "    #fig.tight_layout()\n",
    "    plt.savefig(savePath+\"beam_bucket_post_beamspill.png\", dpi = 200)\n",
    "#-----------------------------------#\n",
    "plt.show()"
   ]
  },
  {
   "cell_type": "markdown",
   "metadata": {},
   "source": [
    "<h1> CRUMBS </h1>"
   ]
  },
  {
   "cell_type": "code",
   "execution_count": null,
   "metadata": {},
   "outputs": [],
   "source": [
    "plot_slc_var(df_hnl, df_nu, df_cos,\n",
    "                    true_counts, start_counts, \n",
    "                    'slc_crumbs_score', \n",
    "                    xmin = -2, xmax =1, xnbin = 30,\n",
    "                    xtitle = 'CRUMBS Score',\n",
    "                    ifAddLegend = True, addLegend = label\n",
    "                    )\n",
    "\n",
    "plt.axvline(x = TuneCut['crumbs'], c = 'r', linestyle = '--', lw = 1.5)\n",
    "\n",
    "plt.annotate(\"\", xy=(0, 4.5e6), xytext=(0.4, 4.5e6)\n",
    "             , arrowprops=dict(arrowstyle= '<|-', color='r', lw=1.5, ls='--'))\n",
    "plt.ylim(0, 5e6)\n",
    "#-----------------------------------#\n",
    "if ifSave:\n",
    "    #fig.tight_layout()\n",
    "    plt.savefig(savePath+\"crumbs_precut.png\", dpi = 200)\n",
    "#-----------------------------------#\n",
    "plt.show()"
   ]
  },
  {
   "cell_type": "raw",
   "metadata": {},
   "source": [
    "if ifTune:\n",
    "    vary_crumbsScore(df_hnl, df_nu, df_cos, true_counts, start_counts)\n",
    "    \n",
    "    if ifSave:\n",
    "        plt.savefig(savePath+\"/crumbs_tuning.png\", dpi =200)"
   ]
  },
  {
   "cell_type": "markdown",
   "metadata": {},
   "source": [
    "<h3>Apply Cut</h3>"
   ]
  },
  {
   "cell_type": "code",
   "execution_count": null,
   "metadata": {},
   "outputs": [],
   "source": [
    "score = TuneCut['crumbs']\n",
    "\n",
    "print(score)\n",
    "\n",
    "if ifCut:\n",
    "    df_hnl = cutCosmics(df_hnl, crumbsScore = score)\n",
    "    df_nu = cutCosmics(df_nu, crumbsScore = score)\n",
    "    df_cos = cutCosmics(df_cos, crumbsScore = score)"
   ]
  },
  {
   "cell_type": "markdown",
   "metadata": {},
   "source": [
    "<h3>Save Purity/Eff</h3>"
   ]
  },
  {
   "cell_type": "code",
   "execution_count": null,
   "metadata": {},
   "outputs": [],
   "source": [
    "purity, eff = calc_purity_eff(df_hnl, df_nu, df_cos, true_counts, start_counts)\n",
    "\n",
    "purity_arr.append(purity)\n",
    "eff_arr.append(eff)\n",
    "cut_arr.append(\"CRUMBS\")\n",
    "\n",
    "print(purity_arr)\n",
    "print(eff_arr)\n",
    "print(cut_arr)"
   ]
  },
  {
   "cell_type": "markdown",
   "metadata": {},
   "source": [
    "<h1> Make Beam Bucket - Post Crumbs</h1>"
   ]
  },
  {
   "cell_type": "code",
   "execution_count": null,
   "metadata": {},
   "outputs": [],
   "source": [
    "hist, bins = plot_slc_var(df_hnl, df_nu, df_cos,\n",
    "                    true_counts, start_counts, \n",
    "                    'mod_t', \n",
    "                    xmin = 0, xmax = 30, xnbin = 30,\n",
    "                    xtitle = 'Opt0 Time Corrected Z % ' + str(width) + \" [ns]\",\n",
    "                    ifAddLegend = True, addLegend = label\n",
    "                    )\n",
    "#-----------------------------------#\n",
    "if ifSave:\n",
    "    #fig.tight_layout()\n",
    "    plt.savefig(savePath+\"beam_bucket_post_crumbs.png\", dpi = 200)\n",
    "#-----------------------------------#\n",
    "plt.show()"
   ]
  },
  {
   "cell_type": "markdown",
   "metadata": {},
   "source": [
    "<h1> Fiducial Volume </h1>"
   ]
  },
  {
   "cell_type": "code",
   "execution_count": null,
   "metadata": {},
   "outputs": [],
   "source": [
    "plot_slc_var(df_hnl, df_nu, df_cos,\n",
    "                    true_counts, start_counts, \n",
    "                    'slc_is_fv', \n",
    "                    xmin = -0.5, xmax = 2.5, xnbin = 40,\n",
    "                    xtitle = 'Vertex is in Fiducial Volume',\n",
    "                     ifAddLegend = True, addLegend = label\n",
    "                    )\n",
    "\n",
    "plt.xticks(range(0, 2), labels=[\"False\", \"True\"])\n",
    "\n",
    "plt.axvline(x = 0.5, c = 'r', linestyle = '--', lw = 1.5)\n",
    "\n",
    "plt.annotate(\"\", xy=(0.5, 1.6e7), xytext=(0.9, 1.6e7)\n",
    "             , arrowprops=dict(arrowstyle= '<|-',color='r',lw=1.5,ls='--'))\n",
    "plt.ylim(0, 1.8e7)\n",
    "#-----------------------------------#\n",
    "if ifSave:\n",
    "    #fig.tight_layout()\n",
    "    plt.savefig(savePath+\"fv_precut.png\", dpi = 200)\n",
    "#-----------------------------------#\n",
    "plt.show()"
   ]
  },
  {
   "cell_type": "markdown",
   "metadata": {},
   "source": [
    "<h3>Apply Cut</h3>"
   ]
  },
  {
   "cell_type": "code",
   "execution_count": null,
   "metadata": {},
   "outputs": [],
   "source": [
    "if ifCut:\n",
    "    df_hnl = cutFV(df_hnl)\n",
    "    df_nu = cutFV(df_nu)\n",
    "    df_cos = cutFV(df_cos)"
   ]
  },
  {
   "cell_type": "markdown",
   "metadata": {},
   "source": [
    "<h3>Save Purity/Eff</h3>"
   ]
  },
  {
   "cell_type": "code",
   "execution_count": null,
   "metadata": {},
   "outputs": [],
   "source": [
    "purity, eff = calc_purity_eff(df_hnl, df_nu, df_cos, true_counts, start_counts)\n",
    "\n",
    "purity_arr.append(purity)\n",
    "eff_arr.append(eff)\n",
    "cut_arr.append(\"Vertex In FV\")\n",
    "\n",
    "print(purity_arr)\n",
    "print(eff_arr)\n",
    "print(cut_arr)"
   ]
  },
  {
   "cell_type": "markdown",
   "metadata": {},
   "source": [
    "<h1> Make Beam Bucket - Post FV</h1>"
   ]
  },
  {
   "cell_type": "code",
   "execution_count": null,
   "metadata": {},
   "outputs": [],
   "source": [
    "hist, bins = plot_slc_var(df_hnl, df_nu, df_cos,\n",
    "                    true_counts, start_counts, \n",
    "                    'mod_t', \n",
    "                    xmin = 0, xmax = 30, xnbin = 30,\n",
    "                    xtitle = 'Opt0 Time Corrected Z % ' + str(width) + \" [ns]\",\n",
    "                     ifAddLegend = True, addLegend = label\n",
    "                    )\n",
    "#-----------------------------------#\n",
    "if ifSave:\n",
    "    #fig.tight_layout()\n",
    "    plt.savefig(savePath+\"beam_bucket_post_FV.png\", dpi = 200)\n",
    "#-----------------------------------#\n",
    "plt.show()"
   ]
  },
  {
   "cell_type": "raw",
   "metadata": {},
   "source": [
    "df_nu = get_primary_shw_df(df_nu)\n",
    "df_nu = df_nu[['run','subrun', 'event', 'slc_id', 'slc_true_event_type', 'mod_t']]\n",
    "df_nu.to_pickle(\"../../pkl_files/v3_April2024/df_postcosmics_v3_nu.pkl\", protocol = 5)"
   ]
  },
  {
   "cell_type": "markdown",
   "metadata": {},
   "source": [
    "<h1> Defined Peak Center vs Edge</h1>"
   ]
  },
  {
   "cell_type": "code",
   "execution_count": null,
   "metadata": {},
   "outputs": [],
   "source": [
    "lb = 4\n",
    "ub = 15\n",
    "#-----------------------------------#\n",
    "hist, bins = plot_slc_var(df_hnl, df_nu, df_cos,\n",
    "                    true_counts, start_counts, \n",
    "                    'mod_t', \n",
    "                    xmin = 0, xmax = 30, xnbin = 30,\n",
    "                    xtitle = 'Opt0 Time Corrected Z % ' + str(width) + \" [ns]\",\n",
    "                     ifAddLegend = True, addLegend = label\n",
    "                    )\n",
    "\n",
    "plt.axvline(x =  lb, c = 'r', linestyle = '--', lw = 1.5)\n",
    "plt.axvline(x =  ub, c = 'r', linestyle = '--', lw = 1.5)\n",
    "#-----------------------------------#\n",
    "if ifSave:\n",
    "    #fig.tight_layout()\n",
    "    plt.savefig(savePath+\"beam_bucket_post_cosmic_rejection_peak_boundary.png\", dpi = 200)\n",
    "#-----------------------------------#\n",
    "plt.show()"
   ]
  },
  {
   "cell_type": "markdown",
   "metadata": {},
   "source": [
    "<h1> N Hits </h1>"
   ]
  },
  {
   "cell_type": "code",
   "execution_count": null,
   "metadata": {},
   "outputs": [],
   "source": [
    "df_hnl_prim = get_primary_shw_df(df_hnl)\n",
    "\n",
    "df_nu_prim = get_primary_shw_df(df_nu)\n",
    "\n",
    "df_cos_prim = get_primary_shw_df(df_cos)"
   ]
  },
  {
   "cell_type": "code",
   "execution_count": null,
   "metadata": {},
   "outputs": [],
   "source": [
    "when_hnl_center = (df_hnl_prim['mod_t'] >= lb) &  (df_hnl_prim['mod_t'] <= ub)\n",
    "when_nu_center = (df_nu_prim['mod_t'] >= lb) &  (df_nu_prim['mod_t'] <= ub)\n",
    "when_cos_center = (df_cos_prim['mod_t'] >= lb) &  (df_cos_prim['mod_t'] <= ub)\n",
    "\n",
    "when_hnl_edge = (df_hnl_prim['mod_t'] < lb) | (df_hnl_prim['mod_t'] > ub)\n",
    "when_nu_edge = (df_nu_prim['mod_t'] < lb) | (df_nu_prim['mod_t'] > ub)\n",
    "when_cos_edge = (df_cos_prim['mod_t'] < lb) | (df_cos_prim['mod_t'] > ub)\n",
    "\n",
    "df_hnl_prim_center = df_hnl_prim[when_hnl_center]\n",
    "df_nu_prim_center = df_nu_prim[when_nu_center]\n",
    "df_cos_prim_center = df_cos_prim[when_cos_center]\n",
    "\n",
    "df_hnl_prim_edge = df_hnl_prim[when_hnl_edge]\n",
    "df_nu_prim_edge = df_nu_prim[when_nu_edge]\n",
    "df_cos_prim_edge = df_cos_prim[when_cos_edge]"
   ]
  },
  {
   "cell_type": "code",
   "execution_count": null,
   "metadata": {},
   "outputs": [],
   "source": [
    "plot_slc_var(df_hnl_prim, df_nu_prim, df_cos_prim,\n",
    "                    true_counts, start_counts, \n",
    "                    'slc_pfp_n_hits', \n",
    "                    xmin = 0, xmax = 3000, xnbin = 60,\n",
    "                    xtitle = 'n Hits',\n",
    "                  ifAddLegend = True, addLegend = label\n",
    "                    )\n",
    "\n",
    "plt.annotate(\"\", xy=(50, 2.9e5), xytext=(300, 2.9e5)\n",
    "             , arrowprops=dict(arrowstyle= '<|-',color='r',lw=1.5,ls='--'))\n",
    "plt.axvline(x =  TuneCut['nHits'], c = 'r', linestyle = '--', lw = 1.5)\n",
    "plt.ylim(0, 3e5)\n",
    "#-----------------------------------#\n",
    "if ifSave:\n",
    "    #fig.tight_layout()\n",
    "    plt.savefig(savePath+\"nHits.png\", dpi = 200)\n",
    "#-----------------------------------#\n",
    "plt.show()"
   ]
  },
  {
   "cell_type": "code",
   "execution_count": null,
   "metadata": {},
   "outputs": [],
   "source": [
    "plot_slc_var(df_hnl_prim_center, df_nu_prim_center, df_cos_prim_center,\n",
    "                    true_counts, start_counts, \n",
    "                    'slc_pfp_n_hits', \n",
    "                    xmin = 0, xmax = 2000, xnbin = 40,\n",
    "                    xtitle = 'n Hits',\n",
    "                  ifAddLegend = True, addLegend = label\n",
    "                    )\n",
    "\n",
    "plt.annotate(\"\", xy=(50, 2.9e5), xytext=(300, 2.9e5)\n",
    "             , arrowprops=dict(arrowstyle= '<|-',color='r',lw=1.5,ls='--'))\n",
    "plt.axvline(x =  TuneCut['nHits'], c = 'r', linestyle = '--', lw = 1.5)\n",
    "plt.ylim(0, 3e5)\n",
    "#-----------------------------------#\n",
    "if ifSave:\n",
    "    #fig.tight_layout()\n",
    "    plt.savefig(savePath+\"nHits_peak.png\", dpi = 200)\n",
    "#-----------------------------------#\n",
    "plt.show()"
   ]
  },
  {
   "cell_type": "code",
   "execution_count": null,
   "metadata": {},
   "outputs": [],
   "source": [
    "plot_slc_var(df_hnl_prim_edge, df_nu_prim_edge, df_cos_prim_edge,\n",
    "                    true_counts, start_counts, \n",
    "                    'slc_pfp_n_hits', \n",
    "                    xmin = 0, xmax = 2000, xnbin = 40,\n",
    "                    xtitle = 'n Hits',\n",
    "                  ifAddLegend = True, addLegend = label\n",
    "                    )\n",
    "plt.annotate(\"\", xy=(50, 1.4e4), xytext=(300, 1.4e4)\n",
    "             , arrowprops=dict(arrowstyle= '<|-',color='r',lw=1.5,ls='--'))\n",
    "plt.axvline(x =  TuneCut['nHits'], c = 'r', linestyle = '--', lw = 1.5)\n",
    "plt.ylim(0, 1.5e4)\n",
    "#-----------------------------------#\n",
    "if ifSave:\n",
    "    #fig.tight_layout()\n",
    "    plt.savefig(savePath+\"nHits_edge.png\", dpi = 200)\n",
    "#-----------------------------------#\n",
    "plt.show()"
   ]
  },
  {
   "cell_type": "markdown",
   "metadata": {},
   "source": [
    "<h3>Apply Cut</h3>"
   ]
  },
  {
   "cell_type": "code",
   "execution_count": null,
   "metadata": {},
   "outputs": [],
   "source": [
    "nHits = TuneCut['nHits']\n",
    "if ifCut:\n",
    "    df_hnl_prim_center = df_hnl_prim_center[df_hnl_prim_center['slc_pfp_n_hits'] >= nHits]\n",
    "    df_nu_prim_center = df_nu_prim_center[df_nu_prim_center['slc_pfp_n_hits'] >= nHits]\n",
    "    df_cos_prim_center = df_cos_prim_center[df_cos_prim_center['slc_pfp_n_hits'] >= nHits]\n",
    "\n",
    "    df_hnl_prim_edge = df_hnl_prim_edge[df_hnl_prim_edge['slc_pfp_n_hits'] >= nHits]\n",
    "    df_nu_prim_edge = df_nu_prim_edge[df_nu_prim_edge['slc_pfp_n_hits'] >= nHits]\n",
    "    df_cos_prim_edge = df_cos_prim_edge[df_cos_prim_edge['slc_pfp_n_hits'] >= nHits]\n",
    "    \n",
    "df_hnl_prim = pd.concat([df_hnl_prim_center, df_hnl_prim_edge])\n",
    "df_nu_prim = pd.concat([df_nu_prim_center, df_nu_prim_edge])\n",
    "df_cos_prim = pd.concat([df_cos_prim_center, df_cos_prim_edge])"
   ]
  },
  {
   "cell_type": "code",
   "execution_count": null,
   "metadata": {},
   "outputs": [],
   "source": [
    "df_hnl = merge_df_prim(df_hnl, df_hnl_prim)\n",
    "\n",
    "df_nu = merge_df_prim(df_nu, df_nu_prim)\n",
    "\n",
    "df_cos = merge_df_prim(df_cos, df_cos_prim)"
   ]
  },
  {
   "cell_type": "markdown",
   "metadata": {},
   "source": [
    "<h3>Save Eff/Purity</h3>"
   ]
  },
  {
   "cell_type": "code",
   "execution_count": null,
   "metadata": {},
   "outputs": [],
   "source": [
    "purity, eff = calc_purity_eff(df_hnl, df_nu, df_cos, true_counts, start_counts)\n",
    "\n",
    "purity_arr.append(purity)\n",
    "eff_arr.append(eff)\n",
    "cut_arr.append(\"N Hits Cut\")\n",
    "\n",
    "print(purity_arr)\n",
    "print(eff_arr)\n",
    "print(cut_arr)"
   ]
  },
  {
   "cell_type": "markdown",
   "metadata": {},
   "source": [
    "<h1> Make Beam Bucket - Post N Hits</h1>"
   ]
  },
  {
   "cell_type": "code",
   "execution_count": null,
   "metadata": {},
   "outputs": [],
   "source": [
    "hist, bins = plot_slc_var(df_hnl, df_nu, df_cos,\n",
    "                    true_counts, start_counts, \n",
    "                    'mod_t', \n",
    "                    xmin = 0, xmax = 30, xnbin = 30,\n",
    "                    xtitle = 'Opt0 Time Corrected Z % ' + str(width) + \" [ns]\",\n",
    "                     ifAddLegend = True, addLegend = label\n",
    "                    )\n",
    "#-----------------------------------#\n",
    "if ifSave:\n",
    "    #fig.tight_layout()\n",
    "    plt.savefig(savePath+\"beam_bucket_postNhits.png\", dpi = 200)\n",
    "#-----------------------------------#\n",
    "plt.show()"
   ]
  },
  {
   "cell_type": "markdown",
   "metadata": {},
   "source": [
    "<h1>Multiplicity</h1>"
   ]
  },
  {
   "cell_type": "raw",
   "metadata": {},
   "source": [
    "df_hnl_prim = get_primary_shw_df(df_hnl)\n",
    "\n",
    "df_nu_prim = get_primary_shw_df(df_nu)\n",
    "\n",
    "df_cos_prim = get_primary_shw_df(df_cos)"
   ]
  },
  {
   "cell_type": "raw",
   "metadata": {},
   "source": [
    "when_hnl_center = (df_hnl_prim['mod_t'] >= lb) &  (df_hnl_prim['mod_t'] <= ub)\n",
    "when_nu_center = (df_nu_prim['mod_t'] >= lb) &  (df_nu_prim['mod_t'] <= ub)\n",
    "when_cos_center = (df_cos_prim['mod_t'] >= lb) &  (df_cos_prim['mod_t'] <= ub)\n",
    "\n",
    "when_hnl_edge = (df_hnl_prim['mod_t'] < lb) | (df_hnl_prim['mod_t'] > ub)\n",
    "when_nu_edge = (df_nu_prim['mod_t'] < lb) | (df_nu_prim['mod_t'] > ub)\n",
    "when_cos_edge = (df_cos_prim['mod_t'] < lb) | (df_cos_prim['mod_t'] > ub)\n",
    "\n",
    "df_hnl_prim_center = df_hnl_prim[when_hnl_center]\n",
    "df_nu_prim_center = df_nu_prim[when_nu_center]\n",
    "df_cos_prim_center = df_cos_prim[when_cos_center]\n",
    "\n",
    "df_hnl_prim_edge = df_hnl_prim[when_hnl_edge]\n",
    "df_nu_prim_edge = df_nu_prim[when_nu_edge]\n",
    "df_cos_prim_edge = df_cos_prim[when_cos_edge]"
   ]
  },
  {
   "cell_type": "raw",
   "metadata": {},
   "source": [
    "#==========================================#\n",
    "plot_slc_var(df_hnl_prim_center, df_nu_prim_center, df_cos_prim_center,\n",
    "                    true_counts, start_counts, \n",
    "                    'slc_n_trks', \n",
    "                    xmin = 0, xmax = 10, xnbin = 10,\n",
    "                    xtitle = 'n Tracks',\n",
    "                  ifAddLegend = True, addLegend = label\n",
    "                    )\n",
    "#-----------------------------------#\n",
    "if ifSave:\n",
    "    #fig.tight_layout()\n",
    "    plt.savefig(savePath+\"nTrk_peak_center.png\", dpi = 200)\n",
    "#-----------------------------------#\n",
    "plt.show()\n",
    "\n",
    "#==========================================#\n",
    "plot_slc_var(df_hnl_prim_center, df_nu_prim_center, df_cos_prim_center,\n",
    "                    true_counts, start_counts, \n",
    "                    'slc_n_shws', \n",
    "                    xmin = 0, xmax = 10, xnbin = 10,\n",
    "                    xtitle = 'n Showers',\n",
    "                  ifAddLegend = True, addLegend = label\n",
    "                    )\n",
    "#-----------------------------------#\n",
    "if ifSave:\n",
    "    #fig.tight_layout()\n",
    "    plt.savefig(savePath+\"nShw_peak_center.png\", dpi = 200)\n",
    "#-----------------------------------#\n",
    "plt.show()"
   ]
  },
  {
   "cell_type": "raw",
   "metadata": {},
   "source": [
    "#==========================================#\n",
    "plot_slc_var(df_hnl_prim_edge, df_nu_prim_edge, df_cos_prim_edge,\n",
    "                    true_counts, start_counts, \n",
    "                    'slc_n_trks', \n",
    "                    xmin = 0, xmax = 10, xnbin = 10,\n",
    "                    xtitle = 'n Tracks',\n",
    "                  ifAddLegend = True, addLegend = label\n",
    "                    )\n",
    "#-----------------------------------#\n",
    "if ifSave:\n",
    "    #fig.tight_layout()\n",
    "    plt.savefig(savePath+\"nTrk_peak_edge.png\", dpi = 200)\n",
    "#-----------------------------------#\n",
    "plt.show()\n",
    "\n",
    "#==========================================#\n",
    "plot_slc_var(df_hnl_prim_edge, df_nu_prim_edge, df_cos_prim_edge,\n",
    "                    true_counts, start_counts, \n",
    "                    'slc_n_shws', \n",
    "                    xmin = 0, xmax = 10, xnbin = 10,\n",
    "                    xtitle = 'n Showers',\n",
    "                  ifAddLegend = True, addLegend = label\n",
    "                    )\n",
    "#-----------------------------------#\n",
    "if ifSave:\n",
    "    #fig.tight_layout()\n",
    "    plt.savefig(savePath+\"nShw_peak_edge.png\", dpi = 200)\n",
    "#-----------------------------------#\n",
    "plt.show()"
   ]
  },
  {
   "cell_type": "markdown",
   "metadata": {},
   "source": [
    "<h3>Apply Cut</h3>"
   ]
  },
  {
   "cell_type": "raw",
   "metadata": {},
   "source": [
    "if ifCut:\n",
    "    df_hnl_prim_center = df_hnl_prim_center[df_hnl_prim_center['slc_n_trks'] <= 1]\n",
    "    df_nu_prim_center = df_nu_prim_center[df_nu_prim_center['slc_n_trks'] <= 1]\n",
    "    df_cos_prim_center = df_cos_prim_center[df_cos_prim_center['slc_n_trks'] <= 1]\n",
    "\n",
    "    df_hnl_prim_edge = df_hnl_prim_edge[df_hnl_prim_edge['slc_n_trks'] <= 1]\n",
    "    df_nu_prim_edge = df_nu_prim_edge[df_nu_prim_edge['slc_n_trks'] <= 1]\n",
    "    df_cos_prim_edge = df_cos_prim_edge[df_cos_prim_edge['slc_n_trks'] <= 1]\n",
    "    \n",
    "    df_hnl_prim_center = df_hnl_prim_center[df_hnl_prim_center['slc_n_shws'] <= 3]\n",
    "    df_nu_prim_center = df_nu_prim_center[df_nu_prim_center['slc_n_shws'] <= 3]\n",
    "    df_cos_prim_center = df_cos_prim_center[df_cos_prim_center['slc_n_shws'] <= 3]\n",
    "\n",
    "    df_hnl_prim_edge = df_hnl_prim_edge[df_hnl_prim_edge['slc_n_shws'] <= 3]\n",
    "    df_nu_prim_edge = df_nu_prim_edge[df_nu_prim_edge['slc_n_shws'] <= 3]\n",
    "    df_cos_prim_edge = df_cos_prim_edge[df_cos_prim_edge['slc_n_shws'] <= 3]\n",
    "    \n",
    "df_hnl_prim = pd.concat([df_hnl_prim_center, df_hnl_prim_edge])\n",
    "df_nu_prim = pd.concat([df_nu_prim_center, df_nu_prim_edge])\n",
    "df_cos_prim = pd.concat([df_cos_prim_center, df_cos_prim_edge])\n",
    "\n",
    "df_hnl = merge_df_prim(df_hnl, df_hnl_prim)\n",
    "\n",
    "df_nu = merge_df_prim(df_nu, df_nu_prim)\n",
    "\n",
    "df_cos = merge_df_prim(df_cos, df_cos_prim)"
   ]
  },
  {
   "cell_type": "markdown",
   "metadata": {},
   "source": [
    "<h3>Save Eff/Purity</h3>"
   ]
  },
  {
   "cell_type": "raw",
   "metadata": {},
   "source": [
    "purity, eff = calc_purity_eff(df_hnl, df_nu, df_cos, true_counts, start_counts)\n",
    "\n",
    "purity_arr.append(purity)\n",
    "eff_arr.append(eff)\n",
    "cut_arr.append(\"Multiplicity Cut\")\n",
    "\n",
    "print(purity_arr)\n",
    "print(eff_arr)\n",
    "print(cut_arr)"
   ]
  },
  {
   "cell_type": "markdown",
   "metadata": {},
   "source": [
    "<h1>Muon Rejection</h1>"
   ]
  },
  {
   "cell_type": "code",
   "execution_count": null,
   "metadata": {},
   "outputs": [],
   "source": [
    "when_hnl_center = (df_hnl['mod_t'] >= lb) &  (df_hnl['mod_t'] <= ub)\n",
    "when_nu_center = (df_nu['mod_t'] >= lb) &  (df_nu['mod_t'] <= ub)\n",
    "when_cos_center = (df_cos['mod_t'] >= lb) &  (df_cos['mod_t'] <= ub)\n",
    "\n",
    "when_hnl_edge = (df_hnl['mod_t'] < lb) | (df_hnl['mod_t'] > ub)\n",
    "when_nu_edge = (df_nu['mod_t'] < lb) | (df_nu['mod_t'] > ub)\n",
    "when_cos_edge = (df_cos['mod_t'] < lb) | (df_cos['mod_t'] > ub)\n",
    "\n",
    "df_hnl_center = df_hnl[when_hnl_center]\n",
    "df_nu_center = df_nu[when_nu_center]\n",
    "df_cos_center = df_cos[when_cos_center]\n",
    "\n",
    "df_hnl_edge = df_hnl[when_hnl_edge]\n",
    "df_nu_edge = df_nu[when_nu_edge]\n",
    "df_cos_edge = df_cos[when_cos_edge]"
   ]
  },
  {
   "cell_type": "code",
   "execution_count": null,
   "metadata": {},
   "outputs": [],
   "source": [
    "plot_slc_var(df_hnl, df_nu, df_cos,\n",
    "                    true_counts, start_counts, \n",
    "                    'slc_n_razzled_muons', \n",
    "                    xmin = 0, xmax = 6, xnbin = 6,\n",
    "                    xtitle = 'n Razzled Muons',\n",
    "                     ifAddLegend = True, addLegend = label\n",
    "                    )\n",
    "\n",
    "plt.axvline(x = 1, c = 'r', linestyle = '--', lw = 1.5)\n",
    "plt.annotate(\"\", xy=(0.5, 8.5e6), xytext=(1, 8.5e6)\n",
    "             , arrowprops=dict(arrowstyle= '-|>',color='r',lw=1.5,ls='--'))\n",
    "plt.ylim(0, 9e6)\n",
    "#-----------------------------------#\n",
    "if ifSave:\n",
    "    #fig.tight_layout()\n",
    "    plt.savefig(savePath+\"nrazzled_muon_precut.png\", dpi = 200)\n",
    "#-----------------------------------#\n",
    "plt.show()\n",
    "#----------------------------------------------\n",
    "plot_slc_var(df_hnl, df_nu, df_cos,\n",
    "                    true_counts, start_counts, \n",
    "                    'slc_pfp_razzled_muon_score', \n",
    "                    xmin = 0, xmax = 1, xnbin = 50,\n",
    "                    xtitle = 'PFP Razzled Muon Score',\n",
    "                     ifAddLegend = True, addLegend = label\n",
    "                    )\n",
    "plt.axvline(x =  TuneCut['MuonPeak'], c = 'r', linestyle = '--', lw = 1.5)\n",
    "plt.annotate(\"\", xy=(0.0, 8.5e6), xytext=(TuneCut['MuonPeak'], 8.5e6)\n",
    "             , arrowprops=dict(arrowstyle= '-|>',color='r',lw=1.5,ls='--'))\n",
    "plt.ylim(0, 9e6)\n",
    "#-----------------------------------#\n",
    "if ifSave:\n",
    "    #fig.tight_layout()\n",
    "    plt.savefig(savePath+\"razzled_muon_score_precut.png\", dpi = 200)\n",
    "#-----------------------------------#\n",
    "plt.show()"
   ]
  },
  {
   "cell_type": "code",
   "execution_count": null,
   "metadata": {},
   "outputs": [],
   "source": [
    "plot_slc_var(df_hnl_center, df_nu_center, df_cos_center,\n",
    "                    true_counts, start_counts, \n",
    "                    'slc_n_razzled_muons', \n",
    "                    xmin = 0, xmax = 6, xnbin = 6,\n",
    "                    xtitle = 'n Razzled Muons',\n",
    "                     ifAddLegend = True, addLegend = label\n",
    "                    )\n",
    "\n",
    "plt.axvline(x = 1, c = 'r', linestyle = '--', lw = 1.5)\n",
    "plt.annotate(\"\", xy=(0.5, 8.5e6), xytext=(1, 8.5e6)\n",
    "             , arrowprops=dict(arrowstyle= '-|>',color='r',lw=1.5,ls='--'))\n",
    "plt.ylim(0, 9e6)\n",
    "#-----------------------------------#\n",
    "if ifSave:\n",
    "    #fig.tight_layout()\n",
    "    plt.savefig(savePath+\"nrazzled_muon_peak_precut.png\", dpi = 200)\n",
    "#-----------------------------------#\n",
    "plt.show()\n",
    "#----------------------------------------------\n",
    "plot_slc_var(df_hnl_center, df_nu_center, df_cos_center,\n",
    "                    true_counts, start_counts, \n",
    "                    'slc_pfp_razzled_muon_score', \n",
    "                    xmin = 0, xmax = 1, xnbin = 50,\n",
    "                    xtitle = 'PFP Razzled Muon Score',\n",
    "                     ifAddLegend = True, addLegend = label\n",
    "                    )\n",
    "\n",
    "plt.axvline(x =  TuneCut['MuonPeak'], c = 'r', linestyle = '--', lw = 1.5)\n",
    "plt.annotate(\"\", xy=(0.0, 8.5e6), xytext=(TuneCut['MuonPeak'], 8.5e6)\n",
    "             , arrowprops=dict(arrowstyle= '-|>',color='r',lw=1.5,ls='--'))\n",
    "plt.ylim(0, 9e6)\n",
    "#-----------------------------------#\n",
    "if ifSave:\n",
    "    #fig.tight_layout()\n",
    "    plt.savefig(savePath+\"razzled_muon_score_peak_precut.png\", dpi = 200)\n",
    "#-----------------------------------#\n",
    "plt.show()"
   ]
  },
  {
   "cell_type": "code",
   "execution_count": null,
   "metadata": {},
   "outputs": [],
   "source": [
    "plot_slc_var(df_hnl_edge, df_nu_edge, df_cos_edge,\n",
    "                    true_counts, start_counts, \n",
    "                    'slc_n_razzled_muons', \n",
    "                    xmin = 0, xmax = 6, xnbin = 6,\n",
    "                    xtitle = 'n Razzled Muons',\n",
    "                     ifAddLegend = True, addLegend = label\n",
    "                    )\n",
    "\n",
    "plt.axvline(x = 1, c = 'r', linestyle = '--', lw = 1.5)\n",
    "plt.annotate(\"\", xy=(0.5, 3.2e5), xytext=(1, 3.2e5)\n",
    "             , arrowprops=dict(arrowstyle= '-|>',color='r',lw=1.5,ls='--'))\n",
    "plt.ylim(0, 3.3e5)\n",
    "#-----------------------------------#\n",
    "if ifSave:\n",
    "    #fig.tight_layout()\n",
    "    plt.savefig(savePath+\"nrazzled_muon_edge_precut.png\", dpi = 200)\n",
    "#-----------------------------------#\n",
    "plt.show()\n",
    "#----------------------------------------------\n",
    "plot_slc_var(df_hnl_edge, df_nu_edge, df_cos_edge,\n",
    "                    true_counts, start_counts, \n",
    "                    'slc_pfp_razzled_muon_score', \n",
    "                    xmin = 0, xmax = 1, xnbin = 50,\n",
    "                    xtitle = 'PFP Razzled Muon Score',\n",
    "                     ifAddLegend = True, addLegend = label\n",
    "                    )\n",
    "plt.axvline(x =  TuneCut['MuonEdge'], c = 'r', linestyle = '--', lw = 1.5)\n",
    "plt.annotate(\"\", xy=(0.0, 3.2e5), xytext=(TuneCut['MuonEdge'], 3.2e5)\n",
    "             , arrowprops=dict(arrowstyle= '-|>',color='r',lw=1.5,ls='--'))\n",
    "plt.ylim(0, 3.3e5)\n",
    "#-----------------------------------#\n",
    "if ifSave:\n",
    "    #fig.tight_layout()\n",
    "    plt.savefig(savePath+\"razzled_muon_score_edge_precut.png\", dpi = 200)\n",
    "#-----------------------------------#\n",
    "plt.show()"
   ]
  },
  {
   "cell_type": "code",
   "execution_count": null,
   "metadata": {},
   "outputs": [],
   "source": [
    "if ifTune:\n",
    "    vary_MuonScore(df_hnl_center, df_nu_center, df_cos_center , true_counts, start_counts)\n",
    "    if ifSave:\n",
    "        plt.savefig(savePath+\"/muon_center_tuning.png\", dpi =200)\n",
    "        \n",
    "    vary_MuonScore(df_hnl_edge, df_nu_edge, df_cos_edge , true_counts, start_counts)\n",
    "    if ifSave:\n",
    "        plt.savefig(savePath+\"/muon_edge_tuning.png\", dpi =200)"
   ]
  },
  {
   "cell_type": "markdown",
   "metadata": {},
   "source": [
    "<h3> Apply Cut</h3>"
   ]
  },
  {
   "cell_type": "code",
   "execution_count": null,
   "metadata": {},
   "outputs": [],
   "source": [
    "if ifCut:\n",
    "    muonPeak = TuneCut['MuonPeak']\n",
    "    print(muonPeak)\n",
    "    df_hnl_center = cutMuon(df_hnl_center, muonScore =muonPeak)\n",
    "    df_nu_center = cutMuon(df_nu_center, muonScore =muonPeak)\n",
    "    df_cos_center = cutMuon(df_cos_center,muonScore =muonPeak)\n",
    "    \n",
    "    muonEdge = TuneCut['MuonEdge']\n",
    "    print(muonEdge)\n",
    "    df_hnl_edge = cutMuon(df_hnl_edge, muonScore =muonEdge)\n",
    "    df_nu_edge = cutMuon(df_nu_edge, muonScore =muonEdge)\n",
    "    df_cos_edge = cutMuon(df_cos_edge,muonScore =muonEdge)   \n",
    "    \n",
    "df_hnl = pd.concat([df_hnl_center, df_hnl_edge])\n",
    "df_nu = pd.concat([df_nu_center, df_nu_edge])\n",
    "df_cos = pd.concat([df_cos_center, df_cos_edge])"
   ]
  },
  {
   "cell_type": "markdown",
   "metadata": {},
   "source": [
    "<h3>Save Purity/Eff</h3>"
   ]
  },
  {
   "cell_type": "code",
   "execution_count": null,
   "metadata": {},
   "outputs": [],
   "source": [
    "purity, eff = calc_purity_eff(df_hnl, df_nu, df_cos, true_counts, start_counts)\n",
    "\n",
    "purity_arr.append(purity)\n",
    "eff_arr.append(eff)\n",
    "cut_arr.append(\"Muon Cut\")\n",
    "\n",
    "print(purity_arr)\n",
    "print(eff_arr)\n",
    "print(cut_arr)"
   ]
  },
  {
   "cell_type": "markdown",
   "metadata": {},
   "source": [
    "<h1> Make Beam Bucket - Post Muon</h1>"
   ]
  },
  {
   "cell_type": "code",
   "execution_count": null,
   "metadata": {},
   "outputs": [],
   "source": [
    "hist, bins = plot_slc_var(df_hnl, df_nu, df_cos,\n",
    "                    true_counts, start_counts, \n",
    "                    'mod_t', \n",
    "                    xmin = 0, xmax = 30, xnbin = 30,\n",
    "                    xtitle = 'Opt0 Time Corrected Z % ' + str(width) + \" [ns]\",\n",
    "                     ifAddLegend = True, addLegend = label\n",
    "                    )\n",
    "#-----------------------------------#\n",
    "if ifSave:\n",
    "    #fig.tight_layout()\n",
    "    plt.savefig(savePath+\"beam_bucket_postmuon.png\", dpi = 200)\n",
    "#-----------------------------------#\n",
    "plt.show()"
   ]
  },
  {
   "cell_type": "markdown",
   "metadata": {},
   "source": [
    "<h1>Proton Rejection</h1>"
   ]
  },
  {
   "cell_type": "code",
   "execution_count": null,
   "metadata": {},
   "outputs": [],
   "source": [
    "when_hnl_center = (df_hnl['mod_t'] >= lb) &  (df_hnl['mod_t'] <= ub)\n",
    "when_nu_center = (df_nu['mod_t'] >= lb) &  (df_nu['mod_t'] <= ub)\n",
    "when_cos_center = (df_cos['mod_t'] >= lb) &  (df_cos['mod_t'] <= ub)\n",
    "\n",
    "when_hnl_edge = (df_hnl['mod_t'] < lb) | (df_hnl['mod_t'] > ub)\n",
    "when_nu_edge = (df_nu['mod_t'] < lb) | (df_nu['mod_t'] > ub)\n",
    "when_cos_edge = (df_cos['mod_t'] < lb) | (df_cos['mod_t'] > ub)\n",
    "\n",
    "df_hnl_center = df_hnl[when_hnl_center]\n",
    "df_nu_center = df_nu[when_nu_center]\n",
    "df_cos_center = df_cos[when_cos_center]\n",
    "\n",
    "df_hnl_edge = df_hnl[when_hnl_edge]\n",
    "df_nu_edge = df_nu[when_nu_edge]\n",
    "df_cos_edge = df_cos[when_cos_edge]"
   ]
  },
  {
   "cell_type": "code",
   "execution_count": null,
   "metadata": {},
   "outputs": [],
   "source": [
    "plot_slc_var(df_hnl, df_nu, df_cos,\n",
    "                    true_counts, start_counts, \n",
    "                    'slc_n_razzled_protons_thresh', \n",
    "                    xmin = 0, xmax = 6, xnbin = 6,\n",
    "                    xtitle = 'n Razzled Protons',\n",
    "                     ifAddLegend = True, addLegend = label\n",
    "                    )\n",
    "\n",
    "plt.axvline(x = 1, c = 'r', linestyle = '--', lw = 1.5)\n",
    "plt.annotate(\"\", xy=(0.5, 7.5e5), xytext=(1, 7.5e5)\n",
    "             , arrowprops=dict(arrowstyle= '-|>',color='r',lw=1.5,ls='--'))\n",
    "plt.ylim(0, 8e5)\n",
    "#-----------------------------------#\n",
    "if ifSave:\n",
    "    #fig.tight_layout()\n",
    "    plt.savefig(savePath+\"nrazzled_proton_precut.png\", dpi = 200)\n",
    "#-----------------------------------#\n",
    "plt.show()\n",
    "#----------------------------------------------\n",
    "plot_slc_var(df_hnl, df_nu, df_cos,\n",
    "                    true_counts, start_counts, \n",
    "                    'slc_pfp_razzled_proton_score', \n",
    "                    xmin = 0, xmax = 1, xnbin = 50,\n",
    "                    xtitle = 'PFP Razzled Proton Score',\n",
    "                      ifAddLegend = True, addLegend = label, LegendLoc = 'upper center'\n",
    "                    )\n",
    "\n",
    "plt.axvline(x =  TuneCut['ProtonPeak'], c = 'r', linestyle = '--', lw = 1.5)\n",
    "\n",
    "plt.annotate(\"\", xy=(TuneCut['ProtonPeak'], 5.5e5), xytext=(TuneCut['ProtonPeak'] - 0.1, 5.5e5)\n",
    "             , arrowprops=dict(arrowstyle= '<|-',color='r',lw=1.5,ls='--'))\n",
    "plt.ylim(0, 6e5)\n",
    "#-----------------------------------#\n",
    "if ifSave:\n",
    "    #fig.tight_layout()\n",
    "    plt.savefig(savePath+\"razzled_proton_score_precut.png\", dpi = 200)\n",
    "#-----------------------------------#\n",
    "plt.show()"
   ]
  },
  {
   "cell_type": "code",
   "execution_count": null,
   "metadata": {},
   "outputs": [],
   "source": [
    "plot_slc_var(df_hnl_center, df_nu_center, df_cos_center,\n",
    "                    true_counts, start_counts, \n",
    "                    'slc_n_razzled_protons_thresh', \n",
    "                    xmin = 0, xmax = 6, xnbin = 6,\n",
    "                    xtitle = 'n Razzled Protons',\n",
    "                     ifAddLegend = True, addLegend = label\n",
    "                    )\n",
    "\n",
    "plt.axvline(x = 1, c = 'r', linestyle = '--', lw = 1.5)\n",
    "plt.annotate(\"\", xy=(0.5, 7.5e5), xytext=(1, 7.5e5)\n",
    "             , arrowprops=dict(arrowstyle= '-|>',color='r',lw=1.5,ls='--'))\n",
    "plt.ylim(0, 8e5)\n",
    "#-----------------------------------#\n",
    "if ifSave:\n",
    "    #fig.tight_layout()\n",
    "    plt.savefig(savePath+\"nrazzled_proton_peak_precut.png\", dpi = 200)\n",
    "#-----------------------------------#\n",
    "plt.show()\n",
    "#----------------------------------------------\n",
    "plot_slc_var(df_hnl_center, df_nu_center, df_cos_center,\n",
    "                    true_counts, start_counts, \n",
    "                    'slc_pfp_razzled_proton_score', \n",
    "                    xmin = 0, xmax = 1, xnbin = 50,\n",
    "                    xtitle = 'PFP Razzled Proton Score',\n",
    "                      ifAddLegend = True, addLegend = label, LegendLoc = 'upper center'\n",
    "                    )\n",
    "\n",
    "plt.axvline(x =  TuneCut['ProtonPeak'], c = 'r', linestyle = '--', lw = 1.5)\n",
    "\n",
    "plt.annotate(\"\", xy=(TuneCut['ProtonPeak'], 5.5e5), xytext=(TuneCut['ProtonPeak'] - 0.1, 5.5e5)\n",
    "             , arrowprops=dict(arrowstyle= '<|-',color='r',lw=1.5,ls='--'))\n",
    "plt.ylim(0, 6e5)\n",
    "#-----------------------------------#\n",
    "if ifSave:\n",
    "    #fig.tight_layout()\n",
    "    plt.savefig(savePath+\"razzled_proton_score_peak_precut.png\", dpi = 200)\n",
    "#-----------------------------------#\n",
    "plt.show()"
   ]
  },
  {
   "cell_type": "code",
   "execution_count": null,
   "metadata": {},
   "outputs": [],
   "source": [
    "plot_slc_var(df_hnl_edge, df_nu_edge, df_cos_edge,\n",
    "                    true_counts, start_counts, \n",
    "                    'slc_n_razzled_protons_thresh', \n",
    "                    xmin = 0, xmax = 6, xnbin = 6,\n",
    "                    xtitle = 'n Razzled Protons',\n",
    "                     ifAddLegend = True, addLegend = label\n",
    "                    )\n",
    "\n",
    "plt.axvline(x = 1, c = 'r', linestyle = '--', lw = 1.5)\n",
    "plt.annotate(\"\", xy=(0.5, 3.8e4), xytext=(1, 3.8e4)\n",
    "             , arrowprops=dict(arrowstyle= '-|>',color='r',lw=1.5,ls='--'))\n",
    "plt.ylim(0, 4e4)\n",
    "#-----------------------------------#\n",
    "if ifSave:\n",
    "    #fig.tight_layout()\n",
    "    plt.savefig(savePath+\"nrazzled_proton_edge_precut.png\", dpi = 200)\n",
    "#-----------------------------------#\n",
    "plt.show()\n",
    "#----------------------------------------------\n",
    "plot_slc_var(df_hnl_edge, df_nu_edge, df_cos_edge,\n",
    "                    true_counts, start_counts, \n",
    "                    'slc_pfp_razzled_proton_score', \n",
    "                    xmin = 0, xmax = 1, xnbin = 50,\n",
    "                    xtitle = 'PFP Razzled Proton Score',\n",
    "                      ifAddLegend = True, addLegend = label, LegendLoc = 'upper center'\n",
    "                    )\n",
    "\n",
    "plt.axvline(x =  TuneCut['ProtonEdge'], c = 'r', linestyle = '--', lw = 1.5)\n",
    "\n",
    "plt.annotate(\"\", xy=(TuneCut['ProtonEdge'], 3.0e4), xytext=(TuneCut['ProtonEdge'] - 0.1, 3.0e4)\n",
    "             , arrowprops=dict(arrowstyle= '<|-',color='r',lw=1.5,ls='--'))\n",
    "plt.ylim(0, 3.2e4)\n",
    "#-----------------------------------#\n",
    "if ifSave:\n",
    "    #fig.tight_layout()\n",
    "    plt.savefig(savePath+\"razzled_proton_score_edge_precut.png\", dpi = 200)\n",
    "#-----------------------------------#\n",
    "plt.show()"
   ]
  },
  {
   "cell_type": "code",
   "execution_count": null,
   "metadata": {},
   "outputs": [],
   "source": [
    "if ifTune:\n",
    "    vary_ProtonScore(df_hnl_center, df_nu_center, df_cos_center, true_counts, start_counts)\n",
    "    if ifSave:\n",
    "        plt.savefig(savePath+\"/proton_center_tuning.png\", dpi =200)\n",
    "        \n",
    "    vary_ProtonScore(df_hnl_edge, df_nu_edge, df_cos_edge, true_counts, start_counts)\n",
    "    if ifSave:\n",
    "        plt.savefig(savePath+\"/proton_edge_tuning.png\", dpi =200)"
   ]
  },
  {
   "cell_type": "markdown",
   "metadata": {},
   "source": [
    "<h3>Apply Cut</h3>"
   ]
  },
  {
   "cell_type": "code",
   "execution_count": null,
   "metadata": {},
   "outputs": [],
   "source": [
    "if ifCut:\n",
    "    protonPeak = TuneCut['ProtonPeak']\n",
    "    print(protonPeak)\n",
    "    df_hnl_center = cutProton(df_hnl_center, nProton = 0, protonScore = protonPeak)\n",
    "    df_nu_center = cutProton(df_nu_center, nProton = 0, protonScore = protonPeak)\n",
    "    df_cos_center = cutProton(df_cos_center, nProton = 0, protonScore = protonPeak)\n",
    "    \n",
    "    protonEdge = TuneCut['ProtonEdge']\n",
    "    print(protonEdge)\n",
    "    df_hnl_edge = cutProton(df_hnl_edge, nProton = 0, protonScore = protonEdge)\n",
    "    df_nu_edge = cutProton(df_nu_edge, nProton = 0, protonScore = protonEdge)\n",
    "    df_cos_edge = cutProton(df_cos_edge, nProton = 0, protonScore = protonEdge)\n",
    "    \n",
    "df_hnl = pd.concat([df_hnl_center, df_hnl_edge])\n",
    "df_nu = pd.concat([df_nu_center, df_nu_edge])\n",
    "df_cos = pd.concat([df_cos_center, df_cos_edge])"
   ]
  },
  {
   "cell_type": "markdown",
   "metadata": {},
   "source": [
    "<h3>Save Purity/Eff</h3>"
   ]
  },
  {
   "cell_type": "code",
   "execution_count": null,
   "metadata": {},
   "outputs": [],
   "source": [
    "purity, eff = calc_purity_eff(df_hnl, df_nu, df_cos, true_counts, start_counts)\n",
    "\n",
    "purity_arr.append(purity)\n",
    "eff_arr.append(eff)\n",
    "cut_arr.append(\"Proton Cut\")\n",
    "\n",
    "print(purity_arr)\n",
    "print(eff_arr)\n",
    "print(cut_arr)"
   ]
  },
  {
   "cell_type": "markdown",
   "metadata": {},
   "source": [
    "<h1> Make Beam Bucket - Post Proton</h1>"
   ]
  },
  {
   "cell_type": "code",
   "execution_count": null,
   "metadata": {},
   "outputs": [],
   "source": [
    "hist, bins = plot_slc_var(df_hnl, df_nu, df_cos,\n",
    "                    true_counts, start_counts, \n",
    "                    'mod_t', \n",
    "                    xmin = 0, xmax = 30, xnbin = 30,\n",
    "                    xtitle = 'Opt0 Time Corrected Z % ' + str(width) + \" [ns]\",\n",
    "                 ifAddLegend = True, addLegend = label\n",
    "                    )\n",
    "#-----------------------------------#\n",
    "if ifSave:\n",
    "    #fig.tight_layout()\n",
    "    plt.savefig(savePath+\"beam_bucket_postproton.png\", dpi = 200)\n",
    "#-----------------------------------#\n",
    "plt.show()"
   ]
  },
  {
   "cell_type": "markdown",
   "metadata": {},
   "source": [
    "<h1>Pion Rejection</h1>"
   ]
  },
  {
   "cell_type": "code",
   "execution_count": null,
   "metadata": {},
   "outputs": [],
   "source": [
    "when_hnl_center = (df_hnl['mod_t'] >= lb) &  (df_hnl['mod_t'] <= ub)\n",
    "when_nu_center = (df_nu['mod_t'] >= lb) &  (df_nu['mod_t'] <= ub)\n",
    "when_cos_center = (df_cos['mod_t'] >= lb) &  (df_cos['mod_t'] <= ub)\n",
    "\n",
    "when_hnl_edge = (df_hnl['mod_t'] < lb) | (df_hnl['mod_t'] > ub)\n",
    "when_nu_edge = (df_nu['mod_t'] < lb) | (df_nu['mod_t'] > ub)\n",
    "when_cos_edge = (df_cos['mod_t'] < lb) | (df_cos['mod_t'] > ub)\n",
    "\n",
    "df_hnl_center = df_hnl[when_hnl_center]\n",
    "df_nu_center = df_nu[when_nu_center]\n",
    "df_cos_center = df_cos[when_cos_center]\n",
    "\n",
    "df_hnl_edge = df_hnl[when_hnl_edge]\n",
    "df_nu_edge = df_nu[when_nu_edge]\n",
    "df_cos_edge = df_cos[when_cos_edge]"
   ]
  },
  {
   "cell_type": "code",
   "execution_count": null,
   "metadata": {},
   "outputs": [],
   "source": [
    "plot_slc_var(df_hnl, df_nu, df_cos,\n",
    "                    true_counts, start_counts, \n",
    "                    'slc_n_razzled_pions_thresh', \n",
    "                    xmin = 0, xmax = 6, xnbin = 6,\n",
    "                    xtitle = 'n Razzled Pions',\n",
    "                      ifAddLegend = True, addLegend = label\n",
    "                    )\n",
    "\n",
    "plt.axvline(x = 1, c = 'r', linestyle = '--', lw = 1.5)\n",
    "plt.annotate(\"\", xy=(1, 4.3e5), xytext=(0.5, 4.3e5)\n",
    ", arrowprops=dict(arrowstyle= '<|-', color='r', lw=1.5, ls='--'))\n",
    "plt.ylim(0, 4.5e5)\n",
    "#-----------------------------------#\n",
    "if ifSave:\n",
    "    #fig.tight_layout()\n",
    "    plt.savefig(savePath+\"nrazzled_pion_precut.png\", dpi = 200)\n",
    "#-----------------------------------#\n",
    "plt.show()\n",
    "#----------------------------------------------\n",
    "plot_slc_var(df_hnl, df_nu, df_cos,\n",
    "                    true_counts, start_counts, \n",
    "                    'slc_pfp_razzled_pion_score', \n",
    "                    xmin = 0, xmax = 1, xnbin = 50,\n",
    "                    xtitle = 'PFP Razzled Pion Score',\n",
    "                      ifAddLegend = True, addLegend = label, LegendLoc = 'upper center'\n",
    "                    )\n",
    "\n",
    "plt.axvline(x =  TuneCut['PionPeak'], c = 'r', linestyle = '--', lw = 1.5)\n",
    "\n",
    "plt.annotate(\"\", xy=(TuneCut['PionPeak'], 1.7e5), xytext=(TuneCut['PionPeak'] - 0.1, 1.7e5)\n",
    ", arrowprops=dict(arrowstyle= '<|-', color='r', lw=1.5, ls='--'))\n",
    "plt.ylim(0, 1.8e5)\n",
    "\n",
    "#-----------------------------------#\n",
    "if ifSave:\n",
    "    #fig.tight_layout()\n",
    "    plt.savefig(savePath+\"razzled_pion_score_precut.png\", dpi = 200)\n",
    "#-----------------------------------#\n",
    "plt.show()"
   ]
  },
  {
   "cell_type": "code",
   "execution_count": null,
   "metadata": {},
   "outputs": [],
   "source": [
    "plot_slc_var(df_hnl_center, df_nu_center, df_cos_center,\n",
    "                    true_counts, start_counts, \n",
    "                    'slc_n_razzled_pions_thresh', \n",
    "                    xmin = 0, xmax = 6, xnbin = 6,\n",
    "                    xtitle = 'n Razzled Pions',\n",
    "                      ifAddLegend = True, addLegend = label\n",
    "                    )\n",
    "\n",
    "plt.axvline(x = 1, c = 'r', linestyle = '--', lw = 1.5)\n",
    "plt.annotate(\"\", xy=(1, 4.3e5), xytext=(0.5, 4.3e5)\n",
    ", arrowprops=dict(arrowstyle= '<|-', color='r', lw=1.5, ls='--'))\n",
    "plt.ylim(0, 4.5e5)\n",
    "#-----------------------------------#\n",
    "if ifSave:\n",
    "    #fig.tight_layout()\n",
    "    plt.savefig(savePath+\"nrazzled_pion_center_precut.png\", dpi = 200)\n",
    "#-----------------------------------#\n",
    "plt.show()\n",
    "#----------------------------------------------\n",
    "plot_slc_var(df_hnl_center, df_nu_center, df_cos_center,\n",
    "                    true_counts, start_counts, \n",
    "                    'slc_pfp_razzled_pion_score', \n",
    "                    xmin = 0, xmax = 1, xnbin = 50,\n",
    "                    xtitle = 'PFP Razzled Pion Score',\n",
    "                      ifAddLegend = True, addLegend = label, LegendLoc = 'upper center'\n",
    "                    )\n",
    "\n",
    "plt.axvline(x =  TuneCut['PionPeak'], c = 'r', linestyle = '--', lw = 1.5)\n",
    "\n",
    "plt.annotate(\"\", xy=(TuneCut['PionPeak'], 1.7e5), xytext=(TuneCut['PionPeak'] - 0.1, 1.7e5)\n",
    ", arrowprops=dict(arrowstyle= '<|-', color='r', lw=1.5, ls='--'))\n",
    "plt.ylim(0, 1.8e5)\n",
    "#-----------------------------------#\n",
    "if ifSave:\n",
    "    #fig.tight_layout()\n",
    "    plt.savefig(savePath+\"razzled_pion_score_peak_precut.png\", dpi = 200)\n",
    "#-----------------------------------#\n",
    "plt.show()"
   ]
  },
  {
   "cell_type": "code",
   "execution_count": null,
   "metadata": {},
   "outputs": [],
   "source": [
    "plot_slc_var(df_hnl_edge, df_nu_edge, df_cos_edge,\n",
    "                    true_counts, start_counts, \n",
    "                    'slc_n_razzled_pions_thresh', \n",
    "                    xmin = 0, xmax = 6, xnbin = 6,\n",
    "                    xtitle = 'n Razzled Pions',\n",
    "                      ifAddLegend = True, addLegend = label\n",
    "                    )\n",
    "\n",
    "plt.axvline(x = 1, c = 'r', linestyle = '--', lw = 1.5)\n",
    "plt.annotate(\"\", xy=(1, 3.3e4), xytext=(0.5, 3.3e4)\n",
    ", arrowprops=dict(arrowstyle= '<|-', color='r', lw=1.5, ls='--'))\n",
    "plt.ylim(0, 3.4e4)\n",
    "#-----------------------------------#\n",
    "if ifSave:\n",
    "    #fig.tight_layout()\n",
    "    plt.savefig(savePath+\"nrazzled_pion_edge_precut.png\", dpi = 200)\n",
    "#-----------------------------------#\n",
    "plt.show()\n",
    "#----------------------------------------------\n",
    "plot_slc_var(df_hnl_edge, df_nu_edge, df_cos_edge,\n",
    "                    true_counts, start_counts, \n",
    "                    'slc_pfp_razzled_pion_score', \n",
    "                    xmin = 0, xmax = 1, xnbin = 50,\n",
    "                    xtitle = 'PFP Razzled Pion Score',\n",
    "                      ifAddLegend = True, addLegend = label, LegendLoc = 'upper center'\n",
    "                    )\n",
    "\n",
    "plt.axvline(x =  TuneCut['PionEdge'], c = 'r', linestyle = '--', lw = 1.5)\n",
    "\n",
    "plt.annotate(\"\", xy=(TuneCut['PionEdge'], 1.1e4), xytext=(TuneCut['PionEdge'] - 0.1, 1.1e4)\n",
    ", arrowprops=dict(arrowstyle= '<|-', color='r', lw=1.5, ls='--'))\n",
    "plt.ylim(0, 1.2e4)\n",
    "#-----------------------------------#\n",
    "if ifSave:\n",
    "    #fig.tight_layout()\n",
    "    plt.savefig(savePath+\"razzled_pion_score_edge_precut.png\", dpi = 200)\n",
    "#-----------------------------------#\n",
    "plt.show()"
   ]
  },
  {
   "cell_type": "code",
   "execution_count": null,
   "metadata": {},
   "outputs": [],
   "source": [
    "if ifTune:\n",
    "    vary_PionScore(df_hnl_center, df_nu_center, df_cos_center, true_counts, start_counts)\n",
    "    if ifSave:\n",
    "        plt.savefig(savePath+\"/pion_center_tuning.png\", dpi =200)\n",
    "        \n",
    "    vary_PionScore(df_hnl_edge, df_nu_edge, df_cos_edge, true_counts, start_counts)\n",
    "    if ifSave:\n",
    "        plt.savefig(savePath+\"/pion_edge_tuning.png\", dpi =200)"
   ]
  },
  {
   "cell_type": "markdown",
   "metadata": {},
   "source": [
    "<h3>Apply Cut </h3>"
   ]
  },
  {
   "cell_type": "code",
   "execution_count": null,
   "metadata": {},
   "outputs": [],
   "source": [
    "if ifCut:\n",
    "    pionPeak = TuneCut['PionPeak']\n",
    "    print(pionPeak)\n",
    "    df_hnl_center = cutPion(df_hnl_center, nPion = 0, pionScore = pionPeak)\n",
    "    df_nu_center = cutPion(df_nu_center, nPion = 0, pionScore = pionPeak)\n",
    "    df_cos_center = cutPion(df_cos_center, nPion = 0, pionScore = pionPeak)\n",
    "    \n",
    "    pionEdge = TuneCut['PionEdge']\n",
    "    print(pionEdge)\n",
    "    df_hnl_edge = cutPion(df_hnl_edge, nPion = 0, pionScore = pionEdge)\n",
    "    df_nu_edge = cutPion(df_nu_edge, nPion = 0, pionScore = pionEdge)\n",
    "    df_cos_edge = cutPion(df_cos_edge, nPion = 0, pionScore = pionEdge)\n",
    "    \n",
    "df_hnl = pd.concat([df_hnl_center, df_hnl_edge])\n",
    "df_nu = pd.concat([df_nu_center, df_nu_edge])\n",
    "df_cos = pd.concat([df_cos_center, df_cos_edge])"
   ]
  },
  {
   "cell_type": "markdown",
   "metadata": {},
   "source": [
    "<h3>Save Purity/Eff</h3>"
   ]
  },
  {
   "cell_type": "code",
   "execution_count": null,
   "metadata": {},
   "outputs": [],
   "source": [
    "purity, eff = calc_purity_eff(df_hnl, df_nu, df_cos, true_counts, start_counts)\n",
    "\n",
    "purity_arr.append(purity)\n",
    "eff_arr.append(eff)\n",
    "cut_arr.append(\"Pion Cut\")\n",
    "\n",
    "print(purity_arr)\n",
    "print(eff_arr)\n",
    "print(cut_arr)"
   ]
  },
  {
   "cell_type": "markdown",
   "metadata": {},
   "source": [
    "<h1> Make Beam Bucket - Post Pion</h1>"
   ]
  },
  {
   "cell_type": "code",
   "execution_count": null,
   "metadata": {},
   "outputs": [],
   "source": [
    "hist, bins = plot_slc_var(df_hnl, df_nu, df_cos,\n",
    "                    true_counts, start_counts, \n",
    "                    'mod_t', \n",
    "                    xmin = 0, xmax = 30, xnbin = 30,\n",
    "                    xtitle = 'Opt0 Time Corrected Z % ' + str(width) + \" [ns]\",\n",
    "                     ifAddLegend = True, addLegend = label\n",
    "                    )\n",
    "#-----------------------------------#\n",
    "if ifSave:\n",
    "    #fig.tight_layout()\n",
    "    plt.savefig(savePath+\"beam_bucket_postpion.png\", dpi = 200)\n",
    "#-----------------------------------#\n",
    "plt.show()"
   ]
  },
  {
   "cell_type": "markdown",
   "metadata": {},
   "source": [
    "<h1>Electron Rejection</h1>"
   ]
  },
  {
   "cell_type": "markdown",
   "metadata": {},
   "source": [
    "<h3> Get Primary Shower </h3>"
   ]
  },
  {
   "cell_type": "code",
   "execution_count": null,
   "metadata": {},
   "outputs": [],
   "source": [
    "df_hnl_prim = get_primary_shw_df(df_hnl)\n",
    "\n",
    "df_nu_prim = get_primary_shw_df(df_nu)\n",
    "\n",
    "df_cos_prim = get_primary_shw_df(df_cos)"
   ]
  },
  {
   "cell_type": "markdown",
   "metadata": {},
   "source": [
    "<h3>Split into Peak/Edge</h3>"
   ]
  },
  {
   "cell_type": "code",
   "execution_count": null,
   "metadata": {},
   "outputs": [],
   "source": [
    "when_hnl_center = (df_hnl_prim['mod_t'] >= lb) &  (df_hnl_prim['mod_t'] <= ub)\n",
    "when_nu_center = (df_nu_prim['mod_t'] >= lb) &  (df_nu_prim['mod_t'] <= ub)\n",
    "when_cos_center = (df_cos_prim['mod_t'] >= lb) &  (df_cos_prim['mod_t'] <= ub)\n",
    "\n",
    "when_hnl_edge = (df_hnl_prim['mod_t'] < lb) | (df_hnl_prim['mod_t'] > ub)\n",
    "when_nu_edge = (df_nu_prim['mod_t'] < lb) | (df_nu_prim['mod_t'] > ub)\n",
    "when_cos_edge = (df_cos_prim['mod_t'] < lb) | (df_cos_prim['mod_t'] > ub)\n",
    "\n",
    "df_hnl_prim_center = df_hnl_prim[when_hnl_center]\n",
    "df_nu_prim_center = df_nu_prim[when_nu_center]\n",
    "df_cos_prim_center = df_cos_prim[when_cos_center]\n",
    "\n",
    "df_hnl_prim_edge = df_hnl_prim[when_hnl_edge]\n",
    "df_nu_prim_edge = df_nu_prim[when_nu_edge]\n",
    "df_cos_prim_edge = df_cos_prim[when_cos_edge]"
   ]
  },
  {
   "cell_type": "markdown",
   "metadata": {},
   "source": [
    "<h3> Primary Shower </h3>"
   ]
  },
  {
   "cell_type": "code",
   "execution_count": null,
   "metadata": {},
   "outputs": [],
   "source": [
    "#----------------------------------------------\n",
    "plot_slc_var(df_hnl_prim\n",
    "            , df_nu_prim\n",
    "             , df_cos_prim\n",
    "                    ,true_counts, start_counts, \n",
    "                    'slc_pfp_razzled_electron_score', \n",
    "                    xmin = 0, xmax = 1, xnbin = 50,\n",
    "                    xtitle = 'PFP Razzled Electron Score',\n",
    "                  ifAddLegend = True, addLegend = label, LegendLoc ='upper center'\n",
    "                    )\n",
    "\n",
    "plt.axvline(x =  TuneCut['ElectronPeak'], c = 'r', linestyle = '--', lw = 1.5)\n",
    "\n",
    "plt.annotate(\"\", xy=(TuneCut['ElectronPeak'], 8.5e3), xytext=(TuneCut['ElectronPeak'] - 0.1, 8.5e3)\n",
    "             , arrowprops=dict(arrowstyle= '<|-',color='r',lw=1.5,ls='--'))\n",
    "plt.ylim(0, 1e4)\n",
    "#-----------------------------------#\n",
    "if ifSave:\n",
    "    #fig.tight_layout()\n",
    "    plt.savefig(savePath+\"razzled_electron_score_prim_shw_precut.png\", dpi = 200)\n",
    "#-----------------------------------#\n",
    "plt.show()"
   ]
  },
  {
   "cell_type": "code",
   "execution_count": null,
   "metadata": {},
   "outputs": [],
   "source": [
    "#----------------------------------------------\n",
    "plot_slc_var(df_hnl_prim_center\n",
    "            , df_nu_prim_center\n",
    "             , df_cos_prim_center,\n",
    "                    true_counts, start_counts, \n",
    "                    'slc_pfp_razzled_electron_score', \n",
    "                    xmin = 0, xmax = 1, xnbin = 50,\n",
    "                    xtitle = 'PFP Razzled Electron Score',\n",
    "                  ifAddLegend = True, addLegend = label, LegendLoc ='upper center'\n",
    "                    )\n",
    "\n",
    "plt.axvline(x =  TuneCut['ElectronPeak'], c = 'r', linestyle = '--', lw = 1.5)\n",
    "\n",
    "plt.annotate(\"\", xy=(TuneCut['ElectronPeak'], 8.5e3), xytext=(TuneCut['ElectronPeak'] - 0.1, 8.5e3)\n",
    "             , arrowprops=dict(arrowstyle= '<|-',color='r',lw=1.5,ls='--'))\n",
    "plt.ylim(0, 1e4)\n",
    "#-----------------------------------#\n",
    "if ifSave:\n",
    "    #fig.tight_layout()\n",
    "    plt.savefig(savePath+\"razzled_electron_score_prim_shw_peak_precut.png\", dpi = 200)\n",
    "#-----------------------------------#\n",
    "plt.show()"
   ]
  },
  {
   "cell_type": "code",
   "execution_count": null,
   "metadata": {},
   "outputs": [],
   "source": [
    "#----------------------------------------------\n",
    "plot_slc_var(df_hnl_prim_edge\n",
    "            , df_nu_prim_edge\n",
    "             , df_cos_prim_edge,\n",
    "                    true_counts, start_counts, \n",
    "                    'slc_pfp_razzled_electron_score', \n",
    "                    xmin = 0, xmax = 1, xnbin = 50,\n",
    "                    xtitle = 'PFP Razzled Electron Score',\n",
    "                  ifAddLegend = True, addLegend = label, LegendLoc ='upper center'\n",
    "                    )\n",
    "\n",
    "plt.axvline(x =  TuneCut['ElectronEdge'], c = 'r', linestyle = '--', lw = 1.5)\n",
    "\n",
    "plt.annotate(\"\", xy=(TuneCut['ElectronEdge'], 1.1e3), xytext=(TuneCut['ElectronEdge'] - 0.1, 1.1e3)\n",
    "             , arrowprops=dict(arrowstyle= '<|-',color='r',lw=1.5,ls='--'))\n",
    "plt.ylim(0, 1.2e3)\n",
    "#-----------------------------------#\n",
    "if ifSave:\n",
    "    #fig.tight_layout()\n",
    "    plt.savefig(savePath+\"razzled_electron_score_prim_shw_edge_precut.png\", dpi = 200)\n",
    "#-----------------------------------#\n",
    "plt.show()"
   ]
  },
  {
   "cell_type": "markdown",
   "metadata": {},
   "source": [
    "<h3> Apply Cut </h3>"
   ]
  },
  {
   "cell_type": "code",
   "execution_count": null,
   "metadata": {},
   "outputs": [],
   "source": [
    "if ifCut:\n",
    "    electronPeak = TuneCut['ElectronPeak']\n",
    "    print(electronPeak)\n",
    "    df_hnl_prim_center = cutElectronLess(df_hnl_prim_center, ifnElectron = False, electronScore = electronPeak)\n",
    "    df_nu_prim_center = cutElectronLess(df_nu_prim_center, ifnElectron = False, electronScore = electronPeak)\n",
    "    df_cos_prim_center = cutElectronLess(df_cos_prim_center, ifnElectron = False, electronScore = electronPeak)\n",
    "    \n",
    "    electronEdge = TuneCut['ElectronEdge']\n",
    "    print(electronEdge)\n",
    "    df_hnl_prim_edge = cutElectronLess(df_hnl_prim_edge, ifnElectron = False, electronScore = electronEdge)\n",
    "    df_nu_prim_edge = cutElectronLess(df_nu_prim_edge, ifnElectron = False, electronScore = electronEdge)\n",
    "    df_cos_prim_edge = cutElectronLess(df_cos_prim_edge, ifnElectron = False, electronScore = electronEdge)\n",
    "    \n",
    "df_hnl_prim = pd.concat([df_hnl_prim_center, df_hnl_prim_edge])\n",
    "df_nu_prim = pd.concat([df_nu_prim_center, df_nu_prim_edge])\n",
    "df_cos_prim = pd.concat([df_cos_prim_center, df_cos_prim_edge])"
   ]
  },
  {
   "cell_type": "code",
   "execution_count": null,
   "metadata": {},
   "outputs": [],
   "source": [
    "df_hnl = merge_df_prim(df_hnl, df_hnl_prim)\n",
    "\n",
    "df_nu = merge_df_prim(df_nu, df_nu_prim)\n",
    "\n",
    "df_cos = merge_df_prim(df_cos, df_cos_prim)"
   ]
  },
  {
   "cell_type": "markdown",
   "metadata": {},
   "source": [
    "<h3>Save Purity/Eff</h3>"
   ]
  },
  {
   "cell_type": "code",
   "execution_count": null,
   "metadata": {},
   "outputs": [],
   "source": [
    "purity, eff = calc_purity_eff(df_hnl, df_nu, df_cos, true_counts, start_counts)\n",
    "\n",
    "purity_arr.append(purity)\n",
    "eff_arr.append(eff)\n",
    "cut_arr.append(\"Electron Cut\")\n",
    "\n",
    "print(purity_arr)\n",
    "print(eff_arr)\n",
    "print(cut_arr)"
   ]
  },
  {
   "cell_type": "markdown",
   "metadata": {},
   "source": [
    "<h1> Make Beam Bucket - Post Electron</h1>"
   ]
  },
  {
   "cell_type": "code",
   "execution_count": null,
   "metadata": {},
   "outputs": [],
   "source": [
    "hist, bins = plot_slc_var(df_hnl, df_nu, df_cos,\n",
    "                    true_counts, start_counts, \n",
    "                    'mod_t', \n",
    "                    xmin = 0, xmax = 30, xnbin = 30,\n",
    "                    xtitle = 'Opt0 Time Corrected Z % ' + str(width) + \" [ns]\",\n",
    "                     ifAddLegend = True, addLegend = label\n",
    "                    )\n",
    "#-----------------------------------#\n",
    "if ifSave:\n",
    "    #fig.tight_layout()\n",
    "    plt.savefig(savePath+\"beam_bucket_postelectron.png\", dpi = 200)\n",
    "#-----------------------------------#\n",
    "plt.show()"
   ]
  },
  {
   "cell_type": "markdown",
   "metadata": {},
   "source": [
    "<h1>PFP Track Score</h1>"
   ]
  },
  {
   "cell_type": "markdown",
   "metadata": {},
   "source": [
    "<h3>Get Primary Shower</h3>"
   ]
  },
  {
   "cell_type": "code",
   "execution_count": null,
   "metadata": {},
   "outputs": [],
   "source": [
    "df_hnl_prim = get_primary_shw_df(df_hnl)\n",
    "\n",
    "df_nu_prim = get_primary_shw_df(df_nu)\n",
    "\n",
    "df_cos_prim = get_primary_shw_df(df_cos)"
   ]
  },
  {
   "cell_type": "markdown",
   "metadata": {},
   "source": [
    "<h3>Split into 1 and 2+ shower cases </h3>"
   ]
  },
  {
   "cell_type": "code",
   "execution_count": null,
   "metadata": {},
   "outputs": [],
   "source": [
    "df_hnl_shw1, df_hnl_shw2 = split_my_df(df_hnl)\n",
    "\n",
    "df_nu_shw1, df_nu_shw2 = split_my_df(df_nu)\n",
    "\n",
    "df_cos_shw1, df_cos_shw2 = split_my_df(df_cos)"
   ]
  },
  {
   "cell_type": "markdown",
   "metadata": {},
   "source": [
    "<h3> One Shower Case : Peak vs Edge Bucket </h3>"
   ]
  },
  {
   "cell_type": "code",
   "execution_count": null,
   "metadata": {},
   "outputs": [],
   "source": [
    "when_hnl_shw1_center = (df_hnl_shw1['mod_t'] >= lb) &  (df_hnl_shw1['mod_t'] <= ub)\n",
    "when_nu_shw1_center = (df_nu_shw1['mod_t'] >= lb) &  (df_nu_shw1['mod_t'] <= ub)\n",
    "when_cos_shw1_center = (df_cos_shw1['mod_t'] >= lb) &  (df_cos_shw1['mod_t'] <= ub)\n",
    "\n",
    "when_hnl_shw1_edge = (df_hnl_shw1['mod_t'] < lb) | (df_hnl_shw1['mod_t'] > ub)\n",
    "when_nu_shw1_edge = (df_nu_shw1['mod_t'] < lb) | (df_nu_shw1['mod_t'] > ub)\n",
    "when_cos_shw1_edge = (df_cos_shw1['mod_t'] < lb) | (df_cos_shw1['mod_t'] > ub)\n",
    "\n",
    "df_hnl_shw1_center = df_hnl_shw1[when_hnl_shw1_center]\n",
    "df_nu_shw1_center = df_nu_shw1[when_nu_shw1_center]\n",
    "df_cos_shw1_center = df_cos_shw1[when_cos_shw1_center]\n",
    "\n",
    "df_hnl_shw1_edge = df_hnl_shw1[when_hnl_shw1_edge]\n",
    "df_nu_shw1_edge = df_nu_shw1[when_nu_shw1_edge]\n",
    "df_cos_shw1_edge = df_cos_shw1[when_cos_shw1_edge]"
   ]
  },
  {
   "cell_type": "code",
   "execution_count": null,
   "metadata": {},
   "outputs": [],
   "source": [
    "plot_slc_var(df_hnl_shw1, df_nu_shw1, df_cos_shw1,\n",
    "                    true_counts, start_counts, \n",
    "                    'slc_pfp_track_score', \n",
    "                    xmin = 0, xmax = 1, xnbin = 40,\n",
    "                    xtitle = 'PFP Track Score',\n",
    "                  ifAddLegend = True, addLegend = label\n",
    "                    )\n",
    "plt.axvline(x =  TuneCut['OneShowerCenterTrackLess'], c = 'r', linestyle = '--')\n",
    "plt.axvline(x =  TuneCut['OneShowerTrackMore'], c = 'r', linestyle = '--')\n",
    "\n",
    "#-----------------------------------#\n",
    "if ifSave:\n",
    "    #fig.tight_layout()\n",
    "    plt.savefig(savePath+\"one_shw_track_score.png\", dpi = 200)\n",
    "#-----------------------------------#\n",
    "plt.show()"
   ]
  },
  {
   "cell_type": "code",
   "execution_count": null,
   "metadata": {},
   "outputs": [],
   "source": [
    "plot_slc_var(df_hnl_shw1_center, df_nu_shw1_center, df_cos_shw1_center,\n",
    "                    true_counts, start_counts, \n",
    "                    'slc_pfp_track_score', \n",
    "                    xmin = 0, xmax = 1, xnbin = 40,\n",
    "                    xtitle = 'PFP Track Score',\n",
    "                  ifAddLegend = True, addLegend = label\n",
    "                    )\n",
    "plt.axvline(x =  TuneCut['OneShowerCenterTrackLess'], c = 'r', linestyle = '--')\n",
    "plt.axvline(x =  TuneCut['OneShowerTrackMore'], c = 'r', linestyle = '--')\n",
    "\n",
    "#-----------------------------------#\n",
    "if ifSave:\n",
    "    #fig.tight_layout()\n",
    "    plt.savefig(savePath+\"one_shw_track_score_peak.png\", dpi = 200)\n",
    "#-----------------------------------#\n",
    "plt.show()"
   ]
  },
  {
   "cell_type": "code",
   "execution_count": null,
   "metadata": {},
   "outputs": [],
   "source": [
    "plot_slc_var(df_hnl_shw1_edge, df_nu_shw1_edge, df_cos_shw1_edge,\n",
    "                    true_counts, start_counts, \n",
    "                    'slc_pfp_track_score', \n",
    "                    xmin = 0, xmax = 1, xnbin = 40,\n",
    "                    xtitle = 'PFP Track Score',\n",
    "                  ifAddLegend = True, addLegend = label\n",
    "                    )\n",
    "\n",
    "plt.axvline(x =  TuneCut['OneShowerEdgeTrackLess'], c = 'r', linestyle = '--')\n",
    "plt.axvline(x =  TuneCut['OneShowerTrackMore'], c = 'r', linestyle = '--')\n",
    "\n",
    "#-----------------------------------#\n",
    "if ifSave:\n",
    "    #fig.tight_layout()\n",
    "    plt.savefig(savePath+\"one_shw_track_score_edge.png\", dpi = 200)\n",
    "#-----------------------------------#\n",
    "plt.show()"
   ]
  },
  {
   "cell_type": "markdown",
   "metadata": {},
   "source": [
    "<h3>Cut on One Shower</h3>"
   ]
  },
  {
   "cell_type": "code",
   "execution_count": null,
   "metadata": {},
   "outputs": [],
   "source": [
    "if ifCut:\n",
    "\n",
    "    trk_lb = TuneCut['OneShowerTrackMore']\n",
    "    trk_ub = TuneCut['OneShowerCenterTrackLess']\n",
    "    print(trk_ub)\n",
    "    df_hnl_shw1_center = df_hnl_shw1_center[(df_hnl_shw1_center['slc_pfp_track_score'] >= trk_lb) &(df_hnl_shw1_center['slc_pfp_track_score'] <= trk_ub)]\n",
    "    df_nu_shw1_center = df_nu_shw1_center[(df_nu_shw1_center['slc_pfp_track_score'] >= trk_lb) &(df_nu_shw1_center['slc_pfp_track_score'] <= trk_ub)]\n",
    "    df_cos_shw1_center = df_cos_shw1_center[(df_cos_shw1_center['slc_pfp_track_score'] >= trk_lb) &(df_cos_shw1_center['slc_pfp_track_score'] <= trk_ub)]\n",
    "\n",
    "    trk_lb = TuneCut['OneShowerTrackMore']\n",
    "    trk_ub = TuneCut['OneShowerEdgeTrackLess']\n",
    "    print(trk_ub)\n",
    "    df_hnl_shw1_edge = df_hnl_shw1_edge[(df_hnl_shw1_edge['slc_pfp_track_score'] >= trk_lb) &(df_hnl_shw1_edge['slc_pfp_track_score'] <= trk_ub)]\n",
    "    df_nu_shw1_edge = df_nu_shw1_edge[(df_nu_shw1_edge['slc_pfp_track_score'] >= trk_lb) &(df_nu_shw1_edge['slc_pfp_track_score'] <= trk_ub)]\n",
    "    df_cos_shw1_edge = df_cos_shw1_edge[(df_cos_shw1_edge['slc_pfp_track_score'] >= trk_lb) &(df_cos_shw1_edge['slc_pfp_track_score'] <= trk_ub)]\n",
    "    \n",
    "df_hnl_shw1 = pd.concat([df_hnl_shw1_center, df_hnl_shw1_edge])\n",
    "df_nu_shw1 = pd.concat([df_nu_shw1_center, df_nu_shw1_edge])\n",
    "df_cos_shw1 = pd.concat([df_cos_shw1_center, df_cos_shw1_edge])"
   ]
  },
  {
   "cell_type": "markdown",
   "metadata": {},
   "source": [
    "<h3>Primary of Two shower case</h3>"
   ]
  },
  {
   "cell_type": "code",
   "execution_count": null,
   "metadata": {},
   "outputs": [],
   "source": [
    "df_nu_shw2 = df_nu_shw2.apply(pd.Series.explode).reset_index()\n",
    "df_hnl_shw2 = df_hnl_shw2.apply(pd.Series.explode).reset_index()\n",
    "df_cos_shw2 = df_cos_shw2.apply(pd.Series.explode).reset_index()\n",
    "\n",
    "df_hnl_prim_shw2 = get_primary_shw_df(df_hnl_shw2)\n",
    "\n",
    "df_nu_prim_shw2 = get_primary_shw_df(df_nu_shw2)\n",
    "\n",
    "df_cos_prim_shw2 = get_primary_shw_df(df_cos_shw2)"
   ]
  },
  {
   "cell_type": "markdown",
   "metadata": {},
   "source": [
    "<h3>Two Showers: Split Peak vs Edge</h3>"
   ]
  },
  {
   "cell_type": "code",
   "execution_count": null,
   "metadata": {},
   "outputs": [],
   "source": [
    "when_hnl_shw2_center = (df_hnl_prim_shw2['mod_t'] >= lb) &  (df_hnl_prim_shw2['mod_t'] <= ub)\n",
    "when_nu_shw2_center = (df_nu_prim_shw2['mod_t'] >= lb) &  (df_nu_prim_shw2['mod_t'] <= ub)\n",
    "when_cos_shw2_center = (df_cos_prim_shw2['mod_t'] >= lb) &  (df_cos_prim_shw2['mod_t'] <= ub)\n",
    "\n",
    "when_hnl_shw2_edge = (df_hnl_prim_shw2['mod_t'] < lb) | (df_hnl_prim_shw2['mod_t'] > ub)\n",
    "when_nu_shw2_edge = (df_nu_prim_shw2['mod_t'] < lb) | (df_nu_prim_shw2['mod_t'] > ub)\n",
    "when_cos_shw2_edge = (df_cos_prim_shw2['mod_t'] < lb) | (df_cos_prim_shw2['mod_t'] > ub)\n",
    "\n",
    "df_hnl_prim_shw2_center = df_hnl_prim_shw2[when_hnl_shw2_center]\n",
    "df_nu_prim_shw2_center = df_nu_prim_shw2[when_nu_shw2_center]\n",
    "df_cos_prim_shw2_center = df_cos_prim_shw2[when_cos_shw2_center]\n",
    "\n",
    "\n",
    "df_hnl_prim_shw2_edge = df_hnl_prim_shw2[when_hnl_shw2_edge]\n",
    "df_nu_prim_shw2_edge = df_nu_prim_shw2[when_nu_shw2_edge]\n",
    "df_cos_prim_shw2_edge = df_cos_prim_shw2[when_cos_shw2_edge]"
   ]
  },
  {
   "cell_type": "code",
   "execution_count": null,
   "metadata": {},
   "outputs": [],
   "source": [
    "plot_slc_var(df_hnl_prim_shw2, df_nu_prim_shw2, df_cos_prim_shw2,\n",
    "                    true_counts, start_counts, \n",
    "                    'slc_pfp_track_score', \n",
    "                    xmin = 0, xmax = 1, xnbin = 40,\n",
    "                    xtitle = 'PFP Track Score',\n",
    "                  ifAddLegend = True, addLegend = label\n",
    "                    )\n",
    "plt.axvline(x =  TuneCut['TwoShowerCenterTrackLess'], c = 'r', linestyle = '--')\n",
    "plt.axvline(x =  TuneCut['TwoShowerTrackMore'], c = 'r', linestyle = '--')\n",
    "\n",
    "#-----------------------------------#\n",
    "if ifSave:\n",
    "    #fig.tight_layout()\n",
    "    plt.savefig(savePath+\"two_shower_primary_track_score_precut.png\", dpi = 200)\n",
    "#-----------------------------------#\n",
    "plt.show()\n"
   ]
  },
  {
   "cell_type": "code",
   "execution_count": null,
   "metadata": {},
   "outputs": [],
   "source": [
    "plot_slc_var(df_hnl_prim_shw2_center, df_nu_prim_shw2_center, df_cos_prim_shw2_center,\n",
    "                    true_counts, start_counts, \n",
    "                    'slc_pfp_track_score', \n",
    "                    xmin = 0, xmax = 1, xnbin = 40,\n",
    "                    xtitle = 'PFP Track Score',\n",
    "                  ifAddLegend = True, addLegend = label\n",
    "                    )\n",
    "plt.axvline(x =  TuneCut['TwoShowerCenterTrackLess'], c = 'r', linestyle = '--')\n",
    "plt.axvline(x =  TuneCut['TwoShowerTrackMore'], c = 'r', linestyle = '--')\n",
    "\n",
    "#-----------------------------------#\n",
    "if ifSave:\n",
    "    #fig.tight_layout()\n",
    "    plt.savefig(savePath+\"two_shower_primary_track_score_peak_precut.png\", dpi = 200)\n",
    "#-----------------------------------#\n",
    "plt.show()\n"
   ]
  },
  {
   "cell_type": "code",
   "execution_count": null,
   "metadata": {},
   "outputs": [],
   "source": [
    "plot_slc_var(df_hnl_prim_shw2_edge, df_nu_prim_shw2_edge, df_cos_prim_shw2_edge,\n",
    "                    true_counts, start_counts, \n",
    "                    'slc_pfp_track_score', \n",
    "                    xmin = 0, xmax = 1, xnbin = 40,\n",
    "                    xtitle = 'PFP Track Score',\n",
    "                  ifAddLegend = True, addLegend = label\n",
    "                    )\n",
    "plt.axvline(x =  TuneCut['TwoShowerEdgeTrackLess'], c = 'r', linestyle = '--')\n",
    "plt.axvline(x =  TuneCut['TwoShowerTrackMore'], c = 'r', linestyle = '--')\n",
    "\n",
    "#-----------------------------------#\n",
    "if ifSave:\n",
    "    #fig.tight_layout()\n",
    "    plt.savefig(savePath+\"two_shower_primary_track_score_edge_precut.png\", dpi = 200)\n",
    "#-----------------------------------#\n",
    "plt.show()\n"
   ]
  },
  {
   "cell_type": "markdown",
   "metadata": {},
   "source": [
    "<h3>Cut on Two Shower</h3>"
   ]
  },
  {
   "cell_type": "code",
   "execution_count": null,
   "metadata": {},
   "outputs": [],
   "source": [
    "if ifCut:\n",
    "    \n",
    "    trk_lb = TuneCut['TwoShowerTrackMore']\n",
    "    trk_ub = TuneCut['TwoShowerCenterTrackLess']\n",
    "    print(trk_ub)\n",
    "    df_hnl_prim_shw2_center = df_hnl_prim_shw2_center[(df_hnl_prim_shw2_center['slc_pfp_track_score'] >= trk_lb) &(df_hnl_prim_shw2_center['slc_pfp_track_score'] <= trk_ub)]\n",
    "    df_nu_prim_shw2_center = df_nu_prim_shw2_center[(df_nu_prim_shw2_center['slc_pfp_track_score'] >= trk_lb) &(df_nu_prim_shw2_center['slc_pfp_track_score'] <= trk_ub)]\n",
    "    df_cos_prim_shw2_center = df_cos_prim_shw2_center[(df_cos_prim_shw2_center['slc_pfp_track_score'] >= trk_lb) &(df_cos_prim_shw2_center['slc_pfp_track_score'] <= trk_ub)]\n",
    "    \n",
    "    trk_lb = TuneCut['TwoShowerTrackMore']\n",
    "    trk_ub = TuneCut['TwoShowerEdgeTrackLess']\n",
    "    print(trk_ub)\n",
    "    df_hnl_prim_shw2_edge = df_hnl_prim_shw2_edge[(df_hnl_prim_shw2_edge['slc_pfp_track_score'] >= trk_lb) &(df_hnl_prim_shw2_edge['slc_pfp_track_score'] <= trk_ub)]\n",
    "    df_nu_prim_shw2_edge = df_nu_prim_shw2_edge[(df_nu_prim_shw2_edge['slc_pfp_track_score'] >= trk_lb) &(df_nu_prim_shw2_edge['slc_pfp_track_score'] <= trk_ub)]\n",
    "    df_cos_prim_shw2_edge = df_cos_prim_shw2_edge[(df_cos_prim_shw2_edge['slc_pfp_track_score'] >= trk_lb) &(df_cos_prim_shw2_edge['slc_pfp_track_score'] <= trk_ub)]\n",
    "\n",
    "    \n",
    "df_hnl_prim_shw2 = pd.concat([df_hnl_prim_shw2_center, df_hnl_prim_shw2_edge])\n",
    "df_nu_prim_shw2 = pd.concat([df_nu_prim_shw2_center, df_nu_prim_shw2_edge])\n",
    "df_cos_prim_shw2 = pd.concat([df_cos_prim_shw2_center, df_cos_prim_shw2_edge])"
   ]
  },
  {
   "cell_type": "markdown",
   "metadata": {},
   "source": [
    "<h3>Merge 1 and 2+ Showers </h3>"
   ]
  },
  {
   "cell_type": "code",
   "execution_count": null,
   "metadata": {},
   "outputs": [],
   "source": [
    "df_hnl_shw2 = merge_df_prim(df_hnl_shw2, df_hnl_prim_shw2)\n",
    "df_nu_shw2 = merge_df_prim(df_nu_shw2, df_nu_prim_shw2)\n",
    "df_cos_shw2 = merge_df_prim(df_cos_shw2, df_cos_prim_shw2)\n",
    "\n",
    "df_hnl = apply_shower_cut(df_hnl, df_hnl_shw1, df_hnl_shw2)\n",
    "df_nu = apply_shower_cut(df_nu, df_nu_shw1, df_nu_shw2)\n",
    "df_cos = apply_shower_cut(df_cos, df_cos_shw1, df_cos_shw2)"
   ]
  },
  {
   "cell_type": "markdown",
   "metadata": {},
   "source": [
    "<h3>Save Purity/Eff</h3>"
   ]
  },
  {
   "cell_type": "code",
   "execution_count": null,
   "metadata": {},
   "outputs": [],
   "source": [
    "purity, eff = calc_purity_eff(df_hnl, df_nu, df_cos, true_counts, start_counts)\n",
    "\n",
    "purity_arr.append(purity)\n",
    "eff_arr.append(eff)\n",
    "cut_arr.append(\"Track Score Cut\")\n",
    "\n",
    "print(purity_arr)\n",
    "print(eff_arr)\n",
    "print(cut_arr)"
   ]
  },
  {
   "cell_type": "markdown",
   "metadata": {},
   "source": [
    "<h1>Beam Bucket - Post Track Score </h1>"
   ]
  },
  {
   "cell_type": "code",
   "execution_count": null,
   "metadata": {},
   "outputs": [],
   "source": [
    "hist, bins = plot_slc_var(df_hnl, df_nu, df_cos,\n",
    "                    true_counts, start_counts, \n",
    "                    'mod_t', \n",
    "                    xmin = 0, xmax = 30, xnbin = 30,\n",
    "                    xtitle = 'Opt0 Time Corrected Z % ' + str(width) + ' [ns]',\n",
    "                  ifAddLegend = True, addLegend = label\n",
    "                    )\n",
    "#-----------------------------------#\n",
    "if ifSave:\n",
    "    #fig.tight_layout()\n",
    "    plt.savefig(savePath+\"beam_bucket_postrackscore.png\", dpi = 200)\n",
    "#-----------------------------------#\n",
    "plt.show()"
   ]
  },
  {
   "cell_type": "markdown",
   "metadata": {},
   "source": [
    "<h1>Opt0 Frac </h1>"
   ]
  },
  {
   "cell_type": "markdown",
   "metadata": {},
   "source": [
    "<h3> Split 1 and 2+ shower cases </h3>"
   ]
  },
  {
   "cell_type": "code",
   "execution_count": null,
   "metadata": {},
   "outputs": [],
   "source": [
    "df_hnl_shw1, df_hnl_shw2 = split_my_df(df_hnl)\n",
    "\n",
    "df_nu_shw1, df_nu_shw2 = split_my_df(df_nu)\n",
    "\n",
    "df_cos_shw1, df_cos_shw2 = split_my_df(df_cos)"
   ]
  },
  {
   "cell_type": "markdown",
   "metadata": {},
   "source": [
    "<h3> One Shower: Split Center vs Edge </h3>"
   ]
  },
  {
   "cell_type": "code",
   "execution_count": null,
   "metadata": {},
   "outputs": [],
   "source": [
    "when_hnl_shw1_center = (df_hnl_shw1['mod_t'] >= lb) &  (df_hnl_shw1['mod_t'] <= ub)\n",
    "when_nu_shw1_center = (df_nu_shw1['mod_t'] >= lb) &  (df_nu_shw1['mod_t'] <= ub)\n",
    "when_cos_shw1_center = (df_cos_shw1['mod_t'] >= lb) &  (df_cos_shw1['mod_t'] <= ub)\n",
    "\n",
    "when_hnl_shw1_edge = (df_hnl_shw1['mod_t'] < lb) | (df_hnl_shw1['mod_t'] > ub)\n",
    "when_nu_shw1_edge = (df_nu_shw1['mod_t'] < lb) | (df_nu_shw1['mod_t'] > ub)\n",
    "when_cos_shw1_edge = (df_cos_shw1['mod_t'] < lb) | (df_cos_shw1['mod_t'] > ub)\n",
    "\n",
    "df_hnl_shw1_center = df_hnl_shw1[when_hnl_shw1_center]\n",
    "df_nu_shw1_center = df_nu_shw1[when_nu_shw1_center]\n",
    "df_cos_shw1_center = df_cos_shw1[when_cos_shw1_center]\n",
    "\n",
    "\n",
    "df_hnl_shw1_edge = df_hnl_shw1[when_hnl_shw1_edge]\n",
    "df_nu_shw1_edge = df_nu_shw1[when_nu_shw1_edge]\n",
    "df_cos_shw1_edge = df_cos_shw1[when_cos_shw1_edge]"
   ]
  },
  {
   "cell_type": "code",
   "execution_count": null,
   "metadata": {},
   "outputs": [],
   "source": [
    "plot_slc_var(df_hnl_shw1, df_nu_shw1, df_cos_shw1,\n",
    "                    true_counts, start_counts, \n",
    "                    'slc_opt0_frac', \n",
    "                    xmin = -1, xmax = 2, xnbin = 50,\n",
    "                    #xmin = -0.5, xmax = 0.5, xnbin = 50,\n",
    "                    xtitle = 'Opt0 Fraction',\n",
    "                  ifAddLegend = True, addLegend = label\n",
    "                    )\n",
    "plt.axvline(x =  TuneCut['OneShowerCenterFracMore'], c = 'r', linestyle = '--')\n",
    "plt.axvline(x =  TuneCut['OneShowerFracLess'], c = 'r', linestyle = '--')\n",
    "\n",
    "#-----------------------------------#\n",
    "if ifSave:\n",
    "    #fig.tight_layout()\n",
    "    plt.savefig(savePath+\"opt0frac_one_shw_precut.png\", dpi = 200)\n",
    "#-----------------------------------#\n",
    "plt.show()\n",
    "\n",
    "print( TuneCut['OneShowerCenterFracMore'])"
   ]
  },
  {
   "cell_type": "code",
   "execution_count": null,
   "metadata": {},
   "outputs": [],
   "source": [
    "plot_slc_var(df_hnl_shw1_center, df_nu_shw1_center, df_cos_shw1_center,\n",
    "                    true_counts, start_counts, \n",
    "                    'slc_opt0_frac', \n",
    "                    xmin = -1, xmax = 2, xnbin = 50,\n",
    "                    #xmin = -0.5, xmax = 0.5, xnbin = 50,\n",
    "                    xtitle = 'Opt0 Fraction',\n",
    "                  ifAddLegend = True, addLegend = label\n",
    "                    )\n",
    "plt.axvline(x =  TuneCut['OneShowerCenterFracMore'], c = 'r', linestyle = '--')\n",
    "plt.axvline(x =  TuneCut['OneShowerFracLess'], c = 'r', linestyle = '--')\n",
    "\n",
    "#-----------------------------------#\n",
    "if ifSave:\n",
    "    #fig.tight_layout()\n",
    "    plt.savefig(savePath+\"opt0frac_one_shw_peak_precut.png\", dpi = 200)\n",
    "#-----------------------------------#\n",
    "plt.show()\n",
    "\n",
    "print( TuneCut['OneShowerCenterFracMore'])"
   ]
  },
  {
   "cell_type": "code",
   "execution_count": null,
   "metadata": {},
   "outputs": [],
   "source": [
    "plot_slc_var(df_hnl_shw1_edge, df_nu_shw1_edge, df_cos_shw1_edge,\n",
    "                    true_counts, start_counts, \n",
    "                    'slc_opt0_frac', \n",
    "                    xmin = -1, xmax = 2, xnbin = 50,\n",
    "                    #xmin = -0.5, xmax = 0.5, xnbin = 50,\n",
    "                    xtitle = 'Opt0 Fraction',\n",
    "                  ifAddLegend = True, addLegend = label\n",
    "                    )\n",
    "plt.axvline(x =  TuneCut['OneShowerEdgeFracMore'], c = 'r', linestyle = '--')\n",
    "plt.axvline(x =  TuneCut['OneShowerFracLess'], c = 'r', linestyle = '--')\n",
    "\n",
    "#-----------------------------------#\n",
    "if ifSave:\n",
    "    #fig.tight_layout()\n",
    "    plt.savefig(savePath+\"opt0frac_one_shw_edge_precut.png\", dpi = 200)\n",
    "#-----------------------------------#\n",
    "plt.show()\n",
    "\n",
    "print( TuneCut['OneShowerEdgeFracMore'])"
   ]
  },
  {
   "cell_type": "code",
   "execution_count": null,
   "metadata": {},
   "outputs": [],
   "source": [
    "if ifTune:\n",
    "    vary_OpT0FracMore(df_hnl_shw1_center, df_nu_shw1_center, df_cos_shw1_center, true_counts, start_counts)\n",
    "    if ifSave:\n",
    "        plt.savefig(savePath+\"/opt0frac_more_one_shw_center_tuning.png\", dpi =200)\n",
    "        \n",
    "    vary_OpT0FracMore(df_hnl_shw1_edge, df_nu_shw1_edge, df_cos_shw1_edge, true_counts, start_counts)\n",
    "    if ifSave:\n",
    "        plt.savefig(savePath+\"/opt0frac_more_one_shw_edge_tuning.png\", dpi =200)"
   ]
  },
  {
   "cell_type": "markdown",
   "metadata": {},
   "source": [
    "<h3>Apply Cut 1 shower only: harsh cut</h3>"
   ]
  },
  {
   "cell_type": "code",
   "execution_count": null,
   "metadata": {},
   "outputs": [],
   "source": [
    "if ifCut:\n",
    "    fracMore = TuneCut['OneShowerCenterFracMore']\n",
    "    fracLess = TuneCut['OneShowerFracLess']\n",
    "    print(fracMore)\n",
    "    \n",
    "    df_hnl_shw1_center = cutOpt0Frac(df_hnl_shw1_center, Opt0FracMore = fracMore, Opt0FracLess = fracLess)\n",
    "    df_nu_shw1_center = cutOpt0Frac(df_nu_shw1_center, Opt0FracMore = fracMore, Opt0FracLess = fracLess)\n",
    "    df_cos_shw1_center = cutOpt0Frac(df_cos_shw1_center, Opt0FracMore = fracMore, Opt0FracLess = fracLess)\n",
    "    \n",
    "    fracMore = TuneCut['OneShowerEdgeFracMore']\n",
    "    fracLess = TuneCut['OneShowerFracLess']\n",
    "    print(fracMore)\n",
    "    \n",
    "    df_hnl_shw1_edge = cutOpt0Frac(df_hnl_shw1_edge, Opt0FracMore = fracMore, Opt0FracLess = fracLess)\n",
    "    df_nu_shw1_edge = cutOpt0Frac(df_nu_shw1_edge, Opt0FracMore = fracMore, Opt0FracLess = fracLess)\n",
    "    df_cos_shw1_edge = cutOpt0Frac(df_cos_shw1_edge, Opt0FracMore = fracMore, Opt0FracLess = fracLess)\n",
    "    \n",
    "df_hnl_shw1 = pd.concat([df_hnl_shw1_center, df_hnl_shw1_edge])\n",
    "df_nu_shw1 = pd.concat([df_nu_shw1_center, df_nu_shw1_edge])\n",
    "df_cos_shw1 = pd.concat([df_cos_shw1_center, df_cos_shw1_edge])"
   ]
  },
  {
   "cell_type": "markdown",
   "metadata": {},
   "source": [
    "<h3> Two+ Showers: Split Center vs Edge </h3>"
   ]
  },
  {
   "cell_type": "code",
   "execution_count": null,
   "metadata": {},
   "outputs": [],
   "source": [
    "when_hnl_shw2_center = (df_hnl_shw2['mod_t'] >= lb) &  (df_hnl_shw2['mod_t'] <= ub)\n",
    "when_nu_shw2_center = (df_nu_shw2['mod_t'] >= lb) &  (df_nu_shw2['mod_t'] <= ub)\n",
    "when_cos_shw2_center = (df_cos_shw2['mod_t'] >= lb) &  (df_cos_shw2['mod_t'] <= ub)\n",
    "\n",
    "when_hnl_shw2_edge = (df_hnl_shw2['mod_t'] < lb) | (df_hnl_shw2['mod_t'] > ub)\n",
    "when_nu_shw2_edge = (df_nu_shw2['mod_t'] < lb) | (df_nu_shw2['mod_t'] > ub)\n",
    "when_cos_shw2_edge = (df_cos_shw2['mod_t'] < lb) | (df_cos_shw2['mod_t'] > ub)\n",
    "\n",
    "df_hnl_shw2_center = df_hnl_shw2[when_hnl_shw2_center]\n",
    "df_nu_shw2_center = df_nu_shw2[when_nu_shw2_center]\n",
    "df_cos_shw2_center = df_cos_shw2[when_cos_shw2_center]\n",
    "\n",
    "df_hnl_shw2_edge = df_hnl_shw2[when_hnl_shw2_edge]\n",
    "df_nu_shw2_edge = df_nu_shw2[when_nu_shw2_edge]\n",
    "df_cos_shw2_edge = df_cos_shw2[when_cos_shw2_edge]"
   ]
  },
  {
   "cell_type": "code",
   "execution_count": null,
   "metadata": {},
   "outputs": [],
   "source": [
    "plot_slc_var(df_hnl_shw2, df_nu_shw2, df_cos_shw2,\n",
    "                    true_counts, start_counts, \n",
    "                    'slc_opt0_frac',\n",
    "                    xmin = -1, xmax = 2, xnbin = 50,\n",
    "                    #xmin = -0.5, xmax = 0.5, xnbin = 50,\n",
    "                    xtitle = 'Opt0 Fraction',\n",
    "                  ifAddLegend = True, addLegend = label\n",
    "                    )\n",
    "plt.axvline(x =  TuneCut['TwoShowerCenterFracMore'], c = 'r', linestyle = '--')\n",
    "plt.axvline(x =  TuneCut['TwoShowerFracLess'], c = 'r', linestyle = '--')\n",
    "#-----------------------------------#\n",
    "if ifSave:\n",
    "    #fig.tight_layout()\n",
    "    plt.savefig(savePath+\"opt0frac_two_shw_precut.png\", dpi = 200)\n",
    "#-----------------------------------#\n",
    "plt.show()\n",
    "\n",
    "print( TuneCut['TwoShowerCenterFracMore'])"
   ]
  },
  {
   "cell_type": "code",
   "execution_count": null,
   "metadata": {},
   "outputs": [],
   "source": [
    "plot_slc_var(df_hnl_shw2_center, df_nu_shw2_center, df_cos_shw2_center,\n",
    "                    true_counts, start_counts, \n",
    "                    'slc_opt0_frac',\n",
    "                    xmin = -1, xmax = 2, xnbin = 50,\n",
    "                    #xmin = -0.5, xmax = 0.5, xnbin = 50,\n",
    "                    xtitle = 'Opt0 Fraction',\n",
    "                  ifAddLegend = True, addLegend = label\n",
    "                    )\n",
    "plt.axvline(x =  TuneCut['TwoShowerCenterFracMore'], c = 'r', linestyle = '--')\n",
    "plt.axvline(x =  TuneCut['TwoShowerFracLess'], c = 'r', linestyle = '--')\n",
    "#-----------------------------------#\n",
    "if ifSave:\n",
    "    #fig.tight_layout()\n",
    "    plt.savefig(savePath+\"opt0frac_two_shw_peak_precut.png\", dpi = 200)\n",
    "#-----------------------------------#\n",
    "plt.show()\n",
    "\n",
    "print( TuneCut['TwoShowerCenterFracMore'])"
   ]
  },
  {
   "cell_type": "code",
   "execution_count": null,
   "metadata": {},
   "outputs": [],
   "source": [
    "plot_slc_var(df_hnl_shw2_edge, df_nu_shw2_edge, df_cos_shw2_edge,\n",
    "                    true_counts, start_counts, \n",
    "                    'slc_opt0_frac', \n",
    "                    xmin = -1, xmax = 2, xnbin = 50,\n",
    "                    #xmin = -0.5, xmax = 0.5, xnbin = 50,\n",
    "                    xtitle = 'Opt0 Fraction',\n",
    "                  ifAddLegend = True, addLegend = label\n",
    "                    )\n",
    "\n",
    "plt.axvline(x =  TuneCut['TwoShowerEdgeFracMore'], c = 'r', linestyle = '--')\n",
    "plt.axvline(x =  TuneCut['TwoShowerFracLess'], c = 'r', linestyle = '--')\n",
    "#-----------------------------------#\n",
    "if ifSave:\n",
    "    #fig.tight_layout()\n",
    "    plt.savefig(savePath+\"opt0frac_two_shw_edge_precut.png\", dpi = 200)\n",
    "#-----------------------------------#\n",
    "plt.show()\n",
    "\n",
    "print( TuneCut['TwoShowerEdgeFracMore'])"
   ]
  },
  {
   "cell_type": "code",
   "execution_count": null,
   "metadata": {},
   "outputs": [],
   "source": [
    "if ifTune:\n",
    "    vary_OpT0FracMore(df_hnl_shw2_center, df_nu_shw2_center, df_cos_shw2_center, true_counts, start_counts)\n",
    "    if ifSave:\n",
    "        plt.savefig(savePath+\"/opt0frac_more_two_shw_center_tuning.png\", dpi =200)\n",
    "        \n",
    "    vary_OpT0FracMore(df_hnl_shw2_edge, df_nu_shw2_edge, df_cos_shw2_edge, true_counts, start_counts)\n",
    "    if ifSave:\n",
    "        plt.savefig(savePath+\"/opt0frac_more_two_shw_edge_tuning.png\", dpi =200)"
   ]
  },
  {
   "cell_type": "markdown",
   "metadata": {},
   "source": [
    "<h3> 2+ showers: cut on primary + less harsh cut </h3>"
   ]
  },
  {
   "cell_type": "code",
   "execution_count": null,
   "metadata": {},
   "outputs": [],
   "source": [
    "if ifCut:\n",
    "    fracMore = TuneCut['TwoShowerCenterFracMore']\n",
    "    fracLess = TuneCut['TwoShowerFracLess']\n",
    "    print(fracMore)\n",
    "    \n",
    "    df_hnl_shw2_center = cutOpt0Frac(df_hnl_shw2_center, Opt0FracMore = fracMore, Opt0FracLess = fracLess)\n",
    "    df_nu_shw2_center = cutOpt0Frac(df_nu_shw2_center, Opt0FracMore = fracMore, Opt0FracLess = fracLess)\n",
    "    df_cos_shw2_center = cutOpt0Frac(df_cos_shw2_center, Opt0FracMore = fracMore, Opt0FracLess = fracLess)\n",
    "    \n",
    "    fracMore = TuneCut['TwoShowerEdgeFracMore']\n",
    "    fracLess = TuneCut['TwoShowerFracLess']\n",
    "    print(fracMore)\n",
    "    \n",
    "    df_hnl_shw2_edge = cutOpt0Frac(df_hnl_shw2_edge, Opt0FracMore = fracMore, Opt0FracLess = fracLess)\n",
    "    df_nu_shw2_edge = cutOpt0Frac(df_nu_shw2_edge, Opt0FracMore = fracMore, Opt0FracLess = fracLess)\n",
    "    df_cos_shw2_edge = cutOpt0Frac(df_cos_shw2_edge, Opt0FracMore = fracMore, Opt0FracLess = fracLess)\n",
    "    \n",
    "df_hnl_shw2 = pd.concat([df_hnl_shw2_center, df_hnl_shw2_edge])\n",
    "df_nu_shw2 = pd.concat([df_nu_shw2_center, df_nu_shw2_edge])\n",
    "df_cos_shw2 = pd.concat([df_cos_shw2_center, df_cos_shw2_edge])"
   ]
  },
  {
   "cell_type": "markdown",
   "metadata": {},
   "source": [
    "<h3> Merge 1 and 2 showers back </h3>"
   ]
  },
  {
   "cell_type": "code",
   "execution_count": null,
   "metadata": {},
   "outputs": [],
   "source": [
    "df_hnl = apply_shower_cut(df_hnl, df_hnl_shw1, df_hnl_shw2)\n",
    "\n",
    "df_nu = apply_shower_cut(df_nu, df_nu_shw1, df_nu_shw2)\n",
    "\n",
    "df_cos = apply_shower_cut(df_cos, df_cos_shw1, df_cos_shw2)"
   ]
  },
  {
   "cell_type": "markdown",
   "metadata": {},
   "source": [
    "<h3>Save Purity/Eff</h3>"
   ]
  },
  {
   "cell_type": "code",
   "execution_count": null,
   "metadata": {},
   "outputs": [],
   "source": [
    "purity, eff = calc_purity_eff(df_hnl, df_nu, df_cos, true_counts, start_counts)\n",
    "\n",
    "purity_arr.append(purity)\n",
    "eff_arr.append(eff)\n",
    "cut_arr.append(\"Opt0 Fraction Cut\")\n",
    "\n",
    "print(purity_arr)\n",
    "print(eff_arr)\n",
    "print(cut_arr)"
   ]
  },
  {
   "cell_type": "markdown",
   "metadata": {},
   "source": [
    "<h1> Make Beam Bucket - Post Opt0 Frac</h1>"
   ]
  },
  {
   "cell_type": "code",
   "execution_count": null,
   "metadata": {},
   "outputs": [],
   "source": [
    "hist, bins = plot_slc_var(df_hnl, df_nu, df_cos,\n",
    "                    true_counts, start_counts, \n",
    "                    'mod_t', \n",
    "                    xmin = 0, xmax = 30, xnbin = 30,\n",
    "                    xtitle = 'Opt0 Time Corrected Z % ' + str(width) + ' [ns]',\n",
    "                  ifAddLegend = True, addLegend = label\n",
    "                    )\n",
    "#-----------------------------------#\n",
    "if ifSave:\n",
    "    #fig.tight_layout()\n",
    "    plt.savefig(savePath+\"beam_bucket_postopt0.png\", dpi = 200)\n",
    "#-----------------------------------#\n",
    "plt.show()"
   ]
  },
  {
   "cell_type": "markdown",
   "metadata": {},
   "source": [
    "<h1>Shower Energy, dEdx and Conversion Gap</h1>"
   ]
  },
  {
   "cell_type": "markdown",
   "metadata": {},
   "source": [
    "<h3> Get Primary Shower </h3>"
   ]
  },
  {
   "cell_type": "code",
   "execution_count": null,
   "metadata": {},
   "outputs": [],
   "source": [
    "df_hnl_prim = get_primary_shw_df(df_hnl)\n",
    "\n",
    "df_nu_prim = get_primary_shw_df(df_nu)\n",
    "\n",
    "df_cos_prim = get_primary_shw_df(df_cos)"
   ]
  },
  {
   "cell_type": "markdown",
   "metadata": {},
   "source": [
    "<h3> Split 1 and 2+ shower cases </h3>"
   ]
  },
  {
   "cell_type": "code",
   "execution_count": null,
   "metadata": {},
   "outputs": [],
   "source": [
    "df_hnl_shw1, df_hnl_shw2 = split_my_df(df_hnl)\n",
    "\n",
    "df_nu_shw1, df_nu_shw2 = split_my_df(df_nu)\n",
    "\n",
    "df_cos_shw1, df_cos_shw2 = split_my_df(df_cos)"
   ]
  },
  {
   "cell_type": "code",
   "execution_count": null,
   "metadata": {},
   "outputs": [],
   "source": [
    "print(len(df_hnl_prim))\n",
    "print(len(df_nu_prim))\n",
    "print(len(df_cos_prim))\n",
    "\n",
    "print(len(df_hnl_shw1))\n",
    "print(len(df_nu_shw1))\n",
    "print(len(df_cos_shw1))\n",
    "\n",
    "print(len(df_hnl_shw2))\n",
    "print(len(df_nu_shw2))\n",
    "print(len(df_cos_shw2))"
   ]
  },
  {
   "cell_type": "markdown",
   "metadata": {},
   "source": [
    "<h3> One Shower: Split Center vs Edge </h3>"
   ]
  },
  {
   "cell_type": "code",
   "execution_count": null,
   "metadata": {},
   "outputs": [],
   "source": [
    "when_hnl_shw1_center = (df_hnl_shw1['mod_t'] >= lb) &  (df_hnl_shw1['mod_t'] <= ub)\n",
    "when_nu_shw1_center = (df_nu_shw1['mod_t'] >= lb) &  (df_nu_shw1['mod_t'] <= ub)\n",
    "when_cos_shw1_center = (df_cos_shw1['mod_t'] >= lb) &  (df_cos_shw1['mod_t'] <= ub)\n",
    "\n",
    "when_hnl_shw1_edge = (df_hnl_shw1['mod_t'] < lb) | (df_hnl_shw1['mod_t'] > ub)\n",
    "when_nu_shw1_edge = (df_nu_shw1['mod_t'] < lb) | (df_nu_shw1['mod_t'] > ub)\n",
    "when_cos_shw1_edge = (df_cos_shw1['mod_t'] < lb) | (df_cos_shw1['mod_t'] > ub)\n",
    "\n",
    "df_hnl_shw1_center = df_hnl_shw1[when_hnl_shw1_center]\n",
    "df_nu_shw1_center = df_nu_shw1[when_nu_shw1_center]\n",
    "df_cos_shw1_center = df_cos_shw1[when_cos_shw1_center]\n",
    "\n",
    "df_hnl_shw1_edge = df_hnl_shw1[when_hnl_shw1_edge]\n",
    "df_nu_shw1_edge = df_nu_shw1[when_nu_shw1_edge]\n",
    "df_cos_shw1_edge = df_cos_shw1[when_cos_shw1_edge]"
   ]
  },
  {
   "cell_type": "code",
   "execution_count": null,
   "metadata": {},
   "outputs": [],
   "source": [
    "plot_slc_var(df_hnl_shw1, df_nu_shw1, df_cos_shw1,\n",
    "                    true_counts, start_counts, \n",
    "                    'slc_pfp_shower_energy', \n",
    "                    xmin = 0, xmax = 2000, xnbin = 40,\n",
    "                    xtitle = 'Shower Energy [MeV]',\n",
    "                      ifAddLegend = True, addLegend = label\n",
    "                         )\n",
    "#-----------------------------------#\n",
    "if ifSave:\n",
    "    #fig.tight_layout()\n",
    "    plt.savefig(savePath+\"prim_shower_energy_postpid_precut.png\", dpi = 200)\n",
    "#-----------------------------------#\n",
    "plt.show()\n",
    "\n",
    "#================================================#\n",
    "plot_slc_var(df_hnl_shw1, df_nu_shw1, df_cos_shw1,\n",
    "                    true_counts, start_counts, \n",
    "                    'slc_pfp_shower_dedx', \n",
    "                    xmin = 0, xmax = 20, xnbin = 40,\n",
    "                    xtitle = 'Shower dE/dx [MeV/cm]',\n",
    "                      ifAddLegend = True, addLegend = label\n",
    "                         )\n",
    "#-----------------------------------#\n",
    "if ifSave:\n",
    "    #fig.tight_layout()\n",
    "    plt.savefig(savePath+\"prim_shower_dedx_postpid_precut.png\", dpi = 200)\n",
    "#-----------------------------------#\n",
    "plt.show()    \n",
    "    \n",
    "#================================================#\n",
    "plot_slc_var(df_hnl_shw1, df_nu_shw1, df_cos_shw1,\n",
    "                    true_counts, start_counts, \n",
    "                    'slc_pfp_shower_conv_gap', \n",
    "                    xmin = 0, xmax = 5, xnbin = 40,\n",
    "                    xtitle = 'Shower Conversion Gap [cm]',\n",
    "                      ifAddLegend = True, addLegend = label\n",
    "                         )\n",
    "#-----------------------------------#\n",
    "if ifSave:\n",
    "    #fig.tight_layout()\n",
    "    plt.savefig(savePath+\"prim_shower_convgap_postpid_precut.png\", dpi = 200)\n",
    "#-----------------------------------#\n",
    "plt.show()"
   ]
  },
  {
   "cell_type": "code",
   "execution_count": null,
   "metadata": {},
   "outputs": [],
   "source": [
    "plot_slc_var(df_hnl_shw1_center, df_nu_shw1_center, df_cos_shw1_center,\n",
    "#plot_slc_var(df_hnl_shw1_center, df_nu_shw1_center, df_cos,\n",
    "                    true_counts, start_counts, \n",
    "                    'slc_pfp_shower_energy', \n",
    "                    xmin = 0, xmax = 2000, xnbin = 40,\n",
    "                    xtitle = 'Shower Energy [MeV]',\n",
    "                      ifAddLegend = True, addLegend = label\n",
    "                         )\n",
    "#-----------------------------------#\n",
    "if ifSave:\n",
    "    #fig.tight_layout()\n",
    "    plt.savefig(savePath+\"prim_shower_energy_postpid_peak_precut.png\", dpi = 200)\n",
    "#-----------------------------------#\n",
    "plt.show()\n",
    "\n",
    "#================================================#\n",
    "plot_slc_var(df_hnl_shw1_center, df_nu_shw1_center, df_cos_shw1_center,\n",
    "#plot_slc_var(df_hnl_shw1_center, df_nu_shw1_center, df_cos,\n",
    "                    true_counts, start_counts, \n",
    "                    'slc_pfp_shower_dedx', \n",
    "                    xmin = 0, xmax = 20, xnbin = 40,\n",
    "                    xtitle = 'Shower dE/dx [MeV/cm]',\n",
    "                      ifAddLegend = True, addLegend = label\n",
    "                         )\n",
    "#-----------------------------------#\n",
    "if ifSave:\n",
    "    #fig.tight_layout()\n",
    "    plt.savefig(savePath+\"prim_shower_dedx_postpid_peak_precut.png\", dpi = 200)\n",
    "#-----------------------------------#\n",
    "plt.show()    \n",
    "    \n",
    "#================================================#\n",
    "plot_slc_var(df_hnl_shw1_center, df_nu_shw1_center, df_cos_shw1_center,\n",
    "#plot_slc_var(df_hnl_shw1_center, df_nu_shw1_center, df_cos,\n",
    "                    true_counts, start_counts, \n",
    "                    'slc_pfp_shower_conv_gap', \n",
    "                    xmin = 0, xmax = 5, xnbin = 40,\n",
    "                    xtitle = 'Shower Conversion Gap [cm]',\n",
    "                      ifAddLegend = True, addLegend = label\n",
    "                         )\n",
    "#-----------------------------------#\n",
    "if ifSave:\n",
    "    #fig.tight_layout()\n",
    "    plt.savefig(savePath+\"prim_shower_convgap_postpid_peak_precut.png\", dpi = 200)\n",
    "#-----------------------------------#\n",
    "plt.show()"
   ]
  },
  {
   "cell_type": "code",
   "execution_count": null,
   "metadata": {},
   "outputs": [],
   "source": [
    "plot_slc_var(df_hnl_shw1_edge, df_nu_shw1_edge, df_cos_shw1_edge,\n",
    "#plot_slc_var(df_hnl_shw1_edge, df_nu_shw1_edge, df_cos,\n",
    "                    true_counts, start_counts, \n",
    "                    'slc_pfp_shower_energy', \n",
    "                    xmin = 0, xmax = 2000, xnbin = 40,\n",
    "                    xtitle = 'Shower Energy [MeV]',\n",
    "                      ifAddLegend = True, addLegend = label\n",
    "                         )\n",
    "#-----------------------------------#\n",
    "if ifSave:\n",
    "    #fig.tight_layout()\n",
    "    plt.savefig(savePath+\"prim_shower_energy_postpid_edge_precut.png\", dpi = 200)\n",
    "#-----------------------------------#\n",
    "plt.show()\n",
    "\n",
    "#================================================#\n",
    "plot_slc_var(df_hnl_shw1_edge, df_nu_shw1_edge, df_cos_shw1_edge,\n",
    "#plot_slc_var(df_hnl_shw1_edge, df_nu_shw1_edge, df_cos,\n",
    "                    true_counts, start_counts, \n",
    "                    'slc_pfp_shower_dedx', \n",
    "                    xmin = 0, xmax = 20, xnbin = 40,\n",
    "                    xtitle = 'Shower dE/dx [MeV/cm]',\n",
    "                      ifAddLegend = True, addLegend = label\n",
    "                         )\n",
    "#-----------------------------------#\n",
    "if ifSave:\n",
    "    #fig.tight_layout()\n",
    "    plt.savefig(savePath+\"prim_shower_dedx_postpid_edge_precut.png\", dpi = 200)\n",
    "#-----------------------------------#\n",
    "plt.show()    \n",
    "    \n",
    "#================================================#\n",
    "plot_slc_var(df_hnl_shw1_edge, df_nu_shw1_edge, df_cos_shw1_edge,\n",
    "#plot_slc_var(df_hnl_shw1_edge, df_nu_shw1_edge, df_cos,\n",
    "                    true_counts, start_counts, \n",
    "                    'slc_pfp_shower_conv_gap', \n",
    "                    xmin = 0, xmax = 5, xnbin = 40,\n",
    "                    xtitle = 'Shower Conversion Gap [cm]',\n",
    "                      ifAddLegend = True, addLegend = label\n",
    "                         )\n",
    "#-----------------------------------#\n",
    "if ifSave:\n",
    "    #fig.tight_layout()\n",
    "    plt.savefig(savePath+\"prim_shower_convgap_postpid_edge_precut.png\", dpi = 200)\n",
    "#-----------------------------------#\n",
    "plt.show()"
   ]
  },
  {
   "cell_type": "markdown",
   "metadata": {},
   "source": [
    "<h3> Primary Showers of 2+ shower cases </h3>"
   ]
  },
  {
   "cell_type": "code",
   "execution_count": null,
   "metadata": {},
   "outputs": [],
   "source": [
    "df_nu_shw2 = df_nu_shw2.apply(pd.Series.explode).reset_index()\n",
    "df_hnl_shw2 = df_hnl_shw2.apply(pd.Series.explode).reset_index()\n",
    "df_cos_shw2 = df_cos_shw2.apply(pd.Series.explode).reset_index()"
   ]
  },
  {
   "cell_type": "code",
   "execution_count": null,
   "metadata": {},
   "outputs": [],
   "source": [
    "df_hnl_prim_shw2 = get_primary_shw_df(df_hnl_shw2)\n",
    "\n",
    "df_nu_prim_shw2 = get_primary_shw_df(df_nu_shw2)\n",
    "\n",
    "df_cos_prim_shw2 = get_primary_shw_df(df_cos_shw2)"
   ]
  },
  {
   "cell_type": "markdown",
   "metadata": {},
   "source": [
    "<h3> Two Showers: Split Center vs Edge </h3>"
   ]
  },
  {
   "cell_type": "code",
   "execution_count": null,
   "metadata": {},
   "outputs": [],
   "source": [
    "when_hnl_shw2_center = (df_hnl_prim_shw2['mod_t'] >= lb) &  (df_hnl_prim_shw2['mod_t'] <= ub)\n",
    "when_nu_shw2_center = (df_nu_prim_shw2['mod_t'] >= lb) &  (df_nu_prim_shw2['mod_t'] <= ub)\n",
    "when_cos_shw2_center = (df_cos_prim_shw2['mod_t'] >= lb) &  (df_cos_prim_shw2['mod_t'] <= ub)\n",
    "\n",
    "when_hnl_shw2_edge = (df_hnl_prim_shw2['mod_t'] < lb) | (df_hnl_prim_shw2['mod_t'] > ub)\n",
    "when_nu_shw2_edge = (df_nu_prim_shw2['mod_t'] < lb) | (df_nu_prim_shw2['mod_t'] > ub)\n",
    "when_cos_shw2_edge = (df_cos_prim_shw2['mod_t'] < lb) | (df_cos_prim_shw2['mod_t'] > ub)\n",
    "\n",
    "df_hnl_prim_shw2_center = df_hnl_prim_shw2[when_hnl_shw2_center]\n",
    "df_nu_prim_shw2_center = df_nu_prim_shw2[when_nu_shw2_center]\n",
    "df_cos_prim_shw2_center = df_cos_prim_shw2[when_cos_shw2_center]\n",
    "\n",
    "\n",
    "df_hnl_prim_shw2_edge = df_hnl_prim_shw2[when_hnl_shw2_edge]\n",
    "df_nu_prim_shw2_edge = df_nu_prim_shw2[when_nu_shw2_edge]\n",
    "df_cos_prim_shw2_edge = df_cos_prim_shw2[when_cos_shw2_edge]"
   ]
  },
  {
   "cell_type": "code",
   "execution_count": null,
   "metadata": {},
   "outputs": [],
   "source": [
    "plot_slc_var(df_hnl_prim_shw2, df_nu_prim_shw2, df_cos_prim_shw2,\n",
    "                    true_counts, start_counts, \n",
    "                    'slc_pfp_shower_energy', \n",
    "                    xmin = 0, xmax = 2000, xnbin = 40,\n",
    "                    xtitle = 'Shower Energy [MeV]',\n",
    "                      ifAddLegend = True, addLegend = label\n",
    "                         )\n",
    "#-----------------------------------#\n",
    "if ifSave:\n",
    "    #fig.tight_layout()\n",
    "    plt.savefig(savePath+\"prim_two_shower_energy_postpid_precut.png\", dpi = 200)\n",
    "#-----------------------------------#\n",
    "plt.show()\n",
    "\n",
    "#================================================#\n",
    "plot_slc_var(df_hnl_prim_shw2, df_nu_prim_shw2_center, df_cos_prim_shw2,\n",
    "                    true_counts, start_counts, \n",
    "                    'slc_pfp_shower_dedx', \n",
    "                    xmin = 0, xmax = 20, xnbin = 40,\n",
    "                    xtitle = 'Shower dE/dx [MeV/cm]',\n",
    "                      ifAddLegend = True, addLegend = label\n",
    "                         )\n",
    "#-----------------------------------#\n",
    "if ifSave:\n",
    "    #fig.tight_layout()\n",
    "    plt.savefig(savePath+\"prim_two_shower_dedx_postpid_precut.png\", dpi = 200)\n",
    "#-----------------------------------#\n",
    "plt.show()    \n",
    "    \n",
    "#================================================#\n",
    "plot_slc_var(df_hnl_prim_shw2, df_nu_prim_shw2, df_cos_prim_shw2,\n",
    "                    true_counts, start_counts, \n",
    "                    'slc_pfp_shower_conv_gap', \n",
    "                    xmin = 0, xmax = 5, xnbin = 40,\n",
    "                    xtitle = 'Shower Conversion Gap [cm]',\n",
    "                      ifAddLegend = True, addLegend = label\n",
    "                         )\n",
    "#-----------------------------------#\n",
    "if ifSave:\n",
    "    #fig.tight_layout()\n",
    "    plt.savefig(savePath+\"prim_two_shower_convgap_postpid_precut.png\", dpi = 200)\n",
    "#-----------------------------------#\n",
    "plt.show()"
   ]
  },
  {
   "cell_type": "code",
   "execution_count": null,
   "metadata": {},
   "outputs": [],
   "source": [
    "plot_slc_var(df_hnl_prim_shw2_center, df_nu_prim_shw2_center, df_cos_prim_shw2_center,\n",
    "#plot_slc_var(df_hnl_prim_shw2_center, df_nu_prim_shw2_center, df_cos,\n",
    "                    true_counts, start_counts, \n",
    "                    'slc_pfp_shower_energy', \n",
    "                    xmin = 0, xmax = 2000, xnbin = 40,\n",
    "                    xtitle = 'Shower Energy [MeV]',\n",
    "                      ifAddLegend = True, addLegend = label\n",
    "                         )\n",
    "#-----------------------------------#\n",
    "if ifSave:\n",
    "    #fig.tight_layout()\n",
    "    plt.savefig(savePath+\"prim_two_shower_energy_postpid_peak_precut.png\", dpi = 200)\n",
    "#-----------------------------------#\n",
    "plt.show()\n",
    "\n",
    "#================================================#\n",
    "plot_slc_var(df_hnl_prim_shw2_center, df_nu_prim_shw2_center, df_cos_prim_shw2_center,\n",
    "#plot_slc_var(df_hnl_prim_shw2_center, df_nu_prim_shw2_center, df_cos,\n",
    "                    true_counts, start_counts, \n",
    "                    'slc_pfp_shower_dedx', \n",
    "                    xmin = 0, xmax = 20, xnbin = 40,\n",
    "                    xtitle = 'Shower dE/dx [MeV/cm]',\n",
    "                      ifAddLegend = True, addLegend = label\n",
    "                         )\n",
    "#-----------------------------------#\n",
    "if ifSave:\n",
    "    #fig.tight_layout()\n",
    "    plt.savefig(savePath+\"prim_two_shower_dedx_postpid_peak_precut.png\", dpi = 200)\n",
    "#-----------------------------------#\n",
    "plt.show()    \n",
    "    \n",
    "#================================================#\n",
    "plot_slc_var(df_hnl_prim_shw2_center, df_nu_prim_shw2_center, df_cos_prim_shw2_center,\n",
    "#plot_slc_var(df_hnl_prim_shw2_center, df_nu_prim_shw2_center, df_cos,\n",
    "                    true_counts, start_counts, \n",
    "                    'slc_pfp_shower_conv_gap', \n",
    "                    xmin = 0, xmax = 5, xnbin = 40,\n",
    "                    xtitle = 'Shower Conversion Gap [cm]',\n",
    "                      ifAddLegend = True, addLegend = label\n",
    "                         )\n",
    "#-----------------------------------#\n",
    "if ifSave:\n",
    "    #fig.tight_layout()\n",
    "    plt.savefig(savePath+\"prim_two_shower_convgap_postpid_peak_precut.png\", dpi = 200)\n",
    "#-----------------------------------#\n",
    "plt.show()"
   ]
  },
  {
   "cell_type": "code",
   "execution_count": null,
   "metadata": {},
   "outputs": [],
   "source": [
    "plot_slc_var(df_hnl_prim_shw2_edge, df_nu_prim_shw2_edge, df_cos_prim_shw2_edge,\n",
    "#plot_slc_var(df_hnl_prim_shw2_edge, df_nu_prim_shw2_edge, df_cos,\n",
    "                    true_counts, start_counts, \n",
    "                    'slc_pfp_shower_energy', \n",
    "                    xmin = 0, xmax = 2000, xnbin = 40,\n",
    "                    xtitle = 'Shower Energy [MeV]',\n",
    "                      ifAddLegend = True, addLegend = label\n",
    "                         )\n",
    "#-----------------------------------#\n",
    "if ifSave:\n",
    "    #fig.tight_layout()\n",
    "    plt.savefig(savePath+\"prim_two_shower_energy_postpid_edge_precut.png\", dpi = 200)\n",
    "#-----------------------------------#\n",
    "plt.show()\n",
    "\n",
    "#================================================#\n",
    "plot_slc_var(df_hnl_prim_shw2_edge, df_nu_prim_shw2_edge, df_cos_prim_shw2_edge,\n",
    "#plot_slc_var(df_hnl_prim_shw2_edge, df_nu_prim_shw2_edge, df_cos,\n",
    "                    true_counts, start_counts, \n",
    "                    'slc_pfp_shower_dedx', \n",
    "                    xmin = 0, xmax = 20, xnbin = 40,\n",
    "                    xtitle = 'Shower dE/dx [MeV/cm]',\n",
    "                      ifAddLegend = True, addLegend = label\n",
    "                         )\n",
    "#-----------------------------------#\n",
    "if ifSave:\n",
    "    #fig.tight_layout()\n",
    "    plt.savefig(savePath+\"prim_two_shower_dedx_postpid_edge_precut.png\", dpi = 200)\n",
    "#-----------------------------------#\n",
    "plt.show()    \n",
    "    \n",
    "#================================================#\n",
    "plot_slc_var(df_hnl_prim_shw2_edge, df_nu_prim_shw2_edge, df_cos_prim_shw2_edge,\n",
    "#plot_slc_var(df_hnl_prim_shw2_edge, df_nu_prim_shw2_edge, df_cos,\n",
    "                    true_counts, start_counts, \n",
    "                    'slc_pfp_shower_conv_gap', \n",
    "                    xmin = 0, xmax = 5, xnbin = 40,\n",
    "                    xtitle = 'Shower Conversion Gap [cm]',\n",
    "                      ifAddLegend = True, addLegend = label\n",
    "                         )\n",
    "#-----------------------------------#\n",
    "if ifSave:\n",
    "    #fig.tight_layout()\n",
    "    plt.savefig(savePath+\"prim_two_shower_convgap_postpid_edge_precut.png\", dpi = 200)\n",
    "#-----------------------------------#\n",
    "plt.show()"
   ]
  },
  {
   "cell_type": "markdown",
   "metadata": {},
   "source": [
    "<h1>Shower Theta</h1>"
   ]
  },
  {
   "cell_type": "markdown",
   "metadata": {},
   "source": [
    "<h3> Get Primary Shower </h3>"
   ]
  },
  {
   "cell_type": "code",
   "execution_count": null,
   "metadata": {},
   "outputs": [],
   "source": [
    "df_hnl_prim = get_primary_shw_df(df_hnl)\n",
    "\n",
    "df_nu_prim = get_primary_shw_df(df_nu)\n",
    "\n",
    "df_cos_prim = get_primary_shw_df(df_cos)"
   ]
  },
  {
   "cell_type": "markdown",
   "metadata": {},
   "source": [
    "<h3> Split 1 and 2+ shower cases </h3>"
   ]
  },
  {
   "cell_type": "code",
   "execution_count": null,
   "metadata": {},
   "outputs": [],
   "source": [
    "df_hnl_shw1, df_hnl_shw2 = split_my_df(df_hnl)\n",
    "\n",
    "df_nu_shw1, df_nu_shw2 = split_my_df(df_nu)\n",
    "\n",
    "df_cos_shw1, df_cos_shw2 = split_my_df(df_cos)"
   ]
  },
  {
   "cell_type": "markdown",
   "metadata": {},
   "source": [
    "<h3> One Shower: Split Center vs Edge </h3>"
   ]
  },
  {
   "cell_type": "code",
   "execution_count": null,
   "metadata": {},
   "outputs": [],
   "source": [
    "when_hnl_shw1_center = (df_hnl_shw1['mod_t'] >= lb) &  (df_hnl_shw1['mod_t'] <= ub)\n",
    "when_nu_shw1_center = (df_nu_shw1['mod_t'] >= lb) &  (df_nu_shw1['mod_t'] <= ub)\n",
    "when_cos_shw1_center = (df_cos_shw1['mod_t'] >= lb) &  (df_cos_shw1['mod_t'] <= ub)\n",
    "\n",
    "when_hnl_shw1_edge = (df_hnl_shw1['mod_t'] < lb) | (df_hnl_shw1['mod_t'] > ub)\n",
    "when_nu_shw1_edge = (df_nu_shw1['mod_t'] < lb) | (df_nu_shw1['mod_t'] > ub)\n",
    "when_cos_shw1_edge = (df_cos_shw1['mod_t'] < lb) | (df_cos_shw1['mod_t'] > ub)\n",
    "\n",
    "df_hnl_shw1_center = df_hnl_shw1[when_hnl_shw1_center]\n",
    "df_nu_shw1_center = df_nu_shw1[when_nu_shw1_center]\n",
    "df_cos_shw1_center = df_cos_shw1[when_cos_shw1_center]\n",
    "\n",
    "\n",
    "df_hnl_shw1_edge = df_hnl_shw1[when_hnl_shw1_edge]\n",
    "df_nu_shw1_edge = df_nu_shw1[when_nu_shw1_edge]\n",
    "df_cos_shw1_edge = df_cos_shw1[when_cos_shw1_edge]"
   ]
  },
  {
   "cell_type": "markdown",
   "metadata": {},
   "source": [
    "<h3> Primary Showers of 1 shower cases</h3>"
   ]
  },
  {
   "cell_type": "code",
   "execution_count": null,
   "metadata": {},
   "outputs": [],
   "source": [
    "plot_slc_var(df_hnl_shw1, df_nu_shw1, df_cos_shw1,\n",
    "#plot_slc_var(df_hnl_shw1_center, df_nu_shw1_center, df_cos,\n",
    "                    true_counts, start_counts, \n",
    "                    'slc_pfp_shower_theta', \n",
    "                    xmin = 0, xmax = 180, xnbin = 36,\n",
    "                    xtitle = 'Shower Theta',\n",
    "                  ifAddLegend = True, addLegend = label\n",
    "                    )\n",
    "\n",
    "plt.axvline(x =  TuneCut['OneShowerThetaCenter'], c = 'r', linestyle = '--', lw = 1.5)\n",
    "\n",
    "plt.annotate(\"\", xy=(TuneCut['OneShowerThetaCenter'], 1.5e3), xytext=(TuneCut['OneShowerThetaCenter'] - 15, 1.5e3)\n",
    "             , arrowprops=dict(arrowstyle= '<|-',color='r',lw=1.5,ls='--'))\n",
    "plt.ylim(0, 1.6e3)\n",
    "#-----------------------------------#\n",
    "if ifSave:\n",
    "    #fig.tight_layout()\n",
    "    plt.savefig(savePath+\"one_shower_theta_precut.png\", dpi = 200)\n",
    "#-----------------------------------#\n",
    "plt.show()\n",
    "\n",
    "print(TuneCut['OneShowerThetaCenter'])"
   ]
  },
  {
   "cell_type": "code",
   "execution_count": null,
   "metadata": {},
   "outputs": [],
   "source": [
    "plot_slc_var(df_hnl_shw1_center, df_nu_shw1_center, df_cos_shw1_center,\n",
    "#plot_slc_var(df_hnl_shw1_center, df_nu_shw1_center, df_cos,\n",
    "                    true_counts, start_counts, \n",
    "                    'slc_pfp_shower_theta', \n",
    "                    xmin = 0, xmax = 180, xnbin = 36,\n",
    "                    xtitle = 'Shower Theta',\n",
    "                  ifAddLegend = True, addLegend = label\n",
    "                    )\n",
    "\n",
    "plt.axvline(x =  TuneCut['OneShowerThetaCenter'], c = 'r', linestyle = '--', lw = 1.5)\n",
    "\n",
    "plt.annotate(\"\", xy=(TuneCut['OneShowerThetaCenter'], 1.3e3), xytext=(TuneCut['OneShowerThetaCenter'] - 15, 1.3e3)\n",
    "             , arrowprops=dict(arrowstyle= '<|-',color='r',lw=1.5,ls='--'))\n",
    "plt.ylim(0, 1.4e3)\n",
    "#-----------------------------------#\n",
    "if ifSave:\n",
    "    #fig.tight_layout()\n",
    "    plt.savefig(savePath+\"one_shower_theta_peak_precut.png\", dpi = 200)\n",
    "#-----------------------------------#\n",
    "plt.show()\n",
    "\n",
    "print(TuneCut['OneShowerThetaCenter'])"
   ]
  },
  {
   "cell_type": "code",
   "execution_count": null,
   "metadata": {},
   "outputs": [],
   "source": [
    "plot_slc_var(df_hnl_shw1_edge, df_nu_shw1_edge, df_cos_shw1_edge,\n",
    "#plot_slc_var(df_hnl_shw1_edge, df_nu_shw1_edge, df_cos,\n",
    "                    true_counts, start_counts, \n",
    "                    'slc_pfp_shower_theta', \n",
    "                    xmin = 0, xmax = 180, xnbin = 36,\n",
    "                    xtitle = 'Shower Theta',\n",
    "                  ifAddLegend = True, addLegend = label\n",
    "                    )\n",
    "\n",
    "plt.axvline(x =  TuneCut['OneShowerThetaEdge'], c = 'r', linestyle = '--', lw = 1.5)\n",
    "\n",
    "plt.annotate(\"\", xy=(TuneCut['OneShowerThetaEdge'], 2.3e2), xytext=(TuneCut['OneShowerThetaEdge'] - 15,2.3e2)\n",
    "             , arrowprops=dict(arrowstyle= '<|-',color='r',lw=1.5,ls='--'))\n",
    "plt.ylim(0, 2.4e2)\n",
    "#-----------------------------------#\n",
    "if ifSave:\n",
    "    #fig.tight_layout()\n",
    "    plt.savefig(savePath+\"one_shower_theta_edge_precut.png\", dpi = 200)\n",
    "#-----------------------------------#\n",
    "plt.show()\n",
    "\n",
    "print(TuneCut['OneShowerThetaEdge'])"
   ]
  },
  {
   "cell_type": "code",
   "execution_count": null,
   "metadata": {},
   "outputs": [],
   "source": [
    "if ifTune:\n",
    "    vary_Theta(df_hnl_shw1_center, df_nu_shw1_center, df_cos_shw1_center, true_counts, start_counts)\n",
    "    if ifSave:\n",
    "        plt.savefig(savePath+\"/one_shower_prim_theta_center_tuning.png\", dpi =200)\n",
    "        \n",
    "    vary_Theta(df_hnl_shw1_edge, df_nu_shw1_edge, df_cos_shw1_edge, true_counts, start_counts)\n",
    "    if ifSave:\n",
    "        plt.savefig(savePath+\"/one_shower_prim_theta_edge_tuning.png\", dpi =200)"
   ]
  },
  {
   "cell_type": "markdown",
   "metadata": {},
   "source": [
    "<h3> 1 shower only: harsh cut</h3>"
   ]
  },
  {
   "cell_type": "code",
   "execution_count": null,
   "metadata": {},
   "outputs": [],
   "source": [
    "if ifCut:\n",
    "    angle_center = TuneCut['OneShowerThetaCenter']\n",
    "    df_hnl_shw1_center = cutThetaAngle(df_hnl_shw1_center, thetaAngle = angle_center) \n",
    "    df_nu_shw1_center = cutThetaAngle(df_nu_shw1_center, thetaAngle = angle_center) \n",
    "    df_cos_shw1_center = cutThetaAngle(df_cos_shw1_center, thetaAngle = angle_center) \n",
    "\n",
    "    angle_edge = TuneCut['OneShowerThetaEdge']\n",
    "    df_hnl_shw1_edge = cutThetaAngle(df_hnl_shw1_edge, thetaAngle = angle_edge) \n",
    "    df_nu_shw1_edge = cutThetaAngle(df_nu_shw1_edge, thetaAngle = angle_edge) \n",
    "    df_cos_shw1_edge = cutThetaAngle(df_cos_shw1_edge, thetaAngle = angle_edge) \n",
    "    \n",
    "df_hnl_shw1 = pd.concat([df_hnl_shw1_center, df_hnl_shw1_edge])\n",
    "df_nu_shw1 = pd.concat([df_nu_shw1_center, df_nu_shw1_edge])\n",
    "df_cos_shw1 = pd.concat([df_cos_shw1_center, df_cos_shw1_edge])"
   ]
  },
  {
   "cell_type": "markdown",
   "metadata": {},
   "source": [
    "<h3> Primary Showers of 2+ shower cases </h3>"
   ]
  },
  {
   "cell_type": "code",
   "execution_count": null,
   "metadata": {},
   "outputs": [],
   "source": [
    "df_nu_shw2 = df_nu_shw2.apply(pd.Series.explode).reset_index()\n",
    "df_hnl_shw2 = df_hnl_shw2.apply(pd.Series.explode).reset_index()\n",
    "df_cos_shw2 = df_cos_shw2.apply(pd.Series.explode).reset_index()\n",
    "\n",
    "df_hnl_prim_shw2 = get_primary_shw_df(df_hnl_shw2)\n",
    "\n",
    "df_nu_prim_shw2 = get_primary_shw_df(df_nu_shw2)\n",
    "\n",
    "df_cos_prim_shw2 = get_primary_shw_df(df_cos_shw2)"
   ]
  },
  {
   "cell_type": "markdown",
   "metadata": {},
   "source": [
    "<h3> Two Showers: Split Center vs Edge </h3>"
   ]
  },
  {
   "cell_type": "code",
   "execution_count": null,
   "metadata": {},
   "outputs": [],
   "source": [
    "when_hnl_shw2_center = (df_hnl_prim_shw2['mod_t'] >= lb) &  (df_hnl_prim_shw2['mod_t'] <= ub)\n",
    "when_nu_shw2_center = (df_nu_prim_shw2['mod_t'] >= lb) &  (df_nu_prim_shw2['mod_t'] <= ub)\n",
    "when_cos_shw2_center = (df_cos_prim_shw2['mod_t'] >= lb) &  (df_cos_prim_shw2['mod_t'] <= ub)\n",
    "\n",
    "when_hnl_shw2_edge = (df_hnl_prim_shw2['mod_t'] < lb) | (df_hnl_prim_shw2['mod_t'] > ub)\n",
    "when_nu_shw2_edge = (df_nu_prim_shw2['mod_t'] < lb) | (df_nu_prim_shw2['mod_t'] > ub)\n",
    "when_cos_shw2_edge = (df_cos_prim_shw2['mod_t'] < lb) | (df_cos_prim_shw2['mod_t'] > ub)\n",
    "\n",
    "df_hnl_prim_shw2_center = df_hnl_prim_shw2[when_hnl_shw2_center]\n",
    "df_nu_prim_shw2_center = df_nu_prim_shw2[when_nu_shw2_center]\n",
    "df_cos_prim_shw2_center = df_cos_prim_shw2[when_cos_shw2_center]\n",
    "\n",
    "\n",
    "df_hnl_prim_shw2_edge = df_hnl_prim_shw2[when_hnl_shw2_edge]\n",
    "df_nu_prim_shw2_edge = df_nu_prim_shw2[when_nu_shw2_edge]\n",
    "df_cos_prim_shw2_edge = df_cos_prim_shw2[when_cos_shw2_edge]"
   ]
  },
  {
   "cell_type": "code",
   "execution_count": null,
   "metadata": {},
   "outputs": [],
   "source": [
    "plot_slc_var(df_hnl_prim_shw2, df_nu_prim_shw2, df_cos_prim_shw2,\n",
    "                    true_counts, start_counts, \n",
    "                    'slc_pfp_shower_theta', \n",
    "                    xmin = 0, xmax = 180, xnbin = 36,\n",
    "                    xtitle = 'Shower Theta',\n",
    "                  ifAddLegend = True, addLegend = label\n",
    "                    )\n",
    "\n",
    "\n",
    "plt.axvline(x =  TuneCut['TwoShowerThetaCenter'], c = 'r', linestyle = '--', lw = 1.5)\n",
    "\n",
    "plt.annotate(\"\", xy=(TuneCut['TwoShowerThetaCenter'], 1.7e3), xytext=(TuneCut['TwoShowerThetaCenter'] - 15, 1.7e3)\n",
    "             , arrowprops=dict(arrowstyle= '<|-',color='r', lw=1.5,ls='--'))\n",
    "plt.ylim(0, 1.8e3)\n",
    "#-----------------------------------#\n",
    "if ifSave:\n",
    "    #fig.tight_layout()\n",
    "    plt.savefig(savePath+\"two_shower_primary_theta_precut.png\", dpi = 200)\n",
    "#-----------------------------------#\n",
    "plt.show()\n",
    "\n",
    "print(TuneCut['TwoShowerThetaCenter'])"
   ]
  },
  {
   "cell_type": "code",
   "execution_count": null,
   "metadata": {},
   "outputs": [],
   "source": [
    "plot_slc_var(df_hnl_prim_shw2_center, df_nu_prim_shw2_center, df_cos_prim_shw2_center,\n",
    "#plot_slc_var(df_hnl_prim_shw2_center, df_nu_prim_shw2_center, df_cos,\n",
    "                    true_counts, start_counts, \n",
    "                    'slc_pfp_shower_theta', \n",
    "                    xmin = 0, xmax = 180, xnbin = 36,\n",
    "                    xtitle = 'Shower Theta',\n",
    "                  ifAddLegend = True, addLegend = label\n",
    "                    )\n",
    "\n",
    "\n",
    "plt.axvline(x =  TuneCut['TwoShowerThetaCenter'], c = 'r', linestyle = '--', lw = 1.5)\n",
    "\n",
    "plt.annotate(\"\", xy=(TuneCut['TwoShowerThetaCenter'], 1.4e3), xytext=(TuneCut['TwoShowerThetaCenter'] - 15, 1.4e3)\n",
    "             , arrowprops=dict(arrowstyle= '<|-',color='r', lw=1.5,ls='--'))\n",
    "plt.ylim(0, 1.5e3)\n",
    "#-----------------------------------#\n",
    "if ifSave:\n",
    "    #fig.tight_layout()\n",
    "    plt.savefig(savePath+\"two_shower_primary_theta_peak_precut.png\", dpi = 200)\n",
    "#-----------------------------------#\n",
    "plt.show()\n",
    "\n",
    "print(TuneCut['TwoShowerThetaCenter'])"
   ]
  },
  {
   "cell_type": "code",
   "execution_count": null,
   "metadata": {},
   "outputs": [],
   "source": [
    "plot_slc_var(df_hnl_prim_shw2_edge, df_nu_prim_shw2_edge, df_cos_prim_shw2_edge,\n",
    "#plot_slc_var(df_hnl_prim_shw2_edge, df_nu_prim_shw2_edge, df_cos,\n",
    "                    true_counts, start_counts, \n",
    "                    'slc_pfp_shower_theta', \n",
    "                    xmin = 0, xmax = 180, xnbin = 36,\n",
    "                    xtitle = 'Shower Theta',\n",
    "                  ifAddLegend = True, addLegend = label\n",
    "                    )\n",
    "\n",
    "\n",
    "plt.axvline(x =  TuneCut['TwoShowerThetaEdge'], c = 'r', linestyle = '--', lw = 1.5)\n",
    "\n",
    "plt.annotate(\"\", xy=(TuneCut['TwoShowerThetaEdge'], 3.4e2), xytext=(TuneCut['TwoShowerThetaEdge'] - 15, 3.4e2)\n",
    "             , arrowprops=dict(arrowstyle= '<|-',color='r', lw=1.5,ls='--'))\n",
    "plt.ylim(0, 3.5e2)\n",
    "#-----------------------------------#\n",
    "if ifSave:\n",
    "    #fig.tight_layout()\n",
    "    plt.savefig(savePath+\"two_shower_primary_theta_edge_precut.png\", dpi = 200)\n",
    "#-----------------------------------#\n",
    "plt.show()\n",
    "\n",
    "print(TuneCut['TwoShowerThetaEdge'])"
   ]
  },
  {
   "cell_type": "code",
   "execution_count": null,
   "metadata": {},
   "outputs": [],
   "source": [
    "if ifTune:\n",
    "    vary_Theta(df_hnl_prim_shw2_center, df_hnl_prim_shw2_center, df_hnl_prim_shw2_center, true_counts, start_counts)\n",
    "    if ifSave:\n",
    "        plt.savefig(savePath+\"/two_shower_prim_theta_center_tuning.png\", dpi =200)\n",
    "        \n",
    "    vary_Theta(df_hnl_prim_shw2_edge, df_hnl_prim_shw2_edge, df_hnl_prim_shw2_edge, true_counts, start_counts)\n",
    "    if ifSave:\n",
    "        plt.savefig(savePath+\"/two_shower_prim_theta_edge_tuning.png\", dpi =200)"
   ]
  },
  {
   "cell_type": "markdown",
   "metadata": {},
   "source": [
    "<h3> 2+ showers: cut on primary + less harsh cut </h3>"
   ]
  },
  {
   "cell_type": "code",
   "execution_count": null,
   "metadata": {},
   "outputs": [],
   "source": [
    "if ifCut:\n",
    "    angle_center = TuneCut['TwoShowerThetaCenter']\n",
    "    print(angle_center)\n",
    "    df_hnl_prim_shw2_center = cutThetaAngle(df_hnl_prim_shw2_center, thetaAngle = angle_center) \n",
    "    df_nu_prim_shw2_center = cutThetaAngle(df_nu_prim_shw2_center, thetaAngle = angle_center) \n",
    "    df_cos_prim_shw2_center = cutThetaAngle(df_cos_prim_shw2_center, thetaAngle = angle_center) \n",
    "    \n",
    "    angle_edge = TuneCut['TwoShowerThetaEdge']\n",
    "    print(angle_edge)\n",
    "    df_hnl_prim_shw2_edge = cutThetaAngle(df_hnl_prim_shw2_edge, thetaAngle = angle_edge) \n",
    "    df_nu_prim_shw2_edge = cutThetaAngle(df_nu_prim_shw2_edge, thetaAngle = angle_edge) \n",
    "    df_cos_prim_shw2_edge = cutThetaAngle(df_cos_prim_shw2_edge, thetaAngle = angle_edge) \n",
    "    \n",
    "df_hnl_prim_shw2 = pd.concat([df_hnl_prim_shw2_center, df_hnl_prim_shw2_edge])\n",
    "df_nu_prim_shw2 = pd.concat([df_nu_prim_shw2_center, df_nu_prim_shw2_edge])\n",
    "df_cos_prim_shw2 = pd.concat([df_cos_prim_shw2_center, df_cos_prim_shw2_edge])"
   ]
  },
  {
   "cell_type": "markdown",
   "metadata": {},
   "source": [
    "<h3> Merge one and two showers back together </h3>"
   ]
  },
  {
   "cell_type": "code",
   "execution_count": null,
   "metadata": {},
   "outputs": [],
   "source": [
    "df_hnl_shw2 = merge_df_prim(df_hnl_shw2, df_hnl_prim_shw2)\n",
    "df_nu_shw2 = merge_df_prim(df_nu_shw2, df_nu_prim_shw2)\n",
    "df_cos_shw2 = merge_df_prim(df_cos_shw2, df_cos_prim_shw2)\n",
    "\n",
    "df_hnl = apply_shower_cut(df_hnl, df_hnl_shw1, df_hnl_shw2)\n",
    "df_nu = apply_shower_cut(df_nu, df_nu_shw1, df_nu_shw2)\n",
    "df_cos = apply_shower_cut(df_cos, df_cos_shw1, df_cos_shw2)"
   ]
  },
  {
   "cell_type": "markdown",
   "metadata": {},
   "source": [
    "<h3>Save Purity/Eff</h3>"
   ]
  },
  {
   "cell_type": "code",
   "execution_count": null,
   "metadata": {},
   "outputs": [],
   "source": [
    "purity, eff = calc_purity_eff(df_hnl, df_nu, df_cos, true_counts, start_counts)\n",
    "\n",
    "purity_arr.append(purity)\n",
    "eff_arr.append(eff)\n",
    "cut_arr.append(\"Shower Theta Cut\")\n",
    "\n",
    "print(purity_arr)\n",
    "print(eff_arr)\n",
    "print(cut_arr)"
   ]
  },
  {
   "cell_type": "markdown",
   "metadata": {},
   "source": [
    "<h1> Make Beam Bucket - Post Shower Theta</h1>"
   ]
  },
  {
   "cell_type": "code",
   "execution_count": null,
   "metadata": {},
   "outputs": [],
   "source": [
    "hist, bins = plot_slc_var(df_hnl, df_nu, df_cos,\n",
    "                    true_counts, start_counts, \n",
    "                    'mod_t', \n",
    "                    xmin = 0, xmax = 30, xnbin = 30,\n",
    "                    xtitle = 'Opt0 Time Corrected Z % ' + str(width) + ' [ns]',\n",
    "                  ifAddLegend = True, addLegend = label\n",
    "                    )\n",
    "\n",
    "#-----------------------------------#\n",
    "if ifSave:\n",
    "    #fig.tight_layout()\n",
    "    plt.savefig(savePath+\"beam_bucket_postshowertheta.png\", dpi = 200)\n",
    "#-----------------------------------#\n",
    "plt.show()"
   ]
  },
  {
   "cell_type": "markdown",
   "metadata": {},
   "source": [
    "<h1>2 Shower Case: Pi0 Mass </h1>"
   ]
  },
  {
   "cell_type": "markdown",
   "metadata": {},
   "source": [
    "<h3> Split into 1 shower and multi shower case again! </h3>"
   ]
  },
  {
   "cell_type": "code",
   "execution_count": null,
   "metadata": {},
   "outputs": [],
   "source": [
    "df_cos['slc_pfp_shower_theta']"
   ]
  },
  {
   "cell_type": "code",
   "execution_count": null,
   "metadata": {},
   "outputs": [],
   "source": [
    "df_hnl_shw1, df_hnl_shw2 = split_my_df(df_hnl)\n",
    "\n",
    "df_nu_shw1, df_nu_shw2 = split_my_df(df_nu)\n",
    "\n",
    "#df_cos_shw1, df_cos_shw2 = split_my_df(df_cos)"
   ]
  },
  {
   "cell_type": "code",
   "execution_count": null,
   "metadata": {},
   "outputs": [],
   "source": [
    "df_hnl_shw2['pi0_mass'] = df_hnl_shw2.apply(lambda row: pi0mass(row), axis = 1)\n",
    "\n",
    "df_nu_shw2['pi0_mass'] = df_nu_shw2.apply(lambda row: pi0mass(row), axis = 1)\n",
    "\n",
    "df_cos['pi0_mass']  = \"\"\n",
    "#df_cos_shw2['pi0_mass'] = df_cos_shw2.apply(lambda row: pi0mass(row), axis = 1)\n"
   ]
  },
  {
   "cell_type": "code",
   "execution_count": null,
   "metadata": {},
   "outputs": [],
   "source": [
    "df_hnl_prim_shw2 = get_primary_shw_df(df_hnl_shw2)\n",
    "\n",
    "df_nu_prim_shw2 = get_primary_shw_df(df_nu_shw2)\n",
    "\n",
    "#df_cos_prim_shw2 = get_primary_shw_df(df_cos_shw2)\n",
    "df_cos_prim_shw2 = get_primary_shw_df(df_cos)"
   ]
  },
  {
   "cell_type": "code",
   "execution_count": null,
   "metadata": {},
   "outputs": [],
   "source": [
    "when_hnl_shw2_center = (df_hnl_prim_shw2['mod_t'] >= lb) &  (df_hnl_prim_shw2['mod_t'] <= ub)\n",
    "when_nu_shw2_center = (df_nu_prim_shw2['mod_t'] >= lb) &  (df_nu_prim_shw2['mod_t'] <= ub)\n",
    "when_cos_shw2_center = (df_cos_prim_shw2['mod_t'] >= lb) &  (df_cos_prim_shw2['mod_t'] <= ub)\n",
    "\n",
    "when_hnl_shw2_edge = (df_hnl_prim_shw2['mod_t'] < lb) | (df_hnl_prim_shw2['mod_t'] > ub)\n",
    "when_nu_shw2_edge = (df_nu_prim_shw2['mod_t'] < lb) | (df_nu_prim_shw2['mod_t'] > ub)\n",
    "when_cos_shw2_edge = (df_cos_prim_shw2['mod_t'] < lb) | (df_cos_prim_shw2['mod_t'] > ub)\n",
    "\n",
    "df_hnl_prim_shw2_center = df_hnl_prim_shw2[when_hnl_shw2_center]\n",
    "df_nu_prim_shw2_center = df_nu_prim_shw2[when_nu_shw2_center]\n",
    "df_cos_prim_shw2_center = df_cos_prim_shw2[when_cos_shw2_center]\n",
    "\n",
    "\n",
    "df_hnl_prim_shw2_edge = df_hnl_prim_shw2[when_hnl_shw2_edge]\n",
    "df_nu_prim_shw2_edge = df_nu_prim_shw2[when_nu_shw2_edge]\n",
    "df_cos_prim_shw2_edge = df_cos_prim_shw2[when_cos_shw2_edge]"
   ]
  },
  {
   "cell_type": "code",
   "execution_count": null,
   "metadata": {},
   "outputs": [],
   "source": [
    "mass_lb = 0\n",
    "mass_ub = 300"
   ]
  },
  {
   "cell_type": "code",
   "execution_count": null,
   "metadata": {},
   "outputs": [],
   "source": [
    "plot_slc_var(df_hnl_prim_shw2, df_nu_prim_shw2, df_cos,\n",
    "#plot_slc_var(df_hnl_prim_shw2, df_nu_prim_shw2, df_cos_prim_shw2,\n",
    "                    true_counts, start_counts, \n",
    "                    'pi0_mass', \n",
    "                    xmin = 0, xmax = 600, xnbin = 30,\n",
    "                    xtitle = 'Pi 0 Mass [MeV]',\n",
    "                  ifAddLegend = True, addLegend = label\n",
    "                    )\n",
    "# only one line may be specified; full height\n",
    "plt.axvline(x = 135, color = 'r', linewidth = 2.5, ls = '-')\n",
    "plt.axvline(x = mass_lb, color = 'r', linewidth = 1.5, ls = '--')\n",
    "plt.axvline(x = mass_ub, color = 'r', linewidth = 1.5, ls = '--')\n",
    "\n",
    "plt.annotate(\"\", xy=(mass_ub, 1.7e3), xytext=(mass_ub - 50, 1.7e3)\n",
    "             , arrowprops=dict(arrowstyle= '<|-',color='r', lw=1.5,ls='--'))\n",
    "plt.ylim(0, 1.8e3)\n",
    "#-----------------------------------#\n",
    "if ifSave:\n",
    "    #fig.tight_layout()\n",
    "    plt.savefig(savePath+\"pizero_mass_precut.png\", dpi = 200)\n",
    "#-----------------------------------#\n",
    "\n",
    "plt.show()"
   ]
  },
  {
   "cell_type": "code",
   "execution_count": null,
   "metadata": {},
   "outputs": [],
   "source": [
    "plot_slc_var(df_hnl_prim_shw2_center, df_nu_prim_shw2_center, df_cos,\n",
    "#plot_slc_var(df_hnl_prim_shw2, df_nu_prim_shw2, df_cos_prim_shw2,\n",
    "                    true_counts, start_counts, \n",
    "                    'pi0_mass', \n",
    "                    xmin = 0, xmax = 600, xnbin = 30,\n",
    "                    xtitle = 'Pi 0 Mass [MeV]',\n",
    "                  ifAddLegend = True, addLegend = label\n",
    "                    )\n",
    "# only one line may be specified; full height\n",
    "plt.axvline(x = 135, color = 'r', linewidth = 2.5, ls = '-')\n",
    "plt.axvline(x = mass_lb, color = 'r', linewidth = 1.5, ls = '--')\n",
    "plt.axvline(x = mass_ub, color = 'r', linewidth = 1.5, ls = '--')\n",
    "plt.annotate(\"\", xy=(mass_ub, 1.5e3), xytext=(mass_ub - 50, 1.5e3)\n",
    "             , arrowprops=dict(arrowstyle= '<|-',color='r', lw=1.5,ls='--'))\n",
    "plt.ylim(0, 1.6e3)\n",
    "#-----------------------------------#\n",
    "if ifSave:\n",
    "    #fig.tight_layout()\n",
    "    plt.savefig(savePath+\"pizero_mass_peak_precut.png\", dpi = 200)\n",
    "#-----------------------------------#\n",
    "\n",
    "plt.show()"
   ]
  },
  {
   "cell_type": "code",
   "execution_count": null,
   "metadata": {},
   "outputs": [],
   "source": [
    "plot_slc_var(df_hnl_prim_shw2_edge, df_nu_prim_shw2_edge, df_cos,\n",
    "#plot_slc_var(df_hnl_prim_shw2, df_nu_prim_shw2, df_cos_prim_shw2,\n",
    "                    true_counts, start_counts, \n",
    "                    'pi0_mass', \n",
    "                    xmin = 0, xmax = 600, xnbin = 30,\n",
    "                    xtitle = 'Pi 0 Mass [MeV]',\n",
    "                  ifAddLegend = True, addLegend = label\n",
    "                    )\n",
    "# only one line may be specified; full height\n",
    "plt.axvline(x = 135, color = 'r', linewidth = 2.5, ls = '-')\n",
    "plt.axvline(x = mass_lb, color = 'r', linewidth = 1.5, ls = '--')\n",
    "plt.axvline(x = mass_ub, color = 'r', linewidth = 1.5, ls = '--')\n",
    "plt.annotate(\"\", xy=(mass_ub, 2.4e2), xytext=(mass_ub - 50, 2.4e2)\n",
    "             , arrowprops=dict(arrowstyle= '<|-',color='r', lw=1.5,ls='--'))\n",
    "plt.ylim(0, 2.5e2)\n",
    "#-----------------------------------#\n",
    "if ifSave:\n",
    "    #fig.tight_layout()\n",
    "    plt.savefig(savePath+\"pizero_mass_edge_precut.png\", dpi = 200)\n",
    "#-----------------------------------#\n",
    "\n",
    "plt.show()"
   ]
  },
  {
   "cell_type": "markdown",
   "metadata": {},
   "source": [
    "<h3>Apply Cut</h3>"
   ]
  },
  {
   "cell_type": "code",
   "execution_count": null,
   "metadata": {},
   "outputs": [],
   "source": [
    "if ifCut:\n",
    "\n",
    "    df_hnl_prim_shw2_center =  df_hnl_prim_shw2_center[(df_hnl_prim_shw2_center['pi0_mass'] >= mass_lb) & (df_hnl_prim_shw2_center['pi0_mass'] <= mass_ub)]\n",
    "    df_nu_prim_shw2_center = df_nu_prim_shw2_center[(df_nu_prim_shw2_center['pi0_mass'] >= mass_lb) & (df_nu_prim_shw2_center['pi0_mass'] <= mass_ub)]\n",
    "    df_cos_prim_shw2_center = df_cos_prim_shw2_center[(df_cos_prim_shw2_center['pi0_mass'] >= mass_lb) & (df_cos_prim_shw2_center['pi0_mass'] <= mass_ub)] \n",
    "    \n",
    "    df_hnl_prim_shw2_edge =  df_hnl_prim_shw2_edge[(df_hnl_prim_shw2_edge['pi0_mass'] >= mass_lb) & (df_hnl_prim_shw2_edge['pi0_mass'] <= mass_ub)]\n",
    "    df_nu_prim_shw2_edge = df_nu_prim_shw2_edge[(df_nu_prim_shw2_edge['pi0_mass'] >= mass_lb) & (df_nu_prim_shw2_edge['pi0_mass'] <= mass_ub)]\n",
    "    df_cos_prim_shw2_edge = df_cos_prim_shw2_edge[(df_cos_prim_shw2_edge['pi0_mass'] >= mass_lb) & (df_cos_prim_shw2_edge['pi0_mass'] <= mass_ub)] \n",
    "    \n",
    "    \n",
    "df_hnl_prim_shw2 = pd.concat([df_hnl_prim_shw2_center, df_hnl_prim_shw2_edge])\n",
    "df_nu_prim_shw2 = pd.concat([df_nu_prim_shw2_center, df_nu_prim_shw2_edge])\n",
    "df_cos_prim_shw2 = pd.concat([df_cos_prim_shw2_center, df_cos_prim_shw2_edge])"
   ]
  },
  {
   "cell_type": "code",
   "execution_count": null,
   "metadata": {},
   "outputs": [],
   "source": [
    "df_hnl_shw2 = merge_df_prim(df_hnl_shw2, df_hnl_prim_shw2)\n",
    "\n",
    "df_nu_shw2 = merge_df_prim(df_nu_shw2, df_nu_prim_shw2)\n",
    "\n",
    "df_cos_shw2 = merge_df_prim(df_cos_shw2, df_cos_prim_shw2)"
   ]
  },
  {
   "cell_type": "code",
   "execution_count": null,
   "metadata": {},
   "outputs": [],
   "source": [
    "df_hnl = apply_shower_cut(df_hnl, df_hnl_shw1, df_hnl_shw2)\n",
    "\n",
    "df_nu = apply_shower_cut(df_nu, df_nu_shw1, df_nu_shw2)\n",
    "\n",
    "df_cos = apply_shower_cut(df_cos, df_cos_shw1, df_cos_shw2)"
   ]
  },
  {
   "cell_type": "markdown",
   "metadata": {},
   "source": [
    "<h3>Save Purity/Eff</h3>"
   ]
  },
  {
   "cell_type": "code",
   "execution_count": null,
   "metadata": {},
   "outputs": [],
   "source": [
    "purity, eff = calc_purity_eff(df_hnl, df_nu, df_cos, true_counts, start_counts)\n",
    "\n",
    "purity_arr.append(purity)\n",
    "eff_arr.append(eff)\n",
    "cut_arr.append(\"Pion Mass Cut\")\n",
    "\n",
    "print(purity_arr)\n",
    "print(eff_arr)\n",
    "print(cut_arr)"
   ]
  },
  {
   "cell_type": "markdown",
   "metadata": {},
   "source": [
    "<h1>Beam Bucket - Post Pion Mass Cut</h1>"
   ]
  },
  {
   "cell_type": "code",
   "execution_count": null,
   "metadata": {},
   "outputs": [],
   "source": [
    "hist, bins = plot_slc_var(\n",
    "                    df_hnl\n",
    "                    , df_nu\n",
    "                    , df_cos\n",
    "                    , true_counts, start_counts, \n",
    "                    'mod_t', \n",
    "                    xmin = 0, xmax = 30, xnbin = 30,\n",
    "                    xtitle = 'Opt0 Time Corrected Z % ' + str(width) + ' [ns]',\n",
    "                  ifAddLegend = True, addLegend = label\n",
    "                    )\n",
    "\n",
    "#-----------------------------------#\n",
    "if ifSave:\n",
    "    #fig.tight_layout()\n",
    "    plt.savefig(savePath+\"beam_bucket_postpionmass.png\", dpi = 200)\n",
    "#-----------------------------------#\n",
    "plt.show()"
   ]
  },
  {
   "cell_type": "markdown",
   "metadata": {},
   "source": [
    "<h1>Beam Timing Cut</h1>"
   ]
  },
  {
   "cell_type": "code",
   "execution_count": null,
   "metadata": {},
   "outputs": [],
   "source": [
    "when_hnl_edge = (df_hnl['mod_t'] < lb) | (df_hnl['mod_t'] > ub)\n",
    "when_nu_edge = (df_nu['mod_t'] < lb) | (df_nu['mod_t'] > ub)\n",
    "when_cos_edge = (df_cos['mod_t'] < lb) | (df_cos['mod_t'] > ub)\n",
    "\n",
    "df_hnl_edge = df_hnl[when_hnl_edge]\n",
    "df_nu_edge = df_nu[when_nu_edge]\n",
    "df_cos_edge = df_cos[when_cos_edge]"
   ]
  },
  {
   "cell_type": "markdown",
   "metadata": {},
   "source": [
    "<h3> Save Purity/Eff </h3>"
   ]
  },
  {
   "cell_type": "code",
   "execution_count": null,
   "metadata": {},
   "outputs": [],
   "source": [
    "purity, eff = calc_purity_eff(df_hnl_edge, df_nu_edge, df_cos_edge, true_counts, start_counts)\n",
    "\n",
    "purity_arr.append(purity)\n",
    "eff_arr.append(eff)\n",
    "cut_arr.append(\"Timing Cut\")\n",
    "\n",
    "print(purity_arr)\n",
    "print(eff_arr)\n",
    "print(cut_arr)"
   ]
  },
  {
   "cell_type": "markdown",
   "metadata": {},
   "source": [
    "<h1>Beam Bucket Final Distribution</h1>"
   ]
  },
  {
   "cell_type": "code",
   "execution_count": null,
   "metadata": {},
   "outputs": [],
   "source": [
    "df_hnl = get_primary_shw_df(df_hnl)\n",
    "\n",
    "df_nu = get_primary_shw_df(df_nu)\n",
    "\n",
    "df_cos = get_primary_shw_df(df_cos)"
   ]
  },
  {
   "cell_type": "code",
   "execution_count": null,
   "metadata": {},
   "outputs": [],
   "source": [
    "when_hnl_center = (df_hnl['mod_t'] >= lb) &  (df_hnl['mod_t'] <= ub)\n",
    "when_nu_center = (df_nu['mod_t'] >= lb) &  (df_nu['mod_t'] <= ub)\n",
    "when_cos_center = (df_cos['mod_t'] >= lb) &  (df_cos['mod_t'] <= ub)\n",
    "\n",
    "when_hnl_edge = (df_hnl['mod_t'] < lb) | (df_hnl['mod_t'] > ub)\n",
    "when_nu_edge = (df_nu['mod_t'] < lb) | (df_nu['mod_t'] > ub)\n",
    "when_cos_edge = (df_cos['mod_t'] < lb) | (df_cos['mod_t'] > ub)\n",
    "\n",
    "df_hnl_center = df_hnl[when_hnl_center]\n",
    "df_nu_center = df_nu[when_nu_center]\n",
    "df_cos_center = df_cos[when_cos_center]\n",
    "\n",
    "df_hnl_edge = df_hnl[when_hnl_edge]\n",
    "df_nu_edge = df_nu[when_nu_edge]\n",
    "df_cos_edge = df_cos[when_cos_edge]"
   ]
  },
  {
   "cell_type": "code",
   "execution_count": null,
   "metadata": {},
   "outputs": [],
   "source": [
    "hist, bins = plot_slc_var(\n",
    "                    df_hnl\n",
    "                    , df_nu\n",
    "                    , df_cos\n",
    "                    , true_counts, start_counts, \n",
    "                    'mod_t', \n",
    "                    xmin = 0, xmax = 30, xnbin = 30,\n",
    "                    xtitle = 'Opt0 Time Corrected Z % ' + str(width) + ' [ns]',\n",
    "                  ifAddLegend = True, addLegend = label\n",
    "                    )\n",
    "\n",
    "#-----------------------------------#\n",
    "if ifSave:\n",
    "    #fig.tight_layout()\n",
    "    plt.savefig(savePath+\"beam_bucket_final.png\", dpi = 200)\n",
    "#-----------------------------------#\n",
    "plt.show()"
   ]
  },
  {
   "cell_type": "code",
   "execution_count": null,
   "metadata": {},
   "outputs": [],
   "source": [
    "hist, bins = plot_slc_var(\n",
    "                    df_hnl_center\n",
    "                    , df_nu_center\n",
    "                    , df_cos_center\n",
    "                    , true_counts, start_counts, \n",
    "                    'mod_t', \n",
    "                    xmin = 0, xmax = 30, xnbin = 30,\n",
    "                    xtitle = 'Opt0 Time Corrected Z % ' + str(width) + ' [ns]',\n",
    "                  ifAddLegend = True, addLegend = label\n",
    "                    )\n",
    "\n",
    "#-----------------------------------#\n",
    "if ifSave:\n",
    "    #fig.tight_layout()\n",
    "    plt.savefig(savePath+\"beam_bucket_peak_final.png\", dpi = 200)\n",
    "#-----------------------------------#\n",
    "plt.show()"
   ]
  },
  {
   "cell_type": "code",
   "execution_count": null,
   "metadata": {},
   "outputs": [],
   "source": [
    "hist, bins = plot_slc_var(\n",
    "                    df_hnl_edge#[df_hnl_edge['slc_pfp_shower_energy'] >= 100]\n",
    "                    , df_nu_edge#[df_nu_edge['slc_pfp_shower_energy'] >= 100]\n",
    "                    , df_cos_edge#[df_cos_edge['slc_pfp_shower_energy'] >= 100]\n",
    "                    , true_counts, start_counts, \n",
    "                    'mod_t', \n",
    "                    xmin = 0, xmax = 30, xnbin = 30,\n",
    "                    xtitle = 'Opt0 Time Corrected Z % ' + str(width) + ' [ns]',\n",
    "                  ifAddLegend = True, addLegend = label\n",
    "                    )\n",
    "#plt.ylim(0,450)\n",
    "#-----------------------------------#\n",
    "if ifSave:\n",
    "    #fig.tight_layout()\n",
    "    plt.savefig(savePath+\"beam_bucket_edge_final.png\", dpi = 200)\n",
    "#-----------------------------------#\n",
    "plt.show()"
   ]
  },
  {
   "cell_type": "markdown",
   "metadata": {},
   "source": [
    "<h1>Plot Purity/Efficiency </h1>"
   ]
  },
  {
   "cell_type": "code",
   "execution_count": null,
   "metadata": {},
   "outputs": [],
   "source": [
    "print(eff_arr)\n",
    "print(purity_arr)\n",
    "print(cut_arr)"
   ]
  },
  {
   "cell_type": "code",
   "execution_count": null,
   "metadata": {},
   "outputs": [],
   "source": [
    "fig, ax1 = plt.subplots(1, 1, figsize=(10, 6), sharex = True)\n",
    "ax2 = ax1.twinx()\n",
    "\n",
    "t = np.arange(0, len(cut_arr) , 1)\n",
    "\n",
    "effcol = col_dict['MintGreen']\n",
    "pcol = col_dict['Flamingo']\n",
    "\n",
    "ax1.plot(t, eff_arr, c = effcol, marker = 'o', markersize = 5, ls='--')\n",
    "ax2.plot(t, purity_arr, c = pcol, marker = 'o', markersize = 5, ls='--')\n",
    "\n",
    "ax1.set_ylim(-5,105)\n",
    "ax2.set_ylim(-5,105)\n",
    "\n",
    "ax1.grid(color='gainsboro', which='both', axis='both', linestyle='--')\n",
    "\n",
    "ax1.set_ylabel(\"Selection Effciency [%]\", c = effcol, fontsize = 16)\n",
    "ax2.set_ylabel(\"Purity [%]\", c = pcol, fontsize = 16)\n",
    "\n",
    "plt.xticks(range(0, len(t)))\n",
    "ax1.set_xticklabels(cut_arr, rotation = 45, ha=\"right\", fontsize = 16)\n",
    "\n",
    "ax1.tick_params(bottom = True, top = True, left = True, right = False)\n",
    "ax2.tick_params(bottom = True, top = True, left = False, right = True)\n",
    "\n",
    "ax1.tick_params(axis = 'x', labelsize = 16, direction = 'in')\n",
    "ax1.tick_params(axis = 'y', labelsize = 16, direction = 'in')\n",
    "ax2.tick_params(axis = 'y', labelsize = 16, direction = 'in')\n",
    "\n",
    "ax1.set_title(label, y=1.0, pad=-55, fontsize = 16)\n",
    "fig.tight_layout()\n",
    "\n",
    "#-----------------------------------#\n",
    "if ifSave:\n",
    "    plt.savefig(savePath+\"peff.png\", dpi = 200)\n",
    "#-----------------------------------#\n",
    "plt.show()"
   ]
  },
  {
   "cell_type": "markdown",
   "metadata": {},
   "source": [
    "<h1>Save Only Primary Showers </h1>"
   ]
  },
  {
   "cell_type": "code",
   "execution_count": null,
   "metadata": {},
   "outputs": [],
   "source": [
    "df_hnl = get_primary_shw_df(df_hnl)\n",
    "\n",
    "df_nu = get_primary_shw_df(df_nu)\n",
    "\n",
    "df_cos = get_primary_shw_df(df_cos)\n",
    "#df_cos_prim_shw2 = get_primary_shw_df(df_cos)"
   ]
  },
  {
   "cell_type": "code",
   "execution_count": null,
   "metadata": {},
   "outputs": [],
   "source": [
    "df_hnl[df_hnl['slc_true_event_type'] == 9]"
   ]
  },
  {
   "cell_type": "code",
   "execution_count": null,
   "metadata": {},
   "outputs": [],
   "source": [
    "df_nu[df_nu['slc_true_event_type'] == 9]"
   ]
  },
  {
   "cell_type": "code",
   "execution_count": null,
   "metadata": {},
   "outputs": [],
   "source": [
    "df_cos"
   ]
  },
  {
   "cell_type": "markdown",
   "metadata": {},
   "source": [
    "<h1> Save Cut Dataframe to Pickle</h1>"
   ]
  },
  {
   "cell_type": "code",
   "execution_count": null,
   "metadata": {},
   "outputs": [],
   "source": [
    "df_hnl.to_pickle(\"../../pkl_files/v3_April2024/df_postselect_truly_final_loosy_m\"+str(m)+\"_v3_hnl.pkl\", protocol = 5)"
   ]
  },
  {
   "cell_type": "raw",
   "metadata": {},
   "source": [
    "df_nu.to_pickle(\"../../pkl_files/v3_April2024/df_postselect_truly_final_loosy_v3_nu.pkl\", protocol = 5)"
   ]
  },
  {
   "cell_type": "raw",
   "metadata": {},
   "source": [
    "df_cos.to_pickle(\"../../pkl_files/v3_April2024/df_postselect_truly_final_loosy_v3_cos.pkl\", protocol = 5)"
   ]
  },
  {
   "cell_type": "code",
   "execution_count": null,
   "metadata": {},
   "outputs": [],
   "source": []
  }
 ],
 "metadata": {
  "kernelspec": {
   "display_name": "Python 3 (ipykernel)",
   "language": "python",
   "name": "python3"
  },
  "language_info": {
   "codemirror_mode": {
    "name": "ipython",
    "version": 3
   },
   "file_extension": ".py",
   "mimetype": "text/x-python",
   "name": "python",
   "nbconvert_exporter": "python",
   "pygments_lexer": "ipython3",
   "version": "3.9.2"
  }
 },
 "nbformat": 4,
 "nbformat_minor": 4
}
