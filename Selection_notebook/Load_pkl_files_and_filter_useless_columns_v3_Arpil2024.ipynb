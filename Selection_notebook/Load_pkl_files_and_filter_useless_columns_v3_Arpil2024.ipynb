{
 "cells": [
  {
   "cell_type": "code",
   "execution_count": null,
   "metadata": {},
   "outputs": [],
   "source": [
    "import os\n",
    "os.nice(0)\n",
    "\n",
    "# Add local paths\n",
    "import sys\n",
    "hnlDIR = os.environ['_']\n",
    "sys.path.append('../pyscript')\n",
    "\n",
    "# From pyscript Library\n",
    "from HelperFunctions import *\n",
    "\n",
    "import pickle\n",
    "import pandas as pd\n",
    "\n",
    "import warnings\n",
    "warnings.filterwarnings(\"ignore\")"
   ]
  },
  {
   "cell_type": "markdown",
   "metadata": {},
   "source": [
    "<h1>Specify Mass</h1>"
   ]
  },
  {
   "cell_type": "code",
   "execution_count": null,
   "metadata": {},
   "outputs": [],
   "source": [
    "m = 240\n",
    "print(m)"
   ]
  },
  {
   "cell_type": "markdown",
   "metadata": {},
   "source": [
    "<h1>Configuration Stuff Here</h1>"
   ]
  },
  {
   "cell_type": "code",
   "execution_count": null,
   "metadata": {},
   "outputs": [],
   "source": [
    "keep_branches = [\n",
    "\"run\"\n",
    ",\"subrun\"\n",
    ",\"event\"\n",
    ",\"slc_id\"\n",
    ",\"slc_n_pfps\"\n",
    ",\"slc_vtx_x\"\n",
    ",\"slc_vtx_y\"\n",
    ",\"slc_vtx_z\"\n",
    ",\"slc_is_fv\"\n",
    ",\"slc_crumbs_score\"\n",
    ",\"slc_opt0_score\"\n",
    ",\"slc_opt0_measPE\"\n",
    ",\"slc_opt0_frac\"\n",
    ",\"slc_opt0_time_corrected_Z_pandora\"\n",
    ",\"slc_n_trks\"\n",
    ",\"slc_n_shws\"\n",
    ",\"slc_n_stub\"\n",
    "#,\"slc_total_shower_E\"\n",
    "#,\"slc_total_track_E\"\n",
    "#,\"slc_n_primary_trks\"\n",
    "#,\"slc_n_primary_shws\"\n",
    ",\"slc_n_razzled_electrons\"\n",
    ",\"slc_n_razzled_muons\"\n",
    ",\"slc_n_razzled_photons\"\n",
    ",\"slc_n_razzled_pions_thresh\"\n",
    ",\"slc_n_razzled_protons_thresh\"\n",
    "#,\"slc_n_primary_razzled_electrons\"\n",
    "#,\"slc_n_primary_razzled_muons\"\n",
    "#,\"slc_n_primary_razzled_photons\"\n",
    "#,\"slc_n_primary_razzled_pions\"\n",
    "#,\"slc_n_primary_razzled_pions_thresh\"\n",
    "#,\"slc_n_primary_razzled_protons_thresh\"\n",
    ",\"slc_comp\"\n",
    ",\"slc_true_event_type\"\n",
    "#,\"slc_true_en_dep\"\n",
    ",\"slc_pfp_n_hits\"\n",
    ",\"slc_pfp_track_score\"\n",
    ",\"slc_pfp_razzled_electron_score\"\n",
    ",\"slc_pfp_razzled_muon_score\"\n",
    ",\"slc_pfp_razzled_photon_score\"\n",
    ",\"slc_pfp_razzled_pion_score\"\n",
    ",\"slc_pfp_razzled_proton_score\"\n",
    "#,\"slc_pfp_true_pdg\"\n",
    "#,\"slc_pfp_true_energy\"\n",
    "#,\"slc_pfp_track_end_x\"\n",
    "#,\"slc_pfp_track_end_y\"\n",
    "#,\"slc_pfp_track_end_z\"\n",
    "#,\"slc_pfp_track_dir_x\"\n",
    "#,\"slc_pfp_track_dir_y\"\n",
    "#,\"slc_pfp_track_dir_z\"\n",
    ",\"slc_pfp_track_length\"\n",
    ",\"slc_pfp_track_ke\"\n",
    ",\"slc_pfp_track_theta\"\n",
    ",\"slc_pfp_track_phi\"\n",
    ",\"slc_pfp_track_contained\"\n",
    "#,\"slc_pfp_shower_end_x\"\n",
    "#,\"slc_pfp_shower_end_y\"\n",
    "#,\"slc_pfp_shower_end_z\"\n",
    ",\"slc_pfp_shower_conv_gap\"\n",
    ",\"slc_pfp_shower_dir_x\"\n",
    ",\"slc_pfp_shower_dir_y\"\n",
    ",\"slc_pfp_shower_dir_z\"\n",
    ",\"slc_pfp_shower_length\"\n",
    ",\"slc_pfp_shower_open_angle\"\n",
    ",\"slc_pfp_shower_energy\"\n",
    ",\"slc_pfp_shower_dedx\"\n",
    ",\"slc_pfp_shower_theta\"\n",
    ",\"slc_pfp_shower_phi\"\n",
    ",\"slc_pfp_shower_contained\"\n",
    "]"
   ]
  },
  {
   "cell_type": "markdown",
   "metadata": {},
   "source": [
    "<h1> HNL </h1>"
   ]
  },
  {
   "cell_type": "code",
   "execution_count": null,
   "metadata": {},
   "outputs": [],
   "source": [
    "count = 3\n",
    "if m == 140:\n",
    "    count = 3\n",
    "if m == 160:\n",
    "    count = 3\n",
    "if m == 180:\n",
    "    count = 3\n",
    "if m == 200:\n",
    "    count = 4\n",
    "if m == 220:\n",
    "    count = 3\n",
    "if m == 240:\n",
    "    count = 4\n",
    "print(count)"
   ]
  },
  {
   "cell_type": "markdown",
   "metadata": {},
   "source": [
    "<h3> Read in pkl files </h3>"
   ]
  },
  {
   "cell_type": "code",
   "execution_count": null,
   "metadata": {},
   "outputs": [],
   "source": [
    "df_hnl = pd.DataFrame()\n",
    "\n",
    "for i in range(0, count):\n",
    "    hnl_path = \"../../pkl_files/v3_April2024/hnl_m\"+str(m)+\"_slc_{}.pkl\".format(i)\n",
    "    print(hnl_path)\n",
    "    \n",
    "    file = open(hnl_path, 'rb')\n",
    "    df = pickle.load(file)\n",
    "    \n",
    "    df_hnl = pd.concat((df_hnl, df), ignore_index=True)\n",
    "    file.close()\n",
    "    \n",
    "#--------------------------------------------------#\n",
    "dfsubrun_hnl = pd.DataFrame()\n",
    "\n",
    "for i in range(0, count):\n",
    "    hnl_path = \"../../pkl_files/v3_April2024/hnl_m\"+str(m)+\"_subrun_{}.pkl\".format(i)\n",
    "    print(hnl_path)\n",
    "    \n",
    "    file = open(hnl_path, 'rb')\n",
    "    df = pickle.load(file)\n",
    "    \n",
    "    dfsubrun_hnl = pd.concat((dfsubrun_hnl, df), ignore_index=True)\n",
    "    file.close()"
   ]
  },
  {
   "cell_type": "markdown",
   "metadata": {},
   "source": [
    "<h3> Filter Branches </h3>"
   ]
  },
  {
   "cell_type": "code",
   "execution_count": null,
   "metadata": {},
   "outputs": [],
   "source": [
    "df_hnl = df_hnl[keep_branches]\n",
    "df_hnl"
   ]
  },
  {
   "cell_type": "markdown",
   "metadata": {},
   "source": [
    "<h3>Scaling POT and Umu</h3>"
   ]
  },
  {
   "cell_type": "code",
   "execution_count": null,
   "metadata": {},
   "outputs": [],
   "source": [
    "true_signals = 1\n",
    "true_nonfv_signals = 1\n",
    "total_true_signals = 1\n",
    "start_signals = 1\n",
    "start_nonfv_signals = 1\n",
    "total_start_signals = 1\n",
    "    \n",
    "if m == 140:\n",
    "    true_signals = 14613 + 14031 + 13228 \n",
    "    true_nonfv_signals = 6387 + 5969 + 5772 \n",
    "    total_true_signals = 21000 + 20000 + 19000 \n",
    "    start_signals = 14091 + 13501 + 12748 \n",
    "    start_nonfv_signals = 5450 + 5095 + 4914 \n",
    "    total_start_signals = 19541 + 18596 + 17662 \n",
    "    \n",
    "if m == 160:\n",
    "    true_signals = 14706 + 13847 +  13318\n",
    "    true_nonfv_signals = 6294 + 6153 + 5682 \n",
    "    total_true_signals = 21000 + 20000 + 19000 \n",
    "    start_signals = 14099 + 13318 + 12755 \n",
    "    start_nonfv_signals = 5336 + 5225 + 4844 \n",
    "    total_start_signals = 19435 + 18543 + 17599 \n",
    "    \n",
    "if m == 180:\n",
    "    true_signals = 14610 + 13920 + 9765  \n",
    "    true_nonfv_signals = 6390 + 6080 + 4235  \n",
    "    total_true_signals = 21000 + 20000 + 14000 \n",
    "    start_signals = 13995 + 13308 + 9277 \n",
    "    start_nonfv_signals = 5414 + 5137 + 3567 \n",
    "    total_start_signals = 19409 + 18445 + 12844\n",
    "    \n",
    "if m == 200:\n",
    "    true_signals = 14560 + 13929 + 12594 + 573\n",
    "    true_nonfv_signals = 6440 + 6071 + 5506 + 277\n",
    "    total_true_signals = 21000 + 20000 + 18100 + 850\n",
    "    start_signals = 13871 + 13237 + 12007 + 545\n",
    "    start_nonfv_signals = 5400 + 5021 + 4601 + 229\n",
    "    total_start_signals = 19271 + 18258 + 16608 + 774\n",
    "    \n",
    "if m == 220:\n",
    "    true_signals = 14772 + 14012 + 13328 \n",
    "    true_nonfv_signals = 6228 + 5988 + 5672 \n",
    "    total_true_signals = 21000 + 20000 + 19000 \n",
    "    start_signals = 14020 + 13323 + 12677 \n",
    "    start_nonfv_signals = 5198 + 5008 + 4725 \n",
    "    total_start_signals = 19218 + 18331 + 17402 \n",
    "    \n",
    "if m == 240:\n",
    "    true_signals = 14545 + 13889 + 12598 + 636\n",
    "    true_nonfv_signals = 6455 + 6111 + 5502 + 264 \n",
    "    total_true_signals = 21000 + 20000 + 18100 + 900\n",
    "    start_signals = 13780 + 13207 + 11979 + 604\n",
    "    start_nonfv_signals = 5340 + 5126 + 4619 + 230 \n",
    "    total_start_signals = 19120 + 18333 + 16598 + 834"
   ]
  },
  {
   "cell_type": "code",
   "execution_count": null,
   "metadata": {},
   "outputs": [],
   "source": [
    "simU = 1\n",
    "\n",
    "if m == 140:\n",
    "    simU = 1e-5\n",
    "if m == 160:\n",
    "    simU = 1e-6\n",
    "if m == 180:\n",
    "    simU = 1e-6\n",
    "if m == 200:\n",
    "    simU = 1e-7\n",
    "if m == 220:\n",
    "    simU = 1e-7\n",
    "if m == 240:\n",
    "    simU = 1e-7"
   ]
  },
  {
   "cell_type": "code",
   "execution_count": null,
   "metadata": {},
   "outputs": [],
   "source": [
    "#Sanity Check: ifScale == 1 i.e. Umu = 1e-7 and 3 years POT\n",
    "#true counts ~1.5k\n",
    "#start counts ~1.4k\n",
    "scale_pot_hnl, hnl_spills = calc_scaling_pot(dfsubrun_hnl, df_hnl, ifScale = 1)\n",
    "\n",
    "true_signals = true_signals * scale_pot_hnl\n",
    "true_nonfv_signals = true_nonfv_signals * scale_pot_hnl\n",
    "total_true_signals = total_true_signals * scale_pot_hnl\n",
    "\n",
    "start_signals = start_signals * scale_pot_hnl\n",
    "start_nonfv_signals = start_nonfv_signals * scale_pot_hnl\n",
    "total_start_signals = total_start_signals * scale_pot_hnl\n",
    "\n",
    "true_counts = total_true_signals\n",
    "start_counts = total_start_signals\n",
    "print(\"true counts = \" + str(true_counts))\n",
    "print(\"start counts = \" + str(start_counts))"
   ]
  },
  {
   "cell_type": "code",
   "execution_count": null,
   "metadata": {},
   "outputs": [],
   "source": [
    "df_hnl['simU'] = simU\n",
    "\n",
    "df_hnl['true_counts'] = true_counts\n",
    "df_hnl['start_counts'] = start_counts"
   ]
  },
  {
   "cell_type": "code",
   "execution_count": null,
   "metadata": {},
   "outputs": [],
   "source": [
    "df_hnl"
   ]
  },
  {
   "cell_type": "markdown",
   "metadata": {},
   "source": [
    "<h3>Save Pkl</h3>"
   ]
  },
  {
   "cell_type": "code",
   "execution_count": null,
   "metadata": {},
   "outputs": [],
   "source": [
    "df_hnl.to_pickle(\"../../pkl_files/v3_April2024/df_preselect_m\"+str(m)+\"_v3_hnl.pkl\", protocol = 5)"
   ]
  },
  {
   "cell_type": "markdown",
   "metadata": {},
   "source": [
    "<h1>Neutrinos</h1>"
   ]
  },
  {
   "cell_type": "markdown",
   "metadata": {},
   "source": [
    "<h2>Read in Pkl files</h2>"
   ]
  },
  {
   "cell_type": "markdown",
   "metadata": {},
   "source": [
    "<h3> Rcokbox Neutrino </h3>"
   ]
  },
  {
   "cell_type": "code",
   "execution_count": null,
   "metadata": {},
   "outputs": [],
   "source": [
    "df_nu = pd.DataFrame()\n",
    "\n",
    "for i in range(0, 51):\n",
    "    nu_path = \"../../pkl_files/v3_April2024/rockbox_slc_{}.pkl\".format(i)\n",
    "    print(nu_path)\n",
    "    \n",
    "    file = open(nu_path, 'rb')\n",
    "    df = pickle.load(file)\n",
    "    \n",
    "    df_nu = pd.concat((df_nu, df), ignore_index=True)\n",
    "    file.close()\n",
    "    \n",
    "#--------------------------------------------------#\n",
    "dfsubrun_nu = pd.DataFrame()\n",
    "\n",
    "for i in range(0, 51):\n",
    "    nu_path = \"../../pkl_files/v3_April2024/rockbox_subrun_{}.pkl\".format(i)\n",
    "    print(nu_path)\n",
    "    \n",
    "    file = open(nu_path, 'rb')\n",
    "    df = pickle.load(file)\n",
    "    \n",
    "    dfsubrun_nu = pd.concat((dfsubrun_nu, df), ignore_index=True)\n",
    "    file.close()"
   ]
  },
  {
   "cell_type": "markdown",
   "metadata": {},
   "source": [
    "<h3> NCPi0 </h3>"
   ]
  },
  {
   "cell_type": "code",
   "execution_count": null,
   "metadata": {},
   "outputs": [],
   "source": [
    "df_ncpi0 = pd.DataFrame()\n",
    "\n",
    "for i in range(0, 15):\n",
    "    nu_path = \"../../pkl_files/v3_April2024/ncpi0_slc_{}.pkl\".format(i)\n",
    "    print(nu_path)\n",
    "    \n",
    "    file = open(nu_path, 'rb')\n",
    "    df = pickle.load(file)\n",
    "    \n",
    "    df_ncpi0 = pd.concat((df_ncpi0, df), ignore_index=True)\n",
    "    file.close()\n",
    "    \n",
    "#--------------------------------------------------#\n",
    "dfsubrun_ncpi0 = pd.DataFrame()\n",
    "\n",
    "for i in range(0, 15):\n",
    "    nu_path = \"../../pkl_files/v3_April2024/ncpi0_subrun_{}.pkl\".format(i)\n",
    "    print(nu_path)\n",
    "    \n",
    "    file = open(nu_path, 'rb')\n",
    "    df = pickle.load(file)\n",
    "    \n",
    "    dfsubrun_ncpi0 = pd.concat((dfsubrun_ncpi0, df), ignore_index=True)\n",
    "    file.close()"
   ]
  },
  {
   "cell_type": "markdown",
   "metadata": {},
   "source": [
    "<h3>CCNue</h3>"
   ]
  },
  {
   "cell_type": "code",
   "execution_count": null,
   "metadata": {},
   "outputs": [],
   "source": [
    "df_ccnue = pd.DataFrame()\n",
    "\n",
    "for i in range(0, 4):\n",
    "    nu_path = \"../../pkl_files/v3_April2024/ccnue_slc_{}.pkl\".format(i)\n",
    "    print(nu_path)\n",
    "    \n",
    "    file = open(nu_path, 'rb')\n",
    "    df = pickle.load(file)\n",
    "    \n",
    "    df_ccnue = pd.concat((df_ccnue, df), ignore_index=True)\n",
    "    file.close()\n",
    "    \n",
    "#--------------------------------------------------#\n",
    "dfsubrun_ccnue = pd.DataFrame()\n",
    "\n",
    "for i in range(0, 4):\n",
    "    nu_path = \"../../pkl_files/v3_April2024/ccnue_subrun_{}.pkl\".format(i)\n",
    "    print(nu_path)\n",
    "    \n",
    "    file = open(nu_path, 'rb')\n",
    "    df = pickle.load(file)\n",
    "    \n",
    "    dfsubrun_ccnue = pd.concat((dfsubrun_ccnue, df), ignore_index=True)\n",
    "    file.close()"
   ]
  },
  {
   "cell_type": "markdown",
   "metadata": {},
   "source": [
    "<h2> Filter Branches </h2>"
   ]
  },
  {
   "cell_type": "code",
   "execution_count": null,
   "metadata": {},
   "outputs": [],
   "source": [
    "df_nu = df_nu[keep_branches]\n",
    "df_ncpi0 = df_ncpi0[keep_branches]\n",
    "df_ccnue = df_ccnue[keep_branches]"
   ]
  },
  {
   "cell_type": "markdown",
   "metadata": {},
   "source": [
    "<h2>Scaling Voodoo</h2>"
   ]
  },
  {
   "cell_type": "markdown",
   "metadata": {},
   "source": [
    "<h3>Rock Box Neutrino</h3>"
   ]
  },
  {
   "cell_type": "code",
   "execution_count": null,
   "metadata": {},
   "outputs": [],
   "source": [
    "#calculate POT as usual\n",
    "scale_pot_nu, nu_spill = calc_scaling_pot(dfsubrun_nu, df_nu)"
   ]
  },
  {
   "cell_type": "code",
   "execution_count": null,
   "metadata": {},
   "outputs": [],
   "source": [
    "#check if an event contains a slice true event == 3 \n",
    "def has3(lst):\n",
    "    if 3 in lst:\n",
    "        return True\n",
    "    return False\n",
    "\n",
    "#check if an event contains a slice true event == 3 \n",
    "def has6(lst):\n",
    "    if 6 in lst:\n",
    "        return True\n",
    "    return False\n",
    "\n",
    "#check if an event contains a slice true event == 3 \n",
    "def has3and6(lst):\n",
    "    if (6 in lst) and (3 in lst):\n",
    "        return True\n",
    "    return False"
   ]
  },
  {
   "cell_type": "code",
   "execution_count": null,
   "metadata": {},
   "outputs": [],
   "source": [
    "#Separate at event-level (NOT slice!) \n",
    "\n",
    "dfnu_event =  pd.DataFrame()\n",
    "dfnu_event = df_nu.groupby(['run','subrun', 'event','scale_pot'])[\"slc_true_event_type\"].apply(list).reset_index(name = 'list')\n",
    "\n",
    "#event type == 3 i.e. NCPi0 in FV\n",
    "dfnu_event['has3'] = np.vectorize(has3)(dfnu_event.list)\n",
    "#event type == 6 i.e. CCNue in FV\n",
    "dfnu_event['has6'] = np.vectorize(has6)(dfnu_event.list)"
   ]
  },
  {
   "cell_type": "code",
   "execution_count": null,
   "metadata": {},
   "outputs": [],
   "source": [
    "print(\"# of NCPi0 events in rockbox = {}\".format(len(dfnu_event[dfnu_event['has3'] == True])))\n",
    "print(\"# of other events in rockbox = {}\".format(len(dfnu_event[dfnu_event['has3'] == False])))\n",
    "\n",
    "print(\"# of CCNue events in rockbox = {}\".format(len(dfnu_event[dfnu_event['has6'] == True])))\n",
    "print(\"# of other events in rockbox = {}\".format(len(dfnu_event[dfnu_event['has6'] == False])))"
   ]
  },
  {
   "cell_type": "code",
   "execution_count": null,
   "metadata": {},
   "outputs": [],
   "source": [
    "#Pile up event that has pile up of NCPi0 and CCnue\n",
    "#TODO: what to do really?, remove for now so no duplicate stuff\n",
    "\n",
    "pileup_mask = (dfnu_event.has3 == True) & (dfnu_event.has6 == True)\n",
    "print(\"# of pile NCPi0 and CCNue in rockbox, remove for since Idk what to do\")\n",
    "print(dfnu_event[pileup_mask])\n",
    "\n",
    "dfnu_event = dfnu_event[~pileup_mask]\n",
    "print(dfnu_event[pileup_mask])"
   ]
  },
  {
   "cell_type": "code",
   "execution_count": null,
   "metadata": {},
   "outputs": [],
   "source": [
    "print(\"# of NCPi0 events in rockbox = {}\".format(len(dfnu_event[dfnu_event['has3'] == True])))\n",
    "print(\"# of other events in rockbox = {}\".format(len(dfnu_event[dfnu_event['has3'] == False])))\n",
    "\n",
    "print(\"# of CCNue events in rockbox = {}\".format(len(dfnu_event[dfnu_event['has6'] == True])))\n",
    "print(\"# of other events in rockbox = {}\".format(len(dfnu_event[dfnu_event['has6'] == False])))"
   ]
  },
  {
   "cell_type": "code",
   "execution_count": null,
   "metadata": {},
   "outputs": [],
   "source": [
    "#make 3 dataframes: \n",
    "#1. one contains no NCPi0, no CCNue\n",
    "#2. only NCPi0\n",
    "#3. only CCNue\n",
    "\n",
    "NoNCPi0_NoCCNue_mask = (dfnu_event['has3'] == False) & (dfnu_event['has6'] == False)\n",
    "dfnu_NoNCPi0_NoCCNue_event = dfnu_event[NoNCPi0_NoCCNue_mask]\n",
    "\n",
    "\n",
    "YesNCpi0_mask = (dfnu_event['has3'] == True)\n",
    "dfnu_YesNCpi0_event = dfnu_event[YesNCpi0_mask]\n",
    "\n",
    "YesCCNue_mask = (dfnu_event['has6'] == True)\n",
    "dfnu_YesCCnue_event = dfnu_event[YesCCNue_mask]\n",
    "\n",
    "print(\"# of events before removing = {}\".format(len(dfnu_event)))\n",
    "\n",
    "print(\"# of events after removing = {}\".format(len(dfnu_NoNCPi0_NoCCNue_event)))\n",
    "\n",
    "print(\"# of NCPi0 = {}\".format(len(dfnu_YesNCpi0_event)))\n",
    "print(\"# of CCNue = {}\".format(len(dfnu_YesCCnue_event)))\n",
    "\n",
    "print(\"Sanity Check: # of NCPi0 + CCNue + leftover = {}\".format(len(dfnu_YesNCpi0_event) + len(dfnu_YesCCnue_event) + len(dfnu_NoNCPi0_NoCCNue_event)))"
   ]
  },
  {
   "cell_type": "code",
   "execution_count": null,
   "metadata": {},
   "outputs": [],
   "source": [
    "#remove event type == 3 and 6 from rockbox sample\n",
    "dfnu_NoNCPi0_NoCCNue_event = dfnu_NoNCPi0_NoCCNue_event[['run','subrun', 'event']]\n",
    "\n",
    "df_nu_NoNCPi0_NoCCNue = df_nu.merge(dfnu_NoNCPi0_NoCCNue_event, on = ['run','subrun', 'event'])\n",
    "\n",
    "print(len(df_nu_NoNCPi0_NoCCNue[df_nu_NoNCPi0_NoCCNue['slc_true_event_type'] == 3]))\n",
    "print(len(df_nu_NoNCPi0_NoCCNue[df_nu_NoNCPi0_NoCCNue['slc_true_event_type'] == 6]))\n",
    "\n"
   ]
  },
  {
   "cell_type": "code",
   "execution_count": null,
   "metadata": {},
   "outputs": [],
   "source": [
    "#keep only event type == 3 in rockbox\n",
    "dfnu_YesNCpi0_event = dfnu_YesNCpi0_event[['run','subrun', 'event']]\n",
    "\n",
    "df_nu_YesNCpi0 = df_nu.merge(dfnu_YesNCpi0_event, on = ['run','subrun', 'event'])\n",
    "\n",
    "print(\"check slices\")\n",
    "print(len(df_nu_YesNCpi0[df_nu_YesNCpi0['slc_true_event_type'] == 3]))\n",
    "print(len(df_nu_YesNCpi0[df_nu_YesNCpi0['slc_true_event_type'] != 3]))"
   ]
  },
  {
   "cell_type": "code",
   "execution_count": null,
   "metadata": {},
   "outputs": [],
   "source": [
    "#keep only event type == 3 in rockbox\n",
    "dfnu_YesCCnue_event = dfnu_YesCCnue_event[['run','subrun', 'event']]\n",
    "\n",
    "df_nu_YesCCnue = df_nu.merge(dfnu_YesCCnue_event, on = ['run','subrun', 'event'])\n",
    "\n",
    "print(\"check slices\")\n",
    "print(len(df_nu_YesCCnue[df_nu_YesCCnue['slc_true_event_type'] == 6]))\n",
    "print(len(df_nu_YesCCnue[df_nu_YesCCnue['slc_true_event_type'] != 6]))"
   ]
  },
  {
   "cell_type": "code",
   "execution_count": null,
   "metadata": {},
   "outputs": [],
   "source": [
    "df_nu"
   ]
  },
  {
   "cell_type": "code",
   "execution_count": null,
   "metadata": {},
   "outputs": [],
   "source": [
    "del dfnu_event\n",
    "del dfnu_NoNCPi0_NoCCNue_event\n",
    "del dfnu_YesNCpi0_event\n",
    "del dfnu_YesCCnue_event"
   ]
  },
  {
   "cell_type": "markdown",
   "metadata": {},
   "source": [
    "<h3>NCPi0</h3>"
   ]
  },
  {
   "cell_type": "code",
   "execution_count": null,
   "metadata": {},
   "outputs": [],
   "source": [
    "#Separate at event-level (NOT slice!) event type == 3 i.e. NCPi0 in FV\n",
    "dfncpi0_event =  pd.DataFrame()\n",
    "dfncpi0_event = df_ncpi0.groupby(['run','subrun', 'event'])[\"slc_true_event_type\"].apply(list).reset_index(name = 'list')\n",
    "\n",
    "dfncpi0_event['has3'] = np.vectorize(has3)(dfncpi0_event.list)\n",
    "dfncpi0_event['has6'] = np.vectorize(has6)(dfncpi0_event.list)"
   ]
  },
  {
   "cell_type": "code",
   "execution_count": null,
   "metadata": {},
   "outputs": [],
   "source": [
    "print(\"# of NCPi0 events in ncpi0 filter sample = {}\".format(len(dfncpi0_event[dfncpi0_event['has3'] == True])))\n",
    "print(\"# of CCNue events in ncpi0 filter sample = {}\".format(len(dfncpi0_event[dfncpi0_event['has6'] == True])))\n",
    "print(\"# of NCPi0 + CCNue events in ncpi0 filter sample = {}\".format(len(dfncpi0_event[(dfncpi0_event['has6'] == True) &(dfncpi0_event['has3'] == True)])))"
   ]
  },
  {
   "cell_type": "code",
   "execution_count": null,
   "metadata": {},
   "outputs": [],
   "source": [
    "#keep only event type == 3 in NCpi0 sample\n",
    "dfncpi0_event = dfncpi0_event[dfncpi0_event['has3'] == True]\n",
    "\n",
    "dfncpi0_event = dfncpi0_event[['run','subrun', 'event']]\n",
    "df_ncpi0 = df_ncpi0.merge(dfncpi0_event, on = ['run','subrun', 'event'])\n",
    "\n",
    "print('slices')\n",
    "print(len(df_ncpi0[df_ncpi0['slc_true_event_type'] != 3]))\n",
    "print(len(df_ncpi0[df_ncpi0['slc_true_event_type'] == 3]))"
   ]
  },
  {
   "cell_type": "code",
   "execution_count": null,
   "metadata": {},
   "outputs": [],
   "source": [
    "#merge NCpi0 from rockbox and filter sample into 1\n",
    "\n",
    "df_ncpi0 = pd.concat([df_nu_YesNCpi0, df_ncpi0])"
   ]
  },
  {
   "cell_type": "code",
   "execution_count": null,
   "metadata": {},
   "outputs": [],
   "source": [
    "del dfncpi0_event"
   ]
  },
  {
   "cell_type": "markdown",
   "metadata": {},
   "source": [
    "<h3>CCNue</h3>"
   ]
  },
  {
   "cell_type": "code",
   "execution_count": null,
   "metadata": {},
   "outputs": [],
   "source": [
    "#Separate at event-level (NOT slice!) event type == 3 i.e. NCPi0 in FV\n",
    "dfccnue_event =  pd.DataFrame()\n",
    "dfccnue_event = df_ccnue.groupby(['run','subrun', 'event'])[\"slc_true_event_type\"].apply(list).reset_index(name = 'list')\n",
    "\n",
    "dfccnue_event['has3'] = np.vectorize(has3)(dfccnue_event.list)\n",
    "dfccnue_event['has6'] = np.vectorize(has6)(dfccnue_event.list)"
   ]
  },
  {
   "cell_type": "code",
   "execution_count": null,
   "metadata": {},
   "outputs": [],
   "source": [
    "print(\"# of NCPi0 events in ccnue filter sample = {}\".format(len(dfccnue_event[dfccnue_event['has3'] == True])))\n",
    "print(\"# of CCNue events in ccnue filter sample = {}\".format(len(dfccnue_event[dfccnue_event['has6'] == True])))\n",
    "print(\"# of NCPi0 + CCNue events in ccnue filter sample = {}\".format(len(dfccnue_event[(dfccnue_event['has6'] == True) &(dfccnue_event['has3'] == True)])))"
   ]
  },
  {
   "cell_type": "code",
   "execution_count": null,
   "metadata": {},
   "outputs": [],
   "source": [
    "#keep only event type == 3 in NCpi0 sample\n",
    "dfccnue_event = dfccnue_event[dfccnue_event['has6'] == True]\n",
    "\n",
    "dfccnue_event = dfccnue_event[['run','subrun', 'event']]\n",
    "df_ccnue = df_ccnue.merge(dfccnue_event, on = ['run','subrun', 'event'])\n",
    "\n",
    "print('slices')\n",
    "print(len(df_ccnue[df_ccnue['slc_true_event_type'] != 6]))\n",
    "print(len(df_ccnue[df_ccnue['slc_true_event_type'] == 6]))"
   ]
  },
  {
   "cell_type": "code",
   "execution_count": null,
   "metadata": {},
   "outputs": [],
   "source": [
    "#merge CCnue from rockbox and filter sample into 1\n",
    "\n",
    "df_ccnue = pd.concat([df_nu_YesCCnue, df_ccnue])"
   ]
  },
  {
   "cell_type": "code",
   "execution_count": null,
   "metadata": {},
   "outputs": [],
   "source": [
    "del dfccnue_event"
   ]
  },
  {
   "cell_type": "markdown",
   "metadata": {},
   "source": [
    "<h3>POT Scaling</h3>"
   ]
  },
  {
   "cell_type": "code",
   "execution_count": null,
   "metadata": {},
   "outputs": [],
   "source": [
    "#calculate the POT per event for rockbox sample\n",
    "total_pot = df_nu['scale_pot'].sum() \n",
    "\n",
    "pot_YesNCPi0 = df_nu_YesNCpi0['scale_pot'].sum() \n",
    "\n",
    "pot_YesCCnue = df_nu_YesCCnue['scale_pot'].sum()\n",
    "\n",
    "\n",
    "pot_NoNCPi0_NoCCnue = df_nu_NoNCPi0_NoCCNue['scale_pot'].sum()\n",
    "\n",
    "print(\"total pot = \" + str(total_pot))\n",
    "\n",
    "print(\"Yes NCPi0 pot = \" + str(pot_YesNCPi0))\n",
    "\n",
    "print(\"Yes CCnue pot = \" + str(pot_YesCCnue))\n",
    "\n",
    "print(\"No NCPi0 No CCNue pot = \" + str(pot_NoNCPi0_NoCCnue))\n",
    "\n",
    "print(\"sanity checl: add 3 samples pot = \" + str(pot_YesNCPi0+pot_YesCCnue+pot_NoNCPi0_NoCCnue))"
   ]
  },
  {
   "cell_type": "code",
   "execution_count": null,
   "metadata": {},
   "outputs": [],
   "source": [
    "#calculate the POT per event for NCPi0 sample\n",
    "nEvent_NCPi0Only = len(df_ncpi0['slc_id'])\n",
    "nEvent_nuNCPi0 = len(df_nu_YesNCpi0['slc_id'])\n",
    "\n",
    "scale_pot_NCPi0 =  nEvent_nuNCPi0 / nEvent_NCPi0Only * (pot_YesNCPi0/nEvent_nuNCPi0)\n",
    "\n",
    "df_ncpi0['scale_pot'] = scale_pot_NCPi0\n",
    "\n",
    "print(nEvent_NCPi0Only)\n",
    "print(nEvent_nuNCPi0)\n",
    "print(scale_pot_NCPi0)"
   ]
  },
  {
   "cell_type": "code",
   "execution_count": null,
   "metadata": {},
   "outputs": [],
   "source": [
    "#calculate the POT per event for CCnue sample\n",
    "nEvent_CCnueOnly = len(df_ccnue['slc_id'])\n",
    "nEvent_nuCCnue = len(df_nu_YesCCnue['slc_id'])\n",
    "\n",
    "scale_pot_CCnue =  nEvent_nuCCnue / nEvent_CCnueOnly * (pot_YesCCnue/nEvent_nuCCnue)\n",
    "\n",
    "df_ccnue['scale_pot'] = scale_pot_CCnue\n",
    "\n",
    "print(nEvent_CCnueOnly)\n",
    "print(nEvent_nuCCnue)\n",
    "print(scale_pot_CCnue)"
   ]
  },
  {
   "cell_type": "markdown",
   "metadata": {},
   "source": [
    "<h3>Merge things</h3>"
   ]
  },
  {
   "cell_type": "code",
   "execution_count": null,
   "metadata": {},
   "outputs": [],
   "source": [
    "#concat rockbox with ncpi0 and ccnue\n",
    "df_new_nu = pd.concat([df_nu_NoNCPi0_NoCCNue, df_ncpi0, df_ccnue])\n",
    "df_new_nu = df_new_nu.reset_index()\n",
    "\n",
    "df_nu = df_new_nu"
   ]
  },
  {
   "cell_type": "markdown",
   "metadata": {},
   "source": [
    "<h3>Save Pkl</h3>"
   ]
  },
  {
   "cell_type": "code",
   "execution_count": null,
   "metadata": {},
   "outputs": [],
   "source": [
    "df_nu.to_pickle(\"../../pkl_files/v3_April2024/df_preselect_v3_nu.pkl\", protocol = 5)"
   ]
  },
  {
   "cell_type": "code",
   "execution_count": null,
   "metadata": {},
   "outputs": [],
   "source": [
    "print(nu_spill)"
   ]
  },
  {
   "cell_type": "markdown",
   "metadata": {},
   "source": [
    "<h1>Intime Cosmics</h1>"
   ]
  },
  {
   "cell_type": "code",
   "execution_count": null,
   "metadata": {},
   "outputs": [],
   "source": [
    "df_cos = pd.DataFrame()\n",
    "\n",
    "for i in range(0, 3):\n",
    "    cos_path = \"../../pkl_files/v3_April2024/intime_cosmic_slc_{}.pkl\".format(i)\n",
    "    print(cos_path)\n",
    "    \n",
    "    file = open(cos_path, 'rb')\n",
    "    df = pickle.load(file)\n",
    "    \n",
    "    df_cos = pd.concat((df_cos, df), ignore_index=True)\n",
    "    file.close()\n",
    "    \n",
    "#--------------------------------------------------#\n",
    "dfsubrun_cos = pd.DataFrame()\n",
    "\n",
    "for i in range(0, 3):\n",
    "    cos_path = \"../../pkl_files/v3_April2024/intime_cosmic_subrun_{}.pkl\".format(i)\n",
    "    print(cos_path)\n",
    "    \n",
    "    file = open(cos_path, 'rb')\n",
    "    df = pickle.load(file)\n",
    "    \n",
    "    dfsubrun_cos = pd.concat((dfsubrun_cos, df), ignore_index=True)\n",
    "    file.close()"
   ]
  },
  {
   "cell_type": "markdown",
   "metadata": {},
   "source": [
    "<h3>Filter branches</h3>"
   ]
  },
  {
   "cell_type": "code",
   "execution_count": null,
   "metadata": {},
   "outputs": [],
   "source": [
    "df_cos = df_cos[keep_branches]"
   ]
  },
  {
   "cell_type": "markdown",
   "metadata": {},
   "source": [
    "<h3>POT scaling</h3>"
   ]
  },
  {
   "cell_type": "code",
   "execution_count": null,
   "metadata": {},
   "outputs": [],
   "source": [
    "nu_spill = 66395205.5653753\n",
    "hnl_spill = 0\n",
    "scale_pot_cosmics = calc_scaling_spill(dfsubrun_cos, df_cos, hnl_spill, nu_spill)"
   ]
  },
  {
   "cell_type": "markdown",
   "metadata": {},
   "source": [
    "<h3>Save Pkl</h3>"
   ]
  },
  {
   "cell_type": "code",
   "execution_count": null,
   "metadata": {},
   "outputs": [],
   "source": [
    "df_cos.to_pickle(\"../../pkl_files/v3_April2024/df_preselect_v3_cos.pkl\", protocol = 5)"
   ]
  },
  {
   "cell_type": "code",
   "execution_count": null,
   "metadata": {},
   "outputs": [],
   "source": []
  }
 ],
 "metadata": {
  "kernelspec": {
   "display_name": "Python 3 (ipykernel)",
   "language": "python",
   "name": "python3"
  },
  "language_info": {
   "codemirror_mode": {
    "name": "ipython",
    "version": 3
   },
   "file_extension": ".py",
   "mimetype": "text/x-python",
   "name": "python",
   "nbconvert_exporter": "python",
   "pygments_lexer": "ipython3",
   "version": "3.9.7"
  }
 },
 "nbformat": 4,
 "nbformat_minor": 4
}
