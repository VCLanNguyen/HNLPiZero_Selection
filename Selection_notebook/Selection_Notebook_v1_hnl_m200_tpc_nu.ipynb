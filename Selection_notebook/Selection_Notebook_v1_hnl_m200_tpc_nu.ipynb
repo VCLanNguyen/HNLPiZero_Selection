{
 "cells": [
  {
   "cell_type": "code",
   "execution_count": null,
   "metadata": {},
   "outputs": [],
   "source": [
    "# Add the relevant scripts from LArMachineLearningData\n",
    "# Nice the process so it can run with lots of cores on low priority\n",
    "import os\n",
    "os.nice(20)\n",
    "\n",
    "# Add local paths\n",
    "import sys\n",
    "hnlDIR = os.environ['_']\n",
    "sys.path.append('../pyscript')\n",
    "\n",
    "# From pyscript Library\n",
    "from Plotting import *\n",
    "from Dictionary import *\n",
    "from HelperFunctions import *\n",
    "from CutFunctions import *\n",
    "\n",
    "import pickle\n",
    "import numpy as np\n",
    "import pandas as pd\n",
    "import matplotlib.pyplot as plt\n",
    "\n",
    "import warnings\n",
    "warnings.filterwarnings(\"ignore\")"
   ]
  },
  {
   "cell_type": "markdown",
   "metadata": {},
   "source": [
    "<h1>Configuration Stuff Here</h1>"
   ]
  },
  {
   "cell_type": "code",
   "execution_count": null,
   "metadata": {},
   "outputs": [],
   "source": [
    "ifTune = False\n",
    "ifSave = False\n",
    "savePath = \"../plot_files/06Feb24/\""
   ]
  },
  {
   "cell_type": "code",
   "execution_count": null,
   "metadata": {},
   "outputs": [],
   "source": [
    "ifStrict = True"
   ]
  },
  {
   "cell_type": "code",
   "execution_count": null,
   "metadata": {},
   "outputs": [],
   "source": [
    "TuneCut = {}\n",
    "\n",
    "if ifStrict:   \n",
    "    TuneCut = {\n",
    "    'crumbs': 0.04\n",
    "    , 'Opt0Score': 1000\n",
    "    ,'Opt0FracMore': -0.02\n",
    "    , 'Opt0FracLess': 0.92\n",
    "    , 'Muon' : 0.02\n",
    "    , 'Proton' : 0.02\n",
    "    , 'Pion' : 0.02\n",
    "    , 'ShowerTheta': 9.2\n",
    "    }\n",
    "    \n",
    "else:\n",
    "    TuneCut = {\n",
    "    'crumbs': 0.04\n",
    "    , 'Opt0Score': 1000\n",
    "    , 'Opt0FracMore': -0.08\n",
    "    , 'Opt0FracLess': 0.92\n",
    "    , 'Muon' : 0.06\n",
    "    , 'Proton' : 1\n",
    "    , 'Pion' : 0.98\n",
    "    , 'ShowerTheta': 12.8\n",
    "    }\n",
    "    "
   ]
  },
  {
   "cell_type": "markdown",
   "metadata": {},
   "source": [
    "<h1> Read in PKL Dataframe </h1>"
   ]
  },
  {
   "cell_type": "markdown",
   "metadata": {},
   "source": [
    "<h3> HNL </h3>"
   ]
  },
  {
   "cell_type": "code",
   "execution_count": null,
   "metadata": {},
   "outputs": [],
   "source": [
    "df_hnl = pd.DataFrame()\n",
    "\n",
    "for i in range(0, 2):\n",
    "    hnl_path = \"../pkl_files/v1/hnl_m200_50k__slc_{}.pkl\".format(i)\n",
    "    print(hnl_path)\n",
    "    \n",
    "    file = open(hnl_path, 'rb')\n",
    "    df = pickle.load(file)\n",
    "    \n",
    "    df_hnl = pd.concat((df_hnl, df), ignore_index=True)\n",
    "    file.close()\n",
    "    \n",
    "#--------------------------------------------------#\n",
    "dfsubrun_hnl = pd.DataFrame()\n",
    "\n",
    "for i in range(0, 2):\n",
    "    hnl_path = \"../pkl_files/v1/hnl_m200_50k__subrun_{}.pkl\".format(i)\n",
    "    print(hnl_path)\n",
    "    \n",
    "    file = open(hnl_path, 'rb')\n",
    "    df = pickle.load(file)\n",
    "    \n",
    "    dfsubrun_hnl = pd.concat((dfsubrun_hnl, df), ignore_index=True)\n",
    "    file.close()"
   ]
  },
  {
   "cell_type": "markdown",
   "metadata": {},
   "source": [
    "<h3> TPC Neutrino </h3>"
   ]
  },
  {
   "cell_type": "code",
   "execution_count": null,
   "metadata": {},
   "outputs": [],
   "source": [
    "df_nu = pd.DataFrame()\n",
    "\n",
    "for i in range(0, 4):\n",
    "    nu_path = \"../pkl_files/v1/nu_tpc_100k_slc_{}.pkl\".format(i)\n",
    "    print(nu_path)\n",
    "    \n",
    "    file = open(nu_path, 'rb')\n",
    "    df = pickle.load(file)\n",
    "    \n",
    "    df_nu = pd.concat((df_nu, df), ignore_index=True)\n",
    "    file.close()\n",
    "    \n",
    "#--------------------------------------------------#\n",
    "dfsubrun_nu = pd.DataFrame()\n",
    "\n",
    "for i in range(0, 4):\n",
    "    nu_path = \"../pkl_files/v1/nu_tpc_100k_subrun_{}.pkl\".format(i)\n",
    "    print(nu_path)\n",
    "    \n",
    "    file = open(nu_path, 'rb')\n",
    "    df = pickle.load(file)\n",
    "    \n",
    "    dfsubrun_nu = pd.concat((dfsubrun_nu, df), ignore_index=True)\n",
    "    file.close()"
   ]
  },
  {
   "cell_type": "markdown",
   "metadata": {},
   "source": [
    "<h3> Intime Cosmics </h3>"
   ]
  },
  {
   "cell_type": "code",
   "execution_count": null,
   "metadata": {},
   "outputs": [],
   "source": [
    "df_cos = pd.DataFrame()\n",
    "\n",
    "for i in range(0, 2):\n",
    "    cos_path = \"../pkl_files/v1/cos_50k_slc_{}.pkl\".format(i)\n",
    "    print(cos_path)\n",
    "    \n",
    "    file = open(cos_path, 'rb')\n",
    "    df = pickle.load(file)\n",
    "    \n",
    "    df_cos = pd.concat((df_cos, df), ignore_index=True)\n",
    "    file.close()\n",
    "    \n",
    "#--------------------------------------------------#\n",
    "dfsubrun_cos = pd.DataFrame()\n",
    "\n",
    "for i in range(0, 2):\n",
    "    cos_path = \"../pkl_files/v1/cos_50k_subrun_{}.pkl\".format(i)\n",
    "    print(cos_path)\n",
    "    \n",
    "    file = open(cos_path, 'rb')\n",
    "    df = pickle.load(file)\n",
    "    \n",
    "    dfsubrun_cos = pd.concat((dfsubrun_cos, df), ignore_index=True)\n",
    "    file.close()"
   ]
  },
  {
   "cell_type": "markdown",
   "metadata": {},
   "source": [
    "<h1>Some Scaling Voodoo</h1>"
   ]
  },
  {
   "cell_type": "markdown",
   "metadata": {},
   "source": [
    "<h3>HNL</h3>"
   ]
  },
  {
   "cell_type": "code",
   "execution_count": null,
   "metadata": {},
   "outputs": [],
   "source": [
    "#Copy from text file that contains slice count before clear cosmics cut\n",
    "\n",
    "true_signals = 17442 + 17207\n",
    "true_nonfv_signals = 7608 + 7443\n",
    "total_true_signals = 25050 + 24650\n",
    "start_signals = 16653 + 16435\n",
    "start_nonfv_signals = 6370 + 6261\n",
    "total_start_signals = 23023 + 22696"
   ]
  },
  {
   "cell_type": "code",
   "execution_count": null,
   "metadata": {},
   "outputs": [],
   "source": [
    "#Sanity Check: ifScale == 1 i.e. Umu = 1e-7 and 3 years POT\n",
    "#true counts ~1.5k\n",
    "#start counts ~1.4k\n",
    "scale_pot_hnl, hnl_spill = calc_scaling_pot(dfsubrun_hnl, df_hnl, ifScale = 1)\n",
    "\n",
    "true_signals = true_signals * scale_pot_hnl\n",
    "true_nonfv_signals = true_nonfv_signals * scale_pot_hnl\n",
    "total_true_signals = total_true_signals * scale_pot_hnl\n",
    "start_signals = start_signals * scale_pot_hnl\n",
    "start_nonfv_signals = start_nonfv_signals * scale_pot_hnl\n",
    "total_start_signals = total_start_signals * scale_pot_hnl\n",
    "\n",
    "true_counts = total_true_signals\n",
    "start_counts = total_start_signals\n",
    "print(\"true counts = \" + str(true_counts))\n",
    "print(\"start counts = \" + str(start_counts))"
   ]
  },
  {
   "cell_type": "code",
   "execution_count": null,
   "metadata": {},
   "outputs": [],
   "source": [
    "simU = 1e-7 #already squared\n",
    "scaleHNLPlot = 80"
   ]
  },
  {
   "cell_type": "code",
   "execution_count": null,
   "metadata": {},
   "outputs": [],
   "source": [
    "plotU = getUfromScaleFactor(simU, scaleHNLPlot)\n",
    "true_counts = true_counts * scaleHNLPlot\n",
    "start_counts =  start_counts * scaleHNLPlot\n",
    "\n",
    "print(\"Scale Umu by \" + str(scaleHNLPlot))\n",
    "print(\"Scaled Umu = \" + str(plotU))\n",
    "print(\"Scaled true counts = \" + str(true_counts))\n",
    "print(\"Scaled start counts = \" + str(start_counts))"
   ]
  },
  {
   "cell_type": "code",
   "execution_count": null,
   "metadata": {},
   "outputs": [],
   "source": [
    "scale_pot_hnl, hnl_spill = calc_scaling_pot(dfsubrun_hnl, df_hnl, ifScale = scaleHNLPlot)\n",
    "\n",
    "del dfsubrun_hnl"
   ]
  },
  {
   "cell_type": "markdown",
   "metadata": {},
   "source": [
    "<h3>TPC Neutrino</h3>"
   ]
  },
  {
   "cell_type": "code",
   "execution_count": null,
   "metadata": {},
   "outputs": [],
   "source": [
    "scale_pot_nu, nu_spill = calc_scaling_pot(dfsubrun_nu, df_nu)\n",
    "\n",
    "del  dfsubrun_nu"
   ]
  },
  {
   "cell_type": "markdown",
   "metadata": {},
   "source": [
    "<h3>Intime Cosmics</h3>"
   ]
  },
  {
   "cell_type": "code",
   "execution_count": null,
   "metadata": {},
   "outputs": [],
   "source": [
    "scale_pot_cosmics = calc_scaling_spill(dfsubrun_cos, df_cos, hnl_spill, nu_spill)\n",
    "\n",
    "del  dfsubrun_cos"
   ]
  },
  {
   "cell_type": "markdown",
   "metadata": {},
   "source": [
    "<h1> Make Beam Bucket - Pre Cosmics </h1>"
   ]
  },
  {
   "cell_type": "code",
   "execution_count": null,
   "metadata": {},
   "outputs": [],
   "source": [
    "width = 19.02\n",
    "\n",
    "df_hnl['mod_t'] = df_hnl['slc_opt0_time_corrected_Z_pandora']%width\n",
    "df_nu['mod_t'] = df_nu['slc_opt0_time_corrected_Z_pandora']%width\n",
    "df_cos['mod_t'] = df_cos['slc_opt0_time_corrected_Z_pandora']%width\n",
    "#----------------------------------------------\n",
    "hist, bins = plot_slc_var(df_hnl, df_nu, df_cos,\n",
    "                    true_counts, start_counts, \n",
    "                    'mod_t', \n",
    "                    scaleHNLPlot,\n",
    "                    xmin = 0, xmax = 19, xnbin = 19,\n",
    "                    xtitle = 'Opt0 Time Corrected Z % ' + str(width) + ' [ns]'\n",
    "                    )\n",
    "#-----------------------------------#\n",
    "if ifSave:\n",
    "    #fig.tight_layout()\n",
    "    plt.savefig(savePath+\"beam_bucket_precosmics.png\", dpi = 200)\n",
    "#-----------------------------------#\n",
    "plt.show()"
   ]
  },
  {
   "cell_type": "markdown",
   "metadata": {},
   "source": [
    "<h1> Save Purity and Eff </h1>"
   ]
  },
  {
   "cell_type": "code",
   "execution_count": null,
   "metadata": {},
   "outputs": [],
   "source": [
    "purity_arr, eff_arr, cut_arr = [], [], []"
   ]
  },
  {
   "cell_type": "code",
   "execution_count": null,
   "metadata": {},
   "outputs": [],
   "source": [
    "purity, eff = calc_purity_eff(df_hnl, df_nu, df_cos, true_counts, start_counts)\n",
    "\n",
    "\n",
    "purity_arr.append(purity)\n",
    "eff_arr.append(eff)\n",
    "cut_arr.append(\"Clear Cosmics Removal\")\n",
    "\n",
    "print(purity_arr)\n",
    "print(eff_arr)\n",
    "print(cut_arr)"
   ]
  },
  {
   "cell_type": "markdown",
   "metadata": {},
   "source": [
    "<h1>Beam Gate</h1>"
   ]
  },
  {
   "cell_type": "raw",
   "metadata": {},
   "source": [
    "plot_slc_var(df_hnl, df_nu, df_cos,\n",
    "                    true_counts, start_counts, \n",
    "                    'slc_opt0_time_corrected_Z_pandora', \n",
    "                    scaleHNLPlot,\n",
    "                    xmin = 0, xmax = 400, xnbin = 40,\n",
    "                    xtitle = 'Opt0 Time Corrected Z [ns]'\n",
    "                    )\n",
    "#-----------------------------------#\n",
    "if ifSave:\n",
    "    #fig.tight_layout()\n",
    "    plt.savefig(savePath+\"beamgate_precut.png\", dpi = 200)\n",
    "#-----------------------------------#\n",
    "plt.show()"
   ]
  },
  {
   "cell_type": "markdown",
   "metadata": {},
   "source": [
    "<h3>Apply Cut</h3>"
   ]
  },
  {
   "cell_type": "raw",
   "metadata": {},
   "source": [
    "df_hnl = cutBeamGate(df_hnl)\n",
    "df_nu = cutBeamGate(df_nu)\n",
    "df_cos = cutBeamGate(df_cos)"
   ]
  },
  {
   "cell_type": "markdown",
   "metadata": {},
   "source": [
    "<h3>Save Purity/Eff</h3>"
   ]
  },
  {
   "cell_type": "raw",
   "metadata": {},
   "source": [
    "purity, eff = calc_purity_eff(df_hnl, df_nu, df_cos, true_counts, start_counts)\n",
    "\n",
    "purity_arr.append(purity)\n",
    "eff_arr.append(eff)\n",
    "cut_arr.append(\"Beam Gate\")\n",
    "\n",
    "print(purity_arr)\n",
    "print(eff_arr)\n",
    "print(cut_arr)"
   ]
  },
  {
   "cell_type": "raw",
   "metadata": {},
   "source": [
    "plot_slc_var(df_hnl, df_nu, df_cos,\n",
    "                    true_counts, start_counts, \n",
    "                    'slc_opt0_time_corrected_Z_pandora', \n",
    "                    scaleHNLPlot,\n",
    "                    xmin = 0, xmax = 400, xnbin = 40,\n",
    "                    xtitle = 'Opt0 Time Corrected Z [ns]'\n",
    "                    )\n",
    "#-----------------------------------#\n",
    "if ifSave:\n",
    "    #fig.tight_layout()\n",
    "    plt.savefig(savePath+\"beamgate_postcut.png\", dpi = 200)\n",
    "#-----------------------------------#\n",
    "plt.show()"
   ]
  },
  {
   "cell_type": "markdown",
   "metadata": {},
   "source": [
    "<h1> CRUMBS </h1>"
   ]
  },
  {
   "cell_type": "code",
   "execution_count": null,
   "metadata": {},
   "outputs": [],
   "source": [
    "plot_slc_var(df_hnl, df_nu, df_cos,\n",
    "                    true_counts, start_counts, \n",
    "                    'slc_crumbs_score', \n",
    "                    scaleHNLPlot,\n",
    "                    xmin = -2.5, xmax =1, xnbin = 40,\n",
    "                    xtitle = 'CRUMBS Score'\n",
    "                    )\n",
    "#-----------------------------------#\n",
    "if ifSave:\n",
    "    #fig.tight_layout()\n",
    "    plt.savefig(savePath+\"crumbs_precut.png\", dpi = 200)\n",
    "#-----------------------------------#\n",
    "plt.show()"
   ]
  },
  {
   "cell_type": "code",
   "execution_count": null,
   "metadata": {},
   "outputs": [],
   "source": [
    "def vary_crumbsScore(df_hnl, df_nu, df_cos):\n",
    "    \n",
    "    step = 0.02\n",
    "    cutStep = np.arange(-1.0, 1 + step, step)\n",
    "    \n",
    "    p_arr, eff_arr, peff_arr = [], [], []\n",
    "    \n",
    "    purity_start, eff_start = calc_purity_eff(df_hnl, df_nu, df_cos, true_counts, start_counts)\n",
    "    \n",
    "    for c in cutStep:\n",
    "        df_hnl_cut = cutCosmics(df_hnl, crumbsScore = c)\n",
    "        df_nu_cut = cutCosmics(df_nu, crumbsScore = c)\n",
    "        df_cos_cut = cutCosmics(df_cos, crumbsScore = c)\n",
    "        \n",
    "        purity, eff = calc_purity_eff(df_hnl_cut, df_nu_cut, df_cos_cut, true_counts, start_counts)\n",
    "        \n",
    "        p_arr.append(purity)\n",
    "        eff_arr.append(eff)\n",
    "        peff_arr.append(purity*eff)\n",
    "    \n",
    "    plot_purity_eff(p_arr, eff_arr, peff_arr, cutStep, purity_start, eff_start, loc = 'center left')\n"
   ]
  },
  {
   "cell_type": "code",
   "execution_count": null,
   "metadata": {},
   "outputs": [],
   "source": [
    "if ifTune:\n",
    "    vary_crumbsScore(df_hnl, df_nu, df_cos)\n",
    "    \n",
    "    if ifSave:\n",
    "        plt.savefig(savePath+\"/crumbs_tuning.png\", dpi =200)"
   ]
  },
  {
   "cell_type": "markdown",
   "metadata": {},
   "source": [
    "<h3>Apply Cut</h3>"
   ]
  },
  {
   "cell_type": "code",
   "execution_count": null,
   "metadata": {},
   "outputs": [],
   "source": [
    "score = TuneCut['crumbs']\n",
    "\n",
    "df_hnl = cutCosmics(df_hnl, crumbsScore = score)\n",
    "df_nu = cutCosmics(df_nu, crumbsScore = score)\n",
    "df_cos = cutCosmics(df_cos, crumbsScore = score)"
   ]
  },
  {
   "cell_type": "markdown",
   "metadata": {},
   "source": [
    "<h3>Save Purity/Eff</h3>"
   ]
  },
  {
   "cell_type": "code",
   "execution_count": null,
   "metadata": {},
   "outputs": [],
   "source": [
    "purity, eff = calc_purity_eff(df_hnl, df_nu, df_cos, true_counts, start_counts)\n",
    "\n",
    "purity_arr.append(purity)\n",
    "eff_arr.append(eff)\n",
    "cut_arr.append(\"CRUMBS\")\n",
    "\n",
    "print(purity_arr)\n",
    "print(eff_arr)\n",
    "print(cut_arr)"
   ]
  },
  {
   "cell_type": "code",
   "execution_count": null,
   "metadata": {},
   "outputs": [],
   "source": [
    "plot_slc_var(df_hnl, df_nu, df_cos,\n",
    "                    true_counts, start_counts, \n",
    "                    'slc_crumbs_score', \n",
    "                    scaleHNLPlot,\n",
    "                    xmin = -2.5, xmax =1, xnbin = 40,\n",
    "                    xtitle = 'CRUMBS Score'\n",
    "                    )\n",
    "#-----------------------------------#\n",
    "if ifSave:\n",
    "    #fig.tight_layout()\n",
    "    plt.savefig(savePath+\"crumbs_postcut.png\", dpi = 200)\n",
    "#-----------------------------------#\n",
    "\n",
    "plt.show()"
   ]
  },
  {
   "cell_type": "markdown",
   "metadata": {},
   "source": [
    "<h1> Fiducial Volume </h1>"
   ]
  },
  {
   "cell_type": "code",
   "execution_count": null,
   "metadata": {},
   "outputs": [],
   "source": [
    "plot_slc_var(df_hnl, df_nu, df_cos,\n",
    "                    true_counts, start_counts, \n",
    "                    'slc_is_fv', \n",
    "                    scaleHNLPlot,\n",
    "                    xmin = -1, xmax = 3, xnbin = 40,\n",
    "                    xtitle = 'Vertex is in Fiducial Volume'\n",
    "                    )\n",
    "#-----------------------------------#\n",
    "if ifSave:\n",
    "    #fig.tight_layout()\n",
    "    plt.savefig(savePath+\"fv_precut.png\", dpi = 200)\n",
    "#-----------------------------------#\n",
    "plt.show()"
   ]
  },
  {
   "cell_type": "markdown",
   "metadata": {},
   "source": [
    "<h3>Apply Cut</h3>"
   ]
  },
  {
   "cell_type": "code",
   "execution_count": null,
   "metadata": {},
   "outputs": [],
   "source": [
    "df_hnl = cutFV(df_hnl)\n",
    "df_nu = cutFV(df_nu)\n",
    "df_cos = cutFV(df_cos)"
   ]
  },
  {
   "cell_type": "markdown",
   "metadata": {},
   "source": [
    "<h3>Save Purity/Eff</h3>"
   ]
  },
  {
   "cell_type": "code",
   "execution_count": null,
   "metadata": {},
   "outputs": [],
   "source": [
    "purity, eff = calc_purity_eff(df_hnl, df_nu, df_cos, true_counts, start_counts)\n",
    "\n",
    "purity_arr.append(purity)\n",
    "eff_arr.append(eff)\n",
    "cut_arr.append(\"Vertex In FV\")\n",
    "\n",
    "print(purity_arr)\n",
    "print(eff_arr)\n",
    "print(cut_arr)"
   ]
  },
  {
   "cell_type": "code",
   "execution_count": null,
   "metadata": {},
   "outputs": [],
   "source": [
    "plot_slc_var(df_hnl, df_nu, df_cos,\n",
    "                    true_counts, start_counts, \n",
    "                    'slc_is_fv', \n",
    "                    scaleHNLPlot,\n",
    "                    xmin = -1, xmax = 3, xnbin = 40,\n",
    "                    xtitle = 'Vertex is in Fiducial Volume'\n",
    "                    )\n",
    "#-----------------------------------#\n",
    "if ifSave:\n",
    "    #fig.tight_layout()\n",
    "    plt.savefig(savePath+\"fv_postcut.png\", dpi = 200)\n",
    "#-----------------------------------#\n",
    "plt.show()"
   ]
  },
  {
   "cell_type": "markdown",
   "metadata": {},
   "source": [
    "<h1> Opt0 Score </h1>"
   ]
  },
  {
   "cell_type": "code",
   "execution_count": null,
   "metadata": {},
   "outputs": [],
   "source": [
    "plot_slc_var(df_hnl, df_nu, df_cos,\n",
    "                    true_counts, start_counts, \n",
    "                    'slc_opt0_score', \n",
    "                    scaleHNLPlot,\n",
    "                    xmin = 0, xmax = 40000, xnbin = 40,\n",
    "                    xtitle = 'Opt0 Score'\n",
    "                    )\n",
    "#-----------------------------------#\n",
    "if ifSave:\n",
    "    #fig.tight_layout()\n",
    "    plt.savefig(savePath+\"opt0score_precut.png\", dpi = 200)\n",
    "#-----------------------------------#\n",
    "plt.show()"
   ]
  },
  {
   "cell_type": "code",
   "execution_count": null,
   "metadata": {},
   "outputs": [],
   "source": [
    "def vary_OpT0Score(df_hnl, df_nu, df_cos):\n",
    "    \n",
    "    step = 50\n",
    "    cutStep = np.arange(0, 2000 + step, step)\n",
    "    \n",
    "    p_arr, eff_arr, peff_arr = [], [], []\n",
    "    \n",
    "    purity_start, eff_start = calc_purity_eff(df_hnl, df_nu, df_cos, true_counts, start_counts)\n",
    "  \n",
    "    for c in cutStep:\n",
    "        df_hnl_cut = cutOpt0Score(df_hnl, Opt0Score = c)\n",
    "        df_nu_cut = cutOpt0Score(df_nu, Opt0Score = c)\n",
    "        df_cos_cut = cutOpt0Score(df_cos, Opt0Score = c)\n",
    "        \n",
    "        purity, eff = calc_purity_eff(df_hnl_cut, df_nu_cut, df_cos_cut, true_counts, start_counts)\n",
    "        \n",
    "        p_arr.append(purity)\n",
    "        eff_arr.append(eff)\n",
    "        peff_arr.append(purity*eff)\n",
    "     \n",
    "    plot_purity_eff(p_arr, eff_arr, peff_arr, cutStep, purity_start, eff_start, loc = 'center left')"
   ]
  },
  {
   "cell_type": "code",
   "execution_count": null,
   "metadata": {},
   "outputs": [],
   "source": [
    "if ifTune:\n",
    "    vary_OpT0Score(df_hnl, df_nu, df_cos)\n",
    "    if ifSave:\n",
    "        plt.savefig(savePath+\"/opt0score_tuning.png\", dpi =200)"
   ]
  },
  {
   "cell_type": "markdown",
   "metadata": {},
   "source": [
    "<h3> Apply Cut </h3>"
   ]
  },
  {
   "cell_type": "code",
   "execution_count": null,
   "metadata": {},
   "outputs": [],
   "source": [
    "score = TuneCut['Opt0Score']\n",
    "\n",
    "df_hnl = cutOpt0Score(df_hnl, Opt0Score = score)\n",
    "df_nu = cutOpt0Score(df_nu, Opt0Score = score)\n",
    "df_cos = cutOpt0Score(df_cos, Opt0Score = score)"
   ]
  },
  {
   "cell_type": "markdown",
   "metadata": {},
   "source": [
    "<h3>Save Purity/Eff</h3>"
   ]
  },
  {
   "cell_type": "code",
   "execution_count": null,
   "metadata": {},
   "outputs": [],
   "source": [
    "purity, eff = calc_purity_eff(df_hnl, df_nu, df_cos, true_counts, start_counts)\n",
    "\n",
    "purity_arr.append(purity)\n",
    "eff_arr.append(eff)\n",
    "cut_arr.append(\"Opt0 Score\")\n",
    "\n",
    "print(purity_arr)\n",
    "print(eff_arr)\n",
    "print(cut_arr)"
   ]
  },
  {
   "cell_type": "code",
   "execution_count": null,
   "metadata": {},
   "outputs": [],
   "source": [
    "plot_slc_var(df_hnl, df_nu, df_cos,\n",
    "                    true_counts, start_counts, \n",
    "                    'slc_opt0_score', \n",
    "                    scaleHNLPlot,\n",
    "                    xmin = 0, xmax = 40000, xnbin = 40,\n",
    "                    xtitle = 'Opt0 Score'\n",
    "                    )\n",
    "#-----------------------------------#\n",
    "if ifSave:\n",
    "    #fig.tight_layout()\n",
    "    plt.savefig(savePath+\"opt0score_postcut.png\", dpi = 200)\n",
    "#-----------------------------------#\n",
    "plt.show()"
   ]
  },
  {
   "cell_type": "markdown",
   "metadata": {},
   "source": [
    "<h1>Opt0 Frac </h1>"
   ]
  },
  {
   "cell_type": "code",
   "execution_count": null,
   "metadata": {},
   "outputs": [],
   "source": [
    "plot_slc_var(df_hnl, df_nu, df_cos,\n",
    "                    true_counts, start_counts, \n",
    "                    'slc_opt0_frac', \n",
    "                    scaleHNLPlot,\n",
    "                    xmin = -1, xmax = 2, xnbin = 40,\n",
    "                    xtitle = 'Opt0 Fraction'\n",
    "                    )\n",
    "#-----------------------------------#\n",
    "if ifSave:\n",
    "    #fig.tight_layout()\n",
    "    plt.savefig(savePath+\"opt0frac_precut.png\", dpi = 200)\n",
    "#-----------------------------------#\n",
    "plt.show()"
   ]
  },
  {
   "cell_type": "code",
   "execution_count": null,
   "metadata": {},
   "outputs": [],
   "source": [
    "def vary_OpT0FracMore(df_hnl, df_nu, df_cos):\n",
    "    \n",
    "    step = 0.02\n",
    "    cutStep = np.arange(-1, 0.5 + step, step)\n",
    "    \n",
    "    p_arr, eff_arr, peff_arr = [], [], []\n",
    "    \n",
    "    purity_start, eff_start = calc_purity_eff(df_hnl, df_nu, df_cos, true_counts, start_counts)\n",
    "    \n",
    "    for c in cutStep:\n",
    "        df_hnl_cut = cutOpt0Frac(df_hnl, Opt0FracMore = c, Opt0FracLess = 999)\n",
    "        df_nu_cut = cutOpt0Frac(df_nu, Opt0FracMore = c, Opt0FracLess = 999)\n",
    "        df_cos_cut = cutOpt0Frac(df_cos, Opt0FracMore = c, Opt0FracLess = 999)\n",
    "        \n",
    "        purity, eff = calc_purity_eff(df_hnl_cut, df_nu_cut, df_cos_cut, true_counts, start_counts)\n",
    "    \n",
    "        p_arr.append(purity)\n",
    "        eff_arr.append(eff)\n",
    "        peff_arr.append(purity*eff)\n",
    "     \n",
    "    plot_purity_eff(p_arr, eff_arr, peff_arr, cutStep, purity_start, eff_start, loc = 'center left')"
   ]
  },
  {
   "cell_type": "code",
   "execution_count": null,
   "metadata": {},
   "outputs": [],
   "source": [
    "def vary_OpT0FracLess(df_hnl, df_nu, df_cos):\n",
    "    \n",
    "    step = 0.02\n",
    "    cutStep = np.arange(0, 2 + step, step)\n",
    "    \n",
    "    p_arr, eff_arr, peff_arr = [], [], []\n",
    "    \n",
    "    purity_start, eff_start = calc_purity_eff(df_hnl, df_nu, df_cos, true_counts, start_counts)\n",
    "    \n",
    "    for c in cutStep:\n",
    "        df_hnl_cut = cutOpt0Frac(df_hnl, Opt0FracMore = -999, Opt0FracLess = c)\n",
    "        df_nu_cut = cutOpt0Frac(df_nu, Opt0FracMore = -999, Opt0FracLess = c)\n",
    "        df_cos_cut = cutOpt0Frac(df_cos, Opt0FracMore = -999, Opt0FracLess = c)\n",
    "        \n",
    "        purity, eff = calc_purity_eff(df_hnl_cut, df_nu_cut, df_cos_cut, true_counts, start_counts)\n",
    "    \n",
    "        p_arr.append(purity)\n",
    "        eff_arr.append(eff)\n",
    "        peff_arr.append(purity*eff)\n",
    "     \n",
    "    plot_purity_eff(p_arr, eff_arr, peff_arr, cutStep, purity_start, eff_start, loc = 'center right')"
   ]
  },
  {
   "cell_type": "code",
   "execution_count": null,
   "metadata": {},
   "outputs": [],
   "source": [
    "if ifTune:\n",
    "    vary_OpT0FracMore(df_hnl, df_nu, df_cos)\n",
    "    if ifSave:\n",
    "        plt.savefig(savePath+\"/opt0frac_more_tuning.png\", dpi =200)"
   ]
  },
  {
   "cell_type": "code",
   "execution_count": null,
   "metadata": {},
   "outputs": [],
   "source": [
    "if ifTune:\n",
    "    vary_OpT0FracLess(df_hnl, df_nu, df_cos)\n",
    "    if ifSave:\n",
    "        plt.savefig(savePath+\"/opt0frac_less_tuning.png\", dpi =200)"
   ]
  },
  {
   "cell_type": "markdown",
   "metadata": {},
   "source": [
    "<h3> Apply Cut </h3>"
   ]
  },
  {
   "cell_type": "code",
   "execution_count": null,
   "metadata": {},
   "outputs": [],
   "source": [
    "fracMore = TuneCut['Opt0FracMore']\n",
    "fracLess = TuneCut['Opt0FracLess']\n",
    "\n",
    "df_hnl = cutOpt0Frac(df_hnl, Opt0FracMore = fracMore, Opt0FracLess = fracLess)\n",
    "df_nu = cutOpt0Frac(df_nu, Opt0FracMore = fracMore, Opt0FracLess = fracLess)\n",
    "df_cos = cutOpt0Frac(df_cos, Opt0FracMore = fracMore, Opt0FracLess = fracLess)"
   ]
  },
  {
   "cell_type": "markdown",
   "metadata": {},
   "source": [
    "<h3>Save Purity/Eff</h3>"
   ]
  },
  {
   "cell_type": "code",
   "execution_count": null,
   "metadata": {},
   "outputs": [],
   "source": [
    "purity, eff = calc_purity_eff(df_hnl, df_nu, df_cos, true_counts, start_counts)\n",
    "\n",
    "purity_arr.append(purity)\n",
    "eff_arr.append(eff)\n",
    "cut_arr.append(\"Opt0 Fraction\")\n",
    "\n",
    "print(purity_arr)\n",
    "print(eff_arr)\n",
    "print(cut_arr)"
   ]
  },
  {
   "cell_type": "code",
   "execution_count": null,
   "metadata": {},
   "outputs": [],
   "source": [
    "plot_slc_var(df_hnl, df_nu, df_cos,\n",
    "                    true_counts, start_counts, \n",
    "                    'slc_opt0_frac', \n",
    "                    scaleHNLPlot,\n",
    "                    xmin = -1, xmax = 2, xnbin = 40,\n",
    "                    xtitle = 'Opt0 Fraction'\n",
    "                    )\n",
    "#-----------------------------------#\n",
    "if ifSave:\n",
    "    #fig.tight_layout()\n",
    "    plt.savefig(savePath+\"opt0frac_postcut.png\", dpi = 200)\n",
    "#-----------------------------------#\n",
    "plt.show()"
   ]
  },
  {
   "cell_type": "markdown",
   "metadata": {},
   "source": [
    "<h1> Make Beam Bucket - Pre PID</h1>"
   ]
  },
  {
   "cell_type": "code",
   "execution_count": null,
   "metadata": {},
   "outputs": [],
   "source": [
    "hist, bins = plot_slc_var(df_hnl, df_nu, df_cos,\n",
    "                    true_counts, start_counts, \n",
    "                    'mod_t', \n",
    "                    scaleHNLPlot,\n",
    "                    xmin = 0, xmax = 19, xnbin = 19,\n",
    "                    xtitle = 'Opt0 Time Corrected Z % ' + str(width) + \" [ns]\"\n",
    "                    )\n",
    "#-----------------------------------#\n",
    "if ifSave:\n",
    "    #fig.tight_layout()\n",
    "    plt.savefig(savePath+\"beam_bucket_postcosmics_prepid.png\", dpi = 200)\n",
    "#-----------------------------------#\n",
    "plt.show()"
   ]
  },
  {
   "cell_type": "markdown",
   "metadata": {},
   "source": [
    "<h1>Muon Rejection</h1>"
   ]
  },
  {
   "cell_type": "code",
   "execution_count": null,
   "metadata": {},
   "outputs": [],
   "source": [
    "plot_slc_var(df_hnl, df_nu, df_cos,\n",
    "                    true_counts, start_counts, \n",
    "                    'slc_n_razzled_muons', \n",
    "                    scaleHNLPlot,\n",
    "                    xmin = 0, xmax = 5, xnbin = 5,\n",
    "                    xtitle = 'n Razzled Muons'\n",
    "                    )\n",
    "#-----------------------------------#\n",
    "if ifSave:\n",
    "    #fig.tight_layout()\n",
    "    plt.savefig(savePath+\"nrazzled_muon_precut.png\", dpi = 200)\n",
    "#-----------------------------------#\n",
    "plt.show()\n",
    "#----------------------------------------------\n",
    "plot_slc_var(df_hnl, df_nu, df_cos,\n",
    "                    true_counts, start_counts, \n",
    "                    'slc_pfp_razzled_muon_score', \n",
    "                    scaleHNLPlot,\n",
    "                    xmin = 0, xmax = 1, xnbin = 40,\n",
    "                    xtitle = 'PFP Razzled Muon Score'\n",
    "                    )\n",
    "#-----------------------------------#\n",
    "if ifSave:\n",
    "    #fig.tight_layout()\n",
    "    plt.savefig(savePath+\"razzled_muon_score_precut.png\", dpi = 200)\n",
    "#-----------------------------------#\n",
    "plt.show()"
   ]
  },
  {
   "cell_type": "code",
   "execution_count": null,
   "metadata": {},
   "outputs": [],
   "source": [
    "def vary_MuonScore(df_hnl, df_nu, df_cos):\n",
    "    \n",
    "    step = 0.02\n",
    "    cutStep = np.arange(0, 1 + step, step)\n",
    "    \n",
    "    p_arr, eff_arr, peff_arr = [], [], []\n",
    "    \n",
    "    purity_start, eff_start = calc_purity_eff(df_hnl, df_nu, df_cos, true_counts, start_counts)\n",
    "    \n",
    "    for c in cutStep:\n",
    "        df_hnl_cut = cutMuon(df_hnl, muonScore = c)\n",
    "        df_nu_cut = cutMuon(df_nu, muonScore = c)\n",
    "        df_cos_cut = cutMuon(df_cos, muonScore = c)\n",
    "        \n",
    "        purity, eff = calc_purity_eff(df_hnl_cut, df_nu_cut, df_cos_cut, true_counts, start_counts)\n",
    "        \n",
    "        p_arr.append(purity)\n",
    "        eff_arr.append(eff)\n",
    "        peff_arr.append(purity*eff)\n",
    "     \n",
    "    plot_purity_eff(p_arr, eff_arr, peff_arr, cutStep, purity_start, eff_start , loc = 'center right')\n"
   ]
  },
  {
   "cell_type": "code",
   "execution_count": null,
   "metadata": {},
   "outputs": [],
   "source": [
    "if ifTune:\n",
    "    vary_MuonScore(df_hnl, df_nu, df_cos)\n",
    "    if ifSave:\n",
    "        plt.savefig(savePath+\"/muon_tuning.png\", dpi =200)"
   ]
  },
  {
   "cell_type": "markdown",
   "metadata": {},
   "source": [
    "<h3> Apply Cut</h3>"
   ]
  },
  {
   "cell_type": "code",
   "execution_count": null,
   "metadata": {},
   "outputs": [],
   "source": [
    "muonScore = TuneCut['Muon']\n",
    "\n",
    "df_hnl = cutMuon(df_hnl, muonScore =muonScore)\n",
    "df_nu = cutMuon(df_nu, muonScore =muonScore)\n",
    "df_cos = cutMuon(df_cos,muonScore =muonScore)"
   ]
  },
  {
   "cell_type": "markdown",
   "metadata": {},
   "source": [
    "<h3>Save Purity/Eff</h3>"
   ]
  },
  {
   "cell_type": "code",
   "execution_count": null,
   "metadata": {},
   "outputs": [],
   "source": [
    "purity, eff = calc_purity_eff(df_hnl, df_nu, df_cos, true_counts, start_counts)\n",
    "\n",
    "purity_arr.append(purity)\n",
    "eff_arr.append(eff)\n",
    "cut_arr.append(\"Muon Cut\")\n",
    "\n",
    "print(purity_arr)\n",
    "print(eff_arr)\n",
    "print(cut_arr)"
   ]
  },
  {
   "cell_type": "code",
   "execution_count": null,
   "metadata": {},
   "outputs": [],
   "source": [
    "plot_slc_var(df_hnl, df_nu, df_cos,\n",
    "                    true_counts, start_counts, \n",
    "                    'slc_n_razzled_muons', \n",
    "                    scaleHNLPlot,\n",
    "                    xmin = 0, xmax = 5, xnbin = 5,\n",
    "                    xtitle = 'n Razzled Muons'\n",
    "                    )\n",
    "#-----------------------------------#\n",
    "if ifSave:\n",
    "    #fig.tight_layout()\n",
    "    plt.savefig(savePath+\"nrazzled_muon_postcut.png\", dpi = 200)\n",
    "#-----------------------------------#\n",
    "plt.show()\n",
    "#----------------------------------------------\n",
    "plot_slc_var(df_hnl, df_nu, df_cos,\n",
    "                    true_counts, start_counts, \n",
    "                    'slc_pfp_razzled_muon_score', \n",
    "                    scaleHNLPlot,\n",
    "                    xmin = 0, xmax = 1, xnbin = 40,\n",
    "                    xtitle = 'PFP Razzled Muon Score'\n",
    "                    )\n",
    "#-----------------------------------#\n",
    "if ifSave:\n",
    "    #fig.tight_layout()\n",
    "    plt.savefig(savePath+\"razzled_muon_score_postcut.png\", dpi = 200)\n",
    "#-----------------------------------#\n",
    "plt.show()"
   ]
  },
  {
   "cell_type": "markdown",
   "metadata": {},
   "source": [
    "<h1>Proton Rejection</h1>"
   ]
  },
  {
   "cell_type": "code",
   "execution_count": null,
   "metadata": {},
   "outputs": [],
   "source": [
    "plot_slc_var(df_hnl, df_nu, df_cos,\n",
    "                    true_counts, start_counts, \n",
    "                    'slc_n_razzled_protons_thresh', \n",
    "                    scaleHNLPlot,\n",
    "                    xmin = 0, xmax = 5, xnbin = 5,\n",
    "                    xtitle = 'n Razzled Protons'\n",
    "                    )\n",
    "#-----------------------------------#\n",
    "if ifSave:\n",
    "    #fig.tight_layout()\n",
    "    plt.savefig(savePath+\"nrazzled_proton_precut.png\", dpi = 200)\n",
    "#-----------------------------------#\n",
    "plt.show()\n",
    "#----------------------------------------------\n",
    "plot_slc_var(df_hnl, df_nu, df_cos,\n",
    "                    true_counts, start_counts, \n",
    "                    'slc_pfp_razzled_proton_score', \n",
    "                    scaleHNLPlot,\n",
    "                    xmin = 0, xmax = 1, xnbin = 40,\n",
    "                    xtitle = 'PFP Razzled Proton Score'\n",
    "                    )\n",
    "#-----------------------------------#\n",
    "if ifSave:\n",
    "    #fig.tight_layout()\n",
    "    plt.savefig(savePath+\"razzled_proton_score_precut.png\", dpi = 200)\n",
    "#-----------------------------------#\n",
    "plt.show()"
   ]
  },
  {
   "cell_type": "code",
   "execution_count": null,
   "metadata": {},
   "outputs": [],
   "source": [
    "def vary_ProtonScore(df_hnl, df_nu, df_cos):\n",
    "    \n",
    "    step = 0.02\n",
    "    cutStep = np.arange(0, 1 + step, step)\n",
    "    \n",
    "    p_arr, eff_arr, peff_arr = [], [], []\n",
    "    \n",
    "    purity_start, eff_start  = calc_purity_eff(df_hnl, df_nu, df_cos, true_counts, start_counts)\n",
    "    \n",
    "    for c in cutStep:\n",
    "        df_hnl_cut = cutProton(df_hnl, nProton = 0, protonScore = c)\n",
    "        df_nu_cut = cutProton(df_nu, nProton = 0, protonScore = c)\n",
    "        df_cos_cut = cutProton(df_cos, nProton = 0, protonScore = c)\n",
    "        \n",
    "        purity, eff = calc_purity_eff(df_hnl_cut, df_nu_cut, df_cos_cut, true_counts, start_counts)\n",
    "        \n",
    "        p_arr.append(purity)\n",
    "        eff_arr.append(eff)\n",
    "        peff_arr.append(purity*eff)\n",
    "     \n",
    "    plot_purity_eff(p_arr, eff_arr, peff_arr, cutStep, purity_start, eff_start, loc = 'center right')\n",
    "    #plt.xlim(0, 0.1)"
   ]
  },
  {
   "cell_type": "code",
   "execution_count": null,
   "metadata": {},
   "outputs": [],
   "source": [
    "if ifTune:\n",
    "    vary_ProtonScore(df_hnl, df_nu, df_cos)\n",
    "    if ifSave:\n",
    "        plt.savefig(savePath+\"/proton_tuning.png\", dpi =200)"
   ]
  },
  {
   "cell_type": "markdown",
   "metadata": {},
   "source": [
    "<h3>Apply Cut</h3>"
   ]
  },
  {
   "cell_type": "code",
   "execution_count": null,
   "metadata": {},
   "outputs": [],
   "source": [
    "protonScore = TuneCut['Proton']\n",
    "\n",
    "df_hnl = cutProton(df_hnl, nProton = 0, protonScore = protonScore)\n",
    "df_nu = cutProton(df_nu, nProton = 0, protonScore = protonScore)\n",
    "df_cos = cutProton(df_cos, nProton = 0, protonScore = protonScore)"
   ]
  },
  {
   "cell_type": "markdown",
   "metadata": {},
   "source": [
    "<h3>Save Purity/Eff</h3>"
   ]
  },
  {
   "cell_type": "code",
   "execution_count": null,
   "metadata": {},
   "outputs": [],
   "source": [
    "purity, eff = calc_purity_eff(df_hnl, df_nu, df_cos, true_counts, start_counts)\n",
    "\n",
    "purity_arr.append(purity)\n",
    "eff_arr.append(eff)\n",
    "cut_arr.append(\"Proton Cut\")\n",
    "\n",
    "print(purity_arr)\n",
    "print(eff_arr)\n",
    "print(cut_arr)"
   ]
  },
  {
   "cell_type": "code",
   "execution_count": null,
   "metadata": {},
   "outputs": [],
   "source": [
    "plot_slc_var(df_hnl, df_nu, df_cos,\n",
    "                    true_counts, start_counts, \n",
    "                    'slc_n_razzled_protons_thresh', \n",
    "                    scaleHNLPlot,\n",
    "                    xmin = 0, xmax = 5, xnbin = 5,\n",
    "                    xtitle = 'n Razzled Protons'\n",
    "                    )\n",
    "#-----------------------------------#\n",
    "if ifSave:\n",
    "    #fig.tight_layout()\n",
    "    plt.savefig(savePath+\"nrazzled_proton_postcut.png\", dpi = 200)\n",
    "#-----------------------------------#\n",
    "plt.show()\n",
    "#----------------------------------------------\n",
    "plot_slc_var(df_hnl, df_nu, df_cos,\n",
    "                    true_counts, start_counts, \n",
    "                    'slc_pfp_razzled_proton_score', \n",
    "                    scaleHNLPlot,\n",
    "                    xmin = 0, xmax = 1, xnbin = 40,\n",
    "                    xtitle = 'PFP Razzled Proton Score'\n",
    "                    )\n",
    "#-----------------------------------#\n",
    "if ifSave:\n",
    "    #fig.tight_layout()\n",
    "    plt.savefig(savePath+\"razzled_proton_score_postcut.png\", dpi = 200)\n",
    "#-----------------------------------#\n",
    "plt.show()"
   ]
  },
  {
   "cell_type": "markdown",
   "metadata": {},
   "source": [
    "<h1>Pion Rejection</h1>"
   ]
  },
  {
   "cell_type": "code",
   "execution_count": null,
   "metadata": {},
   "outputs": [],
   "source": [
    "plot_slc_var(df_hnl, df_nu, df_cos,\n",
    "                    true_counts, start_counts, \n",
    "                    'slc_n_razzled_pions_thresh', \n",
    "                    scaleHNLPlot,\n",
    "                    xmin = 0, xmax = 5, xnbin = 5,\n",
    "                    xtitle = 'n Razzled Pions'\n",
    "                    )\n",
    "#-----------------------------------#\n",
    "if ifSave:\n",
    "    #fig.tight_layout()\n",
    "    plt.savefig(savePath+\"nrazzled_pion_precut.png\", dpi = 200)\n",
    "#-----------------------------------#\n",
    "plt.show()\n",
    "#----------------------------------------------\n",
    "plot_slc_var(df_hnl, df_nu, df_cos,\n",
    "                    true_counts, start_counts, \n",
    "                    'slc_pfp_razzled_pion_score', \n",
    "                    scaleHNLPlot,\n",
    "                    xmin = 0, xmax = 1, xnbin = 40,\n",
    "                    xtitle = 'PFP Razzled Pion Score'\n",
    "                    )\n",
    "#-----------------------------------#\n",
    "if ifSave:\n",
    "    #fig.tight_layout()\n",
    "    plt.savefig(savePath+\"razzled_pion_score_precut.png\", dpi = 200)\n",
    "#-----------------------------------#\n",
    "plt.show()"
   ]
  },
  {
   "cell_type": "code",
   "execution_count": null,
   "metadata": {},
   "outputs": [],
   "source": [
    "def vary_PionScore(df_hnl, df_nu, df_cos):\n",
    "    \n",
    "    step = 0.02\n",
    "    cutStep = np.arange(0, 1 + step, step)\n",
    "    \n",
    "    p_arr, eff_arr, peff_arr = [], [], []\n",
    "    \n",
    "    purity_start, eff_start  = calc_purity_eff(df_hnl, df_nu, df_cos, true_counts, start_counts)\n",
    "    \n",
    "    for c in cutStep:\n",
    "        df_hnl_cut = cutPion(df_hnl, nPion = 0, pionScore = c)\n",
    "        df_nu_cut = cutPion(df_nu, nPion = 0, pionScore = c)\n",
    "        df_cos_cut = cutPion(df_cos, nPion = 0, pionScore = c)\n",
    "        \n",
    "        purity, eff = calc_purity_eff(df_hnl_cut, df_nu_cut, df_cos_cut, true_counts, start_counts)\n",
    "        \n",
    "        p_arr.append(purity)\n",
    "        eff_arr.append(eff)\n",
    "        peff_arr.append(purity*eff)\n",
    "     \n",
    "    plot_purity_eff(p_arr, eff_arr, peff_arr, cutStep, purity_start, eff_start, loc = 'center right')\n"
   ]
  },
  {
   "cell_type": "code",
   "execution_count": null,
   "metadata": {},
   "outputs": [],
   "source": [
    "if ifTune:\n",
    "    vary_PionScore(df_hnl, df_nu, df_cos)\n",
    "    if ifSave:\n",
    "        plt.savefig(savePath+\"/pion_tuning.png\", dpi =200)"
   ]
  },
  {
   "cell_type": "markdown",
   "metadata": {},
   "source": [
    "<h3>Apply Cut </h3>"
   ]
  },
  {
   "cell_type": "code",
   "execution_count": null,
   "metadata": {},
   "outputs": [],
   "source": [
    "pionScore = TuneCut['Pion']\n",
    "\n",
    "df_hnl = cutPion(df_hnl, nPion = 0, pionScore = pionScore)\n",
    "df_nu = cutPion(df_nu, nPion = 0, pionScore = pionScore)\n",
    "df_cos = cutPion(df_cos, nPion = 0, pionScore = pionScore)"
   ]
  },
  {
   "cell_type": "markdown",
   "metadata": {},
   "source": [
    "<h3>Save Purity/Eff</h3>"
   ]
  },
  {
   "cell_type": "code",
   "execution_count": null,
   "metadata": {},
   "outputs": [],
   "source": [
    "purity, eff = calc_purity_eff(df_hnl, df_nu, df_cos, true_counts, start_counts)\n",
    "\n",
    "purity_arr.append(purity)\n",
    "eff_arr.append(eff)\n",
    "cut_arr.append(\"Pion Cut\")\n",
    "\n",
    "print(purity_arr)\n",
    "print(eff_arr)\n",
    "print(cut_arr)"
   ]
  },
  {
   "cell_type": "code",
   "execution_count": null,
   "metadata": {},
   "outputs": [],
   "source": [
    "plot_slc_var(df_hnl, df_nu, df_cos,\n",
    "                    true_counts, start_counts, \n",
    "                    'slc_n_razzled_pions_thresh', \n",
    "                    scaleHNLPlot,\n",
    "                    xmin = 0, xmax = 5, xnbin = 5,\n",
    "                    xtitle = 'n Razzled Pions'\n",
    "                    )\n",
    "#-----------------------------------#\n",
    "if ifSave:\n",
    "    #fig.tight_layout()\n",
    "    plt.savefig(savePath+\"nrazzled_pion_postcut.png\", dpi = 200)\n",
    "#-----------------------------------#\n",
    "plt.show()\n",
    "#----------------------------------------------\n",
    "plot_slc_var(df_hnl, df_nu, df_cos,\n",
    "                    true_counts, start_counts, \n",
    "                    'slc_pfp_razzled_pion_score', \n",
    "                    scaleHNLPlot,\n",
    "                    xmin = 0, xmax = 1, xnbin = 40,\n",
    "                    xtitle = 'PFP Razzled Pion Score'\n",
    "                    )\n",
    "#-----------------------------------#\n",
    "if ifSave:\n",
    "    #fig.tight_layout()\n",
    "    plt.savefig(savePath+\"razzled_pion_score_postcut.png\", dpi = 200)\n",
    "#-----------------------------------#\n",
    "plt.show()"
   ]
  },
  {
   "cell_type": "markdown",
   "metadata": {},
   "source": [
    "<h1>Electron Rejection (?)</h1>"
   ]
  },
  {
   "cell_type": "code",
   "execution_count": null,
   "metadata": {},
   "outputs": [],
   "source": [
    "plot_slc_var(df_hnl, df_nu, df_cos,\n",
    "                    true_counts, start_counts, \n",
    "                    'slc_n_razzled_electrons', \n",
    "                    scaleHNLPlot,\n",
    "                    xmin = 0, xmax = 5, xnbin = 5,\n",
    "                    xtitle = 'n Razzled Electrons'\n",
    "                    )\n",
    "#-----------------------------------#\n",
    "if ifSave:\n",
    "    #fig.tight_layout()\n",
    "    plt.savefig(savePath+\"nrazzled_electron_precut.png\", dpi = 200)\n",
    "#-----------------------------------#\n",
    "plt.show()\n",
    "#----------------------------------------------\n",
    "plot_slc_var(df_hnl, df_nu, df_cos,\n",
    "                    true_counts, start_counts, \n",
    "                    'slc_pfp_razzled_electron_score', \n",
    "                    scaleHNLPlot,\n",
    "                    xmin = 0, xmax = 1, xnbin = 40,\n",
    "                    xtitle = 'PFP Razzled Electron Score'\n",
    "                    )\n",
    "#-----------------------------------#\n",
    "if ifSave:\n",
    "    #fig.tight_layout()\n",
    "    plt.savefig(savePath+\"razzled_electron_score_precut.png\", dpi = 200)\n",
    "#-----------------------------------#\n",
    "plt.show()"
   ]
  },
  {
   "cell_type": "code",
   "execution_count": null,
   "metadata": {},
   "outputs": [],
   "source": [
    "def vary_ElectronScoreLess(df_hnl, df_nu, df_cos):\n",
    "    \n",
    "    step = 0.02\n",
    "    cutStep = np.arange(0, 1 + step, step)\n",
    "    \n",
    "    p_arr, eff_arr, peff_arr = [], [], []\n",
    "    \n",
    "    purity_start, eff_start  = calc_purity_eff(df_hnl, df_nu, df_cos, true_counts, start_counts)\n",
    "    \n",
    "    for c in cutStep:\n",
    "        df_hnl_cut = cutElectronLess(df_hnl, nElectron = 2, electronScore = c)\n",
    "        df_nu_cut = cutElectronLess(df_nu, nElectron = 2, electronScore = c)\n",
    "        df_cos_cut = cutElectronLess(df_cos, nElectron = 2, electronScore = c)\n",
    "        \n",
    "        purity, eff = calc_purity_eff(df_hnl_cut, df_nu_cut, df_cos_cut, true_counts, start_counts)\n",
    "    \n",
    "        p_arr.append(purity)\n",
    "        eff_arr.append(eff)\n",
    "        peff_arr.append(purity*eff)\n",
    "     \n",
    "    plot_purity_eff(p_arr, eff_arr, peff_arr, cutStep, purity_start, eff_start)"
   ]
  },
  {
   "cell_type": "code",
   "execution_count": null,
   "metadata": {},
   "outputs": [],
   "source": [
    "if ifTune:\n",
    "    vary_ElectronScoreLess(df_hnl, df_nu, df_cos)\n",
    "    if ifSave:\n",
    "        plt.savefig(savePath+\"/electron_less_tuning.png\", dpi =200)"
   ]
  },
  {
   "cell_type": "code",
   "execution_count": null,
   "metadata": {},
   "outputs": [],
   "source": [
    "def vary_ElectronScoreMore(df_hnl, df_nu, df_cos):\n",
    "    \n",
    "    step = 0.02\n",
    "    cutStep = np.arange(0.02, 1 + step, step)\n",
    "    p_arr, eff_arr, peff_arr = [], [], []\n",
    "    \n",
    "    purity_start, eff_start  = calc_purity_eff(df_hnl, df_nu, df_cos, true_counts, start_counts)\n",
    "    \n",
    "    for c in cutStep:\n",
    "        df_hnl_cut = cutElectronMore(df_hnl, nElectron = 2, electronScore = c)\n",
    "        df_nu_cut = cutElectronMore(df_nu, nElectron = 2, electronScore = c)\n",
    "        df_cos_cut = cutElectronMore(df_cos, nElectron = 2, electronScore = c)\n",
    "        \n",
    "        purity, eff = calc_purity_eff(df_hnl_cut, df_nu_cut, df_cos_cut, true_counts, start_counts)\n",
    "    \n",
    "        purity = purity/100\n",
    "        eff = eff/100\n",
    "        \n",
    "        p_arr.append(purity)\n",
    "        eff_arr.append(eff)\n",
    "        peff_arr.append(purity*eff)\n",
    "     \n",
    "    plot_purity_eff(p_arr, eff_arr, peff_arr, cutStep, purity_start, eff_start)"
   ]
  },
  {
   "cell_type": "code",
   "execution_count": null,
   "metadata": {},
   "outputs": [],
   "source": [
    "if ifTune:\n",
    "    vary_ElectronScoreMore(df_hnl, df_nu, df_cos)\n",
    "    if ifSave:\n",
    "        plt.savefig(savePath+\"/electron_more_tuning.png\", dpi =200)"
   ]
  },
  {
   "cell_type": "markdown",
   "metadata": {},
   "source": [
    "<h3>Apply Cut</h3>"
   ]
  },
  {
   "cell_type": "raw",
   "metadata": {},
   "source": [
    "electronScore = 0.98\n",
    "\n",
    "df_hnl = cutElectronLess(df_hnl, nElectron = 2, electronScore = electronScore)\n",
    "df_nu = cutElectronLess(df_nu, nElectron = 2, electronScore = electronScore)\n",
    "df_cos = cutElectronLess(df_cos, nElectron = 2, electronScore = electronScore)\n",
    "#=========================================\n",
    "electronScore = 0.02\n",
    "\n",
    "df_hnl = cutElectronMore(df_hnl, nElectron = 2, electronScore = electronScore)\n",
    "df_nu = cutElectronMore(df_nu, nElectron = 2, electronScore = electronScore)\n",
    "df_cos = cutElectronMore(df_cos, nElectron = 2, electronScore = electronScore)"
   ]
  },
  {
   "cell_type": "markdown",
   "metadata": {},
   "source": [
    "<h3>Save Purity/Eff</h3>"
   ]
  },
  {
   "cell_type": "raw",
   "metadata": {},
   "source": [
    "purity, eff = calc_purity_eff(df_hnl, df_nu, df_cos, true_counts, start_counts)\n",
    "\n",
    "purity_arr.append(purity)\n",
    "eff_arr.append(eff)\n",
    "cut_arr.append(\"Electron Cut\")\n",
    "\n",
    "print(purity_arr)\n",
    "print(eff_arr)\n",
    "print(cut_arr)"
   ]
  },
  {
   "cell_type": "raw",
   "metadata": {},
   "source": [
    "plot_slc_var(df_hnl, df_nu, df_cos,\n",
    "                    true_counts, start_counts, \n",
    "                    'slc_n_razzled_electrons', \n",
    "                    scaleHNLPlot,\n",
    "                    xmin = 0, xmax = 5, xnbin = 5,\n",
    "                    xtitle = 'n Razzled Electrons'\n",
    "                    )\n",
    "#-----------------------------------#\n",
    "if ifSave:\n",
    "    #fig.tight_layout()\n",
    "    plt.savefig(savePath+\"nrazzled_electron_postcut.png\", dpi = 200)\n",
    "#-----------------------------------#\n",
    "plt.show()\n",
    "#----------------------------------------------\n",
    "plot_slc_var(df_hnl, df_nu, df_cos,\n",
    "                    true_counts, start_counts, \n",
    "                    'slc_pfp_razzled_electron_score', \n",
    "                    scaleHNLPlot,\n",
    "                    xmin = 0, xmax = 1, xnbin = 40,\n",
    "                    xtitle = 'PFP Razzled Electron Score'\n",
    "                    )\n",
    "#-----------------------------------#\n",
    "if ifSave:\n",
    "    #fig.tight_layout()\n",
    "    plt.savefig(savePath+\"razzled_electron_score_postcut.png\", dpi = 200)\n",
    "#-----------------------------------#\n",
    "plt.show()"
   ]
  },
  {
   "cell_type": "markdown",
   "metadata": {},
   "source": [
    "<h1>Photon Selection</h1>"
   ]
  },
  {
   "cell_type": "code",
   "execution_count": null,
   "metadata": {},
   "outputs": [],
   "source": [
    "plot_slc_var(df_hnl, df_nu, df_cos,\n",
    "                    true_counts, start_counts, \n",
    "                    'slc_n_razzled_photons', \n",
    "                    scaleHNLPlot,\n",
    "                    xmin = 0, xmax = 10, xnbin = 10,\n",
    "                    xtitle = 'n Razzled Photons'\n",
    "                    )\n",
    "#-----------------------------------#\n",
    "if ifSave:\n",
    "    #fig.tight_layout()\n",
    "    plt.savefig(savePath+\"nrazzled_photon_precut.png\", dpi = 200)\n",
    "#-----------------------------------#\n",
    "plt.show()\n",
    "#----------------------------------------------\n",
    "plot_slc_var(df_hnl, df_nu, df_cos,\n",
    "                    true_counts, start_counts, \n",
    "                    'slc_pfp_razzled_photon_score', \n",
    "                    scaleHNLPlot,\n",
    "                    xmin = 0, xmax = 1, xnbin = 40,\n",
    "                    xtitle = 'PFP Razzled Photon Score'\n",
    "                    )\n",
    "#-----------------------------------#\n",
    "if ifSave:\n",
    "    #fig.tight_layout()\n",
    "    plt.savefig(savePath+\"razzled_photon_score_precut.png\", dpi = 200)\n",
    "#-----------------------------------#\n",
    "plt.show()"
   ]
  },
  {
   "cell_type": "code",
   "execution_count": null,
   "metadata": {},
   "outputs": [],
   "source": [
    "def vary_PhotonScoreLess(df_hnl, df_nu, df_cos):\n",
    "    \n",
    "    step = 0.02\n",
    "    cutStep = np.arange(0, 1 + step, step)\n",
    "    \n",
    "    p_arr, eff_arr, peff_arr = [], [], []\n",
    "    \n",
    "    purity_start, eff_start  = calc_purity_eff(df_hnl, df_nu, df_cos, true_counts, start_counts)\n",
    "    \n",
    "    for c in cutStep:\n",
    "        df_hnl_cut = cutPhotonLess(df_hnl, nPhoton = 3, photonScore = c)\n",
    "        df_nu_cut = cutPhotonLess(df_nu, nPhoton = 3, photonScore = c)\n",
    "        df_cos_cut = cutPhotonLess(df_cos, nPhoton = 3, photonScore = c)\n",
    "        \n",
    "        purity, eff = calc_purity_eff(df_hnl_cut, df_nu_cut, df_cos_cut, true_counts, start_counts)\n",
    "        \n",
    "        p_arr.append(purity)\n",
    "        eff_arr.append(eff)\n",
    "        peff_arr.append(purity*eff)\n",
    "     \n",
    "    plot_purity_eff(p_arr, eff_arr, peff_arr, cutStep, purity_start, eff_start, loc = 'center right')"
   ]
  },
  {
   "cell_type": "code",
   "execution_count": null,
   "metadata": {},
   "outputs": [],
   "source": [
    "if ifTune:\n",
    "    vary_PhotonScoreLess(df_hnl, df_nu, df_cos)\n",
    "    if ifSave:\n",
    "        plt.savefig(savePath+\"/photon_less_tuning.png\", dpi =200)"
   ]
  },
  {
   "cell_type": "code",
   "execution_count": null,
   "metadata": {},
   "outputs": [],
   "source": [
    "def vary_PhotonScoreMore(df_hnl, df_nu, df_cos):\n",
    "    \n",
    "    step = 0.02\n",
    "    cutStep = np.arange(0, 1 + step, step)\n",
    "    \n",
    "    p_arr, eff_arr, peff_arr = [], [], []\n",
    "    \n",
    "    purity_start, eff_start  = calc_purity_eff(df_hnl, df_nu, df_cos, true_counts, start_counts)\n",
    "    \n",
    "    for c in cutStep:\n",
    "        df_hnl_cut = cutPhotonMore(df_hnl, nPhoton = 3, photonScore = c)\n",
    "        df_nu_cut = cutPhotonMore(df_nu, nPhoton = 3, photonScore = c)\n",
    "        df_cos_cut = cutPhotonMore(df_cos, nPhoton = 3, photonScore = c)\n",
    "        \n",
    "        purity, eff = calc_purity_eff(df_hnl_cut, df_nu_cut, df_cos_cut, true_counts, start_counts)\n",
    "        \n",
    "        p_arr.append(purity)\n",
    "        eff_arr.append(eff)\n",
    "        peff_arr.append(purity*eff)\n",
    "     \n",
    "    plot_purity_eff(p_arr, eff_arr, peff_arr, cutStep,purity_start, eff_start, loc = 'center right')"
   ]
  },
  {
   "cell_type": "code",
   "execution_count": null,
   "metadata": {},
   "outputs": [],
   "source": [
    "if ifTune:\n",
    "    vary_PhotonScoreMore(df_hnl, df_nu, df_cos)\n",
    "    if ifSave:\n",
    "        plt.savefig(savePath+\"/photon_more_tuning.png\", dpi =200)"
   ]
  },
  {
   "cell_type": "markdown",
   "metadata": {},
   "source": [
    "<h3>Apply Cut</h3>"
   ]
  },
  {
   "cell_type": "raw",
   "metadata": {},
   "source": [
    "df_hnl = cutPhotonMore(df_hnl, nPhoton = 3, photonScore = 0.26)\n",
    "df_nu = cutPhotonMore(df_nu, nPhoton = 3, photonScore = 0.26)\n",
    "df_cos = cutPhotonMore(df_cos, nPhoton = 3, photonScore = 0.26)"
   ]
  },
  {
   "cell_type": "markdown",
   "metadata": {},
   "source": [
    "<h3>Save Purity/Eff</h3>"
   ]
  },
  {
   "cell_type": "raw",
   "metadata": {},
   "source": [
    "purity, eff = calc_purity_eff(df_hnl, df_nu, df_cos, true_counts, start_counts)\n",
    "\n",
    "purity_arr.append(purity)\n",
    "eff_arr.append(eff)\n",
    "cut_arr.append(\"Photon Requirement\")\n",
    "\n",
    "print(purity_arr)\n",
    "print(eff_arr)\n",
    "print(cut_arr)"
   ]
  },
  {
   "cell_type": "raw",
   "metadata": {},
   "source": [
    "plot_slc_var(df_hnl, df_nu, df_cos,\n",
    "                    true_counts, start_counts, \n",
    "                    'slc_n_razzled_photons', \n",
    "                    scaleHNLPlot,\n",
    "                    xmin = 0, xmax = 10, xnbin = 10,\n",
    "                    xtitle = 'n Razzled Photons'\n",
    "                    )\n",
    "#-----------------------------------#\n",
    "if ifSave:\n",
    "    #fig.tight_layout()\n",
    "    plt.savefig(savePath+\"nrazzled_photon_precut.png\", dpi = 200)\n",
    "#-----------------------------------#\n",
    "plt.show()\n",
    "#----------------------------------------------\n",
    "plot_slc_var(df_hnl, df_nu, df_cos,\n",
    "                    true_counts, start_counts, \n",
    "                    'slc_pfp_razzled_photon_score', \n",
    "                    scaleHNLPlot,\n",
    "                    xmin = 0, xmax = 1, xnbin = 40,\n",
    "                    xtitle = 'PFP Razzled Photon Score'\n",
    "                    )\n",
    "#-----------------------------------#\n",
    "if ifSave:\n",
    "    #fig.tight_layout()\n",
    "    plt.savefig(savePath+\"razzled_photon_score_precut.png\", dpi = 200)\n",
    "#-----------------------------------#\n",
    "plt.show()"
   ]
  },
  {
   "cell_type": "markdown",
   "metadata": {},
   "source": [
    "<h1>Shower Theta</h1>"
   ]
  },
  {
   "cell_type": "code",
   "execution_count": null,
   "metadata": {},
   "outputs": [],
   "source": [
    "fig, (ax1, ax2, ax3) = plt.subplots(1, 3, figsize=(12, 4), sharey= True, sharex = True)\n",
    "\n",
    "xmin, xmax = -180, 180\n",
    "xnbin = 90\n",
    "\n",
    "ymin, ymax = 0, 180\n",
    "ynbin = 90\n",
    "\n",
    "xlimmin, xlimmax = xmin, xmax\n",
    "ylimmin, ylimmax = ymin, ymax\n",
    "#----------------------------------------------\n",
    "plot_2dhist( df_nu['slc_pfp_shower_phi'], df_nu['slc_pfp_shower_theta'], \n",
    "            ax1, fig, \n",
    "            xmin, xmax, ymin, ymax, xnbin, ynbin,\n",
    "            xlimmin, xlimmax, ylimmin, ylimmax,\n",
    "            weights = df_nu['scale_pot'],\n",
    "            title = 'Neutrino', xtitle = 'Phi', ytitle= 'Theta'\n",
    "                )\n",
    "#----------------------------------------------\n",
    "plot_2dhist( df_hnl['slc_pfp_shower_phi'], df_hnl['slc_pfp_shower_theta'], \n",
    "            ax2, fig, \n",
    "            xmin, xmax, ymin, ymax, xnbin, ynbin,\n",
    "            xlimmin, xlimmax, ylimmin, ylimmax,\n",
    "            weights = df_hnl['scale_pot'],\n",
    "            title = 'HNL', xtitle = 'Phi', ytitle= 'Theta'\n",
    "                )\n",
    "#----------------------------------------------\n",
    "plot_2dhist( df_cos['slc_pfp_shower_phi'], df_cos['slc_pfp_shower_theta'], \n",
    "            ax3, fig, \n",
    "            xmin, xmax, ymin, ymax, xnbin, ynbin,\n",
    "            xlimmin, xlimmax, ylimmin, ylimmax,\n",
    "            weights = df_cos['scale_pot'],\n",
    "            title = 'Cosmics', xtitle = 'Phi', ytitle= 'Theta'\n",
    "                )\n",
    "#----------------------------------------------\n",
    "#plt.ylim(0,40)\n",
    "plt.show()"
   ]
  },
  {
   "cell_type": "code",
   "execution_count": null,
   "metadata": {},
   "outputs": [],
   "source": [
    "plot_slc_var(df_hnl, df_nu, df_cos,\n",
    "                    true_counts, start_counts, \n",
    "                    'slc_pfp_shower_theta', \n",
    "                    scaleHNLPlot,\n",
    "                    xmin = 0, xmax = 180, xnbin = 20,\n",
    "                    xtitle = 'Shower Theta'\n",
    "                    )\n",
    "#-----------------------------------#\n",
    "if ifSave:\n",
    "    #fig.tight_layout()\n",
    "    plt.savefig(savePath+\"shower_theta_precut.png\", dpi = 200)\n",
    "#-----------------------------------#\n",
    "plt.show()\n",
    "#----------------------------------------------\n",
    "plot_slc_var(df_hnl, df_nu, df_cos,\n",
    "                    true_counts, start_counts, \n",
    "                    'slc_pfp_shower_phi', \n",
    "                    scaleHNLPlot,\n",
    "                    xmin = -180, xmax = 180, xnbin = 90,\n",
    "                    xtitle = 'Shower Phi'\n",
    "                    )\n",
    "#-----------------------------------#\n",
    "if ifSave:\n",
    "    #fig.tight_layout()\n",
    "    plt.savefig(savePath+\"shower_phi_precut.png\", dpi = 200)\n",
    "#-----------------------------------#\n",
    "plt.show()"
   ]
  },
  {
   "cell_type": "code",
   "execution_count": null,
   "metadata": {},
   "outputs": [],
   "source": [
    "def vary_Theta(df_hnl, df_nu, df_cos):\n",
    "    \n",
    "    step = 0.2\n",
    "    cutStep = np.arange(6, 25 + step, step)\n",
    "    \n",
    "    p_arr, eff_arr, peff_arr = [], [], []\n",
    "    \n",
    "    purity_start, eff_start = calc_purity_eff(df_hnl, df_nu, df_cos, true_counts, start_counts)\n",
    "    \n",
    "    for c in cutStep:\n",
    "        df_hnl_cut = cutThetaAngle(df_hnl, thetaAngle = c) \n",
    "        df_nu_cut = cutThetaAngle(df_nu, thetaAngle = c) \n",
    "        df_cos_cut = cutThetaAngle(df_cos, thetaAngle = c) \n",
    "        \n",
    "        purity, eff = calc_purity_eff(df_hnl_cut, df_nu_cut, df_cos_cut, true_counts, start_counts)\n",
    "        \n",
    "        p_arr.append(purity)\n",
    "        eff_arr.append(eff)\n",
    "        peff_arr.append(purity*eff)\n",
    "    \n",
    "    pMax = max(p_arr)\n",
    "    bestIndex = p_arr.index(pMax)\n",
    "    \n",
    "    del p_arr[bestIndex]\n",
    "    del eff_arr[bestIndex]\n",
    "    del peff_arr[bestIndex]\n",
    "    cutStep = np.delete(cutStep, bestIndex)\n",
    "    \n",
    "    plot_purity_eff(p_arr, eff_arr, peff_arr, cutStep, purity_start, eff_start, loc = 'center right')"
   ]
  },
  {
   "cell_type": "code",
   "execution_count": null,
   "metadata": {},
   "outputs": [],
   "source": [
    "if ifTune:\n",
    "    vary_Theta(df_hnl, df_nu, df_cos)\n",
    "    if ifSave:\n",
    "        plt.savefig(savePath+\"/shower_theta_tuning.png\", dpi =200)"
   ]
  },
  {
   "cell_type": "code",
   "execution_count": null,
   "metadata": {},
   "outputs": [],
   "source": [
    "angle = TuneCut['ShowerTheta']\n",
    "\n",
    "df_hnl = cutThetaAngle(df_hnl, thetaAngle = angle) \n",
    "df_nu = cutThetaAngle(df_nu, thetaAngle = angle) \n",
    "df_cos = cutThetaAngle(df_cos, thetaAngle = angle) "
   ]
  },
  {
   "cell_type": "markdown",
   "metadata": {},
   "source": [
    "<h3>Save Purity/Eff</h3>"
   ]
  },
  {
   "cell_type": "code",
   "execution_count": null,
   "metadata": {},
   "outputs": [],
   "source": [
    "purity, eff = calc_purity_eff(df_hnl, df_nu, df_cos, true_counts, start_counts)\n",
    "\n",
    "purity_arr.append(purity)\n",
    "eff_arr.append(eff)\n",
    "cut_arr.append(\"Shower Theta Cut\")\n",
    "\n",
    "print(purity_arr)\n",
    "print(eff_arr)\n",
    "print(cut_arr)"
   ]
  },
  {
   "cell_type": "code",
   "execution_count": null,
   "metadata": {},
   "outputs": [],
   "source": [
    "plot_slc_var(df_hnl, df_nu, df_cos,\n",
    "                    true_counts, start_counts, \n",
    "                    'slc_pfp_shower_theta', \n",
    "                    scaleHNLPlot,\n",
    "                    xmin = 0, xmax = 180, xnbin = 20,\n",
    "                    xtitle = 'Shower Theta'\n",
    "                    )\n",
    "#-----------------------------------#\n",
    "if ifSave:\n",
    "    #fig.tight_layout()\n",
    "    plt.savefig(savePath+\"shower_theta_postcut.png\", dpi = 200)\n",
    "#-----------------------------------#\n",
    "plt.show()\n",
    "#----------------------------------------------\n",
    "plot_slc_var(df_hnl, df_nu, df_cos,\n",
    "                    true_counts, start_counts, \n",
    "                    'slc_pfp_shower_phi', \n",
    "                    scaleHNLPlot,\n",
    "                    xmin = -180, xmax = 180, xnbin = 90,\n",
    "                    xtitle = 'Shower Phi'\n",
    "                    )\n",
    "#-----------------------------------#\n",
    "if ifSave:\n",
    "    #fig.tight_layout()\n",
    "    plt.savefig(savePath+\"shower_phi_postcut.png\", dpi = 200)\n",
    "#-----------------------------------#\n",
    "plt.show()"
   ]
  },
  {
   "cell_type": "markdown",
   "metadata": {},
   "source": [
    "<h1>Shower Properties</h1>"
   ]
  },
  {
   "cell_type": "code",
   "execution_count": null,
   "metadata": {},
   "outputs": [],
   "source": [
    "plot_slc_var(df_hnl, df_nu, df_cos,\n",
    "                    true_counts, start_counts, \n",
    "                    'slc_pfp_shower_energy', \n",
    "                    scaleHNLPlot,\n",
    "                    xmin = 0, xmax = 2000, xnbin = 100,\n",
    "                    xtitle = 'Shower Energy [MeV]'\n",
    "                    )\n",
    "#-----------------------------------#\n",
    "if ifSave:\n",
    "    #fig.tight_layout()\n",
    "    plt.savefig(savePath+\"shower_energy_postpid.png\", dpi = 200)\n",
    "#-----------------------------------#\n",
    "plt.show()\n",
    "#----------------------------------------------\n",
    "plot_slc_var(df_hnl, df_nu, df_cos,\n",
    "                    true_counts, start_counts, \n",
    "                    'slc_pfp_shower_conv_gap', \n",
    "                    scaleHNLPlot,\n",
    "                    xmin = 0, xmax = 1, xnbin = 40,\n",
    "                    xtitle = 'Shower Conversion Gap [cm]'\n",
    "                    )\n",
    "#-----------------------------------#\n",
    "if ifSave:\n",
    "    #fig.tight_layout()\n",
    "    plt.savefig(savePath+\"shower_convgap_postpid.png\", dpi = 200)\n",
    "#-----------------------------------#\n",
    "plt.show()"
   ]
  },
  {
   "cell_type": "markdown",
   "metadata": {},
   "source": [
    "<h1>Shower Stuff</h1>"
   ]
  },
  {
   "cell_type": "markdown",
   "metadata": {},
   "source": [
    "<h3> Split into 1 shower and multi shower case </h3>"
   ]
  },
  {
   "cell_type": "code",
   "execution_count": null,
   "metadata": {},
   "outputs": [],
   "source": [
    "def split_my_df(df):\n",
    "    temp = df[['run', 'subrun', 'event', 'slc_idx'\n",
    "                   , 'slc_pfp_shower_energy', 'slc_comp', 'scale_pot', 'slc_true_event_type'\n",
    "                    , 'slc_pfp_shower_dir_x' , 'slc_pfp_shower_dir_y' , 'slc_pfp_shower_dir_z'\n",
    "                  ]]\n",
    "    temp[\"pfp_idx\"] = temp.groupby(['run', 'subrun', 'event', 'slc_idx']).transform(\"cumcount\").add(1) - 1\n",
    "    temp = temp.set_index(['run', 'subrun', 'event', 'slc_idx']).reset_index()\n",
    "    \n",
    "    temp1 = temp.groupby(['run', 'subrun', 'event', 'slc_idx'])['slc_pfp_shower_energy'].apply(list).reset_index()\n",
    "    temp2 = temp.groupby(['run', 'subrun', 'event', 'slc_idx'])['pfp_idx'].apply(list).reset_index()\n",
    "    temp3 = temp.groupby(['run', 'subrun', 'event', 'slc_idx'])['slc_pfp_shower_dir_x'].apply(list).reset_index()\n",
    "    temp4 = temp.groupby(['run', 'subrun', 'event', 'slc_idx'])['slc_pfp_shower_dir_y'].apply(list).reset_index()\n",
    "    temp5 = temp.groupby(['run', 'subrun', 'event', 'slc_idx'])['slc_pfp_shower_dir_z'].apply(list).reset_index()\n",
    "\n",
    "    concat = pd.concat([temp1, temp2, temp3, temp4, temp5], axis = 1)\n",
    "    \n",
    "    concat = concat.loc[:, ~concat.columns.duplicated()]\n",
    "    \n",
    "    concat['n_pfp'] = concat.apply(lambda row: len(row['slc_pfp_shower_energy']), axis=1)\n",
    "    \n",
    "    #1 shower selection\n",
    "    shw1 = concat[concat['n_pfp'] == 1]\n",
    "    shw1 = shw1.drop(columns = ['slc_pfp_shower_energy', 'pfp_idx', 'slc_pfp_shower_dir_x', 'slc_pfp_shower_dir_y', 'slc_pfp_shower_dir_z'])\n",
    "    shw1 = shw1.merge(temp, how='inner', on=['run','subrun','event','slc_idx'])\n",
    "    \n",
    "    #2+ shower selection\n",
    "    shw2more = concat[concat['n_pfp'] >= 2]\n",
    "    temp = temp.drop(columns = ['slc_pfp_shower_energy', 'pfp_idx', 'slc_pfp_shower_dir_x', 'slc_pfp_shower_dir_y', 'slc_pfp_shower_dir_z'])\n",
    "    shw2more = shw2more.merge(temp, how='inner', on=['run','subrun','event','slc_idx'])\n",
    "    \n",
    "    return shw1, shw2more"
   ]
  },
  {
   "cell_type": "code",
   "execution_count": null,
   "metadata": {},
   "outputs": [],
   "source": [
    "df_hnl_shw1, df_hnl_shw2 = split_my_df(df_hnl)\n",
    "\n",
    "df_nu_shw1, df_nu_shw2 = split_my_df(df_nu)\n",
    "\n",
    "#Nothing is left in Intime cosmics\n",
    "#df_cos_shw1, df_cos_shw2 = split_my_df(df_cos)"
   ]
  },
  {
   "cell_type": "markdown",
   "metadata": {},
   "source": [
    "<h3>Single Shower Energy</h3>"
   ]
  },
  {
   "cell_type": "code",
   "execution_count": null,
   "metadata": {},
   "outputs": [],
   "source": [
    "plot_slc_var(df_hnl_shw1, df_nu_shw1, df_cos,\n",
    "#plot_slc_var(df_hnl_shw1, df_nu_shw1, df_cos_shw1,\n",
    "                    true_counts, start_counts, \n",
    "                    'slc_pfp_shower_energy', \n",
    "                    scaleHNLPlot,\n",
    "                    xmin = 0, xmax = 3000, xnbin = 50,\n",
    "                    xtitle = 'Slice With 1 Shower Energy [MeV]'\n",
    "            )\n",
    "#-----------------------------------#\n",
    "if ifSave:\n",
    "    #fig.tight_layout()\n",
    "    plt.savefig(savePath+\"single_shower_energy.png\", dpi = 200)\n",
    "#-----------------------------------#\n",
    "plt.show()"
   ]
  },
  {
   "cell_type": "markdown",
   "metadata": {},
   "source": [
    "<h3>Apply Cut</h3>"
   ]
  },
  {
   "cell_type": "raw",
   "metadata": {},
   "source": [
    "df_hnl_shw1 = df_hnl_shw1[df_hnl_shw1['slc_pfp_shower_energy'] > 400]\n",
    "df_nu_shw1 = df_nu_shw1[df_nu_shw1['slc_pfp_shower_energy'] > 400]\n",
    "#df_cos_shw1 = df_cos_shw1[df_cos_shw1['slc_pfp_shower_energy'] > 300]"
   ]
  },
  {
   "cell_type": "raw",
   "metadata": {},
   "source": [
    "#plot_slc_var(df_hnl_shw1, df_nu_shw1, df_cos_shw1,\n",
    "plot_slc_var(df_hnl_shw1, df_nu_shw1, df_cos,\n",
    "                    true_counts, start_counts, \n",
    "                    'slc_pfp_shower_energy', \n",
    "                    scaleHNLPlot,\n",
    "                    xmin = 0, xmax = 3000, xnbin = 50,\n",
    "                    xtitle = 'Slice With 1 Shower Energy [MeV]'\n",
    "            )\n",
    "plt.show()"
   ]
  },
  {
   "cell_type": "markdown",
   "metadata": {},
   "source": [
    "<h3>Two or More Shower</h3>"
   ]
  },
  {
   "cell_type": "code",
   "execution_count": null,
   "metadata": {},
   "outputs": [],
   "source": [
    "def pi0mass(x):\n",
    "    \n",
    "    mBest = -999\n",
    "    diff = 99999;\n",
    "    \n",
    "    for i in range(0, x['n_pfp']):\n",
    "        for j in range(0, x['n_pfp']):\n",
    "            if i == j:\n",
    "                continue\n",
    "            else:\n",
    "                v1 = [x['slc_pfp_shower_dir_x'][0], x['slc_pfp_shower_dir_y'][0], x['slc_pfp_shower_dir_z'][0]]\n",
    "                v2 = [x['slc_pfp_shower_dir_x'][1], x['slc_pfp_shower_dir_y'][1], x['slc_pfp_shower_dir_z'][1]]\n",
    "    \n",
    "                v1_u = unit_vector(v1)\n",
    "                v2_u = unit_vector(v2)\n",
    "    \n",
    "                cosTheta = np.clip(np.dot(v1_u, v2_u), -1.0, 1.0)\n",
    "\n",
    "                mass = np.sqrt(2 * x['slc_pfp_shower_energy'][0] * x['slc_pfp_shower_energy'][1] * (1 - cosTheta ));\n",
    "                \n",
    "                if abs(mass - 135) < diff:\n",
    "                    mBest = mass\n",
    "    return mBest"
   ]
  },
  {
   "cell_type": "code",
   "execution_count": null,
   "metadata": {},
   "outputs": [],
   "source": [
    "df_hnl_shw2['pi0_mass'] = df_hnl_shw2.apply(lambda row: pi0mass(row), axis = 1)\n",
    "\n",
    "#df_nu_shw2['pi0_mass'] = \"\"\n",
    "df_nu_shw2['pi0_mass'] = df_nu_shw2.apply(lambda row: pi0mass(row), axis = 1)\n",
    "\n",
    "df_cos['pi0_mass']  = \"\"\n",
    "#df_cos_shw2['pi0_mass'] = df_cos_shw2.apply(lambda row: pi0mass(row), axis = 1)"
   ]
  },
  {
   "cell_type": "code",
   "execution_count": null,
   "metadata": {},
   "outputs": [],
   "source": [
    "plot_slc_var(df_hnl_shw2, df_nu_shw2, df_cos,\n",
    "#plot_slc_var(df_hnl_shw2, df_nu_shw2, df_cos_shw2,\n",
    "                    true_counts, start_counts, \n",
    "                    'pi0_mass', \n",
    "                    scaleHNLPlot,\n",
    "                    xmin = 0, xmax = 600, xnbin = 50,\n",
    "                    xtitle = 'Pi 0 Mass [MeV]'\n",
    "            )\n",
    "# only one line may be specified; full height\n",
    "plt.axvline(x = 135, color = col_dict['Aqua'], linewidth = 3)\n",
    "\n",
    "#-----------------------------------#\n",
    "if ifSave:\n",
    "    #fig.tight_layout()\n",
    "    plt.savefig(savePath+\"pizero_mass_precut.png\", dpi = 200)\n",
    "#-----------------------------------#\n",
    "\n",
    "plt.show()"
   ]
  },
  {
   "cell_type": "markdown",
   "metadata": {},
   "source": [
    "<h3>Apply Cut</h3>"
   ]
  },
  {
   "cell_type": "code",
   "execution_count": null,
   "metadata": {},
   "outputs": [],
   "source": [
    "df_hnl_shw2 = df_hnl_shw2[(df_hnl_shw2['pi0_mass'] > 20) &(df_hnl_shw2['pi0_mass'] < 250)]\n",
    "df_nu_shw2 = df_nu_shw2[(df_nu_shw2['pi0_mass'] > 20) &(df_nu_shw2['pi0_mass'] < 250)]\n",
    "#df_cos_shw2 = df_cos_shw2[(df_cos_shw2['pi0_mass'] > 20) &(df_cos_shw2['pi0_mass'] < 250)]"
   ]
  },
  {
   "cell_type": "code",
   "execution_count": null,
   "metadata": {},
   "outputs": [],
   "source": [
    "plot_slc_var(df_hnl_shw2, df_nu_shw2, df_cos,\n",
    "#plot_slc_var(df_hnl_shw2, df_nu_shw2, df_cos_shw2,\n",
    "                    true_counts, start_counts, \n",
    "                    'pi0_mass', \n",
    "                    scaleHNLPlot,\n",
    "                    xmin = 0, xmax = 600, xnbin = 50,\n",
    "                    xtitle = 'Pi 0 Mass [MeV]'\n",
    "            )\n",
    "# only one line may be specified; full height\n",
    "plt.axvline(x = 135, color = col_dict['Aqua'], linewidth = 3)\n",
    " \n",
    "#-----------------------------------#\n",
    "if ifSave:\n",
    "    #fig.tight_layout()\n",
    "    plt.savefig(savePath+\"pizero_mass_postcut.png\", dpi = 200)\n",
    "#-----------------------------------#\n",
    "\n",
    "plt.show()"
   ]
  },
  {
   "cell_type": "markdown",
   "metadata": {},
   "source": [
    "<h3>Merge The Cut Back</h3>"
   ]
  },
  {
   "cell_type": "code",
   "execution_count": null,
   "metadata": {},
   "outputs": [],
   "source": [
    "def apply_shower_cut(df, dfshw1, dfshw2):\n",
    "    temp1 = dfshw1[['run','subrun','event','slc_idx']]\n",
    "    temp1 = temp1.merge(df, how='inner', on=['run','subrun','event','slc_idx'])\n",
    "    \n",
    "    temp2 = dfshw2[['run','subrun','event','slc_idx']]\n",
    "    temp2 = temp2.merge(df, how='inner', on=['run','subrun','event','slc_idx'])\n",
    "    \n",
    "    concat = pd.concat([temp1, temp2])\n",
    "    concat = concat.drop_duplicates()\n",
    "    \n",
    "    return concat"
   ]
  },
  {
   "cell_type": "code",
   "execution_count": null,
   "metadata": {},
   "outputs": [],
   "source": [
    "df_hnl = apply_shower_cut(df_hnl, df_hnl_shw1, df_hnl_shw2)\n",
    "df_nu = apply_shower_cut(df_nu, df_nu_shw1, df_nu_shw2)\n",
    "#df_cos = apply_shower_cut(df_cos, df_cos_shw1, df_cos_shw2)"
   ]
  },
  {
   "cell_type": "markdown",
   "metadata": {},
   "source": [
    "<h3>Save Purity/Eff</h3>"
   ]
  },
  {
   "cell_type": "code",
   "execution_count": null,
   "metadata": {},
   "outputs": [],
   "source": [
    "purity, eff = calc_purity_eff(df_hnl, df_nu, df_cos, true_counts, start_counts)\n",
    "\n",
    "purity_arr.append(purity)\n",
    "eff_arr.append(eff)\n",
    "cut_arr.append(\"Pion Zero Mass\")\n",
    "\n",
    "print(purity_arr)\n",
    "print(eff_arr)\n",
    "print(cut_arr)"
   ]
  },
  {
   "cell_type": "markdown",
   "metadata": {},
   "source": [
    "<h1> Make Beam Bucket - Post PID</h1>"
   ]
  },
  {
   "cell_type": "code",
   "execution_count": null,
   "metadata": {},
   "outputs": [],
   "source": [
    "hist, bins = plot_slc_var(df_hnl, df_nu, df_cos,\n",
    "                    true_counts, start_counts, \n",
    "                    'mod_t', \n",
    "                    scaleHNLPlot,\n",
    "                    xmin = 0, xmax = 19, xnbin = 19,\n",
    "                    xtitle = 'Opt0 Time Corrected Z % ' + str(width) + ' [ns]'\n",
    "                    )\n",
    "\n",
    "#-----------------------------------#\n",
    "if ifSave:\n",
    "    #fig.tight_layout()\n",
    "    plt.savefig(savePath+\"beam_bucket_postpid.png\", dpi = 200)\n",
    "#-----------------------------------#\n",
    "plt.show()"
   ]
  },
  {
   "cell_type": "markdown",
   "metadata": {},
   "source": [
    "<h1>Between Bucket Cut</h1>"
   ]
  },
  {
   "cell_type": "code",
   "execution_count": null,
   "metadata": {},
   "outputs": [],
   "source": [
    "def cutModt(df, score):\n",
    "    when_modt = df[\"mod_t\"] >= score\n",
    "    df = df[when_modt]\n",
    "    return df    "
   ]
  },
  {
   "cell_type": "markdown",
   "metadata": {},
   "source": [
    "<h3>Apply Cut</h3>"
   ]
  },
  {
   "cell_type": "code",
   "execution_count": null,
   "metadata": {},
   "outputs": [],
   "source": [
    "df_hnl = cutModt(df_hnl, 10)\n",
    "df_nu = cutModt(df_nu, 10)\n",
    "df_cos = cutModt(df_cos, 10)"
   ]
  },
  {
   "cell_type": "markdown",
   "metadata": {},
   "source": [
    "<h3>Save Purity/Eff</h3>"
   ]
  },
  {
   "cell_type": "code",
   "execution_count": null,
   "metadata": {},
   "outputs": [],
   "source": [
    "purity, eff = calc_purity_eff(df_hnl, df_nu, df_cos, true_counts, start_counts)\n",
    "\n",
    "purity_arr.append(purity)\n",
    "eff_arr.append(eff)\n",
    "cut_arr.append(\"Between Bucket\")\n",
    "\n",
    "print(purity_arr)\n",
    "print(eff_arr)\n",
    "print(cut_arr)"
   ]
  },
  {
   "cell_type": "code",
   "execution_count": null,
   "metadata": {},
   "outputs": [],
   "source": [
    "hist, bins = plot_slc_var(df_hnl, df_nu, df_cos,\n",
    "                    true_counts, start_counts, \n",
    "                    'mod_t', \n",
    "                    scaleHNLPlot,\n",
    "                    xmin = 0, xmax = 19, xnbin = 19,\n",
    "                    xtitle = 'Opt0 Time Corrected Z % ' + str(width) + ' [ns]'\n",
    "                    )\n",
    "\n",
    "#-----------------------------------#\n",
    "if ifSave:\n",
    "    #fig.tight_layout()\n",
    "    plt.savefig(savePath+\"beam_bucket_final.png\", dpi = 200)\n",
    "#-----------------------------------#\n",
    "plt.show()"
   ]
  },
  {
   "cell_type": "markdown",
   "metadata": {},
   "source": [
    "<h1>Plot Purity/Efficiency </h1>"
   ]
  },
  {
   "cell_type": "code",
   "execution_count": null,
   "metadata": {},
   "outputs": [],
   "source": [
    "print(eff_arr)\n",
    "print(purity_arr)\n",
    "print(cut_arr)"
   ]
  },
  {
   "cell_type": "code",
   "execution_count": null,
   "metadata": {},
   "outputs": [],
   "source": [
    "fig, ax1 = plt.subplots(1, 1, figsize=(10, 6), sharex = True)\n",
    "ax2 = ax1.twinx()\n",
    "\n",
    "t = np.arange(0, len(cut_arr) , 1)\n",
    "\n",
    "effcol = col_dict['MintGreen']\n",
    "pcol = col_dict['Flamingo']\n",
    "\n",
    "ax1.plot(t, eff_arr, c = effcol, marker = 'o', markersize = 5, ls='--')\n",
    "ax2.plot(t, purity_arr, c = pcol, marker = 'o', markersize = 5, ls='--')\n",
    "\n",
    "ax1.set_ylim(-5,105)\n",
    "ax2.set_ylim(-5,105)\n",
    "\n",
    "ax1.grid(color='gainsboro', which='both', axis='both', linestyle='--')\n",
    "\n",
    "ax1.set_ylabel(\"Selection Effciency [%]\", c = effcol, fontsize = 16)\n",
    "ax2.set_ylabel(\"Purity [%]\", c = pcol, fontsize = 16)\n",
    "\n",
    "plt.xticks(range(0, len(t)))\n",
    "ax1.set_xticklabels(cut_arr, rotation = 45, ha=\"right\", fontsize = 16)\n",
    "\n",
    "ax1.tick_params(bottom = True, top = True, left = True, right = False)\n",
    "ax2.tick_params(bottom = True, top = True, left = False, right = True)\n",
    "\n",
    "ax1.tick_params(axis = 'x', labelsize = 16, direction = 'in')\n",
    "ax1.tick_params(axis = 'y', labelsize = 16, direction = 'in')\n",
    "ax2.tick_params(axis = 'y', labelsize = 16, direction = 'in')\n",
    "\n",
    "fig.tight_layout()\n",
    "\n",
    "#-----------------------------------#\n",
    "if ifSave:\n",
    "    if ifStrict:\n",
    "        plt.savefig(savePath+\"peff_strict.png\", dpi = 200)\n",
    "    else:\n",
    "        plt.savefig(savePath+\"peff_relaxed.png\", dpi = 200)\n",
    "#-----------------------------------#\n",
    "plt.show()"
   ]
  },
  {
   "cell_type": "markdown",
   "metadata": {},
   "source": [
    "<h1> Save Cut Dataframe to Pickle</h1>"
   ]
  },
  {
   "cell_type": "code",
   "execution_count": null,
   "metadata": {},
   "outputs": [],
   "source": [
    "df_hnl.to_pickle(\"./df_hnl.pkl\", protocol = 5)"
   ]
  },
  {
   "cell_type": "code",
   "execution_count": null,
   "metadata": {},
   "outputs": [],
   "source": [
    "df_nu.to_pickle(\"./df_nu.pkl\", protocol = 5)"
   ]
  },
  {
   "cell_type": "code",
   "execution_count": null,
   "metadata": {},
   "outputs": [],
   "source": [
    "df_cos.to_pickle(\"./df_cos.pkl\", protocol = 5)"
   ]
  },
  {
   "cell_type": "code",
   "execution_count": null,
   "metadata": {},
   "outputs": [],
   "source": []
  }
 ],
 "metadata": {
  "kernelspec": {
   "display_name": "Python 3 (ipykernel)",
   "language": "python",
   "name": "python3"
  },
  "language_info": {
   "codemirror_mode": {
    "name": "ipython",
    "version": 3
   },
   "file_extension": ".py",
   "mimetype": "text/x-python",
   "name": "python",
   "nbconvert_exporter": "python",
   "pygments_lexer": "ipython3",
   "version": "3.9.7"
  }
 },
 "nbformat": 4,
 "nbformat_minor": 4
}
