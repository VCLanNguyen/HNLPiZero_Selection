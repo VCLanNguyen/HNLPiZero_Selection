{
 "cells": [
  {
   "cell_type": "code",
   "execution_count": 1,
   "metadata": {},
   "outputs": [
    {
     "name": "stdout",
     "output_type": "stream",
     "text": [
      "Welcome to JupyROOT 6.24/06\n"
     ]
    }
   ],
   "source": [
    "# Add the relevant scripts from LArMachineLearningData\n",
    "# Nice the process so it can run with lots of cores on low priority\n",
    "import os\n",
    "os.nice(20)\n",
    "\n",
    "# Add local paths\n",
    "import sys\n",
    "hnlDIR = os.environ['_']\n",
    "sys.path.append('../pyscript')\n",
    "\n",
    "# From pyscript Library\n",
    "from Plotting import *\n",
    "from Dictionary import *\n",
    "from HelperFunctions import *\n",
    "from CutFunctions import *\n",
    "from SystematicsHelpers import *\n",
    "\n",
    "import ROOT\n",
    "import array\n",
    "import pickle\n",
    "import uproot\n",
    "import numpy as np\n",
    "import pandas as pd\n",
    "import matplotlib.pyplot as plt\n",
    "import seaborn as sns\n",
    "from matplotlib import gridspec\n",
    "\n",
    "import warnings\n",
    "warnings.filterwarnings(\"ignore\")"
   ]
  },
  {
   "cell_type": "markdown",
   "metadata": {},
   "source": [
    "<h1>Configuration Stuff Here</h1>"
   ]
  },
  {
   "cell_type": "code",
   "execution_count": 2,
   "metadata": {},
   "outputs": [],
   "source": [
    "m = 200\n",
    "\n",
    "ifSave = True\n",
    "savePath = \"../plot_files/06April2024_m\"+str(m)+\"_v3_systematics/\""
   ]
  },
  {
   "cell_type": "markdown",
   "metadata": {},
   "source": [
    "<h1> Read in PKL Dataframe </h1>"
   ]
  },
  {
   "cell_type": "markdown",
   "metadata": {},
   "source": [
    "<h3>HNL</h3>"
   ]
  },
  {
   "cell_type": "code",
   "execution_count": null,
   "metadata": {},
   "outputs": [],
   "source": [
    "hnl_path = \"../pkl_files/v3_April2024/df_m\"+str(m)+\"_v3_hnl.pkl\"\n",
    "\n",
    "file = open(hnl_path, 'rb')\n",
    "df_hnl = pickle.load(file)\n",
    "file.close\n",
    "del hnl_path"
   ]
  },
  {
   "cell_type": "code",
   "execution_count": null,
   "metadata": {},
   "outputs": [],
   "source": [
    "df_hnl = df_hnl[[\"run\", \"subrun\", \"event\", \"slc_id\", \"scale_pot\", \"simU\", \"scaledU\", \"mod_t\", 'slc_comp', 'slc_true_event_type']]"
   ]
  },
  {
   "cell_type": "markdown",
   "metadata": {},
   "source": [
    "<h3>TPC Neutrino</h3>"
   ]
  },
  {
   "cell_type": "code",
   "execution_count": null,
   "metadata": {},
   "outputs": [],
   "source": [
    "nu_path = \"../pkl_files/v3_April2024/df_m\"+str(m)+\"_v3_nu.pkl\"\n",
    "\n",
    "file = open(nu_path, 'rb')\n",
    "df_nu = pickle.load(file)\n",
    "file.close\n",
    "del nu_path"
   ]
  },
  {
   "cell_type": "code",
   "execution_count": null,
   "metadata": {},
   "outputs": [],
   "source": [
    "df_nu = df_nu[[\"run\", \"subrun\", \"event\", \"slc_id\", \"scale_pot\", \"mod_t\", 'slc_comp', 'slc_true_event_type']]"
   ]
  },
  {
   "cell_type": "markdown",
   "metadata": {},
   "source": [
    "<h3>Intime Cosmics</h3>"
   ]
  },
  {
   "cell_type": "code",
   "execution_count": null,
   "metadata": {},
   "outputs": [],
   "source": [
    "cos_path = \"../pkl_files/v3_April2024/df_m\"+str(m)+\"_v3_cos.pkl\"\n",
    "\n",
    "file = open(cos_path, 'rb')\n",
    "df_cos = pickle.load(file)\n",
    "file.close\n",
    "del cos_path"
   ]
  },
  {
   "cell_type": "code",
   "execution_count": null,
   "metadata": {},
   "outputs": [],
   "source": [
    "df_cos = df_cos[[\"run\", \"subrun\", \"event\", \"slc_id\", \"scale_pot\", \"mod_t\", 'slc_comp', 'slc_true_event_type']]"
   ]
  },
  {
   "cell_type": "markdown",
   "metadata": {},
   "source": [
    "<h1> Load Systematics Dataframe</h1>"
   ]
  },
  {
   "cell_type": "markdown",
   "metadata": {},
   "source": [
    "<h3> HNL </h3>"
   ]
  },
  {
   "cell_type": "code",
   "execution_count": null,
   "metadata": {},
   "outputs": [],
   "source": [
    "dfw_hnl = pd.DataFrame()\n",
    "\n",
    "print(len(df_hnl))\n",
    "\n",
    "for i in range(0, 4):\n",
    "#for i in range(0, 1):\n",
    "    hnl_path = \"../pkl_files/v3_April2024/hnl_m\"+str(m)+\"_flxw_{}.pkl\".format(i)\n",
    "    print(hnl_path)\n",
    "    \n",
    "    file = open(hnl_path, 'rb')   \n",
    "    df = pickle.load(file)\n",
    "    \n",
    "    #keep certain branches only\n",
    "    branches = ['run','subrun','event','slc_id', 'slc_comp', 'slc_flux_weight_total'] + flux_list\n",
    "    df = df[branches]\n",
    "    \n",
    " \n",
    "    df = df.merge(df_hnl, how='inner', on=['run','subrun','event','slc_id','slc_comp'])\n",
    "    print(len(df))\n",
    "    \n",
    "    dfw_hnl = pd.concat((dfw_hnl, df), ignore_index=True)\n",
    "    file.close()\n",
    "    \n",
    "del df_hnl\n",
    "\n",
    "print(len(dfw_hnl))"
   ]
  },
  {
   "cell_type": "markdown",
   "metadata": {},
   "source": [
    "<h3> TPC Neutrino </h3>"
   ]
  },
  {
   "cell_type": "code",
   "execution_count": null,
   "metadata": {},
   "outputs": [],
   "source": [
    "dfw_nu = pd.DataFrame()\n",
    "\n",
    "print(len(df_nu))\n",
    "\n",
    "for i in range(0, 51):\n",
    "#for i in range(0, 2):\n",
    "    nu_path = \"../pkl_files/v3_April2024/rockbox_flxw_{}.pkl\".format(i)\n",
    "    print(nu_path)\n",
    "    \n",
    "    file = open(nu_path, 'rb')\n",
    "    df = pickle.load(file)\n",
    "    \n",
    "    #print(df.columns)\n",
    "    \n",
    "    df = df.merge(df_nu, how='inner', on=['run','subrun','event','slc_id', 'slc_comp'])\n",
    "    print(len(df))\n",
    "    \n",
    "    dfw_nu = pd.concat((dfw_nu, df), ignore_index=True)\n",
    "    file.close()\n",
    "    \n",
    "#del df_nu\n",
    "\n",
    "print(len(dfw_nu))"
   ]
  },
  {
   "cell_type": "markdown",
   "metadata": {},
   "source": [
    "<h3> NCPi0 </h3>"
   ]
  },
  {
   "cell_type": "code",
   "execution_count": null,
   "metadata": {},
   "outputs": [],
   "source": [
    "dfw_ncpi0 = pd.DataFrame()\n",
    "\n",
    "print(len(df_nu))\n",
    "\n",
    "for i in range(0, 8):\n",
    "    nu_path = \"../pkl_files/v3_April2024/ncpi0_flxw_{}.pkl\".format(i)\n",
    "    print(nu_path)\n",
    "    \n",
    "    file = open(nu_path, 'rb')\n",
    "    df = pickle.load(file)\n",
    "    \n",
    "    #print(df.columns)\n",
    "    \n",
    "    df = df.merge(df_nu, how='inner', on=['run','subrun','event','slc_id', 'slc_comp'])\n",
    "    print(len(df))\n",
    "    \n",
    "    dfw_ncpi0 = pd.concat((dfw_ncpi0, df), ignore_index=True)\n",
    "    file.close()\n",
    "    \n",
    "del df_nu\n",
    "\n",
    "print(len(dfw_nu))"
   ]
  },
  {
   "cell_type": "code",
   "execution_count": null,
   "metadata": {},
   "outputs": [],
   "source": [
    "dfw_nu_combined = pd.concat([dfw_ncpi0, dfw_nu])\n",
    "print(len(dfw_nu_combined))\n",
    "\n",
    "del dfw_nu\n",
    "del dfw_ncpi0"
   ]
  },
  {
   "cell_type": "code",
   "execution_count": null,
   "metadata": {},
   "outputs": [],
   "source": [
    "dfw_nu = dfw_nu_combined\n",
    "\n",
    "del dfw_nu_combined"
   ]
  },
  {
   "cell_type": "markdown",
   "metadata": {},
   "source": [
    "<h1>SAVE THIS DATAFRAME</h1>"
   ]
  },
  {
   "cell_type": "code",
   "execution_count": null,
   "metadata": {},
   "outputs": [],
   "source": [
    "dfw_hnl.to_pickle(\"../pkl_files/v3_April2024/df_hnl_m\"+str(m)+\"_v3_weight.pkl\", protocol = 5)\n",
    "dfw_nu.to_pickle(\"../pkl_files/v3_April2024/df_nu_m\"+str(m)+\"_v3_weight.pkl\", protocol = 5)\n",
    "df_cos.to_pickle(\"../pkl_files/v3_April2024/df_cos_m\"+str(m)+\"_v3_weight.pkl\", protocol = 5)"
   ]
  },
  {
   "cell_type": "markdown",
   "metadata": {},
   "source": [
    "###### "
   ]
  }
 ],
 "metadata": {
  "kernelspec": {
   "display_name": "Python 3 (ipykernel)",
   "language": "python",
   "name": "python3"
  },
  "language_info": {
   "codemirror_mode": {
    "name": "ipython",
    "version": 3
   },
   "file_extension": ".py",
   "mimetype": "text/x-python",
   "name": "python",
   "nbconvert_exporter": "python",
   "pygments_lexer": "ipython3",
   "version": "3.9.7"
  }
 },
 "nbformat": 4,
 "nbformat_minor": 4
}
