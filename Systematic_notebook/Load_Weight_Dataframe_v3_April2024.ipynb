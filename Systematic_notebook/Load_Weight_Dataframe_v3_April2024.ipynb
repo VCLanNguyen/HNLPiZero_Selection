{
 "cells": [
  {
   "cell_type": "code",
   "execution_count": null,
   "metadata": {},
   "outputs": [],
   "source": [
    "# Add the relevant scripts from LArMachineLearningData\n",
    "# Nice the process so it can run with lots of cores on low priority\n",
    "import os\n",
    "os.nice(0)\n",
    "\n",
    "# Add local paths\n",
    "import sys\n",
    "hnlDIR = os.environ['_']\n",
    "sys.path.append('../pyscript')\n",
    "from SystematicsHelpers import *\n",
    "\n",
    "import pickle\n",
    "import uproot\n",
    "import pandas as pd\n",
    "\n",
    "\n",
    "import warnings\n",
    "warnings.filterwarnings(\"ignore\")"
   ]
  },
  {
   "cell_type": "markdown",
   "metadata": {},
   "source": [
    "<h1>Configuration Stuff Here</h1>"
   ]
  },
  {
   "cell_type": "code",
   "execution_count": null,
   "metadata": {},
   "outputs": [],
   "source": [
    "m = 240"
   ]
  },
  {
   "cell_type": "markdown",
   "metadata": {},
   "source": [
    "<h1>HNL</h1>"
   ]
  },
  {
   "cell_type": "code",
   "execution_count": null,
   "metadata": {},
   "outputs": [],
   "source": [
    "hnl_path = \"../../pkl_files/v3_April2024/df_postselect_m\"+str(m)+\"_v3_hnl.pkl\"\n",
    "\n",
    "file = open(hnl_path, 'rb')\n",
    "df_hnl = pickle.load(file)\n",
    "file.close\n",
    "del hnl_path"
   ]
  },
  {
   "cell_type": "code",
   "execution_count": null,
   "metadata": {},
   "outputs": [],
   "source": [
    "df_hnl"
   ]
  },
  {
   "cell_type": "code",
   "execution_count": null,
   "metadata": {},
   "outputs": [],
   "source": [
    "df_hnl = df_hnl[[\"run\", \"subrun\", \"event\", \"slc_id\"\n",
    "                 , \"mod_t\", 'slc_comp', 'slc_true_event_type'\n",
    "                 , \"true_counts\" , \"start_counts\"\n",
    "                 , \"scale_pot\" , \"sim_scale_pot\"\n",
    "                 , \"simU\", \"plotU\"\n",
    "                ]]"
   ]
  },
  {
   "cell_type": "code",
   "execution_count": null,
   "metadata": {},
   "outputs": [],
   "source": [
    "count = 3\n",
    "if m == 140:\n",
    "    count = 3\n",
    "if m == 160:\n",
    "    count = 3\n",
    "if m == 180:\n",
    "    count = 3\n",
    "if m == 200:\n",
    "    count = 4\n",
    "if m == 220:\n",
    "    count = 3\n",
    "if m == 240:\n",
    "    count = 4\n",
    "print(count)"
   ]
  },
  {
   "cell_type": "code",
   "execution_count": null,
   "metadata": {},
   "outputs": [],
   "source": [
    "dfw_hnl = pd.DataFrame()\n",
    "\n",
    "print(len(df_hnl))\n",
    "\n",
    "for i in range(0, count):\n",
    "    hnl_path = \"../../pkl_files/v3_April2024/hnl_m\"+str(m)+\"_flxw_{}.pkl\".format(i)\n",
    "    print(hnl_path)\n",
    "    \n",
    "    file = open(hnl_path, 'rb')   \n",
    "    df = pickle.load(file)\n",
    "    \n",
    "    #keep certain branches only\n",
    "    branches = ['run','subrun','event','slc_id', 'slc_comp', 'slc_flux_weight_total'] + flux_list\n",
    "    df = df[branches]\n",
    "    \n",
    " \n",
    "    df = df.merge(df_hnl, how='inner', on=['run','subrun','event','slc_id','slc_comp'])\n",
    "    print(len(df))\n",
    "    \n",
    "    dfw_hnl = pd.concat((dfw_hnl, df), ignore_index=True)\n",
    "    file.close()\n",
    "    \n",
    "del df_hnl\n",
    "\n",
    "print(len(dfw_hnl))"
   ]
  },
  {
   "cell_type": "code",
   "execution_count": null,
   "metadata": {},
   "outputs": [],
   "source": [
    "dfw_hnl.to_pickle(\"../../pkl_files/v3_April2024/df_postselect_weight_m\"+str(m)+\"_v3_hnl.pkl\", protocol = 5)"
   ]
  },
  {
   "cell_type": "markdown",
   "metadata": {},
   "source": [
    "<h1>Intime Cosmics</h1>"
   ]
  },
  {
   "cell_type": "code",
   "execution_count": null,
   "metadata": {},
   "outputs": [],
   "source": [
    "cos_path = \"../../pkl_files/v3_April2024/df_postselect_v3_cos.pkl\"\n",
    "\n",
    "file = open(cos_path, 'rb')\n",
    "df_cos = pickle.load(file)\n",
    "file.close\n",
    "del cos_path"
   ]
  },
  {
   "cell_type": "code",
   "execution_count": null,
   "metadata": {},
   "outputs": [],
   "source": [
    "df_cos = df_cos[[\"run\", \"subrun\", \"event\", \"slc_id\", \"scale_pot\", \"mod_t\", 'slc_comp', 'slc_true_event_type']]\n",
    "df_cos"
   ]
  },
  {
   "cell_type": "code",
   "execution_count": null,
   "metadata": {},
   "outputs": [],
   "source": [
    "df_cos.to_pickle(\"../../pkl_files/v3_April2024/df_postselect_weight_v3_cos.pkl\", protocol = 5)"
   ]
  },
  {
   "cell_type": "markdown",
   "metadata": {},
   "source": [
    "<h1> Neutrino </h1>"
   ]
  },
  {
   "cell_type": "code",
   "execution_count": null,
   "metadata": {},
   "outputs": [],
   "source": [
    "nu_path = \"../../pkl_files/v3_April2024/df_postselect_v3_nu.pkl\"\n",
    "\n",
    "file = open(nu_path, 'rb')\n",
    "df_nu = pickle.load(file)\n",
    "file.close\n",
    "del nu_path"
   ]
  },
  {
   "cell_type": "code",
   "execution_count": null,
   "metadata": {},
   "outputs": [],
   "source": [
    "df_nu = df_nu[[\"run\", \"subrun\", \"event\", \"slc_id\", \"scale_pot\", \"mod_t\", 'slc_comp', 'slc_true_event_type']]"
   ]
  },
  {
   "cell_type": "markdown",
   "metadata": {},
   "source": [
    "<h3>Rockbox</h3>"
   ]
  },
  {
   "cell_type": "code",
   "execution_count": null,
   "metadata": {},
   "outputs": [],
   "source": [
    "dfw_nu = pd.DataFrame()\n",
    "\n",
    "print(len(df_nu))\n",
    "\n",
    "for i in range(0, 51):\n",
    "    nu_path = \"../../pkl_files/v3_April2024/rockbox_flxw_{}.pkl\".format(i)\n",
    "    print(nu_path)\n",
    "    \n",
    "    file = open(nu_path, 'rb')\n",
    "    df = pickle.load(file)\n",
    "    \n",
    "    #print(df.columns)\n",
    "    \n",
    "    df = df.merge(df_nu, how='inner', on=['run','subrun','event','slc_id', 'slc_comp'])\n",
    "    print(len(df))\n",
    "    \n",
    "    dfw_nu = pd.concat((dfw_nu, df), ignore_index=True)\n",
    "    file.close()\n",
    "\n",
    "print(len(dfw_nu))"
   ]
  },
  {
   "cell_type": "markdown",
   "metadata": {},
   "source": [
    "<h3> NCPi0 </h3>"
   ]
  },
  {
   "cell_type": "code",
   "execution_count": null,
   "metadata": {},
   "outputs": [],
   "source": [
    "dfw_ncpi0 = pd.DataFrame()\n",
    "\n",
    "print(len(df_nu))\n",
    "\n",
    "for i in range(0, 15):\n",
    "    nu_path = \"../../pkl_files/v3_April2024/ncpi0_flxw_{}.pkl\".format(i)\n",
    "    print(nu_path)\n",
    "    \n",
    "    file = open(nu_path, 'rb')\n",
    "    df = pickle.load(file)\n",
    "    \n",
    "    #print(df.columns)\n",
    "    \n",
    "    df = df.merge(df_nu, how='inner', on=['run','subrun','event','slc_id', 'slc_comp'])\n",
    "    print(len(df))\n",
    "    \n",
    "    dfw_ncpi0 = pd.concat((dfw_ncpi0, df), ignore_index=True)\n",
    "    file.close()\n",
    "\n",
    "print(len(dfw_ncpi0))"
   ]
  },
  {
   "cell_type": "markdown",
   "metadata": {},
   "source": [
    "<h3> CCNue </h3>"
   ]
  },
  {
   "cell_type": "code",
   "execution_count": null,
   "metadata": {},
   "outputs": [],
   "source": [
    "dfw_ccnue = pd.DataFrame()\n",
    "\n",
    "print(len(df_nu))\n",
    "\n",
    "for i in range(0, 4):\n",
    "    nu_path = \"../../pkl_files/v3_April2024/ccnue_flxw_{}.pkl\".format(i)\n",
    "    print(nu_path)\n",
    "    \n",
    "    file = open(nu_path, 'rb')\n",
    "    df = pickle.load(file)\n",
    "    \n",
    "    #print(df.columns)\n",
    "    \n",
    "    df = df.merge(df_nu, how='inner', on=['run','subrun','event','slc_id', 'slc_comp'])\n",
    "    print(len(df))\n",
    "    \n",
    "    dfw_ccnue = pd.concat((dfw_ccnue, df), ignore_index=True)\n",
    "    file.close()\n",
    "    \n",
    "print(len(dfw_ccnue))"
   ]
  },
  {
   "cell_type": "markdown",
   "metadata": {},
   "source": [
    "<h3>Merge</h3>"
   ]
  },
  {
   "cell_type": "code",
   "execution_count": null,
   "metadata": {},
   "outputs": [],
   "source": [
    "dfw_nu_combined = pd.concat([dfw_nu, dfw_ncpi0, dfw_ccnue])\n",
    "print(len(dfw_nu_combined))\n",
    "\n"
   ]
  },
  {
   "cell_type": "code",
   "execution_count": null,
   "metadata": {},
   "outputs": [],
   "source": [
    "dfw_nu = dfw_nu_combined"
   ]
  },
  {
   "cell_type": "code",
   "execution_count": null,
   "metadata": {},
   "outputs": [],
   "source": [
    "dfw_nu.to_pickle(\"../../pkl_files/v3_April2024/df_postselect_weight_v3_nu.pkl\", protocol = 5)"
   ]
  },
  {
   "cell_type": "code",
   "execution_count": null,
   "metadata": {},
   "outputs": [],
   "source": [
    "del dfw_nu\n",
    "del dfw_ncpi0\n",
    "del dfw_ccnue\n",
    "del dfw_nu_combined"
   ]
  },
  {
   "cell_type": "markdown",
   "metadata": {},
   "source": [
    "###### "
   ]
  }
 ],
 "metadata": {
  "kernelspec": {
   "display_name": "Python 3 (ipykernel)",
   "language": "python",
   "name": "python3"
  },
  "language_info": {
   "codemirror_mode": {
    "name": "ipython",
    "version": 3
   },
   "file_extension": ".py",
   "mimetype": "text/x-python",
   "name": "python",
   "nbconvert_exporter": "python",
   "pygments_lexer": "ipython3",
   "version": "3.9.2"
  }
 },
 "nbformat": 4,
 "nbformat_minor": 4
}
