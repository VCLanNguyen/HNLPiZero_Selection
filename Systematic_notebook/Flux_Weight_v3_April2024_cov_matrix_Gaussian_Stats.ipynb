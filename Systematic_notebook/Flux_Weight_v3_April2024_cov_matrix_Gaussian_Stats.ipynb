{
 "cells": [
  {
   "cell_type": "code",
   "execution_count": 1,
   "metadata": {},
   "outputs": [
    {
     "name": "stdout",
     "output_type": "stream",
     "text": [
      "Welcome to JupyROOT 6.24/06\n"
     ]
    }
   ],
   "source": [
    "# Add the relevant scripts from LArMachineLearningData\n",
    "# Nice the process so it can run with lots of cores on low priority\n",
    "import os\n",
    "os.nice(20)\n",
    "\n",
    "# Add local paths\n",
    "import sys\n",
    "hnlDIR = os.environ['_']\n",
    "sys.path.append('../pyscript')\n",
    "\n",
    "# From pyscript Library\n",
    "from Plotting import *\n",
    "from Dictionary import *\n",
    "from HelperFunctions import *\n",
    "from CutFunctions import *\n",
    "from SystematicsHelpers import *\n",
    "\n",
    "import pickle\n",
    "import numpy as np\n",
    "import pandas as pd\n",
    "import matplotlib.pyplot as plt\n",
    "import seaborn as sns\n",
    "from matplotlib import gridspec\n",
    "\n",
    "import warnings\n",
    "warnings.filterwarnings(\"ignore\")"
   ]
  },
  {
   "cell_type": "markdown",
   "metadata": {},
   "source": [
    "<h1>Configuration Stuff Here</h1>"
   ]
  },
  {
   "cell_type": "code",
   "execution_count": 2,
   "metadata": {},
   "outputs": [],
   "source": [
    "m = 240\n",
    "\n",
    "#savePath = \"../plot_files/Systematics/Systematics_1ns_Binning/14April2024_m\"+str(m)+\"_v3_systematics/\"\n",
    "#savePath = \"../plot_files/Systematics/Systematics_Merged_Binning/14April2024_m\"+str(m)+\"_v3_systematics/\"\n",
    "#savePath = \"../plot_files/Systematics/Systematics_Merged_Binning/14April2024_m\"+str(m)+\"_v3_systematics_stats_only/\"\n",
    "#savePath = \"../plot_files/Systematics/Systematics_Merged_Binning_PeakEdge/m\"+str(m)+\"_v3_systematics/\"\n",
    "#savePath = \"../plot_files/Systematics/Systematics_Merged_Binning_PeakEdge_Aggressive/m\"+str(m)+\"_v3_systematics/\"\n",
    "savePath = \"../plot_files/Systematics/Systematics_1ns_Binning_Gaussian_Fit_Bkg/\"\n",
    "suffix = ''"
   ]
  },
  {
   "cell_type": "markdown",
   "metadata": {},
   "source": [
    "<h3>HNL</h3>"
   ]
  },
  {
   "cell_type": "code",
   "execution_count": 3,
   "metadata": {},
   "outputs": [],
   "source": [
    "file = open(\"../pkl_files/v3_April2024/df_postselect_\"+suffix+\"weight_m\"+str(m)+\"_v3_hnl.pkl\", 'rb')\n",
    "df_hnl = pickle.load(file)\n",
    "file.close()"
   ]
  },
  {
   "cell_type": "markdown",
   "metadata": {},
   "source": [
    "<h3>TPC Neutrino</h3>"
   ]
  },
  {
   "cell_type": "code",
   "execution_count": 4,
   "metadata": {},
   "outputs": [],
   "source": [
    "file = open(\"../pkl_files/v3_April2024/df_postselect_\"+suffix+\"weight_v3_nu.pkl\", 'rb')\n",
    "df_nu = pickle.load(file)\n",
    "file.close()"
   ]
  },
  {
   "cell_type": "markdown",
   "metadata": {},
   "source": [
    "<h3>Intime Cosmics</h3>"
   ]
  },
  {
   "cell_type": "code",
   "execution_count": 5,
   "metadata": {},
   "outputs": [
    {
     "name": "stdout",
     "output_type": "stream",
     "text": [
      "Empty DataFrame\n",
      "Columns: [run, subrun, event, slc_id, scale_pot, mod_t, slc_comp, slc_true_event_type]\n",
      "Index: []\n"
     ]
    }
   ],
   "source": [
    "file = open(\"../pkl_files/v3_April2024/df_postselect_\"+suffix+\"weight_v3_cos.pkl\", 'rb')\n",
    "df_cos = pickle.load(file)\n",
    "file.close()\n",
    "\n",
    "#should be empty\n",
    "print(df_cos)"
   ]
  },
  {
   "cell_type": "code",
   "execution_count": 6,
   "metadata": {},
   "outputs": [],
   "source": [
    "df_hnl = df_hnl.reset_index()\n",
    "df_nu = df_nu.reset_index()\n",
    "df_cos = df_cos.reset_index()"
   ]
  },
  {
   "cell_type": "markdown",
   "metadata": {},
   "source": [
    "<h1>Do HNL Scaling</h1>"
   ]
  },
  {
   "cell_type": "code",
   "execution_count": 7,
   "metadata": {},
   "outputs": [
    {
     "data": {
      "text/html": [
       "<div>\n",
       "<style scoped>\n",
       "    .dataframe tbody tr th:only-of-type {\n",
       "        vertical-align: middle;\n",
       "    }\n",
       "\n",
       "    .dataframe tbody tr th {\n",
       "        vertical-align: top;\n",
       "    }\n",
       "\n",
       "    .dataframe thead th {\n",
       "        text-align: right;\n",
       "    }\n",
       "</style>\n",
       "<table border=\"1\" class=\"dataframe\">\n",
       "  <thead>\n",
       "    <tr style=\"text-align: right;\">\n",
       "      <th></th>\n",
       "      <th>index</th>\n",
       "      <th>run</th>\n",
       "      <th>subrun</th>\n",
       "      <th>event</th>\n",
       "      <th>slc_id</th>\n",
       "      <th>slc_comp</th>\n",
       "      <th>slc_flux_weight_total</th>\n",
       "      <th>slc_flux_weight_expskin</th>\n",
       "      <th>slc_flux_weight_horncurrent</th>\n",
       "      <th>slc_flux_weight_kminus</th>\n",
       "      <th>...</th>\n",
       "      <th>slc_flux_weight_piontotxsec</th>\n",
       "      <th>slc_flux_weight_piplus</th>\n",
       "      <th>mod_t</th>\n",
       "      <th>slc_true_event_type</th>\n",
       "      <th>true_counts</th>\n",
       "      <th>start_counts</th>\n",
       "      <th>scale_pot</th>\n",
       "      <th>sim_scale_pot</th>\n",
       "      <th>simU</th>\n",
       "      <th>plotU</th>\n",
       "    </tr>\n",
       "  </thead>\n",
       "  <tbody>\n",
       "    <tr>\n",
       "      <th>0</th>\n",
       "      <td>0</td>\n",
       "      <td>1</td>\n",
       "      <td>509</td>\n",
       "      <td>2</td>\n",
       "      <td>1</td>\n",
       "      <td>0.870061</td>\n",
       "      <td>[0.7891007, 0.80106324, 0.73414683, 0.75027895...</td>\n",
       "      <td>[1.0430418, 0.93060106, 1.0417949, 0.93376696,...</td>\n",
       "      <td>[0.98985463, 1.0045712, 0.9905932, 0.987087, 0...</td>\n",
       "      <td>[1.0, 1.0, 1.0, 1.0, 1.0, 1.0, 1.0, 1.0, 1.0, ...</td>\n",
       "      <td>...</td>\n",
       "      <td>[0.8994923, 0.9506571, 0.9974173, 0.9868151, 0...</td>\n",
       "      <td>[1.0, 1.0, 1.0, 1.0, 1.0, 1.0, 1.0, 1.0, 1.0, ...</td>\n",
       "      <td>15.672038</td>\n",
       "      <td>0</td>\n",
       "      <td>6891.700624</td>\n",
       "      <td>6304.183146</td>\n",
       "      <td>2.468647</td>\n",
       "      <td>0.114862</td>\n",
       "      <td>1.000000e-07</td>\n",
       "      <td>4.635984e-07</td>\n",
       "    </tr>\n",
       "    <tr>\n",
       "      <th>1</th>\n",
       "      <td>1</td>\n",
       "      <td>1</td>\n",
       "      <td>509</td>\n",
       "      <td>9</td>\n",
       "      <td>1</td>\n",
       "      <td>0.873618</td>\n",
       "      <td>[0.97226655, 1.2011784, 0.92824596, 1.3023338,...</td>\n",
       "      <td>[0.9649958, 1.0564394, 0.96600986, 1.0538647, ...</td>\n",
       "      <td>[1.0150442, 1.0124946, 1.013949, 1.0191482, 1....</td>\n",
       "      <td>[1.0, 1.0, 1.0, 1.0, 1.0, 1.0, 1.0, 1.0, 1.0, ...</td>\n",
       "      <td>...</td>\n",
       "      <td>[0.9863928, 0.99331975, 1.0048468, 1.0247427, ...</td>\n",
       "      <td>[1.0, 1.0, 1.0, 1.0, 1.0, 1.0, 1.0, 1.0, 1.0, ...</td>\n",
       "      <td>17.645373</td>\n",
       "      <td>0</td>\n",
       "      <td>6891.700624</td>\n",
       "      <td>6304.183146</td>\n",
       "      <td>2.468647</td>\n",
       "      <td>0.114862</td>\n",
       "      <td>1.000000e-07</td>\n",
       "      <td>4.635984e-07</td>\n",
       "    </tr>\n",
       "    <tr>\n",
       "      <th>2</th>\n",
       "      <td>2</td>\n",
       "      <td>1</td>\n",
       "      <td>509</td>\n",
       "      <td>10</td>\n",
       "      <td>1</td>\n",
       "      <td>0.996486</td>\n",
       "      <td>[0.94260275, 0.9943688, 0.82313716, 0.9570794,...</td>\n",
       "      <td>[0.99701506, 1.0048127, 0.99710155, 1.0045933,...</td>\n",
       "      <td>[0.98256636, 0.97986406, 0.9838354, 0.97781044...</td>\n",
       "      <td>[1.0, 1.0, 1.0, 1.0, 1.0, 1.0, 1.0, 1.0, 1.0, ...</td>\n",
       "      <td>...</td>\n",
       "      <td>[0.9890828, 0.99464035, 0.9963756, 0.9814975, ...</td>\n",
       "      <td>[1.0, 1.0, 1.0, 1.0, 1.0, 1.0, 1.0, 1.0, 1.0, ...</td>\n",
       "      <td>15.013739</td>\n",
       "      <td>0</td>\n",
       "      <td>6891.700624</td>\n",
       "      <td>6304.183146</td>\n",
       "      <td>2.468647</td>\n",
       "      <td>0.114862</td>\n",
       "      <td>1.000000e-07</td>\n",
       "      <td>4.635984e-07</td>\n",
       "    </tr>\n",
       "    <tr>\n",
       "      <th>3</th>\n",
       "      <td>3</td>\n",
       "      <td>1</td>\n",
       "      <td>509</td>\n",
       "      <td>11</td>\n",
       "      <td>1</td>\n",
       "      <td>1.000000</td>\n",
       "      <td>[0.9520352, 1.1412477, 0.93426025, 1.0531377, ...</td>\n",
       "      <td>[1.0032504, 0.9947592, 1.0031562, 0.9949983, 1...</td>\n",
       "      <td>[0.9966951, 0.99555457, 0.99693567, 0.9957935,...</td>\n",
       "      <td>[1.0, 1.0, 1.0, 1.0, 1.0, 1.0, 1.0, 1.0, 1.0, ...</td>\n",
       "      <td>...</td>\n",
       "      <td>[1.0056915, 1.0027941, 0.99695086, 0.98443407,...</td>\n",
       "      <td>[1.0, 1.0, 1.0, 1.0, 1.0, 1.0, 1.0, 1.0, 1.0, ...</td>\n",
       "      <td>2.636859</td>\n",
       "      <td>0</td>\n",
       "      <td>6891.700624</td>\n",
       "      <td>6304.183146</td>\n",
       "      <td>2.468647</td>\n",
       "      <td>0.114862</td>\n",
       "      <td>1.000000e-07</td>\n",
       "      <td>4.635984e-07</td>\n",
       "    </tr>\n",
       "    <tr>\n",
       "      <th>4</th>\n",
       "      <td>4</td>\n",
       "      <td>1</td>\n",
       "      <td>509</td>\n",
       "      <td>20</td>\n",
       "      <td>1</td>\n",
       "      <td>0.925173</td>\n",
       "      <td>[0.92431515, 1.0947038, 0.8893726, 1.1973199, ...</td>\n",
       "      <td>[0.98786855, 1.0195603, 0.98822, 1.0186679, 0....</td>\n",
       "      <td>[1.0000436, 1.0020081, 1.0000405, 1.0000556, 1...</td>\n",
       "      <td>[1.0, 1.0, 1.0, 1.0, 1.0, 1.0, 1.0, 1.0, 1.0, ...</td>\n",
       "      <td>...</td>\n",
       "      <td>[0.98296654, 0.99163765, 0.9999483, 0.99973625...</td>\n",
       "      <td>[1.0, 1.0, 1.0, 1.0, 1.0, 1.0, 1.0, 1.0, 1.0, ...</td>\n",
       "      <td>14.078788</td>\n",
       "      <td>0</td>\n",
       "      <td>6891.700624</td>\n",
       "      <td>6304.183146</td>\n",
       "      <td>2.468647</td>\n",
       "      <td>0.114862</td>\n",
       "      <td>1.000000e-07</td>\n",
       "      <td>4.635984e-07</td>\n",
       "    </tr>\n",
       "    <tr>\n",
       "      <th>...</th>\n",
       "      <td>...</td>\n",
       "      <td>...</td>\n",
       "      <td>...</td>\n",
       "      <td>...</td>\n",
       "      <td>...</td>\n",
       "      <td>...</td>\n",
       "      <td>...</td>\n",
       "      <td>...</td>\n",
       "      <td>...</td>\n",
       "      <td>...</td>\n",
       "      <td>...</td>\n",
       "      <td>...</td>\n",
       "      <td>...</td>\n",
       "      <td>...</td>\n",
       "      <td>...</td>\n",
       "      <td>...</td>\n",
       "      <td>...</td>\n",
       "      <td>...</td>\n",
       "      <td>...</td>\n",
       "      <td>...</td>\n",
       "      <td>...</td>\n",
       "    </tr>\n",
       "    <tr>\n",
       "      <th>17478</th>\n",
       "      <td>17478</td>\n",
       "      <td>1</td>\n",
       "      <td>693</td>\n",
       "      <td>40</td>\n",
       "      <td>1</td>\n",
       "      <td>0.998021</td>\n",
       "      <td>[0.932011, 1.0366764, 0.8265049, 1.048781, 0.9...</td>\n",
       "      <td>[0.99621856, 1.0060971, 0.9963281, 1.0058188, ...</td>\n",
       "      <td>[0.99562967, 1.0053376, 0.9959478, 0.9944374, ...</td>\n",
       "      <td>[1.0, 1.0, 1.0, 1.0, 1.0, 1.0, 1.0, 1.0, 1.0, ...</td>\n",
       "      <td>...</td>\n",
       "      <td>[0.9982688, 0.9991501, 1.0007082, 1.0036155, 1...</td>\n",
       "      <td>[1.0, 1.0, 1.0, 1.0, 1.0, 1.0, 1.0, 1.0, 1.0, ...</td>\n",
       "      <td>8.812932</td>\n",
       "      <td>0</td>\n",
       "      <td>6891.700624</td>\n",
       "      <td>6304.183146</td>\n",
       "      <td>2.468647</td>\n",
       "      <td>0.114862</td>\n",
       "      <td>1.000000e-07</td>\n",
       "      <td>4.635984e-07</td>\n",
       "    </tr>\n",
       "    <tr>\n",
       "      <th>17479</th>\n",
       "      <td>17479</td>\n",
       "      <td>1</td>\n",
       "      <td>693</td>\n",
       "      <td>42</td>\n",
       "      <td>2</td>\n",
       "      <td>0.979434</td>\n",
       "      <td>[1.0795804, 1.0766292, 1.0219676, 1.1739086, 1...</td>\n",
       "      <td>[1.018768, 0.9697394, 1.0182242, 0.9711198, 1....</td>\n",
       "      <td>[0.997255, 1.0128996, 0.9974549, 0.9965062, 0....</td>\n",
       "      <td>[1.0, 1.0, 1.0, 1.0, 1.0, 1.0, 1.0, 1.0, 1.0, ...</td>\n",
       "      <td>...</td>\n",
       "      <td>[0.9936503, 0.99688274, 1.0004765, 1.0024323, ...</td>\n",
       "      <td>[1.0, 1.0, 1.0, 1.0, 1.0, 1.0, 1.0, 1.0, 1.0, ...</td>\n",
       "      <td>4.269136</td>\n",
       "      <td>0</td>\n",
       "      <td>6891.700624</td>\n",
       "      <td>6304.183146</td>\n",
       "      <td>2.468647</td>\n",
       "      <td>0.114862</td>\n",
       "      <td>1.000000e-07</td>\n",
       "      <td>4.635984e-07</td>\n",
       "    </tr>\n",
       "    <tr>\n",
       "      <th>17480</th>\n",
       "      <td>17480</td>\n",
       "      <td>1</td>\n",
       "      <td>693</td>\n",
       "      <td>45</td>\n",
       "      <td>1</td>\n",
       "      <td>0.959830</td>\n",
       "      <td>[0.9458203, 1.1524286, 0.87793326, 1.1252002, ...</td>\n",
       "      <td>[0.9751231, 1.0401106, 0.9758438, 1.0382807, 0...</td>\n",
       "      <td>[0.9993268, 1.0146301, 0.9993758, 0.9991432, 0...</td>\n",
       "      <td>[1.0, 1.0, 1.0, 1.0, 1.0, 1.0, 1.0, 1.0, 1.0, ...</td>\n",
       "      <td>...</td>\n",
       "      <td>[0.99530536, 0.9976952, 0.99921346, 0.99598485...</td>\n",
       "      <td>[1.0, 1.0, 1.0, 1.0, 1.0, 1.0, 1.0, 1.0, 1.0, ...</td>\n",
       "      <td>7.028184</td>\n",
       "      <td>0</td>\n",
       "      <td>6891.700624</td>\n",
       "      <td>6304.183146</td>\n",
       "      <td>2.468647</td>\n",
       "      <td>0.114862</td>\n",
       "      <td>1.000000e-07</td>\n",
       "      <td>4.635984e-07</td>\n",
       "    </tr>\n",
       "    <tr>\n",
       "      <th>17481</th>\n",
       "      <td>17481</td>\n",
       "      <td>1</td>\n",
       "      <td>693</td>\n",
       "      <td>46</td>\n",
       "      <td>0</td>\n",
       "      <td>1.000000</td>\n",
       "      <td>[0.97839874, 0.96437293, 1.0693076, 1.0244967,...</td>\n",
       "      <td>[1.0132631, 0.97861505, 1.0128789, 0.9795906, ...</td>\n",
       "      <td>[0.9950586, 1.0069573, 0.9954183, 0.9937106, 0...</td>\n",
       "      <td>[1.0, 1.0, 1.0, 1.0, 1.0, 1.0, 1.0, 1.0, 1.0, ...</td>\n",
       "      <td>...</td>\n",
       "      <td>[0.98429024, 0.9922875, 1.000632, 1.0032266, 1...</td>\n",
       "      <td>[1.0, 1.0, 1.0, 1.0, 1.0, 1.0, 1.0, 1.0, 1.0, ...</td>\n",
       "      <td>18.769397</td>\n",
       "      <td>0</td>\n",
       "      <td>6891.700624</td>\n",
       "      <td>6304.183146</td>\n",
       "      <td>2.468647</td>\n",
       "      <td>0.114862</td>\n",
       "      <td>1.000000e-07</td>\n",
       "      <td>4.635984e-07</td>\n",
       "    </tr>\n",
       "    <tr>\n",
       "      <th>17482</th>\n",
       "      <td>17482</td>\n",
       "      <td>1</td>\n",
       "      <td>693</td>\n",
       "      <td>47</td>\n",
       "      <td>0</td>\n",
       "      <td>0.985816</td>\n",
       "      <td>[0.9395492, 1.1054775, 0.86418015, 1.160429, 0...</td>\n",
       "      <td>[0.9814675, 1.0298811, 0.98200434, 1.028518, 0...</td>\n",
       "      <td>[0.99267507, 1.0014354, 0.9932083, 0.9906769, ...</td>\n",
       "      <td>[1.0, 1.0, 1.0, 1.0, 1.0, 1.0, 1.0, 1.0, 1.0, ...</td>\n",
       "      <td>...</td>\n",
       "      <td>[0.9921145, 0.99612874, 1.0026405, 1.0134795, ...</td>\n",
       "      <td>[1.0, 1.0, 1.0, 1.0, 1.0, 1.0, 1.0, 1.0, 1.0, ...</td>\n",
       "      <td>10.777527</td>\n",
       "      <td>0</td>\n",
       "      <td>6891.700624</td>\n",
       "      <td>6304.183146</td>\n",
       "      <td>2.468647</td>\n",
       "      <td>0.114862</td>\n",
       "      <td>1.000000e-07</td>\n",
       "      <td>4.635984e-07</td>\n",
       "    </tr>\n",
       "  </tbody>\n",
       "</table>\n",
       "<p>17483 rows × 28 columns</p>\n",
       "</div>"
      ],
      "text/plain": [
       "       index  run  subrun  event  slc_id  slc_comp  \\\n",
       "0          0    1     509      2       1  0.870061   \n",
       "1          1    1     509      9       1  0.873618   \n",
       "2          2    1     509     10       1  0.996486   \n",
       "3          3    1     509     11       1  1.000000   \n",
       "4          4    1     509     20       1  0.925173   \n",
       "...      ...  ...     ...    ...     ...       ...   \n",
       "17478  17478    1     693     40       1  0.998021   \n",
       "17479  17479    1     693     42       2  0.979434   \n",
       "17480  17480    1     693     45       1  0.959830   \n",
       "17481  17481    1     693     46       0  1.000000   \n",
       "17482  17482    1     693     47       0  0.985816   \n",
       "\n",
       "                                   slc_flux_weight_total  \\\n",
       "0      [0.7891007, 0.80106324, 0.73414683, 0.75027895...   \n",
       "1      [0.97226655, 1.2011784, 0.92824596, 1.3023338,...   \n",
       "2      [0.94260275, 0.9943688, 0.82313716, 0.9570794,...   \n",
       "3      [0.9520352, 1.1412477, 0.93426025, 1.0531377, ...   \n",
       "4      [0.92431515, 1.0947038, 0.8893726, 1.1973199, ...   \n",
       "...                                                  ...   \n",
       "17478  [0.932011, 1.0366764, 0.8265049, 1.048781, 0.9...   \n",
       "17479  [1.0795804, 1.0766292, 1.0219676, 1.1739086, 1...   \n",
       "17480  [0.9458203, 1.1524286, 0.87793326, 1.1252002, ...   \n",
       "17481  [0.97839874, 0.96437293, 1.0693076, 1.0244967,...   \n",
       "17482  [0.9395492, 1.1054775, 0.86418015, 1.160429, 0...   \n",
       "\n",
       "                                 slc_flux_weight_expskin  \\\n",
       "0      [1.0430418, 0.93060106, 1.0417949, 0.93376696,...   \n",
       "1      [0.9649958, 1.0564394, 0.96600986, 1.0538647, ...   \n",
       "2      [0.99701506, 1.0048127, 0.99710155, 1.0045933,...   \n",
       "3      [1.0032504, 0.9947592, 1.0031562, 0.9949983, 1...   \n",
       "4      [0.98786855, 1.0195603, 0.98822, 1.0186679, 0....   \n",
       "...                                                  ...   \n",
       "17478  [0.99621856, 1.0060971, 0.9963281, 1.0058188, ...   \n",
       "17479  [1.018768, 0.9697394, 1.0182242, 0.9711198, 1....   \n",
       "17480  [0.9751231, 1.0401106, 0.9758438, 1.0382807, 0...   \n",
       "17481  [1.0132631, 0.97861505, 1.0128789, 0.9795906, ...   \n",
       "17482  [0.9814675, 1.0298811, 0.98200434, 1.028518, 0...   \n",
       "\n",
       "                             slc_flux_weight_horncurrent  \\\n",
       "0      [0.98985463, 1.0045712, 0.9905932, 0.987087, 0...   \n",
       "1      [1.0150442, 1.0124946, 1.013949, 1.0191482, 1....   \n",
       "2      [0.98256636, 0.97986406, 0.9838354, 0.97781044...   \n",
       "3      [0.9966951, 0.99555457, 0.99693567, 0.9957935,...   \n",
       "4      [1.0000436, 1.0020081, 1.0000405, 1.0000556, 1...   \n",
       "...                                                  ...   \n",
       "17478  [0.99562967, 1.0053376, 0.9959478, 0.9944374, ...   \n",
       "17479  [0.997255, 1.0128996, 0.9974549, 0.9965062, 0....   \n",
       "17480  [0.9993268, 1.0146301, 0.9993758, 0.9991432, 0...   \n",
       "17481  [0.9950586, 1.0069573, 0.9954183, 0.9937106, 0...   \n",
       "17482  [0.99267507, 1.0014354, 0.9932083, 0.9906769, ...   \n",
       "\n",
       "                                  slc_flux_weight_kminus  ...  \\\n",
       "0      [1.0, 1.0, 1.0, 1.0, 1.0, 1.0, 1.0, 1.0, 1.0, ...  ...   \n",
       "1      [1.0, 1.0, 1.0, 1.0, 1.0, 1.0, 1.0, 1.0, 1.0, ...  ...   \n",
       "2      [1.0, 1.0, 1.0, 1.0, 1.0, 1.0, 1.0, 1.0, 1.0, ...  ...   \n",
       "3      [1.0, 1.0, 1.0, 1.0, 1.0, 1.0, 1.0, 1.0, 1.0, ...  ...   \n",
       "4      [1.0, 1.0, 1.0, 1.0, 1.0, 1.0, 1.0, 1.0, 1.0, ...  ...   \n",
       "...                                                  ...  ...   \n",
       "17478  [1.0, 1.0, 1.0, 1.0, 1.0, 1.0, 1.0, 1.0, 1.0, ...  ...   \n",
       "17479  [1.0, 1.0, 1.0, 1.0, 1.0, 1.0, 1.0, 1.0, 1.0, ...  ...   \n",
       "17480  [1.0, 1.0, 1.0, 1.0, 1.0, 1.0, 1.0, 1.0, 1.0, ...  ...   \n",
       "17481  [1.0, 1.0, 1.0, 1.0, 1.0, 1.0, 1.0, 1.0, 1.0, ...  ...   \n",
       "17482  [1.0, 1.0, 1.0, 1.0, 1.0, 1.0, 1.0, 1.0, 1.0, ...  ...   \n",
       "\n",
       "                             slc_flux_weight_piontotxsec  \\\n",
       "0      [0.8994923, 0.9506571, 0.9974173, 0.9868151, 0...   \n",
       "1      [0.9863928, 0.99331975, 1.0048468, 1.0247427, ...   \n",
       "2      [0.9890828, 0.99464035, 0.9963756, 0.9814975, ...   \n",
       "3      [1.0056915, 1.0027941, 0.99695086, 0.98443407,...   \n",
       "4      [0.98296654, 0.99163765, 0.9999483, 0.99973625...   \n",
       "...                                                  ...   \n",
       "17478  [0.9982688, 0.9991501, 1.0007082, 1.0036155, 1...   \n",
       "17479  [0.9936503, 0.99688274, 1.0004765, 1.0024323, ...   \n",
       "17480  [0.99530536, 0.9976952, 0.99921346, 0.99598485...   \n",
       "17481  [0.98429024, 0.9922875, 1.000632, 1.0032266, 1...   \n",
       "17482  [0.9921145, 0.99612874, 1.0026405, 1.0134795, ...   \n",
       "\n",
       "                                  slc_flux_weight_piplus      mod_t  \\\n",
       "0      [1.0, 1.0, 1.0, 1.0, 1.0, 1.0, 1.0, 1.0, 1.0, ...  15.672038   \n",
       "1      [1.0, 1.0, 1.0, 1.0, 1.0, 1.0, 1.0, 1.0, 1.0, ...  17.645373   \n",
       "2      [1.0, 1.0, 1.0, 1.0, 1.0, 1.0, 1.0, 1.0, 1.0, ...  15.013739   \n",
       "3      [1.0, 1.0, 1.0, 1.0, 1.0, 1.0, 1.0, 1.0, 1.0, ...   2.636859   \n",
       "4      [1.0, 1.0, 1.0, 1.0, 1.0, 1.0, 1.0, 1.0, 1.0, ...  14.078788   \n",
       "...                                                  ...        ...   \n",
       "17478  [1.0, 1.0, 1.0, 1.0, 1.0, 1.0, 1.0, 1.0, 1.0, ...   8.812932   \n",
       "17479  [1.0, 1.0, 1.0, 1.0, 1.0, 1.0, 1.0, 1.0, 1.0, ...   4.269136   \n",
       "17480  [1.0, 1.0, 1.0, 1.0, 1.0, 1.0, 1.0, 1.0, 1.0, ...   7.028184   \n",
       "17481  [1.0, 1.0, 1.0, 1.0, 1.0, 1.0, 1.0, 1.0, 1.0, ...  18.769397   \n",
       "17482  [1.0, 1.0, 1.0, 1.0, 1.0, 1.0, 1.0, 1.0, 1.0, ...  10.777527   \n",
       "\n",
       "      slc_true_event_type  true_counts start_counts scale_pot sim_scale_pot  \\\n",
       "0                       0  6891.700624  6304.183146  2.468647      0.114862   \n",
       "1                       0  6891.700624  6304.183146  2.468647      0.114862   \n",
       "2                       0  6891.700624  6304.183146  2.468647      0.114862   \n",
       "3                       0  6891.700624  6304.183146  2.468647      0.114862   \n",
       "4                       0  6891.700624  6304.183146  2.468647      0.114862   \n",
       "...                   ...          ...          ...       ...           ...   \n",
       "17478                   0  6891.700624  6304.183146  2.468647      0.114862   \n",
       "17479                   0  6891.700624  6304.183146  2.468647      0.114862   \n",
       "17480                   0  6891.700624  6304.183146  2.468647      0.114862   \n",
       "17481                   0  6891.700624  6304.183146  2.468647      0.114862   \n",
       "17482                   0  6891.700624  6304.183146  2.468647      0.114862   \n",
       "\n",
       "               simU         plotU  \n",
       "0      1.000000e-07  4.635984e-07  \n",
       "1      1.000000e-07  4.635984e-07  \n",
       "2      1.000000e-07  4.635984e-07  \n",
       "3      1.000000e-07  4.635984e-07  \n",
       "4      1.000000e-07  4.635984e-07  \n",
       "...             ...           ...  \n",
       "17478  1.000000e-07  4.635984e-07  \n",
       "17479  1.000000e-07  4.635984e-07  \n",
       "17480  1.000000e-07  4.635984e-07  \n",
       "17481  1.000000e-07  4.635984e-07  \n",
       "17482  1.000000e-07  4.635984e-07  \n",
       "\n",
       "[17483 rows x 28 columns]"
      ]
     },
     "execution_count": 7,
     "metadata": {},
     "output_type": "execute_result"
    }
   ],
   "source": [
    "df_hnl"
   ]
  },
  {
   "cell_type": "code",
   "execution_count": 8,
   "metadata": {},
   "outputs": [
    {
     "name": "stdout",
     "output_type": "stream",
     "text": [
      "Sim U = 1e-07\n",
      "Sim POT scale factor = 0.11486167706709137\n",
      "----------------------------------------------\n",
      "Sim to Plot scale by = 21.49234598021217\n",
      "Plot U = 4.635983820098186e-07\n",
      "Plot POT scale factor = 2.468646903393329\n",
      "----------------------------------------------\n",
      "Sim to Plot scale by = 0.01\n",
      "Fit U = 4.635983820098186e-08\n",
      "Fit POT scale factor = 0.024686469033933293\n"
     ]
    }
   ],
   "source": [
    "true_counts = df_hnl['true_counts'][0] \n",
    "start_counts = df_hnl['true_counts'][0]\n",
    "\n",
    "simU = df_hnl['simU'].unique()[0]\n",
    "plotU = df_hnl['plotU'].unique()[0]\n",
    "\n",
    "scale = (plotU/simU)**2\n",
    "\n",
    "hnl_scale_factor = df_hnl['scale_pot'].unique()[0]\n",
    "sim_hnl_scale_factor = df_hnl['sim_scale_pot'].unique()[0]\n",
    "\n",
    "print(\"Sim U = {}\".format(simU))\n",
    "print(\"Sim POT scale factor = {}\".format(sim_hnl_scale_factor))\n",
    "print(\"----------------------------------------------\")\n",
    "print(\"Sim to Plot scale by = {}\".format(scale))\n",
    "print(\"Plot U = {}\".format(plotU))\n",
    "print(\"Plot POT scale factor = {}\".format(hnl_scale_factor))\n",
    "\n",
    "\n",
    "scale = 1/100\n",
    "hnl_scale_factor = hnl_scale_factor * scale\n",
    "fitU = getUfromScaleFactor(plotU, scale)\n",
    "\n",
    "print(\"----------------------------------------------\")\n",
    "print(\"Sim to Plot scale by = {}\".format(scale))\n",
    "print(\"Fit U = {}\".format(fitU))\n",
    "print(\"Fit POT scale factor = {}\".format(hnl_scale_factor))"
   ]
  },
  {
   "cell_type": "markdown",
   "metadata": {},
   "source": [
    "<h1>Separate Cosmics Sample </h1>"
   ]
  },
  {
   "cell_type": "code",
   "execution_count": 9,
   "metadata": {},
   "outputs": [],
   "source": [
    "df_cos_nu = df_nu[df_nu['slc_true_event_type'] == 9]\n",
    "df_cos_hnl = df_hnl[df_hnl['slc_true_event_type'] == 9]\n",
    "\n",
    "df_nu = df_nu[df_nu['slc_true_event_type'] != 9]\n",
    "df_hnl = df_hnl[df_hnl['slc_true_event_type'] != 9]"
   ]
  },
  {
   "cell_type": "code",
   "execution_count": 10,
   "metadata": {},
   "outputs": [
    {
     "name": "stdout",
     "output_type": "stream",
     "text": [
      "Cosmics #events from Rockbox = 4\n",
      "Cosmics #events from HNL = 29\n",
      "Cosmics #events = 4\n"
     ]
    }
   ],
   "source": [
    "#keep_branches = [ \"run\", \"subrun\", \"event\", \"slc_id\", \"slc_comp\", \"scale_pot\", \"mod_t\"]\n",
    "keep_branches = [ \"scale_pot\", \"mod_t\"]\n",
    "\n",
    "df_cos_nu = df_cos_nu[keep_branches]\n",
    "df_cos_hnl = df_cos_hnl[keep_branches]\n",
    "\n",
    "print(\"Cosmics #events from Rockbox = {}\".format(len(df_cos_nu)))\n",
    "print(\"Cosmics #events from HNL = {}\".format(len(df_cos_hnl)))\n",
    "\n",
    "df_cos = pd.concat([df_cos_nu])#, df_cos_hnl])\n",
    "print(\"Cosmics #events = {}\".format(len(df_cos)))"
   ]
  },
  {
   "cell_type": "markdown",
   "metadata": {},
   "source": [
    "<h3>Rockbox Cosmics</h3>"
   ]
  },
  {
   "cell_type": "code",
   "execution_count": 11,
   "metadata": {},
   "outputs": [
    {
     "name": "stdout",
     "output_type": "stream",
     "text": [
      "[ 0.  1.  2.  3.  4.  5.  6.  7.  8.  9. 10. 11. 12. 13. 14. 15. 16. 17.\n",
      " 18. 19.]\n"
     ]
    }
   ],
   "source": [
    "print(bins)"
   ]
  },
  {
   "cell_type": "code",
   "execution_count": 12,
   "metadata": {},
   "outputs": [
    {
     "name": "stdout",
     "output_type": "stream",
     "text": [
      "[0 0 0 0 0 0 0 0 0 0 0 1 1 1 1 0 0 0 0]\n",
      "4\n",
      "[0.21052632 0.21052632 0.21052632 0.21052632 0.21052632 0.21052632\n",
      " 0.21052632 0.21052632 0.21052632 0.21052632 0.21052632 0.21052632\n",
      " 0.21052632 0.21052632 0.21052632 0.21052632 0.21052632 0.21052632\n",
      " 0.21052632]\n",
      "3.999999999999999\n",
      "[0.21052632 0.21052632 0.21052632 0.21052632 0.21052632 0.21052632\n",
      " 0.21052632 0.21052632 0.21052632 0.21052632 0.21052632 0.21052632\n",
      " 0.21052632 0.21052632 0.21052632 0.21052632 0.21052632 0.21052632\n",
      " 0.21052632]\n",
      "3.999999999999999\n"
     ]
    },
    {
     "data": {
      "image/png": "[encoded data removed]",
      "text/plain": [
       "<Figure size 432x288 with 1 Axes>"
      ]
     },
     "metadata": {
      "needs_background": "light"
     },
     "output_type": "display_data"
    },
    {
     "data": {
      "image/png": "[encoded data removed]",
      "text/plain": [
       "<Figure size 432x288 with 1 Axes>"
      ]
     },
     "metadata": {
      "needs_background": "light"
     },
     "output_type": "display_data"
    },
    {
     "data": {
      "image/png": "[encoded data removed]",
      "text/plain": [
       "<Figure size 432x288 with 1 Axes>"
      ]
     },
     "metadata": {
      "needs_background": "light"
     },
     "output_type": "display_data"
    }
   ],
   "source": [
    "even_bins = [0, 1, 2, 3, 4, 5, 6, 7, 8, 9, 10, 11, 12, 13, 14, 15, 16, 17, 18, 19]\n",
    "even_bins_mid = np.convolve(even_bins, [0.5, 0.5], \"valid\")\n",
    "\n",
    "cos_true =[]\n",
    "cos_true, _ = np.histogram(np.array(df_cos['mod_t']), bins=even_bins)\n",
    "\n",
    "print(cos_true)\n",
    "print(cos_true.sum())\n",
    "\n",
    "#fill bins intergral = number of bins \n",
    "cos_flat = np.array([len(df_cos)/ 19] * 19)\n",
    "print(cos_flat)\n",
    "print(cos_flat.sum())\n",
    "\n",
    "cos_flat_rebin = []\n",
    "\n",
    "#rebin flat distribution into the chosen bins\n",
    "for first, second in zip(bins, bins[1:]):\n",
    "    #print(first, second)\n",
    "    #print(cos_flat[first:second])\n",
    "    first = int(first)\n",
    "    second = int(second)\n",
    "    cos_flat_rebin.append(cos_flat[first:second].sum())   \n",
    "    \n",
    "cos_flat_rebin = np.array(cos_flat_rebin)\n",
    "print(cos_flat_rebin)\n",
    "print(cos_flat_rebin.sum())\n",
    "\n",
    "#=================================================================#\n",
    "fig, ax1 = plt.subplots(1,1, figsize = (6,4))\n",
    "#-----------------------------------------------------------------#\n",
    "ax1.step(even_bins, np.insert(cos_true, 0, 0)\n",
    "         , color = cos_col\n",
    "         , label =  \"True Distribution\"\n",
    ")\n",
    "#-----------------------------------------------------------------#\n",
    "ax1.legend(loc = 'upper left',fontsize = 14)\n",
    "\n",
    "plot_tick(ax1, 16)\n",
    "plot_title(ax1, \"\", 'Opt0 Time Corrected Z % 18.936 [ns]',  \"Slices (No Scaling)\", 16)\n",
    "\n",
    "ax1.set_xlim(xmin, xmax)\n",
    "ax1.set_ylim(0, 2)\n",
    "#-----------------------------------------------------------------#\n",
    "fig.tight_layout()\n",
    "\n",
    "plt.savefig(savePath+\"true_rockbox_cosmics\", dpi=200)\n",
    "plt.show()\n",
    "\n",
    "#=================================================================#\n",
    "fig, ax2 = plt.subplots(1,1, figsize = (6,4))\n",
    "#-----------------------------------------------------------------#\n",
    "ax2.step(even_bins, np.insert(cos_flat, 0, 0)\n",
    "         , color = col_dict[\"Peach\"]\n",
    "         , label =  \"Flattened Distribution\"\n",
    ")\n",
    "#-----------------------------------------------------------------#\n",
    "ax2.legend(loc = 'upper left',fontsize = 14)\n",
    "\n",
    "plot_tick(ax2, 16)\n",
    "plot_title(ax2, \"\", 'Opt0 Time Corrected Z % 18.936 [ns]',  \"Slices (No Scaling)\", 16)\n",
    "\n",
    "ax2.set_xlim(xmin, xmax)\n",
    "ax2.set_ylim(0, 2)\n",
    "#-----------------------------------------------------------------#\n",
    "fig.tight_layout()\n",
    "\n",
    "plt.savefig(savePath+\"flatten_rockbox_cosmics\", dpi=200)\n",
    "plt.show()\n",
    "#=================================================================#\n",
    "fig, ax3 = plt.subplots(1,1, figsize = (6,4))\n",
    "#-----------------------------------------------------------------#\n",
    "ax3.step(bins, np.insert(cos_flat_rebin, 0, 0)\n",
    "         , color = col_dict[\"Teal\"]\n",
    "         , label =  \"Flattened + New Binning Distribution\"\n",
    ")\n",
    "#-----------------------------------------------------------------#\n",
    "ax3.legend(loc = 'upper left',fontsize = 14)\n",
    "\n",
    "plot_tick(ax3, 16)\n",
    "plot_title(ax3, \"\", 'Opt0 Time Corrected Z % 18.936 [ns]',  \"Slices (No Scaling)\", 16)\n",
    "\n",
    "ax3.set_xlim(xmin, xmax)\n",
    "ax3.set_ylim(0, 2)\n",
    "#-----------------------------------------------------------------#\n",
    "fig.tight_layout()\n",
    "\n",
    "plt.savefig(savePath+\"rebin_rockbox_cosmics\", dpi=200)\n",
    "plt.show()"
   ]
  },
  {
   "cell_type": "code",
   "execution_count": 13,
   "metadata": {},
   "outputs": [
    {
     "name": "stdout",
     "output_type": "stream",
     "text": [
      "[0 2 0 0 0 2 3 2 3 0 1 4 1 5 1 0 0 5 0]\n",
      "29\n",
      "[1.52631579 1.52631579 1.52631579 1.52631579 1.52631579 1.52631579\n",
      " 1.52631579 1.52631579 1.52631579 1.52631579 1.52631579 1.52631579\n",
      " 1.52631579 1.52631579 1.52631579 1.52631579 1.52631579 1.52631579\n",
      " 1.52631579]\n",
      "29.000000000000004\n",
      "[1.52631579 1.52631579 1.52631579 1.52631579 1.52631579 1.52631579\n",
      " 1.52631579 1.52631579 1.52631579 1.52631579 1.52631579 1.52631579\n",
      " 1.52631579 1.52631579 1.52631579 1.52631579 1.52631579 1.52631579\n",
      " 1.52631579]\n",
      "29.000000000000004\n"
     ]
    },
    {
     "data": {
      "image/png": "[encoded data removed]",
      "text/plain": [
       "<Figure size 432x288 with 1 Axes>"
      ]
     },
     "metadata": {
      "needs_background": "light"
     },
     "output_type": "display_data"
    }
   ],
   "source": [
    "cos_true_hnl =[]\n",
    "cos_true_hnl, _ = np.histogram(np.array(df_cos_hnl['mod_t']), bins=even_bins)\n",
    "\n",
    "print(cos_true_hnl)\n",
    "print(cos_true_hnl.sum())\n",
    "\n",
    "#fill bins intergral = number of bins \n",
    "cos_flat_hnl = np.array([len(df_cos_hnl)/ 19] * 19)\n",
    "print(cos_flat_hnl)\n",
    "print(cos_flat_hnl.sum())\n",
    "\n",
    "cos_flat_rebin_hnl = []\n",
    "\n",
    "#rebin flat distribution into the chosen bins\n",
    "for first, second in zip(bins, bins[1:]):\n",
    "    first = int(first)\n",
    "    second = int(second)\n",
    "    cos_flat_rebin_hnl.append(cos_flat_hnl[first:second].sum())   \n",
    "    \n",
    "cos_flat_rebin_hnl = np.array(cos_flat_rebin_hnl)\n",
    "print(cos_flat_rebin_hnl)\n",
    "print(cos_flat_rebin_hnl.sum())\n",
    "\n",
    "#=================================================================#\n",
    "\n",
    "fig, ax = plt.subplots(1,1, figsize = (6,4))\n",
    "#-----------------------------------------------------------------#\n",
    "ax.step(even_bins, np.insert(cos_true_hnl, 0, 0)\n",
    "         , color = cos_col\n",
    "         , label =  \"True Cosmics\"\n",
    ")\n",
    "#-----------------------------------------------------------------#\n",
    "ax.step(even_bins, np.insert(cos_flat_hnl, 0, 0)\n",
    "         , color = col_dict[\"Peach\"]\n",
    "         , label =  \"Flat Cosmics\"\n",
    ")\n",
    "#-----------------------------------------------------------------#\n",
    "ax.step(bins, np.insert(cos_flat_rebin_hnl, 0, 0)\n",
    "         , color = col_dict[\"Teal\"]\n",
    "         , label =  \"Rebin Flat Cosmics\"\n",
    ")\n",
    "#-----------------------------------------------------------------#\n",
    "ax.legend(loc = 'upper left',fontsize = 14)\n",
    "\n",
    "plot_tick(ax, 16)\n",
    "plot_title(ax, \"\", 'Opt0 Time Corrected Z % 18.936 [ns]',  \"Slices (No Scaling)\", 16)\n",
    "\n",
    "ax.set_xlim(xmin, xmax)\n",
    "ax.set_ylim(0, 10)\n",
    "#-----------------------------------------------------------------#\n",
    "fig.tight_layout()\n",
    "\n",
    "plt.savefig(savePath+\"_flatten_and_rebin_HNL_cosmics\", dpi=200)\n",
    "plt.show()"
   ]
  },
  {
   "cell_type": "markdown",
   "metadata": {},
   "source": [
    "<h1>Separate Neutrinos sample</h1>"
   ]
  },
  {
   "cell_type": "code",
   "execution_count": 14,
   "metadata": {},
   "outputs": [
    {
     "name": "stdout",
     "output_type": "stream",
     "text": [
      "----------------------------------------------\n",
      "POT scale factor in the array = [ 4.12683467  1.29413675 22.16498266]\n",
      "Rockbox = 22.16498266245211\n",
      "NCPi0 = 4.1268346716793225\n",
      "CCnue = 1.2941367532561456\n",
      "----------------------------------------------\n",
      "total nu #events = 2346\n",
      "rockbox #events = 79\n",
      "ncpi0 #events = 1631\n",
      "ccnue #events = 636\n"
     ]
    }
   ],
   "source": [
    "unique_pot = df_nu['scale_pot'].unique()\n",
    "\n",
    "rockbox_scale_factor = 1\n",
    "ncpi0_scale_factor = 1\n",
    "ccnue_scale_factor = 1\n",
    "\n",
    "for p in unique_pot:\n",
    "    if round(p) == 22:\n",
    "        rockbox_scale_factor = p\n",
    "    if round(p) == 4:\n",
    "        ncpi0_scale_factor = p\n",
    "    if round(p) == 1:\n",
    "        ccnue_scale_factor = p\n",
    "\n",
    "print(\"----------------------------------------------\")\n",
    "print(\"POT scale factor in the array = {}\".format(unique_pot))\n",
    "print(\"Rockbox = {}\".format(rockbox_scale_factor))\n",
    "print(\"NCPi0 = {}\".format(ncpi0_scale_factor))\n",
    "print(\"CCnue = {}\".format(ccnue_scale_factor))\n",
    "        \n",
    "df_nu_rockbox = df_nu[df_nu['scale_pot'] ==  rockbox_scale_factor]\n",
    "df_nu_ncpi0 = df_nu[df_nu['scale_pot'] ==  ncpi0_scale_factor]\n",
    "df_nu_ccnue = df_nu[df_nu['scale_pot'] ==  ccnue_scale_factor]\n",
    "\n",
    "print(\"----------------------------------------------\")\n",
    "print(\"total nu #events = {}\".format(len(df_nu)))\n",
    "print(\"rockbox #events = {}\".format(len(df_nu_rockbox)))\n",
    "print(\"ncpi0 #events = {}\".format(len(df_nu_ncpi0)))\n",
    "print(\"ccnue #events = {}\".format(len(df_nu_ccnue)))"
   ]
  },
  {
   "cell_type": "markdown",
   "metadata": {},
   "source": [
    "<h1> Organise Some Stuff</h1>"
   ]
  },
  {
   "cell_type": "code",
   "execution_count": 15,
   "metadata": {},
   "outputs": [],
   "source": [
    "hnl_dict = {}\n",
    "hnl_cos_dict = {}\n",
    "\n",
    "rockbox_dict = {}\n",
    "ncpi0_dict = {}\n",
    "ccnue_dict = {}\n",
    "\n",
    "cos_dict = {}\n",
    "\n",
    "cos_error_list = ['stat']\n",
    "\n",
    "#hnl_error_list = ['stat', 'flx', 'mistagging']\n",
    "hnl_error_list = ['stat', 'mistagging']\n",
    "\n",
    "#nu_error_list = ['stat', 'flx', 'xsec', 'g4']\n",
    "nu_error_list = ['stat']"
   ]
  },
  {
   "cell_type": "code",
   "execution_count": 16,
   "metadata": {},
   "outputs": [],
   "source": [
    "hnl_label = str(m) + r' MeV HNL $\\nu\\pi^0$' + '\\n' + '|U$_{{\\mu 4}}$|$^{{2}}$ = ' +str(sci_notation(fitU,2,2))\n",
    "nu_label = \"Neutrinos\"\n",
    "rockbox_label = \"Rockbox Neutrinos\"\n",
    "ncpi0_label = r\"NC $\\pi^{0}$\"\n",
    "ccnue_label = r\"CC $\\nu_{e}$\"\n",
    "cos_label = \"Cosmics\""
   ]
  },
  {
   "cell_type": "markdown",
   "metadata": {},
   "source": [
    "<h1>Plot Individual Sample</h1>"
   ]
  },
  {
   "cell_type": "code",
   "execution_count": 17,
   "metadata": {},
   "outputs": [
    {
     "name": "stdout",
     "output_type": "stream",
     "text": [
      "[ 0.  1.  2.  3.  4.  5.  6.  7.  8.  9. 10. 11. 12. 13. 14. 15. 16. 17.\n",
      " 18. 19.]\n"
     ]
    },
    {
     "data": {
      "image/png": "[encoded data removed]",
      "text/plain": [
       "<Figure size 432x288 with 1 Axes>"
      ]
     },
     "metadata": {
      "needs_background": "light"
     },
     "output_type": "display_data"
    }
   ],
   "source": [
    "fig, (ax1) = plt.subplots(1,1, figsize = (6,4))\n",
    "\n",
    "xmin, xmax, xnbin = xmin, xmax, xnbin\n",
    "xlimmin, xlimmax = xmin, xmax\n",
    "print(bins)\n",
    "#-----------------------------------------------------------------#\n",
    "pltdf = df_hnl['mod_t']\n",
    "weights = [hnl_scale_factor]*len(df_hnl['mod_t']) \n",
    "\n",
    "_, _, _ = ax1.hist(\n",
    "                            pltdf,\n",
    "                            bins = bins, \n",
    "                            weights = weights,\n",
    "                            density = False,\n",
    "                            histtype=\"step\",\n",
    "                            edgecolor = hnl_col,\n",
    "                            linestyle = \"-\",\n",
    "                            linewidth = 2,\n",
    "                            label = hnl_label\n",
    "                        )\n",
    "\n",
    "#-----------------------------------------------------------------#\n",
    "ax1.legend(loc = 'upper left',fontsize = 12)\n",
    "plot_tick(ax1, 16)\n",
    "plot_title(ax1, \"\", 'Opt0 Time Corrected Z % 18.936 [ns]',  r\"Slices (1$\\times10^{21}$ POT)\", 16)\n",
    "\n",
    "ax1.set_xlim(xmin, xmax)\n",
    "ax1.set_ylim(1, 100)\n",
    "#-----------------------------------------------------------------#\n",
    "fig.tight_layout()\n",
    "\n",
    "plt.savefig(savePath+str(\"hnl_cv.png\"), dpi=200)\n",
    "    \n",
    "plt.show()"
   ]
  },
  {
   "cell_type": "code",
   "execution_count": 18,
   "metadata": {},
   "outputs": [
    {
     "data": {
      "image/png": "[encoded data removed]",
      "text/plain": [
       "<Figure size 1296x288 with 3 Axes>"
      ]
     },
     "metadata": {
      "needs_background": "light"
     },
     "output_type": "display_data"
    }
   ],
   "source": [
    "fig, (ax1, ax2, ax3) = plt.subplots(1,3, figsize = (18,4))\n",
    "\n",
    "#-----------------------------------------------------------------#\n",
    "pltdf = df_nu_rockbox['mod_t']\n",
    "weights = df_nu_rockbox['scale_pot']\n",
    "_, _, _ = ax1.hist(\n",
    "                            pltdf,\n",
    "                            bins = bins, \n",
    "                            weights = weights,\n",
    "                            density = False,\n",
    "                            histtype=\"step\",\n",
    "                            edgecolor = nu_col,\n",
    "                            linestyle = \"-\",\n",
    "                            linewidth = 2,\n",
    "                            label = rockbox_label\n",
    "                        )\n",
    "#-----------------------------------------------------------------#\n",
    "pltdf = df_nu_ncpi0['mod_t']\n",
    "weights = df_nu_ncpi0['scale_pot']\n",
    "_, _, _ = ax2.hist(\n",
    "                            pltdf,\n",
    "                            bins = bins, \n",
    "                            weights = weights,\n",
    "                            density = False,\n",
    "                            histtype=\"step\",\n",
    "                            edgecolor = nu_col,\n",
    "                            linestyle = \"-\",\n",
    "                            linewidth = 2,\n",
    "                            label = ncpi0_label\n",
    "                        )\n",
    "#-----------------------------------------------------------------#\n",
    "pltdf = df_nu_ccnue['mod_t']\n",
    "weights = df_nu_ccnue['scale_pot']\n",
    "_, _, _ = ax3.hist(\n",
    "                            pltdf,\n",
    "                            bins = bins, \n",
    "                            weights = weights,\n",
    "                            density = False,\n",
    "                            histtype=\"step\",\n",
    "                            edgecolor = nu_col,\n",
    "                            linestyle = \"-\",\n",
    "                            linewidth = 2,\n",
    "                            label = ccnue_label\n",
    "                        )\n",
    "#-----------------------------------------------------------------#\n",
    "ax1.legend(loc = 'upper left',fontsize = 12)\n",
    "plot_tick(ax1, 16)\n",
    "plot_title(ax1, \"\", 'Opt0 Time Corrected Z % 18.936 [ns]',  r\"Slices (1$\\times10^{21}$ POT)\", 16)\n",
    "\n",
    "ax1.set_xlim(xmin, xmax)\n",
    "ax1.set_ylim(1, 600)\n",
    "#-----------------------------------------------------------------#\n",
    "ax2.legend(loc = 'upper left',fontsize = 12)\n",
    "plot_tick(ax2, 16)\n",
    "plot_title(ax2, \"\", 'Opt0 Time Corrected Z % 18.936 [ns]',  r\"Slices (1$\\times10^{21}$ POT)\", 16)\n",
    "\n",
    "ax2.set_xlim(xmin, xmax)\n",
    "ax2.set_ylim(1, 1800)\n",
    "#-----------------------------------------------------------------#\n",
    "ax3.legend(loc = 'upper left',fontsize = 12)\n",
    "plot_tick(ax3, 16)\n",
    "plot_title(ax3, \"\", 'Opt0 Time Corrected Z % 18.936 [ns]',  r\"Slices (1$\\times10^{21}$ POT)\", 16)\n",
    "\n",
    "ax3.set_xlim(xmin, xmax)\n",
    "ax3.set_ylim(1, 200)\n",
    "#-----------------------------------------------------------------#\n",
    "fig.tight_layout()\n",
    "\n",
    "plt.savefig(savePath+str(\"neutrino_cv.png\"), dpi=200)\n",
    "    \n",
    "plt.show()"
   ]
  },
  {
   "cell_type": "code",
   "execution_count": 19,
   "metadata": {},
   "outputs": [
    {
     "data": {
      "image/png": "[encoded data removed]",
      "text/plain": [
       "<Figure size 432x288 with 1 Axes>"
      ]
     },
     "metadata": {
      "needs_background": "light"
     },
     "output_type": "display_data"
    }
   ],
   "source": [
    "fig, ax = plt.subplots(1,1, figsize = (6,4))\n",
    "\n",
    "#-----------------------------------------------------------------#\n",
    "ax.step(bins, np.insert(cos_flat_rebin*rockbox_scale_factor, 0, 0)\n",
    "         , color = cos_col\n",
    "         , label =  \"Cosmics\"\n",
    ")\n",
    "#-----------------------------------------------------------------#\n",
    "ax.legend(loc = 'upper left',fontsize = 14)\n",
    "\n",
    "plot_tick(ax, 16)\n",
    "plot_title(ax, \"\", 'Opt0 Time Corrected Z % 18.936 [ns]',  r\"Slices (1$\\times10^{21}$ POT)\", 16)\n",
    "\n",
    "ax.set_xlim(xmin, xmax)\n",
    "ax.set_ylim(0, 2 * rockbox_scale_factor)\n",
    "#-----------------------------------------------------------------#\n",
    "fig.tight_layout()\n",
    "\n",
    "plt.savefig(savePath+str(\"cosmics_cv.png\"), dpi=200)\n",
    "plt.show()"
   ]
  },
  {
   "cell_type": "markdown",
   "metadata": {},
   "source": [
    "<h1>Plot Overlay Sample</h1>"
   ]
  },
  {
   "cell_type": "code",
   "execution_count": 20,
   "metadata": {},
   "outputs": [
    {
     "name": "stdout",
     "output_type": "stream",
     "text": [
      "----------------------------------------------\n",
      "Sim to Plot scale by = 0.01\n",
      "Fit U = 4.635983820098186e-08\n",
      "Fit POT scale factor = 0.024686469033933293\n"
     ]
    },
    {
     "data": {
      "image/png": "[encoded data removed]",
      "text/plain": [
       "<Figure size 432x288 with 1 Axes>"
      ]
     },
     "metadata": {
      "needs_background": "light"
     },
     "output_type": "display_data"
    }
   ],
   "source": [
    "fig, (ax1) = plt.subplots(1,1, figsize = (6,4))\n",
    "\n",
    "xmin, xmax, xnbin = xmin, xmax, xnbin\n",
    "xlimmin, xlimmax = xmin, xmax\n",
    "#-----------------------------------------------------------------#\n",
    "\n",
    "pltdf = df_nu['mod_t']\n",
    "weights = df_nu['scale_pot']\n",
    "_, _, _ = ax1.hist(\n",
    "                            pltdf,\n",
    "                            bins = bins, \n",
    "                            weights = weights,\n",
    "                            density = False,\n",
    "                            histtype=\"step\",\n",
    "                            edgecolor = nu_col,\n",
    "                            linestyle = \"-\",\n",
    "                            linewidth = 2,\n",
    "                            label = nu_label\n",
    "                        )\n",
    "#-----------------------------------------------------------------#\n",
    "scale_up_just_once = 10\n",
    "\n",
    "hnl_scale_up_just_once = hnl_scale_factor * scale_up_just_once\n",
    "U_scale_up_just_once = getUfromScaleFactor(fitU, scale_up_just_once)\n",
    "\n",
    "print(\"----------------------------------------------\")\n",
    "print(\"Sim to Plot scale by = {}\".format(scale))\n",
    "print(\"Fit U = {}\".format(fitU))\n",
    "print(\"Fit POT scale factor = {}\".format(hnl_scale_factor))\n",
    "\n",
    "this_hnl_label = str(m) + r' MeV HNL $\\nu\\pi^0$' + '\\n' + '|U$_{{\\mu 4}}$|$^{{2}}$ = ' +str(sci_notation(U_scale_up_just_once,2,2))\n",
    "#-----------------------------------------------------------------#\n",
    "pltdf = df_hnl['mod_t']\n",
    "weights = [hnl_scale_factor*scale_up_just_once]*len(df_hnl['mod_t']) \n",
    "\n",
    "_, _, _ = ax1.hist(\n",
    "                            pltdf,\n",
    "                            bins = bins, \n",
    "                            weights = weights,\n",
    "                            density = False,\n",
    "                            histtype=\"step\",\n",
    "                            edgecolor = hnl_col,\n",
    "                            linestyle = \"-\",\n",
    "                            linewidth = 2,\n",
    "                            label = this_hnl_label\n",
    "                        )\n",
    "#-----------------------------------------------------------------#\n",
    "ax1.step(bins, np.insert(cos_flat_rebin*rockbox_scale_factor, 0, 0)\n",
    "         , color = cos_col\n",
    "         , label =  \"Cosmics\"\n",
    ")\n",
    "#-----------------------------------------------------------------#\n",
    "\n",
    "plot_tick(ax1, 16)\n",
    "plot_title(ax1, \"\", 'Opt0 Time Corrected Z % 18.936 [ns]',  r\"Slices (1$\\times10^{21}$ POT)\", 16)\n",
    "\n",
    "ax1.set_xlim(xmin, xmax)\n",
    "ax1.set_ylim(1, 3000)\n",
    "\n",
    "handles, labels = plt.gca().get_legend_handles_labels()\n",
    "handles[-1] =extra = Rectangle((0, 0), 0.1, 0.1, fc=\"w\", fill=False, edgecolor=cos_col, linewidth=2.0)\n",
    "\n",
    "ax1.legend(handles, labels, loc = 'upper right',fontsize = 12)\n",
    "#ax1.set_yscale('log')\n",
    "#ax1.set_ylim(1, 1000000)\n",
    "#-----------------------------------------------------------------#\n",
    "fig.tight_layout()\n",
    "\n",
    "plt.savefig(savePath+str(\"signal_bkg_overlay_cv.png\"), dpi=200)\n",
    "    \n",
    "plt.show()"
   ]
  },
  {
   "cell_type": "markdown",
   "metadata": {},
   "source": [
    "<h1>HNL</h1>"
   ]
  },
  {
   "cell_type": "markdown",
   "metadata": {},
   "source": [
    "<h3>Statistics</h3>"
   ]
  },
  {
   "cell_type": "code",
   "execution_count": null,
   "metadata": {},
   "outputs": [],
   "source": [
    "#bin it\n",
    "hnl_cv, _ = np.histogram(np.array(df_hnl['mod_t']), bins = bins)\n",
    "\n",
    "#No Scale\n",
    "print(\"\\nprescale: entries per bin\")\n",
    "print(hnl_cv)\n",
    "\n",
    "#Make covariance matrix\n",
    "hnl_stat_cov = np.diag(hnl_cv) #[some NxN covariance matrix e.g. np.diag(cv) for statistical]\n",
    "hnl_stat_err = np.sqrt(np.diag(hnl_stat_cov))\n",
    "\n",
    "print(\"\\n stat err\")\n",
    "print(hnl_stat_err)\n",
    "\n",
    "#save in dictionary\n",
    "hnl_cv_plot = np.insert(hnl_cv, 0, 0)\n",
    "\n",
    "hnl_dict['cv'] = hnl_cv\n",
    "hnl_dict['cv_plot'] = hnl_cv_plot\n",
    "\n",
    "hnl_dict['stat_cov'] = hnl_stat_cov\n",
    "hnl_dict['stat_err'] = hnl_stat_err\n",
    "\n",
    "#plot and save\n",
    "plot_hatchy_hatch(hnl_dict, hnl_label, \"hnl\", \"stat_err\")\n",
    "\n",
    "plt.savefig(savePath+str(\"hnl_statistics_error.png\"), dpi=200)\n",
    "    \n",
    "plt.show()"
   ]
  },
  {
   "cell_type": "markdown",
   "metadata": {},
   "source": [
    "<h3>Flux</h3>"
   ]
  },
  {
   "cell_type": "code",
   "execution_count": null,
   "metadata": {},
   "outputs": [],
   "source": [
    "#Make covariance matrix per variable\n",
    "hnl_flx_cov_array =loopy_loop_multisim_universe(flux_list, flux_name, 1000, df_hnl, hnl_dict, 'hnl', savePath)\n",
    "\n",
    "#Add them together\n",
    "hnl_flx_cov = new_empty_cov()\n",
    "\n",
    "for cov in hnl_flx_cov_array:\n",
    "    hnl_flx_cov = hnl_flx_cov + cov\n",
    "    \n",
    "hnl_flx_err = np.sqrt(np.diag(hnl_flx_cov))\n",
    "\n",
    "#save in dictionary\n",
    "hnl_dict['flx_cov'] = hnl_flx_cov\n",
    "hnl_dict['flx_err'] = hnl_flx_err\n",
    "\n",
    "#plot it\n",
    "plot_hatchy_hatch(hnl_dict, hnl_label, \"hnl\", \"flx_err\")\n",
    "\n",
    "plt.savefig(savePath+str(\"hnl_flux_error.png\"), dpi=200)\n",
    "    \n",
    "plt.show()"
   ]
  },
  {
   "cell_type": "markdown",
   "metadata": {},
   "source": [
    "<h3>Cosmics As Mistagging Events</h3>"
   ]
  },
  {
   "cell_type": "code",
   "execution_count": null,
   "metadata": {},
   "outputs": [],
   "source": [
    "#Make covariance matrix\n",
    "hnl_mistagging_cov = np.outer(cos_flat_rebin_hnl, cos_flat_rebin_hnl)\n",
    "hnl_mistagging_err = np.sqrt(np.diag(hnl_mistagging_cov))\n",
    "\n",
    "print(\"\\n Mistagging err\")\n",
    "print(hnl_mistagging_err)\n",
    "\n",
    "#save in dictionary\n",
    "hnl_dict['mistagging_cov'] = hnl_mistagging_cov\n",
    "hnl_dict['mistagging_err'] = hnl_mistagging_err\n",
    "\n",
    "#plot it\n",
    "plot_hatchy_hatch(hnl_dict, hnl_label, \"hnl\", \"mistagging_err\")\n",
    "\n",
    "plt.savefig(savePath+str(\"hnl_mistagging_error.png\"), dpi=200)\n",
    "    \n",
    "plt.show()"
   ]
  },
  {
   "cell_type": "markdown",
   "metadata": {},
   "source": [
    "<h3>Combine Errors</h3>"
   ]
  },
  {
   "cell_type": "code",
   "execution_count": null,
   "metadata": {},
   "outputs": [],
   "source": [
    "combine_error(hnl_dict, hnl_error_list)\n",
    "\n",
    "#plot it\n",
    "plot_combine_err(hnl_dict, \"hnl\", hnl_label, hnl_error_list)\n",
    "\n",
    "plt.savefig(savePath+str(\"hnl_beam_bucket_combined_covariance.png\"), dpi=200)\n",
    "    \n",
    "plt.show()"
   ]
  },
  {
   "cell_type": "markdown",
   "metadata": {},
   "source": [
    "<h3>Scale To POT AND Umu Coupling</h3>"
   ]
  },
  {
   "cell_type": "code",
   "execution_count": null,
   "metadata": {},
   "outputs": [],
   "source": [
    "scale_cov_matrix(hnl_dict, hnl_scale_factor, hnl_error_list)"
   ]
  },
  {
   "cell_type": "code",
   "execution_count": null,
   "metadata": {},
   "outputs": [],
   "source": [
    "plot_combine_err(hnl_dict, \"hnl\", hnl_label, hnl_error_list\n",
    "                  , ifScale = True , scaleYmax = hnl_scale_factor, suffix = '_scale')\n",
    "\n",
    "plt.savefig(savePath+str(\"hnl_beam_bucket_combined_covariance_scaled.png\"), dpi=200)\n",
    "    \n",
    "plt.show()"
   ]
  },
  {
   "cell_type": "markdown",
   "metadata": {},
   "source": [
    "<h1>Rockbox Neutrino</h1>"
   ]
  },
  {
   "cell_type": "markdown",
   "metadata": {},
   "source": [
    "<h3>Statistics</h3>"
   ]
  },
  {
   "cell_type": "code",
   "execution_count": 22,
   "metadata": {},
   "outputs": [
    {
     "name": "stdout",
     "output_type": "stream",
     "text": [
      "\n",
      "prescale: entries per bin\n",
      "[ 0  1  0  0  2  2 12 10 16 18  7  6  4  0  1  0  0  0  0]\n"
     ]
    },
    {
     "data": {
      "image/png": "[encoded data removed]",
      "text/plain": [
       "<Figure size 432x288 with 1 Axes>"
      ]
     },
     "metadata": {
      "needs_background": "light"
     },
     "output_type": "display_data"
    }
   ],
   "source": [
    "#bin it\n",
    "rockbox_cv, _ = np.histogram(np.array(df_nu_rockbox['mod_t']), bins = bins)\n",
    "\n",
    "rockbox_dict['cv'] = rockbox_cv\n",
    "rockbox_dict['cv_plot'] =  np.insert(rockbox_cv, 0, 0)\n",
    "\n",
    "rockbox_dict['stat_cov'] = np.diag(rockbox_cv) #[some NxN covariance matrix e.g. np.diag(cv) for statistical]\n",
    "rockbox_dict['stat_err'] = np.sqrt(np.diag(rockbox_dict['stat_cov']))\n",
    "\n",
    "#No Scale\n",
    "print(\"\\nprescale: entries per bin\")\n",
    "print(rockbox_dict['cv'] )\n",
    "\n",
    "#===========================================================================#\n",
    "\n",
    "#plot and save\n",
    "plot_hatchy_hatch(rockbox_dict, rockbox_label, \"rockbox\", \"stat_err\")\n",
    "\n",
    "plt.savefig(savePath+str(\"rockbox_stats_error.png\"), dpi=200)\n",
    "    \n",
    "plt.show()"
   ]
  },
  {
   "cell_type": "markdown",
   "metadata": {},
   "source": [
    "<h3>Flux</h3>"
   ]
  },
  {
   "cell_type": "code",
   "execution_count": null,
   "metadata": {},
   "outputs": [],
   "source": [
    "rockbox_flx_cov_array =loopy_loop_multisim_universe(flux_list, flux_name, 1000\n",
    "                                                    , df_nu_rockbox, rockbox_dict, 'rockbox'\n",
    "                                                    , savePath)\n",
    "\n",
    "#Add them together\n",
    "rockbox_flx_cov = new_empty_cov()\n",
    "\n",
    "for cov in rockbox_flx_cov_array:\n",
    "    rockbox_flx_cov = rockbox_flx_cov + cov\n",
    "    \n",
    "rockbox_flx_err = np.sqrt(np.diag(rockbox_flx_cov))\n",
    "\n",
    "rockbox_dict['flx_cov'] = rockbox_flx_cov\n",
    "rockbox_dict['flx_err'] = rockbox_flx_err\n",
    "\n",
    "#plot it\n",
    "\n",
    "plot_hatchy_hatch(rockbox_dict, rockbox_label, \"rockbox\", \"flx_err\")\n",
    "\n",
    "plt.savefig(savePath+str(\"rockbox_flux_error.png\"), dpi=200)\n",
    "    \n",
    "plt.show()"
   ]
  },
  {
   "cell_type": "markdown",
   "metadata": {},
   "source": [
    "<h3>Cross-Section: UniSim</h3>"
   ]
  },
  {
   "cell_type": "code",
   "execution_count": null,
   "metadata": {},
   "outputs": [],
   "source": [
    "for name in unisim_list:\n",
    "    df_nu_rockbox[name] = df_nu_rockbox[name].apply(lambda row: check_unisim(row))"
   ]
  },
  {
   "cell_type": "code",
   "execution_count": null,
   "metadata": {},
   "outputs": [],
   "source": [
    "rockbox_unisim_cov_array = loopy_loop_unisim(df_nu_rockbox, rockbox_dict, \"rockbox\", savePath)"
   ]
  },
  {
   "cell_type": "markdown",
   "metadata": {},
   "source": [
    "<h3>Cross-Section: Multi-Sigma</h3>"
   ]
  },
  {
   "cell_type": "code",
   "execution_count": null,
   "metadata": {},
   "outputs": [],
   "source": [
    "#make a random gaussian gun\n",
    "mu, sigma = 0, 1 # mean and standard deviation\n",
    "n_univ = len(df_nu['slc_xsec_multisim_total'][0])\n",
    "\n",
    "random_arr = np.random.normal(mu, sigma, n_univ)\n",
    "len_univ = np.arange(0, n_univ)\n",
    "plt.hist(random_arr)"
   ]
  },
  {
   "cell_type": "code",
   "execution_count": null,
   "metadata": {},
   "outputs": [],
   "source": [
    "rockbox_multisigma_cov_arr = loopy_loop_multisigma(multisigma_list, multisigma_list, random_arr\n",
    "                                                   , df_nu_rockbox, rockbox_dict, \"rockbox\"\n",
    "                                                   , savePath\n",
    "                                                  )"
   ]
  },
  {
   "cell_type": "markdown",
   "metadata": {},
   "source": [
    "<h3>Cross-Section: Multi-Sim</h3>"
   ]
  },
  {
   "cell_type": "code",
   "execution_count": null,
   "metadata": {},
   "outputs": [],
   "source": [
    "rockbox_multisim_cov_array =loopy_loop_multisim_universe(multisim_list, multisim_list, 500\n",
    "                                                         , df_nu_rockbox, rockbox_dict, 'rockbox'\n",
    "                                                         , savePath\n",
    "                                                        )"
   ]
  },
  {
   "cell_type": "markdown",
   "metadata": {},
   "source": [
    "<h3>Cross-Section: Combined</h3>"
   ]
  },
  {
   "cell_type": "code",
   "execution_count": null,
   "metadata": {},
   "outputs": [],
   "source": [
    "print(len(rockbox_unisim_cov_array))\n",
    "print(len(rockbox_multisigma_cov_arr))\n",
    "print(len(rockbox_multisim_cov_array))\n",
    "\n",
    "rockbox_xsec_cov_array = rockbox_unisim_cov_array + rockbox_multisigma_cov_arr + rockbox_multisim_cov_array\n",
    "print(len(rockbox_xsec_cov_array))\n",
    "\n",
    "rockbox_xsec_cov = new_empty_cov()\n",
    "\n",
    "for cov in rockbox_xsec_cov_array:\n",
    "    rockbox_xsec_cov = rockbox_xsec_cov + cov\n",
    "    \n",
    "rockbox_xsec_err = np.sqrt(np.diag(rockbox_xsec_cov))\n",
    "\n",
    "rockbox_dict['xsec_cov'] = rockbox_xsec_cov\n",
    "rockbox_dict['xsec_err'] = rockbox_xsec_err"
   ]
  },
  {
   "cell_type": "code",
   "execution_count": null,
   "metadata": {},
   "outputs": [],
   "source": [
    "plot_hatchy_hatch(rockbox_dict, rockbox_label, \"rockbox\", \"xsec_err\")\n",
    "\n",
    "plt.savefig(savePath+str(\"rockbox_xsec_error.png\"), dpi=200)\n",
    "    \n",
    "plt.show()"
   ]
  },
  {
   "cell_type": "markdown",
   "metadata": {},
   "source": [
    "<h3>Geant4 Re-Interactions</h3>"
   ]
  },
  {
   "cell_type": "code",
   "execution_count": null,
   "metadata": {},
   "outputs": [],
   "source": [
    "rockbox_g4_cov = loopy_loop_multisim_universe(g4_list, g4_name, 1000, df_nu_rockbox, rockbox_dict, \"rockbox\", savePath)\n",
    "rockbox_g4_cov = rockbox_g4_cov[0]\n",
    "\n",
    "rockbox_g4_err = np.sqrt(np.diag(rockbox_g4_cov))\n",
    "\n",
    "#save it\n",
    "rockbox_dict['g4_cov'] = rockbox_g4_cov\n",
    "rockbox_dict['g4_err'] = rockbox_g4_err\n",
    "print(rockbox_g4_err)\n",
    "\n",
    "#plot it\n",
    "plot_hatchy_hatch(rockbox_dict, rockbox_label, \"rockbox\", \"g4_err\")\n",
    "\n",
    "plt.savefig(savePath+str(\"rockbox_g4_error.png\"), dpi=200)\n",
    "    \n",
    "plt.show()"
   ]
  },
  {
   "cell_type": "markdown",
   "metadata": {},
   "source": [
    "<h3> Combine Errors </h3>"
   ]
  },
  {
   "cell_type": "code",
   "execution_count": 23,
   "metadata": {},
   "outputs": [
    {
     "data": {
      "image/png": "[encoded data removed]",
      "text/plain": [
       "<Figure size 432x432 with 2 Axes>"
      ]
     },
     "metadata": {
      "needs_background": "light"
     },
     "output_type": "display_data"
    }
   ],
   "source": [
    "combine_error(rockbox_dict, nu_error_list)\n",
    "\n",
    "#plot it\n",
    "plot_combine_err(rockbox_dict, \"rockbox\", rockbox_label, nu_error_list, ifStatOnly = True)\n",
    "\n",
    "plt.savefig(savePath+str(\"rockbox_beam_bucket_combined_covariance.png\"), dpi=200)\n",
    "    \n",
    "plt.show()"
   ]
  },
  {
   "cell_type": "markdown",
   "metadata": {},
   "source": [
    "<h3> Scale to POT </h3>"
   ]
  },
  {
   "cell_type": "code",
   "execution_count": 24,
   "metadata": {},
   "outputs": [
    {
     "name": "stdout",
     "output_type": "stream",
     "text": [
      "22.16498266245211\n"
     ]
    },
    {
     "data": {
      "image/png": "[encoded data removed]",
      "text/plain": [
       "<Figure size 432x432 with 2 Axes>"
      ]
     },
     "metadata": {
      "needs_background": "light"
     },
     "output_type": "display_data"
    }
   ],
   "source": [
    "print(rockbox_scale_factor)\n",
    "\n",
    "scale_cov_matrix(rockbox_dict, rockbox_scale_factor, nu_error_list)\n",
    "\n",
    "#plot it\n",
    "plot_combine_err(rockbox_dict, \"rockbox\", rockbox_label, nu_error_list\n",
    "                  , ifScale = True , scaleYmax = rockbox_scale_factor, suffix ='_scale', ifStatOnly = True)\n",
    "\n",
    "plt.savefig(savePath+str(\"rockbox_beam_bucket_combined_covariance_scaked.png\"), dpi=200)\n",
    "    \n",
    "plt.show()"
   ]
  },
  {
   "cell_type": "markdown",
   "metadata": {},
   "source": [
    "<h1>NCPi0</h1>"
   ]
  },
  {
   "cell_type": "markdown",
   "metadata": {},
   "source": [
    "<h3>Statistics</h3>"
   ]
  },
  {
   "cell_type": "code",
   "execution_count": 25,
   "metadata": {},
   "outputs": [
    {
     "name": "stdout",
     "output_type": "stream",
     "text": [
      "\n",
      "prescale: entries per bin\n",
      "[  0   0   3   3  30  76 143 240 321 304 256 132  70  20  16   6   5   5\n",
      "   1]\n"
     ]
    },
    {
     "data": {
      "image/png": "[encoded data removed]",
      "text/plain": [
       "<Figure size 432x288 with 1 Axes>"
      ]
     },
     "metadata": {
      "needs_background": "light"
     },
     "output_type": "display_data"
    }
   ],
   "source": [
    "#bin it\n",
    "ncpi0_cv, _ = np.histogram(np.array(df_nu_ncpi0['mod_t']), bins = bins)\n",
    "\n",
    "ncpi0_dict['cv'] = ncpi0_cv\n",
    "ncpi0_dict['cv_plot'] =  np.insert(ncpi0_cv, 0, 0)\n",
    "\n",
    "ncpi0_dict['stat_cov'] = np.diag(ncpi0_cv) #[some NxN covariance matrix e.g. np.diag(cv) for statistical]\n",
    "ncpi0_dict['stat_err'] = np.sqrt(np.diag(ncpi0_dict['stat_cov']))\n",
    "\n",
    "#No Scale\n",
    "print(\"\\nprescale: entries per bin\")\n",
    "print(ncpi0_dict['cv'] )\n",
    "\n",
    "#===========================================================================#\n",
    "\n",
    "#plot and save\n",
    "plot_hatchy_hatch(ncpi0_dict, ncpi0_label, \"ncpi0\", \"stat_err\")\n",
    "\n",
    "plt.savefig(savePath+str(\"ncpi0_stats_error.png\"), dpi=200)\n",
    "\n",
    "plt.show()                                                                                                                                "
   ]
  },
  {
   "cell_type": "markdown",
   "metadata": {},
   "source": [
    "<h3>Flux</h3>"
   ]
  },
  {
   "cell_type": "code",
   "execution_count": null,
   "metadata": {},
   "outputs": [],
   "source": [
    "ncpi0_flx_cov_array =loopy_loop_multisim_universe(flux_list, flux_name, 1000, df_nu_ncpi0, ncpi0_dict, 'ncpi0', savePath)\n",
    "\n",
    "#add cov matrix\n",
    "ncpi0_flx_cov = new_empty_cov()\n",
    "\n",
    "for cov in ncpi0_flx_cov_array:\n",
    "    ncpi0_flx_cov = ncpi0_flx_cov + cov\n",
    "    \n",
    "ncpi0_flx_err = np.sqrt(np.diag(ncpi0_flx_cov))\n",
    "\n",
    "ncpi0_dict['flx_cov'] = ncpi0_flx_cov\n",
    "ncpi0_dict['flx_err'] = ncpi0_flx_err\n",
    "\n",
    "#plot it\n",
    "\n",
    "plot_hatchy_hatch(ncpi0_dict, ncpi0_label, \"ncpi0\", \"flx_err\")\n",
    "\n",
    "plt.savefig(savePath+str(\"ncpi0_flx_err.png\"), dpi=200)"
   ]
  },
  {
   "cell_type": "markdown",
   "metadata": {},
   "source": [
    "<h3>Cross-Section: UniSim</h3>"
   ]
  },
  {
   "cell_type": "code",
   "execution_count": null,
   "metadata": {},
   "outputs": [],
   "source": [
    "for name in unisim_list:\n",
    "    \n",
    "    df_nu_ncpi0[name] = df_nu_ncpi0[name].apply(lambda row: check_unisim(row))"
   ]
  },
  {
   "cell_type": "code",
   "execution_count": null,
   "metadata": {},
   "outputs": [],
   "source": [
    "ncpi0_unisim_cov_array = loopy_loop_unisim(df_nu_ncpi0, ncpi0_dict, \"ncpi0\", savePath)"
   ]
  },
  {
   "cell_type": "markdown",
   "metadata": {},
   "source": [
    "<h3>Cross-Section: Multi-Sigma</h3>"
   ]
  },
  {
   "cell_type": "code",
   "execution_count": null,
   "metadata": {},
   "outputs": [],
   "source": [
    "ncpi0_multisigma_cov_arr = loopy_loop_multisigma(multisigma_list, multisigma_list, random_arr\n",
    "                                                 , df_nu_ncpi0, ncpi0_dict, \"ncpi0\"\n",
    "                                                 , savePath\n",
    "                                                )"
   ]
  },
  {
   "cell_type": "markdown",
   "metadata": {},
   "source": [
    "<h3>Cross-Section: Multi-Sim</h3>"
   ]
  },
  {
   "cell_type": "code",
   "execution_count": null,
   "metadata": {},
   "outputs": [],
   "source": [
    "ncpi0_multisim_cov_array =loopy_loop_multisim_universe(multisim_list, multisim_list, 500\n",
    "                                                       , df_nu_ncpi0, ncpi0_dict, 'ncpi0'\n",
    "                                                       , savePath\n",
    "                                                      )"
   ]
  },
  {
   "cell_type": "markdown",
   "metadata": {},
   "source": [
    "<h3>Cross-Section: Combined</h3>"
   ]
  },
  {
   "cell_type": "code",
   "execution_count": null,
   "metadata": {},
   "outputs": [],
   "source": [
    "print(len(ncpi0_unisim_cov_array))\n",
    "print(len(ncpi0_multisigma_cov_arr))\n",
    "print(len(ncpi0_multisim_cov_array))\n",
    "\n",
    "ncpi0_xsec_cov_array = ncpi0_unisim_cov_array  + ncpi0_multisigma_cov_arr + ncpi0_multisim_cov_array\n",
    "print(len(ncpi0_xsec_cov_array))\n",
    "\n",
    "ncpi0_xsec_cov = new_empty_cov()\n",
    "\n",
    "for cov in ncpi0_xsec_cov_array:\n",
    "    ncpi0_xsec_cov = ncpi0_xsec_cov + cov\n",
    "    \n",
    "ncpi0_xsec_err = np.sqrt(np.diag(ncpi0_xsec_cov))\n",
    "\n",
    "ncpi0_dict['xsec_cov'] = ncpi0_xsec_cov\n",
    "ncpi0_dict['xsec_err'] = ncpi0_xsec_err\n",
    "\n",
    "print(ncpi0_xsec_err)\n",
    "\n",
    "#plot it\n",
    "plot_hatchy_hatch(ncpi0_dict, ncpi0_label, \"ncpi0\", \"xsec_err\")\n",
    "\n",
    "plt.savefig(savePath+str(\"ncpi0_xsec_err.png\"), dpi=200)"
   ]
  },
  {
   "cell_type": "markdown",
   "metadata": {},
   "source": [
    "<h3>Geant4 Re-Interactions</h3>"
   ]
  },
  {
   "cell_type": "code",
   "execution_count": null,
   "metadata": {},
   "outputs": [],
   "source": [
    "ncpi0_g4_cov = loopy_loop_multisim_universe(g4_list, g4_name, 1000, df_nu_ncpi0, ncpi0_dict, \"ncpi0\", savePath)\n",
    "ncpi0_g4_cov = ncpi0_g4_cov[0]\n",
    "\n",
    "ncpi0_g4_err = np.sqrt(np.diag(ncpi0_g4_cov))\n",
    "\n",
    "ncpi0_dict['g4_cov'] = ncpi0_g4_cov\n",
    "ncpi0_dict['g4_err'] = ncpi0_g4_err\n",
    "print(ncpi0_g4_err)\n",
    "\n",
    "#plot it\n",
    "plot_hatchy_hatch(ncpi0_dict, ncpi0_label, \"ncpi0\", \"g4_err\")\n",
    "\n",
    "plt.savefig(savePath+str(\"ncpi0_g4_error.png\"), dpi=200)\n",
    "    \n",
    "plt.show()"
   ]
  },
  {
   "cell_type": "markdown",
   "metadata": {},
   "source": [
    "<h3>Combine Errors</h3>"
   ]
  },
  {
   "cell_type": "code",
   "execution_count": 26,
   "metadata": {},
   "outputs": [
    {
     "data": {
      "image/png": "[encoded data removed]",
      "text/plain": [
       "<Figure size 432x432 with 2 Axes>"
      ]
     },
     "metadata": {
      "needs_background": "light"
     },
     "output_type": "display_data"
    }
   ],
   "source": [
    "combine_error(ncpi0_dict, nu_error_list)\n",
    "\n",
    "#plot it\n",
    "plot_combine_err(ncpi0_dict, \"ncpi0\", ncpi0_label, nu_error_list, ifStatOnly = True)\n",
    "\n",
    "plt.savefig(savePath+str(\"ncpi0_beam_bucket_combined_covariance.png\"), dpi=200)\n",
    "    \n",
    "plt.show()"
   ]
  },
  {
   "cell_type": "markdown",
   "metadata": {},
   "source": [
    "<h3>Scale to POT </h3>"
   ]
  },
  {
   "cell_type": "code",
   "execution_count": 27,
   "metadata": {},
   "outputs": [
    {
     "name": "stdout",
     "output_type": "stream",
     "text": [
      "4.1268346716793225\n"
     ]
    },
    {
     "data": {
      "image/png": "[encoded data removed]",
      "text/plain": [
       "<Figure size 432x432 with 2 Axes>"
      ]
     },
     "metadata": {
      "needs_background": "light"
     },
     "output_type": "display_data"
    }
   ],
   "source": [
    "print(ncpi0_scale_factor)\n",
    "\n",
    "scale_cov_matrix(ncpi0_dict, ncpi0_scale_factor, nu_error_list)\n",
    "\n",
    "#plot it\n",
    "plot_combine_err(ncpi0_dict, \"ncpi0\", ncpi0_label, nu_error_list\n",
    "                 , ifScale = True, scaleYmax = ncpi0_scale_factor, suffix ='_scale', ifStatOnly = True)\n",
    "\n",
    "plt.savefig(savePath+str(\"ncpi0_beam_bucket_combined_covariance_scaked.png\"), dpi=200)\n",
    "    \n",
    "plt.show()"
   ]
  },
  {
   "cell_type": "markdown",
   "metadata": {},
   "source": [
    "<h1>CCNue</h1>"
   ]
  },
  {
   "cell_type": "markdown",
   "metadata": {},
   "source": [
    "<h3>Statistics</h3>"
   ]
  },
  {
   "cell_type": "code",
   "execution_count": 28,
   "metadata": {},
   "outputs": [
    {
     "name": "stdout",
     "output_type": "stream",
     "text": [
      "\n",
      "prescale: entries per bin\n",
      "[  1   1   0   1   4  10  27  56  95 109  94 111  61  37  21   4   3   0\n",
      "   1]\n"
     ]
    },
    {
     "data": {
      "image/png": "[encoded data removed]",
      "text/plain": [
       "<Figure size 432x288 with 1 Axes>"
      ]
     },
     "metadata": {
      "needs_background": "light"
     },
     "output_type": "display_data"
    }
   ],
   "source": [
    "#bin it\n",
    "ccnue_cv, _ = np.histogram(np.array(df_nu_ccnue['mod_t']), bins = bins)\n",
    "\n",
    "ccnue_dict['cv'] = ccnue_cv\n",
    "ccnue_dict['cv_plot'] =  np.insert(ccnue_cv, 0, 0)\n",
    "\n",
    "ccnue_dict['stat_cov'] = np.diag(ccnue_cv) #[some NxN covariance matrix e.g. np.diag(cv) for statistical]\n",
    "ccnue_dict['stat_err'] = np.sqrt(np.diag(ccnue_dict['stat_cov']))\n",
    "\n",
    "#No Scale\n",
    "print(\"\\nprescale: entries per bin\")\n",
    "print(ccnue_dict['cv'] )\n",
    "\n",
    "#===========================================================================#\n",
    "\n",
    "#plot and save\n",
    "plot_hatchy_hatch(ccnue_dict, ccnue_label, \"ccnue\", \"stat_err\")\n",
    "\n",
    "plt.savefig(savePath+str(\"ccnue_stats_error.png\"), dpi=200)\n",
    "\n",
    "plt.show()"
   ]
  },
  {
   "cell_type": "markdown",
   "metadata": {},
   "source": [
    "<h3>Flux</h3>"
   ]
  },
  {
   "cell_type": "code",
   "execution_count": null,
   "metadata": {},
   "outputs": [],
   "source": [
    "ccnue_flx_cov_array =loopy_loop_multisim_universe(flux_list, flux_name, 1000, df_nu_ccnue, ccnue_dict, 'ccnue', savePath)\n",
    "\n",
    "#add cov matrix\n",
    "ccnue_flx_cov = new_empty_cov()\n",
    "\n",
    "for cov in ccnue_flx_cov_array:\n",
    "    ccnue_flx_cov = ccnue_flx_cov + cov\n",
    "    \n",
    "ccnue_flx_err = np.sqrt(np.diag(ccnue_flx_cov))\n",
    "\n",
    "ccnue_dict['flx_cov'] = ccnue_flx_cov\n",
    "ccnue_dict['flx_err'] = ccnue_flx_err\n",
    "\n",
    "#plot it\n",
    "\n",
    "plot_hatchy_hatch(ccnue_dict, ccnue_label, \"ccnue\", \"flx_err\")\n",
    "\n",
    "plt.savefig(savePath+str(\"ccnue_flx_err.png\"), dpi=200)\n"
   ]
  },
  {
   "cell_type": "markdown",
   "metadata": {},
   "source": [
    "<h3>Cross-Section: Unisim</h3>"
   ]
  },
  {
   "cell_type": "code",
   "execution_count": null,
   "metadata": {},
   "outputs": [],
   "source": [
    "for name in unisim_list:\n",
    "    \n",
    "    df_nu_ccnue[name] = df_nu_ccnue[name].apply(lambda row: check_unisim(row))"
   ]
  },
  {
   "cell_type": "code",
   "execution_count": null,
   "metadata": {},
   "outputs": [],
   "source": [
    "ccnue_unisim_cov_array = loopy_loop_unisim(df_nu_ccnue, ccnue_dict, \"ccnue\", savePath)"
   ]
  },
  {
   "cell_type": "markdown",
   "metadata": {},
   "source": [
    "<h3>Cross-Section: Multi-Sigma</h3>"
   ]
  },
  {
   "cell_type": "code",
   "execution_count": null,
   "metadata": {},
   "outputs": [],
   "source": [
    "ccnue_multisigma_cov_arr = loopy_loop_multisigma(multisigma_list, multisigma_list, random_arr\n",
    "                                                 , df_nu_ccnue, ccnue_dict, \"ccnue\"\n",
    "                                                 , savePath\n",
    "                                                )"
   ]
  },
  {
   "cell_type": "markdown",
   "metadata": {},
   "source": [
    "<h3>Cross-Section: Multi-Sim</h3>"
   ]
  },
  {
   "cell_type": "code",
   "execution_count": null,
   "metadata": {},
   "outputs": [],
   "source": [
    "ccnue_multisim_cov_array =loopy_loop_multisim_universe(multisim_list, multisim_list, 500\n",
    "                                                       , df_nu_ccnue, ccnue_dict, 'ccnue'\n",
    "                                                       , savePath\n",
    "                                                      )"
   ]
  },
  {
   "cell_type": "markdown",
   "metadata": {},
   "source": [
    "<h3>Cross-Section: Combined</h3>"
   ]
  },
  {
   "cell_type": "code",
   "execution_count": null,
   "metadata": {},
   "outputs": [],
   "source": [
    "print(len(ccnue_unisim_cov_array))\n",
    "print(len(ccnue_multisigma_cov_arr))\n",
    "print(len(ccnue_multisim_cov_array))\n",
    "\n",
    "ccnue_xsec_cov_array = ccnue_unisim_cov_array  + ccnue_multisigma_cov_arr + ccnue_multisim_cov_array\n",
    "print(len(ccnue_xsec_cov_array))\n",
    "\n",
    "ccnue_xsec_cov = new_empty_cov()\n",
    "\n",
    "for cov in ccnue_xsec_cov_array:\n",
    "    ccnue_xsec_cov = ccnue_xsec_cov + cov\n",
    "    \n",
    "ccnue_xsec_err = np.sqrt(np.diag(ccnue_xsec_cov))\n",
    "\n",
    "ccnue_dict['xsec_cov'] = ccnue_xsec_cov\n",
    "ccnue_dict['xsec_err'] = ccnue_xsec_err\n",
    "\n",
    "print(ccnue_xsec_err)\n",
    "\n",
    "#plot it\n",
    "plot_hatchy_hatch(ccnue_dict, ccnue_label, \"ccnue\", \"xsec_err\")\n",
    "\n",
    "plt.savefig(savePath+str(\"ccnue_xsec_err.png\"), dpi=200)\n"
   ]
  },
  {
   "cell_type": "markdown",
   "metadata": {},
   "source": [
    "<h3>Geant4 Re-Interactions</h3>"
   ]
  },
  {
   "cell_type": "code",
   "execution_count": null,
   "metadata": {},
   "outputs": [],
   "source": [
    "ccnue_g4_cov = loopy_loop_multisim_universe(g4_list, g4_name, 1000, df_nu_ccnue, ccnue_dict, \"ccnue\", savePath)\n",
    "ccnue_g4_cov = ccnue_g4_cov[0]\n",
    "\n",
    "ccnue_g4_err = np.sqrt(np.diag(ccnue_g4_cov))\n",
    "\n",
    "ccnue_dict['g4_cov'] = ccnue_g4_cov\n",
    "ccnue_dict['g4_err'] = ccnue_g4_err\n",
    "print(ccnue_g4_err)\n",
    "\n",
    "#plot it\n",
    "plot_hatchy_hatch(ccnue_dict, ccnue_label, \"ccnue\", \"g4_err\")\n",
    "\n",
    "plt.savefig(savePath+str(\"ccnue_g4_error.png\"), dpi=200)\n",
    "    \n",
    "plt.show()\n"
   ]
  },
  {
   "cell_type": "markdown",
   "metadata": {},
   "source": [
    "<h3>Combine Errors</h3>"
   ]
  },
  {
   "cell_type": "code",
   "execution_count": 29,
   "metadata": {},
   "outputs": [
    {
     "data": {
      "image/png": "[encoded data removed]",
      "text/plain": [
       "<Figure size 432x432 with 2 Axes>"
      ]
     },
     "metadata": {
      "needs_background": "light"
     },
     "output_type": "display_data"
    }
   ],
   "source": [
    "combine_error(ccnue_dict, nu_error_list)\n",
    "\n",
    "#plot it\n",
    "plot_combine_err(ccnue_dict, \"ccnue\", ccnue_label, nu_error_list, ifStatOnly = True)\n",
    "\n",
    "plt.savefig(savePath+str(\"ccnue_beam_bucket_combined_covariance.png\"), dpi=200)\n",
    "    \n",
    "plt.show()"
   ]
  },
  {
   "cell_type": "markdown",
   "metadata": {},
   "source": [
    "<h3>Scale to POT </h3>"
   ]
  },
  {
   "cell_type": "code",
   "execution_count": 30,
   "metadata": {},
   "outputs": [
    {
     "name": "stdout",
     "output_type": "stream",
     "text": [
      "1.2941367532561456\n"
     ]
    },
    {
     "data": {
      "image/png": "[encoded data removed]",
      "text/plain": [
       "<Figure size 432x432 with 2 Axes>"
      ]
     },
     "metadata": {
      "needs_background": "light"
     },
     "output_type": "display_data"
    }
   ],
   "source": [
    "print(ccnue_scale_factor)\n",
    "\n",
    "scale_cov_matrix(ccnue_dict, ccnue_scale_factor, nu_error_list)\n",
    "\n",
    "#plot it\n",
    "plot_combine_err(ccnue_dict, \"ccnue\", ccnue_label, nu_error_list\n",
    "                 , ifScale = True, scaleYmax = ccnue_scale_factor, suffix ='_scale', ifStatOnly = True)\n",
    "\n",
    "plt.savefig(savePath+str(\"ccnue_beam_bucket_combined_covariance_scaked.png\"), dpi=200)\n",
    "    \n",
    "plt.show()"
   ]
  },
  {
   "cell_type": "markdown",
   "metadata": {},
   "source": [
    "<h1>Fuse Neutrino Background Into One Please</h1>"
   ]
  },
  {
   "cell_type": "code",
   "execution_count": 78,
   "metadata": {},
   "outputs": [],
   "source": [
    "nu_dict_list = [rockbox_dict, ncpi0_dict, ccnue_dict]"
   ]
  },
  {
   "cell_type": "code",
   "execution_count": 79,
   "metadata": {},
   "outputs": [],
   "source": [
    "nu_dict = {}\n",
    "\n",
    "nu_dict['cv_scale'] = np.array([0]*(len(bins)-1))\n",
    "nu_dict['cv_plot_scale'] = np.array([0]*(len(bins)))\n",
    "\n",
    "for d in nu_dict_list:\n",
    "    nu_dict['cv_scale'] = nu_dict['cv_scale'] + d['cv_scale']\n",
    "    nu_dict['cv_plot_scale'] = nu_dict['cv_plot_scale'] + d['cv_plot_scale']"
   ]
  },
  {
   "cell_type": "code",
   "execution_count": 80,
   "metadata": {},
   "outputs": [],
   "source": [
    "fill_nan_plz(rockbox_dict)\n",
    "fill_nan_plz(ncpi0_dict)\n",
    "fill_nan_plz(ccnue_dict)"
   ]
  },
  {
   "cell_type": "code",
   "execution_count": 81,
   "metadata": {},
   "outputs": [
    {
     "name": "stdout",
     "output_type": "stream",
     "text": [
      "stat\n"
     ]
    }
   ],
   "source": [
    "nu_dict['combined_cov_scale'] = new_empty_cov()\n",
    "\n",
    "for err in nu_error_list:\n",
    "    print(err)\n",
    "    nu_dict[err+'_cov_scale'] = new_empty_cov()\n",
    "    \n",
    "    for d in nu_dict_list:\n",
    "        nu_dict[err+'_cov_scale'] = nu_dict[err+'_cov_scale'] + d[err+'_cov_scale']\n",
    "    \n",
    "    nu_dict[err+'_err_scale'] = np.sqrt(np.diag(nu_dict[err+'_cov_scale']))\n",
    "    \n",
    "    nu_dict[err+'_cov_frac_scale'] = nu_dict[err+'_cov_scale'] / np.outer(nu_dict['cv_scale'], nu_dict['cv_scale'])\n",
    "    nu_dict[err+'_frac_err_scale'] = np.sqrt(np.diag(nu_dict[err+'_cov_frac_scale']))\n",
    "        \n",
    "    nu_dict['combined_cov_scale'] = nu_dict['combined_cov_scale'] + nu_dict[err+'_cov_scale']\n",
    "    \n",
    "nu_dict['combined_err_scale'] = np.sqrt(np.diag( nu_dict['combined_cov_scale']))\n",
    "    \n",
    "nu_dict['combined_cov_frac_scale'] = nu_dict['combined_cov_scale'] / np.outer(nu_dict['cv_scale'], nu_dict['cv_scale'])\n",
    "nu_dict['combined_frac_err_scale'] = np.sqrt(np.diag(nu_dict['combined_cov_frac_scale']))"
   ]
  },
  {
   "cell_type": "code",
   "execution_count": 91,
   "metadata": {},
   "outputs": [
    {
     "data": {
      "image/png": "[encoded data removed]",
      "text/plain": [
       "<Figure size 432x432 with 2 Axes>"
      ]
     },
     "metadata": {
      "needs_background": "light"
     },
     "output_type": "display_data"
    }
   ],
   "source": [
    "plot_combine_err(nu_dict, \"nu\", \"Neutrinos\", nu_error_list\n",
    "                  , ifScale = True, suffix = '_scale', scaleYmax = 0.7, scaleY2max = 3, ifStatOnly = True)\n",
    "\n",
    "plt.savefig(savePath+str(\"combined_neutrino_beam_bucket_combined_covariance_scaled.png\"), dpi=200)\n",
    "    \n",
    "plt.show()"
   ]
  },
  {
   "cell_type": "markdown",
   "metadata": {},
   "source": [
    "<h1>Fit Gaussian To Distribution</h1>"
   ]
  },
  {
   "cell_type": "code",
   "execution_count": 83,
   "metadata": {},
   "outputs": [],
   "source": [
    "half_width = 18.936 /2 \n",
    "\n",
    "def gaus_fixedmean(X, A, sigma, C):\n",
    "    return A * np.exp( -( X - half_width )**2 / ( 2 * sigma**2 ) ) + C"
   ]
  },
  {
   "cell_type": "code",
   "execution_count": 84,
   "metadata": {},
   "outputs": [
    {
     "name": "stdout",
     "output_type": "stream",
     "text": [
      "Best fit parameters:\n",
      "A = (1.75+/-0.10)e+03\n",
      "sigma = 2.05+/-0.15\n",
      "constant = (1+/-5)e+01\n"
     ]
    },
    {
     "data": {
      "image/png": "[encoded data removed]",
      "text/plain": [
       "<Figure size 432x288 with 1 Axes>"
      ]
     },
     "metadata": {
      "needs_background": "light"
     },
     "output_type": "display_data"
    }
   ],
   "source": [
    "from scipy.optimize import curve_fit \n",
    "from uncertainties import ufloat\n",
    "\n",
    "x_data = bins_mid\n",
    "y_data = nu_dict['cv_scale']\n",
    "\n",
    "prediction = [max(y_data), 1.308,  0]\n",
    "\n",
    "lower_bound = [-np.inf,-np.inf, 0]\n",
    "\n",
    "upper_bound = [np.inf, np.inf, np.inf]\n",
    "\n",
    "param_bounds=(lower_bound, upper_bound)\n",
    "\n",
    "parameters, covar = curve_fit(gaus_fixedmean, x_data, y_data, p0 = prediction, bounds=param_bounds) \n",
    "sigma_parameters = np.sqrt(np.diagonal(covar))\n",
    "\n",
    "# an easy way to properly format parameter errors\n",
    "\n",
    "fitA = ufloat(parameters[0], sigma_parameters[0])\n",
    "fitSigma = ufloat(parameters[1], sigma_parameters[1])\n",
    "fitC = ufloat(parameters[2], sigma_parameters[2])\n",
    "text_res = \"Best fit parameters:\\nA = {}\\nsigma = {}\\nconstant = {}\".format(fitA, fitSigma, fitC)\n",
    "print(text_res)\n",
    "\n",
    "plt.scatter(x_data, y_data, facecolor = 'silver',\n",
    "            edgecolor = 'k', s = 10, alpha = 1)\n",
    "\n",
    "# plotting the model\n",
    "#hires_x = np.linspace(0, 19, 100)\n",
    "hires_x = x_data\n",
    "\n",
    "\n",
    "predict = gaus_fixedmean(hires_x, *parameters)\n",
    "bound_upper = gaus_fixedmean(hires_x, *(parameters + sigma_parameters))\n",
    "bound_lower = gaus_fixedmean(hires_x, *(parameters - sigma_parameters))\n",
    "plt.plot(hires_x, predict, 'black')\n",
    "# plotting the confidence intervals\n",
    "plt.fill_between(hires_x, bound_lower, bound_upper,\n",
    "                 color = 'black', alpha = 0.15)\n",
    "plt.text(0, 1500, text_res)\n",
    "#plt.ylim(0, 100)\n",
    "\n",
    "plt.savefig(savePath+str(\"Gaussian_Fit_Bkg.png\"), dpi=200)\n",
    "    \n",
    "plt.show()"
   ]
  },
  {
   "cell_type": "code",
   "execution_count": 87,
   "metadata": {},
   "outputs": [
    {
     "name": "stdout",
     "output_type": "stream",
     "text": [
      "[ 0.5  1.5  2.5  3.5  4.5  5.5  6.5  7.5  8.5  9.5 10.5 11.5 12.5 13.5\n",
      " 14.5 15.5 16.5 17.5 18.5]\n",
      "[1.29413675e+00 2.34591194e+01 1.23805040e+01 1.36746408e+01\n",
      " 1.73311552e+02 3.70910768e+02 8.91058842e+02 1.28456181e+03\n",
      " 1.80229664e+03 1.79458833e+03 1.33327341e+03 8.21381252e+02\n",
      " 4.56480700e+02 1.30419753e+02 1.15371209e+02 2.99375550e+01\n",
      " 2.45165836e+01 2.06341734e+01 5.42097142e+00]\n"
     ]
    }
   ],
   "source": [
    "print(x_data)\n",
    "print(y_data)"
   ]
  },
  {
   "cell_type": "code",
   "execution_count": 88,
   "metadata": {},
   "outputs": [
    {
     "data": {
      "text/plain": [
       "array([3.32501082, 3.24018611, 2.76188584, 1.74679564, 0.92537788,\n",
       "       0.50071757, 0.28246724, 0.1629934 , 0.10154228, 0.08315971,\n",
       "       0.10409854, 0.16865223, 0.29280489, 0.51998452, 0.96414748,\n",
       "       1.81370693, 2.81263123, 3.25235902, 3.32622488])"
      ]
     },
     "execution_count": 88,
     "metadata": {},
     "output_type": "execute_result"
    }
   ],
   "source": [
    "(bound_upper - predict) / predict"
   ]
  },
  {
   "cell_type": "code",
   "execution_count": 89,
   "metadata": {},
   "outputs": [
    {
     "name": "stdout",
     "output_type": "stream",
     "text": [
      "[  65.07409308   67.25370671   76.94376233  111.46967536  209.46959161\n",
      "  428.9198019   809.95154288 1305.11058313 1744.16691907 1914.51002338\n",
      " 1722.12509465 1272.76461035  780.99038333  410.1689527   200.2107\n",
      "  107.8991668    75.8547608    66.98901896   65.02257478]\n",
      "[ -34.74948846  -34.51078102  -32.70780548  -22.50070783   20.55821871\n",
      "  154.62050544  457.43507044  936.47026958 1420.36588396 1620.53333381\n",
      " 1394.94337251  902.82980876  432.08520391  141.7277458    15.89058935\n",
      "  -23.73247056  -32.94776185  -34.54554997  -34.75325395]\n"
     ]
    }
   ],
   "source": [
    "print(bound_upper)\n",
    "print(bound_lower)"
   ]
  },
  {
   "cell_type": "code",
   "execution_count": 90,
   "metadata": {},
   "outputs": [],
   "source": [
    "nu_dict['cv_scale'] = predict\n",
    "nu_dict['cv_plot_scale'] = np.insert(predict, 0, 0)\n",
    "nu_dict['stat_err'] = bound_upper - predict\n",
    "nu_dict['stat_err_scale'] = bound_upper - predict\n",
    "nu_dict['stat_frac_err_scale'] = nu_dict['stat_err'] / nu_dict['cv_scale']"
   ]
  },
  {
   "cell_type": "markdown",
   "metadata": {},
   "source": [
    "<h1> Cosmics </h1>"
   ]
  },
  {
   "cell_type": "markdown",
   "metadata": {},
   "source": [
    "<h3>Statistics</h3>"
   ]
  },
  {
   "cell_type": "code",
   "execution_count": null,
   "metadata": {},
   "outputs": [],
   "source": [
    "print(cos_flat_rebin)\n",
    "\n",
    "cos_dict['cv'] = cos_flat_rebin\n",
    "cos_dict['cv_plot'] = np.insert(cos_dict['cv'], 0, 0)\n",
    "\n",
    "#This is the smart way\n",
    "cos_stat_cov = np.diag(cos_flat_rebin) #[some NxN covariance matrix e.g. np.diag(cv) for statistical]\n",
    "cos_stat_err = np.sqrt(np.diag(cos_stat_cov))\n",
    "\n",
    "print(\"\\n stat err\")\n",
    "print(cos_stat_err)\n",
    "\n",
    "cos_dict['stat_cov'] = cos_stat_cov\n",
    "cos_dict['stat_err'] = cos_stat_err\n",
    "\n",
    "#plot it\n",
    "plot_hatchy_hatch(cos_dict, \"Cosmics\", \"cos\", \"stat_err\")\n",
    "\n",
    "plt.savefig(savePath+str(\"cosmic_stat_err.png\"), dpi=200)"
   ]
  },
  {
   "cell_type": "markdown",
   "metadata": {},
   "source": [
    "<h3>Scale to POT to Rockbox Number </h3>"
   ]
  },
  {
   "cell_type": "code",
   "execution_count": null,
   "metadata": {},
   "outputs": [],
   "source": [
    "combine_error(cos_dict, cos_error_list)\n",
    "\n",
    "scale_cov_matrix(cos_dict, rockbox_scale_factor, cos_error_list)"
   ]
  },
  {
   "cell_type": "code",
   "execution_count": null,
   "metadata": {},
   "outputs": [],
   "source": [
    "plot_combine_err(cos_dict, \"cos\", cos_label, cos_error_list, ifScale = True, scaleYmax = 25, suffix = '_scale', ifStatOnly = True)\n",
    "\n",
    "plt.savefig(savePath+str(\"combined_cosmics_err_scaled.png\"), dpi=200)"
   ]
  },
  {
   "cell_type": "markdown",
   "metadata": {},
   "source": [
    "<h1>Fuse Neutrino and Cosmics Into A Single Background</h1>"
   ]
  },
  {
   "cell_type": "code",
   "execution_count": null,
   "metadata": {},
   "outputs": [],
   "source": [
    "fill_nan_plz(cos_dict)\n",
    "fill_nan_plz(nu_dict)"
   ]
  },
  {
   "cell_type": "code",
   "execution_count": null,
   "metadata": {},
   "outputs": [],
   "source": [
    "suffix = '1ns_bin_peak_edge_aggressive'"
   ]
  },
  {
   "cell_type": "code",
   "execution_count": null,
   "metadata": {},
   "outputs": [],
   "source": [
    "bkg_dict = {}\n",
    "\n",
    "#combine cv\n",
    "bkg_dict['cv_scale'] = nu_dict['cv_scale'] + cos_dict['cv_scale'] \n",
    "bkg_dict['cv_plot_scale'] = nu_dict['cv_plot_scale'] + cos_dict['cv_plot_scale'] \n",
    "\n",
    "#combine stat errors\n",
    "bkg_dict['stat_cov_scale'] = nu_dict['stat_cov_scale'] + cos_dict['stat_cov_scale']\n",
    "\n",
    "bkg_dict['stat_err_scale'] = np.sqrt(np.diag(bkg_dict['stat_cov_scale']))\n",
    "\n",
    "bkg_dict['stat_cov_frac_scale'] = bkg_dict['stat_cov_scale'] / np.outer(bkg_dict['cv_scale'], bkg_dict['cv_scale'])\n",
    "bkg_dict['stat_frac_err_scale'] = np.sqrt(np.diag(bkg_dict['stat_cov_frac_scale']))\n",
    "\n",
    "#flux / xsec / g4 are taken directly from neutrino samples\n",
    "\n",
    "bkg_dict['flx_err_scale'] = nu_dict['flx_frac_err_scale']\n",
    "bkg_dict['xsec_err_scale'] = nu_dict['xsec_frac_err_scale']\n",
    "bkg_dict['g4_err_scale'] = nu_dict['g4_frac_err_scale']\n",
    "\n",
    "bkg_dict['flx_frac_err_scale'] = nu_dict['flx_frac_err_scale']\n",
    "bkg_dict['xsec_frac_err_scale'] = nu_dict['xsec_frac_err_scale']\n",
    "bkg_dict['g4_frac_err_scale'] = nu_dict['g4_frac_err_scale']\n",
    "\n",
    "#quadrature sum each uncertainty\n",
    "bkg_dict['combined_err_scale'] = np.array([0]*(len(bins)-1))\n",
    "bkg_dict['combined_frac_err_scale'] = np.array([0]*(len(bins)-1))\n",
    "\n",
    "for err in nu_error_list:\n",
    "    print(err)\n",
    "    bkg_dict['combined_err_scale'] = bkg_dict['combined_err_scale'] + bkg_dict[err+'_err_scale']**2\n",
    "    bkg_dict['combined_frac_err_scale'] = bkg_dict['combined_frac_err_scale'] + + bkg_dict[err+'_frac_err_scale']**2\n",
    "    \n",
    "bkg_dict['combined_err_scale'] = np.sqrt(bkg_dict['combined_err_scale'])\n",
    "bkg_dict['combined_frac_err_scale'] = np.sqrt(bkg_dict['combined_frac_err_scale'])"
   ]
  },
  {
   "cell_type": "code",
   "execution_count": null,
   "metadata": {},
   "outputs": [],
   "source": [
    "plot_combine_err(bkg_dict, \"nu\", \"Neutrino + Cosmic Background\"\n",
    "                 , nu_error_list\n",
    "                 , ifScale = True, scaleYmax = 1, suffix = '_scale', ifStatOnly =True)\n",
    "\n",
    "plt.savefig(savePath+str(\"full_background_err.png\"), dpi=200)"
   ]
  },
  {
   "cell_type": "markdown",
   "metadata": {},
   "source": [
    "<h1>Save HNL </h1>"
   ]
  },
  {
   "cell_type": "code",
   "execution_count": null,
   "metadata": {},
   "outputs": [],
   "source": [
    "hnl_dict_save = {}"
   ]
  },
  {
   "cell_type": "code",
   "execution_count": null,
   "metadata": {},
   "outputs": [],
   "source": [
    "hnl_dict_save['U'] = fitU\n",
    "\n",
    "hnl_dict_save['m'] = m\n",
    "\n",
    "hnl_dict_save['signal'] = hnl_dict['cv_scale'].tolist()\n",
    "\n",
    "hnl_dict_save['stat_err'] = hnl_dict['stat_err_scale'].tolist()\n",
    "\n",
    "hnl_dict_save['flx_err'] = hnl_dict['flx_err_scale'].tolist()\n",
    "\n",
    "hnl_dict_save['mistagging_err'] = hnl_dict['mistagging_err_scale'].tolist()\n",
    "\n",
    "hnl_dict_save['combined_err'] = hnl_dict['combined_err_scale'].tolist()"
   ]
  },
  {
   "cell_type": "code",
   "execution_count": null,
   "metadata": {},
   "outputs": [],
   "source": [
    "for k,v in zip(hnl_dict_save.keys(), hnl_dict_save.values()):\n",
    "    print(k, v)"
   ]
  },
  {
   "cell_type": "code",
   "execution_count": null,
   "metadata": {},
   "outputs": [],
   "source": [
    "np.save(\"../pkl_files/v3_April2024/hnl_m\"+str(m)+\"_v3_dict_\"+suffix+\".npy\", hnl_dict_save) "
   ]
  },
  {
   "cell_type": "markdown",
   "metadata": {},
   "source": [
    "<h1>Save Neutrinos + Cosmics Background </h1>"
   ]
  },
  {
   "cell_type": "code",
   "execution_count": null,
   "metadata": {},
   "outputs": [],
   "source": [
    "bkg_save_dict = {}\n",
    "\n",
    "bkg_save_dict['bkg'] = bkg_dict['cv_scale'].tolist()\n",
    "\n",
    "bkg_save_dict['stat_err'] = bkg_dict['stat_err_scale'].tolist()\n",
    "\n",
    "bkg_save_dict['flx_err'] = bkg_dict['flx_err_scale'].tolist()\n",
    "\n",
    "bkg_save_dict['xsec_err'] = bkg_dict['xsec_err_scale'].tolist()\n",
    "\n",
    "bkg_save_dict['g4_err'] = bkg_dict['g4_err_scale'].tolist()\n",
    "\n",
    "bkg_save_dict['combined_err'] = bkg_dict['combined_err_scale'].tolist()"
   ]
  },
  {
   "cell_type": "code",
   "execution_count": null,
   "metadata": {},
   "outputs": [],
   "source": [
    "for k,v in zip(bkg_save_dict.keys(), bkg_save_dict.values()):\n",
    "    print(k, v)"
   ]
  },
  {
   "cell_type": "code",
   "execution_count": null,
   "metadata": {},
   "outputs": [],
   "source": [
    "np.save(\"../pkl_files/v3_April2024/bkg_v3_dict_\"+suffix+\".npy\", bkg_save_dict) "
   ]
  },
  {
   "cell_type": "markdown",
   "metadata": {},
   "source": [
    "<h1>Save Neutrinos Background </h1>"
   ]
  },
  {
   "cell_type": "code",
   "execution_count": null,
   "metadata": {},
   "outputs": [],
   "source": [
    "nu_save_dict = {}\n",
    "\n",
    "nu_save_dict['bkg'] = nu_dict['cv_scale'].tolist()\n",
    "\n",
    "nu_save_dict['stat_err'] = nu_dict['stat_err_scale'].tolist()\n",
    "\n",
    "nu_save_dict['flx_err'] = nu_dict['flx_err_scale'].tolist()\n",
    "\n",
    "nu_save_dict['xsec_err'] = nu_dict['xsec_err_scale'].tolist()\n",
    "\n",
    "nu_save_dict['g4_err'] = nu_dict['g4_err_scale'].tolist()\n",
    "\n",
    "nu_save_dict['combined_err'] = nu_dict['combined_err_scale'].tolist()\n"
   ]
  },
  {
   "cell_type": "code",
   "execution_count": null,
   "metadata": {},
   "outputs": [],
   "source": [
    "for k,v in zip(bkg_save_dict.keys(), bkg_save_dict.values()):\n",
    "    print(k, v)"
   ]
  },
  {
   "cell_type": "code",
   "execution_count": null,
   "metadata": {},
   "outputs": [],
   "source": [
    "np.save(\"../pkl_files/v3_April2024/nu_v3_dict_\"+suffix+\".npy\", nu_save_dict) "
   ]
  },
  {
   "cell_type": "markdown",
   "metadata": {},
   "source": [
    "<h1>Save Rockbox Cosmics Background </h1>"
   ]
  },
  {
   "cell_type": "code",
   "execution_count": null,
   "metadata": {},
   "outputs": [],
   "source": [
    "cos_save_dict = {}\n",
    "\n",
    "cos_save_dict['bkg'] = cos_dict['cv_scale'].tolist()\n",
    "\n",
    "cos_save_dict['stat_err'] = cos_dict['stat_err_scale'].tolist()"
   ]
  },
  {
   "cell_type": "code",
   "execution_count": null,
   "metadata": {},
   "outputs": [],
   "source": [
    "for k,v in zip(cos_save_dict.keys(), cos_save_dict.values()):\n",
    "    print(k, v)"
   ]
  },
  {
   "cell_type": "code",
   "execution_count": null,
   "metadata": {},
   "outputs": [],
   "source": [
    "np.save(\"../pkl_files/v3_April2024/cos_v3_dict_\"+suffix+\".npy\", cos_save_dict) "
   ]
  },
  {
   "cell_type": "markdown",
   "metadata": {},
   "source": [
    "###### "
   ]
  }
 ],
 "metadata": {
  "kernelspec": {
   "display_name": "Python 3 (ipykernel)",
   "language": "python",
   "name": "python3"
  },
  "language_info": {
   "codemirror_mode": {
    "name": "ipython",
    "version": 3
   },
   "file_extension": ".py",
   "mimetype": "text/x-python",
   "name": "python",
   "nbconvert_exporter": "python",
   "pygments_lexer": "ipython3",
   "version": "3.9.7"
  }
 },
 "nbformat": 4,
 "nbformat_minor": 4
}
