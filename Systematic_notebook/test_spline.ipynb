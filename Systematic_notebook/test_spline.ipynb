{
 "cells": [
  {
   "cell_type": "code",
   "execution_count": null,
   "metadata": {},
   "outputs": [],
   "source": [
    "import ROOT\n",
    "import array\n",
    "\n",
    "xs = [-3, -2, -1, 0, +1, +2, +3]\n",
    "ys = [0.50, 0.86, 0.94, 1., 1.14, 1.24, 1.43]\n",
    "\n",
    "tsp = ROOT.TSpline3(\"myspline\", array.array('d', xs), array.array('d', ys), len(xs))"
   ]
  },
  {
   "cell_type": "code",
   "execution_count": null,
   "metadata": {},
   "outputs": [],
   "source": [
    "c1 = ROOT.TCanvas(\"c1\", \"\", 600, 600)\n",
    "c1.cd()\n",
    "\n",
    "# Input sigmas\n",
    "\n",
    "gr_points = ROOT.TGraph(7, array.array('d', xs), array.array('d', ys))\n",
    "gr_points.SetMarkerStyle(20)\n",
    "gr_points.Draw(\"ap\")\n",
    "\n",
    "# splines\n",
    "\n",
    "spline_xs = [(-3. + 0.1*i) for i in range(0, 60)]\n",
    "spline_ys = [(tsp.Eval(x)) for x in spline_xs]\n",
    "\n",
    "gr_splines = ROOT.TGraph(len(spline_xs), array.array('d', spline_xs), array.array('d', spline_ys))\n",
    "gr_splines.Draw(\"lsame\")\n",
    "\n",
    "c1.Draw()\n"
   ]
  },
  {
   "cell_type": "code",
   "execution_count": null,
   "metadata": {},
   "outputs": [],
   "source": [
    "import numpy as np\n",
    "import matplotlib.pyplot as plt\n",
    "\n",
    "mu, sigma = 0, 1 # mean and standard deviation\n",
    "\n",
    "s = np.random.normal(mu, sigma, 1000)\n",
    "s"
   ]
  },
  {
   "cell_type": "code",
   "execution_count": null,
   "metadata": {},
   "outputs": [],
   "source": [
    "plt.hist(s)"
   ]
  },
  {
   "cell_type": "code",
   "execution_count": null,
   "metadata": {},
   "outputs": [],
   "source": [
    "err = [tsp.Eval(item) for item in s]\n",
    "err"
   ]
  },
  {
   "cell_type": "code",
   "execution_count": null,
   "metadata": {},
   "outputs": [],
   "source": [
    "plt.hist(err)"
   ]
  }
 ],
 "metadata": {
  "kernelspec": {
   "display_name": "Python 3 (ipykernel)",
   "language": "python",
   "name": "python3"
  },
  "language_info": {
   "codemirror_mode": {
    "name": "ipython",
    "version": 3
   },
   "file_extension": ".py",
   "mimetype": "text/x-python",
   "name": "python",
   "nbconvert_exporter": "python",
   "pygments_lexer": "ipython3",
   "version": "3.9.7"
  }
 },
 "nbformat": 4,
 "nbformat_minor": 2
}
