{
 "cells": [
  {
   "cell_type": "code",
   "execution_count": null,
   "id": "b905676f",
   "metadata": {},
   "outputs": [],
   "source": [
    "import sys                                        \n",
    "import os                                         \n",
    "                                                  \n",
    "os.nice(20)                                       \n",
    "                                                  \n",
    "import warnings                                   \n",
    "warnings.filterwarnings(\"ignore\")                 \n",
    "                                                                                                                                                \n",
    "import numpy as np                                \n",
    "import pandas as pd                               \n",
    "import matplotlib.pyplot as plt      \n",
    "import matplotlib.ticker as ticker\n",
    "from matplotlib.ticker import ScalarFormatter\n",
    "                                                  \n",
    "# Local helper script                             \n",
    "#hnlDIR = os.environ['HNLPATH']                \n",
    "sys.path.append('./')   \n",
    "                                                 \n",
    "from Plotting import *                            \n",
    "from Dictionary import *                                               "
   ]
  },
  {
   "cell_type": "code",
   "execution_count": null,
   "id": "94c8f3a3",
   "metadata": {},
   "outputs": [],
   "source": [
    "m = 'm4'\n",
    "u = 'Um42'"
   ]
  },
  {
   "cell_type": "code",
   "execution_count": null,
   "id": "04614d5a",
   "metadata": {},
   "outputs": [],
   "source": [
    "SIN = pd.read_table(\"./SIN.dat\", sep=\",\")\n",
    "PIENU = pd.read_table(\"./PIENU_2019_highT.dat\", sep=\",\")\n",
    "\n",
    "KEK = pd.read_table(\"./KEK_mu.dat\", sep=\"\\s+\")\n",
    "KEK1982 = pd.read_table(\"./KEK_1982.dat\", sep=\"\\s+\")\n",
    "\n",
    "T2K = pd.read_table(\"./t2k.dat\", sep=\"\\s+\")\n",
    "E949 = pd.read_table(\"./E949.dat\", sep=\",\")"
   ]
  },
  {
   "cell_type": "code",
   "execution_count": null,
   "id": "7b6d9c2b",
   "metadata": {},
   "outputs": [],
   "source": [
    "NA62 = pd.read_table(\"./NA62_2021_mu.dat\", sep=\"\\s+\")\n",
    "NA62[u] = NA62[u]/np.sqrt(2)"
   ]
  },
  {
   "cell_type": "code",
   "execution_count": null,
   "id": "4881cb54",
   "metadata": {},
   "outputs": [],
   "source": [
    "PS191 = pd.read_table(\"./PS191_new.txt\", sep=\",\")\n",
    "PS191[u] =PS191[u]/np.sqrt(2)\n",
    "#PS191 = PS191[PS191[m] <= 350]\n",
    "#PS191 = PS191.sort_values(by=[m]).reset_index()"
   ]
  },
  {
   "cell_type": "code",
   "execution_count": null,
   "id": "919ec3be",
   "metadata": {},
   "outputs": [],
   "source": [
    "NuTeV = pd.read_table(\"./NuTeV.dat\", sep=\"\\s+\")\n",
    "NuTeV[m] =NuTeV[m]*1000\n",
    "NuTeV = NuTeV[NuTeV[u] < 10**-4]\n",
    "NuTeV = NuTeV.sort_values(by=[m]).reset_index()"
   ]
  },
  {
   "cell_type": "code",
   "execution_count": null,
   "id": "68e5a552",
   "metadata": {},
   "outputs": [],
   "source": [
    "#uBooNE2019 = pd.read_table(\"./uBooNE_2019.dat\", sep=\"\\s+\")\n",
    "uBooNE2022 = pd.read_table(\"./uBooNE_2022.dat\", sep=\"\\s+\")\n",
    "uBooNE2023 = pd.read_table(\"./uBooNE_2023.dat\", sep=\"\\s+\")\n",
    "uBooNE = pd.concat([uBooNE2022, uBooNE2023]).sort_values(by=[m]).reset_index()"
   ]
  },
  {
   "cell_type": "code",
   "execution_count": null,
   "id": "0b26506a",
   "metadata": {},
   "outputs": [],
   "source": [
    "SBND_merged_bins = pd.read_table(\"./stats_only_limits_merged_bins.txt\", sep=\"\\s+\")\n",
    "#SBND_full_syst_merged_bins = pd.read_table(\"./all_systematics_limits_merged_bins.txt\", sep=\"\\s+\")\n",
    "#SBND_full_syst_1ns_bin = pd.read_table(\"./all_systematics_limits_1ns_bin.txt\", sep=\"\\s+\")\n",
    "#SBND_full_syst_1ns_bin_on_the_edge = pd.read_table(\"./all_systematics_limits_1ns_bin_on_the_edge.txt\", sep=\"\\s+\")"
   ]
  },
  {
   "cell_type": "code",
   "execution_count": null,
   "id": "c206c742",
   "metadata": {},
   "outputs": [],
   "source": [
    "def plot_contour(exp, label, c, ax , ls):\n",
    "    dfx = exp[m]\n",
    "    dfy = exp[u]\n",
    "    \n",
    "    plot_line(\n",
    "            dfx, dfy,\n",
    "            ax,\n",
    "            xlimmin = 0, xlimmax = 245,\n",
    "            color = c,\n",
    "            linestyle = ls, lw = 2,\n",
    "            ifysci = True,\n",
    "            iflabelbox = True, label = label, \n",
    "            )\n",
    "\n",
    "    plot_line(\n",
    "            [exp[m].iloc[0], exp[m].iloc[0]], [exp[u].iloc[0], 10**-2],\n",
    "            ax,\n",
    "            xlimmin = 0, xlimmax = 245,\n",
    "            color = c,\n",
    "            linestyle = ls, lw = 2,\n",
    "            ifysci = True,\n",
    "            )\n",
    "    \n",
    "    plot_line(\n",
    "            [exp[m].iloc[-1], exp[m].iloc[-1]], [exp[u].iloc[-1], 10**-2],\n",
    "            ax,\n",
    "            xlimmin = 0, xlimmax = 245,\n",
    "            color = c,\n",
    "            linestyle = ls, lw = 2,\n",
    "            ifysci = True,\n",
    "            )\n",
    "    \n",
    "    ax.fill_between(dfx, dfy, 10e-2, color=c, alpha=.035)"
   ]
  },
  {
   "cell_type": "code",
   "execution_count": null,
   "id": "68560a85",
   "metadata": {},
   "outputs": [],
   "source": [
    "fig, ax = plt.subplots(1,1, figsize=(10,6))\n",
    "\n",
    "#-------------------------------------------------------------------\n",
    "plot_contour(SIN, \"SIN\", 'grey', ax ,'--')\n",
    "plot_contour(PIENU, \"PIENU\", col_dict['Coral'], ax,'--')\n",
    "\n",
    "#-------------------------------------------------------------------\n",
    "\n",
    "plot_contour(KEK1982, \"KEK E89\", col_dict['Spearmint'], ax,'--')\n",
    "plot_contour(KEK, \"KEK E89/E104\", col_dict['Spearmint'], ax,'dotted')\n",
    "plot_contour(E949, \"E949\", col_dict['Teal'], ax,'--')\n",
    "plot_contour(NA62, \"NA62\", col_dict['Peach'], ax,'--')\n",
    "\n",
    "#-------------------------------------------------------------------\n",
    "plot_contour(PS191, \"PS191\", col_dict['Mauve'], ax,'-')\n",
    "#plot_contour(T2K, \"T2K\", col_dict['MintGreen'], ax,'-')\n",
    "plot_contour(NuTeV, \"NuTeV\", col_dict['Lavender'], ax,'-')\n",
    "plot_contour(uBooNE2023, \"MicroBooNE\", col_dict['Aqua'], ax,'-')\n",
    "#-------------------------------------------------------------------\n",
    "\n",
    "plt.plot(SBND_merged_bins['m'], SBND_merged_bins['0sig'], color = 'red', lw = 3, ls ='-.', label = 'SBND Stats Only')\n",
    "\n",
    "#plt.plot(SBND['m'], SBND_full_syst['0sig'], color = 'blue', lw = 3, ls ='-', label = 'SBND Full Systematics - Merged')\n",
    "\n",
    "#plt.plot(SBND['m'], SBND_full_syst_1ns_bin['0sig'], color = 'purple', lw = 3, ls ='-', label = 'SBND Full Systematics - 1ns')\n",
    "\n",
    "#plt.plot(SBND['m'], SBND_full_syst_1ns_bin_on_the_edge['0sig'], color = 'yellow', lw = 3, ls ='-', label = 'SBND Full Systematics - 1ns Edge')\n",
    "\n",
    "#-------------------------------------------------------------------\n",
    "plt.grid(color='gainsboro', linestyle='--')\n",
    "plt.xlim(0, 245)\n",
    "plt.ylim(10**-9, 10**-2)\n",
    "ax.tick_params(bottom = True, top = False, left = True, right = False) \n",
    "plt.legend(ncol=2, loc=\"lower left\",fontsize =14, frameon=False, columnspacing=0.5)\n",
    "\n",
    "\n",
    "#-------------------------------------------------------------------\n",
    "ax.set_xlabel(\"HNL Mass [MeV]\", fontsize =18)\n",
    "ax.set_ylabel(\"|U$_{\\mu4}$|$^2$\", fontsize =18)\n",
    "#-------------------------------------------------------------------\n",
    "ax.xaxis.set_major_locator(MaxNLocator(10))\n",
    "ax.yaxis.get_major_locator().set_params(numticks=99)\n",
    "ax.yaxis.get_minor_locator().set_params(numticks=99)#, subs=[.2, .4, .6, .8])\n",
    "\n",
    "#-------------------------------------------------------------------\n",
    "fig.tight_layout()\n",
    "pltname = \"SBND_Simulated_Sensitivity\"\n",
    "\n",
    "plt.savefig(\"sensitivity.png\",dpi=200)\n",
    "plt.show()"
   ]
  },
  {
   "cell_type": "code",
   "execution_count": null,
   "id": "a3c5e8da",
   "metadata": {},
   "outputs": [],
   "source": []
  }
 ],
 "metadata": {
  "kernelspec": {
   "display_name": "Python 3 (ipykernel)",
   "language": "python",
   "name": "python3"
  },
  "language_info": {
   "codemirror_mode": {
    "name": "ipython",
    "version": 3
   },
   "file_extension": ".py",
   "mimetype": "text/x-python",
   "name": "python",
   "nbconvert_exporter": "python",
   "pygments_lexer": "ipython3",
   "version": "3.9.7"
  }
 },
 "nbformat": 4,
 "nbformat_minor": 5
}
