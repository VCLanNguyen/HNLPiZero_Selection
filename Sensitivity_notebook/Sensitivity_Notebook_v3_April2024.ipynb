{
 "cells": [
  {
   "cell_type": "code",
   "execution_count": null,
   "metadata": {},
   "outputs": [],
   "source": [
    "# Add the relevant scripts from LArMachineLearningData\n",
    "# Nice the process so it can run with lots of cores on low priority\n",
    "import os\n",
    "os.nice(20)\n",
    "\n",
    "# Add local paths\n",
    "import sys\n",
    "hnlDIR = os.environ['_']\n",
    "sys.path.append('../pyscript')\n",
    "\n",
    "# From pyscript Library\n",
    "from Plotting import *\n",
    "from Dictionary import *\n",
    "from HelperFunctions import *\n",
    "from CutFunctions import *\n",
    "from SystematicsHelpers import *\n",
    "\n",
    "import pickle\n",
    "import numpy as np\n",
    "import pandas as pd\n",
    "import matplotlib.pyplot as plt\n",
    "import seaborn as sns\n",
    "from matplotlib import gridspec\n",
    "\n",
    "import warnings\n",
    "warnings.filterwarnings(\"ignore\")\n",
    "\n",
    "import pyhf\n",
    "from pyhf.contrib.viz import brazil\n",
    "\n",
    "pyhf.set_backend(\"numpy\")"
   ]
  },
  {
   "cell_type": "code",
   "execution_count": null,
   "metadata": {},
   "outputs": [],
   "source": [
    "savePath = \"../plot_files/06April2024_m200_v3_sensitivity/\""
   ]
  },
  {
   "cell_type": "markdown",
   "metadata": {},
   "source": [
    "<h1> Read in HNL Dictionary </h1>"
   ]
  },
  {
   "cell_type": "code",
   "execution_count": null,
   "metadata": {},
   "outputs": [],
   "source": [
    "nu_dict = np.load(\"../pkl_files/v3_April2024/nu_v3_dict.npy\",allow_pickle='TRUE').item()"
   ]
  },
  {
   "cell_type": "code",
   "execution_count": null,
   "metadata": {},
   "outputs": [],
   "source": [
    "cos_dict = np.load(\"../pkl_files/v3_April2024/cos_v3_dict.npy\",allow_pickle='TRUE').item()"
   ]
  },
  {
   "cell_type": "code",
   "execution_count": null,
   "metadata": {},
   "outputs": [],
   "source": [
    "bkg_dict = np.load(\"../pkl_files/v3_April2024/bkg_v3_dict.npy\",allow_pickle='TRUE').item()"
   ]
  },
  {
   "cell_type": "code",
   "execution_count": null,
   "metadata": {},
   "outputs": [],
   "source": [
    "hnl_dict = {}\n",
    "mass_list = [200]\n",
    "\n",
    "for m in mass_list:\n",
    "    hnl_dict[m] = np.load(\"../pkl_files/v3_April2024/hnl_m\"+str(m)+\"_v3_dict.npy\",allow_pickle='TRUE').item()"
   ]
  },
  {
   "cell_type": "markdown",
   "metadata": {},
   "source": [
    "<h1>Sanity Plot</h1>"
   ]
  },
  {
   "cell_type": "code",
   "execution_count": null,
   "metadata": {},
   "outputs": [],
   "source": [
    "fig, (ax1, ax2) = plt.subplots(1,2, figsize = (12,4))\n",
    "\n",
    "#-----------------------------------------------------------------#\n",
    "ax1.step(bins, np.insert(hnl_dict[200]['signal'], 0, 0)\n",
    "         , color = hnl_col\n",
    "         , label =  \"Signal\"\n",
    ")\n",
    "\n",
    "#-----------------------------------------------------------------#\n",
    "ax2.step(bins, np.insert(bkg_dict['bkg'], 0, 0)\n",
    "         , color = nu_col\n",
    "         , label =  \"Neutrino + Cosmic Background\"\n",
    ")\n",
    "#-----------------------------------------------------------------#\n",
    "ax1.legend(loc = 'upper left',fontsize = 14)\n",
    "\n",
    "plot_tick(ax1, 16)\n",
    "plot_title(ax1, \"\", 'Opt0 Time Corrected Z % 18.936 [ns]',  r\"Slices (1$\\times10^{21}$ POT)\", 16)\n",
    "\n",
    "ax1.set_xlim(xmin, xmax)\n",
    "ax1.set_ylim(0, 80)\n",
    "#-----------------------------------------------------------------#\n",
    "ax2.legend(loc = 'upper left',fontsize = 14)\n",
    "\n",
    "plot_tick(ax2, 16)\n",
    "plot_title(ax2, \"\", 'Opt0 Time Corrected Z % 18.936 [ns]',  r\"Slices (1$\\times10^{21}$ POT)\", 16)\n",
    "\n",
    "ax2.set_xlim(xmin, xmax)\n",
    "ax2.set_ylim(0, 2200)\n",
    "\n",
    "#-----------------------------------------------------------------#\n",
    "fig.tight_layout()\n",
    "\n",
    "plt.show()"
   ]
  },
  {
   "cell_type": "markdown",
   "metadata": {},
   "source": [
    "<h1>Define Models</h1>"
   ]
  },
  {
   "cell_type": "code",
   "execution_count": null,
   "metadata": {},
   "outputs": [],
   "source": [
    "def make_model_stat_cosmics(m):\n",
    "    model = pyhf.Model(\n",
    "        {\n",
    "      \"channels\": [\n",
    "        {\n",
    "          \"name\": \"singlechannel\",\n",
    "          \"samples\": [\n",
    "            {\n",
    "              \"name\": \"signal\",\n",
    "              \"data\": hnl_dict[m]['signal'],\n",
    "              \"modifiers\": [\n",
    "                {\"name\": \"mu\", \"type\": \"normfactor\", \"data\": None}, #This is the scaling which is to be calculated\n",
    "                {\"name\": \"signal_stat\", \"type\": \"staterror\", \"data\": hnl_dict[m]['stat_err'] },\n",
    "                {\"name\": \"signal_cosmic\", \"type\": \"shapesys\", \"data\": hnl_dict[m]['mistagging_err'] },\n",
    "              ]\n",
    "            },\n",
    "            {\n",
    "              \"name\": \"background\",\n",
    "              \"data\": bkg_dict['bkg'],\n",
    "              \"modifiers\": [\n",
    "                {\"name\": \"bkg_stat\", \"type\": \"staterror\", \"data\": bkg_dict['stat_err']},\n",
    "              ]\n",
    "            }\n",
    "          ]\n",
    "        }\n",
    "      ]\n",
    "    }\n",
    "    )\n",
    "\n",
    "    print(f'Samples:\\n {model.config.samples}')\n",
    "    print(f'Modifiers are:\\n {model.config.modifiers}')\n",
    "\n",
    "    data = bkg_dict['bkg'] + model.config.auxdata\n",
    "    \n",
    "    return model, data"
   ]
  },
  {
   "cell_type": "markdown",
   "metadata": {},
   "source": [
    "<h1>Stat + Cosmics</h1>"
   ]
  },
  {
   "cell_type": "code",
   "execution_count": null,
   "metadata": {},
   "outputs": [],
   "source": [
    "model, data = make_model_stat_cosmics(200)\n",
    "\n",
    "poi_vals = np.linspace(0, 1, 100)\n",
    "\n",
    "obs_limit_single, exp_limits_single, (scan, results) = pyhf.infer.intervals.upper_limits.upper_limit(data, \n",
    "                                                                                        model, \n",
    "                                                                                        poi_vals, \n",
    "                                                                                        level=0.1, \n",
    "                                                                                        return_results=True,\n",
    "                                                                                        test_stat='qtilde')\n",
    "\n",
    "print(f\"Upper limit (obs): μ = {obs_limit_single:.4f}\")\n",
    "print(f\"Upper limit (exp): μ = {exp_limits_single[2]:.4f}\" + \"\\n\")\n",
    "\n",
    "EXP_LIMIT = np.sqrt(exp_limits_single[2]) * hnl_dict[200]['U']\n",
    "LIMIT = np.sqrt(obs_limit_single) * hnl_dict[200]['U']\n",
    "\n",
    "print(f\"Expected limit is \" + str(EXP_LIMIT))\n",
    "print(f\"Observed limit is \" + str(LIMIT)+ \"\\n\")\n",
    "\n",
    "fig, ax = plt.subplots()\n",
    "fig.set_size_inches(7, 5)\n",
    "brazil.plot_results(poi_vals, results, ax=ax, test_size=0.10,)\n",
    "plt.ylim(0.0,0.2)\n",
    "fig.show()"
   ]
  },
  {
   "cell_type": "markdown",
   "metadata": {},
   "source": [
    "<h1> Toys Time </h1>"
   ]
  },
  {
   "cell_type": "code",
   "execution_count": null,
   "metadata": {},
   "outputs": [],
   "source": [
    "# mu' = 0: background-like\n",
    "pars_bkg = model.config.suggested_init()\n",
    "pars_bkg[model.config.poi_index] = 0.0\n",
    "print(f\"Background parameters: {list(zip(model.config.parameters, pars_bkg))}\")\n",
    "\n",
    "# mu' = 1: signal-like\n",
    "pars_sig = model.config.suggested_init()\n",
    "pars_sig[model.config.poi_index] = 1.0\n",
    "print(f\"Signal parameters: {list(zip(model.config.parameters, pars_sig))}\")\n",
    "\n",
    "# make the pdfs\n",
    "pdf_bkg = model.make_pdf(pyhf.tensorlib.astensor(pars_bkg))\n",
    "pdf_sig = model.make_pdf(pyhf.tensorlib.astensor(pars_sig))"
   ]
  },
  {
   "cell_type": "code",
   "execution_count": null,
   "metadata": {},
   "outputs": [],
   "source": [
    "toy_calculator_qtilde = pyhf.infer.utils.create_calculator(\n",
    "    \"toybased\",\n",
    "    model.expected_data(pars_sig),\n",
    "    model,\n",
    "    ntoys=100,\n",
    "    test_stat=\"qtilde\",\n",
    ")\n",
    "qtilde_sig, qtilde_bkg = toy_calculator_qtilde.distributions(1.0)"
   ]
  },
  {
   "cell_type": "code",
   "execution_count": null,
   "metadata": {},
   "outputs": [],
   "source": [
    "toy_calculator_qtilde.teststatistic(exp_limits_single[2])"
   ]
  },
  {
   "cell_type": "code",
   "execution_count": null,
   "metadata": {},
   "outputs": [],
   "source": [
    "fig, ax1 = plt.subplots(1,1, figsize = (6,4))\n",
    "\n",
    "bins = np.linspace(0, 30, 26)\n",
    "ax1.hist(\n",
    "    qtilde_sig.samples,\n",
    "    bins=bins,\n",
    "    histtype=\"step\",\n",
    "    density=True,\n",
    "    label=r\"$f(\\tilde{q}_1|1)$ signal-like\",\n",
    "    linewidth=2,\n",
    ")\n",
    "ax1.hist(\n",
    "    qtilde_bkg.samples,\n",
    "    bins=bins,\n",
    "    histtype=\"step\",\n",
    "    density=True,\n",
    "    label=r\"$f(\\tilde{q}_1|0)$ background-like\",\n",
    "    linewidth=2,\n",
    ")\n",
    "\n",
    "\n",
    "#ax1.set_xticks(np.arange(0, 10))\n",
    "ax1.set_xlabel(r\"(b) $\\tilde{q}_1$\", fontsize=18)\n",
    "ax1.set_ylabel(r\"$f\\,(\\tilde{q}_1|\\mu')$\", fontsize=18)\n",
    "ax1.set_title(r\"Alternative test statistic $(\\tilde{q}_1)$ distributions\")\n",
    "ax1.legend()\n",
    "\n",
    "ax1.set_yscale('log')\n",
    "#plt.setp(ax1, xlim=(0, 9), ylim=(1e-3, 2), yscale=\"log\")\n",
    "#fig.set_size_inches(14, 6)\n",
    "fig.tight_layout()\n",
    "\n",
    "plt.show()"
   ]
  },
  {
   "cell_type": "markdown",
   "metadata": {},
   "source": [
    "<h1>Plot</h1>"
   ]
  },
  {
   "cell_type": "code",
   "execution_count": null,
   "metadata": {},
   "outputs": [],
   "source": [
    "fig, ax1 = plt.subplots(1,1, figsize=(10,6))\n",
    "\n",
    "xlimmin = 140\n",
    "xlimmax = 240\n",
    "\n",
    "plt.grid(axis = 'both', color='gainsboro', linestyle = \":\")\n",
    "#-------------------------------------------------------------------\n",
    "ax1.scatter(200, TrippledBkgStatLimit, color = 'red', linestyle = '-', label = r'Signal Stat + Bkg Stat * 3')\n",
    "\n",
    "ax1.scatter(200, StatLimit, color = 'orange', linestyle = '-', label = r'Signal Stat + Bkg Stat')\n",
    "\n",
    "ax1.scatter(200, AThirdBkgStatLimit, color = 'blue', linestyle = '-', label = r'Signal Stat + Bkg Stat / 3')\n",
    "\n",
    "#ax1.scatter(200, AThirdSignalStatLimit, color = 'orchid', linestyle = '-', label = r'Signal Stat / 3  + Bkg Stat')\n",
    "\n",
    "\n",
    "ax1.scatter(200, noStatLimit, color = 'green', linestyle = '-', label = r'Without Stats Errors')\n",
    "#-------------------------------------------------------------------\n",
    "\n",
    "#plt.xlim(180, 220)\n",
    "plt.ylim(4e-8, 1e-7)\n",
    "ax1.set_yscale('log')\n",
    "\n",
    "ax1.legend(loc=\"upper right\", fontsize =14)\n",
    "\n",
    "plot_tick(ax1, 16)\n",
    "plot_title(ax1, \"\", \"HNL Mass [MeV]\",  \"|U$_{\\mu4}$|$^2$\", 16)\n",
    "\n",
    "#-------------------------------------------------------------------\n",
    "fig.tight_layout()\n",
    "plt.savefig(savePath+str(\"sensitivity_test.png\"), dpi=200)\n",
    "plt.show()"
   ]
  },
  {
   "cell_type": "code",
   "execution_count": null,
   "metadata": {},
   "outputs": [],
   "source": []
  }
 ],
 "metadata": {
  "kernelspec": {
   "display_name": "Python 3 (ipykernel)",
   "language": "python",
   "name": "python3"
  },
  "language_info": {
   "codemirror_mode": {
    "name": "ipython",
    "version": 3
   },
   "file_extension": ".py",
   "mimetype": "text/x-python",
   "name": "python",
   "nbconvert_exporter": "python",
   "pygments_lexer": "ipython3",
   "version": "3.9.7"
  }
 },
 "nbformat": 4,
 "nbformat_minor": 4
}
