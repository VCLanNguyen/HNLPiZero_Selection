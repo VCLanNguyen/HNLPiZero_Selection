{
 "cells": [
  {
   "cell_type": "code",
   "execution_count": null,
   "metadata": {},
   "outputs": [],
   "source": [
    "# Add the relevant scripts from LArMachineLearningData\n",
    "# Nice the process so it can run with lots of cores on low priority\n",
    "import os\n",
    "os.nice(20)\n",
    "\n",
    "# Add local paths\n",
    "import sys\n",
    "hnlDIR = os.environ['_']\n",
    "sys.path.append('../pyscript')\n",
    "\n",
    "# From pyscript Library\n",
    "from Plotting import *\n",
    "from Dictionary import *\n",
    "from HelperFunctions import *\n",
    "from SystematicsHelpers import *\n",
    "\n",
    "import pickle\n",
    "import numpy as np\n",
    "import pandas as pd\n",
    "import matplotlib.pyplot as plt\n",
    "\n",
    "import warnings\n",
    "warnings.filterwarnings(\"ignore\")\n",
    "\n",
    "import pyhf\n",
    "from pyhf.contrib.viz import brazil\n",
    "\n",
    "pyhf.set_backend(\"numpy\")\n",
    "np.random.seed(42)"
   ]
  },
  {
   "cell_type": "code",
   "execution_count": null,
   "metadata": {},
   "outputs": [],
   "source": [
    "savePath = \"../plot_files/toy_distributions/\""
   ]
  },
  {
   "cell_type": "code",
   "execution_count": null,
   "metadata": {},
   "outputs": [],
   "source": [
    "def find_nearest(array, value):\n",
    "    array = np.asarray(array)\n",
    "    idx = (np.abs(array - value)).argmin()\n",
    "    return idx"
   ]
  },
  {
   "cell_type": "code",
   "execution_count": null,
   "metadata": {},
   "outputs": [],
   "source": [
    "b_col = \"gold\"#col_dict['Peach']\n",
    "sb_col = col_dict['MintGreen']"
   ]
  },
  {
   "cell_type": "markdown",
   "metadata": {},
   "source": [
    "<h1> Simple Models </h1>"
   ]
  },
  {
   "cell_type": "code",
   "execution_count": null,
   "metadata": {},
   "outputs": [],
   "source": [
    "model = pyhf.simplemodels.uncorrelated_background(\n",
    "\n",
    "    signal=[12.0, 11.0], bkg=[50.0, 52.0], bkg_uncertainty=[3.0, 7.0]\n",
    "\n",
    ")\n",
    "\n",
    "observations = [50.0, 52.0]\n",
    "#observations = [51, 48]\n",
    "\n",
    "data = observations + model.config.auxdata\n",
    "\n",
    "\n",
    "print(f\"Channels: {model.config.channels}\")\n",
    "print(f\"Samples: {model.config.samples}\")\n",
    "print(f\"Parameters: {model.config.parameters}\")"
   ]
  },
  {
   "cell_type": "markdown",
   "metadata": {},
   "source": [
    "<h1> Real Models </h1>"
   ]
  },
  {
   "cell_type": "raw",
   "metadata": {},
   "source": [
    "#suffix = '_1ns_bin'\n",
    "suffix = '_merged_bins'\n",
    "\n",
    "bkg_dict = np.load(\"../pkl_files/v3_April2024/bkg_v3_dict\"+suffix+\".npy\",allow_pickle='TRUE').item()\n",
    "\n",
    "hnl_dict = {}\n",
    "mass_list = [200]\n",
    "\n",
    "for m in mass_list:\n",
    "    hnl_dict[m] = np.load(\"../pkl_files/v3_April2024/hnl_m\"+str(m)+\"_v3_dict\"+suffix+\".npy\",allow_pickle='TRUE').item()"
   ]
  },
  {
   "cell_type": "raw",
   "metadata": {},
   "source": [
    "def make_model_stat_cosmics(m):\n",
    "    model = pyhf.Model(\n",
    "        {\n",
    "      \"channels\": [\n",
    "        {\n",
    "          \"name\": \"singlechannel\",\n",
    "          \"samples\": [\n",
    "            {\n",
    "              \"name\": \"signal\",\n",
    "              \"data\": hnl_dict[m]['signal'],\n",
    "              \"modifiers\": [\n",
    "                {\"name\": \"mu\", \"type\": \"normfactor\", \"data\": None}, #This is the scaling which is to be calculated\n",
    "                {\"name\": \"signal_stat\", \"type\": \"staterror\", \"data\": hnl_dict[m]['stat_err'] },\n",
    "                {\"name\": \"signal_cosmic\", \"type\": \"shapesys\", \"data\": hnl_dict[m]['mistagging_err'] },\n",
    "              ]\n",
    "            },\n",
    "            {\n",
    "              \"name\": \"background\",\n",
    "              \"data\": bkg_dict['bkg'],\n",
    "              \"modifiers\": [\n",
    "                {\"name\": \"bkg_stat\", \"type\": \"staterror\", \"data\": bkg_dict['stat_err']},\n",
    "              ]\n",
    "            }\n",
    "          ]\n",
    "        }\n",
    "      ]\n",
    "    }\n",
    "    )\n",
    "\n",
    "    print(f'Samples:\\n {model.config.samples}')\n",
    "    print(f'Modifiers are:\\n {model.config.modifiers}')\n",
    "\n",
    "    data = bkg_dict['bkg'] + model.config.auxdata\n",
    "    \n",
    "    return model, data"
   ]
  },
  {
   "cell_type": "raw",
   "metadata": {},
   "source": [
    "model, data = make_model_stat_cosmics(200)"
   ]
  },
  {
   "cell_type": "markdown",
   "metadata": {},
   "source": [
    "<h1> Upper Limits using Asymptotic Calculator</h1>"
   ]
  },
  {
   "cell_type": "code",
   "execution_count": null,
   "metadata": {},
   "outputs": [],
   "source": [
    "poi_vals = np.linspace(0, 1, 100)\n",
    "\n",
    "obs_limit_single, exp_limits_single, (scan, results) = pyhf.infer.intervals.upper_limits.upper_limit(data, \n",
    "                                                                                        model, \n",
    "                                                                                        poi_vals, \n",
    "                                                                                        level=0.1, \n",
    "                                                                                        return_results=True,\n",
    "                                                                                        return_calculator=True,\n",
    "                                                                                        #return_expected_set=True,\n",
    "                                                                                        test_stat='qtilde')\n",
    "\n",
    "print(f\"Upper limit (obs): μ = {obs_limit_single:.4f}\")\n",
    "print(f\"Upper limit (exp): μ = {exp_limits_single[2]:.4f}\" + \"\\n\")"
   ]
  },
  {
   "cell_type": "code",
   "execution_count": null,
   "metadata": {},
   "outputs": [],
   "source": [
    "mu_test =  exp_limits_single[2]\n",
    "print(f'mu test = {mu_test}')\n",
    "\n",
    "CLs_obs, CL, CLs_exp_band, asymp_calc = pyhf.infer.hypotest(\n",
    "    mu_test, data, model, test_stat=\"qtilde\" \n",
    "    , return_expected_set=True \n",
    "    , return_tail_probs=True\n",
    "    , return_calculator=True\n",
    "\n",
    ")\n",
    "\n",
    "print(f'CL_sb = {CL[0]}')\n",
    "print(f'CL_b = {CL[1]}')\n",
    "print(f'CL_s obs = {CLs_obs}')\n",
    "print(f'CL_s exp = {CLs_exp_band[2]}')"
   ]
  },
  {
   "cell_type": "code",
   "execution_count": null,
   "metadata": {},
   "outputs": [],
   "source": [
    "mu_test = exp_limits_single[2]\n",
    "#mu_test = 0\n",
    "#mu_test = exp_limits_single[2]*2\n",
    "\n",
    "teststat_asymp = asymp_calc.teststatistic(mu_test)\n",
    "\n",
    "sb_dist_asymp, b_dist_asymp = asymp_calc.distributions(mu_test)\n",
    "\n",
    "p_sb_asymp, p_b_asymp, p_s_asymp = asymp_calc.pvalues(teststat_asymp, sb_dist_asymp, b_dist_asymp)\n",
    "\n",
    "print(f'qtilde = {teststat_asymp}')\n",
    "print(f'CL_sb = {p_sb_asymp}')\n",
    "print(f'CL_b = {p_b_asymp}')\n",
    "print(f'CL_s obs = CL_sb / CL_b = {p_s_asymp}')"
   ]
  },
  {
   "cell_type": "code",
   "execution_count": null,
   "metadata": {},
   "outputs": [],
   "source": [
    "bins= np.arange(-6, 6, 0.1)\n",
    "\n",
    "sb_dist_step = []\n",
    "b_dist_step = []\n",
    "for a,b in zip(bins, bins[1:]):\n",
    "    sb_dist_step.append(sb_dist_asymp.cdf(b) - sb_dist_asymp.cdf(a))\n",
    "    b_dist_step.append(b_dist_asymp.cdf(b) - b_dist_asymp.cdf(a))\n",
    "    \n",
    "sb_dist_step = np.array(sb_dist_step)\n",
    "b_dist_step = np.array(b_dist_step)"
   ]
  },
  {
   "cell_type": "code",
   "execution_count": null,
   "metadata": {},
   "outputs": [],
   "source": [
    "fig, (ax) = plt.subplots(1,1, figsize = (6,4), sharey= False)\n",
    "#---------------------------------------------------------------------#\n",
    "ax.step(bins, np.insert(sb_dist_step, 0, 0)\n",
    "        , label=r'f($\\tilde{q}_{\\mu}|s+b$)'\n",
    "        , c = sb_col)\n",
    "\n",
    "ax.step(bins, np.insert(b_dist_step, 0, 0)\n",
    "        , label=r'f($\\tilde{q}_{\\mu}|b$)'\n",
    "        , c = b_col)\n",
    "\n",
    "ax.axvline(x = teststat_asymp, c='r', lw = 2, ls = '--', label = r'$\\hat{q}_{expected}$')\n",
    "\n",
    "bound_idx = find_nearest(bins, value=teststat_asymp)\n",
    "plt.fill_between(bins[bound_idx:] , np.insert(sb_dist_step, 0, 0)[bound_idx:]\n",
    "                 , step=\"pre\"\n",
    "                 , alpha=1, color = \"none\"\n",
    "                 , hatch=\"xxx\", edgecolor=sb_col, linewidth=0.0\n",
    "                 , label = r'$p_{s+b}$')\n",
    "\n",
    "plt.fill_between(bins[:bound_idx+1] , np.insert(b_dist_step, 0, 0)[:bound_idx+1]\n",
    "                 , step=\"pre\" \n",
    "                 , alpha=1, color = \"none\"\n",
    "                 , hatch=\"xxx\", edgecolor=b_col, linewidth=0.0\n",
    "                 , label = r'$p_{b}$')\n",
    "#---------------------------------------------------------------------#\n",
    "\n",
    "ax.legend(loc='best', fontsize = 16)\n",
    "\n",
    "#---------------------------------------------------------------------#\n",
    "ax.set_xlim(-6,10)\n",
    "ax.set_ylim(0, 0.05)\n",
    "\n",
    "plot_tick(ax, 16)\n",
    "\n",
    "#title =  r\"Test statistsics distribution for $\\mu = {:.2f}$\".format(mu_test)\n",
    "title = \"\"\n",
    "plot_title(ax, title, r\"$\\tilde{q}_{\\mu}$\",  r\"f($\\tilde{q}_{\\mu}|\\mu^{\\prime}$)\", 16)\n",
    "#---------------------------------------------------------------------#\n",
    "fig.tight_layout()\n",
    "\n",
    "plt.savefig(savePath+str(\"asymtotic.png\"), dpi=200)\n",
    "plt.show()"
   ]
  },
  {
   "cell_type": "markdown",
   "metadata": {},
   "source": [
    "<h1> Toys Time </h1>"
   ]
  },
  {
   "cell_type": "code",
   "execution_count": null,
   "metadata": {},
   "outputs": [],
   "source": [
    "nsamples = 4000\n",
    "print(f\"n Samples: {nsamples}\")\n",
    "\n",
    "toy_calc = pyhf.infer.calculators.ToyCalculator(\n",
    "    data, model, test_stat='qtilde', ntoys=nsamples\n",
    ")"
   ]
  },
  {
   "cell_type": "code",
   "execution_count": null,
   "metadata": {},
   "outputs": [],
   "source": [
    "exp_limits_single[2]"
   ]
  },
  {
   "cell_type": "code",
   "execution_count": null,
   "metadata": {},
   "outputs": [],
   "source": [
    "toy_mu_vals_ub = np.array([exp_limits_single[2] + poi_vals[:9]])  \n",
    "toy_mu_vals_lb = np.array([exp_limits_single[2] - poi_vals[1:2]])\n",
    "\n",
    "toy_mu_vals = np.concatenate((toy_mu_vals_lb, toy_mu_vals_ub), axis = 1)\n",
    "toy_mu_vals = np.sort(toy_mu_vals[0])\n",
    "\n",
    "print(toy_mu_vals)"
   ]
  },
  {
   "cell_type": "code",
   "execution_count": null,
   "metadata": {},
   "outputs": [],
   "source": [
    "cls_toy_vals = []\n",
    "for p in toy_mu_vals:\n",
    "    mu_test = p\n",
    "\n",
    "    teststat_toy = toy_calc.teststatistic(mu_test)\n",
    "\n",
    "    sb_dist_toy, b_dist_toy = toy_calc.distributions(mu_test)\n",
    "\n",
    "    p_sb_toy, p_b_toy, p_s_toy = toy_calc.pvalues(teststat_toy, sb_dist_toy, b_dist_toy)\n",
    "    \n",
    "    cls_toy_vals.append(p_s_toy)\n",
    "\n",
    "cls_toy_vals = np.array(cls_toy_vals)\n",
    "\n"
   ]
  },
  {
   "cell_type": "code",
   "execution_count": null,
   "metadata": {},
   "outputs": [],
   "source": [
    "nearest_idx = find_nearest(cls_toy_vals, 0.1)\n",
    "\n",
    "print(nearest_idx)\n",
    "print(cls_toy_vals[nearest_idx])\n",
    "print(toy_mu_vals[nearest_idx])"
   ]
  },
  {
   "cell_type": "code",
   "execution_count": null,
   "metadata": {},
   "outputs": [],
   "source": [
    "print(\"nearest mu = {}\".format(toy_mu_vals[nearest_idx]))\n",
    "\n",
    "mu_test = toy_mu_vals[nearest_idx]\n",
    "print(f\"mu test: {mu_test}\")\n",
    "\n",
    "teststat_toy = toy_calc.teststatistic(mu_test)\n",
    "\n",
    "sb_dist_toy, b_dist_toy = toy_calc.distributions(mu_test)\n",
    "\n",
    "p_sb_toy, p_b_toy, p_s_toy = toy_calc.pvalues(teststat_toy, sb_dist_toy, b_dist_toy)\n",
    "\n",
    "print(f'CL_sb = {p_sb_toy}')\n",
    "print(f'CL_b = {p_b_toy}')\n",
    "print(f'CL_s obs = CL_sb / CL_b = {p_s_toy}')"
   ]
  },
  {
   "cell_type": "markdown",
   "metadata": {},
   "source": [
    "<h1> Plot </h1>"
   ]
  },
  {
   "cell_type": "code",
   "execution_count": null,
   "metadata": {},
   "outputs": [],
   "source": [
    "fig, (ax1) = plt.subplots(1,1, figsize = (6,4), sharey= False)\n",
    "\n",
    "bins= np.arange(0,10, 0.15)\n",
    "#---------------------------------------------------------------------#\n",
    "sb_hist, _, _ = ax1.hist(\n",
    "    sb_dist_toy.samples,\n",
    "    bins=bins,\n",
    "    histtype=\"step\",\n",
    "    density=True,\n",
    "    label=r'f($\\tilde{q}_{\\mu}|s+b$)',\n",
    "    linewidth=2, color = sb_col\n",
    ")\n",
    "\n",
    "b_hist, _, _  = ax1.hist(\n",
    "    b_dist_toy.samples,\n",
    "    bins=bins,\n",
    "    histtype=\"step\",\n",
    "    density=True,\n",
    "    label=r'f($\\tilde{q}_{\\mu}|b$)',\n",
    "    linewidth=2, color= b_col\n",
    ")\n",
    "\n",
    "ax1.axvline(x = teststat_toy, c='r', lw = 2, ls = '--', label = r'$\\hat{q}_{expected}$')\n",
    "\n",
    "bound_idx = find_nearest(bins, value=teststat_toy)\n",
    "\n",
    "plt.fill_between(bins[bound_idx:] , np.insert(sb_hist, 0, 0)[bound_idx:]\n",
    "                 , step=\"pre\"\n",
    "                 , alpha=1, color = \"none\"\n",
    "                 , hatch=\"xxx\", edgecolor=sb_col, linewidth=0.0\n",
    "                 , label = r'$p_{s+b}$')\n",
    "\n",
    "plt.fill_between(bins[:bound_idx+1] , np.insert(b_hist, 0, 0)[:bound_idx+1]\n",
    "                 , step=\"pre\" \n",
    "                 , alpha=1, color = \"none\"\n",
    "                 , hatch=\"xxx\", edgecolor=b_col, linewidth=0.0\n",
    "                 , label = r'$p_{b}$')\n",
    "#---------------------------------------------------------------------#\n",
    "#title = r\"Test statistsics distribution for $\\mu = {:.2f}$\".format(mu_test)\n",
    "title = \"\"\n",
    "\n",
    "plot_title(ax1, title, r\"$\\tilde{q}_{\\mu}$\",  r\"f($\\tilde{q}_{\\mu}|\\mu^{\\prime}$)\", 16)\n",
    "plot_tick(ax1, 16)\n",
    "ax1.legend(fontsize = 16)\n",
    "\n",
    "ax1.set_yscale('log')\n",
    "ax1.set_ylim(0.01, 100)\n",
    "ax1.set_xlim(0,10)\n",
    "#---------------------------------------------------------------------#\n",
    "fig.tight_layout()\n",
    "\n",
    "plt.savefig(savePath+str(\"toy.png\"), dpi=200)\n",
    "plt.show()"
   ]
  },
  {
   "cell_type": "code",
   "execution_count": null,
   "metadata": {},
   "outputs": [],
   "source": [
    "print(exp_limits_single[2])\n",
    "print(toy_mu_vals[nearest_idx])"
   ]
  },
  {
   "cell_type": "code",
   "execution_count": null,
   "metadata": {},
   "outputs": [],
   "source": [
    "(exp_limits_single[2] - toy_mu_vals[nearest_idx]) / exp_limits_single[2] * 100"
   ]
  },
  {
   "cell_type": "code",
   "execution_count": null,
   "metadata": {},
   "outputs": [],
   "source": [
    "(exp_limits_single[2] - toy_mu_vals[nearest_idx]) / toy_mu_vals[nearest_idx] * 100"
   ]
  }
 ],
 "metadata": {
  "kernelspec": {
   "display_name": "Python 3 (ipykernel)",
   "language": "python",
   "name": "python3"
  },
  "language_info": {
   "codemirror_mode": {
    "name": "ipython",
    "version": 3
   },
   "file_extension": ".py",
   "mimetype": "text/x-python",
   "name": "python",
   "nbconvert_exporter": "python",
   "pygments_lexer": "ipython3",
   "version": "3.9.7"
  }
 },
 "nbformat": 4,
 "nbformat_minor": 4
}
