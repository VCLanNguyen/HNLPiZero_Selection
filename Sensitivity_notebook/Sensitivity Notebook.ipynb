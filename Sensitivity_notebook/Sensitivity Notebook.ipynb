{
 "cells": [
  {
   "cell_type": "code",
   "execution_count": 1,
   "metadata": {},
   "outputs": [],
   "source": [
    "# Add the relevant scripts from LArMachineLearningData\n",
    "# Nice the process so it can run with lots of cores on low priority\n",
    "import os\n",
    "os.nice(20)\n",
    "\n",
    "# Add local paths\n",
    "import sys\n",
    "hnlDIR = os.environ['_']\n",
    "sys.path.append('../pyscript')\n",
    "\n",
    "# From pyscript Library\n",
    "from Plotting import *\n",
    "from Dictionary import *\n",
    "from HelperFunctions import *\n",
    "from CutFunctions import *\n",
    "\n",
    "import pickle\n",
    "import numpy as np\n",
    "import pandas as pd\n",
    "import matplotlib.pyplot as plt\n",
    "\n",
    "import warnings\n",
    "warnings.filterwarnings(\"ignore\")\n",
    "\n",
    "import pyhf\n",
    "from pyhf.contrib.viz import brazil\n",
    "\n",
    "pyhf.set_backend(\"numpy\")"
   ]
  },
  {
   "cell_type": "code",
   "execution_count": 2,
   "metadata": {},
   "outputs": [],
   "source": [
    "ifTune = False\n",
    "ifSave = True\n",
    "savePath = \"../plot_files/06Feb24/\""
   ]
  },
  {
   "cell_type": "markdown",
   "metadata": {},
   "source": [
    "<h1> Read in HNL Dictionary </h1>"
   ]
  },
  {
   "cell_type": "code",
   "execution_count": 3,
   "metadata": {},
   "outputs": [],
   "source": [
    "# Load\n",
    "hnl_dict = np.load('./HNL.npy',allow_pickle='TRUE').item()"
   ]
  },
  {
   "cell_type": "code",
   "execution_count": 4,
   "metadata": {},
   "outputs": [
    {
     "data": {
      "text/plain": [
       "{'200': {'U': 8.944271909999159e-08,\n",
       "  'sig': array([18.63986556, 15.97359613, 13.06712225, 10.35281193,  7.30221537,\n",
       "          5.16439574,  4.13151659,  3.36286234,  3.36286234]),\n",
       "  'sig_flux': array([1.23132667, 1.05858028, 0.89070936, 0.72585306, 0.52270672,\n",
       "         0.38466216, 0.30198156, 0.24228799, 0.24556319]),\n",
       "  'sig_stats': array([0.23162136, 0.25020654, 0.27663685, 0.31079272, 0.37006046,\n",
       "         0.44003806, 0.49197751, 0.5453125 , 0.5453125 ]),\n",
       "  'bkg': array([0., 0., 0., 0., 0., 0., 0., 0., 0.]),\n",
       "  'bkg_flux': array([0., 0., 0., 0., 0., 0., 0., 0., 0.]),\n",
       "  'bkg_stats': array([0., 0., 0., 0., 0., 0., 0., 0., 0.])}}"
      ]
     },
     "execution_count": 4,
     "metadata": {},
     "output_type": "execute_result"
    }
   ],
   "source": [
    "hnl_dict"
   ]
  },
  {
   "cell_type": "markdown",
   "metadata": {},
   "source": [
    "<h1> Counting Experiment / Sum All Bins</h1>"
   ]
  },
  {
   "cell_type": "code",
   "execution_count": 5,
   "metadata": {},
   "outputs": [],
   "source": [
    "def error_prop_sum(x_arr):\n",
    "    sumX = 0\n",
    "    for x in x_arr:\n",
    "        sumX += x**2\n",
    "    sumX = np.sqrt(sumX)\n",
    "    return sumX"
   ]
  },
  {
   "cell_type": "code",
   "execution_count": 6,
   "metadata": {},
   "outputs": [],
   "source": [
    "fitU = hnl_dict['200']['U']\n",
    "\n",
    "sigTot = np.sum(hnl_dict['200']['sig'])\n",
    "bkgTot = np.sum(hnl_dict['200']['bkg'])\n",
    "\n",
    "sigTotStatErr = 1 / np.sqrt(sigTot)\n",
    "bkgTotStatErr = 0\n",
    "\n",
    "sigTotFluxErr = error_prop_sum(hnl_dict['200']['sig_flux'])\n",
    "bkgTotFluxErr = error_prop_sum(hnl_dict['200']['bkg_flux'])"
   ]
  },
  {
   "cell_type": "code",
   "execution_count": 7,
   "metadata": {},
   "outputs": [
    {
     "name": "stdout",
     "output_type": "stream",
     "text": [
      "81.35724824475643\n",
      "0.0\n",
      "0.11086689242367065\n",
      "0\n",
      "2.1420476896621508\n",
      "0.0\n"
     ]
    }
   ],
   "source": [
    "print(sigTot)\n",
    "print(bkgTot)\n",
    "print(sigTotStatErr)\n",
    "print(bkgTotStatErr)\n",
    "print(sigTotFluxErr)\n",
    "print(bkgTotFluxErr)"
   ]
  },
  {
   "cell_type": "markdown",
   "metadata": {},
   "source": [
    "<h3> Stats Uncertainty Only </h3>"
   ]
  },
  {
   "cell_type": "code",
   "execution_count": 8,
   "metadata": {},
   "outputs": [
    {
     "name": "stdout",
     "output_type": "stream",
     "text": [
      "Samples:\n",
      " ['background', 'signal']\n",
      "Modifiers are:\n",
      " [('mu', 'normfactor'), ('uncorr_bkg_stat', 'shapesys'), ('uncorr_sig_stat', 'shapesys')]\n"
     ]
    }
   ],
   "source": [
    "model_dict = pyhf.Model(\n",
    "        {\n",
    "      \"channels\": [\n",
    "        {\n",
    "          \"name\": \"singlechannel\",\n",
    "          \"samples\": [\n",
    "            {\n",
    "              \"name\": \"signal\",\n",
    "              \"data\": [sigTot],\n",
    "              \"modifiers\": [\n",
    "                {\"name\": \"mu\", \"type\": \"normfactor\", \"data\": None}, #This is the scaling which is to be calculated\n",
    "                {\"name\": \"uncorr_sig_stat\", \"type\": \"shapesys\", \"data\": [sigTotStatErr]}\n",
    "              ]\n",
    "            },\n",
    "            {\n",
    "              \"name\": \"background\",\n",
    "              \"data\": [bkgTot],\n",
    "              \"modifiers\": [\n",
    "                {\"name\": \"uncorr_bkg_stat\", \"type\": \"shapesys\", \"data\": [bkgTotStatErr]}\n",
    "              ]\n",
    "            }\n",
    "          ]\n",
    "        }\n",
    "      ]\n",
    "    }\n",
    "    )\n",
    "\n",
    "print(f'Samples:\\n {model_dict.config.samples}')\n",
    "print(f'Modifiers are:\\n {model_dict.config.modifiers}')"
   ]
  },
  {
   "cell_type": "code",
   "execution_count": 9,
   "metadata": {},
   "outputs": [],
   "source": [
    "# No DATA --> Data == Background\n",
    "\n",
    "data = [bkgTot]+model_dict.config.auxdata"
   ]
  },
  {
   "cell_type": "code",
   "execution_count": 10,
   "metadata": {},
   "outputs": [
    {
     "name": "stdout",
     "output_type": "stream",
     "text": [
      "Upper limit (obs): μ = 0.0197\n",
      "Upper limit (exp): μ = 0.0197\n",
      "\n"
     ]
    }
   ],
   "source": [
    "#poi_values = np.linspace(0.001, 2, 50)\n",
    "poi_values = np.linspace(0, 1, 50)\n",
    "\n",
    "obs_limit_single, exp_limits_single, (scan, results) = pyhf.infer.intervals.upper_limits.upper_limit(data, \n",
    "                                                                                        model_dict, \n",
    "                                                                                        poi_values, \n",
    "                                                                                        level=0.1, \n",
    "                                                                                        return_results=True)\n",
    "\n",
    "print(f\"Upper limit (obs): μ = {obs_limit_single:.4f}\")\n",
    "print(f\"Upper limit (exp): μ = {exp_limits_single[2]:.4f}\" + \"\\n\")"
   ]
  },
  {
   "cell_type": "code",
   "execution_count": 11,
   "metadata": {},
   "outputs": [
    {
     "name": "stdout",
     "output_type": "stream",
     "text": [
      "Expected limit is 1.2559039891042026e-08\n",
      "Observed limit is 1.2559039890663893e-08\n",
      "\n"
     ]
    }
   ],
   "source": [
    "EXP_LIMIT = np.sqrt(exp_limits_single[2])*fitU\n",
    "LIMIT = np.sqrt(obs_limit_single)*fitU\n",
    "print(f\"Expected limit is \" + str(EXP_LIMIT))\n",
    "print(f\"Observed limit is \" + str(LIMIT)+ \"\\n\")\n",
    "\n",
    "sumHistStats = EXP_LIMIT"
   ]
  },
  {
   "cell_type": "code",
   "execution_count": 12,
   "metadata": {},
   "outputs": [
    {
     "data": {
      "image/png": "[encoded data removed]",
      "text/plain": [
       "<Figure size 504x360 with 1 Axes>"
      ]
     },
     "metadata": {
      "needs_background": "light"
     },
     "output_type": "display_data"
    }
   ],
   "source": [
    "poi_vals = np.linspace(0, 0.2, 40)\n",
    "\n",
    "results = [\n",
    "    pyhf.infer.hypotest(\n",
    "        test_poi, data, model_dict, test_stat=\"qtilde\", return_expected_set=True\n",
    "    )\n",
    "    for test_poi in poi_vals\n",
    "]\n",
    "\n",
    "fig, ax = plt.subplots()\n",
    "fig.set_size_inches(7, 5)\n",
    "brazil.plot_results(poi_vals, results, ax=ax, test_size=0.10,)\n",
    "plt.ylim(0.0,0.2)\n",
    "fig.show()"
   ]
  },
  {
   "cell_type": "code",
   "execution_count": 34,
   "metadata": {},
   "outputs": [],
   "source": [
    "cls_obs = np.array([result[0] for result in results]).flatten()\n",
    "cls_exp = [np.array([result[1][i] for result in results]).flatten() for i in range(5)]"
   ]
  },
  {
   "cell_type": "code",
   "execution_count": 37,
   "metadata": {},
   "outputs": [
    {
     "data": {
      "text/plain": [
       "[array([1.00000000e+00, 2.19521313e-01, 1.07238949e-01, 5.97274599e-02,\n",
       "        3.55964980e-02, 2.21513802e-02, 1.42134060e-02, 9.33387320e-03,\n",
       "        6.24286392e-03, 4.23887178e-03, 2.91414054e-03, 2.02489089e-03,\n",
       "        1.42004116e-03, 1.00395351e-03, 7.14889384e-04, 5.12326248e-04,\n",
       "        3.69284331e-04, 2.67577182e-04, 1.94810316e-04, 1.42455073e-04,\n",
       "        1.04591899e-04, 7.70799975e-05, 5.70024489e-05, 4.22895253e-05,\n",
       "        3.14719985e-05, 2.34860434e-05, 1.75742214e-05, 1.31842486e-05,\n",
       "        9.91396834e-06, 7.47165865e-06, 5.64307256e-06, 4.27066317e-06,\n",
       "        3.23828036e-06, 2.45999376e-06, 1.87205180e-06, 1.42702818e-06,\n",
       "        1.08954976e-06, 8.33160496e-07, 6.38060726e-07, 4.89339588e-07,\n",
       "        3.75797601e-07, 2.88982067e-07, 2.22505268e-07, 1.71531042e-07,\n",
       "        1.32391418e-07, 1.02299686e-07, 7.91352151e-08, 6.12817040e-08,\n",
       "        4.75053673e-08, 3.68631006e-08]),\n",
       " array([1.00000000e+00, 3.62331801e-01, 2.19157220e-01, 1.44076942e-01,\n",
       "        9.88628569e-02, 6.97085100e-02, 5.01054202e-02, 3.65407276e-02,\n",
       "        2.69543867e-02, 2.00703709e-02, 1.50597820e-02, 1.13748257e-02,\n",
       "        8.64057712e-03, 6.59633488e-03, 5.05794335e-03, 3.89359243e-03,\n",
       "        3.00787789e-03, 2.33108671e-03, 1.81184625e-03, 1.41202538e-03,\n",
       "        1.10313762e-03, 8.63777937e-04, 6.77779571e-04, 5.32857176e-04,\n",
       "        4.19718466e-04, 3.31144983e-04, 2.61694533e-04, 2.07131360e-04,\n",
       "        1.64173246e-04, 1.30300594e-04, 1.03549692e-04, 8.23910189e-05,\n",
       "        6.56318022e-05, 5.23393609e-05, 4.17830481e-05, 3.33894359e-05,\n",
       "        2.67076996e-05, 2.13826528e-05, 1.71347461e-05, 1.37423151e-05,\n",
       "        1.10305515e-05, 8.86086860e-06, 7.12335523e-06, 5.73073570e-06,\n",
       "        4.61362793e-06, 3.71681322e-06, 2.99629833e-06, 2.41699757e-06,\n",
       "        1.95090142e-06, 1.57563057e-06]),\n",
       " array([1.00000000e+00, 5.64456446e-01, 4.15135551e-01, 3.18281450e-01,\n",
       "        2.49179495e-01, 1.97636687e-01, 1.58177872e-01, 1.27447883e-01,\n",
       "        1.03222832e-01, 8.39564683e-02, 6.85172639e-02, 5.60782461e-02,\n",
       "        4.60101159e-02, 3.78296249e-02, 3.11612299e-02, 2.57102596e-02,\n",
       "        2.12436566e-02, 1.75759100e-02, 1.45584993e-02, 1.20719759e-02,\n",
       "        1.00198789e-02, 8.32402910e-03, 6.92087044e-03, 5.75844505e-03,\n",
       "        4.79487833e-03, 3.99492847e-03, 3.33056438e-03, 2.77834671e-03,\n",
       "        2.31885863e-03, 1.93633114e-03, 1.61767456e-03, 1.35206036e-03,\n",
       "        1.13053592e-03, 9.45684828e-04, 7.91358738e-04, 6.62456206e-04,\n",
       "        5.54741020e-04, 4.64689927e-04, 3.89383343e-04, 3.26376597e-04,\n",
       "        2.73643546e-04, 2.29493727e-04, 1.92517867e-04, 1.61540486e-04,\n",
       "        1.35580633e-04, 1.13819301e-04, 9.55723938e-05, 8.02682560e-05,\n",
       "        6.74289891e-05, 5.66549840e-05]),\n",
       " array([1.        , 0.78936899, 0.68156224, 0.5952371 , 0.52232759,\n",
       "        0.45944686, 0.40465371, 0.35663689, 0.31441932, 0.27723781,\n",
       "        0.24443633, 0.21548677, 0.18992817, 0.1673607 , 0.14743496,\n",
       "        0.1298441 , 0.1143177 , 0.10061702, 0.08853086, 0.07787231,\n",
       "        0.06847582, 0.06019475, 0.05289916, 0.04647311, 0.04081728,\n",
       "        0.03583806, 0.03145809, 0.02760641, 0.0242193 , 0.02124217,\n",
       "        0.01862625, 0.01632836, 0.01431045, 0.01253892, 0.01098413,\n",
       "        0.00961993, 0.00842329, 0.00737386, 0.00645386, 0.00564745,\n",
       "        0.00494079, 0.00432171, 0.00377946, 0.00330462, 0.00288891,\n",
       "        0.00252503, 0.0022066 , 0.00192799, 0.00168428, 0.00147113]),\n",
       " array([1.        , 0.94422399, 0.90254616, 0.86142682, 0.82034807,\n",
       "        0.77940188, 0.73880125, 0.69877323, 0.65952683, 0.6212545 ,\n",
       "        0.58408769, 0.54815735, 0.51355834, 0.48036096, 0.44861363,\n",
       "        0.41834557, 0.38956924, 0.36228296, 0.3364728 , 0.3121147 ,\n",
       "        0.28917625, 0.26761821, 0.2473959 , 0.22845788, 0.21076022,\n",
       "        0.19423837, 0.17884509, 0.16452382, 0.15121408, 0.1388627 ,\n",
       "        0.1274153 , 0.11681832, 0.10701996, 0.09797006, 0.08962034,\n",
       "        0.08192447, 0.07483823, 0.06831929, 0.0623283 , 0.05682678,\n",
       "        0.0517792 , 0.04715191, 0.04291328, 0.03903365, 0.03548524,\n",
       "        0.03224212, 0.02928008, 0.02657661, 0.02411075, 0.02186305])]"
      ]
     },
     "execution_count": 37,
     "metadata": {},
     "output_type": "execute_result"
    }
   ],
   "source": [
    "cls_exp"
   ]
  },
  {
   "cell_type": "markdown",
   "metadata": {},
   "source": [
    "<h3>Stats + Uncorrelated Flux Weight Uncertainty</h3>"
   ]
  },
  {
   "cell_type": "code",
   "execution_count": 13,
   "metadata": {},
   "outputs": [
    {
     "name": "stdout",
     "output_type": "stream",
     "text": [
      "Samples:\n",
      " ['background', 'signal']\n",
      "Modifiers are:\n",
      " [('mu', 'normfactor'), ('uncorr_bkg_flux', 'shapesys'), ('uncorr_bkg_stat', 'shapesys'), ('uncorr_sig_flux', 'shapesys'), ('uncorr_sig_stat', 'shapesys')]\n"
     ]
    }
   ],
   "source": [
    "model_dict = pyhf.Model(\n",
    "        {\n",
    "      \"channels\": [\n",
    "        {\n",
    "          \"name\": \"singlechannel\",\n",
    "          \"samples\": [\n",
    "            {\n",
    "              \"name\": \"signal\",\n",
    "              \"data\": [sigTot],\n",
    "              \"modifiers\": [\n",
    "                {\"name\": \"mu\", \"type\": \"normfactor\", \"data\": None}, #This is the scaling which is to be calculated\n",
    "                {\"name\": \"uncorr_sig_stat\", \"type\": \"shapesys\", \"data\": [sigTotStatErr]},\n",
    "                {\"name\": \"uncorr_sig_flux\", \"type\": \"shapesys\", \"data\": [sigTotFluxErr]}\n",
    "              ]\n",
    "            },\n",
    "            {\n",
    "              \"name\": \"background\",\n",
    "              \"data\": [bkgTot],\n",
    "              \"modifiers\": [\n",
    "                {\"name\": \"uncorr_bkg_stat\", \"type\": \"shapesys\", \"data\": [bkgTotStatErr]},\n",
    "                {\"name\": \"uncorr_bkg_flux\", \"type\": \"shapesys\", \"data\": [bkgTotFluxErr]}\n",
    "              ]\n",
    "            }\n",
    "          ]\n",
    "        }\n",
    "      ]\n",
    "    }\n",
    "    )\n",
    "\n",
    "print(f'Samples:\\n {model_dict.config.samples}')\n",
    "print(f'Modifiers are:\\n {model_dict.config.modifiers}')"
   ]
  },
  {
   "cell_type": "code",
   "execution_count": 14,
   "metadata": {},
   "outputs": [],
   "source": [
    "# No DATA --> Data == Background\n",
    "\n",
    "data = [bkgTot]+model_dict.config.auxdata"
   ]
  },
  {
   "cell_type": "code",
   "execution_count": 15,
   "metadata": {},
   "outputs": [
    {
     "name": "stdout",
     "output_type": "stream",
     "text": [
      "Upper limit (obs): μ = 0.0197\n",
      "Upper limit (exp): μ = 0.0197\n",
      "\n"
     ]
    }
   ],
   "source": [
    "#poi_values = np.linspace(0.001, 2, 50)\n",
    "poi_values = np.linspace(0, 1, 50)\n",
    "\n",
    "obs_limit_single, exp_limits_single, (scan, results) = pyhf.infer.intervals.upper_limits.upper_limit(data, \n",
    "                                                                                        model_dict, \n",
    "                                                                                        poi_values, \n",
    "                                                                                        level=0.1, \n",
    "                                                                                        return_results=True)\n",
    "\n",
    "print(f\"Upper limit (obs): μ = {obs_limit_single:.4f}\")\n",
    "print(f\"Upper limit (exp): μ = {exp_limits_single[2]:.4f}\" + \"\\n\")"
   ]
  },
  {
   "cell_type": "code",
   "execution_count": 16,
   "metadata": {},
   "outputs": [
    {
     "name": "stdout",
     "output_type": "stream",
     "text": [
      "Expected limit is 1.2559575810557773e-08\n",
      "Observed limit is 1.2559581116183777e-08\n",
      "\n"
     ]
    }
   ],
   "source": [
    "EXP_LIMIT = np.sqrt(exp_limits_single[2])*fitU\n",
    "LIMIT = np.sqrt(obs_limit_single)*fitU\n",
    "print(f\"Expected limit is \" + str(EXP_LIMIT))\n",
    "print(f\"Observed limit is \" + str(LIMIT)+ \"\\n\")\n",
    "\n",
    "sumHistStatsFlux = EXP_LIMIT"
   ]
  },
  {
   "cell_type": "markdown",
   "metadata": {},
   "source": [
    "<h1> Histogram Fit</h1>"
   ]
  },
  {
   "cell_type": "code",
   "execution_count": 17,
   "metadata": {},
   "outputs": [],
   "source": [
    "sigFit = hnl_dict['200']['sig'].tolist()\n",
    "bkgFit = hnl_dict['200']['bkg'].tolist()\n",
    "\n",
    "sigStatErr = hnl_dict['200']['sig_stats'].tolist()\n",
    "bkgStatErr = hnl_dict['200']['bkg_stats'].tolist()\n",
    "\n",
    "sigFluxErr = hnl_dict['200']['sig_flux'].tolist()\n",
    "bkgFluxErr = hnl_dict['200']['bkg_flux'].tolist()"
   ]
  },
  {
   "cell_type": "markdown",
   "metadata": {},
   "source": [
    "<h3> Stats Uncertainty Only </h3>"
   ]
  },
  {
   "cell_type": "code",
   "execution_count": 18,
   "metadata": {},
   "outputs": [
    {
     "name": "stdout",
     "output_type": "stream",
     "text": [
      "Samples:\n",
      " ['background', 'signal']\n",
      "Modifiers are:\n",
      " [('mu', 'normfactor'), ('uncorr_bkg_stat', 'shapesys'), ('uncorr_sig_stat', 'shapesys')]\n"
     ]
    }
   ],
   "source": [
    "model_dict = pyhf.Model(\n",
    "        {\n",
    "      \"channels\": [\n",
    "        {\n",
    "          \"name\": \"singlechannel\",\n",
    "          \"samples\": [\n",
    "            {\n",
    "              \"name\": \"signal\",\n",
    "              \"data\": sigFit,\n",
    "              \"modifiers\": [\n",
    "                {\"name\": \"mu\", \"type\": \"normfactor\", \"data\": None}, #This is the scaling which is to be calculated\n",
    "                {\"name\": \"uncorr_sig_stat\", \"type\": \"shapesys\", \"data\": sigStatErr}\n",
    "              ]\n",
    "            },\n",
    "            {\n",
    "              \"name\": \"background\",\n",
    "              \"data\": bkgFit,\n",
    "              \"modifiers\": [\n",
    "                {\"name\": \"uncorr_bkg_stat\", \"type\": \"shapesys\", \"data\": bkgStatErr}\n",
    "              ]\n",
    "            }\n",
    "          ]\n",
    "        }\n",
    "      ]\n",
    "    }\n",
    "    )\n",
    "\n",
    "print(f'Samples:\\n {model_dict.config.samples}')\n",
    "print(f'Modifiers are:\\n {model_dict.config.modifiers}')"
   ]
  },
  {
   "cell_type": "code",
   "execution_count": 19,
   "metadata": {},
   "outputs": [],
   "source": [
    "# No DATA --> Data == Background\n",
    "\n",
    "data = bkgFit + model_dict.config.auxdata"
   ]
  },
  {
   "cell_type": "code",
   "execution_count": 20,
   "metadata": {},
   "outputs": [
    {
     "name": "stdout",
     "output_type": "stream",
     "text": [
      "Upper limit (obs): μ = 0.0167\n",
      "Upper limit (exp): μ = 0.0167\n",
      "\n"
     ]
    }
   ],
   "source": [
    "poi_values = np.linspace(0, 0.1, 50)\n",
    "\n",
    "obs_limit_single, exp_limits_single, (scan, results) = pyhf.infer.intervals.upper_limits.upper_limit(data, \n",
    "                                                                                        model_dict, \n",
    "                                                                                        poi_values, \n",
    "                                                                                        level=0.1, \n",
    "                                                                                        return_results=True)\n",
    "\n",
    "print(f\"Upper limit (obs): μ = {obs_limit_single:.4f}\")\n",
    "print(f\"Upper limit (exp): μ = {exp_limits_single[2]:.4f}\" + \"\\n\")"
   ]
  },
  {
   "cell_type": "code",
   "execution_count": 21,
   "metadata": {},
   "outputs": [
    {
     "name": "stdout",
     "output_type": "stream",
     "text": [
      "Expected limit is 1.1544674828214734e-08\n",
      "Observed limit is 1.1544674828214734e-08\n",
      "\n"
     ]
    }
   ],
   "source": [
    "EXP_LIMIT = np.sqrt(exp_limits_single[2])*fitU\n",
    "LIMIT = np.sqrt(obs_limit_single)*fitU\n",
    "print(f\"Expected limit is \" + str(EXP_LIMIT))\n",
    "print(f\"Observed limit is \" + str(LIMIT)+ \"\\n\")\n",
    "\n",
    "HistStats = EXP_LIMIT"
   ]
  },
  {
   "cell_type": "markdown",
   "metadata": {},
   "source": [
    "<h3>Stats + Uncorrelated Flux Uncertainty </h3>"
   ]
  },
  {
   "cell_type": "code",
   "execution_count": 22,
   "metadata": {},
   "outputs": [
    {
     "name": "stdout",
     "output_type": "stream",
     "text": [
      "Samples:\n",
      " ['background', 'signal']\n",
      "Modifiers are:\n",
      " [('mu', 'normfactor'), ('uncorr_bkg_flux', 'shapesys'), ('uncorr_bkg_stat', 'shapesys'), ('uncorr_sig_flux', 'shapesys'), ('uncorr_sig_stat', 'shapesys')]\n"
     ]
    }
   ],
   "source": [
    "model_dict = pyhf.Model(\n",
    "        {\n",
    "      \"channels\": [\n",
    "        {\n",
    "          \"name\": \"singlechannel\",\n",
    "          \"samples\": [\n",
    "            {\n",
    "              \"name\": \"signal\",\n",
    "              \"data\": sigFit,\n",
    "              \"modifiers\": [\n",
    "                {\"name\": \"mu\", \"type\": \"normfactor\", \"data\": None}, #This is the scaling which is to be calculated\n",
    "                {\"name\": \"uncorr_sig_stat\", \"type\": \"shapesys\", \"data\": sigStatErr},\n",
    "                {\"name\": \"uncorr_sig_flux\", \"type\": \"shapesys\", \"data\": sigFluxErr}\n",
    "              ]\n",
    "            },\n",
    "            {\n",
    "              \"name\": \"background\",\n",
    "              \"data\": bkgFit,\n",
    "              \"modifiers\": [\n",
    "                {\"name\": \"uncorr_bkg_stat\", \"type\": \"shapesys\", \"data\": bkgStatErr},\n",
    "                {\"name\": \"uncorr_bkg_flux\", \"type\": \"shapesys\", \"data\": bkgFluxErr}\n",
    "              ]\n",
    "            }\n",
    "          ]\n",
    "        }\n",
    "      ]\n",
    "    }\n",
    "    )\n",
    "\n",
    "print(f'Samples:\\n {model_dict.config.samples}')\n",
    "print(f'Modifiers are:\\n {model_dict.config.modifiers}')"
   ]
  },
  {
   "cell_type": "code",
   "execution_count": 23,
   "metadata": {},
   "outputs": [],
   "source": [
    "# No DATA --> Data == Background\n",
    "\n",
    "data = bkgFit + model_dict.config.auxdata"
   ]
  },
  {
   "cell_type": "code",
   "execution_count": 24,
   "metadata": {},
   "outputs": [
    {
     "name": "stdout",
     "output_type": "stream",
     "text": [
      "Upper limit (obs): μ = 0.0167\n",
      "Upper limit (exp): μ = 0.0167\n",
      "\n"
     ]
    }
   ],
   "source": [
    "poi_values = np.linspace(0, 0.1, 50)\n",
    "\n",
    "obs_limit_single, exp_limits_single, (scan, results) = pyhf.infer.intervals.upper_limits.upper_limit(data, \n",
    "                                                                                        model_dict, \n",
    "                                                                                        poi_values, \n",
    "                                                                                        level=0.1, \n",
    "                                                                                        return_results=True)\n",
    "\n",
    "print(f\"Upper limit (obs): μ = {obs_limit_single:.4f}\")\n",
    "print(f\"Upper limit (exp): μ = {exp_limits_single[2]:.4f}\" + \"\\n\")"
   ]
  },
  {
   "cell_type": "code",
   "execution_count": 25,
   "metadata": {},
   "outputs": [
    {
     "name": "stdout",
     "output_type": "stream",
     "text": [
      "Expected limit is 1.1547592002967485e-08\n",
      "Observed limit is 1.1547592002967485e-08\n",
      "\n"
     ]
    }
   ],
   "source": [
    "EXP_LIMIT = np.sqrt(exp_limits_single[2])*fitU\n",
    "LIMIT = np.sqrt(obs_limit_single)*fitU\n",
    "print(f\"Expected limit is \" + str(EXP_LIMIT))\n",
    "print(f\"Observed limit is \" + str(LIMIT)+ \"\\n\")\n",
    "\n",
    "HistStatsUncorrFlux = EXP_LIMIT"
   ]
  },
  {
   "cell_type": "markdown",
   "metadata": {},
   "source": [
    "<h3>Quadrature Sum</h3>"
   ]
  },
  {
   "cell_type": "code",
   "execution_count": 26,
   "metadata": {},
   "outputs": [
    {
     "name": "stdout",
     "output_type": "stream",
     "text": [
      "[1.252922113825829, 1.0877479099336318, 0.9326795287583625, 0.7895915269062828, 0.6404428636801085, 0.5844642596864936, 0.5772648713064708, 0.5967153393973416, 0.5980526782959725]\n"
     ]
    }
   ],
   "source": [
    "sigQuadErr = []\n",
    "for x, y in zip(sigStatErr, sigFluxErr):\n",
    "    err = np.sqrt(x**2 + y**2)\n",
    "    sigQuadErr.append(err)\n",
    "    \n",
    "print(sigQuadErr)"
   ]
  },
  {
   "cell_type": "code",
   "execution_count": 27,
   "metadata": {},
   "outputs": [
    {
     "name": "stdout",
     "output_type": "stream",
     "text": [
      "Samples:\n",
      " ['background', 'signal']\n",
      "Modifiers are:\n",
      " [('mu', 'normfactor'), ('uncorr_bkg_stat', 'shapesys'), ('uncorr_sig_stat', 'shapesys')]\n"
     ]
    }
   ],
   "source": [
    "model_dict = pyhf.Model(\n",
    "        {\n",
    "      \"channels\": [\n",
    "        {\n",
    "          \"name\": \"singlechannel\",\n",
    "          \"samples\": [\n",
    "            {\n",
    "              \"name\": \"signal\",\n",
    "              \"data\": sigFit,\n",
    "              \"modifiers\": [\n",
    "                {\"name\": \"mu\", \"type\": \"normfactor\", \"data\": None}, #This is the scaling which is to be calculated\n",
    "                {\"name\": \"uncorr_sig_stat\", \"type\": \"shapesys\", \"data\": sigQuadErr}\n",
    "              ]\n",
    "            },\n",
    "            {\n",
    "              \"name\": \"background\",\n",
    "              \"data\": bkgFit,\n",
    "              \"modifiers\": [\n",
    "                {\"name\": \"uncorr_bkg_stat\", \"type\": \"shapesys\", \"data\": bkgStatErr}\n",
    "              ]\n",
    "            }\n",
    "          ]\n",
    "        }\n",
    "      ]\n",
    "    }\n",
    "    )\n",
    "\n",
    "print(f'Samples:\\n {model_dict.config.samples}')\n",
    "print(f'Modifiers are:\\n {model_dict.config.modifiers}')"
   ]
  },
  {
   "cell_type": "code",
   "execution_count": 28,
   "metadata": {},
   "outputs": [],
   "source": [
    "# No DATA --> Data == Background\n",
    "\n",
    "data = bkgFit + model_dict.config.auxdata"
   ]
  },
  {
   "cell_type": "code",
   "execution_count": 29,
   "metadata": {},
   "outputs": [
    {
     "name": "stdout",
     "output_type": "stream",
     "text": [
      "Upper limit (obs): μ = 0.0167\n",
      "Upper limit (exp): μ = 0.0167\n",
      "\n"
     ]
    }
   ],
   "source": [
    "poi_values = np.linspace(0, 0.1, 50)\n",
    "\n",
    "obs_limit_single, exp_limits_single, (scan, results) = pyhf.infer.intervals.upper_limits.upper_limit(data, \n",
    "                                                                                        model_dict, \n",
    "                                                                                        poi_values, \n",
    "                                                                                        level=0.1, \n",
    "                                                                                        return_results=True)\n",
    "\n",
    "print(f\"Upper limit (obs): μ = {obs_limit_single:.4f}\")\n",
    "print(f\"Upper limit (exp): μ = {exp_limits_single[2]:.4f}\" + \"\\n\")"
   ]
  },
  {
   "cell_type": "code",
   "execution_count": 30,
   "metadata": {},
   "outputs": [
    {
     "name": "stdout",
     "output_type": "stream",
     "text": [
      "Expected limit is 1.1547437325351684e-08\n",
      "Observed limit is 1.1547437325351684e-08\n",
      "\n"
     ]
    }
   ],
   "source": [
    "EXP_LIMIT = np.sqrt(exp_limits_single[2])*fitU\n",
    "LIMIT = np.sqrt(obs_limit_single)*fitU\n",
    "print(f\"Expected limit is \" + str(EXP_LIMIT))\n",
    "print(f\"Observed limit is \" + str(LIMIT)+ \"\\n\")\n",
    "\n",
    "HistQuadErr = EXP_LIMIT"
   ]
  },
  {
   "cell_type": "markdown",
   "metadata": {},
   "source": [
    "<h1>Plot</h1>"
   ]
  },
  {
   "cell_type": "code",
   "execution_count": 31,
   "metadata": {},
   "outputs": [
    {
     "name": "stdout",
     "output_type": "stream",
     "text": [
      "1.2559039891042026e-08\n",
      "1.2559575810557773e-08\n",
      "1.1544674828214734e-08\n",
      "1.1547592002967485e-08\n",
      "1.1547437325351684e-08\n"
     ]
    }
   ],
   "source": [
    "print(sumHistStats)\n",
    "print(sumHistStatsFlux)\n",
    "\n",
    "print(HistStats)\n",
    "print(HistStatsUncorrFlux)\n",
    "print(HistQuadErr)"
   ]
  },
  {
   "cell_type": "code",
   "execution_count": 32,
   "metadata": {},
   "outputs": [],
   "source": [
    "truth_keptall_eff6 = [2.86511499e-07, 2.39422232e-07, 2.03199194e-07, 1.73231133e-07,\n",
    "       1.53102395e-07, 1.36252088e-07, 1.18427487e-07, 1.08143568e-07,\n",
    "       9.89825969e-08, 9.11014142e-08, 8.47628114e-08, 7.83813308e-08,\n",
    "       7.35043555e-08, 6.94843285e-08, 6.63623578e-08, 6.13394286e-08,\n",
    "       5.92438431e-08, 5.58743660e-08, 5.33525442e-08, 4.98128181e-08,\n",
    "       4.73009811e-08, 4.48553546e-08, 4.18018862e-08, 3.92112866e-08,\n",
    "       3.78192449e-08, 3.61950868e-08, 3.43371614e-08, 3.27240829e-08,\n",
    "       3.24631805e-08, 3.10644104e-08, 3.05293818e-08, 2.87910113e-08,\n",
    "       2.78364688e-08, 2.56644802e-08, 2.51186433e-08, 2.45098885e-08,\n",
    "       2.38659244e-08, 2.25502542e-08, 2.21790510e-08, 2.15899712e-08,\n",
    "       2.12649093e-08, 2.06274291e-08, 2.03773313e-08, 1.96340364e-08,\n",
    "       1.85347912e-08, 1.82909252e-08, 1.75781442e-08, 1.67300003e-08,\n",
    "       1.66046784e-08, 1.58717646e-08, 1.55195813e-08, 1.53911843e-08,\n",
    "       1.47224741e-08, 1.46323197e-08, 1.40726902e-08, 1.37266731e-08,\n",
    "       1.33494438e-08, 1.29057977e-08, 1.25740591e-08, 1.23369035e-08,\n",
    "       1.19901593e-08, 1.19686495e-08, 1.18047484e-08, 1.15259397e-08,\n",
    "       1.12301811e-08, 1.05196994e-08, 1.04957734e-08, 1.03552231e-08,\n",
    "       9.94526855e-09, 9.89544275e-09, 9.76438603e-09, 9.55189442e-09,\n",
    "       9.21343579e-09, 9.09712427e-09, 8.78050771e-09, 8.71313480e-09,\n",
    "       8.50868242e-09, 8.52141288e-09, 8.18778714e-09, 8.16115990e-09,\n",
    "       7.88183352e-09, 7.70329186e-09, 7.60536280e-09, 7.35131640e-09,\n",
    "       7.11484856e-09, 7.10275520e-09, 7.09866671e-09, 6.95697066e-09,\n",
    "       6.81591255e-09, 6.64591304e-09, 6.43498398e-09, 6.38653479e-09,\n",
    "       6.29605251e-09, 6.27369506e-09, 6.06667565e-09, 5.86700176e-09,\n",
    "       5.82369552e-09, 5.70600062e-09, 5.73800975e-09, 5.51139033e-09,\n",
    "       5.52711316e-09, 5.42822272e-09, 5.25412806e-09, 5.23241107e-09,\n",
    "       5.11108543e-09, 2.86511499e-07, 2.39422232e-07, 2.03199194e-07,\n",
    "       1.73231133e-07, 1.53102395e-07, 1.36252088e-07, 1.18427487e-07,\n",
    "       1.08143568e-07, 9.89825969e-08, 9.11014142e-08, 8.47628114e-08,\n",
    "       7.83813308e-08, 7.35043555e-08, 6.94843285e-08, 6.63623578e-08,\n",
    "       6.13394286e-08, 5.92438431e-08, 5.58743660e-08, 5.33525442e-08,\n",
    "       4.98128181e-08, 4.73009811e-08, 4.48553546e-08, 4.18018862e-08,\n",
    "       3.92112866e-08, 3.78192449e-08, 3.61950868e-08, 3.43371614e-08,\n",
    "       3.27240829e-08, 3.24631805e-08, 3.10644104e-08, 3.05293818e-08,\n",
    "       2.87910113e-08, 2.78364688e-08, 2.56644802e-08, 2.51186433e-08,\n",
    "       2.45098885e-08, 2.38659244e-08, 2.25502542e-08, 2.21790510e-08,\n",
    "       2.15899712e-08, 2.12649093e-08, 2.06274291e-08, 2.03773313e-08,\n",
    "       1.96340364e-08, 1.85347912e-08, 1.82909252e-08, 1.75781442e-08,\n",
    "       1.67300003e-08, 1.66046784e-08, 1.58717646e-08, 1.55195813e-08,\n",
    "       1.53911843e-08, 1.47224741e-08, 1.46323197e-08, 1.40726902e-08,\n",
    "       1.37266731e-08, 1.33494438e-08, 1.29057977e-08, 1.25740591e-08,\n",
    "       1.23369035e-08, 1.19901593e-08, 1.19686495e-08, 1.18047484e-08,\n",
    "       1.15259397e-08, 1.12301811e-08, 1.05196994e-08, 1.04957734e-08,\n",
    "       1.03552231e-08, 9.94526855e-09, 9.89544275e-09, 9.76438603e-09,\n",
    "       9.55189442e-09, 9.21343579e-09, 9.09712427e-09, 8.78050771e-09,\n",
    "       8.71313480e-09, 8.50868242e-09, 8.52141288e-09, 8.18778714e-09,\n",
    "       8.16115990e-09, 7.88183352e-09, 7.70329186e-09, 7.60536280e-09,\n",
    "       7.35131640e-09, 7.11484856e-09, 7.10275520e-09, 7.09866671e-09,\n",
    "       6.95697066e-09, 6.81591255e-09, 6.64591304e-09, 6.43498398e-09,\n",
    "       6.38653479e-09, 6.29605251e-09, 6.27369506e-09, 6.06667565e-09,\n",
    "       5.86700176e-09, 5.82369552e-09, 5.70600062e-09, 5.73800975e-09,\n",
    "       5.51139033e-09, 5.52711316e-09, 5.42822272e-09, 5.25412806e-09,\n",
    "       5.23241107e-09, 5.11108543e-09]\n",
    "\n",
    "m_array_nupi0 = [140, 141, 142, 143, 144, 145, 146, 147, 148, 149, 150, 151, 152,\n",
    "       153, 154, 155, 156, 157, 158, 159, 160, 161, 162, 163, 164, 165,\n",
    "       166, 167, 168, 169, 170, 171, 172, 173, 174, 175, 176, 177, 178,\n",
    "       179, 180, 181, 182, 183, 184, 185, 186, 187, 188, 189, 190, 191,\n",
    "       192, 193, 194, 195, 196, 197, 198, 199, 200, 201, 202, 203, 204,\n",
    "       205, 206, 207, 208, 209, 210, 211, 212, 213, 214, 215, 216, 217,\n",
    "       218, 219, 220, 221, 222, 223, 224, 225, 226, 227, 228, 229, 230,\n",
    "       231, 232, 233, 234, 235, 236, 237, 238, 239, 240, 241, 242, 243,\n",
    "       244, 140, 141, 142, 143, 144, 145, 146, 147, 148, 149, 150, 151,\n",
    "       152, 153, 154, 155, 156, 157, 158, 159, 160, 161, 162, 163, 164,\n",
    "       165, 166, 167, 168, 169, 170, 171, 172, 173, 174, 175, 176, 177,\n",
    "       178, 179, 180, 181, 182, 183, 184, 185, 186, 187, 188, 189, 190,\n",
    "       191, 192, 193, 194, 195, 196, 197, 198, 199, 200, 201, 202, 203,\n",
    "       204, 205, 206, 207, 208, 209, 210, 211, 212, 213, 214, 215, 216,\n",
    "       217, 218, 219, 220, 221, 222, 223, 224, 225, 226, 227, 228, 229,\n",
    "       230, 231, 232, 233, 234, 235, 236, 237, 238, 239, 240, 241, 242,\n",
    "       243, 244]"
   ]
  },
  {
   "cell_type": "code",
   "execution_count": 33,
   "metadata": {},
   "outputs": [
    {
     "ename": "NameError",
     "evalue": "name 'M' is not defined",
     "output_type": "error",
     "traceback": [
      "\u001b[0;31m---------------------------------------------------------------------------\u001b[0m",
      "\u001b[0;31mNameError\u001b[0m                                 Traceback (most recent call last)",
      "\u001b[0;32m/tmp/ipykernel_260843/402799969.py\u001b[0m in \u001b[0;36m<module>\u001b[0;34m\u001b[0m\n\u001b[1;32m     10\u001b[0m \u001b[0mplt\u001b[0m\u001b[0;34m.\u001b[0m\u001b[0mscatter\u001b[0m\u001b[0;34m(\u001b[0m\u001b[0mdfx\u001b[0m\u001b[0;34m[\u001b[0m\u001b[0;34m:\u001b[0m\u001b[0;34m-\u001b[0m\u001b[0;36m2\u001b[0m\u001b[0;34m]\u001b[0m\u001b[0;34m,\u001b[0m \u001b[0mdfy\u001b[0m\u001b[0;34m[\u001b[0m\u001b[0;34m:\u001b[0m\u001b[0;34m-\u001b[0m\u001b[0;36m2\u001b[0m\u001b[0;34m]\u001b[0m\u001b[0;34m,\u001b[0m \u001b[0mlw\u001b[0m \u001b[0;34m=\u001b[0m \u001b[0;36m2\u001b[0m\u001b[0;34m,\u001b[0m \u001b[0mls\u001b[0m \u001b[0;34m=\u001b[0m \u001b[0;34m'-'\u001b[0m\u001b[0;34m,\u001b[0m \u001b[0ms\u001b[0m\u001b[0;34m=\u001b[0m\u001b[0;36m1\u001b[0m\u001b[0;34m,\u001b[0m \u001b[0mlabel\u001b[0m\u001b[0;34m=\u001b[0m\u001b[0;34m'Truth Selection \\nBetween Bucket Cut = 8 ns\\nReco x Selection Eff=50% \\n90% CL '\u001b[0m\u001b[0;34m)\u001b[0m\u001b[0;34m\u001b[0m\u001b[0;34m\u001b[0m\u001b[0m\n\u001b[1;32m     11\u001b[0m \u001b[0;31m#-------------------------------------------------------------------\u001b[0m\u001b[0;34m\u001b[0m\u001b[0;34m\u001b[0m\u001b[0m\n\u001b[0;32m---> 12\u001b[0;31m \u001b[0max1\u001b[0m\u001b[0;34m.\u001b[0m\u001b[0mscatter\u001b[0m\u001b[0;34m(\u001b[0m\u001b[0mM\u001b[0m \u001b[0;34m,\u001b[0m \u001b[0msumHistStats\u001b[0m\u001b[0;34m,\u001b[0m \u001b[0mmarker\u001b[0m\u001b[0;34m=\u001b[0m\u001b[0;34m'x'\u001b[0m\u001b[0;34m,\u001b[0m \u001b[0ms\u001b[0m \u001b[0;34m=\u001b[0m \u001b[0;36m300\u001b[0m\u001b[0;34m,\u001b[0m\u001b[0mcolor\u001b[0m \u001b[0;34m=\u001b[0m \u001b[0;34m'green'\u001b[0m\u001b[0;34m,\u001b[0m \u001b[0mlabel\u001b[0m \u001b[0;34m=\u001b[0m \u001b[0;34m\"Sum Bin Stat Uncrt Only\"\u001b[0m\u001b[0;34m)\u001b[0m\u001b[0;34m\u001b[0m\u001b[0;34m\u001b[0m\u001b[0m\n\u001b[0m\u001b[1;32m     13\u001b[0m \u001b[0max1\u001b[0m\u001b[0;34m.\u001b[0m\u001b[0mscatter\u001b[0m\u001b[0;34m(\u001b[0m\u001b[0mM\u001b[0m \u001b[0;34m,\u001b[0m \u001b[0msumHistStatsFlux\u001b[0m\u001b[0;34m,\u001b[0m \u001b[0mmarker\u001b[0m\u001b[0;34m=\u001b[0m\u001b[0;34m'x'\u001b[0m\u001b[0;34m,\u001b[0m \u001b[0ms\u001b[0m \u001b[0;34m=\u001b[0m \u001b[0;36m300\u001b[0m\u001b[0;34m,\u001b[0m\u001b[0mcolor\u001b[0m \u001b[0;34m=\u001b[0m \u001b[0;34m'orange'\u001b[0m\u001b[0;34m,\u001b[0m \u001b[0mlabel\u001b[0m \u001b[0;34m=\u001b[0m \u001b[0;34m\"Sum Bin Stat + Flux Uncrt\"\u001b[0m\u001b[0;34m)\u001b[0m\u001b[0;34m\u001b[0m\u001b[0;34m\u001b[0m\u001b[0m\n\u001b[1;32m     14\u001b[0m \u001b[0;34m\u001b[0m\u001b[0m\n",
      "\u001b[0;31mNameError\u001b[0m: name 'M' is not defined"
     ]
    },
    {
     "data": {
      "image/png": "[encoded data removed]",
      "text/plain": [
       "<Figure size 576x432 with 1 Axes>"
      ]
     },
     "metadata": {
      "needs_background": "light"
     },
     "output_type": "display_data"
    }
   ],
   "source": [
    "fig, ax1 = plt.subplots(1,1, figsize=(8,6))\n",
    "xlimmin = 140\n",
    "xlimmax = 244\n",
    "#-------------------------------------------------------------------\n",
    "\n",
    "\n",
    "#-------------------------------------------------------------------\n",
    "dfx = m_array_nupi0\n",
    "dfy = truth_keptall_eff6\n",
    "plt.scatter(dfx[:-2], dfy[:-2], lw = 2, ls = '-', s=1, label='Truth Selection \\nBetween Bucket Cut = 8 ns\\nReco x Selection Eff=50% \\n90% CL ')\n",
    "#-------------------------------------------------------------------\n",
    "ax1.scatter(M , sumHistStats, marker='x', s = 300,color = 'green', label = \"Sum Bin Stat Uncrt Only\")\n",
    "ax1.scatter(M , sumHistStatsFlux, marker='x', s = 300,color = 'orange', label = \"Sum Bin Stat + Flux Uncrt\")\n",
    "\n",
    "ax1.scatter(M , HistStats, marker='+', s = 300,color = 'green', label = \"Hist Stat Uncrt Only\")\n",
    "ax1.scatter(M , HistStatsUncorrFlux, marker='+', s = 300,color = 'orange', label = \"Hist Stat + Uncorr Flux Uncrt\")\n",
    "ax1.scatter(M , HistStatsUncorrFlux, marker='+', s = 300,color = 'blue', label = \"Hist Quadrature Sum Uncrt\")\n",
    "\n",
    "\n",
    "#-------------------------------------------------------------------\n",
    "plt.xlim(180, 220)\n",
    "plt.ylim(5e-9, 5e-8)\n",
    "ax1.set_yscale('log')\n",
    "plt.legend(loc=\"upper left\", fontsize =14)\n",
    "\n",
    "ax1.set_xlabel( \"HNL Mass [MeV]\", fontsize =14)\n",
    "ax1.set_ylabel(\"|U$_{\\mu4}$|$^2$\", fontsize =14)\n",
    "\n",
    "plt.xticks(fontsize=14)\n",
    "plt.yticks(fontsize=14)\n",
    "#-------------------------------------------------------------------\n",
    "fig.tight_layout()\n",
    "if ifSave:\n",
    "    plt.savefig(savePath+str(\"sensitivity_test.png\"), dpi=200)\n",
    "plt.show()"
   ]
  },
  {
   "cell_type": "code",
   "execution_count": null,
   "metadata": {},
   "outputs": [],
   "source": []
  },
  {
   "cell_type": "code",
   "execution_count": null,
   "metadata": {},
   "outputs": [],
   "source": []
  }
 ],
 "metadata": {
  "kernelspec": {
   "display_name": "Python 3 (ipykernel)",
   "language": "python",
   "name": "python3"
  },
  "language_info": {
   "codemirror_mode": {
    "name": "ipython",
    "version": 3
   },
   "file_extension": ".py",
   "mimetype": "text/x-python",
   "name": "python",
   "nbconvert_exporter": "python",
   "pygments_lexer": "ipython3",
   "version": "3.9.7"
  }
 },
 "nbformat": 4,
 "nbformat_minor": 4
}
