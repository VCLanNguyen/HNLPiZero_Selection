{
 "cells": [
  {
   "cell_type": "code",
   "execution_count": 1,
   "metadata": {},
   "outputs": [],
   "source": [
    "# Add the relevant scripts from LArMachineLearningData\n",
    "# Nice the process so it can run with lots of cores on low priority\n",
    "import os\n",
    "os.nice(20)\n",
    "\n",
    "# Add local paths\n",
    "import sys\n",
    "hnlDIR = os.environ['_']\n",
    "sys.path.append('../pyscript')\n",
    "\n",
    "# From pyscript Library\n",
    "from Plotting import *\n",
    "from Dictionary import *\n",
    "from HelperFunctions import *\n",
    "from CutFunctions import *\n",
    "\n",
    "import pickle\n",
    "import numpy as np\n",
    "import pandas as pd\n",
    "import matplotlib.pyplot as plt\n",
    "\n",
    "import warnings\n",
    "warnings.filterwarnings(\"ignore\")\n",
    "\n",
    "import pyhf\n",
    "from pyhf.contrib.viz import brazil\n",
    "\n",
    "pyhf.set_backend(\"numpy\")"
   ]
  },
  {
   "cell_type": "code",
   "execution_count": 2,
   "metadata": {},
   "outputs": [],
   "source": [
    "ifSave = True\n",
    "savePath = \"../plot_files/07Mar2024_systematics/\""
   ]
  },
  {
   "cell_type": "markdown",
   "metadata": {},
   "source": [
    "<h1> Read in HNL Dictionary </h1>"
   ]
  },
  {
   "cell_type": "code",
   "execution_count": 3,
   "metadata": {},
   "outputs": [],
   "source": [
    "# Load\n",
    "hnl_dict_m140 = np.load('./m140_v2.npy',allow_pickle='TRUE').item()\n",
    "hnl_dict_m200 = np.load('./m200_v2.npy',allow_pickle='TRUE').item()\n",
    "hnl_dict_m240 = np.load('./m240_v2.npy',allow_pickle='TRUE').item()"
   ]
  },
  {
   "cell_type": "code",
   "execution_count": 4,
   "metadata": {},
   "outputs": [],
   "source": [
    "mass_list = [140, 200, 240]"
   ]
  },
  {
   "cell_type": "code",
   "execution_count": 5,
   "metadata": {},
   "outputs": [],
   "source": [
    "hnl_dict = {**hnl_dict_m140, **hnl_dict_m200, **hnl_dict_m240}\n",
    "\n",
    "del hnl_dict_m140\n",
    "del hnl_dict_m200\n",
    "del hnl_dict_m240"
   ]
  },
  {
   "cell_type": "code",
   "execution_count": 6,
   "metadata": {},
   "outputs": [
    {
     "name": "stdout",
     "output_type": "stream",
     "text": [
      "U 8.944271909999159e-08\n",
      "\n",
      "\n",
      "sig [34.000243328300584, 34.88429744154661, 33.95245661948658, 28.934852192961458, 24.08450124732053, 19.568657263447932, 15.387320241343673, 13.810358850150067, 11.636063598655852, 9.70070189128188]\n",
      "\n",
      "\n",
      "sig_stat [5.830972760037606, 5.906293037222807, 5.826873657415835, 5.379112584150053, 4.907596279984788, 4.42364750669037, 3.922667490540547, 3.7162291170149975, 3.4111674832314893, 3.1145949802954926]\n",
      "\n",
      "\n",
      "sig_flx_lo [31.800914975432615, 32.658440371597166, 31.893676088012022, 27.179128941359938, 22.813668829209742, 18.597344434802235, 14.578245061957615, 13.091650360276931, 11.025978368689604, 9.124556193495387]\n",
      "\n",
      "\n",
      "sig_flx_hi [36.19776237311312, 37.23577074585134, 36.260294538984304, 30.978279455198773, 26.024894580689406, 21.289921639355597, 16.80683385374126, 15.102341306084043, 12.730542892312467, 10.546890333195986]\n",
      "\n",
      "\n",
      "sig_flx_quadSum [3.109040873974278, 3.2378799231444226, 3.092683808514903, 2.694097086644968, 2.319513165106783, 1.9764108031632772, 1.6338976533677465, 1.4784317907353421, 1.2530318878887534, 1.0237083297047584]\n",
      "\n",
      "\n",
      "sig_quadSum_lo [27.768286289614462, 28.572503945448172, 27.772567146667086, 23.276458752312806, 19.015032213758747, 15.039628021486731, 11.382083308621432, 10.025269585209834, 8.17076886566721, 6.533266689677944]\n",
      "\n",
      "\n",
      "sig_quadSum_hi [40.23156207160159, 41.24147638683393, 40.21971858003667, 34.68902000151694, 29.361775878747522, 24.31538332624287, 19.5589313374462, 17.744768274268413, 15.21851367128756, 12.928198873543971]\n",
      "\n",
      "\n",
      "sig_quadSum [8.81286683279873, 8.958373807773091, 8.801682019842765, 8.07018360994295, 7.3177280502724855, 6.560755611189642, 5.783101419166707, 5.459530956058135, 4.984196636307376, 4.522099349513527]\n",
      "\n",
      "\n",
      "bkg [225.41037516024076, 112.7051875801204, 0.0, 0.0, 0.0, 0.0, 0.0, 0.0, 0.0, 0.0]\n",
      "\n",
      "\n",
      "bkg_stat [15.013672940364751, 10.616269946648888, 0.0, 0.0, 0.0, 0.0, 0.0, 0.0, 0.0, 0.0]\n",
      "\n",
      "\n",
      "bkg_flx_lo [168.32496974711978, 61.626749198727225, 0.0, 0.0, 0.0, 0.0, 0.0, 0.0, 0.0, 0.0]\n",
      "\n",
      "\n",
      "bkg_flx_hi [245.5258722150973, 133.41533910710294, 0.0, 0.0, 0.0, 0.0, 0.0, 0.0, 0.0, 0.0]\n",
      "\n",
      "\n",
      "bkg_flx_quadSum [60.52583525193456, 55.117304394830086, 0.0, 0.0, 0.0, 0.0, 0.0, 0.0, 0.0, 0.0]\n",
      "\n",
      "\n",
      "bkg_xsec_lo [89.3786730755657, 59.855850135110344, 0.0, 0.0, 0.0, 0.0, 0.0, 0.0, 0.0, 0.0]\n",
      "\n",
      "\n",
      "bkg_xsec_hi [323.0603041719243, 170.50673072206754, 0.0, 0.0, 0.0, 0.0, 0.0, 0.0, 0.0, 0.0]\n",
      "\n",
      "\n",
      "bkg_xsec_quadSum [167.4518814705903, 78.32030935821767, 0.0, 0.0, 0.0, 0.0, 0.0, 0.0, 0.0, 0.0]\n",
      "\n",
      "\n",
      "bkg_g4_lo [221.82095912746703, 112.69312274421003, 0.0, 0.0, 0.0, 0.0, 0.0, 0.0, 0.0, 0.0]\n",
      "\n",
      "\n",
      "bkg_g4_hi [228.96756491619945, 112.71668110005248, 0.0, 0.0, 0.0, 0.0, 0.0, 0.0, 0.0, 0.0]\n",
      "\n",
      "\n",
      "bkg_g4_quadSum [5.053464793211734, 0.016663170945932032, 0.0, 0.0, 0.0, 0.0, 0.0, 0.0, 0.0, 0.0]\n",
      "\n",
      "\n",
      "bkg_quadSum_lo [77.08080371256636, 38.443726047245164, 0.0, 0.0, 0.0, 0.0, 0.0, 0.0, 0.0, 0.0]\n",
      "\n",
      "\n",
      "bkg_quadSum_hi [326.2974696365459, 175.01597384977097, 0.0, 0.0, 0.0, 0.0, 0.0, 0.0, 0.0, 0.0]\n",
      "\n",
      "\n",
      "bkg_quadSum [179.38747893239835, 96.94018132096093, 0.0, 0.0, 0.0, 0.0, 0.0, 0.0, 0.0, 0.0]\n",
      "\n",
      "\n"
     ]
    }
   ],
   "source": [
    "for k, v in hnl_dict[200].items():\n",
    "    print(k ,v)\n",
    "    print('\\n')"
   ]
  },
  {
   "cell_type": "markdown",
   "metadata": {},
   "source": [
    "<h1>Quadrature Sum Uncorr</h1>"
   ]
  },
  {
   "cell_type": "code",
   "execution_count": 7,
   "metadata": {},
   "outputs": [
    {
     "name": "stdout",
     "output_type": "stream",
     "text": [
      "Samples:\n",
      " ['background', 'signal']\n",
      "Modifiers are:\n",
      " [('mu', 'normfactor'), ('uncorr_quadSum_bkg', 'shapesys'), ('uncorr_quadSum_sig', 'shapesys')]\n"
     ]
    }
   ],
   "source": [
    "model_dict = pyhf.Model(\n",
    "        {\n",
    "      \"channels\": [\n",
    "        {\n",
    "          \"name\": \"singlechannel\",\n",
    "          \"samples\": [\n",
    "            {\n",
    "              \"name\": \"signal\",\n",
    "              \"data\": hnl_dict[200]['sig'],\n",
    "              \"modifiers\": [\n",
    "                {\"name\": \"mu\", \"type\": \"normfactor\", \"data\": None}, #This is the scaling which is to be calculated\n",
    "                {\"name\": \"uncorr_quadSum_sig\", \"type\": \"shapesys\", \"data\": hnl_dict[200]['sig_quadSum']},\n",
    "              ]\n",
    "            },\n",
    "            {\n",
    "              \"name\": \"background\",\n",
    "              \"data\": hnl_dict[200]['bkg'],\n",
    "              \"modifiers\": [\n",
    "                {\"name\": \"uncorr_quadSum_bkg\", \"type\": \"shapesys\", \"data\": hnl_dict[200]['bkg_quadSum']},\n",
    "              ]\n",
    "            }\n",
    "          ]\n",
    "        }\n",
    "      ]\n",
    "    }\n",
    "    )\n",
    "\n",
    "print(f'Samples:\\n {model_dict.config.samples}')\n",
    "print(f'Modifiers are:\\n {model_dict.config.modifiers}')\n",
    "\n",
    "# No DATA --> Data == Background\n",
    "\n",
    "data = hnl_dict[200]['bkg'] + model_dict.config.auxdata"
   ]
  },
  {
   "cell_type": "code",
   "execution_count": 8,
   "metadata": {},
   "outputs": [
    {
     "name": "stdout",
     "output_type": "stream",
     "text": [
      "Upper limit (obs): μ = 0.0088\n",
      "Upper limit (exp): μ = 0.0088\n",
      "\n",
      "Expected limit is 8.382018243822478e-09\n",
      "Observed limit is 8.382018243822478e-09\n",
      "\n"
     ]
    }
   ],
   "source": [
    "poi_values = np.linspace(0, 0.1, 50)\n",
    "\n",
    "obs_limit_single, exp_limits_single, (scan, results) = pyhf.infer.intervals.upper_limits.upper_limit(data, \n",
    "                                                                                        model_dict, \n",
    "                                                                                        poi_values, \n",
    "                                                                                        level=0.1, \n",
    "                                                                                        return_results=True)\n",
    "\n",
    "print(f\"Upper limit (obs): μ = {obs_limit_single:.4f}\")\n",
    "print(f\"Upper limit (exp): μ = {exp_limits_single[2]:.4f}\" + \"\\n\")\n",
    "\n",
    "EXP_LIMIT = np.sqrt(exp_limits_single[2]) * hnl_dict[200]['U']\n",
    "LIMIT = np.sqrt(obs_limit_single) * hnl_dict[200]['U']\n",
    "\n",
    "print(f\"Expected limit is \" + str(EXP_LIMIT))\n",
    "print(f\"Observed limit is \" + str(LIMIT)+ \"\\n\")\n",
    "\n",
    "quadSumUncorr = EXP_LIMIT"
   ]
  },
  {
   "cell_type": "code",
   "execution_count": 9,
   "metadata": {},
   "outputs": [
    {
     "data": {
      "image/png": "[encoded data removed]",
      "text/plain": [
       "<Figure size 504x360 with 1 Axes>"
      ]
     },
     "metadata": {
      "needs_background": "light"
     },
     "output_type": "display_data"
    }
   ],
   "source": [
    "poi_vals = np.linspace(0, 0.2, 40)\n",
    "\n",
    "results = [\n",
    "    pyhf.infer.hypotest(\n",
    "        test_poi, data, model_dict, test_stat=\"qtilde\", return_expected_set=True\n",
    "    )\n",
    "    for test_poi in poi_vals\n",
    "]\n",
    "\n",
    "fig, ax = plt.subplots()\n",
    "fig.set_size_inches(7, 5)\n",
    "brazil.plot_results(poi_vals, results, ax=ax, test_size=0.10,)\n",
    "plt.ylim(0.0,0.2)\n",
    "fig.show()"
   ]
  },
  {
   "cell_type": "markdown",
   "metadata": {},
   "source": [
    "<h1> Declare Flux/XSec/G4 As Correlated  </h1>"
   ]
  },
  {
   "cell_type": "code",
   "execution_count": 7,
   "metadata": {},
   "outputs": [],
   "source": [
    "def declare_model(hnl_dict):\n",
    "    model_dict = pyhf.Model(\n",
    "        {\n",
    "      \"channels\": [\n",
    "        {\n",
    "          \"name\": \"singlechannel\",\n",
    "          \"samples\": [\n",
    "            {\n",
    "              \"name\": \"signal\",\n",
    "              \"data\": hnl_dict['sig'],\n",
    "              \"modifiers\": [\n",
    "                #fitting parameter\n",
    "                {\"name\": \"mu\", \"type\": \"normfactor\", \"data\": None}, #This is the scaling which is to be calculated\n",
    "                #stat - uncorrelated\n",
    "                {\"name\": \"stat_uncorr_sig\" , \"type\": \"shapesys\", \"data\": hnl_dict['sig_stat']},\n",
    "                #flux - correlated\n",
    "                {\"name\": \"flux_corr_sig\" , \"type\": \"histosys\", \"data\": {\"lo_data\": hnl_dict['sig_flx_lo'], \"hi_data\": hnl_dict['sig_flx_hi']}},\n",
    "                  \n",
    "              ]\n",
    "            },\n",
    "            {\n",
    "              \"name\": \"background\",\n",
    "              \"data\": hnl_dict['bkg'],\n",
    "              \"modifiers\": [\n",
    "                #stat - uncorrelated\n",
    "                {\"name\": \"stat_uncorr_bkg\" , \"type\": \"shapesys\", \"data\": hnl_dict['bkg_stat']},\n",
    "                #flux - correlated\n",
    "                {\"name\": \"flux_corr_bkg\" , \"type\": \"histosys\", \"data\": {\"lo_data\": hnl_dict['bkg_flx_lo'], \"hi_data\": hnl_dict['bkg_flx_hi']}},\n",
    "                #xsec - correlated\n",
    "                {\"name\": \"xsec_corr_bkg\" , \"type\": \"histosys\", \"data\": {\"lo_data\": hnl_dict['bkg_xsec_lo'], \"hi_data\": hnl_dict['bkg_xsec_hi']}},\n",
    "                #g4 - correlated\n",
    "                {\"name\": \"g4_corr_bkg\" , \"type\": \"histosys\", \"data\": {\"lo_data\": hnl_dict['bkg_g4_lo'], \"hi_data\": hnl_dict['bkg_g4_hi']}},\n",
    "              ]\n",
    "            }\n",
    "          ]\n",
    "        }\n",
    "      ]\n",
    "    }\n",
    "    )\n",
    "\n",
    "    print(f'Samples:\\n {model_dict.config.samples}')\n",
    "    print(f'Modifiers are:\\n {model_dict.config.modifiers}')\n",
    "\n",
    "    # No DATA --> Data == Background\n",
    "\n",
    "    data = hnl_dict['bkg'] + model_dict.config.auxdata\n",
    "    \n",
    "    return model_dict, data"
   ]
  },
  {
   "cell_type": "code",
   "execution_count": 9,
   "metadata": {},
   "outputs": [
    {
     "name": "stdout",
     "output_type": "stream",
     "text": [
      "Fitting mass 140\n",
      "Samples:\n",
      " ['background', 'signal']\n",
      "Modifiers are:\n",
      " [('flux_corr_bkg', 'histosys'), ('flux_corr_sig', 'histosys'), ('g4_corr_bkg', 'histosys'), ('mu', 'normfactor'), ('stat_uncorr_bkg', 'shapesys'), ('stat_uncorr_sig', 'shapesys'), ('xsec_corr_bkg', 'histosys')]\n",
      "\n",
      "Upper limit (obs): μ = 0.0079\n",
      "Upper limit (exp): μ = 0.0079\n",
      "\n",
      "Expected limit is 1.7116392836494651e-07\n",
      "Observed limit is 1.7116392836494651e-07\n",
      "\n",
      "[8.684992781942812e-08, 1.203586452661153e-07, 1.7116392836494651e-07, 2.4758624579254633e-07, 3.450416970163241e-07]\n",
      "Fitting mass 200\n",
      "Samples:\n",
      " ['background', 'signal']\n",
      "Modifiers are:\n",
      " [('flux_corr_bkg', 'histosys'), ('flux_corr_sig', 'histosys'), ('g4_corr_bkg', 'histosys'), ('mu', 'normfactor'), ('stat_uncorr_bkg', 'shapesys'), ('stat_uncorr_sig', 'shapesys'), ('xsec_corr_bkg', 'histosys')]\n",
      "\n",
      "Upper limit (obs): μ = 0.0088\n",
      "Upper limit (exp): μ = 0.0088\n",
      "\n",
      "Expected limit is 8.371627933396566e-09\n",
      "Observed limit is 8.371627933396566e-09\n",
      "\n",
      "[4.364052642159876e-09, 5.838777140990374e-09, 8.371627933396566e-09, 1.2091968714715818e-08, 1.6864465985940882e-08]\n",
      "Fitting mass 240\n",
      "Samples:\n",
      " ['background', 'signal']\n",
      "Modifiers are:\n",
      " [('flux_corr_bkg', 'histosys'), ('flux_corr_sig', 'histosys'), ('g4_corr_bkg', 'histosys'), ('mu', 'normfactor'), ('stat_uncorr_bkg', 'shapesys'), ('stat_uncorr_sig', 'shapesys'), ('xsec_corr_bkg', 'histosys')]\n",
      "\n",
      "Upper limit (obs): μ = 0.0105\n",
      "Upper limit (exp): μ = 0.0105\n",
      "\n",
      "Expected limit is 4.239904305320778e-09\n",
      "Observed limit is 4.239904305320778e-09\n",
      "\n",
      "[2.260359223558565e-09, 2.998990589481418e-09, 4.239904305320778e-09, 6.1497673242842765e-09, 8.575730423514874e-09]\n"
     ]
    }
   ],
   "source": [
    "for m in mass_list:\n",
    "    \n",
    "    print('Fitting mass ' + str(m))\n",
    "    model_dict, data = declare_model(hnl_dict[m])\n",
    "\n",
    "    poi_values = np.linspace(0, 0.1, 50)\n",
    "\n",
    "    obs_limit_single, exp_limits_single, (scan, results) = pyhf.infer.intervals.upper_limits.upper_limit(data, \n",
    "                                                                                        model_dict, \n",
    "                                                                                        poi_values, \n",
    "                                                                                        level=0.1, \n",
    "                                                                                        return_results=True)\n",
    "    print()\n",
    "    print(f\"Upper limit (obs): μ = {obs_limit_single:.4f}\")\n",
    "    print(f\"Upper limit (exp): μ = {exp_limits_single[2]:.4f}\" + \"\\n\")\n",
    "\n",
    "    EXP_LIMIT = np.sqrt(exp_limits_single[2]) * hnl_dict[m]['U']\n",
    "    LIMIT = np.sqrt(obs_limit_single) * hnl_dict[m]['U']\n",
    "\n",
    "    print(f\"Expected limit is \" + str(EXP_LIMIT))\n",
    "    print(f\"Observed limit is \" + str(LIMIT)+ \"\\n\")\n",
    "    \n",
    "    CL_bands = []\n",
    "    for sigma in exp_limits_single:\n",
    "        CL_bands.append(np.sqrt(sigma) * hnl_dict[m]['U'])\n",
    "    \n",
    "    hnl_dict[m]['Limits'] = CL_bands\n",
    "    print(CL_bands)"
   ]
  },
  {
   "cell_type": "code",
   "execution_count": 41,
   "metadata": {},
   "outputs": [
    {
     "name": "stdout",
     "output_type": "stream",
     "text": [
      "1.9235384061671345e-06\n",
      "8.944271909999159e-08\n",
      "4.147288270665544e-08\n"
     ]
    }
   ],
   "source": [
    "for m in mass_list:\n",
    "    print(hnl_dict[m]['U'])"
   ]
  },
  {
   "cell_type": "markdown",
   "metadata": {},
   "source": [
    "<h1>Plot</h1>"
   ]
  },
  {
   "cell_type": "code",
   "execution_count": 14,
   "metadata": {},
   "outputs": [],
   "source": [
    "neg2sigma = []\n",
    "neg1sigma = []\n",
    "expect = []\n",
    "pos1sigma = []\n",
    "pos2sigma = []\n",
    "\n",
    "for m in mass_list:\n",
    "    neg2sigma.append(hnl_dict[m]['Limits'][0])\n",
    "    neg1sigma.append(hnl_dict[m]['Limits'][1])\n",
    "    expect.append(hnl_dict[m]['Limits'][2])\n",
    "    pos1sigma.append(hnl_dict[m]['Limits'][3])\n",
    "    pos2sigma.append(hnl_dict[m]['Limits'][4])\n",
    "    "
   ]
  },
  {
   "cell_type": "code",
   "execution_count": 46,
   "metadata": {},
   "outputs": [
    {
     "data": {
      "image/png": "[encoded data removed]",
      "text/plain": [
       "<Figure size 432x288 with 1 Axes>"
      ]
     },
     "metadata": {
      "needs_background": "light"
     },
     "output_type": "display_data"
    }
   ],
   "source": [
    "fig, ax1 = plt.subplots(1,1, figsize=(6,4))\n",
    "\n",
    "xlimmin = 140\n",
    "xlimmax = 240\n",
    "\n",
    "plt.grid(axis = 'both', color='gainsboro', linestyle = \":\")\n",
    "#-------------------------------------------------------------------\n",
    "ax1.plot(mass_list, neg2sigma, color = 'black', linestyle = ':')\n",
    "ax1.plot(mass_list, neg1sigma, color = 'black', linestyle = ':')\n",
    "ax1.plot(mass_list, pos1sigma, color = 'black', linestyle = ':')\n",
    "ax1.plot(mass_list, pos2sigma, color = 'black', linestyle = ':')\n",
    "\n",
    "\n",
    "ax1.plot(mass_list, expect, color = 'black', linestyle = '-', label = r'CL$_{s, expected}$')\n",
    "#-------------------------------------------------------------------\n",
    "\n",
    " \n",
    "ax1.fill_between(mass_list, neg2sigma, pos2sigma, color = 'yellow', label = r'$\\pm 2 \\sigma$ CL$_{s}$')\n",
    "ax1.fill_between(mass_list, neg1sigma, pos1sigma, color = 'green', label = r'$\\pm 1 \\sigma$ CL$_{s}$')   \n",
    "\n",
    "#-------------------------------------------------------------------\n",
    "#plt.xlim(180, 220)\n",
    "plt.ylim(1e-9, 1e-6)\n",
    "ax1.set_yscale('log')\n",
    "\n",
    "plt.legend(loc=\"upper right\", fontsize =14)\n",
    "\n",
    "ax1.set_xlabel( \"HNL Mass [MeV]\", fontsize =14)\n",
    "ax1.set_ylabel(\"|U$_{\\mu4}$|$^2$\", fontsize =14)\n",
    "\n",
    "plt.xticks(fontsize=14)\n",
    "plt.yticks(fontsize=14)\n",
    "\n",
    "#-------------------------------------------------------------------\n",
    "fig.tight_layout()\n",
    "if ifSave:\n",
    "    plt.savefig(savePath+str(\"sensitivity_test.png\"), dpi=200)\n",
    "plt.show()"
   ]
  },
  {
   "cell_type": "code",
   "execution_count": null,
   "metadata": {},
   "outputs": [],
   "source": []
  }
 ],
 "metadata": {
  "kernelspec": {
   "display_name": "Python 3 (ipykernel)",
   "language": "python",
   "name": "python3"
  },
  "language_info": {
   "codemirror_mode": {
    "name": "ipython",
    "version": 3
   },
   "file_extension": ".py",
   "mimetype": "text/x-python",
   "name": "python",
   "nbconvert_exporter": "python",
   "pygments_lexer": "ipython3",
   "version": "3.9.7"
  }
 },
 "nbformat": 4,
 "nbformat_minor": 4
}
